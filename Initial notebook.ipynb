{
 "cells": [
  {
   "cell_type": "markdown",
   "metadata": {
    "kernel": "Python3"
   },
   "source": [
    "# Reference region and input function tail (RRIFT) method"
   ]
  },
  {
   "cell_type": "markdown",
   "metadata": {
    "kernel": "SoS"
   },
   "source": [
    "<img src=\"images/NotebookFactory.png\">"
   ]
  },
  {
   "cell_type": "code",
   "execution_count": null,
   "metadata": {
    "kernel": "Python3",
    "scrolled": false
   },
   "outputs": [],
   "source": [
    "from IPython.display import HTML\n",
    "\n",
    "HTML('''<script>\n",
    "code_show=true; \n",
    "function code_toggle() {\n",
    " if (code_show){\n",
    " $('div.input').hide();\n",
    " } else {\n",
    " $('div.input').show();\n",
    " }\n",
    " code_show = !code_show\n",
    "} \n",
    "$( document ).ready(code_toggle);\n",
    "</script>\n",
    "<form action=\"javascript:code_toggle()\"><input type=\"submit\" value=\"Click here to toggle on/off the raw code.\"></form>''')"
   ]
  },
  {
   "cell_type": "markdown",
   "metadata": {
    "kernel": "Python3"
   },
   "source": [
    "## Table of Contents\n",
    "\n",
    "1. [Introduction](#introduction)\n",
    "\n",
    "2. [Abstract](#abstract)\n",
    "\n",
    "3. [Imports](#imports)\n",
    "\n",
    "4. [Figures](#figures)\n",
    "\n",
    "    1. [Figure 1](#figure-1)\n",
    "    \n",
    "        1. [Reference Tissue](#reference-tissue)\n",
    "        \n",
    "        2. [Tissue of Interest](#tissue-of-interest)\n",
    "        \n",
    "        3. [Input Function](#input-function)\n",
    "        \n",
    "        4. [RRIFT Fit](#rrift-fit)\n",
    "        \n",
    "    2. [Figure 2](#figure-2)\n",
    "        \n",
    "        1. [$K_{trans}$](#fig-2-1)\n",
    "        \n",
    "        2. [$V_{e}$](#fig-2-2)\n",
    "        \n",
    "        3. [$V_{p}$](#fig-2-3)\n",
    "        \n",
    "    3. [Figure 3](#figure-3)\n",
    "    \n",
    "        1. [$\\widehat{k_{ep,RR}}$](#fig-3-1)\n",
    "        \n",
    "        2. [$K^{trans}_{RR}$](#fig-3-2)\n",
    "    \n",
    "        3. [$K_{e, RR}$](#fig-3-3)"
   ]
  },
  {
   "cell_type": "markdown",
   "metadata": {
    "kernel": "MATLAB"
   },
   "source": [
    "# Introduction <a name=\"introduction\"></a>\n",
    "\n",
    "This is a jupyter notebook that introduces interactive plots created in plotly from some of figures in the paper [Pharmacokinetic modeling of dynamic contrast‐enhanced MRI using a reference region and input function tail](https://onlinelibrary.wiley.com/doi/abs/10.1002/mrm.27913). \n",
    "\n",
    "Link to the paper's GitHub repository: https://github.com/MPUmri/RRIFT\n",
    "\n",
    "GitHub link to this notebook: https://github.com/Notebook-Factory/RRFIT_notebooks\n"
   ]
  },
  {
   "cell_type": "markdown",
   "metadata": {
    "kernel": "SoS"
   },
   "source": [
    "# Abstract <a name=\"abstract\"></a>\n",
    "\n",
    "###  Purpose\n",
    "Quantitative analysis of dynamic contrast‐enhanced MRI (DCE‐MRI) requires an arterial input function (AIF) which is difficult to measure. We propose the reference region and input function tail (RRIFT) approach which uses a reference tissue and the washout portion of the AIF.\n",
    "\n",
    "### Methods\n",
    "RRIFT was evaluated in simulations with 100 parameter combinations at various temporal resolutions (5‐30 s) and noise levels (σ = 0.01‐0.05 mM). RRIFT was compared against the extended Tofts model (ETM) in 8 studies from patients with glioblastoma multiforme. Two versions of RRIFT were evaluated: one using measured patient‐specific AIF tails, and another assuming a literature‐based AIF tail.\n",
    "\n",
    "### Results\n",
    "RRIFT estimated the transfer constant $K^{trans}$ and interstitial volume $V_{e}$ with median errors within 20% across all simulations. RRIFT was more accurate and precise than the ETM at temporal resolutions slower than 10 s. The percentage error of $K^{trans}$ had a median and interquartile range of −9 ± 45% with the ETM and −2 ± 17% with RRIFT at a temporal resolution of 30 s under noiseless conditions. RRIFT was in excellent agreement with the ETM in vivo, with concordance correlation coefficients (CCC) of 0.95 for $K^{trans}$, 0.96 for $V_{e}$, and 0.73 for the plasma volume $V_{p}$ using a measured AIF tail. With the literature‐based AIF tail, the CCC was 0.89 for $K^{trans}$, 0.93 for $V_{e}$ and 0.78 for $V_{p}$.\n",
    "\n",
    "### Conclusions\n",
    "Quantitative DCE‐MRI analysis using the input function tail and a reference tissue yields absolute kinetic parameters with the RRIFT method. This approach was viable in simulation and in vivo for temporal resolutions as low as 30 s."
   ]
  },
  {
   "cell_type": "markdown",
   "metadata": {
    "kernel": "SoS"
   },
   "source": [
    "## Imports <a name=\"imports\"></a>"
   ]
  },
  {
   "cell_type": "code",
   "execution_count": 1,
   "metadata": {
    "kernel": "SoS"
   },
   "outputs": [],
   "source": [
    "import plotly.express as px\n",
    "import plotly.graph_objects as go\n",
    "import numpy as np\n",
    "from scipy import stats\n",
    "import statsmodels.api as sm\n",
    "import pandas as pd\n",
    "from itertools import cycle\n",
    "import itertools\n",
    "from pandas.core.common import flatten\n",
    "from plotly.subplots import make_subplots"
   ]
  },
  {
   "cell_type": "markdown",
   "metadata": {
    "kernel": "SoS"
   },
   "source": [
    "# Figures <a name=\"figures\"></a>\n",
    "\n",
    "## Figure 1 <a name=\"figure-1\"></a>\n"
   ]
  },
  {
   "cell_type": "code",
   "execution_count": null,
   "metadata": {
    "kernel": "MATLAB",
    "scrolled": true
   },
   "outputs": [],
   "source": [
    "%% Initialize\n",
    "addpath('RRIFT/mfiles')\n",
    "clearvars\n",
    "\n",
    "rng(12345)\n",
    "load('RRIFT/data/simMap.mat');\n",
    "sigmaC = 0.03; % StdDev of noise (in units of mM)\n",
    "TRes = 5; % Temporal resolution (in seconds)\n",
    "\n",
    "% Properties for the simulated reference tissue\n",
    "ktRR = 0.07; % Ktrans of ref.tissue, in units of 1/min\n",
    "kepRR = 0.5; % kep of ref.tissue, in units of 1/min\n",
    "veRR = ktRR/kepRR;\n",
    "Crr = ToftsKety(Cp,[ktRR,kepRR],t);\n",
    "%% Downsample and Add noise\n",
    "Ct = downsample(simCt, TRes./initTRes);\n",
    "Cp = downsample(Cp, TRes./initTRes);\n",
    "Crr = downsample(Crr, TRes./initTRes);\n",
    "t = downsample(t, TRes./initTRes);\n",
    "\n",
    "[sT sX sY] = size(Ct);\n",
    "Ct = reshape(Ct,[sT sX*sY]);\n",
    "Ct = Ct + sigmaC * randn(size(Ct));\n",
    "Cp = Cp + sigmaC * randn(size(Cp)) / (1-0.35);\n",
    "Crr = Crr + 0.1 * sigmaC * randn(size(Crr));\n",
    "%% Pick four voxels and fit them\n",
    "% Chosen voxels (tried to avoid overlap of curves in figure)\n",
    "idx = [5, 28, 53, 98];\n",
    "\n",
    "% Fit the chosen voxels with CERRM\n",
    "[pkCE, ~, estKepRR] = CERRM(Ct(:,idx),Crr,t);\n",
    "\n",
    "% Use RRIFT, with AIF tail starting at 3 minutes into acquisition\n",
    "fTail = find(t>3, 1);\n",
    "[estKtRR, num, denum] = RRIFT(Cp(fTail:end), Crr(fTail:end), t(fTail:end), estKepRR);"
   ]
  },
  {
   "cell_type": "markdown",
   "metadata": {
    "kernel": "SoS"
   },
   "source": [
    "* (A) Reference Tissue <a name=\"reference-tissue\"></a>"
   ]
  },
  {
   "cell_type": "code",
   "execution_count": null,
   "metadata": {
    "kernel": "SoS",
    "scrolled": false
   },
   "outputs": [],
   "source": [
    "%get Crr --from MATLAB\n",
    "%get Ct --from MATLAB\n",
    "%get Cp --from MATLAB\n",
    "%get t --from MATLAB\n",
    "%get idx --from MATLAB\n",
    "%get estKepRR --from MATLAB\n",
    "%get pkCE --from MATLAB\n",
    "%get denum --from MATLAB\n",
    "%get num --from MATLAB\n",
    "\n",
    "\n",
    "# ======================================= First subplot ===================================================================================\n",
    "\n",
    "sub1 = go.Figure()\n",
    "\n",
    "# sub1.add_trace(go.Scatter(x=t,y=Crr,mode='lines',line_color='#41B3A8')\n",
    "\n",
    "sub1.add_trace(go.Scatter(x=t, y=Crr,\n",
    "                    mode='lines', line_color='#41B3A8'))\n",
    "\n",
    "sub1.update_layout(title='(A) Reference Tissue',\n",
    "                   xaxis_title='Time [min]',\n",
    "                   yaxis_title=r'Concentration [mM]',\n",
    "                   plot_bgcolor=\"#fff\",\n",
    "                   xaxis=dict(showline=True,\n",
    "                              range=[0, 10],\n",
    "                              tickvals=[0, 1, 2, 3, 4, 5, 6, 7, 8, 9, 10]),\n",
    "                   yaxis=dict(showline=True, \n",
    "                              range=[-0.01, 0.25], #the range from zero cuts out some values off\n",
    "                              tickvals=[0, 0.05, 0.10, 0.15, 0.20, 0.25]),\n",
    "                   \n",
    "                 )\n",
    "\n",
    "sub1.add_annotation(text=r'$K_{RR}^{trans}\\space0.007\\min{}^{-1}\\\\K_{ep, RR}\\space0.50 \\min{}^{-1}$',\n",
    "                  xref=\"paper\", yref=\"paper\",\n",
    "                  x=0.8, y=0.1, showarrow=False, font = dict(size = 26))\n",
    "               \n",
    "sub1.show()"
   ]
  },
  {
   "cell_type": "markdown",
   "metadata": {
    "kernel": "SoS"
   },
   "source": [
    "* (B) Tissue of Interest <a name=\"tissue-of-interest\"></a>"
   ]
  },
  {
   "cell_type": "code",
   "execution_count": null,
   "metadata": {
    "kernel": "SoS",
    "scrolled": false
   },
   "outputs": [],
   "source": [
    "%get Ct --from MATLAB\n",
    "%get t --from MATLAB\n",
    "%get idx --from MATLAB\n",
    "%get estKepRR --from MATLAB\n",
    "%get pkCE --from MATLAB\n",
    "\n",
    "\n",
    "# Matlab's indexing starts at 1, whereas Python's starts from 0, so we need to\n",
    "# lower all the indexes in idx by one to match the approprate data from the array\n",
    "\n",
    "for i in range(idx.size):\n",
    "    idx[i] = idx[i]-1\n",
    "\n",
    "    \n",
    "fig = go.Figure()\n",
    "\n",
    "palette_lines = cycle(px.colors.qualitative.Plotly)\n",
    "palette_labels = cycle(px.colors.qualitative.Plotly)\n",
    "line_colours = cycle(['#292348','#585E9A','#88A8D5','#83C9C4'])\n",
    "pkCE_index = cycle([4, 9, 14, 19])\n",
    "\n",
    "pkCE_reshaped = np.ravel(pkCE)\n",
    "\n",
    "\n",
    "for el in idx:\n",
    "    reshaped_Ct = np.reshape(Ct[:,el], 120)\n",
    "    final_Ct = np.squeeze(np.asarray(reshaped_Ct))\n",
    "    trace_label = round(pkCE_reshaped[next(pkCE_index)], 3)\n",
    "    fig.add_trace(go.Scatter(name=str(trace_label),\n",
    "                             x=t, \n",
    "                             y=final_Ct, \n",
    "                             mode='lines',\n",
    "                             line_color=next(line_colours)))\n",
    "\n",
    "fig.update_layout(title='(B) Tissue of Interest',\n",
    "                   xaxis=dict(title='Time [min]',\n",
    "                              showline=True,\n",
    "                              range=[0, 10],\n",
    "                              tickvals=[0, 1, 2, 3, 4, 5, 6, 7, 8, 9, 10]),\n",
    "                   yaxis=dict(title='Concentration [mM]',\n",
    "                              showline=True,\n",
    "                              range=[-0.1, 1.5],\n",
    "                              tickvals=[0, 0.5, 1, 1.5]),\n",
    "                   plot_bgcolor=\"#fff\",\n",
    ")\n",
    "\n",
    "fig.add_annotation(text=r'$Estimate \\space k_{ep, RR} \\space (min^{-1})$',\n",
    "                  xref=\"paper\", yref=\"paper\",\n",
    "                  x=0.8, y=0.8, showarrow=False, font = dict(size = 26))\n",
    "\n",
    "\n",
    "fig.show()"
   ]
  },
  {
   "cell_type": "markdown",
   "metadata": {
    "kernel": "SoS"
   },
   "source": [
    "* (C) Input Function <a name=\"input-function\"></a>"
   ]
  },
  {
   "cell_type": "code",
   "execution_count": null,
   "metadata": {
    "kernel": "SoS"
   },
   "outputs": [],
   "source": [
    "%get t --from MATLAB\n",
    "%get Cp --from MATLAB\n",
    "\n",
    "fig = go.Figure()\n",
    "\n",
    "fig.add_trace(go.Scatter(x=t, \n",
    "                         y=Cp, \n",
    "                         mode='lines',\n",
    "                         line_color='red'))\n",
    "\n",
    "fig.update_layout(title='(C) Input Function',\n",
    "                   xaxis_title='Time [min]',\n",
    "                   yaxis_title='Concentration [mM]',\n",
    "                   xaxis_range=[0,10],\n",
    "                   yaxis_range=[-0.1,11],\n",
    "                   plot_bgcolor=\"#fff\",\n",
    ")\n",
    "\n",
    "#Adding a shape region\n",
    "fig.add_vrect(\n",
    "    x0=3, x1=10,\n",
    "    fillcolor=\"LightGray\", opacity=0.5,\n",
    "    layer=\"below\", line_width=0,\n",
    "    annotation=dict(text=\"Input Function Tail\",\n",
    "                  xref=\"x2 domain\", yref=\"y2 domain\",\n",
    "                  xanchor=\"right\", yanchor=\"top\", \n",
    "                  xshift=-140, yshift=-100,\n",
    "                  showarrow=False, font=dict(size=20, color='black'))\n",
    ")\n",
    "\n",
    "# T_{tail}\n",
    "# An arrow for T_{tail} that points to the right side of the highlighted region\n",
    "fig.add_annotation(\n",
    "    x=10,  # arrows' head\n",
    "    y=5,  # arrows' head\n",
    "    ax=3, # arrows' tail\n",
    "    ay=5,  # arrows' tail\n",
    "    xref='x',\n",
    "    yref='y',\n",
    "    axref='x',\n",
    "    ayref='y',\n",
    "    text='',  # if you want only the arrow\n",
    "    showarrow=True,\n",
    "    arrowhead=3,\n",
    "    arrowsize=2,\n",
    "    arrowwidth=2,\n",
    "    arrowcolor='black'\n",
    ")\n",
    "\n",
    "# An arrow for T_{tail} that points to the left side of the highlighted region\n",
    "fig.add_annotation(\n",
    "    x=3,  # arrows' head\n",
    "    y=5,  # arrows' head\n",
    "    ax=10, # arrows' tail\n",
    "    ay=5,  # arrows' tail\n",
    "    xref='x',\n",
    "    yref='y',\n",
    "    axref='x',\n",
    "    ayref='y',\n",
    "    text='',  # if you want only the arrow\n",
    "    showarrow=True,\n",
    "    arrowhead=3,\n",
    "    arrowsize=2,\n",
    "    arrowwidth=2,\n",
    "    arrowcolor='black'\n",
    ")\n",
    "\n",
    "# Text annotation for T_{tail} below the arrows\n",
    "fig.add_annotation(  \n",
    "    x=6.5,\n",
    "    y=4.6,\n",
    "    text=r'$T_{tail}$',\n",
    "    xanchor=\"center\", yanchor=\"top\", \n",
    "    showarrow=False, font=dict(size=20, color='black'))\n",
    "\n",
    "\n",
    "# T_{start}\n",
    "# An arrow for T_{start}\n",
    "fig.add_annotation(\n",
    "    x=3,  # arrows' head\n",
    "    y=0,  # arrows' head\n",
    "    ax=3, # arrows' tail\n",
    "    ay=2,  # arrows' tail\n",
    "    xref='x',\n",
    "    yref='y',\n",
    "    axref='x',\n",
    "    ayref='y',\n",
    "    text=r'$T_{start}$',\n",
    "    font=dict(size=16, color='black'),\n",
    "    showarrow=True,\n",
    "    arrowhead=3,\n",
    "    arrowsize=1,\n",
    "    arrowwidth=2,\n",
    "    arrowcolor='black'\n",
    ")\n",
    "\n",
    "# T_{end}\n",
    "# An arrow for T_{end}\n",
    "fig.add_annotation(\n",
    "    x=10,  # arrows' head\n",
    "    y=0,  # arrows' head\n",
    "    ax=10, # arrows' tail\n",
    "    ay=2,  # arrows' tail\n",
    "    xref='x',\n",
    "    yref='y',\n",
    "    axref='x',\n",
    "    ayref='y',\n",
    "    text=r'$T_{end}$',\n",
    "    font=dict(size=16, color='black'),\n",
    "    showarrow=True,\n",
    "    arrowhead=3,\n",
    "    arrowsize=1,\n",
    "    arrowwidth=2,\n",
    "    arrowcolor='black'\n",
    ")\n",
    "\n",
    "\n",
    "fig.update_xaxes(tick0=0, dtick=1)\n",
    "fig.show()"
   ]
  },
  {
   "cell_type": "markdown",
   "metadata": {
    "kernel": "SoS"
   },
   "source": [
    "* (D) RRIFT Fit <a name=\"rrift-fit\"></a>"
   ]
  },
  {
   "cell_type": "code",
   "execution_count": null,
   "metadata": {
    "kernel": "SoS",
    "scrolled": false
   },
   "outputs": [],
   "source": [
    "%get denum --from MATLAB\n",
    "%get num --from MATLAB\n",
    "\n",
    "line_fit = sm.OLS(num ,sm.add_constant(denum)).fit().fittedvalues\n",
    "\n",
    "fig=go.Figure()\n",
    "fig.add_trace(go.Scatter(name=\"Markers\",\n",
    "                         x=denum, \n",
    "                         y=num, \n",
    "                         mode='markers',\n",
    "                         marker_symbol=\"circle-open\", \n",
    "                         marker_size=14, \n",
    "                         marker_color='red'))\n",
    "fig.add_trace(go.Scatter(name=\"Linear Fit\",\n",
    "                         x=denum, \n",
    "                         y=line_fit, \n",
    "                         mode='lines',\n",
    "                         line_color=\"black\"))\n",
    "\n",
    "fig.add_annotation(text=r'$Slope | K_{RR}^{trans}: 0.071\\space min^{-1}\\\\R^{2}:0.9996$',\n",
    "                  xref=\"paper\", yref=\"paper\",\n",
    "                  x=0.9, y=0.1, showarrow=False, font = dict(size = 26))\n",
    "\n",
    "fig.update_layout(title='(D) RRIFT Fit',\n",
    "                   xaxis_title='Denominator [mM * min]',\n",
    "                   yaxis_title='Numerator [mM]',\n",
    "                   xaxis=dict(showline=True,\n",
    "                              range=[-0.1,7],\n",
    "                              tickvals=[0, 1, 2, 3, 4, 5, 6, 7]),\n",
    "                   yaxis=dict(showline=True,\n",
    "                              range=[-0.015,0.5],\n",
    "                              tickvals=[0, 0.1, 0.2, 0.3, 0.4, 0.5]),\n",
    "                   plot_bgcolor=\"#fff\",\n",
    ")\n",
    "\n",
    "fig.show()\n"
   ]
  },
  {
   "cell_type": "markdown",
   "metadata": {
    "kernel": "MATLAB"
   },
   "source": [
    "## Figure 2 <a name=\"figure-2\"></a>"
   ]
  },
  {
   "cell_type": "code",
   "execution_count": null,
   "metadata": {
    "kernel": "MATLAB",
    "scrolled": true
   },
   "outputs": [],
   "source": [
    "%% This code contains the variables for both figure 2 and 3\n",
    "\n",
    "addpath('RRIFT/mfiles')\n",
    "clearvars\n",
    "\n",
    "load('RRIFT/data/simMap.mat');\n",
    "load('RRIFT/data/simResults.mat');\n",
    "%%\n",
    "[nVox nP nRep nRes nSig] = size(params.CERRM);\n",
    "\n",
    "pkCE = reshape(params.CERRM,[nVox 5 nRep*nRes*nSig]);\n",
    "pkET = reshape(params.ETM,[nVox 3 nRep*nRes*nSig]);\n",
    "pkCE = permute(pkCE,[1 3 2]);\n",
    "pkET = permute(pkET,[1 3 2]);\n",
    "%%\n",
    "rrKt = repmat(estKtRR(:),[1 nVox])';\n",
    "rrKep = repmat(estKepRRS(:),[1 nVox])';\n",
    "rrVe = rrKt./rrKep;\n",
    "%%\n",
    "errKtCE = PercentError(pkCE(:,:,1).*rrKt,trueKt(:));\n",
    "errVeCE = PercentError(pkCE(:,:,2).*rrVe,trueVe(:));\n",
    "errVpCE = PercentError(pkCE(:,:,4).*rrKt,trueVp(:));\n",
    "\n",
    "errKtET = PercentError(pkET(:,:,1),trueKt(:));\n",
    "errVeET = PercentError(pkET(:,:,1)./pkET(:,:,2),trueVe(:));\n",
    "errVpET = PercentError(pkET(:,:,3),trueVp(:));\n",
    "%%\n",
    "errKtCE = reshape(errKtCE,[nVox*nRep nRes nSig]);\n",
    "errVeCE = reshape(errVeCE,[nVox*nRep nRes nSig]);\n",
    "errVpCE = reshape(errVpCE,[nVox*nRep nRes nSig]);\n",
    "\n",
    "errKtET = reshape(errKtET,[nVox*nRep nRes nSig]);\n",
    "errVeET = reshape(errVeET,[nVox*nRep nRes nSig]);\n",
    "errVpET = reshape(errVpET,[nVox*nRep nRes nSig]);\n",
    "%%\n",
    "errKepRR = PercentError(reshape(estKepRRS,[nRep nRes*nSig]),kepRR);\n",
    "errKtRR = PercentError(reshape(estKtRR,[nRep nRes*nSig]),ktRR);\n",
    "errVeRR = PercentError(reshape(estKtRR./estKepRRS,[nRep nRes*nSig]),veRR);\n",
    "\n",
    "errKepRRD = PercentError(reshape(estKepRRS,[nRep nRes*nSig]),kepRR);\n",
    "errKtRRD = PercentError(reshape(estKtRRD,[nRep nRes*nSig]),ktRR);\n",
    "errVeRRD = PercentError(reshape(estKtRRD./estKepRRS,[nRep nRes*nSig]),veRR);\n",
    "\n",
    "errKepRR = reshape(errKepRR,[nRep nRes nSig]);\n",
    "errKtRR = reshape(errKtRR,[nRep nRes nSig]);\n",
    "errVeRR = reshape(errVeRR,[nRep nRes nSig]);\n",
    "\n",
    "errKepRRD = reshape(errKepRRD,[nRep nRes nSig]);\n",
    "errKtRRD = reshape(errKtRRD,[nRep nRes nSig]);\n",
    "errVeRRD = reshape(errVeRRD,[nRep nRes nSig]);\n",
    "%%\n",
    "errKtCE = shiftdim(errKtCE,1);\n",
    "errVeCE = shiftdim(errVeCE,1);\n",
    "errVpCE = shiftdim(errVpCE,1);\n",
    "\n",
    "errKtET = shiftdim(errKtET,1);\n",
    "errVeET = shiftdim(errVeET,1);\n",
    "errVpET = shiftdim(errVpET,1);\n",
    "\n",
    "errKepRR = shiftdim(errKepRR,1);\n",
    "errKtRR = shiftdim(errKtRR,1);\n",
    "errVeRR = shiftdim(errVeRR,1);\n",
    "\n",
    "errKepRRD = shiftdim(errKepRRD,1);\n",
    "errKtRRD = shiftdim(errKtRRD,1);\n",
    "errVeRRD = shiftdim(errVeRRD,1);\n",
    "\n",
    "%% Median/IQR RR\n",
    "cSize = 10;\n",
    "iList = 1:4;\n",
    "\n",
    "%% FIRST SUBFIGURE\n",
    "curErr = errKepRR;\n",
    "errQt = quantile(curErr,[.25 .75],3);\n",
    "errMd = median(curErr,3);\n",
    "\n",
    "%% SECOND SUBFIGURE\n",
    "curErr1 = errKtRR;\n",
    "errQt1 = quantile(curErr1,[.25 .75],3);\n",
    "errMd1 = median(curErr1,3);\n",
    "\n",
    "%% THIRD SUBFIGURE\n",
    "curErr2 = errVeRR;\n",
    "errQt2 = quantile(curErr2,[.25 .75],3);\n",
    "errMd2 = median(curErr2,3);\n",
    "\n",
    "curErr3 = errKtCE;\n",
    "errQt3 = quantile(curErr3,[.25 .75],3);\n",
    "errMd3 = median(curErr3,3);\n",
    "\n",
    "curErr4 = errVeCE;\n",
    "errQt4 = quantile(curErr4,[.25 .75],3);\n",
    "errMd4 = median(curErr4,3);\n",
    "\n",
    "curErr5 = errVpCE;\n",
    "errQt5 = quantile(curErr5,[.25 .75],3);\n",
    "errMd5 = median(curErr5,3);"
   ]
  },
  {
   "cell_type": "code",
   "execution_count": null,
   "metadata": {
    "kernel": "SoS",
    "scrolled": false
   },
   "outputs": [],
   "source": [
    "%get listSigmaC --from MATLAB\n",
    "%get curErr3 --from MATLAB\n",
    "%get errQt3 --from MATLAB\n",
    "%get errMd3 --from MATLAB\n",
    "%get curErr4 --from MATLAB\n",
    "%get errQt4 --from MATLAB\n",
    "%get errMd4 --from MATLAB\n",
    "%get curErr5 --from MATLAB\n",
    "%get errQt5 --from MATLAB\n",
    "%get errMd5 --from MATLAB\n",
    "\n",
    "\n",
    "fig = make_subplots(rows=1, cols=3, \n",
    "                    subplot_titles=(r'$K^{trans}$', r'$V_{e}$', r'$V_{p}$'))\n",
    "\n",
    "legend_values=cycle(['5','10','15','30'])\n",
    "\n",
    "# First subplot \n",
    "line_colours = cycle(['#253494','#2C7fB8','#41B6C4','#A1DAB4'])\n",
    "\n",
    "for i in range(0,4):\n",
    "    finalErrMd3=np.squeeze(np.asarray((np.reshape(errMd3[i,:], 6))))\n",
    "    # take another look here - is it errorQt[i,:,1] because MATLAB indexing starts from 1,\n",
    "    # or is it just like in MATLAB?\n",
    "    finalErrorDiff3=np.squeeze(np.asarray((np.reshape(abs(errQt3[i,:,0]-errMd3[i,:]), 6))))\n",
    "    finalErrorDiffMinus3=np.squeeze(np.asarray((np.reshape(abs(errQt3[i,:,1]-errMd3[i,:]), 6))))\n",
    "    fig.append_trace(go.Scatter(\n",
    "        x=listSigmaC,\n",
    "        y=finalErrMd3,\n",
    "        showlegend=False,\n",
    "        error_y=dict(\n",
    "            type='data', # value of error bar given in data coordinates\n",
    "            array=finalErrorDiff3,\n",
    "            arrayminus=finalErrorDiffMinus3,\n",
    "            symmetric=False,\n",
    "            visible=True,\n",
    "            thickness=4),\n",
    "        name=next(legend_values),\n",
    "        legendgroup=i,\n",
    "        line_color=next(line_colours),\n",
    "        line_width=4\n",
    "    ),row=1, col=1)\n",
    "    \n",
    "\n",
    "\n",
    "# Second subplot\n",
    "\n",
    "line_colours = cycle(['#253494','#2C7fB8','#41B6C4','#A1DAB4'])\n",
    "\n",
    "for i in range(0,4):\n",
    "    finalErrMd4=np.squeeze(np.asarray((np.reshape(errMd4[i,:], 6))))\n",
    "    \n",
    "    finalErrorDiff4=np.squeeze(np.asarray((np.reshape(abs(errQt4[i,:,0]-errMd4[i,:]), 6))))\n",
    "    finalErrorDiffMinus4=np.squeeze(np.asarray((np.reshape(abs(errQt4[i,:,1]-errMd4[i,:]), 6))))\n",
    "    fig.append_trace(go.Scatter(\n",
    "        x=listSigmaC,\n",
    "        y=finalErrMd4,\n",
    "        showlegend=False,\n",
    "        error_y=dict(\n",
    "            type='data', # value of error bar given in data coordinates\n",
    "            array=finalErrorDiff4,\n",
    "            arrayminus=finalErrorDiffMinus4,\n",
    "            symmetric=False,\n",
    "            visible=True,\n",
    "            thickness=4),\n",
    "        name=next(legend_values),\n",
    "        legendgroup=i,\n",
    "        line_color=next(line_colours),\n",
    "        line_width=4       \n",
    "    ),row=1, col=2)\n",
    "\n",
    "\n",
    "# Third subplot\n",
    "    \n",
    "\n",
    "\n",
    "line_colours = cycle(['#253494','#2C7fB8','#41B6C4','#A1DAB4'])\n",
    "\n",
    "for i in range(0,4):\n",
    "    finalErrMd5=np.squeeze(np.asarray((np.reshape(errMd5[i,:], 6))))\n",
    "    finalErrorDiff5=np.squeeze(np.asarray((np.reshape(abs(errQt5[i,:,0]-errMd5[i,:]), 6))))\n",
    "    finalErrorDiffMinus5=np.squeeze(np.asarray((np.reshape(abs(errQt5[i,:,1]-errMd5[i,:]), 6))))\n",
    "    fig.add_trace(go.Scatter(\n",
    "        x=listSigmaC,\n",
    "        y=finalErrMd5,\n",
    "        error_y=dict(\n",
    "            type='data', # value of error bar given in data coordinates\n",
    "            array=finalErrorDiff5,\n",
    "            arrayminus=finalErrorDiffMinus5,\n",
    "            symmetric=False,\n",
    "            visible=True,\n",
    "            thickness=4),\n",
    "        name=next(legend_values),\n",
    "        legendgroup=i,\n",
    "        showlegend=True,\n",
    "        line_color=next(line_colours),\n",
    "        line_width=4\n",
    "    ),row=1, col=3)\n",
    "\n",
    "\n",
    "\n",
    "fig.update_xaxes(title_text=r'$\\sigma_{noise}[Mm]$')\n",
    "fig.update_yaxes(range=[-50,50], tickvals=[-50, -40, -30, -20, -10, 0, 10, 20, 30, 40, 50], row=1, col=1)\n",
    "fig.update_yaxes(range=[-50,50], tickvals=[-50, -40, -30, -20, -10, 0, 10, 20, 30, 40, 50], row=1, col=2)\n",
    "fig.update_yaxes(range=[-50,50], tickvals=[-50, -40, -30, -20, -10, 0, 10, 20, 30, 40, 50], row=1, col=3)\n",
    "\n",
    "fig.update_layout(yaxis=dict(title=r'$Percent Error$',\n",
    "                             showline=True,\n",
    "                             ), \n",
    "                  plot_bgcolor='#ffffff'\n",
    "                  #legend=dict(yanchor='bottom', y=0.20, xanchor='right', x=0.30) -- change legend position\n",
    ")\n",
    "\n",
    "\n",
    "# names = set()\n",
    "# fig.for_each_trace(\n",
    "#     lambda trace:\n",
    "#         trace.update(showlegend=False)\n",
    "#         if (trace.name in names) else names.add(trace.name))\n",
    "\n",
    "\n",
    "fig.show()\n"
   ]
  },
  {
   "cell_type": "markdown",
   "metadata": {
    "kernel": "SoS"
   },
   "source": [
    "### Subfigures with sliders"
   ]
  },
  {
   "cell_type": "markdown",
   "metadata": {
    "kernel": "SoS"
   },
   "source": [
    "* $K^{trans}$: <a name=\"fig-2-1\"></a>"
   ]
  },
  {
   "cell_type": "code",
   "execution_count": null,
   "metadata": {
    "kernel": "SoS",
    "scrolled": false
   },
   "outputs": [],
   "source": [
    "%get listSigmaC --from MATLAB\n",
    "%get curErr3 --from MATLAB\n",
    "%get errQt3 --from MATLAB\n",
    "%get errMd3 --from MATLAB\n",
    "\n",
    "# First subplot\n",
    "line_colours = cycle(['#253494','#2C7fB8','#41B6C4','#A1DAB4'])\n",
    "legend_values=cycle(['5','10','15','30'])\n",
    "\n",
    "fig = go.Figure()\n",
    "for i in range(0,4):\n",
    "    finalErrMd3=np.squeeze(np.asarray((np.reshape(errMd3[i,:], 6))))\n",
    "    finalErrorDiff3=np.squeeze(np.asarray((np.reshape(abs(errQt3[i,:,0]-errMd3[i,:]), 6))))\n",
    "    finalErrorDiffMinus3=np.squeeze(np.asarray((np.reshape(abs(errQt3[i,:,1]-errMd3[i,:]), 6))))\n",
    "    fig.add_trace(go.Scatter(\n",
    "        visible=False,\n",
    "        x=listSigmaC,\n",
    "        y=finalErrMd3,\n",
    "        error_y=dict(\n",
    "            type='data', # value of error bar given in data coordinates\n",
    "            array=finalErrorDiff3,\n",
    "            arrayminus=finalErrorDiffMinus3,\n",
    "            symmetric=False,\n",
    "            visible=True,\n",
    "            thickness=4),\n",
    "        line_color=next(line_colours),\n",
    "        line_width=4, showlegend=False, name=next(legend_values)\n",
    "    ))\n",
    "    \n",
    "\n",
    "# Default value on the slider    \n",
    "fig.data[0].visible = True\n",
    "legend_values = [5, 10, 15, 30]\n",
    "\n",
    "# Create and add slider\n",
    "steps = []\n",
    "for i in range(len(fig.data)):\n",
    "    step = dict(\n",
    "        method=\"update\",\n",
    "        args=[{\"visible\": [False] * len(fig.data)}],  # layout attribute\n",
    "        value=legend_values[i],\n",
    "        label=legend_values[i]        \n",
    "    )\n",
    "    step[\"args\"][0][\"visible\"][i] = True  # Toggle i'th trace to \"visible\"\n",
    "    steps.append(step)\n",
    "\n",
    "sliders = [dict(\n",
    "    active=4,\n",
    "    currentvalue={\"prefix\": \"Temporal resolution [seconds]: \"},\n",
    "    pad={\"t\": 70}, #upper padding \n",
    "    steps=steps\n",
    ")]\n",
    "\n",
    "\n",
    "fig.update_xaxes(title_text=r'$\\sigma_{noise}[Mm]$')\n",
    "fig.update_layout(title=dict(text=r'$V_{e}$',\n",
    "                             x=0.5,\n",
    "                             xanchor='center'),\n",
    "                  yaxis=dict(title=r'$Percent Error$',\n",
    "                             showline=True,\n",
    "                             range=[-35,5],\n",
    "                             tickvals=[-35,-30,-25,-20,-15,-10,-5,0,5],\n",
    "                             ), \n",
    "                  plot_bgcolor='#ffffff',\n",
    "                  legend=dict(yanchor='bottom', y=0.20, xanchor='right', x=0.30),\n",
    "                  sliders=sliders)\n",
    "\n",
    "\n",
    "\n",
    "fig.show()    \n"
   ]
  },
  {
   "cell_type": "markdown",
   "metadata": {
    "kernel": "SoS"
   },
   "source": [
    "* $V_{e}$: <a name=\"fig-2-2\"></a>"
   ]
  },
  {
   "cell_type": "code",
   "execution_count": null,
   "metadata": {
    "kernel": "SoS",
    "scrolled": false
   },
   "outputs": [],
   "source": [
    "# Second subplot\n",
    "\n",
    "line_colours = cycle(['#253494','#2C7fB8','#41B6C4','#A1DAB4'])\n",
    "legend_values=cycle(['5','10','15','30'])\n",
    "fig = go.Figure()\n",
    "\n",
    "for i in range(0,4):\n",
    "    finalErrMd4=np.squeeze(np.asarray((np.reshape(errMd4[i,:], 6))))\n",
    "    \n",
    "    finalErrorDiff4=np.squeeze(np.asarray((np.reshape(abs(errQt4[i,:,0]-errMd4[i,:]), 6))))\n",
    "    finalErrorDiffMinus4=np.squeeze(np.asarray((np.reshape(abs(errQt4[i,:,1]-errMd4[i,:]), 6))))\n",
    "    fig.add_trace(go.Scatter(\n",
    "        visible=False,\n",
    "        x=listSigmaC,\n",
    "        y=finalErrMd4,\n",
    "        error_y=dict(\n",
    "            type='data', # value of error bar given in data coordinates\n",
    "            array=finalErrorDiff4,\n",
    "            arrayminus=finalErrorDiffMinus4,\n",
    "            symmetric=False,\n",
    "            visible=True,\n",
    "            thickness=4),\n",
    "        line_color=next(line_colours),\n",
    "        line_width=4, showlegend=False, name=next(legend_values)       \n",
    "    ))\n",
    "    \n",
    "    \n",
    "# Default value on the slider    \n",
    "fig.data[0].visible = True\n",
    "\n",
    "legend_values = [5, 10, 15, 30]\n",
    "\n",
    "# Create and add slider\n",
    "steps = []\n",
    "for i in range(len(fig.data)):\n",
    "    step = dict(\n",
    "        method=\"update\",\n",
    "        args=[{\"visible\": [False] * len(fig.data)},\n",
    "#               {\"title\": \"Current value selected on slider: \" + str(legend_values[i])}\n",
    "             ],  # layout attribute\n",
    "        value=legend_values[i],\n",
    "        label=legend_values[i]        \n",
    "    )\n",
    "    step[\"args\"][0][\"visible\"][i] = True  # Toggle i'th trace to \"visible\"\n",
    "    steps.append(step)\n",
    "\n",
    "sliders = [dict(\n",
    "    active=4,\n",
    "    currentvalue={\"prefix\": \"Temporal resolution [seconds]: \"},\n",
    "    pad={\"t\": 70}, #upper padding \n",
    "    steps=steps\n",
    ")]\n",
    "\n",
    "\n",
    "fig.update_xaxes(title_text=r'$\\sigma_{noise}[Mm]$')\n",
    "fig.update_layout(title=dict(text=r'$V_{e}$',\n",
    "                             x=0.5,\n",
    "                             xanchor='center'),\n",
    "                  yaxis=dict(title=r'$Percent Error$',\n",
    "                             showline=True,\n",
    "                             range=[-10,10],\n",
    "                             tickvals=[-10,-5,0,5, 10],\n",
    "                             ), \n",
    "                  plot_bgcolor='#ffffff',\n",
    "                  legend=dict(yanchor='bottom', y=0.20, xanchor='right', x=0.30),\n",
    "                  sliders=sliders\n",
    ")\n",
    "\n",
    "\n",
    "fig.show()  "
   ]
  },
  {
   "cell_type": "markdown",
   "metadata": {
    "kernel": "SoS"
   },
   "source": [
    "* $V_{p}$: <a name=\"fig-2-3\"></a>"
   ]
  },
  {
   "cell_type": "code",
   "execution_count": null,
   "metadata": {
    "kernel": "SoS"
   },
   "outputs": [],
   "source": [
    "# Third subplot\n",
    "\n",
    "fig = go.Figure()\n",
    "line_colours = cycle(['#253494','#2C7fB8','#41B6C4','#A1DAB4'])\n",
    "legend_values=cycle(['5','10','15','30'])\n",
    "for i in range(0,4):\n",
    "    finalErrMd5=np.squeeze(np.asarray((np.reshape(errMd5[i,:], 6))))\n",
    "    finalErrorDiff5=np.squeeze(np.asarray((np.reshape(abs(errQt5[i,:,0]-errMd5[i,:]), 6))))\n",
    "    finalErrorDiffMinus5=np.squeeze(np.asarray((np.reshape(abs(errQt5[i,:,1]-errMd5[i,:]), 6))))\n",
    "    fig.add_trace(go.Scatter(\n",
    "        visible=False,\n",
    "        x=listSigmaC,\n",
    "        y=finalErrMd5,\n",
    "        error_y=dict(\n",
    "            type='data', # value of error bar given in data coordinates\n",
    "            array=finalErrorDiff5,\n",
    "            arrayminus=finalErrorDiffMinus5,\n",
    "            symmetric=False,\n",
    "            visible=True,\n",
    "            thickness=4),\n",
    "        line_color=next(line_colours),\n",
    "        line_width=4, showlegend=False, name=next(legend_values)) \n",
    "    )\n",
    "    \n",
    "    \n",
    "# Default value on the slider    \n",
    "fig.data[0].visible = True\n",
    "\n",
    "legend_values = [5, 10, 15, 30]\n",
    "\n",
    "# Create and add slider\n",
    "steps = []\n",
    "for i in range(len(fig.data)):\n",
    "    step = dict(\n",
    "        method=\"update\",\n",
    "        args=[{\"visible\": [False] * len(fig.data)}],\n",
    "        value=legend_values[i],\n",
    "        label=legend_values[i]        \n",
    "    )\n",
    "    step[\"args\"][0][\"visible\"][i] = True  # Toggle i'th trace to \"visible\"\n",
    "    steps.append(step)\n",
    "\n",
    "sliders = [dict(\n",
    "    active=4,\n",
    "    currentvalue={\"prefix\": \"Temporal resolution [seconds]: \"},\n",
    "    pad={\"t\": 70}, #upper padding \n",
    "    steps=steps\n",
    ")]\n",
    "\n",
    "\n",
    "fig.update_xaxes(title_text=r'$\\sigma_{noise}[Mm]$')\n",
    "fig.update_layout(title=dict(text=r'$V_{p}$',\n",
    "                             x=0.5,\n",
    "                             xanchor='center'),\n",
    "                  yaxis=dict(title=r'$Percent Error$',\n",
    "                             showline=True,\n",
    "                             range=[-170,50],\n",
    "                             tickvals=[-160,-130,-100,-70,-40,-10,20,50],\n",
    "                             ), \n",
    "                  plot_bgcolor='#ffffff',\n",
    "                  legend=dict(yanchor='bottom', y=0.20, xanchor='right', x=0.30),\n",
    "                  sliders=sliders\n",
    ")\n",
    "\n",
    "\n",
    "fig.show()  "
   ]
  },
  {
   "cell_type": "markdown",
   "metadata": {
    "kernel": "SoS"
   },
   "source": [
    "## Figure 3 <a name=\"figure-3\"></a>"
   ]
  },
  {
   "cell_type": "code",
   "execution_count": null,
   "metadata": {
    "kernel": "SoS",
    "scrolled": true
   },
   "outputs": [],
   "source": [
    "%get listSigmaC --from MATLAB\n",
    "%get curErr --from MATLAB\n",
    "%get errQt --from MATLAB\n",
    "%get errMd --from MATLAB\n",
    "%get curErr1 --from MATLAB\n",
    "%get errQt1 --from MATLAB\n",
    "%get errMd1 --from MATLAB\n",
    "%get curErr2 --from MATLAB\n",
    "%get errQt2 --from MATLAB\n",
    "%get errMd2 --from MATLAB\n",
    "\n",
    "\n",
    "\n",
    "fig = make_subplots(rows=1, cols=3, \n",
    "                    subplot_titles=(r'$\\widehat{k_{ep,RR}}$', r'$K^{trans}_{RR}$', r'$V_{e,RR}$'),\n",
    "                    )\n",
    "\n",
    "# First subplot \n",
    "line_colours = cycle(['#006837','#31A354','#78C679','#C2E699'])\n",
    "\n",
    "legend_values = cycle([5, 10, 15, 30])\n",
    "\n",
    "\n",
    "for i in range(0,4):\n",
    "    finalErrMd=np.squeeze(np.asarray((np.reshape(errMd[i,:], 6))))\n",
    "    finalErrorDiff=np.squeeze(np.asarray((np.reshape(abs(errQt[i,:,0]-errMd[i,:]), 6))))\n",
    "    finalErrorDiffMinus=np.squeeze(np.asarray((np.reshape(abs(errQt[i,:,1]-errMd[i,:]), 6))))\n",
    "    fig.add_trace(go.Scatter(\n",
    "        x=listSigmaC,\n",
    "        y=finalErrMd,\n",
    "        error_y=dict(\n",
    "            type='data', # value of error bar given in data coordinates\n",
    "            array=finalErrorDiff,\n",
    "            arrayminus=finalErrorDiffMinus,\n",
    "            symmetric=False,\n",
    "            visible=True,\n",
    "            thickness=4),\n",
    "        name=next(legend_values),\n",
    "        legendgroup=i,\n",
    "        line_color=next(line_colours),\n",
    "        line_width=4, showlegend=False\n",
    "    ),row=1, col=1)\n",
    "    \n",
    "\n",
    "\n",
    "\n",
    "# Second subplot\n",
    "\n",
    "line_colours = cycle(['#006837','#31A354','#78C679','#C2E699'])\n",
    "\n",
    "for i in range(0,4):\n",
    "    finalErrMd1=np.squeeze(np.asarray((np.reshape(errMd1[i,:], 6))))\n",
    "    \n",
    "    finalErrorDiff1=np.squeeze(np.asarray((np.reshape(abs(errQt1[i,:,0]-errMd1[i,:]), 6))))\n",
    "    finalErrorDiffMinus1=np.squeeze(np.asarray((np.reshape(abs(errQt1[i,:,1]-errMd1[i,:]), 6))))\n",
    "    fig.add_trace(go.Scatter(\n",
    "        x=listSigmaC,\n",
    "        y=finalErrMd1,\n",
    "        error_y=dict(\n",
    "            type='data', # value of error bar given in data coordinates\n",
    "            array=finalErrorDiff1,\n",
    "            arrayminus=finalErrorDiffMinus1,\n",
    "            symmetric=False,\n",
    "            visible=True,\n",
    "            thickness=4),\n",
    "        name=next(legend_values),\n",
    "        legendgroup=i,\n",
    "        line_color=next(line_colours),\n",
    "        line_width=4, showlegend=False       \n",
    "    ),row=1, col=2)\n",
    "\n",
    "\n",
    "\n",
    "\n",
    "# Third subplot\n",
    "\n",
    "legend_values=cycle(['5','10','15','30'])\n",
    "\n",
    "    \n",
    "line_colours = cycle(['#006837','#31A354','#78C679','#C2E699'])\n",
    "\n",
    "for i in range(0,4):\n",
    "    finalErrMd2=np.squeeze(np.asarray((np.reshape(errMd2[i,:], 6))))\n",
    "    \n",
    "    finalErrorDiff2=np.squeeze(np.asarray((np.reshape(abs(errQt2[i,:,0]-errMd2[i,:]), 6))))\n",
    "    finalErrorDiffMinus2=np.squeeze(np.asarray((np.reshape(abs(errQt2[i,:,1]-errMd2[i,:]), 6))))\n",
    "    fig.add_trace(go.Scatter(\n",
    "        x=listSigmaC,\n",
    "        y=finalErrMd2,\n",
    "        error_y=dict(\n",
    "            type='data', # value of error bar given in data coordinates\n",
    "            array=finalErrorDiff2,\n",
    "            arrayminus=finalErrorDiffMinus2,\n",
    "            symmetric=False,\n",
    "            visible=True,\n",
    "            thickness=4),\n",
    "        name=next(legend_values),\n",
    "        legendgroup=i,\n",
    "        line_color=next(line_colours),\n",
    "        line_width=4, showlegend=True      \n",
    "    ),row=1, col=3)\n",
    "\n",
    "# General\n",
    "\n",
    "fig.update_xaxes(title_text=r'$\\sigma_{noise}[Mm]$')\n",
    "\n",
    "fig.update_yaxes(range=[-35,5], tickvals=[-35,-30,-25,-20,-15,-10,-5,0,5], row=1, col=1)\n",
    "fig.update_yaxes(range=[-35,5], tickvals=[-35,-30,-25,-20,-15,-10,-5,0,5], row=1, col=2)\n",
    "fig.update_yaxes(range=[-35,5], tickvals=[-35,-30,-25,-20,-15,-10,-5,0,5], row=1, col=3)\n",
    "\n",
    "fig.update_layout(yaxis=dict(title=r'$Percent Error$',\n",
    "                             showline=True), \n",
    "                  plot_bgcolor='#ffffff',\n",
    ")\n",
    "\n",
    "fig.show()\n"
   ]
  },
  {
   "cell_type": "markdown",
   "metadata": {
    "kernel": "SoS"
   },
   "source": [
    "### Subfigures with sliders \n",
    "\n",
    "* $\\widehat{k_{ep,RR}}$ <a name=\"fig-3-1\"></a>"
   ]
  },
  {
   "cell_type": "code",
   "execution_count": null,
   "metadata": {
    "kernel": "SoS",
    "scrolled": false
   },
   "outputs": [],
   "source": [
    "%get listSigmaC --from MATLAB\n",
    "%get curErr --from MATLAB\n",
    "%get errQt --from MATLAB\n",
    "%get errMd --from MATLAB\n",
    "\n",
    "fig = go.Figure()\n",
    "\n",
    "legend_values = [5, 10, 15, 30]\n",
    "\n",
    "line_colours = cycle(['#006837','#31A354','#78C679','#C2E699'])\n",
    "\n",
    "for i in range(0,4):\n",
    "    finalErrMd=np.squeeze(np.asarray((np.reshape(errMd[i,:], 6))))\n",
    "    finalErrorDiff=np.squeeze(np.asarray((np.reshape(abs(errQt[i,:,0]-errMd[i,:]), 6))))\n",
    "    finalErrorDiffMinus=np.squeeze(np.asarray((np.reshape(abs(errQt[i,:,1]-errMd[i,:]), 6))))\n",
    "    fig.add_trace(go.Scatter(\n",
    "        visible=False,\n",
    "        x=listSigmaC,\n",
    "        y=finalErrMd,\n",
    "        error_y=dict(\n",
    "            type='data', # value of error bar given in data coordinates\n",
    "            array=finalErrorDiff,\n",
    "            arrayminus=finalErrorDiffMinus,\n",
    "            symmetric=False,\n",
    "            visible=True,\n",
    "            thickness=4),\n",
    "        line_color=next(line_colours),\n",
    "        line_width=4, showlegend=False\n",
    "    ))\n",
    "    \n",
    "# Default value on the slider    \n",
    "fig.data[0].visible = True\n",
    "\n",
    "\n",
    "# Create and add slider\n",
    "steps = []\n",
    "for i in range(len(fig.data)):\n",
    "    step = dict(\n",
    "        method=\"update\",\n",
    "        args=[{\"visible\": [False] * len(fig.data)}],\n",
    "        value=legend_values[i],\n",
    "        label=legend_values[i]        \n",
    "    )\n",
    "    step[\"args\"][0][\"visible\"][i] = True  # Toggle i'th trace to \"visible\"\n",
    "    steps.append(step)\n",
    "\n",
    "sliders = [dict(\n",
    "    active=4,\n",
    "    currentvalue={\"prefix\": \"Temporal resolution [seconds]: \"},\n",
    "    pad={\"t\": 70}, #upper padding \n",
    "    steps=steps\n",
    ")]\n",
    "\n",
    "\n",
    "fig.update_xaxes(title_text=r'$\\sigma_{noise}[Mm]$')\n",
    "fig.update_layout(title=dict(text=r'$\\widehat{k_{ep,RR}}$',\n",
    "                             x=0.5,\n",
    "                             xanchor='center'),\n",
    "                  yaxis=dict(title=r'$Percent Error$',\n",
    "                             showline=True,\n",
    "                             range=[-35,5],\n",
    "                             tickvals=[-35,-30,-25,-20,-15,-10,-5,0,5],\n",
    "                             ), \n",
    "                  plot_bgcolor='#ffffff',\n",
    "                  legend=dict(yanchor='bottom', y=0.20, xanchor='right', x=0.30),\n",
    "                  sliders=sliders\n",
    ")\n",
    "\n",
    "\n",
    "fig.show()"
   ]
  },
  {
   "cell_type": "markdown",
   "metadata": {
    "kernel": "SoS"
   },
   "source": [
    "* $K^{trans}_{RR}$ <a name=\"fig-3-2\"></a>"
   ]
  },
  {
   "cell_type": "code",
   "execution_count": null,
   "metadata": {
    "kernel": "SoS"
   },
   "outputs": [],
   "source": [
    "%get listSigmaC --from MATLAB\n",
    "%get curErr1 --from MATLAB\n",
    "%get errQt1 --from MATLAB\n",
    "%get errMd1 --from MATLAB\n",
    "\n",
    "fig = go.Figure()\n",
    "\n",
    "legend_values = [5, 10, 15, 30]\n",
    "\n",
    "line_colours = cycle(['#006837','#31A354','#78C679','#C2E699'])\n",
    "    \n",
    "for i in range(0,4):\n",
    "    finalErrMd1=np.squeeze(np.asarray((np.reshape(errMd1[i,:], 6))))\n",
    "    \n",
    "    finalErrorDiff1=np.squeeze(np.asarray((np.reshape(abs(errQt1[i,:,0]-errMd1[i,:]), 6))))\n",
    "    finalErrorDiffMinus1=np.squeeze(np.asarray((np.reshape(abs(errQt1[i,:,1]-errMd1[i,:]), 6))))\n",
    "    fig.add_trace(go.Scatter(\n",
    "        visible=False,\n",
    "        x=listSigmaC,\n",
    "        y=finalErrMd1,\n",
    "        error_y=dict(\n",
    "            type='data', # value of error bar given in data coordinates\n",
    "            array=finalErrorDiff1,\n",
    "            arrayminus=finalErrorDiffMinus1,\n",
    "            symmetric=False,\n",
    "            visible=True,\n",
    "            thickness=4),\n",
    "        line_color=next(line_colours),\n",
    "        line_width=4, showlegend=False       \n",
    "    ))\n",
    "\n",
    "\n",
    "\n",
    "    \n",
    "# Default value on the slider    \n",
    "fig.data[0].visible = True\n",
    "\n",
    "\n",
    "# Create and add slider\n",
    "steps = []\n",
    "for i in range(len(fig.data)):\n",
    "    step = dict(\n",
    "        method=\"update\",\n",
    "        args=[{\"visible\": [False] * len(fig.data)}],\n",
    "        value=legend_values[i],\n",
    "        label=legend_values[i]        \n",
    "    )\n",
    "    step[\"args\"][0][\"visible\"][i] = True  # Toggle i'th trace to \"visible\"\n",
    "    steps.append(step)\n",
    "\n",
    "sliders = [dict(\n",
    "    active=4,\n",
    "    currentvalue={\"prefix\": \"Temporal resolution [seconds]: \"},\n",
    "    pad={\"t\": 70}, #upper padding \n",
    "    steps=steps\n",
    ")]\n",
    "\n",
    "fig.update_xaxes(title_text=r'$\\sigma_{noise}[Mm]$')\n",
    "fig.update_layout(title=dict(text=r'$K^{trans}_{RR}$',\n",
    "                             x=0.5,\n",
    "                             xanchor='center'),\n",
    "                  yaxis=dict(title=r'$Percent Error$',\n",
    "                             showline=True,\n",
    "                             range=[-25,5],\n",
    "                             tickvals=[-25,-20,-15,-10,-5,0,5],\n",
    "                             ), \n",
    "                  plot_bgcolor='#ffffff',\n",
    "                  legend=dict(yanchor='bottom', y=0.20, xanchor='right', x=0.30),\n",
    "                  sliders=sliders\n",
    ")\n",
    "\n",
    "\n",
    "fig.show()"
   ]
  },
  {
   "cell_type": "markdown",
   "metadata": {
    "kernel": "SoS"
   },
   "source": [
    "* $V_{e,RR}$ <a name=\"fig-3-3\"></a>"
   ]
  },
  {
   "cell_type": "code",
   "execution_count": null,
   "metadata": {
    "kernel": "SoS"
   },
   "outputs": [],
   "source": [
    "%get curErr2 --from MATLAB\n",
    "%get errQt2 --from MATLAB\n",
    "%get errMd2 --from MATLAB\n",
    "\n",
    "fig = go.Figure()\n",
    "\n",
    "legend_values = [5, 10, 15, 30]\n",
    "\n",
    "line_colours = cycle(['#006837','#31A354','#78C679','#C2E699'])\n",
    "\n",
    "for i in range(0,4):\n",
    "    finalErrMd2=np.squeeze(np.asarray((np.reshape(errMd2[i,:], 6))))\n",
    "    \n",
    "    finalErrorDiff2=np.squeeze(np.asarray((np.reshape(abs(errQt2[i,:,0]-errMd2[i,:]), 6))))\n",
    "    finalErrorDiffMinus2=np.squeeze(np.asarray((np.reshape(abs(errQt2[i,:,1]-errMd2[i,:]), 6))))\n",
    "    fig.add_trace(go.Scatter(\n",
    "        visible=False,\n",
    "        x=listSigmaC,\n",
    "        y=finalErrMd2,\n",
    "        error_y=dict(\n",
    "            type='data', # value of error bar given in data coordinates\n",
    "            array=finalErrorDiff2,\n",
    "            arrayminus=finalErrorDiffMinus2,\n",
    "            symmetric=False,\n",
    "            visible=True,\n",
    "            thickness=4),\n",
    "        line_color=next(line_colours),\n",
    "        line_width=4, showlegend=False      \n",
    "    ))\n",
    "\n",
    "\n",
    "\n",
    "    \n",
    "# Default value on the slider    \n",
    "fig.data[0].visible = True\n",
    "\n",
    "\n",
    "# Create and add slider\n",
    "steps = []\n",
    "for i in range(len(fig.data)):\n",
    "    step = dict(\n",
    "        method=\"update\",\n",
    "        args=[{\"visible\": [False] * len(fig.data)}],\n",
    "        value=legend_values[i],\n",
    "        label=legend_values[i]        \n",
    "    )\n",
    "    step[\"args\"][0][\"visible\"][i] = True  # Toggle i'th trace to \"visible\"\n",
    "    steps.append(step)\n",
    "\n",
    "sliders = [dict(\n",
    "    active=4,\n",
    "    currentvalue={\"prefix\": \"Temporal resolution [seconds]: \"},\n",
    "    pad={\"t\": 70}, #upper padding \n",
    "    steps=steps\n",
    ")]\n",
    "\n",
    "\n",
    "fig.update_xaxes(title_text=r'$\\sigma_{noise}[Mm]$')\n",
    "fig.update_layout(title=dict(text=r'$V_{e,RR}$',\n",
    "                             x=0.5,\n",
    "                             xanchor='center'),\n",
    "                  yaxis=dict(title=r'$Percent Error$',\n",
    "                             showline=True,\n",
    "                             range=[-10,5],\n",
    "                             tickvals=[-10,-5,0,5],\n",
    "                             ), \n",
    "                  plot_bgcolor='#ffffff',\n",
    "                  legend=dict(yanchor='bottom', y=0.20, xanchor='right', x=0.30),\n",
    "                  sliders=sliders\n",
    ")\n",
    "\n",
    "\n",
    "fig.show()"
   ]
  },
  {
   "cell_type": "markdown",
   "metadata": {
    "kernel": "SoS"
   },
   "source": [
    "## Figure 4"
   ]
  },
  {
   "cell_type": "code",
   "execution_count": null,
   "metadata": {
    "kernel": "MATLAB"
   },
   "outputs": [],
   "source": [
    "%% LOAD\n",
    "addpath('RRIFT/mfiles')\n",
    "clearvars\n",
    "\n",
    "load('RRIFT/data/simMap.mat');\n",
    "load('RRIFT/data/simResultsTRes15-varKtRR.mat');\n",
    "\n",
    "estRRM = zeros(9,3,100,repF);\n",
    "estRRIFT = estRRM;\n",
    "estETM = permute(pkETM,[1 3 2 4]);\n",
    "estETM(:,2,:,:) = estETM(:,1,:,:)./estETM(:,2,:,:);\n",
    "\n",
    "errRRM = zeros(9,3,100*repF);\n",
    "errRRIFT = errRRM;\n",
    "errETM = errRRM;\n",
    "\n",
    "estVeRR = estKtRR ./ estKepRRS;\n",
    "\n",
    "for i=1:9\n",
    "        estRRM(i,1,:,:) = pkCERRM(i,:,1,:) * 0.07;\n",
    "        estRRM(i,2,:,:) = pkCERRM(i,:,2,:) * 0.14;\n",
    "        estRRM(i,3,:,:) = pkCERRM(i,:,4,:) * 0.07;\n",
    "        \n",
    "        for k=1:repF\n",
    "            estRRIFT(i,1,:,k) = pkCERRM(i,:,1,k) * estKtRR(i,k);\n",
    "            estRRIFT(i,2,:,k) = pkCERRM(i,:,2,k) * estVeRR(i,k);\n",
    "            estRRIFT(i,3,:,k) = pkCERRM(i,:,4,k) * estKtRR(i,k);\n",
    "        end\n",
    "        \n",
    "        errRRM(i,1,:) = reshape(PercentError(squeeze(estRRM(i,1,:,:)),trueKt(:)),1,[]);\n",
    "        errRRM(i,2,:) = reshape(PercentError(squeeze(estRRM(i,2,:,:)),trueVe(:)),1,[]);\n",
    "        errRRM(i,3,:) = reshape(PercentError(squeeze(estRRM(i,3,:,:)),trueVp(:)),1,[]);\n",
    "        \n",
    "        errRRIFT(i,1,:) = reshape(PercentError(squeeze(estRRIFT(i,1,:,:)),trueKt(:)),1,[]);\n",
    "        errRRIFT(i,2,:) = reshape(PercentError(squeeze(estRRIFT(i,2,:,:)),trueVe(:)),1,[]);\n",
    "        errRRIFT(i,3,:) = reshape(PercentError(squeeze(estRRIFT(i,3,:,:)),trueVp(:)),1,[]);\n",
    "        \n",
    "        errETM(i,1,:) = reshape(PercentError(squeeze(estETM(i,1,:,:)),trueKt(:)),1,[]);\n",
    "        errETM(i,2,:) = reshape(PercentError(squeeze(estETM(i,2,:,:)),trueVe(:)),1,[]);\n",
    "        errETM(i,3,:) = reshape(PercentError(squeeze(estETM(i,3,:,:)),trueVp(:)),1,[]);\n",
    "end\n",
    "trueKtRR0=trueKtRR; % Save to tmp variable because next loading step will overwrite it\n",
    "load('RRIFT/data/simResultsTRes15-varVeRR.mat');\n",
    "estVeRR = estKtRR ./ estKepRRS;\n",
    "\n",
    "for i=1:9\n",
    "        estRRM(i,2,:,:) = pkCERRM(i,:,2,:) * 0.14;\n",
    "        \n",
    "        for k=1:repF\n",
    "            estRRIFT(i,2,:,k) = pkCERRM(i,:,2,k) * estVeRR(i,k);\n",
    "        end\n",
    "        \n",
    "        errRRM(i,2,:) = reshape(PercentError(squeeze(estRRM(i,2,:,:)),trueVe(:)),1,[]);\n",
    "        errRRIFT(i,2,:) = reshape(PercentError(squeeze(estRRIFT(i,2,:,:)),trueVe(:)),1,[]);\n",
    "        errETM(i,2,:) = reshape(PercentError(squeeze(estETM(i,2,:,:)),trueVe(:)),1,[]);\n",
    "end\n",
    "trueKtRR = trueKtRR0;\n",
    "%% Error plots\n",
    "% Err in Ktrans\n",
    "cSize = 10;\n",
    "yrange = [-100 100];\n",
    "myColours = [0.895, 0.350, 0.280;...\n",
    "             0.160, 0.140, 0.280;...\n",
    "             0.750, 0.750, 0.750];\n",
    "\n",
    "err1 = squeeze(errRRM(:,1,:));\n",
    "err2 = squeeze(errRRIFT(:,1,:));\n",
    "err3 = squeeze(errETM(:,1,:));\n",
    "\n",
    "Ktrans_avg1 = nanmedian(err1,2);\n",
    "Ktrans_avg2 = nanmedian(err2,2);\n",
    "Ktrans_avg3 = nanmedian(err3,2);\n",
    "\n",
    "Ktrans_ci1 = quantile(err1,[.25 .75],2);\n",
    "Ktrans_ci2 = quantile(err2,[.25 .75],2);\n",
    "Ktrans_ci3 = quantile(err3,[.25 .75],2);\n",
    "\n",
    "% Err in Ve\n",
    "\n",
    "err1 = squeeze(errRRM(:,2,:));\n",
    "err2 = squeeze(errRRIFT(:,2,:));\n",
    "err3 = squeeze(errETM(:,2,:));\n",
    "\n",
    "Ve_avg1 = nanmedian(err1,2);\n",
    "Ve_avg2 = nanmedian(err2,2);\n",
    "Ve_avg3 = nanmedian(err3,2);\n",
    "\n",
    "Ve_ci1 = quantile(err1,[.25 .75],2);\n",
    "Ve_ci2 = quantile(err2,[.25 .75],2);\n",
    "Ve_ci3 = quantile(err3,[.25 .75],2);\n",
    "\n",
    "% Err in Vp\n",
    "err1 = squeeze(errRRM(:,3,:));\n",
    "err2 = squeeze(errRRIFT(:,3,:));\n",
    "err3 = squeeze(errETM(:,3,:));\n",
    "\n",
    "Vp_avg1 = nanmedian(err1,2);\n",
    "Vp_avg2 = nanmedian(err2,2);\n",
    "Vp_avg3 = nanmedian(err3,2);\n",
    "\n",
    "Vp_ci1 = quantile(err1,[.25 .75],2);\n",
    "Vp_ci2 = quantile(err2,[.25 .75],2);\n",
    "Vp_ci3 = quantile(err3,[.25 .75],2);"
   ]
  },
  {
   "cell_type": "code",
   "execution_count": null,
   "metadata": {
    "kernel": "SoS",
    "scrolled": true
   },
   "outputs": [],
   "source": [
    "%get trueKtRR --from MATLAB\n",
    "%get trueVeRR --from MATLAB\n",
    "\n",
    "%get Ktrans_ci1 --from MATLAB\n",
    "%get Ktrans_ci2 --from MATLAB\n",
    "%get Ktrans_ci3 --from MATLAB\n",
    "%get Ktrans_avg1 --from MATLAB\n",
    "%get Ktrans_avg2 --from MATLAB\n",
    "%get Ktrans_avg3 --from MATLAB\n",
    "\n",
    "%get Ve_ci1 --from MATLAB\n",
    "%get Ve_ci2 --from MATLAB\n",
    "%get Ve_ci3 --from MATLAB\n",
    "%get Ve_avg1 --from MATLAB\n",
    "%get Ve_avg2 --from MATLAB\n",
    "%get Ve_avg3 --from MATLAB\n",
    "\n",
    "\n",
    "%get Vp_ci1 --from MATLAB\n",
    "%get Vp_ci2 --from MATLAB\n",
    "%get Vp_ci3 --from MATLAB\n",
    "%get Vp_avg1 --from MATLAB\n",
    "%get Vp_avg2 --from MATLAB\n",
    "%get Vp_avg3 --from MATLAB\n",
    "\n",
    "\n",
    "# The subplot titles are different in the paper and in the code (check which ones to use)\n",
    "fig = make_subplots(rows=1, cols=3, \n",
    "                    subplot_titles=(r'$K^{trans}$', r'$V_{e}$', r'$V_{p}$'))\n",
    "\n",
    "legend_values=cycle(['ETM','RRIFT','RRM w/ fixed RR params'])\n",
    "line_colours = cycle(['#bfbfbf', '#292447', '#e45947'])\n",
    "\n",
    "\n",
    "# First subplot - Ktrans\n",
    "\n",
    "Ktrans_ci = [Ktrans_ci3, Ktrans_ci2, Ktrans_ci1]\n",
    "Ktrans_avg = [Ktrans_avg3, Ktrans_avg2, Ktrans_avg1]\n",
    "\n",
    "for i in range(0,3):\n",
    "    ci_values_negative = np.squeeze(np.asarray(np.reshape(Ktrans_ci[i][:,0], 9)))\n",
    "    ci_values_positive = np.squeeze(np.asarray(np.reshape(Ktrans_ci[i][:,1], 9)))\n",
    "    negative = Ktrans_avg[i]-ci_values_negative\n",
    "    positive = ci_values_positive-Ktrans_avg[i]\n",
    "    fig.append_trace(go.Scatter(\n",
    "        x=trueKtRR,\n",
    "        y=Ktrans_avg[i],\n",
    "        showlegend=False,\n",
    "        error_y=dict(\n",
    "            type='data', # value of error bar given in data coordinates\n",
    "            array=positive,\n",
    "            arrayminus=negative,\n",
    "            symmetric=False,\n",
    "            visible=True,\n",
    "            thickness=4),\n",
    "        name=next(legend_values),\n",
    "        legendgroup=i,\n",
    "        line_color=next(line_colours),\n",
    "        line_width=4\n",
    "    ),row=1, col=1)\n",
    "\n",
    "\n",
    "# Second subplot - Ve\n",
    "\n",
    "Ve_ci = [Ve_ci3, Ve_ci2, Ve_ci1]\n",
    "Ve_avg = [Ve_avg3, Ve_avg2, Ve_avg1]\n",
    "\n",
    "for i in range(0,3):\n",
    "    ci_values_negative = np.squeeze(np.asarray(np.reshape(Ve_ci[i][:,0], 9)))\n",
    "    ci_values_positive = np.squeeze(np.asarray(np.reshape(Ve_ci[i][:,1], 9)))\n",
    "    negative = Ve_avg[i]-ci_values_negative\n",
    "    positive = ci_values_positive-Ve_avg[i]\n",
    "    fig.append_trace(go.Scatter(\n",
    "        x=trueVeRR,\n",
    "        y=Ve_avg[i],\n",
    "        showlegend=False,\n",
    "        error_y=dict(\n",
    "            type='data', # value of error bar given in data coordinates\n",
    "            array=positive,\n",
    "            arrayminus=negative,\n",
    "            symmetric=False,\n",
    "            visible=True,\n",
    "            thickness=4),\n",
    "        name=next(legend_values),\n",
    "        legendgroup=i,\n",
    "        line_color=next(line_colours),\n",
    "        line_width=4\n",
    "    ),row=1, col=2)\n",
    "\n",
    "\n",
    "# Third subplot - Vp\n",
    "\n",
    "Vp_ci = [Vp_ci3, Vp_ci2, Vp_ci1]\n",
    "Vp_avg = [Vp_avg3, Vp_avg2, Vp_avg1]\n",
    "\n",
    "for i in range(0,3):\n",
    "    ci_values_negative = np.squeeze(np.asarray(np.reshape(Vp_ci[i][:,0], 9)))\n",
    "    ci_values_positive = np.squeeze(np.asarray(np.reshape(Vp_ci[i][:,1], 9)))\n",
    "    negative = Vp_avg[i]-ci_values_negative\n",
    "    positive = ci_values_positive-Vp_avg[i]\n",
    "    fig.append_trace(go.Scatter(\n",
    "        x=trueKtRR,\n",
    "        y=Vp_avg[i],\n",
    "        showlegend=True,\n",
    "        error_y=dict(\n",
    "            type='data', # value of error bar given in data coordinates\n",
    "            array=positive,\n",
    "            arrayminus=negative,\n",
    "            symmetric=False,\n",
    "            visible=True,\n",
    "            thickness=4),\n",
    "        name=next(legend_values),\n",
    "        legendgroup=i,\n",
    "        line_color=next(line_colours),\n",
    "        line_width=4\n",
    "    ),row=1, col=3)\n",
    "    \n",
    "    \n",
    "fig.update_xaxes(title_text=r'$\\textrm{True }K^{trans}$', row=1, col=1)\n",
    "fig.update_xaxes(title_text=r'$\\textrm{True }V_{e, RR}$', row=1, col=2)\n",
    "fig.update_xaxes(title_text=r'$\\textrm{True }K^{trans}_{RR}$', row=1, col=3)\n",
    "\n",
    "fig.update_yaxes(range=[-100,100], tickvals=[-100, -80, -60, -40, -20, 0, 20, 40, 60, 80, 100], row=1, col=1)\n",
    "fig.update_yaxes(range=[-100,100], tickvals=[-100, -80, -60, -40, -20, 0, 20, 40, 60, 80, 100], row=1, col=2)\n",
    "fig.update_yaxes(range=[-100,100], tickvals=[-100, -80, -60, -40, -20, 0, 20, 40, 60, 80, 100], row=1, col=3)\n",
    "\n",
    "    \n",
    "fig.update_layout(yaxis=dict(title=r'$Percent Error$',showline=True), \n",
    "                  plot_bgcolor='#ffffff'\n",
    "                  #legend=dict(yanchor='bottom', y=0.20, xanchor='right', x=0.30) -- change legend position\n",
    ")\n",
    "\n",
    "    \n",
    "fig.show()\n"
   ]
  },
  {
   "cell_type": "markdown",
   "metadata": {
    "kernel": "MATLAB"
   },
   "source": [
    "## Figure 7"
   ]
  },
  {
   "cell_type": "code",
   "execution_count": 115,
   "metadata": {
    "kernel": "MATLAB",
    "scrolled": false
   },
   "outputs": [
    {
     "name": "stdout",
     "output_type": "stream",
     "text": [
      "\n",
      "ans =\n",
      "\n",
      "     0\n",
      "\n",
      "\n"
     ]
    }
   ],
   "source": [
    "%% Description\n",
    "% Loads maps from RRIFT and Extended Tofts Model\n",
    "% Displays maps for a single patient at 3 slices\n",
    "% Also plots the AIF/Muscle curve and RRIFT fit\n",
    "\n",
    "% Estimated runtime: 1 second\n",
    "\n",
    "%%\n",
    "clearvars\n",
    "fclose('all')\n",
    "addpath('./RRIFT/mfiles')\n",
    "tic\n",
    "inDir = './RRIFT/data/TCGA-GBM-Results/c02_postprocessed';\n",
    "matFiles = dir([inDir '/*.mat']);\n",
    "\n",
    "idx = 7; % Chosen Patient (choices are between 1:9)\n",
    "curFile = matFiles(idx).name;\n",
    "\n",
    "load(fullfile(inDir,curFile));\n"
   ]
  },
  {
   "cell_type": "code",
   "execution_count": 114,
   "metadata": {
    "kernel": "SoS"
   },
   "outputs": [
    {
     "data": {
      "application/vnd.plotly.v1+json": {
       "config": {
        "plotlyServerURL": "https://plot.ly"
       },
       "data": [
        {
         "line": {
          "color": "#e3988b"
         },
         "showlegend": false,
         "type": "scatter",
         "x": [
          0.08848333333333333,
          0.17696666666666666,
          0.26544999999999996,
          0.3539333333333333,
          0.4424166666666667,
          0.5308999999999999,
          0.6193833333333333,
          0.7078666666666666,
          0.79635,
          0.8848333333333334,
          0.9733166666666667,
          1.0617999999999999,
          1.1502833333333333,
          1.2387666666666666,
          1.32725,
          1.4157333333333333,
          1.5042166666666668,
          1.5927,
          1.6811833333333335,
          1.7696666666666667,
          1.8581500000000002,
          1.9466333333333334,
          2.0351166666666667,
          2.1235999999999997,
          2.2120833333333336,
          2.3005666666666666,
          2.38905,
          2.477533333333333,
          2.566016666666667,
          2.6545,
          2.742983333333333,
          2.8314666666666666,
          2.9199499999999996,
          3.0084333333333335,
          3.0969166666666665,
          3.1854,
          3.273883333333333,
          3.362366666666667,
          3.45085,
          3.5393333333333334,
          3.6278166666666665,
          3.7163000000000004,
          3.8047833333333334,
          3.893266666666667,
          3.98175,
          4.070233333333333,
          4.158716666666666,
          4.247199999999999,
          4.335683333333334,
          4.424166666666667,
          4.51265,
          4.601133333333333,
          4.689616666666667,
          4.7781,
          4.866583333333333,
          4.955066666666666,
          5.04355,
          5.132033333333334,
          5.220516666666667,
          5.309,
          5.397483333333334,
          5.485966666666666,
          5.57445,
          5.662933333333333,
          5.751416666666667,
          5.839899999999999,
          5.928383333333334,
          6.016866666666667,
          6.1053500000000005,
          6.193833333333333
         ],
         "xaxis": "x",
         "y": [
          0,
          0.05936340242624283,
          0,
          0.07587236911058426,
          0.04840806499123573,
          0.02119535021483898,
          0.02119535021483898,
          0.19405007362365723,
          5.094789028167725,
          5.343532562255859,
          2.528486490249634,
          1.4716782569885254,
          1.8422976732254028,
          2.0128092765808105,
          2.1809000968933105,
          2.140709161758423,
          2.0811679363250732,
          1.9361069202423096,
          1.8238049745559692,
          1.9077261686325073,
          1.7416709661483765,
          1.7688539028167725,
          1.643629550933838,
          1.6789880990982056,
          1.759771466255188,
          1.6701173782348633,
          1.5139260292053223,
          1.6967922449111938,
          1.4800891876220703,
          1.5738941431045532,
          1.4800891876220703,
          1.522433876991272,
          1.3722237348556519,
          1.3154397010803223,
          1.4133347272872925,
          1.4299097061157227,
          1.3234972953796387,
          1.2358428239822388,
          1.220133900642395,
          1.2358428239822388,
          1.4216127395629883,
          1.307400107383728,
          1.196700096130371,
          1.3559086322784424,
          1.307400107383728,
          1.2279796600341797,
          1.2123054265975952,
          1.2358428239822388,
          1.2044941186904907,
          1.2123054265975952,
          1.104488730430603,
          1.2279796600341797,
          1.2358428239822388,
          1.1426169872283936,
          0.9925444722175598,
          1.104488730430603,
          1.0667716264724731,
          1.104488730430603,
          0.9998959302902222,
          1.0667716264724731,
          1.104488730430603,
          1.196700096130371,
          1.2123054265975952,
          1.0517984628677368,
          1.081809639930725,
          1.044335961341858,
          1.0667716264724731,
          0.9632952213287354,
          1.0667716264724731,
          0.9560216665267944
         ],
         "yaxis": "y"
        },
        {
         "line": {
          "color": "#97d6d0"
         },
         "showlegend": false,
         "type": "scatter",
         "x": [
          0.08848333333333333,
          0.17696666666666666,
          0.26544999999999996,
          0.3539333333333333,
          0.4424166666666667,
          0.5308999999999999,
          0.6193833333333333,
          0.7078666666666666,
          0.79635,
          0.8848333333333334,
          0.9733166666666667,
          1.0617999999999999,
          1.1502833333333333,
          1.2387666666666666,
          1.32725,
          1.4157333333333333,
          1.5042166666666668,
          1.5927,
          1.6811833333333335,
          1.7696666666666667,
          1.8581500000000002,
          1.9466333333333334,
          2.0351166666666667,
          2.1235999999999997,
          2.2120833333333336,
          2.3005666666666666,
          2.38905,
          2.477533333333333,
          2.566016666666667,
          2.6545,
          2.742983333333333,
          2.8314666666666666,
          2.9199499999999996,
          3.0084333333333335,
          3.0969166666666665,
          3.1854,
          3.273883333333333,
          3.362366666666667,
          3.45085,
          3.5393333333333334,
          3.6278166666666665,
          3.7163000000000004,
          3.8047833333333334,
          3.893266666666667,
          3.98175,
          4.070233333333333,
          4.158716666666666,
          4.247199999999999,
          4.335683333333334,
          4.424166666666667,
          4.51265,
          4.601133333333333,
          4.689616666666667,
          4.7781,
          4.866583333333333,
          4.955066666666666,
          5.04355,
          5.132033333333334,
          5.220516666666667,
          5.309,
          5.397483333333334,
          5.485966666666666,
          5.57445,
          5.662933333333333,
          5.751416666666667,
          5.839899999999999,
          5.928383333333334,
          6.016866666666667,
          6.1053500000000005,
          6.193833333333333
         ],
         "xaxis": "x2",
         "y": [
          0.0022879450116306543,
          0,
          0,
          0,
          0,
          0.002333232434466481,
          0.0008573648519814014,
          0.0008231400861404836,
          0.00559269031509757,
          0.051930323243141174,
          0.08716078847646713,
          0.10862405598163605,
          0.11795918643474579,
          0.13139672577381134,
          0.1403198391199112,
          0.1439535915851593,
          0.15654966235160828,
          0.163747638463974,
          0.16726018488407135,
          0.17686691880226135,
          0.17956461012363434,
          0.18395651876926422,
          0.18934319913387299,
          0.1894552856683731,
          0.19634053111076355,
          0.20340603590011597,
          0.20533426105976105,
          0.20517608523368835,
          0.20736032724380493,
          0.21393819153308868,
          0.21219667792320251,
          0.21475860476493835,
          0.2186042219400406,
          0.21081463992595673,
          0.2285229116678238,
          0.22310219705104828,
          0.22259150445461273,
          0.22715450823307037,
          0.22464360296726227,
          0.22796276211738586,
          0.2273922562599182,
          0.22844070196151733,
          0.2343662828207016,
          0.2277524620294571,
          0.23346160352230072,
          0.2354019284248352,
          0.2356625348329544,
          0.23865853250026703,
          0.23735369741916656,
          0.23642170429229736,
          0.2382230907678604,
          0.24117565155029297,
          0.2420143187046051,
          0.24235151708126068,
          0.24189002811908722,
          0.23982733488082886,
          0.24545125663280487,
          0.24433594942092896,
          0.24196061491966248,
          0.23240172863006592,
          0.24293069541454315,
          0.24363267421722412,
          0.23986782133579254,
          0.24307802319526672,
          0.24072885513305664,
          0.24357904493808746,
          0.24624663591384888,
          0.2465737909078598,
          0.24518649280071259,
          0.23758697509765625
         ],
         "yaxis": "y2"
        },
        {
         "marker": {
          "color": "red",
          "size": 14,
          "symbol": "circle-open"
         },
         "mode": "markers",
         "showlegend": false,
         "type": "scatter",
         "x": [
          0,
          0.11890671402215958,
          0.239632248878479,
          0.3654221296310425,
          0.48723745346069336,
          0.6004669070243835,
          0.709123432636261,
          0.8177799582481384,
          0.935350239276886,
          1.0560863018035889,
          1.1668719053268433,
          1.2798035144805908,
          1.3976327180862427,
          1.5098021030426025,
          1.6177643537521362,
          1.726074457168579,
          1.8340389728546143,
          1.9409621953964233,
          2.0434610843658447,
          2.146653413772583,
          2.2556569576263428,
          2.360883951187134,
          2.4553470611572266,
          2.548123359680176,
          2.64418363571167,
          2.740243911743164,
          2.833345413208008,
          2.9247782230377197,
          3.020838499069214,
          3.1226470470428467,
          3.2292253971099854,
          3.329393148422241,
          3.4237875938415527,
          3.5178518295288086,
          3.611250638961792,
          3.701064109802246,
          3.7908775806427,
          3.8803694248199463
         ],
         "xaxis": "x3",
         "y": [
          0,
          0.00017817970078997866,
          0.026038252013978157,
          0.028997330578827866,
          0.036756375357192,
          0.04966430615105478,
          0.0555364040855058,
          0.06725356338857799,
          0.07513205827210366,
          0.08463837277134265,
          0.09915122378140036,
          0.101111903017804,
          0.11537875843568553,
          0.1260187312370463,
          0.1350198232849281,
          0.14681673208230436,
          0.15434418723848592,
          0.16220298054983223,
          0.17281128484407404,
          0.18465897177118257,
          0.19446311037516145,
          0.2037875980981611,
          0.21231109230098572,
          0.21918654664577047,
          0.23381469370286784,
          0.24178726803367034,
          0.24843504707378508,
          0.24767783778433106,
          0.2670264811747294,
          0.27675652402556505,
          0.28196290431458515,
          0.29413404793076486,
          0.30076179789629603,
          0.31259820206468647,
          0.32435438847357534,
          0.33382570567805553,
          0.3415628990857951,
          0.3429211247332808
         ],
         "yaxis": "y3"
        },
        {
         "line": {
          "color": "black"
         },
         "mode": "lines",
         "showlegend": false,
         "type": "scatter",
         "x": [
          0,
          0.11890671402215958,
          0.239632248878479,
          0.3654221296310425,
          0.48723745346069336,
          0.6004669070243835,
          0.709123432636261,
          0.8177799582481384,
          0.935350239276886,
          1.0560863018035889,
          1.1668719053268433,
          1.2798035144805908,
          1.3976327180862427,
          1.5098021030426025,
          1.6177643537521362,
          1.726074457168579,
          1.8340389728546143,
          1.9409621953964233,
          2.0434610843658447,
          2.146653413772583,
          2.2556569576263428,
          2.360883951187134,
          2.4553470611572266,
          2.548123359680176,
          2.64418363571167,
          2.740243911743164,
          2.833345413208008,
          2.9247782230377197,
          3.020838499069214,
          3.1226470470428467,
          3.2292253971099854,
          3.329393148422241,
          3.4237875938415527,
          3.5178518295288086,
          3.611250638961792,
          3.701064109802246,
          3.7908775806427,
          3.8803694248199463
         ],
         "xaxis": "x3",
         "y": [
          -0.007776312656342189,
          0.0029715620158372973,
          0.013883838324521985,
          0.025253876463032815,
          0.036264657851105254,
          0.04649936987817475,
          0.056320738916875814,
          0.06614210795557687,
          0.07676918360947485,
          0.08768241150514772,
          0.09769622604826764,
          0.1079040161776445,
          0.11855449561853004,
          0.12869338896429802,
          0.13845200309719083,
          0.14824205933433302,
          0.15800087819648584,
          0.16766557547515049,
          0.17693036108242644,
          0.18625782616894115,
          0.19611056188532214,
          0.20562193849868016,
          0.21416037701707752,
          0.22254634611288096,
          0.23122915108526512,
          0.23991195605764926,
          0.2483273199651019,
          0.2565918522840408,
          0.2652746572564249,
          0.2744770435402916,
          0.28411056809531215,
          0.2931646441931306,
          0.30169687618238206,
          0.3101992608005674,
          0.31864149811720377,
          0.3267596597904526,
          0.3348778214637013,
          0.34296691158202725
         ],
         "yaxis": "y3"
        }
       ],
       "layout": {
        "annotations": [
         {
          "font": {
           "size": 16
          },
          "showarrow": false,
          "text": "$Blood Plasma$",
          "x": 0.14444444444444446,
          "xanchor": "center",
          "xref": "paper",
          "y": 1,
          "yanchor": "bottom",
          "yref": "paper"
         },
         {
          "font": {
           "size": 16
          },
          "showarrow": false,
          "text": "$Muscle$",
          "x": 0.5,
          "xanchor": "center",
          "xref": "paper",
          "y": 1,
          "yanchor": "bottom",
          "yref": "paper"
         },
         {
          "font": {
           "size": 16
          },
          "showarrow": false,
          "text": "$RRIFT fit$",
          "x": 0.8555555555555556,
          "xanchor": "center",
          "xref": "paper",
          "y": 1,
          "yanchor": "bottom",
          "yref": "paper"
         },
         {
          "font": {
           "color": "black",
           "size": 17
          },
          "showarrow": false,
          "text": "$Tail$",
          "x": 6.1,
          "xanchor": "right",
          "xref": "x",
          "xshift": -60,
          "y": 1,
          "yanchor": "top",
          "yref": "y domain",
          "yshift": -50
         },
         {
          "align": "right",
          "arrowcolor": "black",
          "arrowhead": 2,
          "arrowsize": 1,
          "arrowwidth": 3,
          "ax": 6.1,
          "axref": "x",
          "ay": 4.65,
          "ayref": "y",
          "showarrow": true,
          "text": "",
          "x": 2.8,
          "xref": "x",
          "y": 4.65,
          "yref": "y"
         },
         {
          "align": "right",
          "arrowcolor": "black",
          "arrowhead": 2,
          "arrowsize": 1,
          "arrowwidth": 3,
          "ax": 2.8,
          "axref": "x",
          "ay": 4.65,
          "ayref": "y",
          "showarrow": true,
          "text": "",
          "x": 6.1,
          "xref": "x",
          "y": 4.65,
          "yref": "y"
         },
         {
          "arrowcolor": "black",
          "arrowhead": 2,
          "arrowsize": 1,
          "arrowwidth": 3,
          "ax": 2.8,
          "axref": "x",
          "ay": 3.65,
          "ayref": "y",
          "font": {
           "color": "black",
           "family": "Courier New, monospace",
           "size": 16
          },
          "showarrow": true,
          "text": "$t_{start}$",
          "x": 2.8,
          "xref": "x",
          "y": 2.65,
          "yref": "y",
          "yshift": -50
         },
         {
          "align": "right",
          "arrowcolor": "black",
          "arrowhead": 2,
          "arrowsize": 1,
          "arrowwidth": 3,
          "ax": 6.1,
          "axref": "x",
          "ay": 3.65,
          "ayref": "y",
          "font": {
           "color": "black",
           "family": "Courier New, monospace",
           "size": 16
          },
          "showarrow": true,
          "text": "$t_{end}$",
          "x": 6.1,
          "xref": "x",
          "y": 2.65,
          "yref": "y",
          "yshift": -50
         }
        ],
        "shapes": [
         {
          "fillcolor": "#e6e6e6",
          "layer": "below",
          "line": {
           "width": 0
          },
          "type": "rect",
          "x0": 2.8,
          "x1": 6.1,
          "xref": "x",
          "y0": 0,
          "y1": 1,
          "yref": "y domain"
         }
        ],
        "template": {
         "data": {
          "bar": [
           {
            "error_x": {
             "color": "#2a3f5f"
            },
            "error_y": {
             "color": "#2a3f5f"
            },
            "marker": {
             "line": {
              "color": "#E5ECF6",
              "width": 0.5
             }
            },
            "type": "bar"
           }
          ],
          "barpolar": [
           {
            "marker": {
             "line": {
              "color": "#E5ECF6",
              "width": 0.5
             }
            },
            "type": "barpolar"
           }
          ],
          "carpet": [
           {
            "aaxis": {
             "endlinecolor": "#2a3f5f",
             "gridcolor": "white",
             "linecolor": "white",
             "minorgridcolor": "white",
             "startlinecolor": "#2a3f5f"
            },
            "baxis": {
             "endlinecolor": "#2a3f5f",
             "gridcolor": "white",
             "linecolor": "white",
             "minorgridcolor": "white",
             "startlinecolor": "#2a3f5f"
            },
            "type": "carpet"
           }
          ],
          "choropleth": [
           {
            "colorbar": {
             "outlinewidth": 0,
             "ticks": ""
            },
            "type": "choropleth"
           }
          ],
          "contour": [
           {
            "colorbar": {
             "outlinewidth": 0,
             "ticks": ""
            },
            "colorscale": [
             [
              0,
              "#0d0887"
             ],
             [
              0.1111111111111111,
              "#46039f"
             ],
             [
              0.2222222222222222,
              "#7201a8"
             ],
             [
              0.3333333333333333,
              "#9c179e"
             ],
             [
              0.4444444444444444,
              "#bd3786"
             ],
             [
              0.5555555555555556,
              "#d8576b"
             ],
             [
              0.6666666666666666,
              "#ed7953"
             ],
             [
              0.7777777777777778,
              "#fb9f3a"
             ],
             [
              0.8888888888888888,
              "#fdca26"
             ],
             [
              1,
              "#f0f921"
             ]
            ],
            "type": "contour"
           }
          ],
          "contourcarpet": [
           {
            "colorbar": {
             "outlinewidth": 0,
             "ticks": ""
            },
            "type": "contourcarpet"
           }
          ],
          "heatmap": [
           {
            "colorbar": {
             "outlinewidth": 0,
             "ticks": ""
            },
            "colorscale": [
             [
              0,
              "#0d0887"
             ],
             [
              0.1111111111111111,
              "#46039f"
             ],
             [
              0.2222222222222222,
              "#7201a8"
             ],
             [
              0.3333333333333333,
              "#9c179e"
             ],
             [
              0.4444444444444444,
              "#bd3786"
             ],
             [
              0.5555555555555556,
              "#d8576b"
             ],
             [
              0.6666666666666666,
              "#ed7953"
             ],
             [
              0.7777777777777778,
              "#fb9f3a"
             ],
             [
              0.8888888888888888,
              "#fdca26"
             ],
             [
              1,
              "#f0f921"
             ]
            ],
            "type": "heatmap"
           }
          ],
          "heatmapgl": [
           {
            "colorbar": {
             "outlinewidth": 0,
             "ticks": ""
            },
            "colorscale": [
             [
              0,
              "#0d0887"
             ],
             [
              0.1111111111111111,
              "#46039f"
             ],
             [
              0.2222222222222222,
              "#7201a8"
             ],
             [
              0.3333333333333333,
              "#9c179e"
             ],
             [
              0.4444444444444444,
              "#bd3786"
             ],
             [
              0.5555555555555556,
              "#d8576b"
             ],
             [
              0.6666666666666666,
              "#ed7953"
             ],
             [
              0.7777777777777778,
              "#fb9f3a"
             ],
             [
              0.8888888888888888,
              "#fdca26"
             ],
             [
              1,
              "#f0f921"
             ]
            ],
            "type": "heatmapgl"
           }
          ],
          "histogram": [
           {
            "marker": {
             "colorbar": {
              "outlinewidth": 0,
              "ticks": ""
             }
            },
            "type": "histogram"
           }
          ],
          "histogram2d": [
           {
            "colorbar": {
             "outlinewidth": 0,
             "ticks": ""
            },
            "colorscale": [
             [
              0,
              "#0d0887"
             ],
             [
              0.1111111111111111,
              "#46039f"
             ],
             [
              0.2222222222222222,
              "#7201a8"
             ],
             [
              0.3333333333333333,
              "#9c179e"
             ],
             [
              0.4444444444444444,
              "#bd3786"
             ],
             [
              0.5555555555555556,
              "#d8576b"
             ],
             [
              0.6666666666666666,
              "#ed7953"
             ],
             [
              0.7777777777777778,
              "#fb9f3a"
             ],
             [
              0.8888888888888888,
              "#fdca26"
             ],
             [
              1,
              "#f0f921"
             ]
            ],
            "type": "histogram2d"
           }
          ],
          "histogram2dcontour": [
           {
            "colorbar": {
             "outlinewidth": 0,
             "ticks": ""
            },
            "colorscale": [
             [
              0,
              "#0d0887"
             ],
             [
              0.1111111111111111,
              "#46039f"
             ],
             [
              0.2222222222222222,
              "#7201a8"
             ],
             [
              0.3333333333333333,
              "#9c179e"
             ],
             [
              0.4444444444444444,
              "#bd3786"
             ],
             [
              0.5555555555555556,
              "#d8576b"
             ],
             [
              0.6666666666666666,
              "#ed7953"
             ],
             [
              0.7777777777777778,
              "#fb9f3a"
             ],
             [
              0.8888888888888888,
              "#fdca26"
             ],
             [
              1,
              "#f0f921"
             ]
            ],
            "type": "histogram2dcontour"
           }
          ],
          "mesh3d": [
           {
            "colorbar": {
             "outlinewidth": 0,
             "ticks": ""
            },
            "type": "mesh3d"
           }
          ],
          "parcoords": [
           {
            "line": {
             "colorbar": {
              "outlinewidth": 0,
              "ticks": ""
             }
            },
            "type": "parcoords"
           }
          ],
          "pie": [
           {
            "automargin": true,
            "type": "pie"
           }
          ],
          "scatter": [
           {
            "marker": {
             "colorbar": {
              "outlinewidth": 0,
              "ticks": ""
             }
            },
            "type": "scatter"
           }
          ],
          "scatter3d": [
           {
            "line": {
             "colorbar": {
              "outlinewidth": 0,
              "ticks": ""
             }
            },
            "marker": {
             "colorbar": {
              "outlinewidth": 0,
              "ticks": ""
             }
            },
            "type": "scatter3d"
           }
          ],
          "scattercarpet": [
           {
            "marker": {
             "colorbar": {
              "outlinewidth": 0,
              "ticks": ""
             }
            },
            "type": "scattercarpet"
           }
          ],
          "scattergeo": [
           {
            "marker": {
             "colorbar": {
              "outlinewidth": 0,
              "ticks": ""
             }
            },
            "type": "scattergeo"
           }
          ],
          "scattergl": [
           {
            "marker": {
             "colorbar": {
              "outlinewidth": 0,
              "ticks": ""
             }
            },
            "type": "scattergl"
           }
          ],
          "scattermapbox": [
           {
            "marker": {
             "colorbar": {
              "outlinewidth": 0,
              "ticks": ""
             }
            },
            "type": "scattermapbox"
           }
          ],
          "scatterpolar": [
           {
            "marker": {
             "colorbar": {
              "outlinewidth": 0,
              "ticks": ""
             }
            },
            "type": "scatterpolar"
           }
          ],
          "scatterpolargl": [
           {
            "marker": {
             "colorbar": {
              "outlinewidth": 0,
              "ticks": ""
             }
            },
            "type": "scatterpolargl"
           }
          ],
          "scatterternary": [
           {
            "marker": {
             "colorbar": {
              "outlinewidth": 0,
              "ticks": ""
             }
            },
            "type": "scatterternary"
           }
          ],
          "surface": [
           {
            "colorbar": {
             "outlinewidth": 0,
             "ticks": ""
            },
            "colorscale": [
             [
              0,
              "#0d0887"
             ],
             [
              0.1111111111111111,
              "#46039f"
             ],
             [
              0.2222222222222222,
              "#7201a8"
             ],
             [
              0.3333333333333333,
              "#9c179e"
             ],
             [
              0.4444444444444444,
              "#bd3786"
             ],
             [
              0.5555555555555556,
              "#d8576b"
             ],
             [
              0.6666666666666666,
              "#ed7953"
             ],
             [
              0.7777777777777778,
              "#fb9f3a"
             ],
             [
              0.8888888888888888,
              "#fdca26"
             ],
             [
              1,
              "#f0f921"
             ]
            ],
            "type": "surface"
           }
          ],
          "table": [
           {
            "cells": {
             "fill": {
              "color": "#EBF0F8"
             },
             "line": {
              "color": "white"
             }
            },
            "header": {
             "fill": {
              "color": "#C8D4E3"
             },
             "line": {
              "color": "white"
             }
            },
            "type": "table"
           }
          ]
         },
         "layout": {
          "annotationdefaults": {
           "arrowcolor": "#2a3f5f",
           "arrowhead": 0,
           "arrowwidth": 1
          },
          "autotypenumbers": "strict",
          "coloraxis": {
           "colorbar": {
            "outlinewidth": 0,
            "ticks": ""
           }
          },
          "colorscale": {
           "diverging": [
            [
             0,
             "#8e0152"
            ],
            [
             0.1,
             "#c51b7d"
            ],
            [
             0.2,
             "#de77ae"
            ],
            [
             0.3,
             "#f1b6da"
            ],
            [
             0.4,
             "#fde0ef"
            ],
            [
             0.5,
             "#f7f7f7"
            ],
            [
             0.6,
             "#e6f5d0"
            ],
            [
             0.7,
             "#b8e186"
            ],
            [
             0.8,
             "#7fbc41"
            ],
            [
             0.9,
             "#4d9221"
            ],
            [
             1,
             "#276419"
            ]
           ],
           "sequential": [
            [
             0,
             "#0d0887"
            ],
            [
             0.1111111111111111,
             "#46039f"
            ],
            [
             0.2222222222222222,
             "#7201a8"
            ],
            [
             0.3333333333333333,
             "#9c179e"
            ],
            [
             0.4444444444444444,
             "#bd3786"
            ],
            [
             0.5555555555555556,
             "#d8576b"
            ],
            [
             0.6666666666666666,
             "#ed7953"
            ],
            [
             0.7777777777777778,
             "#fb9f3a"
            ],
            [
             0.8888888888888888,
             "#fdca26"
            ],
            [
             1,
             "#f0f921"
            ]
           ],
           "sequentialminus": [
            [
             0,
             "#0d0887"
            ],
            [
             0.1111111111111111,
             "#46039f"
            ],
            [
             0.2222222222222222,
             "#7201a8"
            ],
            [
             0.3333333333333333,
             "#9c179e"
            ],
            [
             0.4444444444444444,
             "#bd3786"
            ],
            [
             0.5555555555555556,
             "#d8576b"
            ],
            [
             0.6666666666666666,
             "#ed7953"
            ],
            [
             0.7777777777777778,
             "#fb9f3a"
            ],
            [
             0.8888888888888888,
             "#fdca26"
            ],
            [
             1,
             "#f0f921"
            ]
           ]
          },
          "colorway": [
           "#636efa",
           "#EF553B",
           "#00cc96",
           "#ab63fa",
           "#FFA15A",
           "#19d3f3",
           "#FF6692",
           "#B6E880",
           "#FF97FF",
           "#FECB52"
          ],
          "font": {
           "color": "#2a3f5f"
          },
          "geo": {
           "bgcolor": "white",
           "lakecolor": "white",
           "landcolor": "#E5ECF6",
           "showlakes": true,
           "showland": true,
           "subunitcolor": "white"
          },
          "hoverlabel": {
           "align": "left"
          },
          "hovermode": "closest",
          "mapbox": {
           "style": "light"
          },
          "paper_bgcolor": "white",
          "plot_bgcolor": "#E5ECF6",
          "polar": {
           "angularaxis": {
            "gridcolor": "white",
            "linecolor": "white",
            "ticks": ""
           },
           "bgcolor": "#E5ECF6",
           "radialaxis": {
            "gridcolor": "white",
            "linecolor": "white",
            "ticks": ""
           }
          },
          "scene": {
           "xaxis": {
            "backgroundcolor": "#E5ECF6",
            "gridcolor": "white",
            "gridwidth": 2,
            "linecolor": "white",
            "showbackground": true,
            "ticks": "",
            "zerolinecolor": "white"
           },
           "yaxis": {
            "backgroundcolor": "#E5ECF6",
            "gridcolor": "white",
            "gridwidth": 2,
            "linecolor": "white",
            "showbackground": true,
            "ticks": "",
            "zerolinecolor": "white"
           },
           "zaxis": {
            "backgroundcolor": "#E5ECF6",
            "gridcolor": "white",
            "gridwidth": 2,
            "linecolor": "white",
            "showbackground": true,
            "ticks": "",
            "zerolinecolor": "white"
           }
          },
          "shapedefaults": {
           "line": {
            "color": "#2a3f5f"
           }
          },
          "ternary": {
           "aaxis": {
            "gridcolor": "white",
            "linecolor": "white",
            "ticks": ""
           },
           "baxis": {
            "gridcolor": "white",
            "linecolor": "white",
            "ticks": ""
           },
           "bgcolor": "#E5ECF6",
           "caxis": {
            "gridcolor": "white",
            "linecolor": "white",
            "ticks": ""
           }
          },
          "title": {
           "x": 0.05
          },
          "xaxis": {
           "automargin": true,
           "gridcolor": "white",
           "linecolor": "white",
           "ticks": "",
           "title": {
            "standoff": 15
           },
           "zerolinecolor": "white",
           "zerolinewidth": 2
          },
          "yaxis": {
           "automargin": true,
           "gridcolor": "white",
           "linecolor": "white",
           "ticks": "",
           "title": {
            "standoff": 15
           },
           "zerolinecolor": "white",
           "zerolinewidth": 2
          }
         }
        },
        "xaxis": {
         "anchor": "y",
         "domain": [
          0,
          0.2888888888888889
         ],
         "range": [
          0,
          7
         ],
         "tickvals": [
          0,
          2,
          4,
          6
         ],
         "title": {
          "text": "$Time [min]$"
         }
        },
        "xaxis2": {
         "anchor": "y2",
         "domain": [
          0.35555555555555557,
          0.6444444444444445
         ],
         "range": [
          0,
          6
         ],
         "tickvals": [
          0,
          2,
          4,
          6
         ],
         "title": {
          "text": "$Time [min]$"
         }
        },
        "xaxis3": {
         "anchor": "y3",
         "domain": [
          0.7111111111111111,
          1
         ],
         "range": [
          0,
          6
         ],
         "tickvals": [
          0,
          2,
          4,
          6
         ],
         "title": {
          "text": "$Time [min]$"
         }
        },
        "yaxis": {
         "anchor": "x",
         "domain": [
          0,
          1
         ],
         "range": [
          0,
          6
         ],
         "tickvals": [
          1,
          2,
          3,
          4,
          5,
          6
         ],
         "title": {
          "text": "$Concentration [mM]$"
         }
        },
        "yaxis2": {
         "anchor": "x2",
         "domain": [
          0,
          1
         ],
         "range": [
          0,
          0.3
         ],
         "tickvals": [
          0,
          0.05,
          0.1,
          0.15,
          0.2,
          0.25,
          0.3
         ],
         "title": {
          "text": "$Concentration [mM]$"
         }
        },
        "yaxis3": {
         "anchor": "x3",
         "domain": [
          0,
          1
         ],
         "range": [
          0,
          0.35
         ],
         "tickvals": [
          0,
          0.05,
          0.1,
          0.15,
          0.2,
          0.25,
          0.3,
          0.35
         ],
         "title": {
          "text": "$Numerator$"
         }
        }
       }
      },
      "text/html": [
       "<div>                            <div id=\"17b18bca-02e6-4c66-be47-a9a64b6e0cd9\" class=\"plotly-graph-div\" style=\"height:525px; width:100%;\"></div>            <script type=\"text/javascript\">                require([\"plotly\"], function(Plotly) {                    window.PLOTLYENV=window.PLOTLYENV || {};                                    if (document.getElementById(\"17b18bca-02e6-4c66-be47-a9a64b6e0cd9\")) {                    Plotly.newPlot(                        \"17b18bca-02e6-4c66-be47-a9a64b6e0cd9\",                        [{\"line\": {\"color\": \"#e3988b\"}, \"showlegend\": false, \"type\": \"scatter\", \"x\": [0.08848333333333333, 0.17696666666666666, 0.26544999999999996, 0.3539333333333333, 0.4424166666666667, 0.5308999999999999, 0.6193833333333333, 0.7078666666666666, 0.79635, 0.8848333333333334, 0.9733166666666667, 1.0617999999999999, 1.1502833333333333, 1.2387666666666666, 1.32725, 1.4157333333333333, 1.5042166666666668, 1.5927, 1.6811833333333335, 1.7696666666666667, 1.8581500000000002, 1.9466333333333334, 2.0351166666666667, 2.1235999999999997, 2.2120833333333336, 2.3005666666666666, 2.38905, 2.477533333333333, 2.566016666666667, 2.6545, 2.742983333333333, 2.8314666666666666, 2.9199499999999996, 3.0084333333333335, 3.0969166666666665, 3.1854, 3.273883333333333, 3.362366666666667, 3.45085, 3.5393333333333334, 3.6278166666666665, 3.7163000000000004, 3.8047833333333334, 3.893266666666667, 3.98175, 4.070233333333333, 4.158716666666666, 4.247199999999999, 4.335683333333334, 4.424166666666667, 4.51265, 4.601133333333333, 4.689616666666667, 4.7781, 4.866583333333333, 4.955066666666666, 5.04355, 5.132033333333334, 5.220516666666667, 5.309, 5.397483333333334, 5.485966666666666, 5.57445, 5.662933333333333, 5.751416666666667, 5.839899999999999, 5.928383333333334, 6.016866666666667, 6.1053500000000005, 6.193833333333333], \"xaxis\": \"x\", \"y\": [0.0, 0.05936340242624283, 0.0, 0.07587236911058426, 0.04840806499123573, 0.02119535021483898, 0.02119535021483898, 0.19405007362365723, 5.094789028167725, 5.343532562255859, 2.528486490249634, 1.4716782569885254, 1.8422976732254028, 2.0128092765808105, 2.1809000968933105, 2.140709161758423, 2.0811679363250732, 1.9361069202423096, 1.8238049745559692, 1.9077261686325073, 1.7416709661483765, 1.7688539028167725, 1.643629550933838, 1.6789880990982056, 1.759771466255188, 1.6701173782348633, 1.5139260292053223, 1.6967922449111938, 1.4800891876220703, 1.5738941431045532, 1.4800891876220703, 1.522433876991272, 1.3722237348556519, 1.3154397010803223, 1.4133347272872925, 1.4299097061157227, 1.3234972953796387, 1.2358428239822388, 1.220133900642395, 1.2358428239822388, 1.4216127395629883, 1.307400107383728, 1.196700096130371, 1.3559086322784424, 1.307400107383728, 1.2279796600341797, 1.2123054265975952, 1.2358428239822388, 1.2044941186904907, 1.2123054265975952, 1.104488730430603, 1.2279796600341797, 1.2358428239822388, 1.1426169872283936, 0.9925444722175598, 1.104488730430603, 1.0667716264724731, 1.104488730430603, 0.9998959302902222, 1.0667716264724731, 1.104488730430603, 1.196700096130371, 1.2123054265975952, 1.0517984628677368, 1.081809639930725, 1.044335961341858, 1.0667716264724731, 0.9632952213287354, 1.0667716264724731, 0.9560216665267944], \"yaxis\": \"y\"}, {\"line\": {\"color\": \"#97d6d0\"}, \"showlegend\": false, \"type\": \"scatter\", \"x\": [0.08848333333333333, 0.17696666666666666, 0.26544999999999996, 0.3539333333333333, 0.4424166666666667, 0.5308999999999999, 0.6193833333333333, 0.7078666666666666, 0.79635, 0.8848333333333334, 0.9733166666666667, 1.0617999999999999, 1.1502833333333333, 1.2387666666666666, 1.32725, 1.4157333333333333, 1.5042166666666668, 1.5927, 1.6811833333333335, 1.7696666666666667, 1.8581500000000002, 1.9466333333333334, 2.0351166666666667, 2.1235999999999997, 2.2120833333333336, 2.3005666666666666, 2.38905, 2.477533333333333, 2.566016666666667, 2.6545, 2.742983333333333, 2.8314666666666666, 2.9199499999999996, 3.0084333333333335, 3.0969166666666665, 3.1854, 3.273883333333333, 3.362366666666667, 3.45085, 3.5393333333333334, 3.6278166666666665, 3.7163000000000004, 3.8047833333333334, 3.893266666666667, 3.98175, 4.070233333333333, 4.158716666666666, 4.247199999999999, 4.335683333333334, 4.424166666666667, 4.51265, 4.601133333333333, 4.689616666666667, 4.7781, 4.866583333333333, 4.955066666666666, 5.04355, 5.132033333333334, 5.220516666666667, 5.309, 5.397483333333334, 5.485966666666666, 5.57445, 5.662933333333333, 5.751416666666667, 5.839899999999999, 5.928383333333334, 6.016866666666667, 6.1053500000000005, 6.193833333333333], \"xaxis\": \"x2\", \"y\": [0.0022879450116306543, 0.0, 0.0, 0.0, 0.0, 0.002333232434466481, 0.0008573648519814014, 0.0008231400861404836, 0.00559269031509757, 0.051930323243141174, 0.08716078847646713, 0.10862405598163605, 0.11795918643474579, 0.13139672577381134, 0.1403198391199112, 0.1439535915851593, 0.15654966235160828, 0.163747638463974, 0.16726018488407135, 0.17686691880226135, 0.17956461012363434, 0.18395651876926422, 0.18934319913387299, 0.1894552856683731, 0.19634053111076355, 0.20340603590011597, 0.20533426105976105, 0.20517608523368835, 0.20736032724380493, 0.21393819153308868, 0.21219667792320251, 0.21475860476493835, 0.2186042219400406, 0.21081463992595673, 0.2285229116678238, 0.22310219705104828, 0.22259150445461273, 0.22715450823307037, 0.22464360296726227, 0.22796276211738586, 0.2273922562599182, 0.22844070196151733, 0.2343662828207016, 0.2277524620294571, 0.23346160352230072, 0.2354019284248352, 0.2356625348329544, 0.23865853250026703, 0.23735369741916656, 0.23642170429229736, 0.2382230907678604, 0.24117565155029297, 0.2420143187046051, 0.24235151708126068, 0.24189002811908722, 0.23982733488082886, 0.24545125663280487, 0.24433594942092896, 0.24196061491966248, 0.23240172863006592, 0.24293069541454315, 0.24363267421722412, 0.23986782133579254, 0.24307802319526672, 0.24072885513305664, 0.24357904493808746, 0.24624663591384888, 0.2465737909078598, 0.24518649280071259, 0.23758697509765625], \"yaxis\": \"y2\"}, {\"marker\": {\"color\": \"red\", \"size\": 14, \"symbol\": \"circle-open\"}, \"mode\": \"markers\", \"showlegend\": false, \"type\": \"scatter\", \"x\": [0.0, 0.11890671402215958, 0.239632248878479, 0.3654221296310425, 0.48723745346069336, 0.6004669070243835, 0.709123432636261, 0.8177799582481384, 0.935350239276886, 1.0560863018035889, 1.1668719053268433, 1.2798035144805908, 1.3976327180862427, 1.5098021030426025, 1.6177643537521362, 1.726074457168579, 1.8340389728546143, 1.9409621953964233, 2.0434610843658447, 2.146653413772583, 2.2556569576263428, 2.360883951187134, 2.4553470611572266, 2.548123359680176, 2.64418363571167, 2.740243911743164, 2.833345413208008, 2.9247782230377197, 3.020838499069214, 3.1226470470428467, 3.2292253971099854, 3.329393148422241, 3.4237875938415527, 3.5178518295288086, 3.611250638961792, 3.701064109802246, 3.7908775806427, 3.8803694248199463], \"xaxis\": \"x3\", \"y\": [0.0, 0.00017817970078997866, 0.026038252013978157, 0.028997330578827866, 0.036756375357192, 0.04966430615105478, 0.0555364040855058, 0.06725356338857799, 0.07513205827210366, 0.08463837277134265, 0.09915122378140036, 0.101111903017804, 0.11537875843568553, 0.1260187312370463, 0.1350198232849281, 0.14681673208230436, 0.15434418723848592, 0.16220298054983223, 0.17281128484407404, 0.18465897177118257, 0.19446311037516145, 0.2037875980981611, 0.21231109230098572, 0.21918654664577047, 0.23381469370286784, 0.24178726803367034, 0.24843504707378508, 0.24767783778433106, 0.2670264811747294, 0.27675652402556505, 0.28196290431458515, 0.29413404793076486, 0.30076179789629603, 0.31259820206468647, 0.32435438847357534, 0.33382570567805553, 0.3415628990857951, 0.3429211247332808], \"yaxis\": \"y3\"}, {\"line\": {\"color\": \"black\"}, \"mode\": \"lines\", \"showlegend\": false, \"type\": \"scatter\", \"x\": [0.0, 0.11890671402215958, 0.239632248878479, 0.3654221296310425, 0.48723745346069336, 0.6004669070243835, 0.709123432636261, 0.8177799582481384, 0.935350239276886, 1.0560863018035889, 1.1668719053268433, 1.2798035144805908, 1.3976327180862427, 1.5098021030426025, 1.6177643537521362, 1.726074457168579, 1.8340389728546143, 1.9409621953964233, 2.0434610843658447, 2.146653413772583, 2.2556569576263428, 2.360883951187134, 2.4553470611572266, 2.548123359680176, 2.64418363571167, 2.740243911743164, 2.833345413208008, 2.9247782230377197, 3.020838499069214, 3.1226470470428467, 3.2292253971099854, 3.329393148422241, 3.4237875938415527, 3.5178518295288086, 3.611250638961792, 3.701064109802246, 3.7908775806427, 3.8803694248199463], \"xaxis\": \"x3\", \"y\": [-0.007776312656342189, 0.0029715620158372973, 0.013883838324521985, 0.025253876463032815, 0.036264657851105254, 0.04649936987817475, 0.056320738916875814, 0.06614210795557687, 0.07676918360947485, 0.08768241150514772, 0.09769622604826764, 0.1079040161776445, 0.11855449561853004, 0.12869338896429802, 0.13845200309719083, 0.14824205933433302, 0.15800087819648584, 0.16766557547515049, 0.17693036108242644, 0.18625782616894115, 0.19611056188532214, 0.20562193849868016, 0.21416037701707752, 0.22254634611288096, 0.23122915108526512, 0.23991195605764926, 0.2483273199651019, 0.2565918522840408, 0.2652746572564249, 0.2744770435402916, 0.28411056809531215, 0.2931646441931306, 0.30169687618238206, 0.3101992608005674, 0.31864149811720377, 0.3267596597904526, 0.3348778214637013, 0.34296691158202725], \"yaxis\": \"y3\"}],                        {\"annotations\": [{\"font\": {\"size\": 16}, \"showarrow\": false, \"text\": \"$Blood Plasma$\", \"x\": 0.14444444444444446, \"xanchor\": \"center\", \"xref\": \"paper\", \"y\": 1.0, \"yanchor\": \"bottom\", \"yref\": \"paper\"}, {\"font\": {\"size\": 16}, \"showarrow\": false, \"text\": \"$Muscle$\", \"x\": 0.5, \"xanchor\": \"center\", \"xref\": \"paper\", \"y\": 1.0, \"yanchor\": \"bottom\", \"yref\": \"paper\"}, {\"font\": {\"size\": 16}, \"showarrow\": false, \"text\": \"$RRIFT fit$\", \"x\": 0.8555555555555556, \"xanchor\": \"center\", \"xref\": \"paper\", \"y\": 1.0, \"yanchor\": \"bottom\", \"yref\": \"paper\"}, {\"font\": {\"color\": \"black\", \"size\": 17}, \"showarrow\": false, \"text\": \"$Tail$\", \"x\": 6.1, \"xanchor\": \"right\", \"xref\": \"x\", \"xshift\": -60, \"y\": 1, \"yanchor\": \"top\", \"yref\": \"y domain\", \"yshift\": -50}, {\"align\": \"right\", \"arrowcolor\": \"black\", \"arrowhead\": 2, \"arrowsize\": 1, \"arrowwidth\": 3, \"ax\": 6.1, \"axref\": \"x\", \"ay\": 4.65, \"ayref\": \"y\", \"showarrow\": true, \"text\": \"\", \"x\": 2.8, \"xref\": \"x\", \"y\": 4.65, \"yref\": \"y\"}, {\"align\": \"right\", \"arrowcolor\": \"black\", \"arrowhead\": 2, \"arrowsize\": 1, \"arrowwidth\": 3, \"ax\": 2.8, \"axref\": \"x\", \"ay\": 4.65, \"ayref\": \"y\", \"showarrow\": true, \"text\": \"\", \"x\": 6.1, \"xref\": \"x\", \"y\": 4.65, \"yref\": \"y\"}, {\"arrowcolor\": \"black\", \"arrowhead\": 2, \"arrowsize\": 1, \"arrowwidth\": 3, \"ax\": 2.8, \"axref\": \"x\", \"ay\": 3.65, \"ayref\": \"y\", \"font\": {\"color\": \"black\", \"family\": \"Courier New, monospace\", \"size\": 16}, \"showarrow\": true, \"text\": \"$t_{start}$\", \"x\": 2.8, \"xref\": \"x\", \"y\": 2.65, \"yref\": \"y\", \"yshift\": -50}, {\"align\": \"right\", \"arrowcolor\": \"black\", \"arrowhead\": 2, \"arrowsize\": 1, \"arrowwidth\": 3, \"ax\": 6.1, \"axref\": \"x\", \"ay\": 3.65, \"ayref\": \"y\", \"font\": {\"color\": \"black\", \"family\": \"Courier New, monospace\", \"size\": 16}, \"showarrow\": true, \"text\": \"$t_{end}$\", \"x\": 6.1, \"xref\": \"x\", \"y\": 2.65, \"yref\": \"y\", \"yshift\": -50}], \"shapes\": [{\"fillcolor\": \"#e6e6e6\", \"layer\": \"below\", \"line\": {\"width\": 0}, \"type\": \"rect\", \"x0\": 2.8, \"x1\": 6.1, \"xref\": \"x\", \"y0\": 0, \"y1\": 1, \"yref\": \"y domain\"}], \"template\": {\"data\": {\"bar\": [{\"error_x\": {\"color\": \"#2a3f5f\"}, \"error_y\": {\"color\": \"#2a3f5f\"}, \"marker\": {\"line\": {\"color\": \"#E5ECF6\", \"width\": 0.5}}, \"type\": \"bar\"}], \"barpolar\": [{\"marker\": {\"line\": {\"color\": \"#E5ECF6\", \"width\": 0.5}}, \"type\": \"barpolar\"}], \"carpet\": [{\"aaxis\": {\"endlinecolor\": \"#2a3f5f\", \"gridcolor\": \"white\", \"linecolor\": \"white\", \"minorgridcolor\": \"white\", \"startlinecolor\": \"#2a3f5f\"}, \"baxis\": {\"endlinecolor\": \"#2a3f5f\", \"gridcolor\": \"white\", \"linecolor\": \"white\", \"minorgridcolor\": \"white\", \"startlinecolor\": \"#2a3f5f\"}, \"type\": \"carpet\"}], \"choropleth\": [{\"colorbar\": {\"outlinewidth\": 0, \"ticks\": \"\"}, \"type\": \"choropleth\"}], \"contour\": [{\"colorbar\": {\"outlinewidth\": 0, \"ticks\": \"\"}, \"colorscale\": [[0.0, \"#0d0887\"], [0.1111111111111111, \"#46039f\"], [0.2222222222222222, \"#7201a8\"], [0.3333333333333333, \"#9c179e\"], [0.4444444444444444, \"#bd3786\"], [0.5555555555555556, \"#d8576b\"], [0.6666666666666666, \"#ed7953\"], [0.7777777777777778, \"#fb9f3a\"], [0.8888888888888888, \"#fdca26\"], [1.0, \"#f0f921\"]], \"type\": \"contour\"}], \"contourcarpet\": [{\"colorbar\": {\"outlinewidth\": 0, \"ticks\": \"\"}, \"type\": \"contourcarpet\"}], \"heatmap\": [{\"colorbar\": {\"outlinewidth\": 0, \"ticks\": \"\"}, \"colorscale\": [[0.0, \"#0d0887\"], [0.1111111111111111, \"#46039f\"], [0.2222222222222222, \"#7201a8\"], [0.3333333333333333, \"#9c179e\"], [0.4444444444444444, \"#bd3786\"], [0.5555555555555556, \"#d8576b\"], [0.6666666666666666, \"#ed7953\"], [0.7777777777777778, \"#fb9f3a\"], [0.8888888888888888, \"#fdca26\"], [1.0, \"#f0f921\"]], \"type\": \"heatmap\"}], \"heatmapgl\": [{\"colorbar\": {\"outlinewidth\": 0, \"ticks\": \"\"}, \"colorscale\": [[0.0, \"#0d0887\"], [0.1111111111111111, \"#46039f\"], [0.2222222222222222, \"#7201a8\"], [0.3333333333333333, \"#9c179e\"], [0.4444444444444444, \"#bd3786\"], [0.5555555555555556, \"#d8576b\"], [0.6666666666666666, \"#ed7953\"], [0.7777777777777778, \"#fb9f3a\"], [0.8888888888888888, \"#fdca26\"], [1.0, \"#f0f921\"]], \"type\": \"heatmapgl\"}], \"histogram\": [{\"marker\": {\"colorbar\": {\"outlinewidth\": 0, \"ticks\": \"\"}}, \"type\": \"histogram\"}], \"histogram2d\": [{\"colorbar\": {\"outlinewidth\": 0, \"ticks\": \"\"}, \"colorscale\": [[0.0, \"#0d0887\"], [0.1111111111111111, \"#46039f\"], [0.2222222222222222, \"#7201a8\"], [0.3333333333333333, \"#9c179e\"], [0.4444444444444444, \"#bd3786\"], [0.5555555555555556, \"#d8576b\"], [0.6666666666666666, \"#ed7953\"], [0.7777777777777778, \"#fb9f3a\"], [0.8888888888888888, \"#fdca26\"], [1.0, \"#f0f921\"]], \"type\": \"histogram2d\"}], \"histogram2dcontour\": [{\"colorbar\": {\"outlinewidth\": 0, \"ticks\": \"\"}, \"colorscale\": [[0.0, \"#0d0887\"], [0.1111111111111111, \"#46039f\"], [0.2222222222222222, \"#7201a8\"], [0.3333333333333333, \"#9c179e\"], [0.4444444444444444, \"#bd3786\"], [0.5555555555555556, \"#d8576b\"], [0.6666666666666666, \"#ed7953\"], [0.7777777777777778, \"#fb9f3a\"], [0.8888888888888888, \"#fdca26\"], [1.0, \"#f0f921\"]], \"type\": \"histogram2dcontour\"}], \"mesh3d\": [{\"colorbar\": {\"outlinewidth\": 0, \"ticks\": \"\"}, \"type\": \"mesh3d\"}], \"parcoords\": [{\"line\": {\"colorbar\": {\"outlinewidth\": 0, \"ticks\": \"\"}}, \"type\": \"parcoords\"}], \"pie\": [{\"automargin\": true, \"type\": \"pie\"}], \"scatter\": [{\"marker\": {\"colorbar\": {\"outlinewidth\": 0, \"ticks\": \"\"}}, \"type\": \"scatter\"}], \"scatter3d\": [{\"line\": {\"colorbar\": {\"outlinewidth\": 0, \"ticks\": \"\"}}, \"marker\": {\"colorbar\": {\"outlinewidth\": 0, \"ticks\": \"\"}}, \"type\": \"scatter3d\"}], \"scattercarpet\": [{\"marker\": {\"colorbar\": {\"outlinewidth\": 0, \"ticks\": \"\"}}, \"type\": \"scattercarpet\"}], \"scattergeo\": [{\"marker\": {\"colorbar\": {\"outlinewidth\": 0, \"ticks\": \"\"}}, \"type\": \"scattergeo\"}], \"scattergl\": [{\"marker\": {\"colorbar\": {\"outlinewidth\": 0, \"ticks\": \"\"}}, \"type\": \"scattergl\"}], \"scattermapbox\": [{\"marker\": {\"colorbar\": {\"outlinewidth\": 0, \"ticks\": \"\"}}, \"type\": \"scattermapbox\"}], \"scatterpolar\": [{\"marker\": {\"colorbar\": {\"outlinewidth\": 0, \"ticks\": \"\"}}, \"type\": \"scatterpolar\"}], \"scatterpolargl\": [{\"marker\": {\"colorbar\": {\"outlinewidth\": 0, \"ticks\": \"\"}}, \"type\": \"scatterpolargl\"}], \"scatterternary\": [{\"marker\": {\"colorbar\": {\"outlinewidth\": 0, \"ticks\": \"\"}}, \"type\": \"scatterternary\"}], \"surface\": [{\"colorbar\": {\"outlinewidth\": 0, \"ticks\": \"\"}, \"colorscale\": [[0.0, \"#0d0887\"], [0.1111111111111111, \"#46039f\"], [0.2222222222222222, \"#7201a8\"], [0.3333333333333333, \"#9c179e\"], [0.4444444444444444, \"#bd3786\"], [0.5555555555555556, \"#d8576b\"], [0.6666666666666666, \"#ed7953\"], [0.7777777777777778, \"#fb9f3a\"], [0.8888888888888888, \"#fdca26\"], [1.0, \"#f0f921\"]], \"type\": \"surface\"}], \"table\": [{\"cells\": {\"fill\": {\"color\": \"#EBF0F8\"}, \"line\": {\"color\": \"white\"}}, \"header\": {\"fill\": {\"color\": \"#C8D4E3\"}, \"line\": {\"color\": \"white\"}}, \"type\": \"table\"}]}, \"layout\": {\"annotationdefaults\": {\"arrowcolor\": \"#2a3f5f\", \"arrowhead\": 0, \"arrowwidth\": 1}, \"autotypenumbers\": \"strict\", \"coloraxis\": {\"colorbar\": {\"outlinewidth\": 0, \"ticks\": \"\"}}, \"colorscale\": {\"diverging\": [[0, \"#8e0152\"], [0.1, \"#c51b7d\"], [0.2, \"#de77ae\"], [0.3, \"#f1b6da\"], [0.4, \"#fde0ef\"], [0.5, \"#f7f7f7\"], [0.6, \"#e6f5d0\"], [0.7, \"#b8e186\"], [0.8, \"#7fbc41\"], [0.9, \"#4d9221\"], [1, \"#276419\"]], \"sequential\": [[0.0, \"#0d0887\"], [0.1111111111111111, \"#46039f\"], [0.2222222222222222, \"#7201a8\"], [0.3333333333333333, \"#9c179e\"], [0.4444444444444444, \"#bd3786\"], [0.5555555555555556, \"#d8576b\"], [0.6666666666666666, \"#ed7953\"], [0.7777777777777778, \"#fb9f3a\"], [0.8888888888888888, \"#fdca26\"], [1.0, \"#f0f921\"]], \"sequentialminus\": [[0.0, \"#0d0887\"], [0.1111111111111111, \"#46039f\"], [0.2222222222222222, \"#7201a8\"], [0.3333333333333333, \"#9c179e\"], [0.4444444444444444, \"#bd3786\"], [0.5555555555555556, \"#d8576b\"], [0.6666666666666666, \"#ed7953\"], [0.7777777777777778, \"#fb9f3a\"], [0.8888888888888888, \"#fdca26\"], [1.0, \"#f0f921\"]]}, \"colorway\": [\"#636efa\", \"#EF553B\", \"#00cc96\", \"#ab63fa\", \"#FFA15A\", \"#19d3f3\", \"#FF6692\", \"#B6E880\", \"#FF97FF\", \"#FECB52\"], \"font\": {\"color\": \"#2a3f5f\"}, \"geo\": {\"bgcolor\": \"white\", \"lakecolor\": \"white\", \"landcolor\": \"#E5ECF6\", \"showlakes\": true, \"showland\": true, \"subunitcolor\": \"white\"}, \"hoverlabel\": {\"align\": \"left\"}, \"hovermode\": \"closest\", \"mapbox\": {\"style\": \"light\"}, \"paper_bgcolor\": \"white\", \"plot_bgcolor\": \"#E5ECF6\", \"polar\": {\"angularaxis\": {\"gridcolor\": \"white\", \"linecolor\": \"white\", \"ticks\": \"\"}, \"bgcolor\": \"#E5ECF6\", \"radialaxis\": {\"gridcolor\": \"white\", \"linecolor\": \"white\", \"ticks\": \"\"}}, \"scene\": {\"xaxis\": {\"backgroundcolor\": \"#E5ECF6\", \"gridcolor\": \"white\", \"gridwidth\": 2, \"linecolor\": \"white\", \"showbackground\": true, \"ticks\": \"\", \"zerolinecolor\": \"white\"}, \"yaxis\": {\"backgroundcolor\": \"#E5ECF6\", \"gridcolor\": \"white\", \"gridwidth\": 2, \"linecolor\": \"white\", \"showbackground\": true, \"ticks\": \"\", \"zerolinecolor\": \"white\"}, \"zaxis\": {\"backgroundcolor\": \"#E5ECF6\", \"gridcolor\": \"white\", \"gridwidth\": 2, \"linecolor\": \"white\", \"showbackground\": true, \"ticks\": \"\", \"zerolinecolor\": \"white\"}}, \"shapedefaults\": {\"line\": {\"color\": \"#2a3f5f\"}}, \"ternary\": {\"aaxis\": {\"gridcolor\": \"white\", \"linecolor\": \"white\", \"ticks\": \"\"}, \"baxis\": {\"gridcolor\": \"white\", \"linecolor\": \"white\", \"ticks\": \"\"}, \"bgcolor\": \"#E5ECF6\", \"caxis\": {\"gridcolor\": \"white\", \"linecolor\": \"white\", \"ticks\": \"\"}}, \"title\": {\"x\": 0.05}, \"xaxis\": {\"automargin\": true, \"gridcolor\": \"white\", \"linecolor\": \"white\", \"ticks\": \"\", \"title\": {\"standoff\": 15}, \"zerolinecolor\": \"white\", \"zerolinewidth\": 2}, \"yaxis\": {\"automargin\": true, \"gridcolor\": \"white\", \"linecolor\": \"white\", \"ticks\": \"\", \"title\": {\"standoff\": 15}, \"zerolinecolor\": \"white\", \"zerolinewidth\": 2}}}, \"xaxis\": {\"anchor\": \"y\", \"domain\": [0.0, 0.2888888888888889], \"range\": [0, 7], \"tickvals\": [0, 2, 4, 6], \"title\": {\"text\": \"$Time [min]$\"}}, \"xaxis2\": {\"anchor\": \"y2\", \"domain\": [0.35555555555555557, 0.6444444444444445], \"range\": [0, 6], \"tickvals\": [0, 2, 4, 6], \"title\": {\"text\": \"$Time [min]$\"}}, \"xaxis3\": {\"anchor\": \"y3\", \"domain\": [0.7111111111111111, 1.0], \"range\": [0, 6], \"tickvals\": [0, 2, 4, 6], \"title\": {\"text\": \"$Time [min]$\"}}, \"yaxis\": {\"anchor\": \"x\", \"domain\": [0.0, 1.0], \"range\": [0, 6], \"tickvals\": [1, 2, 3, 4, 5, 6], \"title\": {\"text\": \"$Concentration [mM]$\"}}, \"yaxis2\": {\"anchor\": \"x2\", \"domain\": [0.0, 1.0], \"range\": [0, 0.3], \"tickvals\": [0, 0.05, 0.1, 0.15, 0.2, 0.25, 0.3], \"title\": {\"text\": \"$Concentration [mM]$\"}}, \"yaxis3\": {\"anchor\": \"x3\", \"domain\": [0.0, 1.0], \"range\": [0, 0.35], \"tickvals\": [0, 0.05, 0.1, 0.15, 0.2, 0.25, 0.3, 0.35], \"title\": {\"text\": \"$Numerator$\"}}},                        {\"responsive\": true}                    ).then(function(){\n",
       "                            \n",
       "var gd = document.getElementById('17b18bca-02e6-4c66-be47-a9a64b6e0cd9');\n",
       "var x = new MutationObserver(function (mutations, observer) {{\n",
       "        var display = window.getComputedStyle(gd).display;\n",
       "        if (!display || display === 'none') {{\n",
       "            console.log([gd, 'removed!']);\n",
       "            Plotly.purge(gd);\n",
       "            observer.disconnect();\n",
       "        }}\n",
       "}});\n",
       "\n",
       "// Listen for the removal of the full notebook cells\n",
       "var notebookContainer = gd.closest('#notebook-container');\n",
       "if (notebookContainer) {{\n",
       "    x.observe(notebookContainer, {childList: true});\n",
       "}}\n",
       "\n",
       "// Listen for the clearing of the current output cell\n",
       "var outputEl = gd.closest('.output');\n",
       "if (outputEl) {{\n",
       "    x.observe(outputEl, {childList: true});\n",
       "}}\n",
       "\n",
       "                        })                };                });            </script>        </div>"
      ]
     },
     "metadata": {},
     "output_type": "display_data"
    }
   ],
   "source": [
    "%get t --from MATLAB\n",
    "%get Cp --from MATLAB\n",
    "\n",
    "%get Crr --from MATLAB\n",
    "\n",
    "%get denum --from MATLAB\n",
    "%get num --from MATLAB\n",
    "\n",
    "%get t --from MATLAB\n",
    "%get Cp --from MATLAB\n",
    "\n",
    "%get Crr --from MATLAB\n",
    "\n",
    "%get denum --from MATLAB\n",
    "%get num --from MATLAB\n",
    "\n",
    "\n",
    "\n",
    "fig = make_subplots(rows=1, cols=3, \n",
    "                    subplot_titles=(r'$Blood Plasma$', r'$Muscle$', r'$RRIFT fit$'))\n",
    "\n",
    "\n",
    "\n",
    "\n",
    "\n",
    "# First subplot\n",
    "\n",
    "\n",
    "\n",
    "\n",
    "fig.append_trace(go.Scatter(\n",
    "        x=t,\n",
    "        y=Cp,\n",
    "        showlegend=False,\n",
    "        line_color='#e3988b',\n",
    "    ),row=1, col=1)\n",
    "\n",
    "\n",
    "# TODO: Make this text stay in one place when zooming in and out??\n",
    "\n",
    "fig.add_vrect(\n",
    "    x0=2.8, x1=6.1, fillcolor='#e6e6e6', layer='below', line_width=0,\n",
    "    annotation=dict(text=r\"$Tail$\", xanchor=\"right\", yanchor=\"top\", showarrow=False, xshift=-60, yshift=-50, font=dict(size=17, color='black'))\n",
    ")\n",
    "\n",
    "# Prettier but doesn't stay in one place\n",
    "\n",
    "# fig.add_vrect(\n",
    "#     x0=2.8, x1=6.1, fillcolor='#e6e6e6', layer='below', line_width=0,\n",
    "#     annotation=dict(text=r\"$t_{start}$\", xanchor=\"right\", yanchor=\"top\", showarrow=False, xshift=-125, yshift=-110, font=dict(size=17, color='black'))\n",
    "# )\n",
    "\n",
    "# fig.add_vrect(\n",
    "#     x0=2.8, x1=6.1, fillcolor='#e6e6e6', layer='below', line_width=0,\n",
    "#     annotation=dict(text=r\"$t_{end}$\", xref='x', axref='x', yref='y', ayref='y', xanchor=\"right\", yanchor=\"top\", showarrow=False, xshift=-5, yshift=-110, font=dict(size=17, color='black'))\n",
    "# )\n",
    "\n",
    "\n",
    "\n",
    "fig.add_annotation(\n",
    "        x=2.8,\n",
    "        y=4.65,\n",
    "        ax=6.1,\n",
    "        ay=4.65,\n",
    "        xref='x',\n",
    "        yref='y',\n",
    "        axref='x',\n",
    "        ayref='y',\n",
    "        text=\"\",\n",
    "        showarrow=True,\n",
    "        align=\"right\",\n",
    "        arrowhead=2,\n",
    "        arrowsize=1,\n",
    "        arrowwidth=3,\n",
    "        arrowcolor=\"black\",\n",
    "         row=1, col=1\n",
    "        )\n",
    "\n",
    "fig.add_annotation(\n",
    "        x=6.1,\n",
    "        y=4.65,\n",
    "        ax=2.8,\n",
    "        ay=4.65,\n",
    "        xref='x',\n",
    "        yref='y',\n",
    "        axref='x',\n",
    "        ayref='y',\n",
    "        text=\"\",\n",
    "        showarrow=True,\n",
    "        align=\"right\",\n",
    "        arrowhead=2,\n",
    "        arrowsize=1,\n",
    "        arrowwidth=3,\n",
    "        arrowcolor=\"black\",\n",
    "         row=1, col=1\n",
    "        )\n",
    "\n",
    "fig.add_annotation(\n",
    "        x=2.8,\n",
    "        y=2.65,\n",
    "        ax=2.8,\n",
    "        ay=3.65,\n",
    "        xref='x',\n",
    "        yref='y',\n",
    "        axref='x',\n",
    "        ayref='y',\n",
    "        yshift=-50,\n",
    "        text=r'$t_{start}$',\n",
    "        showarrow=True,\n",
    "        font=dict(\n",
    "            family=\"Courier New, monospace\",\n",
    "            size=16,\n",
    "            color=\"black\"\n",
    "            ),\n",
    "        arrowhead=2,\n",
    "        arrowsize=1,\n",
    "        arrowwidth=3,\n",
    "        arrowcolor=\"black\",\n",
    "         row=1, col=1\n",
    "        )\n",
    "\n",
    "fig.add_annotation(\n",
    "        x=6.1,\n",
    "        y=2.65,\n",
    "        ax=6.1,\n",
    "        ay=3.65,\n",
    "        xref='x',\n",
    "        yref='y',\n",
    "        axref='x',\n",
    "        ayref='y',\n",
    "        yshift=-50,\n",
    "        text=r'$t_{end}$',\n",
    "        showarrow=True,\n",
    "        font=dict(\n",
    "            family=\"Courier New, monospace\",\n",
    "            size=16,\n",
    "            color=\"black\"\n",
    "            ),\n",
    "        align=\"right\",\n",
    "        arrowhead=2,\n",
    "        arrowsize=1,\n",
    "        arrowwidth=3,\n",
    "        arrowcolor=\"black\",\n",
    "         row=1, col=1\n",
    "        )\n",
    "\n",
    "\n",
    "\n",
    "# Second subplot \n",
    "\n",
    "\n",
    "\n",
    "\n",
    "fig.append_trace(go.Scatter(\n",
    "        x=t,\n",
    "        y=Crr,\n",
    "        showlegend=False,\n",
    "        line_color='#97d6d0',\n",
    "    ),row=1, col=2)\n",
    "\n",
    "\n",
    "\n",
    "# Third subplot\n",
    "\n",
    "line_fit = sm.OLS(num ,sm.add_constant(denum)).fit().fittedvalues\n",
    "\n",
    "\n",
    "fig.append_trace(go.Scatter(x=denum, \n",
    "                         y=num, \n",
    "                         mode='markers',\n",
    "                         marker_symbol=\"circle-open\", \n",
    "                         marker_size=14, \n",
    "                         marker_color='red', showlegend=False), row=1, col=3)\n",
    "fig.append_trace(go.Scatter(x=denum, \n",
    "                         y=line_fit, \n",
    "                         mode='lines',\n",
    "                         line_color=\"black\", showlegend=False), row=1, col=3)\n",
    "\n",
    "\n",
    "\n",
    "\n",
    "\n",
    "\n",
    "\n",
    "fig.update_yaxes(title_text=r'$Concentration [mM]$',\n",
    "                 range=[0, 6], \n",
    "                 tickvals=[1, 2, 3, 4, 5, 6],\n",
    "                 row=1, col=1)\n",
    "fig.update_yaxes(title_text=r'$Concentration [mM]$',\n",
    "                 range=[0, 0.30], \n",
    "                 tickvals=[0, 0.05, 0.10, 0.15, 0.20, 0.25, 0.30],\n",
    "                 row=1, col=2)\n",
    "fig.update_yaxes(title_text=r'$Numerator$',\n",
    "                 range=[0, 0.35], \n",
    "                 tickvals=[0, 0.05, 0.10, 0.15, 0.20, 0.25, 0.30, 0.35],\n",
    "                 row=1, col=3)\n",
    "\n",
    "\n",
    "\n",
    "fig.update_xaxes(title_text=r'$Time [min]$',\n",
    "                 range=[0, 7], \n",
    "                 tickvals=[0, 2, 4, 6],\n",
    "                 row=1, col=1)\n",
    "fig.update_xaxes(title_text=r'$Time [min]$',\n",
    "                 range=[0, 6], \n",
    "                 tickvals=[0, 2, 4, 6],\n",
    "                 row=1, col=2)\n",
    "fig.update_xaxes(title_text=r'$Time [min]$',\n",
    "                 range=[0, 6], \n",
    "                 tickvals=[0, 2, 4, 6],\n",
    "                 row=1, col=3)\n",
    "\n",
    "\n",
    "\n",
    "\n",
    "\n",
    "\n",
    "\n",
    "\n",
    "fig.show()"
   ]
  },
  {
   "cell_type": "markdown",
   "metadata": {
    "kernel": "MATLAB"
   },
   "source": [
    "## Figure 8"
   ]
  },
  {
   "cell_type": "code",
   "execution_count": null,
   "metadata": {
    "kernel": "MATLAB"
   },
   "outputs": [],
   "source": [
    "%% Description\n",
    "% - Loads fitting results from c02_doRRIFT.m\n",
    "% - Makes figures for analyzing results\n",
    "\n",
    "%% Initialize\n",
    "clearvars\n",
    "fclose('all');\n",
    "addpath('./RRIFT/mfiles')\n",
    "\n",
    "%% Configuration\n",
    "\n",
    "inDir = './RRIFT/data/TCGA-GBM-Results/c02_postprocessed'; % Input directory (output from c02_doRRIFT.m)\n",
    "\n",
    "%% Main\n",
    "\n",
    "matFiles = dir([inDir '/*.mat']);\n",
    "\n",
    "% Initialize arrays (the variable names will be cleaned up later)\n",
    "[\n",
    "    arrKtETM, arrKepETM, arrVeETM, arrVpETM,... % Tumour parameters from ETM\n",
    "    arrKtRRIFT, arrKepRRIFT, arrVeRRIFT, arrVpRRIFT,... % Tumour parameters from RRIFT-measuredTail\n",
    "    arrKtRRIFTPop, arrVeRRIFTPop, arrVpRRIFTPop,... % Tumour parameters from RRIFT-assumedTail\n",
    "    arrKtRRM, arrVeRRM, arrVpRRM,... % Tumour parameters from reference region model (i.e. relative parameters)\n",
    "    crrList, cpList, tList... % Reference tissue & AIF curve for each patient\n",
    "] = deal([]); % This will waste some RAM, but it makes the code simpler\n",
    "% Pre-allocate more arrays\n",
    "[\n",
    "    arrKtETM_m, arrKepETM_m, arrVeETM_m, arrVpETM_m,... % Muscle parameters from ETM\n",
    "    arrKepRRIFT_m, arrVeRRIFT_m, arrKtRRIFT_m,... % Muscle parameters from RRIFT-measuredTail\n",
    "    arrKtRRIFTPop_m, arrVeRRIFTPop_m,... % Muscle parameters from RRIFT-assumedTail\n",
    "    arrKtRRIFTD_m, arrVeRRIFTD_m,... % Muscle parameters from differential form of RRIFT\n",
    "    cccKt, cccKep, cccVe, cccVp,...  % Concordance correlation coefficient for each study\n",
    "    t1CpList, t1CrrList, t1CtList,... % T1 for the AIF, muscle, and tumour\n",
    "    nVoxGood, nVox, nVoxRR, snrList, cnrList, sigmaList,... % miscellanea\n",
    "    arrKtRRci, arrKepRRci, arrVeRRci, arrKtRRTci, arrKepRRTci, arrVeRRTci... % uncertainty of muscle estimates\n",
    "] = deal(zeros(length(matFiles),1));\n",
    "\n",
    "for i=1:length(matFiles)\n",
    "    curFile = matFiles(i).name;\n",
    "    \n",
    "    load(fullfile(inDir,curFile));\n",
    "    % Loads (refer to b02_doRRIFT.m):\n",
    "        % mapKt, mapKep, mapVe, mapVp, ...\n",
    "        % mapKtR, mapKepR, mapVeR, mapVpR, ...\n",
    "        % Crr, Cp, t, maskCt, maskCrr, ETM, estKepRR, ...\n",
    "        % estKtRR, estVeRR, estKtRRPop, estVeRRPop, estKtRRdiff, estVeRRdiff, ...\n",
    "        % Rsq, RsqPop, num, denum, numVox, numGoodVox, ...\n",
    "        % cnr, snr, sigmaCt, T1Cp, T1Crr, T1Ct, ...\n",
    "        % ciKtRR, ciKepRR, ciVeRR, ciKtRRT, ciKepRRT, ciVeRRT\n",
    "    %% Concatenate all the fitted parameters for tumour\n",
    "    % From extended Tofts model\n",
    "    arrKtETM = [arrKtETM; mapKt(maskCt)];\n",
    "    arrKepETM = [arrKepETM; mapKep(maskCt)];\n",
    "    arrVeETM = [arrVeETM; mapVe(maskCt)];\n",
    "    arrVpETM = [arrVpETM; mapVp(maskCt)];\n",
    "    % From Reference Region Model + RRIFT\n",
    "    arrKtRRIFT = [arrKtRRIFT; mapKtR(maskCt)];\n",
    "    arrKepRRIFT = [arrKepRRIFT; mapKepR(maskCt)];\n",
    "    arrVeRRIFT = [arrVeRRIFT; mapVeR(maskCt)];\n",
    "    arrVpRRIFT = [arrVpRRIFT; mapVpR(maskCt)];\n",
    "    % From Reference Region Model + RRIFT with PopAvg AIF\n",
    "    arrKtRRIFTPop = [arrKtRRIFTPop; mapKtR(maskCt).*estKtRRPop./estKtRR];\n",
    "    arrVeRRIFTPop = [arrVeRRIFTPop; mapVeR(maskCt).*estVeRRPop./estVeRR];\n",
    "    arrVpRRIFTPop = [arrVpRRIFTPop; mapVpR(maskCt).*estKtRRPop./estKtRR];\n",
    "    % From Reference Region Model (without RRIFT)\n",
    "    arrKtRRM = [arrKtRRM; mapKtR(maskCt)./estKtRR];\n",
    "    arrVeRRM = [arrVeRRM; mapVeR(maskCt)./estVeRR];\n",
    "    arrVpRRM = [arrVpRRM; mapVpR(maskCt)./estKtRR];\n",
    "%     % ^ These maps were multipled by estKtRR and estVeRR in a04_doRRIFT, so\n",
    "%     % we have to undo the scaling to get the original fits without RRIFT\n",
    "    %% Collect the curves for input function & muscle\n",
    "    crrList = [crrList Crr];\n",
    "    cpList = [cpList Cp];\n",
    "    tList = [tList t];\n",
    "    %% Compute the Concordance Correlation Coefficient for each dataset\n",
    "    % This is the CCC for the tumour fits\n",
    "    cccKt(i) = CCC(mapKt(maskCt),mapKtR(maskCt));\n",
    "    cccKep(i) = CCC(mapKep(maskCt),mapKepR(maskCt));\n",
    "    cccVe(i) = CCC(mapVe(maskCt),mapVeR(maskCt));\n",
    "    cccVp(i) = CCC(mapVp(maskCt),mapVpR(maskCt));\n",
    "    %% Concatenate the estimates for muscle (from RRIFT or Tofts model)\n",
    "    % From Extended Tofts model\n",
    "    arrKtETM_m(i) = ETM.muscle(1);\n",
    "    arrKepETM_m(i) = ETM.muscle(2);\n",
    "    arrVeETM_m(i) = ETM.muscle(1)./ETM.muscle(2);\n",
    "    arrVpETM_m(i) = ETM.muscle(3);\n",
    "    % From RRIFT\n",
    "    arrKtRRIFT_m(i) = estKtRR;\n",
    "    arrKepRRIFT_m(i) = estKepRR;\n",
    "    arrVeRRIFT_m(i) = estVeRR;\n",
    "    \n",
    "    % From RRIFT\n",
    "    arrKtRRIFTPop_m(i) = estKtRRPop;\n",
    "    arrVeRRIFTPop_m(i) = estVeRRPop;\n",
    "    \n",
    "    % Confidence Intervals\n",
    "    arrKtRRci(i) = ciKtRR;\n",
    "    arrKepRRci(i) = ciKepRR;\n",
    "    arrVeRRci(i) = ciVeRR;\n",
    "    arrKtRRTci(i) = ciKtRRT;\n",
    "    arrKepRRTci(i) = ciKepRRT;\n",
    "    arrVeRRTci(i) = ciVeRRT;\n",
    "    \n",
    "    % From Differential versione of RRIFT\n",
    "    arrKtRRIFTD_m(i) = estKtRRdiff;\n",
    "    arrVeRRIFTD_m(i) = estVeRRdiff;\n",
    "    % kepRRD and kepRRIFT will be the same, since kepRR is estimate by\n",
    "    % reference region model and not by RRIFT\n",
    "    %% Collect additional statistics\n",
    "    nVoxGood(i) = numGoodVox;\n",
    "    nVox(i) = numVox;\n",
    "    nVoxRR(i) = sum(maskCrr(:)>0); % Number of voxels in muscle contour\n",
    "    snrList(i) = snr;\n",
    "    cnrList(i) = cnr;\n",
    "    sigmaList(i) = sigmaCt;\n",
    "    t1CpList(i) = T1Cp;\n",
    "    t1CrrList(i) = T1Crr;\n",
    "    t1CtList(i) = T1Ct;\n",
    "end\n",
    "%% Cleanup - Part 1: Re-organize some results into a structure for clarity\n",
    "\n",
    "[tumour, muscle] = deal(struct());\n",
    "\n",
    "% ETM parameters for tumour\n",
    "tumour.Kt.ETM = arrKtETM;\n",
    "tumour.Kep.ETM = arrKepETM;\n",
    "tumour.Ve.ETM = arrVeETM;\n",
    "tumour.Vp.ETM = arrVpETM;\n",
    "\n",
    "% RRIFT parameters for tumour\n",
    "tumour.Kt.RRIFT = arrKtRRIFT;\n",
    "tumour.Kep.RRIFT = arrKepRRIFT;\n",
    "tumour.Ve.RRIFT = arrVeRRIFT;\n",
    "tumour.Vp.RRIFT = arrVpRRIFT;\n",
    "\n",
    "% RRIFT (assumed tail) parameters for tumour\n",
    "tumour.Kt.RRIFT_Pop = arrKtRRIFTPop;\n",
    "tumour.Kep.RRIFT_Pop = arrKepRRIFT; % kep is unaffected by tail choice\n",
    "tumour.Ve.RRIFT_Pop = arrVeRRIFTPop;\n",
    "tumour.Vp.RRIFT_Pop = arrVpRRIFTPop;\n",
    "\n",
    "% Relative parameters from RRM\n",
    "tumour.Kt.RRM = arrKtRRM;\n",
    "tumour.Kep.RRM = arrKepRRIFT; % kep is unaffected by RRIFT\n",
    "tumour.Ve.RRM = arrVeRRM;\n",
    "tumour.Vp.RRM = arrVpRRM;\n",
    "\n",
    "% ETM parameters for muscle\n",
    "muscle.Kt.ETM = arrKtETM_m;\n",
    "muscle.Kep.ETM = arrKepETM_m;\n",
    "muscle.Ve.ETM = arrVeETM_m;\n",
    "\n",
    "% RRIFT parameters for muscle\n",
    "muscle.Kt.RRIFT = arrKtRRIFT_m;\n",
    "muscle.Kep.RRIFT = arrKepRRIFT_m;\n",
    "muscle.Ve.RRIFT = arrVeRRIFT_m;\n",
    "\n",
    "% RRIFT (assumed tail) parameters for muscle\n",
    "muscle.Kt.RRIFT_Pop = arrKtRRIFTPop_m;\n",
    "muscle.Kep.RRIFT_Pop = arrKepRRIFT_m;\n",
    "muscle.Ve.RRIFT_Pop = arrVeRRIFTPop_m;\n",
    "\n",
    "%% Cleanup - Part 2: Clear all unnecessary variables\n",
    "clearvars -except tumour muscle ccc* nVox* *List *ci\n",
    "\n",
    "\n",
    "% x and y values\n",
    "xv1 = muscle.Kep.ETM;\n",
    "yv1 = muscle.Kep.RRIFT;\n",
    "% error bar from confidence interval\n",
    "xr1 = arrKepRRTci;\n",
    "yr1 = arrKepRRci;\n",
    "xr1 = repmat(xr1/2,[1 2]);\n",
    "yr1 = repmat(yr1/2,[1 2]);\n",
    "\n",
    "\n",
    "xv2 = muscle.Kt.ETM;\n",
    "yv2 = muscle.Kt.RRIFT;\n",
    "xr2 = arrKtRRTci;\n",
    "yr2 = arrKtRRci;\n",
    "xr2 = repmat(xr2/2,[1 2]);\n",
    "yr2 = repmat(yr2/2,[1 2]);\n",
    "\n",
    "\n",
    "xv3 = muscle.Ve.ETM;\n",
    "yv3 = muscle.Ve.RRIFT;\n",
    "xr3 = arrVeRRTci;\n",
    "yr3 = arrVeRRci;\n",
    "xr3 = repmat(xr3/2,[1 2]);\n",
    "yr3 = repmat(yr3/2,[1 2]);\n",
    "\n",
    "\n",
    "\n",
    "\n"
   ]
  },
  {
   "cell_type": "code",
   "execution_count": null,
   "metadata": {
    "kernel": "SoS"
   },
   "outputs": [],
   "source": [
    "%get xv1 --from MATLAB\n",
    "%get yv1 --from MATLAB\n",
    "%get xr1 --from MATLAB\n",
    "%get yr1 --from MATLAB\n",
    "\n",
    "%get xv2 --from MATLAB\n",
    "%get yv2 --from MATLAB\n",
    "%get xr2 --from MATLAB\n",
    "%get yr2 --from MATLAB\n",
    "\n",
    "%get xv3 --from MATLAB\n",
    "%get yv3 --from MATLAB\n",
    "%get xr3 --from MATLAB\n",
    "%get yr3 --from MATLAB\n",
    "\n",
    "\n",
    "\n",
    "fig = make_subplots(rows=1, cols=3, \n",
    "                    subplot_titles=(r'$k_{ep,RR} [min^{-1}]$', r'$K^{trans}_{RR}[min^{-1}]$', r'$V_{e,RR}$'))\n",
    "\n",
    "\n",
    "line_colour = '#010101'\n",
    "\n",
    "\n",
    "# First subplot\n",
    "\n",
    "\n",
    "y_negative = np.squeeze(np.asarray(np.reshape(yr1[:,0], 8)))\n",
    "y_positive = np.squeeze(np.asarray(np.reshape(yr1[:,1], 8)))\n",
    "\n",
    "x_negative = np.squeeze(np.asarray(np.reshape(xr1[:,0], 8)))\n",
    "x_positive = np.squeeze(np.asarray(np.reshape(xr1[:,1], 8)))\n",
    "\n",
    "\n",
    "fig.append_trace(go.Scatter(\n",
    "        x=xv1,\n",
    "        y=yv1,\n",
    "        showlegend=False,\n",
    "        error_y=dict(\n",
    "            type='data', # value of error bar given in data coordinates\n",
    "            array=y_positive,\n",
    "            arrayminus=y_negative,\n",
    "            symmetric=False,\n",
    "            visible=False,\n",
    "            thickness=1),\n",
    "        error_x=dict(\n",
    "            type='data', # value of error bar given in data coordinates\n",
    "            array=x_positive,\n",
    "            arrayminus=x_negative,\n",
    "            symmetric=False,\n",
    "            visible=True,\n",
    "            thickness=2),\n",
    "        line_color=line_colour,\n",
    "        mode='markers',\n",
    "        marker_symbol='circle-open', marker_size=12, marker_line_width=2\n",
    "    ),row=1, col=1)\n",
    "\n",
    "\n",
    "\n",
    "\n",
    "\n",
    "# Second subplot \n",
    "\n",
    "y_negative = np.squeeze(np.asarray(np.reshape(yr2[:,0], 8)))\n",
    "y_positive = np.squeeze(np.asarray(np.reshape(yr2[:,1], 8)))\n",
    "\n",
    "x_negative = np.squeeze(np.asarray(np.reshape(xr2[:,0], 8)))\n",
    "x_positive = np.squeeze(np.asarray(np.reshape(xr2[:,1], 8)))\n",
    "\n",
    "\n",
    "fig.append_trace(go.Scatter(\n",
    "        x=xv2,\n",
    "        y=yv2,\n",
    "        showlegend=False,\n",
    "        error_y=dict(\n",
    "            type='data', # value of error bar given in data coordinates\n",
    "            array=y_positive,\n",
    "            arrayminus=y_negative,\n",
    "            symmetric=False,\n",
    "            visible=False,\n",
    "            thickness=1),\n",
    "        error_x=dict(\n",
    "            type='data', # value of error bar given in data coordinates\n",
    "            array=x_positive,\n",
    "            arrayminus=x_negative,\n",
    "            symmetric=False,\n",
    "            visible=True,\n",
    "            thickness=2),\n",
    "        line_color=line_colour,\n",
    "        mode='markers',\n",
    "        marker_symbol='circle-open', marker_size=12, marker_line_width=2\n",
    "    ),row=1, col=2)\n",
    "\n",
    "# Third subplot\n",
    "\n",
    "y_negative = np.squeeze(np.asarray(np.reshape(yr3[:,0], 8)))\n",
    "y_positive = np.squeeze(np.asarray(np.reshape(yr3[:,1], 8)))\n",
    "\n",
    "x_negative = np.squeeze(np.asarray(np.reshape(xr3[:,0], 8)))\n",
    "x_positive = np.squeeze(np.asarray(np.reshape(xr3[:,1], 8)))\n",
    "\n",
    "\n",
    "fig.append_trace(go.Scatter(\n",
    "        x=xv3,\n",
    "        y=yv3,\n",
    "        showlegend=False,\n",
    "        error_y=dict(\n",
    "            type='data', # value of error bar given in data coordinates\n",
    "            array=y_positive,\n",
    "            arrayminus=y_negative,\n",
    "            symmetric=False,\n",
    "            visible=False,\n",
    "            thickness=1),\n",
    "        error_x=dict(\n",
    "            type='data', # value of error bar given in data coordinates\n",
    "            array=x_positive,\n",
    "            arrayminus=x_negative,\n",
    "            symmetric=False,\n",
    "            visible=True,\n",
    "            thickness=2),\n",
    "        line_color=line_colour,\n",
    "        mode='markers',\n",
    "        marker_symbol='circle-open', marker_size=12, marker_line_width=2\n",
    "    ),row=1, col=3)\n",
    "\n",
    "# Adding the x=y dashed line on each of the three subplots\n",
    "\n",
    "fig.append_trace(go.Scatter(x=[0,1], y=[0,1], showlegend=False, mode='lines', line={'dash': 'dash', 'color': '#000400', 'width': 0.5}), row=1, col=1)\n",
    "fig.append_trace(go.Scatter(x=[0,1], y=[0,1], showlegend=False, mode='lines', line={'dash': 'dash', 'color': '#000400', 'width': 0.5}), row=1, col=2)\n",
    "fig.append_trace(go.Scatter(x=[0,1], y=[0,1], showlegend=False, mode='lines', line={'dash': 'dash', 'color': '#000400', 'width': 0.5}), row=1, col=3)\n",
    "\n",
    "# Adding the CCC text on each of the three subplots\n",
    "\n",
    "fig.add_annotation(  \n",
    "    x=0.5,\n",
    "    y=0.14,\n",
    "    text=r'$\\textrm{CCC: 0.917}$', \n",
    "    showarrow=False, font=dict(size=40, color='black'), row=1, col=1)\n",
    "fig.add_annotation(  \n",
    "    x=0.12,\n",
    "    y=0.013,\n",
    "    text=r'$\\textrm{CCC: 0.926}$',\n",
    "    xref=\"paper\", yref=\"paper\", \n",
    "    showarrow=False, font=dict(size=40, color='black'), row=1, col=2)\n",
    "fig.add_annotation(  \n",
    "    x=0.22,\n",
    "    y=0.113,\n",
    "    text=r'$\\textrm{CCC: 0.877}$',\n",
    "    xref=\"paper\", yref=\"paper\", \n",
    "    showarrow=False, font=dict(size=40, color='black'), row=1, col=3)\n",
    "\n",
    "    \n",
    "\n",
    "fig.update_xaxes(title_text=r'$ETM - k_{ep,RR} [min^{-1}]$',\n",
    "                 range=[0.1,0.8], \n",
    "                 tickvals=[0.1, 0.2, 0.3, 0.4, 0.5, 0.6, 0.7, 0.8],\n",
    "                 row=1, col=1)\n",
    "fig.update_xaxes(title_text=r'$ETM - K^{trans}_{RR}[min^{-1}]$',\n",
    "                 range=[0, 0.2], \n",
    "                 tickvals=[0, 0.1, 0.2],\n",
    "                 row=1, col=2)\n",
    "fig.update_xaxes(title_text=r'$ETM - V_{e,RR}$',\n",
    "                 range=[0.1, 0.3], \n",
    "                 tickvals=[0.1, 0.2, 0.3],\n",
    "                 row=1, col=3)\n",
    "\n",
    "\n",
    "fig.update_yaxes(title_text=r'$RRIFT$',\n",
    "                 range=[0.1,0.8], \n",
    "                 tickvals=[0.1, 0.2, 0.3, 0.4, 0.5, 0.6, 0.7, 0.8],\n",
    "                 row=1, col=1)\n",
    "fig.update_yaxes(title_text=r'$RRIFT$',\n",
    "                 range=[0, 0.2], \n",
    "                 tickvals=[0, 0.1, 0.2],\n",
    "                 row=1, col=2)\n",
    "fig.update_yaxes(title_text=r'$RRIFT$',\n",
    "                 range=[0.1, 0.3], \n",
    "                 tickvals=[0.1, 0.2, 0.3],\n",
    "                 row=1, col=3)\n",
    "\n",
    "\n",
    "\n",
    "    \n",
    "\n",
    "\n",
    "    \n",
    "fig.show()\n"
   ]
  },
  {
   "cell_type": "markdown",
   "metadata": {
    "kernel": "MATLAB"
   },
   "source": [
    "## Figure 10"
   ]
  },
  {
   "cell_type": "code",
   "execution_count": 51,
   "metadata": {
    "kernel": "MATLAB"
   },
   "outputs": [
    {
     "name": "stdout",
     "output_type": "stream",
     "text": [
      "\n",
      "ans =\n",
      "\n",
      "     0\n",
      "\n",
      "\n"
     ]
    },
    {
     "data": {
      "image/png": "[encoded data removed]",
      "text/plain": [
       "<IPython.core.display.Image object>"
      ]
     },
     "metadata": {},
     "output_type": "display_data"
    }
   ],
   "source": [
    "% Plots the percent changes in Ktrans, ve, vp for RRIFT and ETM on\n",
    "% downsampled in-vivo data.\n",
    "\n",
    "% Estimated runtime: 2 seconds\n",
    "\n",
    "clearvars\n",
    "fclose('all')\n",
    "addpath('./RRIFT/mfiles')\n",
    "\n",
    "inDir = './RRIFT/data/TCGA-GBM-Results/c06_downsampled';\n",
    "\n",
    "\n",
    "matFiles = dir([inDir '/*.mat']);\n",
    "\n",
    "pkCEs = [];\n",
    "pkETs = [];\n",
    "estKepRR = [];\n",
    "estKtRR = [];\n",
    "\n",
    "for q=1:length(matFiles)\n",
    "    curFile = matFiles(q).name;\n",
    "    load(fullfile(inDir,curFile));\n",
    "    %%\n",
    "    pkCEs = [pkCEs; pkCE];\n",
    "    pkETs = [pkETs; pkETM];\n",
    "    estKepRR = [estKepRR; estKepRRs];\n",
    "    estKtRR = [estKtRR; estKtRRs];\n",
    "end\n",
    "%%\n",
    "errKtCE = PercentError(squeeze(pkCEs(:,1,:)),pkCEs(:,1,1));\n",
    "errVeCE = PercentError(squeeze(pkCEs(:,2,:)),pkCEs(:,2,1));\n",
    "errKepCE = PercentError(squeeze(pkCEs(:,3,:)),pkCEs(:,3,1));\n",
    "errVpCE = PercentError(squeeze(pkCEs(:,4,:)),pkCEs(:,4,1));\n",
    "\n",
    "estVe = squeeze(pkETs(:,1,:)./pkETs(:,2,:));\n",
    "\n",
    "errKtET = PercentError(squeeze(pkETs(:,1,:)),pkETs(:,1,1));\n",
    "errVeET = PercentError(estVe(:,:),estVe(:,1));\n",
    "errKepET = PercentError(squeeze(pkETs(:,2,:)),pkETs(:,2,1));\n",
    "errVpET = PercentError(squeeze(pkETs(:,3,:)),pkETs(:,3,1));\n",
    "%%\n",
    "cSize = 10;\n",
    "\n",
    "% Err Kt\n",
    "figure('Position',[300,300,1500,400]); \n",
    "\n",
    "curErr = errKtCE;\n",
    "errQt1 = quantile(curErr,[.25 .75]);\n",
    "errMd1 = nanmedian(curErr);\n",
    "\n",
    "curErr = errKtET;\n",
    "errQt2 = quantile(curErr,[.25 .75]);\n",
    "errMd2 = nanmedian(curErr);\n",
    "\n",
    "\n",
    "% Err Ve\n",
    "curErr = errVeCE;\n",
    "errQt3 = quantile(curErr,[.25 .75]);\n",
    "errMd3 = nanmedian(curErr);\n",
    "\n",
    "curErr = errVeET;\n",
    "errQt4 = quantile(curErr,[.25 .75]);\n",
    "errMd4 = nanmedian(curErr);\n",
    "\n",
    "\n",
    "% Err Vp\n",
    "curErr = errVpCE;\n",
    "errQt5 = quantile(curErr,[.25 .75]);\n",
    "errMd5 = nanmedian(curErr);\n",
    "\n",
    "curErr = errVpET;\n",
    "errQt6 = quantile(curErr,[.25 .75]);\n",
    "errMd6 = nanmedian(curErr);\n"
   ]
  },
  {
   "cell_type": "code",
   "execution_count": 50,
   "metadata": {
    "kernel": "SoS"
   },
   "outputs": [
    {
     "data": {
      "application/vnd.plotly.v1+json": {
       "config": {
        "plotlyServerURL": "https://plot.ly"
       },
       "data": [
        {
         "error_y": {
          "array": [
           0,
           12.082612705610208,
           16.72889449046314,
           24.17952723848675,
           30.252874992581585,
           35.28804938278102,
           42.56962410311505,
           47.57446286876794,
           58.23312300561891,
           63.0330488511153
          ],
          "arrayminus": [
           0,
           13.130643314929825,
           19.612081616174446,
           27.140658559307475,
           36.41084023760287,
           43.69323811875878,
           51.20521995370257,
           56.40422349172199,
           61.706423277355334,
           56.2614200562377
          ],
          "symmetric": false,
          "thickness": 4,
          "type": "data",
          "width": 9
         },
         "legendgroup": "1",
         "line": {
          "color": "#585e9a"
         },
         "name": "RRIFT",
         "showlegend": false,
         "type": "scatter",
         "x": [
          4.8,
          9.599999999999998,
          14.399999999999999,
          19.2,
          23.999999999999996,
          28.8,
          33.6,
          38.4,
          43.199999999999996,
          47.99999999999999
         ],
         "xaxis": "x",
         "y": [
          0,
          -0.37495953025037504,
          -0.8323652316763509,
          2.1162611739229713,
          4.960314870621613,
          9.971645922856235,
          12.943851998515314,
          18.989097678883937,
          27.76200397110584,
          29.264791325472707
         ],
         "yaxis": "y"
        },
        {
         "error_y": {
          "array": [
           0,
           12.141741480226049,
           21.23214536301679,
           25.919377124554707,
           27.00938584450485,
           29.175526245289763,
           32.48285119601998,
           35.755467001638515,
           36.18526049457545,
           35.61334157988929
          ],
          "arrayminus": [
           0,
           16.699305204322762,
           28.509321583031188,
           35.226348913227866,
           39.428030029205374,
           42.01428514206725,
           41.95097789581704,
           40.31987188575169,
           43.546964203753326,
           45.94024295232122
          ],
          "symmetric": false,
          "thickness": 4,
          "type": "data",
          "width": 9
         },
         "legendgroup": "2",
         "line": {
          "color": "#f36a61"
         },
         "name": "ETM",
         "showlegend": false,
         "type": "scatter",
         "x": [
          4.8,
          9.599999999999998,
          14.399999999999999,
          19.2,
          23.999999999999996,
          28.8,
          33.6,
          38.4,
          43.199999999999996,
          47.99999999999999
         ],
         "xaxis": "x",
         "y": [
          0,
          -1.159679051420091,
          -8.626703527755227,
          -18.67217232995412,
          -26.456233622668965,
          -30.914261557994863,
          -35.42114139753894,
          -37.45534577856231,
          -36.78580003812288,
          -36.1849408070786
         ],
         "yaxis": "y"
        },
        {
         "error_y": {
          "array": [
           0,
           9.240656710081076,
           12.550591922477892,
           16.256971881492582,
           17.506005563119814,
           21.24452424843113,
           23.393764475700838,
           24.162259107116597,
           27.661973740184692,
           26.88994128173573
          ],
          "arrayminus": [
           0,
           12.334142867364696,
           20.196123095628632,
           30.088804341225497,
           37.87495405675675,
           45.04640710507718,
           52.555318976747095,
           55.13494242037391,
           57.56122521021828,
           53.19514978318078
          ],
          "symmetric": false,
          "thickness": 4,
          "type": "data",
          "width": 9
         },
         "legendgroup": "1",
         "line": {
          "color": "#585e9a"
         },
         "name": "RRIFT",
         "showlegend": true,
         "type": "scatter",
         "x": [
          4.8,
          9.599999999999998,
          14.399999999999999,
          19.2,
          23.999999999999996,
          28.8,
          33.6,
          38.4,
          43.199999999999996,
          47.99999999999999
         ],
         "xaxis": "x2",
         "y": [
          0,
          -0.42961894703182835,
          -0.05395816686148715,
          -1.8344921442578368,
          -2.898250571773643,
          -0.8329506123736197,
          -0.5988278497852895,
          -0.9426369923668771,
          -0.20110423962643095,
          -1.164834798529851
         ],
         "yaxis": "y2"
        },
        {
         "error_y": {
          "array": [
           0,
           9.813219643903471,
           16.443181912056982,
           21.588740609916968,
           28.619936872257536,
           30.93544051420991,
           34.592884550861655,
           34.50688784409648,
           36.03607575593547,
           36.99726996442911
          ],
          "arrayminus": [
           0,
           15.73803925422463,
           30.948678271620405,
           55.52882556641883,
           74.4007507653599,
           83.06367894314269,
           84.22029222403758,
           83.09794163835087,
           81.24752943099645,
           79.7079216650715
          ],
          "symmetric": false,
          "thickness": 4,
          "type": "data",
          "width": 9
         },
         "legendgroup": "2",
         "line": {
          "color": "#f36a61"
         },
         "name": "ETM",
         "showlegend": true,
         "type": "scatter",
         "x": [
          4.8,
          9.599999999999998,
          14.399999999999999,
          19.2,
          23.999999999999996,
          28.8,
          33.6,
          38.4,
          43.199999999999996,
          47.99999999999999
         ],
         "xaxis": "x2",
         "y": [
          0,
          -0.6920881517142992,
          -0.8737979395472355,
          -2.0629599388629227,
          -5.547324763036069,
          -8.49633446657643,
          -13.612657796043923,
          -17.660727241170697,
          -21.186601665756363,
          -23.349226377032473
         ],
         "yaxis": "y2"
        },
        {
         "error_y": {
          "array": [
           0,
           19.550250276544233,
           28.18352301862517,
           41.34233208904911,
           55.9670821966514,
           69.29421174445399,
           79.52286448616505,
           81.79549336952908,
           81.87885377311036,
           74.83355795534455
          ],
          "arrayminus": [
           0,
           20.994297625693534,
           30.277610300895674,
           47.97815471700577,
           59.338910376831464,
           62.92985413014087,
           66.72035268931816,
           66.0830256202812,
           64.198623258161,
           57.49441771064462
          ],
          "symmetric": false,
          "thickness": 4,
          "type": "data",
          "width": 9
         },
         "legendgroup": "1",
         "line": {
          "color": "#585e9a"
         },
         "name": "RRIFT",
         "showlegend": false,
         "type": "scatter",
         "x": [
          4.8,
          9.599999999999998,
          14.399999999999999,
          19.2,
          23.999999999999996,
          28.8,
          33.6,
          38.4,
          43.199999999999996,
          47.99999999999999
         ],
         "xaxis": "x3",
         "y": [
          0,
          -3.373414331210095,
          -7.487227837792736,
          -7.746570667569988,
          -11.902439174335568,
          -17.53005942752752,
          -24.818964527368863,
          -31.953746543357788,
          -35.801376741839,
          -42.50558228935538
         ],
         "yaxis": "y3"
        },
        {
         "error_y": {
          "array": [
           0,
           18.90375765002312,
           47.26767371317368,
           79.34397833042482,
           100.59859446196897,
           102.4049191192913,
           104.59173352700128,
           105.24506520413314,
           106.69687554969101,
           107.65752323261565
          ],
          "arrayminus": [
           0,
           16.19309037206184,
           28.001303733520192,
           41.39622324641445,
           54.06078287462502,
           65.41923847349419,
           76.4448077724844,
           81.88647520431554,
           78.3776534095734,
           78.90584315865105
          ],
          "symmetric": false,
          "thickness": 4,
          "type": "data",
          "width": 9
         },
         "legendgroup": "2",
         "line": {
          "color": "#f36a61"
         },
         "name": "ETM",
         "showlegend": false,
         "type": "scatter",
         "x": [
          4.8,
          9.599999999999998,
          14.399999999999999,
          19.2,
          23.999999999999996,
          28.8,
          33.6,
          38.4,
          43.199999999999996,
          47.99999999999999
         ],
         "xaxis": "x3",
         "y": [
          0,
          -0.8489768503126828,
          -2.423603780189649,
          3.5858655644518636,
          12.137853940080022,
          19.382719555155756,
          29.943331752896707,
          38.91995362466707,
          45.75874729937294,
          53.89966241260042
         ],
         "yaxis": "y3"
        }
       ],
       "layout": {
        "annotations": [
         {
          "font": {
           "size": 16
          },
          "showarrow": false,
          "text": "$K^{trans}$",
          "x": 0.14444444444444446,
          "xanchor": "center",
          "xref": "paper",
          "y": 1,
          "yanchor": "bottom",
          "yref": "paper"
         },
         {
          "font": {
           "size": 16
          },
          "showarrow": false,
          "text": "$V_e$",
          "x": 0.5,
          "xanchor": "center",
          "xref": "paper",
          "y": 1,
          "yanchor": "bottom",
          "yref": "paper"
         },
         {
          "font": {
           "size": 16
          },
          "showarrow": false,
          "text": "$V_p$",
          "x": 0.8555555555555556,
          "xanchor": "center",
          "xref": "paper",
          "y": 1,
          "yanchor": "bottom",
          "yref": "paper"
         }
        ],
        "shapes": [
         {
          "line": {
           "color": "black",
           "dash": "dot",
           "width": 1.69
          },
          "type": "line",
          "x0": 0,
          "x1": 1,
          "xref": "x domain",
          "y0": 0,
          "y1": 0,
          "yref": "y"
         },
         {
          "line": {
           "color": "black",
           "dash": "dot",
           "width": 1.69
          },
          "type": "line",
          "x0": 0,
          "x1": 1,
          "xref": "x2 domain",
          "y0": 0,
          "y1": 0,
          "yref": "y2"
         },
         {
          "line": {
           "color": "black",
           "dash": "dot",
           "width": 1.69
          },
          "type": "line",
          "x0": 0,
          "x1": 1,
          "xref": "x3 domain",
          "y0": 0,
          "y1": 0,
          "yref": "y3"
         }
        ],
        "template": {
         "data": {
          "bar": [
           {
            "error_x": {
             "color": "#2a3f5f"
            },
            "error_y": {
             "color": "#2a3f5f"
            },
            "marker": {
             "line": {
              "color": "#E5ECF6",
              "width": 0.5
             }
            },
            "type": "bar"
           }
          ],
          "barpolar": [
           {
            "marker": {
             "line": {
              "color": "#E5ECF6",
              "width": 0.5
             }
            },
            "type": "barpolar"
           }
          ],
          "carpet": [
           {
            "aaxis": {
             "endlinecolor": "#2a3f5f",
             "gridcolor": "white",
             "linecolor": "white",
             "minorgridcolor": "white",
             "startlinecolor": "#2a3f5f"
            },
            "baxis": {
             "endlinecolor": "#2a3f5f",
             "gridcolor": "white",
             "linecolor": "white",
             "minorgridcolor": "white",
             "startlinecolor": "#2a3f5f"
            },
            "type": "carpet"
           }
          ],
          "choropleth": [
           {
            "colorbar": {
             "outlinewidth": 0,
             "ticks": ""
            },
            "type": "choropleth"
           }
          ],
          "contour": [
           {
            "colorbar": {
             "outlinewidth": 0,
             "ticks": ""
            },
            "colorscale": [
             [
              0,
              "#0d0887"
             ],
             [
              0.1111111111111111,
              "#46039f"
             ],
             [
              0.2222222222222222,
              "#7201a8"
             ],
             [
              0.3333333333333333,
              "#9c179e"
             ],
             [
              0.4444444444444444,
              "#bd3786"
             ],
             [
              0.5555555555555556,
              "#d8576b"
             ],
             [
              0.6666666666666666,
              "#ed7953"
             ],
             [
              0.7777777777777778,
              "#fb9f3a"
             ],
             [
              0.8888888888888888,
              "#fdca26"
             ],
             [
              1,
              "#f0f921"
             ]
            ],
            "type": "contour"
           }
          ],
          "contourcarpet": [
           {
            "colorbar": {
             "outlinewidth": 0,
             "ticks": ""
            },
            "type": "contourcarpet"
           }
          ],
          "heatmap": [
           {
            "colorbar": {
             "outlinewidth": 0,
             "ticks": ""
            },
            "colorscale": [
             [
              0,
              "#0d0887"
             ],
             [
              0.1111111111111111,
              "#46039f"
             ],
             [
              0.2222222222222222,
              "#7201a8"
             ],
             [
              0.3333333333333333,
              "#9c179e"
             ],
             [
              0.4444444444444444,
              "#bd3786"
             ],
             [
              0.5555555555555556,
              "#d8576b"
             ],
             [
              0.6666666666666666,
              "#ed7953"
             ],
             [
              0.7777777777777778,
              "#fb9f3a"
             ],
             [
              0.8888888888888888,
              "#fdca26"
             ],
             [
              1,
              "#f0f921"
             ]
            ],
            "type": "heatmap"
           }
          ],
          "heatmapgl": [
           {
            "colorbar": {
             "outlinewidth": 0,
             "ticks": ""
            },
            "colorscale": [
             [
              0,
              "#0d0887"
             ],
             [
              0.1111111111111111,
              "#46039f"
             ],
             [
              0.2222222222222222,
              "#7201a8"
             ],
             [
              0.3333333333333333,
              "#9c179e"
             ],
             [
              0.4444444444444444,
              "#bd3786"
             ],
             [
              0.5555555555555556,
              "#d8576b"
             ],
             [
              0.6666666666666666,
              "#ed7953"
             ],
             [
              0.7777777777777778,
              "#fb9f3a"
             ],
             [
              0.8888888888888888,
              "#fdca26"
             ],
             [
              1,
              "#f0f921"
             ]
            ],
            "type": "heatmapgl"
           }
          ],
          "histogram": [
           {
            "marker": {
             "colorbar": {
              "outlinewidth": 0,
              "ticks": ""
             }
            },
            "type": "histogram"
           }
          ],
          "histogram2d": [
           {
            "colorbar": {
             "outlinewidth": 0,
             "ticks": ""
            },
            "colorscale": [
             [
              0,
              "#0d0887"
             ],
             [
              0.1111111111111111,
              "#46039f"
             ],
             [
              0.2222222222222222,
              "#7201a8"
             ],
             [
              0.3333333333333333,
              "#9c179e"
             ],
             [
              0.4444444444444444,
              "#bd3786"
             ],
             [
              0.5555555555555556,
              "#d8576b"
             ],
             [
              0.6666666666666666,
              "#ed7953"
             ],
             [
              0.7777777777777778,
              "#fb9f3a"
             ],
             [
              0.8888888888888888,
              "#fdca26"
             ],
             [
              1,
              "#f0f921"
             ]
            ],
            "type": "histogram2d"
           }
          ],
          "histogram2dcontour": [
           {
            "colorbar": {
             "outlinewidth": 0,
             "ticks": ""
            },
            "colorscale": [
             [
              0,
              "#0d0887"
             ],
             [
              0.1111111111111111,
              "#46039f"
             ],
             [
              0.2222222222222222,
              "#7201a8"
             ],
             [
              0.3333333333333333,
              "#9c179e"
             ],
             [
              0.4444444444444444,
              "#bd3786"
             ],
             [
              0.5555555555555556,
              "#d8576b"
             ],
             [
              0.6666666666666666,
              "#ed7953"
             ],
             [
              0.7777777777777778,
              "#fb9f3a"
             ],
             [
              0.8888888888888888,
              "#fdca26"
             ],
             [
              1,
              "#f0f921"
             ]
            ],
            "type": "histogram2dcontour"
           }
          ],
          "mesh3d": [
           {
            "colorbar": {
             "outlinewidth": 0,
             "ticks": ""
            },
            "type": "mesh3d"
           }
          ],
          "parcoords": [
           {
            "line": {
             "colorbar": {
              "outlinewidth": 0,
              "ticks": ""
             }
            },
            "type": "parcoords"
           }
          ],
          "pie": [
           {
            "automargin": true,
            "type": "pie"
           }
          ],
          "scatter": [
           {
            "marker": {
             "colorbar": {
              "outlinewidth": 0,
              "ticks": ""
             }
            },
            "type": "scatter"
           }
          ],
          "scatter3d": [
           {
            "line": {
             "colorbar": {
              "outlinewidth": 0,
              "ticks": ""
             }
            },
            "marker": {
             "colorbar": {
              "outlinewidth": 0,
              "ticks": ""
             }
            },
            "type": "scatter3d"
           }
          ],
          "scattercarpet": [
           {
            "marker": {
             "colorbar": {
              "outlinewidth": 0,
              "ticks": ""
             }
            },
            "type": "scattercarpet"
           }
          ],
          "scattergeo": [
           {
            "marker": {
             "colorbar": {
              "outlinewidth": 0,
              "ticks": ""
             }
            },
            "type": "scattergeo"
           }
          ],
          "scattergl": [
           {
            "marker": {
             "colorbar": {
              "outlinewidth": 0,
              "ticks": ""
             }
            },
            "type": "scattergl"
           }
          ],
          "scattermapbox": [
           {
            "marker": {
             "colorbar": {
              "outlinewidth": 0,
              "ticks": ""
             }
            },
            "type": "scattermapbox"
           }
          ],
          "scatterpolar": [
           {
            "marker": {
             "colorbar": {
              "outlinewidth": 0,
              "ticks": ""
             }
            },
            "type": "scatterpolar"
           }
          ],
          "scatterpolargl": [
           {
            "marker": {
             "colorbar": {
              "outlinewidth": 0,
              "ticks": ""
             }
            },
            "type": "scatterpolargl"
           }
          ],
          "scatterternary": [
           {
            "marker": {
             "colorbar": {
              "outlinewidth": 0,
              "ticks": ""
             }
            },
            "type": "scatterternary"
           }
          ],
          "surface": [
           {
            "colorbar": {
             "outlinewidth": 0,
             "ticks": ""
            },
            "colorscale": [
             [
              0,
              "#0d0887"
             ],
             [
              0.1111111111111111,
              "#46039f"
             ],
             [
              0.2222222222222222,
              "#7201a8"
             ],
             [
              0.3333333333333333,
              "#9c179e"
             ],
             [
              0.4444444444444444,
              "#bd3786"
             ],
             [
              0.5555555555555556,
              "#d8576b"
             ],
             [
              0.6666666666666666,
              "#ed7953"
             ],
             [
              0.7777777777777778,
              "#fb9f3a"
             ],
             [
              0.8888888888888888,
              "#fdca26"
             ],
             [
              1,
              "#f0f921"
             ]
            ],
            "type": "surface"
           }
          ],
          "table": [
           {
            "cells": {
             "fill": {
              "color": "#EBF0F8"
             },
             "line": {
              "color": "white"
             }
            },
            "header": {
             "fill": {
              "color": "#C8D4E3"
             },
             "line": {
              "color": "white"
             }
            },
            "type": "table"
           }
          ]
         },
         "layout": {
          "annotationdefaults": {
           "arrowcolor": "#2a3f5f",
           "arrowhead": 0,
           "arrowwidth": 1
          },
          "autotypenumbers": "strict",
          "coloraxis": {
           "colorbar": {
            "outlinewidth": 0,
            "ticks": ""
           }
          },
          "colorscale": {
           "diverging": [
            [
             0,
             "#8e0152"
            ],
            [
             0.1,
             "#c51b7d"
            ],
            [
             0.2,
             "#de77ae"
            ],
            [
             0.3,
             "#f1b6da"
            ],
            [
             0.4,
             "#fde0ef"
            ],
            [
             0.5,
             "#f7f7f7"
            ],
            [
             0.6,
             "#e6f5d0"
            ],
            [
             0.7,
             "#b8e186"
            ],
            [
             0.8,
             "#7fbc41"
            ],
            [
             0.9,
             "#4d9221"
            ],
            [
             1,
             "#276419"
            ]
           ],
           "sequential": [
            [
             0,
             "#0d0887"
            ],
            [
             0.1111111111111111,
             "#46039f"
            ],
            [
             0.2222222222222222,
             "#7201a8"
            ],
            [
             0.3333333333333333,
             "#9c179e"
            ],
            [
             0.4444444444444444,
             "#bd3786"
            ],
            [
             0.5555555555555556,
             "#d8576b"
            ],
            [
             0.6666666666666666,
             "#ed7953"
            ],
            [
             0.7777777777777778,
             "#fb9f3a"
            ],
            [
             0.8888888888888888,
             "#fdca26"
            ],
            [
             1,
             "#f0f921"
            ]
           ],
           "sequentialminus": [
            [
             0,
             "#0d0887"
            ],
            [
             0.1111111111111111,
             "#46039f"
            ],
            [
             0.2222222222222222,
             "#7201a8"
            ],
            [
             0.3333333333333333,
             "#9c179e"
            ],
            [
             0.4444444444444444,
             "#bd3786"
            ],
            [
             0.5555555555555556,
             "#d8576b"
            ],
            [
             0.6666666666666666,
             "#ed7953"
            ],
            [
             0.7777777777777778,
             "#fb9f3a"
            ],
            [
             0.8888888888888888,
             "#fdca26"
            ],
            [
             1,
             "#f0f921"
            ]
           ]
          },
          "colorway": [
           "#636efa",
           "#EF553B",
           "#00cc96",
           "#ab63fa",
           "#FFA15A",
           "#19d3f3",
           "#FF6692",
           "#B6E880",
           "#FF97FF",
           "#FECB52"
          ],
          "font": {
           "color": "#2a3f5f"
          },
          "geo": {
           "bgcolor": "white",
           "lakecolor": "white",
           "landcolor": "#E5ECF6",
           "showlakes": true,
           "showland": true,
           "subunitcolor": "white"
          },
          "hoverlabel": {
           "align": "left"
          },
          "hovermode": "closest",
          "mapbox": {
           "style": "light"
          },
          "paper_bgcolor": "white",
          "plot_bgcolor": "#E5ECF6",
          "polar": {
           "angularaxis": {
            "gridcolor": "white",
            "linecolor": "white",
            "ticks": ""
           },
           "bgcolor": "#E5ECF6",
           "radialaxis": {
            "gridcolor": "white",
            "linecolor": "white",
            "ticks": ""
           }
          },
          "scene": {
           "xaxis": {
            "backgroundcolor": "#E5ECF6",
            "gridcolor": "white",
            "gridwidth": 2,
            "linecolor": "white",
            "showbackground": true,
            "ticks": "",
            "zerolinecolor": "white"
           },
           "yaxis": {
            "backgroundcolor": "#E5ECF6",
            "gridcolor": "white",
            "gridwidth": 2,
            "linecolor": "white",
            "showbackground": true,
            "ticks": "",
            "zerolinecolor": "white"
           },
           "zaxis": {
            "backgroundcolor": "#E5ECF6",
            "gridcolor": "white",
            "gridwidth": 2,
            "linecolor": "white",
            "showbackground": true,
            "ticks": "",
            "zerolinecolor": "white"
           }
          },
          "shapedefaults": {
           "line": {
            "color": "#2a3f5f"
           }
          },
          "ternary": {
           "aaxis": {
            "gridcolor": "white",
            "linecolor": "white",
            "ticks": ""
           },
           "baxis": {
            "gridcolor": "white",
            "linecolor": "white",
            "ticks": ""
           },
           "bgcolor": "#E5ECF6",
           "caxis": {
            "gridcolor": "white",
            "linecolor": "white",
            "ticks": ""
           }
          },
          "title": {
           "x": 0.05
          },
          "xaxis": {
           "automargin": true,
           "gridcolor": "white",
           "linecolor": "white",
           "ticks": "",
           "title": {
            "standoff": 15
           },
           "zerolinecolor": "white",
           "zerolinewidth": 2
          },
          "yaxis": {
           "automargin": true,
           "gridcolor": "white",
           "linecolor": "white",
           "ticks": "",
           "title": {
            "standoff": 15
           },
           "zerolinecolor": "white",
           "zerolinewidth": 2
          }
         }
        },
        "xaxis": {
         "anchor": "y",
         "domain": [
          0,
          0.2888888888888889
         ],
         "range": [
          0,
          50
         ],
         "tickvals": [
          0,
          10,
          20,
          30,
          40,
          50
         ],
         "title": {
          "text": "$Temporal\\: Resolutions\\: [s]$"
         }
        },
        "xaxis2": {
         "anchor": "y2",
         "domain": [
          0.35555555555555557,
          0.6444444444444445
         ],
         "range": [
          0,
          50
         ],
         "tickvals": [
          0,
          10,
          20,
          30,
          40,
          50
         ],
         "title": {
          "text": "$Temporal\\: Resolutions\\: [s]$"
         }
        },
        "xaxis3": {
         "anchor": "y3",
         "domain": [
          0.7111111111111111,
          1
         ],
         "range": [
          0,
          50
         ],
         "tickvals": [
          0,
          10,
          20,
          30,
          40,
          50
         ],
         "title": {
          "text": "$Temporal\\: Resolutions\\: [s]$"
         }
        },
        "yaxis": {
         "anchor": "x",
         "domain": [
          0,
          1
         ],
         "range": [
          -100,
          100
         ],
         "tickvals": [
          -100,
          -80,
          -60,
          -40,
          -20,
          0,
          20,
          40,
          60,
          80,
          100
         ],
         "title": {
          "text": "$Percent\\: Change$"
         }
        },
        "yaxis2": {
         "anchor": "x2",
         "domain": [
          0,
          1
         ],
         "range": [
          -100,
          100
         ],
         "tickvals": [
          -100,
          -80,
          -60,
          -40,
          -20,
          0,
          20,
          40,
          60,
          80,
          100
         ],
         "title": {
          "text": "$Percent\\: Change$"
         }
        },
        "yaxis3": {
         "anchor": "x3",
         "domain": [
          0,
          1
         ],
         "range": [
          -100,
          100
         ],
         "tickvals": [
          -100,
          -80,
          -60,
          -40,
          -20,
          0,
          20,
          40,
          60,
          80,
          100
         ],
         "title": {
          "text": "$Percent\\: Change$"
         }
        }
       }
      },
      "text/html": [
       "<div>                            <div id=\"9f820af6-52d6-4a92-a258-8fb366b1b83e\" class=\"plotly-graph-div\" style=\"height:525px; width:100%;\"></div>            <script type=\"text/javascript\">                require([\"plotly\"], function(Plotly) {                    window.PLOTLYENV=window.PLOTLYENV || {};                                    if (document.getElementById(\"9f820af6-52d6-4a92-a258-8fb366b1b83e\")) {                    Plotly.newPlot(                        \"9f820af6-52d6-4a92-a258-8fb366b1b83e\",                        [{\"error_y\": {\"array\": [0.0, 12.082612705610208, 16.72889449046314, 24.17952723848675, 30.252874992581585, 35.28804938278102, 42.56962410311505, 47.57446286876794, 58.23312300561891, 63.0330488511153], \"arrayminus\": [0.0, 13.130643314929825, 19.612081616174446, 27.140658559307475, 36.41084023760287, 43.69323811875878, 51.20521995370257, 56.40422349172199, 61.706423277355334, 56.2614200562377], \"symmetric\": false, \"thickness\": 4, \"type\": \"data\", \"width\": 9}, \"legendgroup\": \"1\", \"line\": {\"color\": \"#585e9a\"}, \"name\": \"RRIFT\", \"showlegend\": false, \"type\": \"scatter\", \"x\": [4.8, 9.599999999999998, 14.399999999999999, 19.2, 23.999999999999996, 28.8, 33.6, 38.4, 43.199999999999996, 47.99999999999999], \"xaxis\": \"x\", \"y\": [0.0, -0.37495953025037504, -0.8323652316763509, 2.1162611739229713, 4.960314870621613, 9.971645922856235, 12.943851998515314, 18.989097678883937, 27.76200397110584, 29.264791325472707], \"yaxis\": \"y\"}, {\"error_y\": {\"array\": [0.0, 12.141741480226049, 21.23214536301679, 25.919377124554707, 27.00938584450485, 29.175526245289763, 32.48285119601998, 35.755467001638515, 36.18526049457545, 35.61334157988929], \"arrayminus\": [0.0, 16.699305204322762, 28.509321583031188, 35.226348913227866, 39.428030029205374, 42.01428514206725, 41.95097789581704, 40.31987188575169, 43.546964203753326, 45.94024295232122], \"symmetric\": false, \"thickness\": 4, \"type\": \"data\", \"width\": 9}, \"legendgroup\": \"2\", \"line\": {\"color\": \"#f36a61\"}, \"name\": \"ETM\", \"showlegend\": false, \"type\": \"scatter\", \"x\": [4.8, 9.599999999999998, 14.399999999999999, 19.2, 23.999999999999996, 28.8, 33.6, 38.4, 43.199999999999996, 47.99999999999999], \"xaxis\": \"x\", \"y\": [0.0, -1.159679051420091, -8.626703527755227, -18.67217232995412, -26.456233622668965, -30.914261557994863, -35.42114139753894, -37.45534577856231, -36.78580003812288, -36.1849408070786], \"yaxis\": \"y\"}, {\"error_y\": {\"array\": [0.0, 9.240656710081076, 12.550591922477892, 16.256971881492582, 17.506005563119814, 21.24452424843113, 23.393764475700838, 24.162259107116597, 27.661973740184692, 26.88994128173573], \"arrayminus\": [0.0, 12.334142867364696, 20.196123095628632, 30.088804341225497, 37.87495405675675, 45.04640710507718, 52.555318976747095, 55.13494242037391, 57.56122521021828, 53.19514978318078], \"symmetric\": false, \"thickness\": 4, \"type\": \"data\", \"width\": 9}, \"legendgroup\": \"1\", \"line\": {\"color\": \"#585e9a\"}, \"name\": \"RRIFT\", \"showlegend\": true, \"type\": \"scatter\", \"x\": [4.8, 9.599999999999998, 14.399999999999999, 19.2, 23.999999999999996, 28.8, 33.6, 38.4, 43.199999999999996, 47.99999999999999], \"xaxis\": \"x2\", \"y\": [0.0, -0.42961894703182835, -0.05395816686148715, -1.8344921442578368, -2.898250571773643, -0.8329506123736197, -0.5988278497852895, -0.9426369923668771, -0.20110423962643095, -1.164834798529851], \"yaxis\": \"y2\"}, {\"error_y\": {\"array\": [0.0, 9.813219643903471, 16.443181912056982, 21.588740609916968, 28.619936872257536, 30.93544051420991, 34.592884550861655, 34.50688784409648, 36.03607575593547, 36.99726996442911], \"arrayminus\": [0.0, 15.73803925422463, 30.948678271620405, 55.52882556641883, 74.4007507653599, 83.06367894314269, 84.22029222403758, 83.09794163835087, 81.24752943099645, 79.7079216650715], \"symmetric\": false, \"thickness\": 4, \"type\": \"data\", \"width\": 9}, \"legendgroup\": \"2\", \"line\": {\"color\": \"#f36a61\"}, \"name\": \"ETM\", \"showlegend\": true, \"type\": \"scatter\", \"x\": [4.8, 9.599999999999998, 14.399999999999999, 19.2, 23.999999999999996, 28.8, 33.6, 38.4, 43.199999999999996, 47.99999999999999], \"xaxis\": \"x2\", \"y\": [0.0, -0.6920881517142992, -0.8737979395472355, -2.0629599388629227, -5.547324763036069, -8.49633446657643, -13.612657796043923, -17.660727241170697, -21.186601665756363, -23.349226377032473], \"yaxis\": \"y2\"}, {\"error_y\": {\"array\": [0.0, 19.550250276544233, 28.18352301862517, 41.34233208904911, 55.9670821966514, 69.29421174445399, 79.52286448616505, 81.79549336952908, 81.87885377311036, 74.83355795534455], \"arrayminus\": [0.0, 20.994297625693534, 30.277610300895674, 47.97815471700577, 59.338910376831464, 62.92985413014087, 66.72035268931816, 66.0830256202812, 64.198623258161, 57.49441771064462], \"symmetric\": false, \"thickness\": 4, \"type\": \"data\", \"width\": 9}, \"legendgroup\": \"1\", \"line\": {\"color\": \"#585e9a\"}, \"name\": \"RRIFT\", \"showlegend\": false, \"type\": \"scatter\", \"x\": [4.8, 9.599999999999998, 14.399999999999999, 19.2, 23.999999999999996, 28.8, 33.6, 38.4, 43.199999999999996, 47.99999999999999], \"xaxis\": \"x3\", \"y\": [0.0, -3.373414331210095, -7.487227837792736, -7.746570667569988, -11.902439174335568, -17.53005942752752, -24.818964527368863, -31.953746543357788, -35.801376741839, -42.50558228935538], \"yaxis\": \"y3\"}, {\"error_y\": {\"array\": [0.0, 18.90375765002312, 47.26767371317368, 79.34397833042482, 100.59859446196897, 102.4049191192913, 104.59173352700128, 105.24506520413314, 106.69687554969101, 107.65752323261565], \"arrayminus\": [0.0, 16.19309037206184, 28.001303733520192, 41.39622324641445, 54.06078287462502, 65.41923847349419, 76.4448077724844, 81.88647520431554, 78.3776534095734, 78.90584315865105], \"symmetric\": false, \"thickness\": 4, \"type\": \"data\", \"width\": 9}, \"legendgroup\": \"2\", \"line\": {\"color\": \"#f36a61\"}, \"name\": \"ETM\", \"showlegend\": false, \"type\": \"scatter\", \"x\": [4.8, 9.599999999999998, 14.399999999999999, 19.2, 23.999999999999996, 28.8, 33.6, 38.4, 43.199999999999996, 47.99999999999999], \"xaxis\": \"x3\", \"y\": [0.0, -0.8489768503126828, -2.423603780189649, 3.5858655644518636, 12.137853940080022, 19.382719555155756, 29.943331752896707, 38.91995362466707, 45.75874729937294, 53.89966241260042], \"yaxis\": \"y3\"}],                        {\"annotations\": [{\"font\": {\"size\": 16}, \"showarrow\": false, \"text\": \"$K^{trans}$\", \"x\": 0.14444444444444446, \"xanchor\": \"center\", \"xref\": \"paper\", \"y\": 1.0, \"yanchor\": \"bottom\", \"yref\": \"paper\"}, {\"font\": {\"size\": 16}, \"showarrow\": false, \"text\": \"$V_e$\", \"x\": 0.5, \"xanchor\": \"center\", \"xref\": \"paper\", \"y\": 1.0, \"yanchor\": \"bottom\", \"yref\": \"paper\"}, {\"font\": {\"size\": 16}, \"showarrow\": false, \"text\": \"$V_p$\", \"x\": 0.8555555555555556, \"xanchor\": \"center\", \"xref\": \"paper\", \"y\": 1.0, \"yanchor\": \"bottom\", \"yref\": \"paper\"}], \"shapes\": [{\"line\": {\"color\": \"black\", \"dash\": \"dot\", \"width\": 1.69}, \"type\": \"line\", \"x0\": 0, \"x1\": 1, \"xref\": \"x domain\", \"y0\": 0, \"y1\": 0, \"yref\": \"y\"}, {\"line\": {\"color\": \"black\", \"dash\": \"dot\", \"width\": 1.69}, \"type\": \"line\", \"x0\": 0, \"x1\": 1, \"xref\": \"x2 domain\", \"y0\": 0, \"y1\": 0, \"yref\": \"y2\"}, {\"line\": {\"color\": \"black\", \"dash\": \"dot\", \"width\": 1.69}, \"type\": \"line\", \"x0\": 0, \"x1\": 1, \"xref\": \"x3 domain\", \"y0\": 0, \"y1\": 0, \"yref\": \"y3\"}], \"template\": {\"data\": {\"bar\": [{\"error_x\": {\"color\": \"#2a3f5f\"}, \"error_y\": {\"color\": \"#2a3f5f\"}, \"marker\": {\"line\": {\"color\": \"#E5ECF6\", \"width\": 0.5}}, \"type\": \"bar\"}], \"barpolar\": [{\"marker\": {\"line\": {\"color\": \"#E5ECF6\", \"width\": 0.5}}, \"type\": \"barpolar\"}], \"carpet\": [{\"aaxis\": {\"endlinecolor\": \"#2a3f5f\", \"gridcolor\": \"white\", \"linecolor\": \"white\", \"minorgridcolor\": \"white\", \"startlinecolor\": \"#2a3f5f\"}, \"baxis\": {\"endlinecolor\": \"#2a3f5f\", \"gridcolor\": \"white\", \"linecolor\": \"white\", \"minorgridcolor\": \"white\", \"startlinecolor\": \"#2a3f5f\"}, \"type\": \"carpet\"}], \"choropleth\": [{\"colorbar\": {\"outlinewidth\": 0, \"ticks\": \"\"}, \"type\": \"choropleth\"}], \"contour\": [{\"colorbar\": {\"outlinewidth\": 0, \"ticks\": \"\"}, \"colorscale\": [[0.0, \"#0d0887\"], [0.1111111111111111, \"#46039f\"], [0.2222222222222222, \"#7201a8\"], [0.3333333333333333, \"#9c179e\"], [0.4444444444444444, \"#bd3786\"], [0.5555555555555556, \"#d8576b\"], [0.6666666666666666, \"#ed7953\"], [0.7777777777777778, \"#fb9f3a\"], [0.8888888888888888, \"#fdca26\"], [1.0, \"#f0f921\"]], \"type\": \"contour\"}], \"contourcarpet\": [{\"colorbar\": {\"outlinewidth\": 0, \"ticks\": \"\"}, \"type\": \"contourcarpet\"}], \"heatmap\": [{\"colorbar\": {\"outlinewidth\": 0, \"ticks\": \"\"}, \"colorscale\": [[0.0, \"#0d0887\"], [0.1111111111111111, \"#46039f\"], [0.2222222222222222, \"#7201a8\"], [0.3333333333333333, \"#9c179e\"], [0.4444444444444444, \"#bd3786\"], [0.5555555555555556, \"#d8576b\"], [0.6666666666666666, \"#ed7953\"], [0.7777777777777778, \"#fb9f3a\"], [0.8888888888888888, \"#fdca26\"], [1.0, \"#f0f921\"]], \"type\": \"heatmap\"}], \"heatmapgl\": [{\"colorbar\": {\"outlinewidth\": 0, \"ticks\": \"\"}, \"colorscale\": [[0.0, \"#0d0887\"], [0.1111111111111111, \"#46039f\"], [0.2222222222222222, \"#7201a8\"], [0.3333333333333333, \"#9c179e\"], [0.4444444444444444, \"#bd3786\"], [0.5555555555555556, \"#d8576b\"], [0.6666666666666666, \"#ed7953\"], [0.7777777777777778, \"#fb9f3a\"], [0.8888888888888888, \"#fdca26\"], [1.0, \"#f0f921\"]], \"type\": \"heatmapgl\"}], \"histogram\": [{\"marker\": {\"colorbar\": {\"outlinewidth\": 0, \"ticks\": \"\"}}, \"type\": \"histogram\"}], \"histogram2d\": [{\"colorbar\": {\"outlinewidth\": 0, \"ticks\": \"\"}, \"colorscale\": [[0.0, \"#0d0887\"], [0.1111111111111111, \"#46039f\"], [0.2222222222222222, \"#7201a8\"], [0.3333333333333333, \"#9c179e\"], [0.4444444444444444, \"#bd3786\"], [0.5555555555555556, \"#d8576b\"], [0.6666666666666666, \"#ed7953\"], [0.7777777777777778, \"#fb9f3a\"], [0.8888888888888888, \"#fdca26\"], [1.0, \"#f0f921\"]], \"type\": \"histogram2d\"}], \"histogram2dcontour\": [{\"colorbar\": {\"outlinewidth\": 0, \"ticks\": \"\"}, \"colorscale\": [[0.0, \"#0d0887\"], [0.1111111111111111, \"#46039f\"], [0.2222222222222222, \"#7201a8\"], [0.3333333333333333, \"#9c179e\"], [0.4444444444444444, \"#bd3786\"], [0.5555555555555556, \"#d8576b\"], [0.6666666666666666, \"#ed7953\"], [0.7777777777777778, \"#fb9f3a\"], [0.8888888888888888, \"#fdca26\"], [1.0, \"#f0f921\"]], \"type\": \"histogram2dcontour\"}], \"mesh3d\": [{\"colorbar\": {\"outlinewidth\": 0, \"ticks\": \"\"}, \"type\": \"mesh3d\"}], \"parcoords\": [{\"line\": {\"colorbar\": {\"outlinewidth\": 0, \"ticks\": \"\"}}, \"type\": \"parcoords\"}], \"pie\": [{\"automargin\": true, \"type\": \"pie\"}], \"scatter\": [{\"marker\": {\"colorbar\": {\"outlinewidth\": 0, \"ticks\": \"\"}}, \"type\": \"scatter\"}], \"scatter3d\": [{\"line\": {\"colorbar\": {\"outlinewidth\": 0, \"ticks\": \"\"}}, \"marker\": {\"colorbar\": {\"outlinewidth\": 0, \"ticks\": \"\"}}, \"type\": \"scatter3d\"}], \"scattercarpet\": [{\"marker\": {\"colorbar\": {\"outlinewidth\": 0, \"ticks\": \"\"}}, \"type\": \"scattercarpet\"}], \"scattergeo\": [{\"marker\": {\"colorbar\": {\"outlinewidth\": 0, \"ticks\": \"\"}}, \"type\": \"scattergeo\"}], \"scattergl\": [{\"marker\": {\"colorbar\": {\"outlinewidth\": 0, \"ticks\": \"\"}}, \"type\": \"scattergl\"}], \"scattermapbox\": [{\"marker\": {\"colorbar\": {\"outlinewidth\": 0, \"ticks\": \"\"}}, \"type\": \"scattermapbox\"}], \"scatterpolar\": [{\"marker\": {\"colorbar\": {\"outlinewidth\": 0, \"ticks\": \"\"}}, \"type\": \"scatterpolar\"}], \"scatterpolargl\": [{\"marker\": {\"colorbar\": {\"outlinewidth\": 0, \"ticks\": \"\"}}, \"type\": \"scatterpolargl\"}], \"scatterternary\": [{\"marker\": {\"colorbar\": {\"outlinewidth\": 0, \"ticks\": \"\"}}, \"type\": \"scatterternary\"}], \"surface\": [{\"colorbar\": {\"outlinewidth\": 0, \"ticks\": \"\"}, \"colorscale\": [[0.0, \"#0d0887\"], [0.1111111111111111, \"#46039f\"], [0.2222222222222222, \"#7201a8\"], [0.3333333333333333, \"#9c179e\"], [0.4444444444444444, \"#bd3786\"], [0.5555555555555556, \"#d8576b\"], [0.6666666666666666, \"#ed7953\"], [0.7777777777777778, \"#fb9f3a\"], [0.8888888888888888, \"#fdca26\"], [1.0, \"#f0f921\"]], \"type\": \"surface\"}], \"table\": [{\"cells\": {\"fill\": {\"color\": \"#EBF0F8\"}, \"line\": {\"color\": \"white\"}}, \"header\": {\"fill\": {\"color\": \"#C8D4E3\"}, \"line\": {\"color\": \"white\"}}, \"type\": \"table\"}]}, \"layout\": {\"annotationdefaults\": {\"arrowcolor\": \"#2a3f5f\", \"arrowhead\": 0, \"arrowwidth\": 1}, \"autotypenumbers\": \"strict\", \"coloraxis\": {\"colorbar\": {\"outlinewidth\": 0, \"ticks\": \"\"}}, \"colorscale\": {\"diverging\": [[0, \"#8e0152\"], [0.1, \"#c51b7d\"], [0.2, \"#de77ae\"], [0.3, \"#f1b6da\"], [0.4, \"#fde0ef\"], [0.5, \"#f7f7f7\"], [0.6, \"#e6f5d0\"], [0.7, \"#b8e186\"], [0.8, \"#7fbc41\"], [0.9, \"#4d9221\"], [1, \"#276419\"]], \"sequential\": [[0.0, \"#0d0887\"], [0.1111111111111111, \"#46039f\"], [0.2222222222222222, \"#7201a8\"], [0.3333333333333333, \"#9c179e\"], [0.4444444444444444, \"#bd3786\"], [0.5555555555555556, \"#d8576b\"], [0.6666666666666666, \"#ed7953\"], [0.7777777777777778, \"#fb9f3a\"], [0.8888888888888888, \"#fdca26\"], [1.0, \"#f0f921\"]], \"sequentialminus\": [[0.0, \"#0d0887\"], [0.1111111111111111, \"#46039f\"], [0.2222222222222222, \"#7201a8\"], [0.3333333333333333, \"#9c179e\"], [0.4444444444444444, \"#bd3786\"], [0.5555555555555556, \"#d8576b\"], [0.6666666666666666, \"#ed7953\"], [0.7777777777777778, \"#fb9f3a\"], [0.8888888888888888, \"#fdca26\"], [1.0, \"#f0f921\"]]}, \"colorway\": [\"#636efa\", \"#EF553B\", \"#00cc96\", \"#ab63fa\", \"#FFA15A\", \"#19d3f3\", \"#FF6692\", \"#B6E880\", \"#FF97FF\", \"#FECB52\"], \"font\": {\"color\": \"#2a3f5f\"}, \"geo\": {\"bgcolor\": \"white\", \"lakecolor\": \"white\", \"landcolor\": \"#E5ECF6\", \"showlakes\": true, \"showland\": true, \"subunitcolor\": \"white\"}, \"hoverlabel\": {\"align\": \"left\"}, \"hovermode\": \"closest\", \"mapbox\": {\"style\": \"light\"}, \"paper_bgcolor\": \"white\", \"plot_bgcolor\": \"#E5ECF6\", \"polar\": {\"angularaxis\": {\"gridcolor\": \"white\", \"linecolor\": \"white\", \"ticks\": \"\"}, \"bgcolor\": \"#E5ECF6\", \"radialaxis\": {\"gridcolor\": \"white\", \"linecolor\": \"white\", \"ticks\": \"\"}}, \"scene\": {\"xaxis\": {\"backgroundcolor\": \"#E5ECF6\", \"gridcolor\": \"white\", \"gridwidth\": 2, \"linecolor\": \"white\", \"showbackground\": true, \"ticks\": \"\", \"zerolinecolor\": \"white\"}, \"yaxis\": {\"backgroundcolor\": \"#E5ECF6\", \"gridcolor\": \"white\", \"gridwidth\": 2, \"linecolor\": \"white\", \"showbackground\": true, \"ticks\": \"\", \"zerolinecolor\": \"white\"}, \"zaxis\": {\"backgroundcolor\": \"#E5ECF6\", \"gridcolor\": \"white\", \"gridwidth\": 2, \"linecolor\": \"white\", \"showbackground\": true, \"ticks\": \"\", \"zerolinecolor\": \"white\"}}, \"shapedefaults\": {\"line\": {\"color\": \"#2a3f5f\"}}, \"ternary\": {\"aaxis\": {\"gridcolor\": \"white\", \"linecolor\": \"white\", \"ticks\": \"\"}, \"baxis\": {\"gridcolor\": \"white\", \"linecolor\": \"white\", \"ticks\": \"\"}, \"bgcolor\": \"#E5ECF6\", \"caxis\": {\"gridcolor\": \"white\", \"linecolor\": \"white\", \"ticks\": \"\"}}, \"title\": {\"x\": 0.05}, \"xaxis\": {\"automargin\": true, \"gridcolor\": \"white\", \"linecolor\": \"white\", \"ticks\": \"\", \"title\": {\"standoff\": 15}, \"zerolinecolor\": \"white\", \"zerolinewidth\": 2}, \"yaxis\": {\"automargin\": true, \"gridcolor\": \"white\", \"linecolor\": \"white\", \"ticks\": \"\", \"title\": {\"standoff\": 15}, \"zerolinecolor\": \"white\", \"zerolinewidth\": 2}}}, \"xaxis\": {\"anchor\": \"y\", \"domain\": [0.0, 0.2888888888888889], \"range\": [0, 50], \"tickvals\": [0, 10, 20, 30, 40, 50], \"title\": {\"text\": \"$Temporal\\\\: Resolutions\\\\: [s]$\"}}, \"xaxis2\": {\"anchor\": \"y2\", \"domain\": [0.35555555555555557, 0.6444444444444445], \"range\": [0, 50], \"tickvals\": [0, 10, 20, 30, 40, 50], \"title\": {\"text\": \"$Temporal\\\\: Resolutions\\\\: [s]$\"}}, \"xaxis3\": {\"anchor\": \"y3\", \"domain\": [0.7111111111111111, 1.0], \"range\": [0, 50], \"tickvals\": [0, 10, 20, 30, 40, 50], \"title\": {\"text\": \"$Temporal\\\\: Resolutions\\\\: [s]$\"}}, \"yaxis\": {\"anchor\": \"x\", \"domain\": [0.0, 1.0], \"range\": [-100, 100], \"tickvals\": [-100, -80, -60, -40, -20, 0, 20, 40, 60, 80, 100], \"title\": {\"text\": \"$Percent\\\\: Change$\"}}, \"yaxis2\": {\"anchor\": \"x2\", \"domain\": [0.0, 1.0], \"range\": [-100, 100], \"tickvals\": [-100, -80, -60, -40, -20, 0, 20, 40, 60, 80, 100], \"title\": {\"text\": \"$Percent\\\\: Change$\"}}, \"yaxis3\": {\"anchor\": \"x3\", \"domain\": [0.0, 1.0], \"range\": [-100, 100], \"tickvals\": [-100, -80, -60, -40, -20, 0, 20, 40, 60, 80, 100], \"title\": {\"text\": \"$Percent\\\\: Change$\"}}},                        {\"responsive\": true}                    ).then(function(){\n",
       "                            \n",
       "var gd = document.getElementById('9f820af6-52d6-4a92-a258-8fb366b1b83e');\n",
       "var x = new MutationObserver(function (mutations, observer) {{\n",
       "        var display = window.getComputedStyle(gd).display;\n",
       "        if (!display || display === 'none') {{\n",
       "            console.log([gd, 'removed!']);\n",
       "            Plotly.purge(gd);\n",
       "            observer.disconnect();\n",
       "        }}\n",
       "}});\n",
       "\n",
       "// Listen for the removal of the full notebook cells\n",
       "var notebookContainer = gd.closest('#notebook-container');\n",
       "if (notebookContainer) {{\n",
       "    x.observe(notebookContainer, {childList: true});\n",
       "}}\n",
       "\n",
       "// Listen for the clearing of the current output cell\n",
       "var outputEl = gd.closest('.output');\n",
       "if (outputEl) {{\n",
       "    x.observe(outputEl, {childList: true});\n",
       "}}\n",
       "\n",
       "                        })                };                });            </script>        </div>"
      ]
     },
     "metadata": {},
     "output_type": "display_data"
    }
   ],
   "source": [
    "%get TRes --from MATLAB\n",
    "\n",
    "%get errQt1 --from MATLAB\n",
    "%get errMd1 --from MATLAB\n",
    "\n",
    "%get errQt2 --from MATLAB\n",
    "%get errMd2 --from MATLAB\n",
    "\n",
    "%get errQt3 --from MATLAB\n",
    "%get errMd3 --from MATLAB\n",
    "\n",
    "%get errQt4 --from MATLAB\n",
    "%get errMd4 --from MATLAB\n",
    "\n",
    "%get errQt5 --from MATLAB\n",
    "%get errMd5 --from MATLAB\n",
    "\n",
    "%get errQt6 --from MATLAB\n",
    "%get errMd6 --from MATLAB\n",
    "\n",
    "fig = make_subplots(rows=1, cols=3, \n",
    "                    subplot_titles=(r'$K^{trans}$', r'$V_e$', r'$V_p$'))\n",
    "\n",
    "\n",
    "line_colours = ['#585e9a', '#f36a61']\n",
    "line_names = ['RRIFT', 'ETM']\n",
    "\n",
    "\n",
    "# First subplot\n",
    "\n",
    "err_negative = np.squeeze(np.asarray(np.reshape(abs(errQt1[0,:]-errMd1), 10)))\n",
    "err_positive = np.squeeze(np.asarray(np.reshape(abs(errQt1[1,:]-errMd1), 10)))\n",
    "\n",
    "fig.append_trace(go.Scatter(\n",
    "        name=line_names[0],\n",
    "        x=TRes,\n",
    "        y=errMd1,\n",
    "        showlegend=False,\n",
    "        legendgroup=1,\n",
    "        error_y=dict(\n",
    "            type='data', # value of error bar given in data coordinates\n",
    "            array=err_positive,\n",
    "            arrayminus=err_negative,\n",
    "            symmetric=False,\n",
    "            thickness=4, width=9),\n",
    "        line_color=line_colours[0],\n",
    "    ),row=1, col=1)\n",
    "\n",
    "err_negative = np.squeeze(np.asarray(np.reshape(abs(errQt2[0,:]-errMd2), 10)))\n",
    "err_positive = np.squeeze(np.asarray(np.reshape(abs(errQt2[1,:]-errMd2), 10)))\n",
    "\n",
    "fig.append_trace(go.Scatter(\n",
    "        name=line_names[1],\n",
    "        x=TRes,\n",
    "        y=errMd2,\n",
    "        showlegend=False,\n",
    "        legendgroup=2,\n",
    "        error_y=dict(\n",
    "            type='data', # value of error bar given in data coordinates\n",
    "            array=err_positive,\n",
    "            arrayminus=err_negative,\n",
    "            symmetric=False,\n",
    "            thickness=4, width=9),\n",
    "        line_color=line_colours[1],\n",
    "    ),row=1, col=1)\n",
    "\n",
    "\n",
    "\n",
    "# Second subplot \n",
    "\n",
    "err_negative = np.squeeze(np.asarray(np.reshape(abs(errQt3[0,:]-errMd3), 10)))\n",
    "err_positive = np.squeeze(np.asarray(np.reshape(abs(errQt3[1,:]-errMd3), 10)))\n",
    "\n",
    "fig.append_trace(go.Scatter(\n",
    "        name=line_names[0],\n",
    "        x=TRes,\n",
    "        y=errMd3,\n",
    "        showlegend=True,\n",
    "        legendgroup=1,\n",
    "        error_y=dict(\n",
    "            type='data', # value of error bar given in data coordinates\n",
    "            array=err_positive,\n",
    "            arrayminus=err_negative,\n",
    "            symmetric=False,\n",
    "            thickness=4, width=9),\n",
    "        line_color=line_colours[0],\n",
    "    ),row=1, col=2)\n",
    "\n",
    "err_negative = np.squeeze(np.asarray(np.reshape(abs(errQt4[0,:]-errMd4), 10)))\n",
    "err_positive = np.squeeze(np.asarray(np.reshape(abs(errQt4[1,:]-errMd4), 10)))\n",
    "\n",
    "fig.append_trace(go.Scatter(\n",
    "        name=line_names[1],\n",
    "        x=TRes,\n",
    "        y=errMd4,\n",
    "        showlegend=True,\n",
    "        legendgroup=2,\n",
    "        error_y=dict(\n",
    "            type='data', # value of error bar given in data coordinates\n",
    "            array=err_positive,\n",
    "            arrayminus=err_negative,\n",
    "            symmetric=False,\n",
    "            thickness=4, width=9),\n",
    "        line_color=line_colours[1],\n",
    "    ),row=1, col=2)\n",
    "\n",
    "# Third subplot\n",
    "\n",
    "err_negative = np.squeeze(np.asarray(np.reshape(abs(errQt5[0,:]-errMd5), 10)))\n",
    "err_positive = np.squeeze(np.asarray(np.reshape(abs(errQt5[1,:]-errMd5), 10)))\n",
    "\n",
    "fig.append_trace(go.Scatter(\n",
    "        name=line_names[0],\n",
    "        x=TRes,\n",
    "        y=errMd5,\n",
    "        showlegend=False,\n",
    "        legendgroup=1,\n",
    "        error_y=dict(\n",
    "            type='data', # value of error bar given in data coordinates\n",
    "            array=err_positive,\n",
    "            arrayminus=err_negative,\n",
    "            symmetric=False,\n",
    "            thickness=4, width=9),\n",
    "        line_color=line_colours[0],\n",
    "    ),row=1, col=3)\n",
    "\n",
    "err_negative = np.squeeze(np.asarray(np.reshape(abs(errQt6[0,:]-errMd6), 10)))\n",
    "err_positive = np.squeeze(np.asarray(np.reshape(abs(errQt6[1,:]-errMd6), 10)))\n",
    "\n",
    "fig.append_trace(go.Scatter(\n",
    "        name=line_names[1],\n",
    "        x=TRes,\n",
    "        y=errMd6,\n",
    "        showlegend=False,\n",
    "        legendgroup=2,\n",
    "        error_y=dict(\n",
    "            type='data', # value of error bar given in data coordinates\n",
    "            array=err_positive,\n",
    "            arrayminus=err_negative,\n",
    "            symmetric=False,\n",
    "            thickness=4, width=9),\n",
    "        line_color=line_colours[1]\n",
    "    ),row=1, col=3)\n",
    "\n",
    "\n",
    "fig.add_hline(y=0, line_dash=\"dot\", line_color=\"black\", line_width=1.69, col=\"all\")\n",
    "\n",
    "fig.update_xaxes(title_text=r'$Temporal\\: Resolutions\\: [s]$',\n",
    "                 range=[0,50], \n",
    "                 tickvals=[0, 10, 20, 30, 40, 50],\n",
    "                 row=1, col=1)\n",
    "fig.update_xaxes(title_text=r'$Temporal\\: Resolutions\\: [s]$',\n",
    "                 range=[0, 50], \n",
    "                 tickvals=[0, 10, 20, 30, 40, 50],\n",
    "                 row=1, col=2)\n",
    "fig.update_xaxes(title_text=r'$Temporal\\: Resolutions\\: [s]$',\n",
    "                 range=[0, 50], \n",
    "                 tickvals=[0, 10, 20, 30, 40, 50],\n",
    "                 row=1, col=3)\n",
    "\n",
    "\n",
    "fig.update_yaxes(title_text=r'$Percent\\: Change$',\n",
    "                 range=[-100, 100], \n",
    "                 tickvals=[-100, -80, -60, -40, -20, 0, 20, 40, 60, 80, 100],\n",
    "                 row=1, col=1)\n",
    "fig.update_yaxes(title_text=r'$Percent\\: Change$',\n",
    "                 range=[-100, 100], \n",
    "                 tickvals=[-100, -80, -60, -40, -20, 0, 20, 40, 60, 80, 100],\n",
    "                 row=1, col=2)\n",
    "fig.update_yaxes(title_text=r'$Percent\\: Change$',\n",
    "                 range=[-100, 100], \n",
    "                 tickvals=[-100, -80, -60, -40, -20, 0, 20, 40, 60, 80, 100],\n",
    "                 row=1, col=3)\n",
    "\n",
    "\n",
    "\n",
    "    \n",
    "\n",
    "\n",
    "    \n",
    "fig.show()\n"
   ]
  }
 ],
 "metadata": {
  "kernelspec": {
   "display_name": "SoS",
   "language": "sos",
   "name": "sos"
  },
  "language_info": {
   "codemirror_mode": "sos",
   "file_extension": ".sos",
   "mimetype": "text/x-sos",
   "name": "sos",
   "nbconvert_exporter": "sos_notebook.converter.SoS_Exporter",
   "pygments_lexer": "sos"
  },
  "sos": {
   "kernels": [
    [
     "MATLAB",
     "matlab",
     "MATLAB",
     "#8ee7f1",
     "octave"
    ],
    [
     "Python3",
     "python3",
     "Python3",
     "#FFD91A",
     {
      "name": "ipython",
      "version": 3
     }
    ],
    [
     "SoS",
     "sos",
     "",
     "",
     "sos"
    ]
   ],
   "panel": {
    "displayed": true,
    "height": 0
   },
   "version": "0.22.3"
  }
 },
 "nbformat": 4,
 "nbformat_minor": 4
}
