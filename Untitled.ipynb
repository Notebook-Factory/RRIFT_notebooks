{
 "cells": [
  {
   "cell_type": "markdown",
   "metadata": {
    "kernel": "SoS"
   },
   "source": [
    "# Imports"
   ]
  },
  {
   "cell_type": "code",
   "execution_count": 1,
   "metadata": {
    "kernel": "SoS"
   },
   "outputs": [],
   "source": [
    "import plotly.express as px\n",
    "import plotly.graph_objects as go\n",
    "import numpy as np\n",
    "import sys\n",
    "from scipy import stats\n",
    "from scipy.io import loadmat\n",
    "import statsmodels.api as sm\n",
    "import pandas as pd\n",
    "from itertools import cycle\n",
    "import itertools\n",
    "from pandas.core.common import flatten\n",
    "from plotly.subplots import make_subplots"
   ]
  },
  {
   "cell_type": "markdown",
   "metadata": {
    "kernel": "SoS"
   },
   "source": [
    "# Figure 1"
   ]
  },
  {
   "cell_type": "code",
   "execution_count": 110,
   "metadata": {
    "kernel": "MATLAB"
   },
   "outputs": [
    {
     "name": "stderr",
     "output_type": "stream",
     "text": [
      "\u001b[1;31mLicense checkout failed.\n",
      "License Manager Error -10\n",
      "Your license for Signal_Toolbox has expired. \n",
      "If you are not using a trial license contact your License Administrator to obtain an updated license. \n",
      "Otherwise, contact your Sales Representative for a trial extension.\n",
      "\n",
      "Troubleshoot this issue by visiting: \n",
      "https://www.mathworks.com/support/lme/R2020b/10\n",
      "\n",
      "Diagnostic Information:\n",
      "Feature: Signal_Toolbox \n",
      "License path: C:\\Users\\brank\\AppData\\Roaming\\MathWorks\\MATLAB\\R2020b_licenses\\license_DESKTOP-INC0KCJ_8685185_R2020b.lic;M:\\MATLAB\\licenses\\license.dat;M:\\MATLAB\\licenses\\trial_8374165_R2020b.lic;M:\\MATLAB\\licenses\\trial_8705900_R2020b.lic;M:\\MATLAB\\licenses\\trial_8750511_R2020b.lic;M:\\MATLAB\\licenses\\trial_8855476_R2020b.lic \n",
      "Licensing error: -10,32.\n",
      "\n",
      "\u001b[0m"
     ]
    },
    {
     "ename": "Error",
     "evalue": -1,
     "output_type": "error",
     "traceback": "License checkout failed.\nLicense Manager Error -10\nYour license for Signal_Toolbox has expired. \nIf you are not using a trial license contact your License Administrator to obtain an updated license. \nOtherwise, contact your Sales Representative for a trial extension.\n\nTroubleshoot this issue by visiting: \nhttps://www.mathworks.com/support/lme/R2020b/10\n\nDiagnostic Information:\nFeature: Signal_Toolbox \nLicense path: C:\\Users\\brank\\AppData\\Roaming\\MathWorks\\MATLAB\\R2020b_licenses\\license_DESKTOP-INC0KCJ_8685185_R2020b.lic;M:\\MATLAB\\licenses\\license.dat;M:\\MATLAB\\licenses\\trial_8374165_R2020b.lic;M:\\MATLAB\\licenses\\trial_8705900_R2020b.lic;M:\\MATLAB\\licenses\\trial_8750511_R2020b.lic;M:\\MATLAB\\licenses\\trial_8855476_R2020b.lic \nLicensing error: -10,32.\n"
    }
   ],
   "source": [
    "%% Initialize\n",
    "addpath('RRIFT/mfiles')\n",
    "clearvars\n",
    "\n",
    "rng(12345)\n",
    "load('RRIFT/data/simMap.mat');\n",
    "sigmaC = 0.03; % StdDev of noise (in units of mM)\n",
    "TRes = 5; % Temporal resolution (in seconds)\n",
    "\n",
    "% Properties for the simulated reference tissue\n",
    "ktRR = 0.07; % Ktrans of ref.tissue, in units of 1/min\n",
    "kepRR = 0.5; % kep of ref.tissue, in units of 1/min\n",
    "veRR = ktRR/kepRR;\n",
    "Crr = ToftsKety(Cp,[ktRR,kepRR],t);\n",
    "%% Downsample and Add noise\n",
    "Ct = downsample(simCt, TRes./initTRes);\n",
    "Cp = downsample(Cp, TRes./initTRes);\n",
    "Crr = downsample(Crr, TRes./initTRes);\n",
    "t = downsample(t, TRes./initTRes);\n",
    "\n",
    "[sT sX sY] = size(Ct);\n",
    "Ct = reshape(Ct,[sT sX*sY]);\n",
    "Ct = Ct + sigmaC * randn(size(Ct));\n",
    "Cp = Cp + sigmaC * randn(size(Cp)) / (1-0.35);\n",
    "Crr = Crr + 0.1 * sigmaC * randn(size(Crr));\n",
    "%% Pick four voxels and fit them\n",
    "% Chosen voxels (tried to avoid overlap of curves in figure)\n",
    "idx = [5, 28, 53, 98];\n",
    "\n",
    "% Fit the chosen voxels with CERRM\n",
    "[pkCE, ~, estKepRR] = CERRM(Ct(:,idx),Crr,t);\n",
    "\n",
    "% Use RRIFT, with AIF tail starting at 3 minutes into acquisition\n",
    "fTail = find(t>3, 1);\n",
    "[estKtRR, num, denum] = RRIFT(Cp(fTail:end), Crr(fTail:end), t(fTail:end), estKepRR);\n",
    "\n",
    "vars = {'Crr', 'Ct', 'Cp', 't', 'idx', 'estKepRR', 'pkCE', 'denum', 'num', 'estKepRR'};\n",
    "save('fig1vars', vars{:});"
   ]
  },
  {
   "cell_type": "markdown",
   "metadata": {
    "kernel": "SoS"
   },
   "source": [
    "# Figure 2"
   ]
  },
  {
   "cell_type": "code",
   "execution_count": 106,
   "metadata": {
    "kernel": "SoS"
   },
   "outputs": [
    {
     "data": {
      "application/vnd.plotly.v1+json": {
       "config": {
        "plotlyServerURL": "https://plot.ly"
       },
       "data": [
        {
         "error_y": {
          "array": [
           0.16788584024785835,
           1.521395434291816,
           2.93183807063381,
           4.273062607469782,
           5.576120004700529,
           6.678222258770232
          ],
          "arrayminus": [
           0.1519744123312202,
           1.4490069353387511,
           2.8558432445467545,
           4.129785089780925,
           5.36322720526507,
           6.444900909462762
          ],
          "symmetric": false,
          "thickness": 4,
          "type": "data",
          "visible": true
         },
         "legendgroup": "0",
         "line": {
          "color": "#253494",
          "width": 4
         },
         "name": "5",
         "showlegend": false,
         "type": "scatter",
         "x": [
          0,
          0.01,
          0.02,
          0.030000000000000002,
          0.04,
          0.05
         ],
         "xaxis": "x",
         "y": [
          -0.04438379028423219,
          -0.6034629466017821,
          -1.535324422925144,
          -2.840858105624846,
          -3.6479737453757646,
          -5.108948160980921
         ],
         "yaxis": "y"
        },
        {
         "error_y": {
          "array": [
           1.8006474478784775,
           3.4889834786157983,
           4.94831837857227,
           6.433071152252573,
           7.6568875351511405,
           8.791442031744493
          ],
          "arrayminus": [
           1.6164141709039974,
           3.410860775512818,
           5.104709488251493,
           6.530036997433772,
           7.779206209947806,
           8.8092770890249
          ],
          "symmetric": false,
          "thickness": 4,
          "type": "data",
          "visible": true
         },
         "legendgroup": "1",
         "line": {
          "color": "#2C7fB8",
          "width": 4
         },
         "name": "10",
         "showlegend": false,
         "type": "scatter",
         "x": [
          0,
          0.01,
          0.02,
          0.030000000000000002,
          0.04,
          0.05
         ],
         "xaxis": "x",
         "y": [
          -0.39379287120341194,
          -1.5974216767199274,
          -2.8797630940219223,
          -4.1751258196386445,
          -6.2624456511458,
          -9.08522073778205
         ],
         "yaxis": "y"
        },
        {
         "error_y": {
          "array": [
           3.9845286125278316,
           6.0295263215256005,
           7.757863223760958,
           9.092047713223465,
           10.01813002315786,
           11.017197952077456
          ],
          "arrayminus": [
           3.9695226472345495,
           5.926197974762882,
           8.012398442420505,
           9.345678191969753,
           10.559245533824834,
           11.645098654273882
          ],
          "symmetric": false,
          "thickness": 4,
          "type": "data",
          "visible": true
         },
         "legendgroup": "2",
         "line": {
          "color": "#41B6C4",
          "width": 4
         },
         "name": "15",
         "showlegend": false,
         "type": "scatter",
         "x": [
          0,
          0.01,
          0.02,
          0.030000000000000002,
          0.04,
          0.05
         ],
         "xaxis": "x",
         "y": [
          -0.8397840515121796,
          -2.15538115902561,
          -3.4990315093833386,
          -5.848721727735317,
          -8.799458264684356,
          -11.653665525045628
         ],
         "yaxis": "y"
        },
        {
         "error_y": {
          "array": [
           6.331335949032671,
           9.082157374459362,
           11.991593745629999,
           13.655386237643402,
           15.05985035855159,
           15.69677039789238
          ],
          "arrayminus": [
           10.690243849393733,
           10.839964873136527,
           12.272237200066744,
           13.809521674825994,
           15.330653487089798,
           16.58929278603815
          ],
          "symmetric": false,
          "thickness": 4,
          "type": "data",
          "visible": true
         },
         "legendgroup": "3",
         "line": {
          "color": "#A1DAB4",
          "width": 4
         },
         "name": "30",
         "showlegend": false,
         "type": "scatter",
         "x": [
          0,
          0.01,
          0.02,
          0.030000000000000002,
          0.04,
          0.05
         ],
         "xaxis": "x",
         "y": [
          -1.6309355169535078,
          -4.097629032330385,
          -6.470137454132811,
          -9.183283096423942,
          -11.861865442318027,
          -15.688443616278462
         ],
         "yaxis": "y"
        },
        {
         "error_y": {
          "array": [
           0.07051594909662699,
           0.6493352353390648,
           1.26206355755313,
           1.916938883722445,
           2.5094576062734255,
           3.094479153885586
          ],
          "arrayminus": [
           0.0479680169727647,
           0.6409508299349927,
           1.261310678758149,
           1.8744532010956045,
           2.48097584861861,
           3.148323644182098
          ],
          "symmetric": false,
          "thickness": 4,
          "type": "data",
          "visible": true
         },
         "legendgroup": "0",
         "line": {
          "color": "#253494",
          "width": 4
         },
         "name": "5",
         "showlegend": false,
         "type": "scatter",
         "x": [
          0,
          0.01,
          0.02,
          0.030000000000000002,
          0.04,
          0.05
         ],
         "xaxis": "x2",
         "y": [
          -0.0077389559808756685,
          -0.03674820690460688,
          0.00865858844902766,
          -0.08586270399902093,
          -0.04630138731900571,
          -0.13524094505751766
         ],
         "yaxis": "y2"
        },
        {
         "error_y": {
          "array": [
           0.723119883608669,
           1.4298618579373912,
           2.154237838052885,
           2.8884520865762404,
           3.5046869284487316,
           4.25191434513858
          ],
          "arrayminus": [
           0.6033412915471031,
           1.462900521491468,
           2.2133011229290958,
           2.9737307255031444,
           3.70375681152764,
           4.494136727335778
          ],
          "symmetric": false,
          "thickness": 4,
          "type": "data",
          "visible": true
         },
         "legendgroup": "1",
         "line": {
          "color": "#2C7fB8",
          "width": 4
         },
         "name": "10",
         "showlegend": false,
         "type": "scatter",
         "x": [
          0,
          0.01,
          0.02,
          0.030000000000000002,
          0.04,
          0.05
         ],
         "xaxis": "x2",
         "y": [
          -0.040281031802152416,
          -0.13465821396930316,
          -0.14729938463811654,
          -0.22597202652150503,
          -0.2698759264722017,
          -0.3688527991199049
         ],
         "yaxis": "y2"
        },
        {
         "error_y": {
          "array": [
           1.5745243605141295,
           2.3124845129926426,
           3.245435752149273,
           4.064240818248648,
           4.731972112303385,
           5.485813095206851
          ],
          "arrayminus": [
           1.5837609252322171,
           2.518873976526632,
           3.4930481510799787,
           4.4115931997363145,
           5.231499679048538,
           6.0545652402215415
          ],
          "symmetric": false,
          "thickness": 4,
          "type": "data",
          "visible": true
         },
         "legendgroup": "2",
         "line": {
          "color": "#41B6C4",
          "width": 4
         },
         "name": "15",
         "showlegend": false,
         "type": "scatter",
         "x": [
          0,
          0.01,
          0.02,
          0.030000000000000002,
          0.04,
          0.05
         ],
         "xaxis": "x2",
         "y": [
          -0.009503527206472013,
          -0.12061129699859927,
          -0.1380237206970632,
          -0.22130071938180668,
          -0.28815322695375134,
          -0.511247326533728
         ],
         "yaxis": "y2"
        },
        {
         "error_y": {
          "array": [
           2.435785309046474,
           3.505428016376248,
           4.943608294166402,
           6.037810608254883,
           7.114310516600493,
           8.132038787420896
          ],
          "arrayminus": [
           4.4605197317468335,
           5.317690104072837,
           6.0836253774285405,
           7.088916426117104,
           8.06767392956371,
           8.949638873336882
          ],
          "symmetric": false,
          "thickness": 4,
          "type": "data",
          "visible": true
         },
         "legendgroup": "3",
         "line": {
          "color": "#A1DAB4",
          "width": 4
         },
         "name": "30",
         "showlegend": false,
         "type": "scatter",
         "x": [
          0,
          0.01,
          0.02,
          0.030000000000000002,
          0.04,
          0.05
         ],
         "xaxis": "x2",
         "y": [
          0.25610167902415504,
          0.17076869536710132,
          0.16211581530952385,
          0.18036872697459028,
          0.20814847487034116,
          -0.19821544202254976
         ],
         "yaxis": "y2"
        },
        {
         "error_y": {
          "array": [
           1.4734645817356464,
           5.4311030019435,
           10.221926739819905,
           14.590373912123727,
           18.95711081525033,
           22.886968824948447
          ],
          "arrayminus": [
           1.3822662645941381,
           5.820292003557516,
           11.062643736263999,
           16.354076872513538,
           20.79658224259464,
           26.02835769042838
          ],
          "symmetric": false,
          "thickness": 4,
          "type": "data",
          "visible": true
         },
         "legendgroup": "0",
         "line": {
          "color": "#253494",
          "width": 4
         },
         "name": "5",
         "showlegend": true,
         "type": "scatter",
         "x": [
          0,
          0.01,
          0.02,
          0.030000000000000002,
          0.04,
          0.05
         ],
         "xaxis": "x3",
         "y": [
          -0.09665537077041542,
          -0.7704244922641518,
          -1.862389031592554,
          -3.189505412658229,
          -4.337131857791137,
          -5.785422260551676
         ],
         "yaxis": "y3"
        },
        {
         "error_y": {
          "array": [
           17.911268739154803,
           20.790583123214528,
           24.659844901572168,
           28.42361475966391,
           31.62396356557594,
           35.33270126810652
          ],
          "arrayminus": [
           14.780587447429696,
           18.286114582846846,
           23.001340778161925,
           28.787016108749533,
           33.132889232843645,
           37.836836741208295
          ],
          "symmetric": false,
          "thickness": 4,
          "type": "data",
          "visible": true
         },
         "legendgroup": "1",
         "line": {
          "color": "#2C7fB8",
          "width": 4
         },
         "name": "10",
         "showlegend": true,
         "type": "scatter",
         "x": [
          0,
          0.01,
          0.02,
          0.030000000000000002,
          0.04,
          0.05
         ],
         "xaxis": "x3",
         "y": [
          0.7370468796232612,
          -0.7455632253245137,
          -2.4924630676286874,
          -3.8034504982100215,
          -6.5594688522769555,
          -9.353183800527571
         ],
         "yaxis": "y3"
        },
        {
         "error_y": {
          "array": [
           36.33974818492146,
           38.86790962173681,
           43.66062654276332,
           47.245967661525455,
           49.71716046681979,
           52.32607211517721
          ],
          "arrayminus": [
           39.11340934404259,
           40.63997092981247,
           45.31143841714891,
           49.37221352242837,
           52.9590266624049,
           56.269607800541266
          ],
          "symmetric": false,
          "thickness": 4,
          "type": "data",
          "visible": true
         },
         "legendgroup": "2",
         "line": {
          "color": "#41B6C4",
          "width": 4
         },
         "name": "15",
         "showlegend": true,
         "type": "scatter",
         "x": [
          0,
          0.01,
          0.02,
          0.030000000000000002,
          0.04,
          0.05
         ],
         "xaxis": "x3",
         "y": [
          -3.156760812981057,
          -3.7489543774530727,
          -4.7658686979612295,
          -6.620428180705764,
          -9.49540018181745,
          -12.646107981224251
         ],
         "yaxis": "y3"
        },
        {
         "error_y": {
          "array": [
           16.51036704677899,
           29.871271752405633,
           36.6578125530042,
           42.48035281726682,
           47.31447777850418,
           51.82693540787929
          ],
          "arrayminus": [
           108.0318123214555,
           102.10746366755784,
           109.38432429405694,
           115.20587830105833,
           120.35633700736264,
           121.0284069657477
          ],
          "symmetric": false,
          "thickness": 4,
          "type": "data",
          "visible": true
         },
         "legendgroup": "3",
         "line": {
          "color": "#A1DAB4",
          "width": 4
         },
         "name": "30",
         "showlegend": true,
         "type": "scatter",
         "x": [
          0,
          0.01,
          0.02,
          0.030000000000000002,
          0.04,
          0.05
         ],
         "xaxis": "x3",
         "y": [
          -52.962241753227055,
          -42.7257896927035,
          -39.90890498766327,
          -38.841243381584036,
          -39.45060173053297,
          -40.613977713591964
         ],
         "yaxis": "y3"
        }
       ],
       "layout": {
        "annotations": [
         {
          "font": {
           "size": 16
          },
          "showarrow": false,
          "text": "$K^{trans}$",
          "x": 0.14444444444444446,
          "xanchor": "center",
          "xref": "paper",
          "y": 1,
          "yanchor": "bottom",
          "yref": "paper"
         },
         {
          "font": {
           "size": 16
          },
          "showarrow": false,
          "text": "$V_{e}$",
          "x": 0.5,
          "xanchor": "center",
          "xref": "paper",
          "y": 1,
          "yanchor": "bottom",
          "yref": "paper"
         },
         {
          "font": {
           "size": 16
          },
          "showarrow": false,
          "text": "$V_{p}$",
          "x": 0.8555555555555556,
          "xanchor": "center",
          "xref": "paper",
          "y": 1,
          "yanchor": "bottom",
          "yref": "paper"
         }
        ],
        "plot_bgcolor": "#ffffff",
        "template": {
         "data": {
          "bar": [
           {
            "error_x": {
             "color": "#2a3f5f"
            },
            "error_y": {
             "color": "#2a3f5f"
            },
            "marker": {
             "line": {
              "color": "#E5ECF6",
              "width": 0.5
             }
            },
            "type": "bar"
           }
          ],
          "barpolar": [
           {
            "marker": {
             "line": {
              "color": "#E5ECF6",
              "width": 0.5
             }
            },
            "type": "barpolar"
           }
          ],
          "carpet": [
           {
            "aaxis": {
             "endlinecolor": "#2a3f5f",
             "gridcolor": "white",
             "linecolor": "white",
             "minorgridcolor": "white",
             "startlinecolor": "#2a3f5f"
            },
            "baxis": {
             "endlinecolor": "#2a3f5f",
             "gridcolor": "white",
             "linecolor": "white",
             "minorgridcolor": "white",
             "startlinecolor": "#2a3f5f"
            },
            "type": "carpet"
           }
          ],
          "choropleth": [
           {
            "colorbar": {
             "outlinewidth": 0,
             "ticks": ""
            },
            "type": "choropleth"
           }
          ],
          "contour": [
           {
            "colorbar": {
             "outlinewidth": 0,
             "ticks": ""
            },
            "colorscale": [
             [
              0,
              "#0d0887"
             ],
             [
              0.1111111111111111,
              "#46039f"
             ],
             [
              0.2222222222222222,
              "#7201a8"
             ],
             [
              0.3333333333333333,
              "#9c179e"
             ],
             [
              0.4444444444444444,
              "#bd3786"
             ],
             [
              0.5555555555555556,
              "#d8576b"
             ],
             [
              0.6666666666666666,
              "#ed7953"
             ],
             [
              0.7777777777777778,
              "#fb9f3a"
             ],
             [
              0.8888888888888888,
              "#fdca26"
             ],
             [
              1,
              "#f0f921"
             ]
            ],
            "type": "contour"
           }
          ],
          "contourcarpet": [
           {
            "colorbar": {
             "outlinewidth": 0,
             "ticks": ""
            },
            "type": "contourcarpet"
           }
          ],
          "heatmap": [
           {
            "colorbar": {
             "outlinewidth": 0,
             "ticks": ""
            },
            "colorscale": [
             [
              0,
              "#0d0887"
             ],
             [
              0.1111111111111111,
              "#46039f"
             ],
             [
              0.2222222222222222,
              "#7201a8"
             ],
             [
              0.3333333333333333,
              "#9c179e"
             ],
             [
              0.4444444444444444,
              "#bd3786"
             ],
             [
              0.5555555555555556,
              "#d8576b"
             ],
             [
              0.6666666666666666,
              "#ed7953"
             ],
             [
              0.7777777777777778,
              "#fb9f3a"
             ],
             [
              0.8888888888888888,
              "#fdca26"
             ],
             [
              1,
              "#f0f921"
             ]
            ],
            "type": "heatmap"
           }
          ],
          "heatmapgl": [
           {
            "colorbar": {
             "outlinewidth": 0,
             "ticks": ""
            },
            "colorscale": [
             [
              0,
              "#0d0887"
             ],
             [
              0.1111111111111111,
              "#46039f"
             ],
             [
              0.2222222222222222,
              "#7201a8"
             ],
             [
              0.3333333333333333,
              "#9c179e"
             ],
             [
              0.4444444444444444,
              "#bd3786"
             ],
             [
              0.5555555555555556,
              "#d8576b"
             ],
             [
              0.6666666666666666,
              "#ed7953"
             ],
             [
              0.7777777777777778,
              "#fb9f3a"
             ],
             [
              0.8888888888888888,
              "#fdca26"
             ],
             [
              1,
              "#f0f921"
             ]
            ],
            "type": "heatmapgl"
           }
          ],
          "histogram": [
           {
            "marker": {
             "colorbar": {
              "outlinewidth": 0,
              "ticks": ""
             }
            },
            "type": "histogram"
           }
          ],
          "histogram2d": [
           {
            "colorbar": {
             "outlinewidth": 0,
             "ticks": ""
            },
            "colorscale": [
             [
              0,
              "#0d0887"
             ],
             [
              0.1111111111111111,
              "#46039f"
             ],
             [
              0.2222222222222222,
              "#7201a8"
             ],
             [
              0.3333333333333333,
              "#9c179e"
             ],
             [
              0.4444444444444444,
              "#bd3786"
             ],
             [
              0.5555555555555556,
              "#d8576b"
             ],
             [
              0.6666666666666666,
              "#ed7953"
             ],
             [
              0.7777777777777778,
              "#fb9f3a"
             ],
             [
              0.8888888888888888,
              "#fdca26"
             ],
             [
              1,
              "#f0f921"
             ]
            ],
            "type": "histogram2d"
           }
          ],
          "histogram2dcontour": [
           {
            "colorbar": {
             "outlinewidth": 0,
             "ticks": ""
            },
            "colorscale": [
             [
              0,
              "#0d0887"
             ],
             [
              0.1111111111111111,
              "#46039f"
             ],
             [
              0.2222222222222222,
              "#7201a8"
             ],
             [
              0.3333333333333333,
              "#9c179e"
             ],
             [
              0.4444444444444444,
              "#bd3786"
             ],
             [
              0.5555555555555556,
              "#d8576b"
             ],
             [
              0.6666666666666666,
              "#ed7953"
             ],
             [
              0.7777777777777778,
              "#fb9f3a"
             ],
             [
              0.8888888888888888,
              "#fdca26"
             ],
             [
              1,
              "#f0f921"
             ]
            ],
            "type": "histogram2dcontour"
           }
          ],
          "mesh3d": [
           {
            "colorbar": {
             "outlinewidth": 0,
             "ticks": ""
            },
            "type": "mesh3d"
           }
          ],
          "parcoords": [
           {
            "line": {
             "colorbar": {
              "outlinewidth": 0,
              "ticks": ""
             }
            },
            "type": "parcoords"
           }
          ],
          "pie": [
           {
            "automargin": true,
            "type": "pie"
           }
          ],
          "scatter": [
           {
            "marker": {
             "colorbar": {
              "outlinewidth": 0,
              "ticks": ""
             }
            },
            "type": "scatter"
           }
          ],
          "scatter3d": [
           {
            "line": {
             "colorbar": {
              "outlinewidth": 0,
              "ticks": ""
             }
            },
            "marker": {
             "colorbar": {
              "outlinewidth": 0,
              "ticks": ""
             }
            },
            "type": "scatter3d"
           }
          ],
          "scattercarpet": [
           {
            "marker": {
             "colorbar": {
              "outlinewidth": 0,
              "ticks": ""
             }
            },
            "type": "scattercarpet"
           }
          ],
          "scattergeo": [
           {
            "marker": {
             "colorbar": {
              "outlinewidth": 0,
              "ticks": ""
             }
            },
            "type": "scattergeo"
           }
          ],
          "scattergl": [
           {
            "marker": {
             "colorbar": {
              "outlinewidth": 0,
              "ticks": ""
             }
            },
            "type": "scattergl"
           }
          ],
          "scattermapbox": [
           {
            "marker": {
             "colorbar": {
              "outlinewidth": 0,
              "ticks": ""
             }
            },
            "type": "scattermapbox"
           }
          ],
          "scatterpolar": [
           {
            "marker": {
             "colorbar": {
              "outlinewidth": 0,
              "ticks": ""
             }
            },
            "type": "scatterpolar"
           }
          ],
          "scatterpolargl": [
           {
            "marker": {
             "colorbar": {
              "outlinewidth": 0,
              "ticks": ""
             }
            },
            "type": "scatterpolargl"
           }
          ],
          "scatterternary": [
           {
            "marker": {
             "colorbar": {
              "outlinewidth": 0,
              "ticks": ""
             }
            },
            "type": "scatterternary"
           }
          ],
          "surface": [
           {
            "colorbar": {
             "outlinewidth": 0,
             "ticks": ""
            },
            "colorscale": [
             [
              0,
              "#0d0887"
             ],
             [
              0.1111111111111111,
              "#46039f"
             ],
             [
              0.2222222222222222,
              "#7201a8"
             ],
             [
              0.3333333333333333,
              "#9c179e"
             ],
             [
              0.4444444444444444,
              "#bd3786"
             ],
             [
              0.5555555555555556,
              "#d8576b"
             ],
             [
              0.6666666666666666,
              "#ed7953"
             ],
             [
              0.7777777777777778,
              "#fb9f3a"
             ],
             [
              0.8888888888888888,
              "#fdca26"
             ],
             [
              1,
              "#f0f921"
             ]
            ],
            "type": "surface"
           }
          ],
          "table": [
           {
            "cells": {
             "fill": {
              "color": "#EBF0F8"
             },
             "line": {
              "color": "white"
             }
            },
            "header": {
             "fill": {
              "color": "#C8D4E3"
             },
             "line": {
              "color": "white"
             }
            },
            "type": "table"
           }
          ]
         },
         "layout": {
          "annotationdefaults": {
           "arrowcolor": "#2a3f5f",
           "arrowhead": 0,
           "arrowwidth": 1
          },
          "autotypenumbers": "strict",
          "coloraxis": {
           "colorbar": {
            "outlinewidth": 0,
            "ticks": ""
           }
          },
          "colorscale": {
           "diverging": [
            [
             0,
             "#8e0152"
            ],
            [
             0.1,
             "#c51b7d"
            ],
            [
             0.2,
             "#de77ae"
            ],
            [
             0.3,
             "#f1b6da"
            ],
            [
             0.4,
             "#fde0ef"
            ],
            [
             0.5,
             "#f7f7f7"
            ],
            [
             0.6,
             "#e6f5d0"
            ],
            [
             0.7,
             "#b8e186"
            ],
            [
             0.8,
             "#7fbc41"
            ],
            [
             0.9,
             "#4d9221"
            ],
            [
             1,
             "#276419"
            ]
           ],
           "sequential": [
            [
             0,
             "#0d0887"
            ],
            [
             0.1111111111111111,
             "#46039f"
            ],
            [
             0.2222222222222222,
             "#7201a8"
            ],
            [
             0.3333333333333333,
             "#9c179e"
            ],
            [
             0.4444444444444444,
             "#bd3786"
            ],
            [
             0.5555555555555556,
             "#d8576b"
            ],
            [
             0.6666666666666666,
             "#ed7953"
            ],
            [
             0.7777777777777778,
             "#fb9f3a"
            ],
            [
             0.8888888888888888,
             "#fdca26"
            ],
            [
             1,
             "#f0f921"
            ]
           ],
           "sequentialminus": [
            [
             0,
             "#0d0887"
            ],
            [
             0.1111111111111111,
             "#46039f"
            ],
            [
             0.2222222222222222,
             "#7201a8"
            ],
            [
             0.3333333333333333,
             "#9c179e"
            ],
            [
             0.4444444444444444,
             "#bd3786"
            ],
            [
             0.5555555555555556,
             "#d8576b"
            ],
            [
             0.6666666666666666,
             "#ed7953"
            ],
            [
             0.7777777777777778,
             "#fb9f3a"
            ],
            [
             0.8888888888888888,
             "#fdca26"
            ],
            [
             1,
             "#f0f921"
            ]
           ]
          },
          "colorway": [
           "#636efa",
           "#EF553B",
           "#00cc96",
           "#ab63fa",
           "#FFA15A",
           "#19d3f3",
           "#FF6692",
           "#B6E880",
           "#FF97FF",
           "#FECB52"
          ],
          "font": {
           "color": "#2a3f5f"
          },
          "geo": {
           "bgcolor": "white",
           "lakecolor": "white",
           "landcolor": "#E5ECF6",
           "showlakes": true,
           "showland": true,
           "subunitcolor": "white"
          },
          "hoverlabel": {
           "align": "left"
          },
          "hovermode": "closest",
          "mapbox": {
           "style": "light"
          },
          "paper_bgcolor": "white",
          "plot_bgcolor": "#E5ECF6",
          "polar": {
           "angularaxis": {
            "gridcolor": "white",
            "linecolor": "white",
            "ticks": ""
           },
           "bgcolor": "#E5ECF6",
           "radialaxis": {
            "gridcolor": "white",
            "linecolor": "white",
            "ticks": ""
           }
          },
          "scene": {
           "xaxis": {
            "backgroundcolor": "#E5ECF6",
            "gridcolor": "white",
            "gridwidth": 2,
            "linecolor": "white",
            "showbackground": true,
            "ticks": "",
            "zerolinecolor": "white"
           },
           "yaxis": {
            "backgroundcolor": "#E5ECF6",
            "gridcolor": "white",
            "gridwidth": 2,
            "linecolor": "white",
            "showbackground": true,
            "ticks": "",
            "zerolinecolor": "white"
           },
           "zaxis": {
            "backgroundcolor": "#E5ECF6",
            "gridcolor": "white",
            "gridwidth": 2,
            "linecolor": "white",
            "showbackground": true,
            "ticks": "",
            "zerolinecolor": "white"
           }
          },
          "shapedefaults": {
           "line": {
            "color": "#2a3f5f"
           }
          },
          "ternary": {
           "aaxis": {
            "gridcolor": "white",
            "linecolor": "white",
            "ticks": ""
           },
           "baxis": {
            "gridcolor": "white",
            "linecolor": "white",
            "ticks": ""
           },
           "bgcolor": "#E5ECF6",
           "caxis": {
            "gridcolor": "white",
            "linecolor": "white",
            "ticks": ""
           }
          },
          "title": {
           "x": 0.05
          },
          "xaxis": {
           "automargin": true,
           "gridcolor": "white",
           "linecolor": "white",
           "ticks": "",
           "title": {
            "standoff": 15
           },
           "zerolinecolor": "white",
           "zerolinewidth": 2
          },
          "yaxis": {
           "automargin": true,
           "gridcolor": "white",
           "linecolor": "white",
           "ticks": "",
           "title": {
            "standoff": 15
           },
           "zerolinecolor": "white",
           "zerolinewidth": 2
          }
         }
        },
        "xaxis": {
         "anchor": "y",
         "domain": [
          0,
          0.2888888888888889
         ],
         "title": {
          "text": "$\\sigma_{noise}[Mm]$"
         }
        },
        "xaxis2": {
         "anchor": "y2",
         "domain": [
          0.35555555555555557,
          0.6444444444444445
         ],
         "title": {
          "text": "$\\sigma_{noise}[Mm]$"
         }
        },
        "xaxis3": {
         "anchor": "y3",
         "domain": [
          0.7111111111111111,
          1
         ],
         "title": {
          "text": "$\\sigma_{noise}[Mm]$"
         }
        },
        "yaxis": {
         "anchor": "x",
         "domain": [
          0,
          1
         ],
         "range": [
          -50,
          50
         ],
         "showline": true,
         "tickvals": [
          -50,
          -40,
          -30,
          -20,
          -10,
          0,
          10,
          20,
          30,
          40,
          50
         ],
         "title": {
          "text": "$Percent Error$"
         }
        },
        "yaxis2": {
         "anchor": "x2",
         "domain": [
          0,
          1
         ],
         "range": [
          -50,
          50
         ],
         "tickvals": [
          -50,
          -40,
          -30,
          -20,
          -10,
          0,
          10,
          20,
          30,
          40,
          50
         ]
        },
        "yaxis3": {
         "anchor": "x3",
         "domain": [
          0,
          1
         ],
         "range": [
          -50,
          50
         ],
         "tickvals": [
          -50,
          -40,
          -30,
          -20,
          -10,
          0,
          10,
          20,
          30,
          40,
          50
         ]
        }
       }
      },
      "text/html": [
       "<div>                            <div id=\"295ac8ff-94c2-4e88-bc77-b61ae47de455\" class=\"plotly-graph-div\" style=\"height:525px; width:100%;\"></div>            <script type=\"text/javascript\">                require([\"plotly\"], function(Plotly) {                    window.PLOTLYENV=window.PLOTLYENV || {};                                    if (document.getElementById(\"295ac8ff-94c2-4e88-bc77-b61ae47de455\")) {                    Plotly.newPlot(                        \"295ac8ff-94c2-4e88-bc77-b61ae47de455\",                        [{\"error_y\": {\"array\": [0.16788584024785835, 1.521395434291816, 2.93183807063381, 4.273062607469782, 5.576120004700529, 6.678222258770232], \"arrayminus\": [0.1519744123312202, 1.4490069353387511, 2.8558432445467545, 4.129785089780925, 5.36322720526507, 6.444900909462762], \"symmetric\": false, \"thickness\": 4, \"type\": \"data\", \"visible\": true}, \"legendgroup\": \"0\", \"line\": {\"color\": \"#253494\", \"width\": 4}, \"name\": \"5\", \"showlegend\": false, \"type\": \"scatter\", \"x\": [0.0, 0.01, 0.02, 0.030000000000000002, 0.04, 0.05], \"xaxis\": \"x\", \"y\": [-0.04438379028423219, -0.6034629466017821, -1.535324422925144, -2.840858105624846, -3.6479737453757646, -5.108948160980921], \"yaxis\": \"y\"}, {\"error_y\": {\"array\": [1.8006474478784775, 3.4889834786157983, 4.94831837857227, 6.433071152252573, 7.6568875351511405, 8.791442031744493], \"arrayminus\": [1.6164141709039974, 3.410860775512818, 5.104709488251493, 6.530036997433772, 7.779206209947806, 8.8092770890249], \"symmetric\": false, \"thickness\": 4, \"type\": \"data\", \"visible\": true}, \"legendgroup\": \"1\", \"line\": {\"color\": \"#2C7fB8\", \"width\": 4}, \"name\": \"10\", \"showlegend\": false, \"type\": \"scatter\", \"x\": [0.0, 0.01, 0.02, 0.030000000000000002, 0.04, 0.05], \"xaxis\": \"x\", \"y\": [-0.39379287120341194, -1.5974216767199274, -2.8797630940219223, -4.1751258196386445, -6.2624456511458, -9.08522073778205], \"yaxis\": \"y\"}, {\"error_y\": {\"array\": [3.9845286125278316, 6.0295263215256005, 7.757863223760958, 9.092047713223465, 10.01813002315786, 11.017197952077456], \"arrayminus\": [3.9695226472345495, 5.926197974762882, 8.012398442420505, 9.345678191969753, 10.559245533824834, 11.645098654273882], \"symmetric\": false, \"thickness\": 4, \"type\": \"data\", \"visible\": true}, \"legendgroup\": \"2\", \"line\": {\"color\": \"#41B6C4\", \"width\": 4}, \"name\": \"15\", \"showlegend\": false, \"type\": \"scatter\", \"x\": [0.0, 0.01, 0.02, 0.030000000000000002, 0.04, 0.05], \"xaxis\": \"x\", \"y\": [-0.8397840515121796, -2.15538115902561, -3.4990315093833386, -5.848721727735317, -8.799458264684356, -11.653665525045628], \"yaxis\": \"y\"}, {\"error_y\": {\"array\": [6.331335949032671, 9.082157374459362, 11.991593745629999, 13.655386237643402, 15.05985035855159, 15.69677039789238], \"arrayminus\": [10.690243849393733, 10.839964873136527, 12.272237200066744, 13.809521674825994, 15.330653487089798, 16.58929278603815], \"symmetric\": false, \"thickness\": 4, \"type\": \"data\", \"visible\": true}, \"legendgroup\": \"3\", \"line\": {\"color\": \"#A1DAB4\", \"width\": 4}, \"name\": \"30\", \"showlegend\": false, \"type\": \"scatter\", \"x\": [0.0, 0.01, 0.02, 0.030000000000000002, 0.04, 0.05], \"xaxis\": \"x\", \"y\": [-1.6309355169535078, -4.097629032330385, -6.470137454132811, -9.183283096423942, -11.861865442318027, -15.688443616278462], \"yaxis\": \"y\"}, {\"error_y\": {\"array\": [0.07051594909662699, 0.6493352353390648, 1.26206355755313, 1.916938883722445, 2.5094576062734255, 3.094479153885586], \"arrayminus\": [0.0479680169727647, 0.6409508299349927, 1.261310678758149, 1.8744532010956045, 2.48097584861861, 3.148323644182098], \"symmetric\": false, \"thickness\": 4, \"type\": \"data\", \"visible\": true}, \"legendgroup\": \"0\", \"line\": {\"color\": \"#253494\", \"width\": 4}, \"name\": \"5\", \"showlegend\": false, \"type\": \"scatter\", \"x\": [0.0, 0.01, 0.02, 0.030000000000000002, 0.04, 0.05], \"xaxis\": \"x2\", \"y\": [-0.0077389559808756685, -0.03674820690460688, 0.00865858844902766, -0.08586270399902093, -0.04630138731900571, -0.13524094505751766], \"yaxis\": \"y2\"}, {\"error_y\": {\"array\": [0.723119883608669, 1.4298618579373912, 2.154237838052885, 2.8884520865762404, 3.5046869284487316, 4.25191434513858], \"arrayminus\": [0.6033412915471031, 1.462900521491468, 2.2133011229290958, 2.9737307255031444, 3.70375681152764, 4.494136727335778], \"symmetric\": false, \"thickness\": 4, \"type\": \"data\", \"visible\": true}, \"legendgroup\": \"1\", \"line\": {\"color\": \"#2C7fB8\", \"width\": 4}, \"name\": \"10\", \"showlegend\": false, \"type\": \"scatter\", \"x\": [0.0, 0.01, 0.02, 0.030000000000000002, 0.04, 0.05], \"xaxis\": \"x2\", \"y\": [-0.040281031802152416, -0.13465821396930316, -0.14729938463811654, -0.22597202652150503, -0.2698759264722017, -0.3688527991199049], \"yaxis\": \"y2\"}, {\"error_y\": {\"array\": [1.5745243605141295, 2.3124845129926426, 3.245435752149273, 4.064240818248648, 4.731972112303385, 5.485813095206851], \"arrayminus\": [1.5837609252322171, 2.518873976526632, 3.4930481510799787, 4.4115931997363145, 5.231499679048538, 6.0545652402215415], \"symmetric\": false, \"thickness\": 4, \"type\": \"data\", \"visible\": true}, \"legendgroup\": \"2\", \"line\": {\"color\": \"#41B6C4\", \"width\": 4}, \"name\": \"15\", \"showlegend\": false, \"type\": \"scatter\", \"x\": [0.0, 0.01, 0.02, 0.030000000000000002, 0.04, 0.05], \"xaxis\": \"x2\", \"y\": [-0.009503527206472013, -0.12061129699859927, -0.1380237206970632, -0.22130071938180668, -0.28815322695375134, -0.511247326533728], \"yaxis\": \"y2\"}, {\"error_y\": {\"array\": [2.435785309046474, 3.505428016376248, 4.943608294166402, 6.037810608254883, 7.114310516600493, 8.132038787420896], \"arrayminus\": [4.4605197317468335, 5.317690104072837, 6.0836253774285405, 7.088916426117104, 8.06767392956371, 8.949638873336882], \"symmetric\": false, \"thickness\": 4, \"type\": \"data\", \"visible\": true}, \"legendgroup\": \"3\", \"line\": {\"color\": \"#A1DAB4\", \"width\": 4}, \"name\": \"30\", \"showlegend\": false, \"type\": \"scatter\", \"x\": [0.0, 0.01, 0.02, 0.030000000000000002, 0.04, 0.05], \"xaxis\": \"x2\", \"y\": [0.25610167902415504, 0.17076869536710132, 0.16211581530952385, 0.18036872697459028, 0.20814847487034116, -0.19821544202254976], \"yaxis\": \"y2\"}, {\"error_y\": {\"array\": [1.4734645817356464, 5.4311030019435, 10.221926739819905, 14.590373912123727, 18.95711081525033, 22.886968824948447], \"arrayminus\": [1.3822662645941381, 5.820292003557516, 11.062643736263999, 16.354076872513538, 20.79658224259464, 26.02835769042838], \"symmetric\": false, \"thickness\": 4, \"type\": \"data\", \"visible\": true}, \"legendgroup\": \"0\", \"line\": {\"color\": \"#253494\", \"width\": 4}, \"name\": \"5\", \"showlegend\": true, \"type\": \"scatter\", \"x\": [0.0, 0.01, 0.02, 0.030000000000000002, 0.04, 0.05], \"xaxis\": \"x3\", \"y\": [-0.09665537077041542, -0.7704244922641518, -1.862389031592554, -3.189505412658229, -4.337131857791137, -5.785422260551676], \"yaxis\": \"y3\"}, {\"error_y\": {\"array\": [17.911268739154803, 20.790583123214528, 24.659844901572168, 28.42361475966391, 31.62396356557594, 35.33270126810652], \"arrayminus\": [14.780587447429696, 18.286114582846846, 23.001340778161925, 28.787016108749533, 33.132889232843645, 37.836836741208295], \"symmetric\": false, \"thickness\": 4, \"type\": \"data\", \"visible\": true}, \"legendgroup\": \"1\", \"line\": {\"color\": \"#2C7fB8\", \"width\": 4}, \"name\": \"10\", \"showlegend\": true, \"type\": \"scatter\", \"x\": [0.0, 0.01, 0.02, 0.030000000000000002, 0.04, 0.05], \"xaxis\": \"x3\", \"y\": [0.7370468796232612, -0.7455632253245137, -2.4924630676286874, -3.8034504982100215, -6.5594688522769555, -9.353183800527571], \"yaxis\": \"y3\"}, {\"error_y\": {\"array\": [36.33974818492146, 38.86790962173681, 43.66062654276332, 47.245967661525455, 49.71716046681979, 52.32607211517721], \"arrayminus\": [39.11340934404259, 40.63997092981247, 45.31143841714891, 49.37221352242837, 52.9590266624049, 56.269607800541266], \"symmetric\": false, \"thickness\": 4, \"type\": \"data\", \"visible\": true}, \"legendgroup\": \"2\", \"line\": {\"color\": \"#41B6C4\", \"width\": 4}, \"name\": \"15\", \"showlegend\": true, \"type\": \"scatter\", \"x\": [0.0, 0.01, 0.02, 0.030000000000000002, 0.04, 0.05], \"xaxis\": \"x3\", \"y\": [-3.156760812981057, -3.7489543774530727, -4.7658686979612295, -6.620428180705764, -9.49540018181745, -12.646107981224251], \"yaxis\": \"y3\"}, {\"error_y\": {\"array\": [16.51036704677899, 29.871271752405633, 36.6578125530042, 42.48035281726682, 47.31447777850418, 51.82693540787929], \"arrayminus\": [108.0318123214555, 102.10746366755784, 109.38432429405694, 115.20587830105833, 120.35633700736264, 121.0284069657477], \"symmetric\": false, \"thickness\": 4, \"type\": \"data\", \"visible\": true}, \"legendgroup\": \"3\", \"line\": {\"color\": \"#A1DAB4\", \"width\": 4}, \"name\": \"30\", \"showlegend\": true, \"type\": \"scatter\", \"x\": [0.0, 0.01, 0.02, 0.030000000000000002, 0.04, 0.05], \"xaxis\": \"x3\", \"y\": [-52.962241753227055, -42.7257896927035, -39.90890498766327, -38.841243381584036, -39.45060173053297, -40.613977713591964], \"yaxis\": \"y3\"}],                        {\"annotations\": [{\"font\": {\"size\": 16}, \"showarrow\": false, \"text\": \"$K^{trans}$\", \"x\": 0.14444444444444446, \"xanchor\": \"center\", \"xref\": \"paper\", \"y\": 1.0, \"yanchor\": \"bottom\", \"yref\": \"paper\"}, {\"font\": {\"size\": 16}, \"showarrow\": false, \"text\": \"$V_{e}$\", \"x\": 0.5, \"xanchor\": \"center\", \"xref\": \"paper\", \"y\": 1.0, \"yanchor\": \"bottom\", \"yref\": \"paper\"}, {\"font\": {\"size\": 16}, \"showarrow\": false, \"text\": \"$V_{p}$\", \"x\": 0.8555555555555556, \"xanchor\": \"center\", \"xref\": \"paper\", \"y\": 1.0, \"yanchor\": \"bottom\", \"yref\": \"paper\"}], \"plot_bgcolor\": \"#ffffff\", \"template\": {\"data\": {\"bar\": [{\"error_x\": {\"color\": \"#2a3f5f\"}, \"error_y\": {\"color\": \"#2a3f5f\"}, \"marker\": {\"line\": {\"color\": \"#E5ECF6\", \"width\": 0.5}}, \"type\": \"bar\"}], \"barpolar\": [{\"marker\": {\"line\": {\"color\": \"#E5ECF6\", \"width\": 0.5}}, \"type\": \"barpolar\"}], \"carpet\": [{\"aaxis\": {\"endlinecolor\": \"#2a3f5f\", \"gridcolor\": \"white\", \"linecolor\": \"white\", \"minorgridcolor\": \"white\", \"startlinecolor\": \"#2a3f5f\"}, \"baxis\": {\"endlinecolor\": \"#2a3f5f\", \"gridcolor\": \"white\", \"linecolor\": \"white\", \"minorgridcolor\": \"white\", \"startlinecolor\": \"#2a3f5f\"}, \"type\": \"carpet\"}], \"choropleth\": [{\"colorbar\": {\"outlinewidth\": 0, \"ticks\": \"\"}, \"type\": \"choropleth\"}], \"contour\": [{\"colorbar\": {\"outlinewidth\": 0, \"ticks\": \"\"}, \"colorscale\": [[0.0, \"#0d0887\"], [0.1111111111111111, \"#46039f\"], [0.2222222222222222, \"#7201a8\"], [0.3333333333333333, \"#9c179e\"], [0.4444444444444444, \"#bd3786\"], [0.5555555555555556, \"#d8576b\"], [0.6666666666666666, \"#ed7953\"], [0.7777777777777778, \"#fb9f3a\"], [0.8888888888888888, \"#fdca26\"], [1.0, \"#f0f921\"]], \"type\": \"contour\"}], \"contourcarpet\": [{\"colorbar\": {\"outlinewidth\": 0, \"ticks\": \"\"}, \"type\": \"contourcarpet\"}], \"heatmap\": [{\"colorbar\": {\"outlinewidth\": 0, \"ticks\": \"\"}, \"colorscale\": [[0.0, \"#0d0887\"], [0.1111111111111111, \"#46039f\"], [0.2222222222222222, \"#7201a8\"], [0.3333333333333333, \"#9c179e\"], [0.4444444444444444, \"#bd3786\"], [0.5555555555555556, \"#d8576b\"], [0.6666666666666666, \"#ed7953\"], [0.7777777777777778, \"#fb9f3a\"], [0.8888888888888888, \"#fdca26\"], [1.0, \"#f0f921\"]], \"type\": \"heatmap\"}], \"heatmapgl\": [{\"colorbar\": {\"outlinewidth\": 0, \"ticks\": \"\"}, \"colorscale\": [[0.0, \"#0d0887\"], [0.1111111111111111, \"#46039f\"], [0.2222222222222222, \"#7201a8\"], [0.3333333333333333, \"#9c179e\"], [0.4444444444444444, \"#bd3786\"], [0.5555555555555556, \"#d8576b\"], [0.6666666666666666, \"#ed7953\"], [0.7777777777777778, \"#fb9f3a\"], [0.8888888888888888, \"#fdca26\"], [1.0, \"#f0f921\"]], \"type\": \"heatmapgl\"}], \"histogram\": [{\"marker\": {\"colorbar\": {\"outlinewidth\": 0, \"ticks\": \"\"}}, \"type\": \"histogram\"}], \"histogram2d\": [{\"colorbar\": {\"outlinewidth\": 0, \"ticks\": \"\"}, \"colorscale\": [[0.0, \"#0d0887\"], [0.1111111111111111, \"#46039f\"], [0.2222222222222222, \"#7201a8\"], [0.3333333333333333, \"#9c179e\"], [0.4444444444444444, \"#bd3786\"], [0.5555555555555556, \"#d8576b\"], [0.6666666666666666, \"#ed7953\"], [0.7777777777777778, \"#fb9f3a\"], [0.8888888888888888, \"#fdca26\"], [1.0, \"#f0f921\"]], \"type\": \"histogram2d\"}], \"histogram2dcontour\": [{\"colorbar\": {\"outlinewidth\": 0, \"ticks\": \"\"}, \"colorscale\": [[0.0, \"#0d0887\"], [0.1111111111111111, \"#46039f\"], [0.2222222222222222, \"#7201a8\"], [0.3333333333333333, \"#9c179e\"], [0.4444444444444444, \"#bd3786\"], [0.5555555555555556, \"#d8576b\"], [0.6666666666666666, \"#ed7953\"], [0.7777777777777778, \"#fb9f3a\"], [0.8888888888888888, \"#fdca26\"], [1.0, \"#f0f921\"]], \"type\": \"histogram2dcontour\"}], \"mesh3d\": [{\"colorbar\": {\"outlinewidth\": 0, \"ticks\": \"\"}, \"type\": \"mesh3d\"}], \"parcoords\": [{\"line\": {\"colorbar\": {\"outlinewidth\": 0, \"ticks\": \"\"}}, \"type\": \"parcoords\"}], \"pie\": [{\"automargin\": true, \"type\": \"pie\"}], \"scatter\": [{\"marker\": {\"colorbar\": {\"outlinewidth\": 0, \"ticks\": \"\"}}, \"type\": \"scatter\"}], \"scatter3d\": [{\"line\": {\"colorbar\": {\"outlinewidth\": 0, \"ticks\": \"\"}}, \"marker\": {\"colorbar\": {\"outlinewidth\": 0, \"ticks\": \"\"}}, \"type\": \"scatter3d\"}], \"scattercarpet\": [{\"marker\": {\"colorbar\": {\"outlinewidth\": 0, \"ticks\": \"\"}}, \"type\": \"scattercarpet\"}], \"scattergeo\": [{\"marker\": {\"colorbar\": {\"outlinewidth\": 0, \"ticks\": \"\"}}, \"type\": \"scattergeo\"}], \"scattergl\": [{\"marker\": {\"colorbar\": {\"outlinewidth\": 0, \"ticks\": \"\"}}, \"type\": \"scattergl\"}], \"scattermapbox\": [{\"marker\": {\"colorbar\": {\"outlinewidth\": 0, \"ticks\": \"\"}}, \"type\": \"scattermapbox\"}], \"scatterpolar\": [{\"marker\": {\"colorbar\": {\"outlinewidth\": 0, \"ticks\": \"\"}}, \"type\": \"scatterpolar\"}], \"scatterpolargl\": [{\"marker\": {\"colorbar\": {\"outlinewidth\": 0, \"ticks\": \"\"}}, \"type\": \"scatterpolargl\"}], \"scatterternary\": [{\"marker\": {\"colorbar\": {\"outlinewidth\": 0, \"ticks\": \"\"}}, \"type\": \"scatterternary\"}], \"surface\": [{\"colorbar\": {\"outlinewidth\": 0, \"ticks\": \"\"}, \"colorscale\": [[0.0, \"#0d0887\"], [0.1111111111111111, \"#46039f\"], [0.2222222222222222, \"#7201a8\"], [0.3333333333333333, \"#9c179e\"], [0.4444444444444444, \"#bd3786\"], [0.5555555555555556, \"#d8576b\"], [0.6666666666666666, \"#ed7953\"], [0.7777777777777778, \"#fb9f3a\"], [0.8888888888888888, \"#fdca26\"], [1.0, \"#f0f921\"]], \"type\": \"surface\"}], \"table\": [{\"cells\": {\"fill\": {\"color\": \"#EBF0F8\"}, \"line\": {\"color\": \"white\"}}, \"header\": {\"fill\": {\"color\": \"#C8D4E3\"}, \"line\": {\"color\": \"white\"}}, \"type\": \"table\"}]}, \"layout\": {\"annotationdefaults\": {\"arrowcolor\": \"#2a3f5f\", \"arrowhead\": 0, \"arrowwidth\": 1}, \"autotypenumbers\": \"strict\", \"coloraxis\": {\"colorbar\": {\"outlinewidth\": 0, \"ticks\": \"\"}}, \"colorscale\": {\"diverging\": [[0, \"#8e0152\"], [0.1, \"#c51b7d\"], [0.2, \"#de77ae\"], [0.3, \"#f1b6da\"], [0.4, \"#fde0ef\"], [0.5, \"#f7f7f7\"], [0.6, \"#e6f5d0\"], [0.7, \"#b8e186\"], [0.8, \"#7fbc41\"], [0.9, \"#4d9221\"], [1, \"#276419\"]], \"sequential\": [[0.0, \"#0d0887\"], [0.1111111111111111, \"#46039f\"], [0.2222222222222222, \"#7201a8\"], [0.3333333333333333, \"#9c179e\"], [0.4444444444444444, \"#bd3786\"], [0.5555555555555556, \"#d8576b\"], [0.6666666666666666, \"#ed7953\"], [0.7777777777777778, \"#fb9f3a\"], [0.8888888888888888, \"#fdca26\"], [1.0, \"#f0f921\"]], \"sequentialminus\": [[0.0, \"#0d0887\"], [0.1111111111111111, \"#46039f\"], [0.2222222222222222, \"#7201a8\"], [0.3333333333333333, \"#9c179e\"], [0.4444444444444444, \"#bd3786\"], [0.5555555555555556, \"#d8576b\"], [0.6666666666666666, \"#ed7953\"], [0.7777777777777778, \"#fb9f3a\"], [0.8888888888888888, \"#fdca26\"], [1.0, \"#f0f921\"]]}, \"colorway\": [\"#636efa\", \"#EF553B\", \"#00cc96\", \"#ab63fa\", \"#FFA15A\", \"#19d3f3\", \"#FF6692\", \"#B6E880\", \"#FF97FF\", \"#FECB52\"], \"font\": {\"color\": \"#2a3f5f\"}, \"geo\": {\"bgcolor\": \"white\", \"lakecolor\": \"white\", \"landcolor\": \"#E5ECF6\", \"showlakes\": true, \"showland\": true, \"subunitcolor\": \"white\"}, \"hoverlabel\": {\"align\": \"left\"}, \"hovermode\": \"closest\", \"mapbox\": {\"style\": \"light\"}, \"paper_bgcolor\": \"white\", \"plot_bgcolor\": \"#E5ECF6\", \"polar\": {\"angularaxis\": {\"gridcolor\": \"white\", \"linecolor\": \"white\", \"ticks\": \"\"}, \"bgcolor\": \"#E5ECF6\", \"radialaxis\": {\"gridcolor\": \"white\", \"linecolor\": \"white\", \"ticks\": \"\"}}, \"scene\": {\"xaxis\": {\"backgroundcolor\": \"#E5ECF6\", \"gridcolor\": \"white\", \"gridwidth\": 2, \"linecolor\": \"white\", \"showbackground\": true, \"ticks\": \"\", \"zerolinecolor\": \"white\"}, \"yaxis\": {\"backgroundcolor\": \"#E5ECF6\", \"gridcolor\": \"white\", \"gridwidth\": 2, \"linecolor\": \"white\", \"showbackground\": true, \"ticks\": \"\", \"zerolinecolor\": \"white\"}, \"zaxis\": {\"backgroundcolor\": \"#E5ECF6\", \"gridcolor\": \"white\", \"gridwidth\": 2, \"linecolor\": \"white\", \"showbackground\": true, \"ticks\": \"\", \"zerolinecolor\": \"white\"}}, \"shapedefaults\": {\"line\": {\"color\": \"#2a3f5f\"}}, \"ternary\": {\"aaxis\": {\"gridcolor\": \"white\", \"linecolor\": \"white\", \"ticks\": \"\"}, \"baxis\": {\"gridcolor\": \"white\", \"linecolor\": \"white\", \"ticks\": \"\"}, \"bgcolor\": \"#E5ECF6\", \"caxis\": {\"gridcolor\": \"white\", \"linecolor\": \"white\", \"ticks\": \"\"}}, \"title\": {\"x\": 0.05}, \"xaxis\": {\"automargin\": true, \"gridcolor\": \"white\", \"linecolor\": \"white\", \"ticks\": \"\", \"title\": {\"standoff\": 15}, \"zerolinecolor\": \"white\", \"zerolinewidth\": 2}, \"yaxis\": {\"automargin\": true, \"gridcolor\": \"white\", \"linecolor\": \"white\", \"ticks\": \"\", \"title\": {\"standoff\": 15}, \"zerolinecolor\": \"white\", \"zerolinewidth\": 2}}}, \"xaxis\": {\"anchor\": \"y\", \"domain\": [0.0, 0.2888888888888889], \"title\": {\"text\": \"$\\\\sigma_{noise}[Mm]$\"}}, \"xaxis2\": {\"anchor\": \"y2\", \"domain\": [0.35555555555555557, 0.6444444444444445], \"title\": {\"text\": \"$\\\\sigma_{noise}[Mm]$\"}}, \"xaxis3\": {\"anchor\": \"y3\", \"domain\": [0.7111111111111111, 1.0], \"title\": {\"text\": \"$\\\\sigma_{noise}[Mm]$\"}}, \"yaxis\": {\"anchor\": \"x\", \"domain\": [0.0, 1.0], \"range\": [-50, 50], \"showline\": true, \"tickvals\": [-50, -40, -30, -20, -10, 0, 10, 20, 30, 40, 50], \"title\": {\"text\": \"$Percent Error$\"}}, \"yaxis2\": {\"anchor\": \"x2\", \"domain\": [0.0, 1.0], \"range\": [-50, 50], \"tickvals\": [-50, -40, -30, -20, -10, 0, 10, 20, 30, 40, 50]}, \"yaxis3\": {\"anchor\": \"x3\", \"domain\": [0.0, 1.0], \"range\": [-50, 50], \"tickvals\": [-50, -40, -30, -20, -10, 0, 10, 20, 30, 40, 50]}},                        {\"responsive\": true}                    ).then(function(){\n",
       "                            \n",
       "var gd = document.getElementById('295ac8ff-94c2-4e88-bc77-b61ae47de455');\n",
       "var x = new MutationObserver(function (mutations, observer) {{\n",
       "        var display = window.getComputedStyle(gd).display;\n",
       "        if (!display || display === 'none') {{\n",
       "            console.log([gd, 'removed!']);\n",
       "            Plotly.purge(gd);\n",
       "            observer.disconnect();\n",
       "        }}\n",
       "}});\n",
       "\n",
       "// Listen for the removal of the full notebook cells\n",
       "var notebookContainer = gd.closest('#notebook-container');\n",
       "if (notebookContainer) {{\n",
       "    x.observe(notebookContainer, {childList: true});\n",
       "}}\n",
       "\n",
       "// Listen for the clearing of the current output cell\n",
       "var outputEl = gd.closest('.output');\n",
       "if (outputEl) {{\n",
       "    x.observe(outputEl, {childList: true});\n",
       "}}\n",
       "\n",
       "                        })                };                });            </script>        </div>"
      ]
     },
     "metadata": {},
     "output_type": "display_data"
    }
   ],
   "source": [
    "file = loadmat('fig2andfig3vars.mat')\n",
    "\n",
    "listSigmaC = np.squeeze(np.asarray((np.reshape(file['listSigmaC'], 6))))\n",
    "\n",
    "curErr3 = file['curErr3']\n",
    "errQt3 = file['errQt3']\n",
    "errMd3 = file['errMd3']\n",
    "\n",
    "curErr4 = file['curErr4']\n",
    "errQt4 = file['errQt4']\n",
    "errMd4 = file['errMd4']\n",
    "\n",
    "curErr5 = file['curErr5']\n",
    "errQt5 = file['errQt5']\n",
    "errMd5 = file['errMd5']\n",
    "\n",
    "fig = make_subplots(rows=1, cols=3, \n",
    "                    subplot_titles=(r'$K^{trans}$', r'$V_{e}$', r'$V_{p}$'))\n",
    "\n",
    "legend_values=cycle(['5','10','15','30'])\n",
    "\n",
    "# First subplot \n",
    "line_colours = cycle(['#253494','#2C7fB8','#41B6C4','#A1DAB4'])\n",
    "\n",
    "for i in range(0,4):\n",
    "    finalErrMd3=np.squeeze(np.asarray((np.reshape(errMd3[i,:], 6))))\n",
    "    # take another look here - is it errorQt[i,:,1] because MATLAB indexing starts from 1,\n",
    "    # or is it just like in MATLAB?\n",
    "    finalErrorDiff3=np.squeeze(np.asarray((np.reshape(abs(errQt3[i,:,0]-errMd3[i,:]), 6))))\n",
    "    finalErrorDiffMinus3=np.squeeze(np.asarray((np.reshape(abs(errQt3[i,:,1]-errMd3[i,:]), 6))))\n",
    "    fig.append_trace(go.Scatter(\n",
    "        x=listSigmaC,\n",
    "        y=finalErrMd3,\n",
    "        showlegend=False,\n",
    "        error_y=dict(\n",
    "            type='data', # value of error bar given in data coordinates\n",
    "            array=finalErrorDiff3,\n",
    "            arrayminus=finalErrorDiffMinus3,\n",
    "            symmetric=False,\n",
    "            visible=True,\n",
    "            thickness=4),\n",
    "        name=next(legend_values),\n",
    "        legendgroup=i,\n",
    "        line_color=next(line_colours),\n",
    "        line_width=4\n",
    "    ),row=1, col=1)\n",
    "    \n",
    "\n",
    "\n",
    "# Second subplot\n",
    "\n",
    "line_colours = cycle(['#253494','#2C7fB8','#41B6C4','#A1DAB4'])\n",
    "\n",
    "for i in range(0,4):\n",
    "    finalErrMd4=np.squeeze(np.asarray((np.reshape(errMd4[i,:], 6))))\n",
    "    \n",
    "    finalErrorDiff4=np.squeeze(np.asarray((np.reshape(abs(errQt4[i,:,0]-errMd4[i,:]), 6))))\n",
    "    finalErrorDiffMinus4=np.squeeze(np.asarray((np.reshape(abs(errQt4[i,:,1]-errMd4[i,:]), 6))))\n",
    "    fig.append_trace(go.Scatter(\n",
    "        x=listSigmaC,\n",
    "        y=finalErrMd4,\n",
    "        showlegend=False,\n",
    "        error_y=dict(\n",
    "            type='data', # value of error bar given in data coordinates\n",
    "            array=finalErrorDiff4,\n",
    "            arrayminus=finalErrorDiffMinus4,\n",
    "            symmetric=False,\n",
    "            visible=True,\n",
    "            thickness=4),\n",
    "        name=next(legend_values),\n",
    "        legendgroup=i,\n",
    "        line_color=next(line_colours),\n",
    "        line_width=4       \n",
    "    ),row=1, col=2)\n",
    "\n",
    "\n",
    "# Third subplot\n",
    "    \n",
    "\n",
    "\n",
    "line_colours = cycle(['#253494','#2C7fB8','#41B6C4','#A1DAB4'])\n",
    "\n",
    "for i in range(0,4):\n",
    "    finalErrMd5=np.squeeze(np.asarray((np.reshape(errMd5[i,:], 6))))\n",
    "    finalErrorDiff5=np.squeeze(np.asarray((np.reshape(abs(errQt5[i,:,0]-errMd5[i,:]), 6))))\n",
    "    finalErrorDiffMinus5=np.squeeze(np.asarray((np.reshape(abs(errQt5[i,:,1]-errMd5[i,:]), 6))))\n",
    "    fig.add_trace(go.Scatter(\n",
    "        x=listSigmaC,\n",
    "        y=finalErrMd5,\n",
    "        error_y=dict(\n",
    "            type='data', # value of error bar given in data coordinates\n",
    "            array=finalErrorDiff5,\n",
    "            arrayminus=finalErrorDiffMinus5,\n",
    "            symmetric=False,\n",
    "            visible=True,\n",
    "            thickness=4),\n",
    "        name=next(legend_values),\n",
    "        legendgroup=i,\n",
    "        showlegend=True,\n",
    "        line_color=next(line_colours),\n",
    "        line_width=4\n",
    "    ),row=1, col=3)\n",
    "\n",
    "\n",
    "\n",
    "fig.update_xaxes(title_text=r'$\\sigma_{noise}[Mm]$')\n",
    "fig.update_yaxes(range=[-50,50], tickvals=[-50, -40, -30, -20, -10, 0, 10, 20, 30, 40, 50], row=1, col=1)\n",
    "fig.update_yaxes(range=[-50,50], tickvals=[-50, -40, -30, -20, -10, 0, 10, 20, 30, 40, 50], row=1, col=2)\n",
    "fig.update_yaxes(range=[-50,50], tickvals=[-50, -40, -30, -20, -10, 0, 10, 20, 30, 40, 50], row=1, col=3)\n",
    "\n",
    "fig.update_layout(yaxis=dict(title=r'$Percent Error$',\n",
    "                             showline=True,\n",
    "                             ), \n",
    "                  plot_bgcolor='#ffffff'\n",
    "                  #legend=dict(yanchor='bottom', y=0.20, xanchor='right', x=0.30) -- change legend position\n",
    ")\n",
    "\n",
    "\n",
    "# names = set()\n",
    "# fig.for_each_trace(\n",
    "#     lambda trace:\n",
    "#         trace.update(showlegend=False)\n",
    "#         if (trace.name in names) else names.add(trace.name))\n",
    "\n",
    "\n",
    "fig.show()"
   ]
  },
  {
   "cell_type": "markdown",
   "metadata": {
    "kernel": "SoS"
   },
   "source": [
    "## Figure 2 - first subfigure"
   ]
  },
  {
   "cell_type": "code",
   "execution_count": 107,
   "metadata": {
    "kernel": "SoS"
   },
   "outputs": [
    {
     "data": {
      "application/vnd.plotly.v1+json": {
       "config": {
        "plotlyServerURL": "https://plot.ly"
       },
       "data": [
        {
         "error_y": {
          "array": [
           0.16788584024785835,
           1.521395434291816,
           2.93183807063381,
           4.273062607469782,
           5.576120004700529,
           6.678222258770232
          ],
          "arrayminus": [
           0.1519744123312202,
           1.4490069353387511,
           2.8558432445467545,
           4.129785089780925,
           5.36322720526507,
           6.444900909462762
          ],
          "symmetric": false,
          "thickness": 4,
          "type": "data",
          "visible": true
         },
         "line": {
          "color": "#253494",
          "width": 4
         },
         "name": "5",
         "showlegend": false,
         "type": "scatter",
         "visible": true,
         "x": [
          0,
          0.01,
          0.02,
          0.030000000000000002,
          0.04,
          0.05
         ],
         "y": [
          -0.04438379028423219,
          -0.6034629466017821,
          -1.535324422925144,
          -2.840858105624846,
          -3.6479737453757646,
          -5.108948160980921
         ]
        },
        {
         "error_y": {
          "array": [
           1.8006474478784775,
           3.4889834786157983,
           4.94831837857227,
           6.433071152252573,
           7.6568875351511405,
           8.791442031744493
          ],
          "arrayminus": [
           1.6164141709039974,
           3.410860775512818,
           5.104709488251493,
           6.530036997433772,
           7.779206209947806,
           8.8092770890249
          ],
          "symmetric": false,
          "thickness": 4,
          "type": "data",
          "visible": true
         },
         "line": {
          "color": "#2C7fB8",
          "width": 4
         },
         "name": "10",
         "showlegend": false,
         "type": "scatter",
         "visible": false,
         "x": [
          0,
          0.01,
          0.02,
          0.030000000000000002,
          0.04,
          0.05
         ],
         "y": [
          -0.39379287120341194,
          -1.5974216767199274,
          -2.8797630940219223,
          -4.1751258196386445,
          -6.2624456511458,
          -9.08522073778205
         ]
        },
        {
         "error_y": {
          "array": [
           3.9845286125278316,
           6.0295263215256005,
           7.757863223760958,
           9.092047713223465,
           10.01813002315786,
           11.017197952077456
          ],
          "arrayminus": [
           3.9695226472345495,
           5.926197974762882,
           8.012398442420505,
           9.345678191969753,
           10.559245533824834,
           11.645098654273882
          ],
          "symmetric": false,
          "thickness": 4,
          "type": "data",
          "visible": true
         },
         "line": {
          "color": "#41B6C4",
          "width": 4
         },
         "name": "15",
         "showlegend": false,
         "type": "scatter",
         "visible": false,
         "x": [
          0,
          0.01,
          0.02,
          0.030000000000000002,
          0.04,
          0.05
         ],
         "y": [
          -0.8397840515121796,
          -2.15538115902561,
          -3.4990315093833386,
          -5.848721727735317,
          -8.799458264684356,
          -11.653665525045628
         ]
        },
        {
         "error_y": {
          "array": [
           6.331335949032671,
           9.082157374459362,
           11.991593745629999,
           13.655386237643402,
           15.05985035855159,
           15.69677039789238
          ],
          "arrayminus": [
           10.690243849393733,
           10.839964873136527,
           12.272237200066744,
           13.809521674825994,
           15.330653487089798,
           16.58929278603815
          ],
          "symmetric": false,
          "thickness": 4,
          "type": "data",
          "visible": true
         },
         "line": {
          "color": "#A1DAB4",
          "width": 4
         },
         "name": "30",
         "showlegend": false,
         "type": "scatter",
         "visible": false,
         "x": [
          0,
          0.01,
          0.02,
          0.030000000000000002,
          0.04,
          0.05
         ],
         "y": [
          -1.6309355169535078,
          -4.097629032330385,
          -6.470137454132811,
          -9.183283096423942,
          -11.861865442318027,
          -15.688443616278462
         ]
        }
       ],
       "layout": {
        "legend": {
         "x": 0.3,
         "xanchor": "right",
         "y": 0.2,
         "yanchor": "bottom"
        },
        "plot_bgcolor": "#ffffff",
        "sliders": [
         {
          "active": 4,
          "currentvalue": {
           "prefix": "Temporal resolution [seconds]: "
          },
          "pad": {
           "t": 70
          },
          "steps": [
           {
            "args": [
             {
              "visible": [
               true,
               false,
               false,
               false
              ]
             }
            ],
            "label": "5",
            "method": "update",
            "value": "5"
           },
           {
            "args": [
             {
              "visible": [
               false,
               true,
               false,
               false
              ]
             }
            ],
            "label": "10",
            "method": "update",
            "value": "10"
           },
           {
            "args": [
             {
              "visible": [
               false,
               false,
               true,
               false
              ]
             }
            ],
            "label": "15",
            "method": "update",
            "value": "15"
           },
           {
            "args": [
             {
              "visible": [
               false,
               false,
               false,
               true
              ]
             }
            ],
            "label": "30",
            "method": "update",
            "value": "30"
           }
          ]
         }
        ],
        "template": {
         "data": {
          "bar": [
           {
            "error_x": {
             "color": "#2a3f5f"
            },
            "error_y": {
             "color": "#2a3f5f"
            },
            "marker": {
             "line": {
              "color": "#E5ECF6",
              "width": 0.5
             }
            },
            "type": "bar"
           }
          ],
          "barpolar": [
           {
            "marker": {
             "line": {
              "color": "#E5ECF6",
              "width": 0.5
             }
            },
            "type": "barpolar"
           }
          ],
          "carpet": [
           {
            "aaxis": {
             "endlinecolor": "#2a3f5f",
             "gridcolor": "white",
             "linecolor": "white",
             "minorgridcolor": "white",
             "startlinecolor": "#2a3f5f"
            },
            "baxis": {
             "endlinecolor": "#2a3f5f",
             "gridcolor": "white",
             "linecolor": "white",
             "minorgridcolor": "white",
             "startlinecolor": "#2a3f5f"
            },
            "type": "carpet"
           }
          ],
          "choropleth": [
           {
            "colorbar": {
             "outlinewidth": 0,
             "ticks": ""
            },
            "type": "choropleth"
           }
          ],
          "contour": [
           {
            "colorbar": {
             "outlinewidth": 0,
             "ticks": ""
            },
            "colorscale": [
             [
              0,
              "#0d0887"
             ],
             [
              0.1111111111111111,
              "#46039f"
             ],
             [
              0.2222222222222222,
              "#7201a8"
             ],
             [
              0.3333333333333333,
              "#9c179e"
             ],
             [
              0.4444444444444444,
              "#bd3786"
             ],
             [
              0.5555555555555556,
              "#d8576b"
             ],
             [
              0.6666666666666666,
              "#ed7953"
             ],
             [
              0.7777777777777778,
              "#fb9f3a"
             ],
             [
              0.8888888888888888,
              "#fdca26"
             ],
             [
              1,
              "#f0f921"
             ]
            ],
            "type": "contour"
           }
          ],
          "contourcarpet": [
           {
            "colorbar": {
             "outlinewidth": 0,
             "ticks": ""
            },
            "type": "contourcarpet"
           }
          ],
          "heatmap": [
           {
            "colorbar": {
             "outlinewidth": 0,
             "ticks": ""
            },
            "colorscale": [
             [
              0,
              "#0d0887"
             ],
             [
              0.1111111111111111,
              "#46039f"
             ],
             [
              0.2222222222222222,
              "#7201a8"
             ],
             [
              0.3333333333333333,
              "#9c179e"
             ],
             [
              0.4444444444444444,
              "#bd3786"
             ],
             [
              0.5555555555555556,
              "#d8576b"
             ],
             [
              0.6666666666666666,
              "#ed7953"
             ],
             [
              0.7777777777777778,
              "#fb9f3a"
             ],
             [
              0.8888888888888888,
              "#fdca26"
             ],
             [
              1,
              "#f0f921"
             ]
            ],
            "type": "heatmap"
           }
          ],
          "heatmapgl": [
           {
            "colorbar": {
             "outlinewidth": 0,
             "ticks": ""
            },
            "colorscale": [
             [
              0,
              "#0d0887"
             ],
             [
              0.1111111111111111,
              "#46039f"
             ],
             [
              0.2222222222222222,
              "#7201a8"
             ],
             [
              0.3333333333333333,
              "#9c179e"
             ],
             [
              0.4444444444444444,
              "#bd3786"
             ],
             [
              0.5555555555555556,
              "#d8576b"
             ],
             [
              0.6666666666666666,
              "#ed7953"
             ],
             [
              0.7777777777777778,
              "#fb9f3a"
             ],
             [
              0.8888888888888888,
              "#fdca26"
             ],
             [
              1,
              "#f0f921"
             ]
            ],
            "type": "heatmapgl"
           }
          ],
          "histogram": [
           {
            "marker": {
             "colorbar": {
              "outlinewidth": 0,
              "ticks": ""
             }
            },
            "type": "histogram"
           }
          ],
          "histogram2d": [
           {
            "colorbar": {
             "outlinewidth": 0,
             "ticks": ""
            },
            "colorscale": [
             [
              0,
              "#0d0887"
             ],
             [
              0.1111111111111111,
              "#46039f"
             ],
             [
              0.2222222222222222,
              "#7201a8"
             ],
             [
              0.3333333333333333,
              "#9c179e"
             ],
             [
              0.4444444444444444,
              "#bd3786"
             ],
             [
              0.5555555555555556,
              "#d8576b"
             ],
             [
              0.6666666666666666,
              "#ed7953"
             ],
             [
              0.7777777777777778,
              "#fb9f3a"
             ],
             [
              0.8888888888888888,
              "#fdca26"
             ],
             [
              1,
              "#f0f921"
             ]
            ],
            "type": "histogram2d"
           }
          ],
          "histogram2dcontour": [
           {
            "colorbar": {
             "outlinewidth": 0,
             "ticks": ""
            },
            "colorscale": [
             [
              0,
              "#0d0887"
             ],
             [
              0.1111111111111111,
              "#46039f"
             ],
             [
              0.2222222222222222,
              "#7201a8"
             ],
             [
              0.3333333333333333,
              "#9c179e"
             ],
             [
              0.4444444444444444,
              "#bd3786"
             ],
             [
              0.5555555555555556,
              "#d8576b"
             ],
             [
              0.6666666666666666,
              "#ed7953"
             ],
             [
              0.7777777777777778,
              "#fb9f3a"
             ],
             [
              0.8888888888888888,
              "#fdca26"
             ],
             [
              1,
              "#f0f921"
             ]
            ],
            "type": "histogram2dcontour"
           }
          ],
          "mesh3d": [
           {
            "colorbar": {
             "outlinewidth": 0,
             "ticks": ""
            },
            "type": "mesh3d"
           }
          ],
          "parcoords": [
           {
            "line": {
             "colorbar": {
              "outlinewidth": 0,
              "ticks": ""
             }
            },
            "type": "parcoords"
           }
          ],
          "pie": [
           {
            "automargin": true,
            "type": "pie"
           }
          ],
          "scatter": [
           {
            "marker": {
             "colorbar": {
              "outlinewidth": 0,
              "ticks": ""
             }
            },
            "type": "scatter"
           }
          ],
          "scatter3d": [
           {
            "line": {
             "colorbar": {
              "outlinewidth": 0,
              "ticks": ""
             }
            },
            "marker": {
             "colorbar": {
              "outlinewidth": 0,
              "ticks": ""
             }
            },
            "type": "scatter3d"
           }
          ],
          "scattercarpet": [
           {
            "marker": {
             "colorbar": {
              "outlinewidth": 0,
              "ticks": ""
             }
            },
            "type": "scattercarpet"
           }
          ],
          "scattergeo": [
           {
            "marker": {
             "colorbar": {
              "outlinewidth": 0,
              "ticks": ""
             }
            },
            "type": "scattergeo"
           }
          ],
          "scattergl": [
           {
            "marker": {
             "colorbar": {
              "outlinewidth": 0,
              "ticks": ""
             }
            },
            "type": "scattergl"
           }
          ],
          "scattermapbox": [
           {
            "marker": {
             "colorbar": {
              "outlinewidth": 0,
              "ticks": ""
             }
            },
            "type": "scattermapbox"
           }
          ],
          "scatterpolar": [
           {
            "marker": {
             "colorbar": {
              "outlinewidth": 0,
              "ticks": ""
             }
            },
            "type": "scatterpolar"
           }
          ],
          "scatterpolargl": [
           {
            "marker": {
             "colorbar": {
              "outlinewidth": 0,
              "ticks": ""
             }
            },
            "type": "scatterpolargl"
           }
          ],
          "scatterternary": [
           {
            "marker": {
             "colorbar": {
              "outlinewidth": 0,
              "ticks": ""
             }
            },
            "type": "scatterternary"
           }
          ],
          "surface": [
           {
            "colorbar": {
             "outlinewidth": 0,
             "ticks": ""
            },
            "colorscale": [
             [
              0,
              "#0d0887"
             ],
             [
              0.1111111111111111,
              "#46039f"
             ],
             [
              0.2222222222222222,
              "#7201a8"
             ],
             [
              0.3333333333333333,
              "#9c179e"
             ],
             [
              0.4444444444444444,
              "#bd3786"
             ],
             [
              0.5555555555555556,
              "#d8576b"
             ],
             [
              0.6666666666666666,
              "#ed7953"
             ],
             [
              0.7777777777777778,
              "#fb9f3a"
             ],
             [
              0.8888888888888888,
              "#fdca26"
             ],
             [
              1,
              "#f0f921"
             ]
            ],
            "type": "surface"
           }
          ],
          "table": [
           {
            "cells": {
             "fill": {
              "color": "#EBF0F8"
             },
             "line": {
              "color": "white"
             }
            },
            "header": {
             "fill": {
              "color": "#C8D4E3"
             },
             "line": {
              "color": "white"
             }
            },
            "type": "table"
           }
          ]
         },
         "layout": {
          "annotationdefaults": {
           "arrowcolor": "#2a3f5f",
           "arrowhead": 0,
           "arrowwidth": 1
          },
          "autotypenumbers": "strict",
          "coloraxis": {
           "colorbar": {
            "outlinewidth": 0,
            "ticks": ""
           }
          },
          "colorscale": {
           "diverging": [
            [
             0,
             "#8e0152"
            ],
            [
             0.1,
             "#c51b7d"
            ],
            [
             0.2,
             "#de77ae"
            ],
            [
             0.3,
             "#f1b6da"
            ],
            [
             0.4,
             "#fde0ef"
            ],
            [
             0.5,
             "#f7f7f7"
            ],
            [
             0.6,
             "#e6f5d0"
            ],
            [
             0.7,
             "#b8e186"
            ],
            [
             0.8,
             "#7fbc41"
            ],
            [
             0.9,
             "#4d9221"
            ],
            [
             1,
             "#276419"
            ]
           ],
           "sequential": [
            [
             0,
             "#0d0887"
            ],
            [
             0.1111111111111111,
             "#46039f"
            ],
            [
             0.2222222222222222,
             "#7201a8"
            ],
            [
             0.3333333333333333,
             "#9c179e"
            ],
            [
             0.4444444444444444,
             "#bd3786"
            ],
            [
             0.5555555555555556,
             "#d8576b"
            ],
            [
             0.6666666666666666,
             "#ed7953"
            ],
            [
             0.7777777777777778,
             "#fb9f3a"
            ],
            [
             0.8888888888888888,
             "#fdca26"
            ],
            [
             1,
             "#f0f921"
            ]
           ],
           "sequentialminus": [
            [
             0,
             "#0d0887"
            ],
            [
             0.1111111111111111,
             "#46039f"
            ],
            [
             0.2222222222222222,
             "#7201a8"
            ],
            [
             0.3333333333333333,
             "#9c179e"
            ],
            [
             0.4444444444444444,
             "#bd3786"
            ],
            [
             0.5555555555555556,
             "#d8576b"
            ],
            [
             0.6666666666666666,
             "#ed7953"
            ],
            [
             0.7777777777777778,
             "#fb9f3a"
            ],
            [
             0.8888888888888888,
             "#fdca26"
            ],
            [
             1,
             "#f0f921"
            ]
           ]
          },
          "colorway": [
           "#636efa",
           "#EF553B",
           "#00cc96",
           "#ab63fa",
           "#FFA15A",
           "#19d3f3",
           "#FF6692",
           "#B6E880",
           "#FF97FF",
           "#FECB52"
          ],
          "font": {
           "color": "#2a3f5f"
          },
          "geo": {
           "bgcolor": "white",
           "lakecolor": "white",
           "landcolor": "#E5ECF6",
           "showlakes": true,
           "showland": true,
           "subunitcolor": "white"
          },
          "hoverlabel": {
           "align": "left"
          },
          "hovermode": "closest",
          "mapbox": {
           "style": "light"
          },
          "paper_bgcolor": "white",
          "plot_bgcolor": "#E5ECF6",
          "polar": {
           "angularaxis": {
            "gridcolor": "white",
            "linecolor": "white",
            "ticks": ""
           },
           "bgcolor": "#E5ECF6",
           "radialaxis": {
            "gridcolor": "white",
            "linecolor": "white",
            "ticks": ""
           }
          },
          "scene": {
           "xaxis": {
            "backgroundcolor": "#E5ECF6",
            "gridcolor": "white",
            "gridwidth": 2,
            "linecolor": "white",
            "showbackground": true,
            "ticks": "",
            "zerolinecolor": "white"
           },
           "yaxis": {
            "backgroundcolor": "#E5ECF6",
            "gridcolor": "white",
            "gridwidth": 2,
            "linecolor": "white",
            "showbackground": true,
            "ticks": "",
            "zerolinecolor": "white"
           },
           "zaxis": {
            "backgroundcolor": "#E5ECF6",
            "gridcolor": "white",
            "gridwidth": 2,
            "linecolor": "white",
            "showbackground": true,
            "ticks": "",
            "zerolinecolor": "white"
           }
          },
          "shapedefaults": {
           "line": {
            "color": "#2a3f5f"
           }
          },
          "ternary": {
           "aaxis": {
            "gridcolor": "white",
            "linecolor": "white",
            "ticks": ""
           },
           "baxis": {
            "gridcolor": "white",
            "linecolor": "white",
            "ticks": ""
           },
           "bgcolor": "#E5ECF6",
           "caxis": {
            "gridcolor": "white",
            "linecolor": "white",
            "ticks": ""
           }
          },
          "title": {
           "x": 0.05
          },
          "xaxis": {
           "automargin": true,
           "gridcolor": "white",
           "linecolor": "white",
           "ticks": "",
           "title": {
            "standoff": 15
           },
           "zerolinecolor": "white",
           "zerolinewidth": 2
          },
          "yaxis": {
           "automargin": true,
           "gridcolor": "white",
           "linecolor": "white",
           "ticks": "",
           "title": {
            "standoff": 15
           },
           "zerolinecolor": "white",
           "zerolinewidth": 2
          }
         }
        },
        "title": {
         "text": "$V_{e}$",
         "x": 0.5,
         "xanchor": "center"
        },
        "xaxis": {
         "title": {
          "text": "$\\sigma_{noise}[Mm]$"
         }
        },
        "yaxis": {
         "range": [
          -35,
          5
         ],
         "showline": true,
         "tickvals": [
          -35,
          -30,
          -25,
          -20,
          -15,
          -10,
          -5,
          0,
          5
         ],
         "title": {
          "text": "$Percent Error$"
         }
        }
       }
      },
      "text/html": [
       "<div>                            <div id=\"647c44fd-f6f7-42d3-9958-57dddec1b8bc\" class=\"plotly-graph-div\" style=\"height:525px; width:100%;\"></div>            <script type=\"text/javascript\">                require([\"plotly\"], function(Plotly) {                    window.PLOTLYENV=window.PLOTLYENV || {};                                    if (document.getElementById(\"647c44fd-f6f7-42d3-9958-57dddec1b8bc\")) {                    Plotly.newPlot(                        \"647c44fd-f6f7-42d3-9958-57dddec1b8bc\",                        [{\"error_y\": {\"array\": [0.16788584024785835, 1.521395434291816, 2.93183807063381, 4.273062607469782, 5.576120004700529, 6.678222258770232], \"arrayminus\": [0.1519744123312202, 1.4490069353387511, 2.8558432445467545, 4.129785089780925, 5.36322720526507, 6.444900909462762], \"symmetric\": false, \"thickness\": 4, \"type\": \"data\", \"visible\": true}, \"line\": {\"color\": \"#253494\", \"width\": 4}, \"name\": \"5\", \"showlegend\": false, \"type\": \"scatter\", \"visible\": true, \"x\": [0.0, 0.01, 0.02, 0.030000000000000002, 0.04, 0.05], \"y\": [-0.04438379028423219, -0.6034629466017821, -1.535324422925144, -2.840858105624846, -3.6479737453757646, -5.108948160980921]}, {\"error_y\": {\"array\": [1.8006474478784775, 3.4889834786157983, 4.94831837857227, 6.433071152252573, 7.6568875351511405, 8.791442031744493], \"arrayminus\": [1.6164141709039974, 3.410860775512818, 5.104709488251493, 6.530036997433772, 7.779206209947806, 8.8092770890249], \"symmetric\": false, \"thickness\": 4, \"type\": \"data\", \"visible\": true}, \"line\": {\"color\": \"#2C7fB8\", \"width\": 4}, \"name\": \"10\", \"showlegend\": false, \"type\": \"scatter\", \"visible\": false, \"x\": [0.0, 0.01, 0.02, 0.030000000000000002, 0.04, 0.05], \"y\": [-0.39379287120341194, -1.5974216767199274, -2.8797630940219223, -4.1751258196386445, -6.2624456511458, -9.08522073778205]}, {\"error_y\": {\"array\": [3.9845286125278316, 6.0295263215256005, 7.757863223760958, 9.092047713223465, 10.01813002315786, 11.017197952077456], \"arrayminus\": [3.9695226472345495, 5.926197974762882, 8.012398442420505, 9.345678191969753, 10.559245533824834, 11.645098654273882], \"symmetric\": false, \"thickness\": 4, \"type\": \"data\", \"visible\": true}, \"line\": {\"color\": \"#41B6C4\", \"width\": 4}, \"name\": \"15\", \"showlegend\": false, \"type\": \"scatter\", \"visible\": false, \"x\": [0.0, 0.01, 0.02, 0.030000000000000002, 0.04, 0.05], \"y\": [-0.8397840515121796, -2.15538115902561, -3.4990315093833386, -5.848721727735317, -8.799458264684356, -11.653665525045628]}, {\"error_y\": {\"array\": [6.331335949032671, 9.082157374459362, 11.991593745629999, 13.655386237643402, 15.05985035855159, 15.69677039789238], \"arrayminus\": [10.690243849393733, 10.839964873136527, 12.272237200066744, 13.809521674825994, 15.330653487089798, 16.58929278603815], \"symmetric\": false, \"thickness\": 4, \"type\": \"data\", \"visible\": true}, \"line\": {\"color\": \"#A1DAB4\", \"width\": 4}, \"name\": \"30\", \"showlegend\": false, \"type\": \"scatter\", \"visible\": false, \"x\": [0.0, 0.01, 0.02, 0.030000000000000002, 0.04, 0.05], \"y\": [-1.6309355169535078, -4.097629032330385, -6.470137454132811, -9.183283096423942, -11.861865442318027, -15.688443616278462]}],                        {\"legend\": {\"x\": 0.3, \"xanchor\": \"right\", \"y\": 0.2, \"yanchor\": \"bottom\"}, \"plot_bgcolor\": \"#ffffff\", \"sliders\": [{\"active\": 4, \"currentvalue\": {\"prefix\": \"Temporal resolution [seconds]: \"}, \"pad\": {\"t\": 70}, \"steps\": [{\"args\": [{\"visible\": [true, false, false, false]}], \"label\": \"5\", \"method\": \"update\", \"value\": \"5\"}, {\"args\": [{\"visible\": [false, true, false, false]}], \"label\": \"10\", \"method\": \"update\", \"value\": \"10\"}, {\"args\": [{\"visible\": [false, false, true, false]}], \"label\": \"15\", \"method\": \"update\", \"value\": \"15\"}, {\"args\": [{\"visible\": [false, false, false, true]}], \"label\": \"30\", \"method\": \"update\", \"value\": \"30\"}]}], \"template\": {\"data\": {\"bar\": [{\"error_x\": {\"color\": \"#2a3f5f\"}, \"error_y\": {\"color\": \"#2a3f5f\"}, \"marker\": {\"line\": {\"color\": \"#E5ECF6\", \"width\": 0.5}}, \"type\": \"bar\"}], \"barpolar\": [{\"marker\": {\"line\": {\"color\": \"#E5ECF6\", \"width\": 0.5}}, \"type\": \"barpolar\"}], \"carpet\": [{\"aaxis\": {\"endlinecolor\": \"#2a3f5f\", \"gridcolor\": \"white\", \"linecolor\": \"white\", \"minorgridcolor\": \"white\", \"startlinecolor\": \"#2a3f5f\"}, \"baxis\": {\"endlinecolor\": \"#2a3f5f\", \"gridcolor\": \"white\", \"linecolor\": \"white\", \"minorgridcolor\": \"white\", \"startlinecolor\": \"#2a3f5f\"}, \"type\": \"carpet\"}], \"choropleth\": [{\"colorbar\": {\"outlinewidth\": 0, \"ticks\": \"\"}, \"type\": \"choropleth\"}], \"contour\": [{\"colorbar\": {\"outlinewidth\": 0, \"ticks\": \"\"}, \"colorscale\": [[0.0, \"#0d0887\"], [0.1111111111111111, \"#46039f\"], [0.2222222222222222, \"#7201a8\"], [0.3333333333333333, \"#9c179e\"], [0.4444444444444444, \"#bd3786\"], [0.5555555555555556, \"#d8576b\"], [0.6666666666666666, \"#ed7953\"], [0.7777777777777778, \"#fb9f3a\"], [0.8888888888888888, \"#fdca26\"], [1.0, \"#f0f921\"]], \"type\": \"contour\"}], \"contourcarpet\": [{\"colorbar\": {\"outlinewidth\": 0, \"ticks\": \"\"}, \"type\": \"contourcarpet\"}], \"heatmap\": [{\"colorbar\": {\"outlinewidth\": 0, \"ticks\": \"\"}, \"colorscale\": [[0.0, \"#0d0887\"], [0.1111111111111111, \"#46039f\"], [0.2222222222222222, \"#7201a8\"], [0.3333333333333333, \"#9c179e\"], [0.4444444444444444, \"#bd3786\"], [0.5555555555555556, \"#d8576b\"], [0.6666666666666666, \"#ed7953\"], [0.7777777777777778, \"#fb9f3a\"], [0.8888888888888888, \"#fdca26\"], [1.0, \"#f0f921\"]], \"type\": \"heatmap\"}], \"heatmapgl\": [{\"colorbar\": {\"outlinewidth\": 0, \"ticks\": \"\"}, \"colorscale\": [[0.0, \"#0d0887\"], [0.1111111111111111, \"#46039f\"], [0.2222222222222222, \"#7201a8\"], [0.3333333333333333, \"#9c179e\"], [0.4444444444444444, \"#bd3786\"], [0.5555555555555556, \"#d8576b\"], [0.6666666666666666, \"#ed7953\"], [0.7777777777777778, \"#fb9f3a\"], [0.8888888888888888, \"#fdca26\"], [1.0, \"#f0f921\"]], \"type\": \"heatmapgl\"}], \"histogram\": [{\"marker\": {\"colorbar\": {\"outlinewidth\": 0, \"ticks\": \"\"}}, \"type\": \"histogram\"}], \"histogram2d\": [{\"colorbar\": {\"outlinewidth\": 0, \"ticks\": \"\"}, \"colorscale\": [[0.0, \"#0d0887\"], [0.1111111111111111, \"#46039f\"], [0.2222222222222222, \"#7201a8\"], [0.3333333333333333, \"#9c179e\"], [0.4444444444444444, \"#bd3786\"], [0.5555555555555556, \"#d8576b\"], [0.6666666666666666, \"#ed7953\"], [0.7777777777777778, \"#fb9f3a\"], [0.8888888888888888, \"#fdca26\"], [1.0, \"#f0f921\"]], \"type\": \"histogram2d\"}], \"histogram2dcontour\": [{\"colorbar\": {\"outlinewidth\": 0, \"ticks\": \"\"}, \"colorscale\": [[0.0, \"#0d0887\"], [0.1111111111111111, \"#46039f\"], [0.2222222222222222, \"#7201a8\"], [0.3333333333333333, \"#9c179e\"], [0.4444444444444444, \"#bd3786\"], [0.5555555555555556, \"#d8576b\"], [0.6666666666666666, \"#ed7953\"], [0.7777777777777778, \"#fb9f3a\"], [0.8888888888888888, \"#fdca26\"], [1.0, \"#f0f921\"]], \"type\": \"histogram2dcontour\"}], \"mesh3d\": [{\"colorbar\": {\"outlinewidth\": 0, \"ticks\": \"\"}, \"type\": \"mesh3d\"}], \"parcoords\": [{\"line\": {\"colorbar\": {\"outlinewidth\": 0, \"ticks\": \"\"}}, \"type\": \"parcoords\"}], \"pie\": [{\"automargin\": true, \"type\": \"pie\"}], \"scatter\": [{\"marker\": {\"colorbar\": {\"outlinewidth\": 0, \"ticks\": \"\"}}, \"type\": \"scatter\"}], \"scatter3d\": [{\"line\": {\"colorbar\": {\"outlinewidth\": 0, \"ticks\": \"\"}}, \"marker\": {\"colorbar\": {\"outlinewidth\": 0, \"ticks\": \"\"}}, \"type\": \"scatter3d\"}], \"scattercarpet\": [{\"marker\": {\"colorbar\": {\"outlinewidth\": 0, \"ticks\": \"\"}}, \"type\": \"scattercarpet\"}], \"scattergeo\": [{\"marker\": {\"colorbar\": {\"outlinewidth\": 0, \"ticks\": \"\"}}, \"type\": \"scattergeo\"}], \"scattergl\": [{\"marker\": {\"colorbar\": {\"outlinewidth\": 0, \"ticks\": \"\"}}, \"type\": \"scattergl\"}], \"scattermapbox\": [{\"marker\": {\"colorbar\": {\"outlinewidth\": 0, \"ticks\": \"\"}}, \"type\": \"scattermapbox\"}], \"scatterpolar\": [{\"marker\": {\"colorbar\": {\"outlinewidth\": 0, \"ticks\": \"\"}}, \"type\": \"scatterpolar\"}], \"scatterpolargl\": [{\"marker\": {\"colorbar\": {\"outlinewidth\": 0, \"ticks\": \"\"}}, \"type\": \"scatterpolargl\"}], \"scatterternary\": [{\"marker\": {\"colorbar\": {\"outlinewidth\": 0, \"ticks\": \"\"}}, \"type\": \"scatterternary\"}], \"surface\": [{\"colorbar\": {\"outlinewidth\": 0, \"ticks\": \"\"}, \"colorscale\": [[0.0, \"#0d0887\"], [0.1111111111111111, \"#46039f\"], [0.2222222222222222, \"#7201a8\"], [0.3333333333333333, \"#9c179e\"], [0.4444444444444444, \"#bd3786\"], [0.5555555555555556, \"#d8576b\"], [0.6666666666666666, \"#ed7953\"], [0.7777777777777778, \"#fb9f3a\"], [0.8888888888888888, \"#fdca26\"], [1.0, \"#f0f921\"]], \"type\": \"surface\"}], \"table\": [{\"cells\": {\"fill\": {\"color\": \"#EBF0F8\"}, \"line\": {\"color\": \"white\"}}, \"header\": {\"fill\": {\"color\": \"#C8D4E3\"}, \"line\": {\"color\": \"white\"}}, \"type\": \"table\"}]}, \"layout\": {\"annotationdefaults\": {\"arrowcolor\": \"#2a3f5f\", \"arrowhead\": 0, \"arrowwidth\": 1}, \"autotypenumbers\": \"strict\", \"coloraxis\": {\"colorbar\": {\"outlinewidth\": 0, \"ticks\": \"\"}}, \"colorscale\": {\"diverging\": [[0, \"#8e0152\"], [0.1, \"#c51b7d\"], [0.2, \"#de77ae\"], [0.3, \"#f1b6da\"], [0.4, \"#fde0ef\"], [0.5, \"#f7f7f7\"], [0.6, \"#e6f5d0\"], [0.7, \"#b8e186\"], [0.8, \"#7fbc41\"], [0.9, \"#4d9221\"], [1, \"#276419\"]], \"sequential\": [[0.0, \"#0d0887\"], [0.1111111111111111, \"#46039f\"], [0.2222222222222222, \"#7201a8\"], [0.3333333333333333, \"#9c179e\"], [0.4444444444444444, \"#bd3786\"], [0.5555555555555556, \"#d8576b\"], [0.6666666666666666, \"#ed7953\"], [0.7777777777777778, \"#fb9f3a\"], [0.8888888888888888, \"#fdca26\"], [1.0, \"#f0f921\"]], \"sequentialminus\": [[0.0, \"#0d0887\"], [0.1111111111111111, \"#46039f\"], [0.2222222222222222, \"#7201a8\"], [0.3333333333333333, \"#9c179e\"], [0.4444444444444444, \"#bd3786\"], [0.5555555555555556, \"#d8576b\"], [0.6666666666666666, \"#ed7953\"], [0.7777777777777778, \"#fb9f3a\"], [0.8888888888888888, \"#fdca26\"], [1.0, \"#f0f921\"]]}, \"colorway\": [\"#636efa\", \"#EF553B\", \"#00cc96\", \"#ab63fa\", \"#FFA15A\", \"#19d3f3\", \"#FF6692\", \"#B6E880\", \"#FF97FF\", \"#FECB52\"], \"font\": {\"color\": \"#2a3f5f\"}, \"geo\": {\"bgcolor\": \"white\", \"lakecolor\": \"white\", \"landcolor\": \"#E5ECF6\", \"showlakes\": true, \"showland\": true, \"subunitcolor\": \"white\"}, \"hoverlabel\": {\"align\": \"left\"}, \"hovermode\": \"closest\", \"mapbox\": {\"style\": \"light\"}, \"paper_bgcolor\": \"white\", \"plot_bgcolor\": \"#E5ECF6\", \"polar\": {\"angularaxis\": {\"gridcolor\": \"white\", \"linecolor\": \"white\", \"ticks\": \"\"}, \"bgcolor\": \"#E5ECF6\", \"radialaxis\": {\"gridcolor\": \"white\", \"linecolor\": \"white\", \"ticks\": \"\"}}, \"scene\": {\"xaxis\": {\"backgroundcolor\": \"#E5ECF6\", \"gridcolor\": \"white\", \"gridwidth\": 2, \"linecolor\": \"white\", \"showbackground\": true, \"ticks\": \"\", \"zerolinecolor\": \"white\"}, \"yaxis\": {\"backgroundcolor\": \"#E5ECF6\", \"gridcolor\": \"white\", \"gridwidth\": 2, \"linecolor\": \"white\", \"showbackground\": true, \"ticks\": \"\", \"zerolinecolor\": \"white\"}, \"zaxis\": {\"backgroundcolor\": \"#E5ECF6\", \"gridcolor\": \"white\", \"gridwidth\": 2, \"linecolor\": \"white\", \"showbackground\": true, \"ticks\": \"\", \"zerolinecolor\": \"white\"}}, \"shapedefaults\": {\"line\": {\"color\": \"#2a3f5f\"}}, \"ternary\": {\"aaxis\": {\"gridcolor\": \"white\", \"linecolor\": \"white\", \"ticks\": \"\"}, \"baxis\": {\"gridcolor\": \"white\", \"linecolor\": \"white\", \"ticks\": \"\"}, \"bgcolor\": \"#E5ECF6\", \"caxis\": {\"gridcolor\": \"white\", \"linecolor\": \"white\", \"ticks\": \"\"}}, \"title\": {\"x\": 0.05}, \"xaxis\": {\"automargin\": true, \"gridcolor\": \"white\", \"linecolor\": \"white\", \"ticks\": \"\", \"title\": {\"standoff\": 15}, \"zerolinecolor\": \"white\", \"zerolinewidth\": 2}, \"yaxis\": {\"automargin\": true, \"gridcolor\": \"white\", \"linecolor\": \"white\", \"ticks\": \"\", \"title\": {\"standoff\": 15}, \"zerolinecolor\": \"white\", \"zerolinewidth\": 2}}}, \"title\": {\"text\": \"$V_{e}$\", \"x\": 0.5, \"xanchor\": \"center\"}, \"xaxis\": {\"title\": {\"text\": \"$\\\\sigma_{noise}[Mm]$\"}}, \"yaxis\": {\"range\": [-35, 5], \"showline\": true, \"tickvals\": [-35, -30, -25, -20, -15, -10, -5, 0, 5], \"title\": {\"text\": \"$Percent Error$\"}}},                        {\"responsive\": true}                    ).then(function(){\n",
       "                            \n",
       "var gd = document.getElementById('647c44fd-f6f7-42d3-9958-57dddec1b8bc');\n",
       "var x = new MutationObserver(function (mutations, observer) {{\n",
       "        var display = window.getComputedStyle(gd).display;\n",
       "        if (!display || display === 'none') {{\n",
       "            console.log([gd, 'removed!']);\n",
       "            Plotly.purge(gd);\n",
       "            observer.disconnect();\n",
       "        }}\n",
       "}});\n",
       "\n",
       "// Listen for the removal of the full notebook cells\n",
       "var notebookContainer = gd.closest('#notebook-container');\n",
       "if (notebookContainer) {{\n",
       "    x.observe(notebookContainer, {childList: true});\n",
       "}}\n",
       "\n",
       "// Listen for the clearing of the current output cell\n",
       "var outputEl = gd.closest('.output');\n",
       "if (outputEl) {{\n",
       "    x.observe(outputEl, {childList: true});\n",
       "}}\n",
       "\n",
       "                        })                };                });            </script>        </div>"
      ]
     },
     "metadata": {},
     "output_type": "display_data"
    }
   ],
   "source": [
    "file = loadmat('fig2andfig3vars.mat')\n",
    "\n",
    "listSigmaC = np.squeeze(np.asarray((np.reshape(file['listSigmaC'], 6))))\n",
    "\n",
    "curErr3 = file['curErr3']\n",
    "errQt3 = file['errQt3']\n",
    "errMd3 = file['errMd3']\n",
    "\n",
    "# First subplot\n",
    "line_colours = cycle(['#253494','#2C7fB8','#41B6C4','#A1DAB4'])\n",
    "legend_values=cycle(['5','10','15','30'])\n",
    "\n",
    "fig = go.Figure()\n",
    "for i in range(0,4):\n",
    "    finalErrMd3=np.squeeze(np.asarray((np.reshape(errMd3[i,:], 6))))\n",
    "    finalErrorDiff3=np.squeeze(np.asarray((np.reshape(abs(errQt3[i,:,0]-errMd3[i,:]), 6))))\n",
    "    finalErrorDiffMinus3=np.squeeze(np.asarray((np.reshape(abs(errQt3[i,:,1]-errMd3[i,:]), 6))))\n",
    "    fig.add_trace(go.Scatter(\n",
    "        visible=False,\n",
    "        x=listSigmaC,\n",
    "        y=finalErrMd3,\n",
    "        error_y=dict(\n",
    "            type='data', # value of error bar given in data coordinates\n",
    "            array=finalErrorDiff3,\n",
    "            arrayminus=finalErrorDiffMinus3,\n",
    "            symmetric=False,\n",
    "            visible=True,\n",
    "            thickness=4),\n",
    "        line_color=next(line_colours),\n",
    "        line_width=4, showlegend=False, name=next(legend_values)\n",
    "    ))\n",
    "    \n",
    "\n",
    "# Default value on the slider    \n",
    "fig.data[0].visible = True\n",
    "legend_values = [5, 10, 15, 30]\n",
    "\n",
    "# Create and add slider\n",
    "steps = []\n",
    "for i in range(len(fig.data)):\n",
    "    step = dict(\n",
    "        method=\"update\",\n",
    "        args=[{\"visible\": [False] * len(fig.data)}],  # layout attribute\n",
    "        value=legend_values[i],\n",
    "        label=legend_values[i]        \n",
    "    )\n",
    "    step[\"args\"][0][\"visible\"][i] = True  # Toggle i'th trace to \"visible\"\n",
    "    steps.append(step)\n",
    "\n",
    "sliders = [dict(\n",
    "    active=4,\n",
    "    currentvalue={\"prefix\": \"Temporal resolution [seconds]: \"},\n",
    "    pad={\"t\": 70}, #upper padding \n",
    "    steps=steps\n",
    ")]\n",
    "\n",
    "\n",
    "fig.update_xaxes(title_text=r'$\\sigma_{noise}[Mm]$')\n",
    "fig.update_layout(title=dict(text=r'$V_{e}$',\n",
    "                             x=0.5,\n",
    "                             xanchor='center'),\n",
    "                  yaxis=dict(title=r'$Percent Error$',\n",
    "                             showline=True,\n",
    "                             range=[-35,5],\n",
    "                             tickvals=[-35,-30,-25,-20,-15,-10,-5,0,5],\n",
    "                             ), \n",
    "                  plot_bgcolor='#ffffff',\n",
    "                  legend=dict(yanchor='bottom', y=0.20, xanchor='right', x=0.30),\n",
    "                  sliders=sliders)\n",
    "\n",
    "\n",
    "\n",
    "fig.show()"
   ]
  },
  {
   "cell_type": "markdown",
   "metadata": {
    "kernel": "SoS"
   },
   "source": [
    "## Figure 2 - second subfigure"
   ]
  },
  {
   "cell_type": "code",
   "execution_count": 108,
   "metadata": {
    "kernel": "SoS"
   },
   "outputs": [
    {
     "data": {
      "application/vnd.plotly.v1+json": {
       "config": {
        "plotlyServerURL": "https://plot.ly"
       },
       "data": [
        {
         "error_y": {
          "array": [
           0.07051594909662699,
           0.6493352353390648,
           1.26206355755313,
           1.916938883722445,
           2.5094576062734255,
           3.094479153885586
          ],
          "arrayminus": [
           0.0479680169727647,
           0.6409508299349927,
           1.261310678758149,
           1.8744532010956045,
           2.48097584861861,
           3.148323644182098
          ],
          "symmetric": false,
          "thickness": 4,
          "type": "data",
          "visible": true
         },
         "line": {
          "color": "#253494",
          "width": 4
         },
         "name": "5",
         "showlegend": false,
         "type": "scatter",
         "visible": true,
         "x": [
          0,
          0.01,
          0.02,
          0.030000000000000002,
          0.04,
          0.05
         ],
         "y": [
          -0.0077389559808756685,
          -0.03674820690460688,
          0.00865858844902766,
          -0.08586270399902093,
          -0.04630138731900571,
          -0.13524094505751766
         ]
        },
        {
         "error_y": {
          "array": [
           0.723119883608669,
           1.4298618579373912,
           2.154237838052885,
           2.8884520865762404,
           3.5046869284487316,
           4.25191434513858
          ],
          "arrayminus": [
           0.6033412915471031,
           1.462900521491468,
           2.2133011229290958,
           2.9737307255031444,
           3.70375681152764,
           4.494136727335778
          ],
          "symmetric": false,
          "thickness": 4,
          "type": "data",
          "visible": true
         },
         "line": {
          "color": "#2C7fB8",
          "width": 4
         },
         "name": "10",
         "showlegend": false,
         "type": "scatter",
         "visible": false,
         "x": [
          0,
          0.01,
          0.02,
          0.030000000000000002,
          0.04,
          0.05
         ],
         "y": [
          -0.040281031802152416,
          -0.13465821396930316,
          -0.14729938463811654,
          -0.22597202652150503,
          -0.2698759264722017,
          -0.3688527991199049
         ]
        },
        {
         "error_y": {
          "array": [
           1.5745243605141295,
           2.3124845129926426,
           3.245435752149273,
           4.064240818248648,
           4.731972112303385,
           5.485813095206851
          ],
          "arrayminus": [
           1.5837609252322171,
           2.518873976526632,
           3.4930481510799787,
           4.4115931997363145,
           5.231499679048538,
           6.0545652402215415
          ],
          "symmetric": false,
          "thickness": 4,
          "type": "data",
          "visible": true
         },
         "line": {
          "color": "#41B6C4",
          "width": 4
         },
         "name": "15",
         "showlegend": false,
         "type": "scatter",
         "visible": false,
         "x": [
          0,
          0.01,
          0.02,
          0.030000000000000002,
          0.04,
          0.05
         ],
         "y": [
          -0.009503527206472013,
          -0.12061129699859927,
          -0.1380237206970632,
          -0.22130071938180668,
          -0.28815322695375134,
          -0.511247326533728
         ]
        },
        {
         "error_y": {
          "array": [
           2.435785309046474,
           3.505428016376248,
           4.943608294166402,
           6.037810608254883,
           7.114310516600493,
           8.132038787420896
          ],
          "arrayminus": [
           4.4605197317468335,
           5.317690104072837,
           6.0836253774285405,
           7.088916426117104,
           8.06767392956371,
           8.949638873336882
          ],
          "symmetric": false,
          "thickness": 4,
          "type": "data",
          "visible": true
         },
         "line": {
          "color": "#A1DAB4",
          "width": 4
         },
         "name": "30",
         "showlegend": false,
         "type": "scatter",
         "visible": false,
         "x": [
          0,
          0.01,
          0.02,
          0.030000000000000002,
          0.04,
          0.05
         ],
         "y": [
          0.25610167902415504,
          0.17076869536710132,
          0.16211581530952385,
          0.18036872697459028,
          0.20814847487034116,
          -0.19821544202254976
         ]
        }
       ],
       "layout": {
        "legend": {
         "x": 0.3,
         "xanchor": "right",
         "y": 0.2,
         "yanchor": "bottom"
        },
        "plot_bgcolor": "#ffffff",
        "sliders": [
         {
          "active": 4,
          "currentvalue": {
           "prefix": "Temporal resolution [seconds]: "
          },
          "pad": {
           "t": 70
          },
          "steps": [
           {
            "args": [
             {
              "visible": [
               true,
               false,
               false,
               false
              ]
             }
            ],
            "label": "5",
            "method": "update",
            "value": "5"
           },
           {
            "args": [
             {
              "visible": [
               false,
               true,
               false,
               false
              ]
             }
            ],
            "label": "10",
            "method": "update",
            "value": "10"
           },
           {
            "args": [
             {
              "visible": [
               false,
               false,
               true,
               false
              ]
             }
            ],
            "label": "15",
            "method": "update",
            "value": "15"
           },
           {
            "args": [
             {
              "visible": [
               false,
               false,
               false,
               true
              ]
             }
            ],
            "label": "30",
            "method": "update",
            "value": "30"
           }
          ]
         }
        ],
        "template": {
         "data": {
          "bar": [
           {
            "error_x": {
             "color": "#2a3f5f"
            },
            "error_y": {
             "color": "#2a3f5f"
            },
            "marker": {
             "line": {
              "color": "#E5ECF6",
              "width": 0.5
             }
            },
            "type": "bar"
           }
          ],
          "barpolar": [
           {
            "marker": {
             "line": {
              "color": "#E5ECF6",
              "width": 0.5
             }
            },
            "type": "barpolar"
           }
          ],
          "carpet": [
           {
            "aaxis": {
             "endlinecolor": "#2a3f5f",
             "gridcolor": "white",
             "linecolor": "white",
             "minorgridcolor": "white",
             "startlinecolor": "#2a3f5f"
            },
            "baxis": {
             "endlinecolor": "#2a3f5f",
             "gridcolor": "white",
             "linecolor": "white",
             "minorgridcolor": "white",
             "startlinecolor": "#2a3f5f"
            },
            "type": "carpet"
           }
          ],
          "choropleth": [
           {
            "colorbar": {
             "outlinewidth": 0,
             "ticks": ""
            },
            "type": "choropleth"
           }
          ],
          "contour": [
           {
            "colorbar": {
             "outlinewidth": 0,
             "ticks": ""
            },
            "colorscale": [
             [
              0,
              "#0d0887"
             ],
             [
              0.1111111111111111,
              "#46039f"
             ],
             [
              0.2222222222222222,
              "#7201a8"
             ],
             [
              0.3333333333333333,
              "#9c179e"
             ],
             [
              0.4444444444444444,
              "#bd3786"
             ],
             [
              0.5555555555555556,
              "#d8576b"
             ],
             [
              0.6666666666666666,
              "#ed7953"
             ],
             [
              0.7777777777777778,
              "#fb9f3a"
             ],
             [
              0.8888888888888888,
              "#fdca26"
             ],
             [
              1,
              "#f0f921"
             ]
            ],
            "type": "contour"
           }
          ],
          "contourcarpet": [
           {
            "colorbar": {
             "outlinewidth": 0,
             "ticks": ""
            },
            "type": "contourcarpet"
           }
          ],
          "heatmap": [
           {
            "colorbar": {
             "outlinewidth": 0,
             "ticks": ""
            },
            "colorscale": [
             [
              0,
              "#0d0887"
             ],
             [
              0.1111111111111111,
              "#46039f"
             ],
             [
              0.2222222222222222,
              "#7201a8"
             ],
             [
              0.3333333333333333,
              "#9c179e"
             ],
             [
              0.4444444444444444,
              "#bd3786"
             ],
             [
              0.5555555555555556,
              "#d8576b"
             ],
             [
              0.6666666666666666,
              "#ed7953"
             ],
             [
              0.7777777777777778,
              "#fb9f3a"
             ],
             [
              0.8888888888888888,
              "#fdca26"
             ],
             [
              1,
              "#f0f921"
             ]
            ],
            "type": "heatmap"
           }
          ],
          "heatmapgl": [
           {
            "colorbar": {
             "outlinewidth": 0,
             "ticks": ""
            },
            "colorscale": [
             [
              0,
              "#0d0887"
             ],
             [
              0.1111111111111111,
              "#46039f"
             ],
             [
              0.2222222222222222,
              "#7201a8"
             ],
             [
              0.3333333333333333,
              "#9c179e"
             ],
             [
              0.4444444444444444,
              "#bd3786"
             ],
             [
              0.5555555555555556,
              "#d8576b"
             ],
             [
              0.6666666666666666,
              "#ed7953"
             ],
             [
              0.7777777777777778,
              "#fb9f3a"
             ],
             [
              0.8888888888888888,
              "#fdca26"
             ],
             [
              1,
              "#f0f921"
             ]
            ],
            "type": "heatmapgl"
           }
          ],
          "histogram": [
           {
            "marker": {
             "colorbar": {
              "outlinewidth": 0,
              "ticks": ""
             }
            },
            "type": "histogram"
           }
          ],
          "histogram2d": [
           {
            "colorbar": {
             "outlinewidth": 0,
             "ticks": ""
            },
            "colorscale": [
             [
              0,
              "#0d0887"
             ],
             [
              0.1111111111111111,
              "#46039f"
             ],
             [
              0.2222222222222222,
              "#7201a8"
             ],
             [
              0.3333333333333333,
              "#9c179e"
             ],
             [
              0.4444444444444444,
              "#bd3786"
             ],
             [
              0.5555555555555556,
              "#d8576b"
             ],
             [
              0.6666666666666666,
              "#ed7953"
             ],
             [
              0.7777777777777778,
              "#fb9f3a"
             ],
             [
              0.8888888888888888,
              "#fdca26"
             ],
             [
              1,
              "#f0f921"
             ]
            ],
            "type": "histogram2d"
           }
          ],
          "histogram2dcontour": [
           {
            "colorbar": {
             "outlinewidth": 0,
             "ticks": ""
            },
            "colorscale": [
             [
              0,
              "#0d0887"
             ],
             [
              0.1111111111111111,
              "#46039f"
             ],
             [
              0.2222222222222222,
              "#7201a8"
             ],
             [
              0.3333333333333333,
              "#9c179e"
             ],
             [
              0.4444444444444444,
              "#bd3786"
             ],
             [
              0.5555555555555556,
              "#d8576b"
             ],
             [
              0.6666666666666666,
              "#ed7953"
             ],
             [
              0.7777777777777778,
              "#fb9f3a"
             ],
             [
              0.8888888888888888,
              "#fdca26"
             ],
             [
              1,
              "#f0f921"
             ]
            ],
            "type": "histogram2dcontour"
           }
          ],
          "mesh3d": [
           {
            "colorbar": {
             "outlinewidth": 0,
             "ticks": ""
            },
            "type": "mesh3d"
           }
          ],
          "parcoords": [
           {
            "line": {
             "colorbar": {
              "outlinewidth": 0,
              "ticks": ""
             }
            },
            "type": "parcoords"
           }
          ],
          "pie": [
           {
            "automargin": true,
            "type": "pie"
           }
          ],
          "scatter": [
           {
            "marker": {
             "colorbar": {
              "outlinewidth": 0,
              "ticks": ""
             }
            },
            "type": "scatter"
           }
          ],
          "scatter3d": [
           {
            "line": {
             "colorbar": {
              "outlinewidth": 0,
              "ticks": ""
             }
            },
            "marker": {
             "colorbar": {
              "outlinewidth": 0,
              "ticks": ""
             }
            },
            "type": "scatter3d"
           }
          ],
          "scattercarpet": [
           {
            "marker": {
             "colorbar": {
              "outlinewidth": 0,
              "ticks": ""
             }
            },
            "type": "scattercarpet"
           }
          ],
          "scattergeo": [
           {
            "marker": {
             "colorbar": {
              "outlinewidth": 0,
              "ticks": ""
             }
            },
            "type": "scattergeo"
           }
          ],
          "scattergl": [
           {
            "marker": {
             "colorbar": {
              "outlinewidth": 0,
              "ticks": ""
             }
            },
            "type": "scattergl"
           }
          ],
          "scattermapbox": [
           {
            "marker": {
             "colorbar": {
              "outlinewidth": 0,
              "ticks": ""
             }
            },
            "type": "scattermapbox"
           }
          ],
          "scatterpolar": [
           {
            "marker": {
             "colorbar": {
              "outlinewidth": 0,
              "ticks": ""
             }
            },
            "type": "scatterpolar"
           }
          ],
          "scatterpolargl": [
           {
            "marker": {
             "colorbar": {
              "outlinewidth": 0,
              "ticks": ""
             }
            },
            "type": "scatterpolargl"
           }
          ],
          "scatterternary": [
           {
            "marker": {
             "colorbar": {
              "outlinewidth": 0,
              "ticks": ""
             }
            },
            "type": "scatterternary"
           }
          ],
          "surface": [
           {
            "colorbar": {
             "outlinewidth": 0,
             "ticks": ""
            },
            "colorscale": [
             [
              0,
              "#0d0887"
             ],
             [
              0.1111111111111111,
              "#46039f"
             ],
             [
              0.2222222222222222,
              "#7201a8"
             ],
             [
              0.3333333333333333,
              "#9c179e"
             ],
             [
              0.4444444444444444,
              "#bd3786"
             ],
             [
              0.5555555555555556,
              "#d8576b"
             ],
             [
              0.6666666666666666,
              "#ed7953"
             ],
             [
              0.7777777777777778,
              "#fb9f3a"
             ],
             [
              0.8888888888888888,
              "#fdca26"
             ],
             [
              1,
              "#f0f921"
             ]
            ],
            "type": "surface"
           }
          ],
          "table": [
           {
            "cells": {
             "fill": {
              "color": "#EBF0F8"
             },
             "line": {
              "color": "white"
             }
            },
            "header": {
             "fill": {
              "color": "#C8D4E3"
             },
             "line": {
              "color": "white"
             }
            },
            "type": "table"
           }
          ]
         },
         "layout": {
          "annotationdefaults": {
           "arrowcolor": "#2a3f5f",
           "arrowhead": 0,
           "arrowwidth": 1
          },
          "autotypenumbers": "strict",
          "coloraxis": {
           "colorbar": {
            "outlinewidth": 0,
            "ticks": ""
           }
          },
          "colorscale": {
           "diverging": [
            [
             0,
             "#8e0152"
            ],
            [
             0.1,
             "#c51b7d"
            ],
            [
             0.2,
             "#de77ae"
            ],
            [
             0.3,
             "#f1b6da"
            ],
            [
             0.4,
             "#fde0ef"
            ],
            [
             0.5,
             "#f7f7f7"
            ],
            [
             0.6,
             "#e6f5d0"
            ],
            [
             0.7,
             "#b8e186"
            ],
            [
             0.8,
             "#7fbc41"
            ],
            [
             0.9,
             "#4d9221"
            ],
            [
             1,
             "#276419"
            ]
           ],
           "sequential": [
            [
             0,
             "#0d0887"
            ],
            [
             0.1111111111111111,
             "#46039f"
            ],
            [
             0.2222222222222222,
             "#7201a8"
            ],
            [
             0.3333333333333333,
             "#9c179e"
            ],
            [
             0.4444444444444444,
             "#bd3786"
            ],
            [
             0.5555555555555556,
             "#d8576b"
            ],
            [
             0.6666666666666666,
             "#ed7953"
            ],
            [
             0.7777777777777778,
             "#fb9f3a"
            ],
            [
             0.8888888888888888,
             "#fdca26"
            ],
            [
             1,
             "#f0f921"
            ]
           ],
           "sequentialminus": [
            [
             0,
             "#0d0887"
            ],
            [
             0.1111111111111111,
             "#46039f"
            ],
            [
             0.2222222222222222,
             "#7201a8"
            ],
            [
             0.3333333333333333,
             "#9c179e"
            ],
            [
             0.4444444444444444,
             "#bd3786"
            ],
            [
             0.5555555555555556,
             "#d8576b"
            ],
            [
             0.6666666666666666,
             "#ed7953"
            ],
            [
             0.7777777777777778,
             "#fb9f3a"
            ],
            [
             0.8888888888888888,
             "#fdca26"
            ],
            [
             1,
             "#f0f921"
            ]
           ]
          },
          "colorway": [
           "#636efa",
           "#EF553B",
           "#00cc96",
           "#ab63fa",
           "#FFA15A",
           "#19d3f3",
           "#FF6692",
           "#B6E880",
           "#FF97FF",
           "#FECB52"
          ],
          "font": {
           "color": "#2a3f5f"
          },
          "geo": {
           "bgcolor": "white",
           "lakecolor": "white",
           "landcolor": "#E5ECF6",
           "showlakes": true,
           "showland": true,
           "subunitcolor": "white"
          },
          "hoverlabel": {
           "align": "left"
          },
          "hovermode": "closest",
          "mapbox": {
           "style": "light"
          },
          "paper_bgcolor": "white",
          "plot_bgcolor": "#E5ECF6",
          "polar": {
           "angularaxis": {
            "gridcolor": "white",
            "linecolor": "white",
            "ticks": ""
           },
           "bgcolor": "#E5ECF6",
           "radialaxis": {
            "gridcolor": "white",
            "linecolor": "white",
            "ticks": ""
           }
          },
          "scene": {
           "xaxis": {
            "backgroundcolor": "#E5ECF6",
            "gridcolor": "white",
            "gridwidth": 2,
            "linecolor": "white",
            "showbackground": true,
            "ticks": "",
            "zerolinecolor": "white"
           },
           "yaxis": {
            "backgroundcolor": "#E5ECF6",
            "gridcolor": "white",
            "gridwidth": 2,
            "linecolor": "white",
            "showbackground": true,
            "ticks": "",
            "zerolinecolor": "white"
           },
           "zaxis": {
            "backgroundcolor": "#E5ECF6",
            "gridcolor": "white",
            "gridwidth": 2,
            "linecolor": "white",
            "showbackground": true,
            "ticks": "",
            "zerolinecolor": "white"
           }
          },
          "shapedefaults": {
           "line": {
            "color": "#2a3f5f"
           }
          },
          "ternary": {
           "aaxis": {
            "gridcolor": "white",
            "linecolor": "white",
            "ticks": ""
           },
           "baxis": {
            "gridcolor": "white",
            "linecolor": "white",
            "ticks": ""
           },
           "bgcolor": "#E5ECF6",
           "caxis": {
            "gridcolor": "white",
            "linecolor": "white",
            "ticks": ""
           }
          },
          "title": {
           "x": 0.05
          },
          "xaxis": {
           "automargin": true,
           "gridcolor": "white",
           "linecolor": "white",
           "ticks": "",
           "title": {
            "standoff": 15
           },
           "zerolinecolor": "white",
           "zerolinewidth": 2
          },
          "yaxis": {
           "automargin": true,
           "gridcolor": "white",
           "linecolor": "white",
           "ticks": "",
           "title": {
            "standoff": 15
           },
           "zerolinecolor": "white",
           "zerolinewidth": 2
          }
         }
        },
        "title": {
         "text": "$V_{e}$",
         "x": 0.5,
         "xanchor": "center"
        },
        "xaxis": {
         "title": {
          "text": "$\\sigma_{noise}[Mm]$"
         }
        },
        "yaxis": {
         "range": [
          -10,
          10
         ],
         "showline": true,
         "tickvals": [
          -10,
          -5,
          0,
          5,
          10
         ],
         "title": {
          "text": "$Percent Error$"
         }
        }
       }
      },
      "text/html": [
       "<div>                            <div id=\"7a3d2d24-343b-4d28-93f0-f9e8f05cdf56\" class=\"plotly-graph-div\" style=\"height:525px; width:100%;\"></div>            <script type=\"text/javascript\">                require([\"plotly\"], function(Plotly) {                    window.PLOTLYENV=window.PLOTLYENV || {};                                    if (document.getElementById(\"7a3d2d24-343b-4d28-93f0-f9e8f05cdf56\")) {                    Plotly.newPlot(                        \"7a3d2d24-343b-4d28-93f0-f9e8f05cdf56\",                        [{\"error_y\": {\"array\": [0.07051594909662699, 0.6493352353390648, 1.26206355755313, 1.916938883722445, 2.5094576062734255, 3.094479153885586], \"arrayminus\": [0.0479680169727647, 0.6409508299349927, 1.261310678758149, 1.8744532010956045, 2.48097584861861, 3.148323644182098], \"symmetric\": false, \"thickness\": 4, \"type\": \"data\", \"visible\": true}, \"line\": {\"color\": \"#253494\", \"width\": 4}, \"name\": \"5\", \"showlegend\": false, \"type\": \"scatter\", \"visible\": true, \"x\": [0.0, 0.01, 0.02, 0.030000000000000002, 0.04, 0.05], \"y\": [-0.0077389559808756685, -0.03674820690460688, 0.00865858844902766, -0.08586270399902093, -0.04630138731900571, -0.13524094505751766]}, {\"error_y\": {\"array\": [0.723119883608669, 1.4298618579373912, 2.154237838052885, 2.8884520865762404, 3.5046869284487316, 4.25191434513858], \"arrayminus\": [0.6033412915471031, 1.462900521491468, 2.2133011229290958, 2.9737307255031444, 3.70375681152764, 4.494136727335778], \"symmetric\": false, \"thickness\": 4, \"type\": \"data\", \"visible\": true}, \"line\": {\"color\": \"#2C7fB8\", \"width\": 4}, \"name\": \"10\", \"showlegend\": false, \"type\": \"scatter\", \"visible\": false, \"x\": [0.0, 0.01, 0.02, 0.030000000000000002, 0.04, 0.05], \"y\": [-0.040281031802152416, -0.13465821396930316, -0.14729938463811654, -0.22597202652150503, -0.2698759264722017, -0.3688527991199049]}, {\"error_y\": {\"array\": [1.5745243605141295, 2.3124845129926426, 3.245435752149273, 4.064240818248648, 4.731972112303385, 5.485813095206851], \"arrayminus\": [1.5837609252322171, 2.518873976526632, 3.4930481510799787, 4.4115931997363145, 5.231499679048538, 6.0545652402215415], \"symmetric\": false, \"thickness\": 4, \"type\": \"data\", \"visible\": true}, \"line\": {\"color\": \"#41B6C4\", \"width\": 4}, \"name\": \"15\", \"showlegend\": false, \"type\": \"scatter\", \"visible\": false, \"x\": [0.0, 0.01, 0.02, 0.030000000000000002, 0.04, 0.05], \"y\": [-0.009503527206472013, -0.12061129699859927, -0.1380237206970632, -0.22130071938180668, -0.28815322695375134, -0.511247326533728]}, {\"error_y\": {\"array\": [2.435785309046474, 3.505428016376248, 4.943608294166402, 6.037810608254883, 7.114310516600493, 8.132038787420896], \"arrayminus\": [4.4605197317468335, 5.317690104072837, 6.0836253774285405, 7.088916426117104, 8.06767392956371, 8.949638873336882], \"symmetric\": false, \"thickness\": 4, \"type\": \"data\", \"visible\": true}, \"line\": {\"color\": \"#A1DAB4\", \"width\": 4}, \"name\": \"30\", \"showlegend\": false, \"type\": \"scatter\", \"visible\": false, \"x\": [0.0, 0.01, 0.02, 0.030000000000000002, 0.04, 0.05], \"y\": [0.25610167902415504, 0.17076869536710132, 0.16211581530952385, 0.18036872697459028, 0.20814847487034116, -0.19821544202254976]}],                        {\"legend\": {\"x\": 0.3, \"xanchor\": \"right\", \"y\": 0.2, \"yanchor\": \"bottom\"}, \"plot_bgcolor\": \"#ffffff\", \"sliders\": [{\"active\": 4, \"currentvalue\": {\"prefix\": \"Temporal resolution [seconds]: \"}, \"pad\": {\"t\": 70}, \"steps\": [{\"args\": [{\"visible\": [true, false, false, false]}], \"label\": \"5\", \"method\": \"update\", \"value\": \"5\"}, {\"args\": [{\"visible\": [false, true, false, false]}], \"label\": \"10\", \"method\": \"update\", \"value\": \"10\"}, {\"args\": [{\"visible\": [false, false, true, false]}], \"label\": \"15\", \"method\": \"update\", \"value\": \"15\"}, {\"args\": [{\"visible\": [false, false, false, true]}], \"label\": \"30\", \"method\": \"update\", \"value\": \"30\"}]}], \"template\": {\"data\": {\"bar\": [{\"error_x\": {\"color\": \"#2a3f5f\"}, \"error_y\": {\"color\": \"#2a3f5f\"}, \"marker\": {\"line\": {\"color\": \"#E5ECF6\", \"width\": 0.5}}, \"type\": \"bar\"}], \"barpolar\": [{\"marker\": {\"line\": {\"color\": \"#E5ECF6\", \"width\": 0.5}}, \"type\": \"barpolar\"}], \"carpet\": [{\"aaxis\": {\"endlinecolor\": \"#2a3f5f\", \"gridcolor\": \"white\", \"linecolor\": \"white\", \"minorgridcolor\": \"white\", \"startlinecolor\": \"#2a3f5f\"}, \"baxis\": {\"endlinecolor\": \"#2a3f5f\", \"gridcolor\": \"white\", \"linecolor\": \"white\", \"minorgridcolor\": \"white\", \"startlinecolor\": \"#2a3f5f\"}, \"type\": \"carpet\"}], \"choropleth\": [{\"colorbar\": {\"outlinewidth\": 0, \"ticks\": \"\"}, \"type\": \"choropleth\"}], \"contour\": [{\"colorbar\": {\"outlinewidth\": 0, \"ticks\": \"\"}, \"colorscale\": [[0.0, \"#0d0887\"], [0.1111111111111111, \"#46039f\"], [0.2222222222222222, \"#7201a8\"], [0.3333333333333333, \"#9c179e\"], [0.4444444444444444, \"#bd3786\"], [0.5555555555555556, \"#d8576b\"], [0.6666666666666666, \"#ed7953\"], [0.7777777777777778, \"#fb9f3a\"], [0.8888888888888888, \"#fdca26\"], [1.0, \"#f0f921\"]], \"type\": \"contour\"}], \"contourcarpet\": [{\"colorbar\": {\"outlinewidth\": 0, \"ticks\": \"\"}, \"type\": \"contourcarpet\"}], \"heatmap\": [{\"colorbar\": {\"outlinewidth\": 0, \"ticks\": \"\"}, \"colorscale\": [[0.0, \"#0d0887\"], [0.1111111111111111, \"#46039f\"], [0.2222222222222222, \"#7201a8\"], [0.3333333333333333, \"#9c179e\"], [0.4444444444444444, \"#bd3786\"], [0.5555555555555556, \"#d8576b\"], [0.6666666666666666, \"#ed7953\"], [0.7777777777777778, \"#fb9f3a\"], [0.8888888888888888, \"#fdca26\"], [1.0, \"#f0f921\"]], \"type\": \"heatmap\"}], \"heatmapgl\": [{\"colorbar\": {\"outlinewidth\": 0, \"ticks\": \"\"}, \"colorscale\": [[0.0, \"#0d0887\"], [0.1111111111111111, \"#46039f\"], [0.2222222222222222, \"#7201a8\"], [0.3333333333333333, \"#9c179e\"], [0.4444444444444444, \"#bd3786\"], [0.5555555555555556, \"#d8576b\"], [0.6666666666666666, \"#ed7953\"], [0.7777777777777778, \"#fb9f3a\"], [0.8888888888888888, \"#fdca26\"], [1.0, \"#f0f921\"]], \"type\": \"heatmapgl\"}], \"histogram\": [{\"marker\": {\"colorbar\": {\"outlinewidth\": 0, \"ticks\": \"\"}}, \"type\": \"histogram\"}], \"histogram2d\": [{\"colorbar\": {\"outlinewidth\": 0, \"ticks\": \"\"}, \"colorscale\": [[0.0, \"#0d0887\"], [0.1111111111111111, \"#46039f\"], [0.2222222222222222, \"#7201a8\"], [0.3333333333333333, \"#9c179e\"], [0.4444444444444444, \"#bd3786\"], [0.5555555555555556, \"#d8576b\"], [0.6666666666666666, \"#ed7953\"], [0.7777777777777778, \"#fb9f3a\"], [0.8888888888888888, \"#fdca26\"], [1.0, \"#f0f921\"]], \"type\": \"histogram2d\"}], \"histogram2dcontour\": [{\"colorbar\": {\"outlinewidth\": 0, \"ticks\": \"\"}, \"colorscale\": [[0.0, \"#0d0887\"], [0.1111111111111111, \"#46039f\"], [0.2222222222222222, \"#7201a8\"], [0.3333333333333333, \"#9c179e\"], [0.4444444444444444, \"#bd3786\"], [0.5555555555555556, \"#d8576b\"], [0.6666666666666666, \"#ed7953\"], [0.7777777777777778, \"#fb9f3a\"], [0.8888888888888888, \"#fdca26\"], [1.0, \"#f0f921\"]], \"type\": \"histogram2dcontour\"}], \"mesh3d\": [{\"colorbar\": {\"outlinewidth\": 0, \"ticks\": \"\"}, \"type\": \"mesh3d\"}], \"parcoords\": [{\"line\": {\"colorbar\": {\"outlinewidth\": 0, \"ticks\": \"\"}}, \"type\": \"parcoords\"}], \"pie\": [{\"automargin\": true, \"type\": \"pie\"}], \"scatter\": [{\"marker\": {\"colorbar\": {\"outlinewidth\": 0, \"ticks\": \"\"}}, \"type\": \"scatter\"}], \"scatter3d\": [{\"line\": {\"colorbar\": {\"outlinewidth\": 0, \"ticks\": \"\"}}, \"marker\": {\"colorbar\": {\"outlinewidth\": 0, \"ticks\": \"\"}}, \"type\": \"scatter3d\"}], \"scattercarpet\": [{\"marker\": {\"colorbar\": {\"outlinewidth\": 0, \"ticks\": \"\"}}, \"type\": \"scattercarpet\"}], \"scattergeo\": [{\"marker\": {\"colorbar\": {\"outlinewidth\": 0, \"ticks\": \"\"}}, \"type\": \"scattergeo\"}], \"scattergl\": [{\"marker\": {\"colorbar\": {\"outlinewidth\": 0, \"ticks\": \"\"}}, \"type\": \"scattergl\"}], \"scattermapbox\": [{\"marker\": {\"colorbar\": {\"outlinewidth\": 0, \"ticks\": \"\"}}, \"type\": \"scattermapbox\"}], \"scatterpolar\": [{\"marker\": {\"colorbar\": {\"outlinewidth\": 0, \"ticks\": \"\"}}, \"type\": \"scatterpolar\"}], \"scatterpolargl\": [{\"marker\": {\"colorbar\": {\"outlinewidth\": 0, \"ticks\": \"\"}}, \"type\": \"scatterpolargl\"}], \"scatterternary\": [{\"marker\": {\"colorbar\": {\"outlinewidth\": 0, \"ticks\": \"\"}}, \"type\": \"scatterternary\"}], \"surface\": [{\"colorbar\": {\"outlinewidth\": 0, \"ticks\": \"\"}, \"colorscale\": [[0.0, \"#0d0887\"], [0.1111111111111111, \"#46039f\"], [0.2222222222222222, \"#7201a8\"], [0.3333333333333333, \"#9c179e\"], [0.4444444444444444, \"#bd3786\"], [0.5555555555555556, \"#d8576b\"], [0.6666666666666666, \"#ed7953\"], [0.7777777777777778, \"#fb9f3a\"], [0.8888888888888888, \"#fdca26\"], [1.0, \"#f0f921\"]], \"type\": \"surface\"}], \"table\": [{\"cells\": {\"fill\": {\"color\": \"#EBF0F8\"}, \"line\": {\"color\": \"white\"}}, \"header\": {\"fill\": {\"color\": \"#C8D4E3\"}, \"line\": {\"color\": \"white\"}}, \"type\": \"table\"}]}, \"layout\": {\"annotationdefaults\": {\"arrowcolor\": \"#2a3f5f\", \"arrowhead\": 0, \"arrowwidth\": 1}, \"autotypenumbers\": \"strict\", \"coloraxis\": {\"colorbar\": {\"outlinewidth\": 0, \"ticks\": \"\"}}, \"colorscale\": {\"diverging\": [[0, \"#8e0152\"], [0.1, \"#c51b7d\"], [0.2, \"#de77ae\"], [0.3, \"#f1b6da\"], [0.4, \"#fde0ef\"], [0.5, \"#f7f7f7\"], [0.6, \"#e6f5d0\"], [0.7, \"#b8e186\"], [0.8, \"#7fbc41\"], [0.9, \"#4d9221\"], [1, \"#276419\"]], \"sequential\": [[0.0, \"#0d0887\"], [0.1111111111111111, \"#46039f\"], [0.2222222222222222, \"#7201a8\"], [0.3333333333333333, \"#9c179e\"], [0.4444444444444444, \"#bd3786\"], [0.5555555555555556, \"#d8576b\"], [0.6666666666666666, \"#ed7953\"], [0.7777777777777778, \"#fb9f3a\"], [0.8888888888888888, \"#fdca26\"], [1.0, \"#f0f921\"]], \"sequentialminus\": [[0.0, \"#0d0887\"], [0.1111111111111111, \"#46039f\"], [0.2222222222222222, \"#7201a8\"], [0.3333333333333333, \"#9c179e\"], [0.4444444444444444, \"#bd3786\"], [0.5555555555555556, \"#d8576b\"], [0.6666666666666666, \"#ed7953\"], [0.7777777777777778, \"#fb9f3a\"], [0.8888888888888888, \"#fdca26\"], [1.0, \"#f0f921\"]]}, \"colorway\": [\"#636efa\", \"#EF553B\", \"#00cc96\", \"#ab63fa\", \"#FFA15A\", \"#19d3f3\", \"#FF6692\", \"#B6E880\", \"#FF97FF\", \"#FECB52\"], \"font\": {\"color\": \"#2a3f5f\"}, \"geo\": {\"bgcolor\": \"white\", \"lakecolor\": \"white\", \"landcolor\": \"#E5ECF6\", \"showlakes\": true, \"showland\": true, \"subunitcolor\": \"white\"}, \"hoverlabel\": {\"align\": \"left\"}, \"hovermode\": \"closest\", \"mapbox\": {\"style\": \"light\"}, \"paper_bgcolor\": \"white\", \"plot_bgcolor\": \"#E5ECF6\", \"polar\": {\"angularaxis\": {\"gridcolor\": \"white\", \"linecolor\": \"white\", \"ticks\": \"\"}, \"bgcolor\": \"#E5ECF6\", \"radialaxis\": {\"gridcolor\": \"white\", \"linecolor\": \"white\", \"ticks\": \"\"}}, \"scene\": {\"xaxis\": {\"backgroundcolor\": \"#E5ECF6\", \"gridcolor\": \"white\", \"gridwidth\": 2, \"linecolor\": \"white\", \"showbackground\": true, \"ticks\": \"\", \"zerolinecolor\": \"white\"}, \"yaxis\": {\"backgroundcolor\": \"#E5ECF6\", \"gridcolor\": \"white\", \"gridwidth\": 2, \"linecolor\": \"white\", \"showbackground\": true, \"ticks\": \"\", \"zerolinecolor\": \"white\"}, \"zaxis\": {\"backgroundcolor\": \"#E5ECF6\", \"gridcolor\": \"white\", \"gridwidth\": 2, \"linecolor\": \"white\", \"showbackground\": true, \"ticks\": \"\", \"zerolinecolor\": \"white\"}}, \"shapedefaults\": {\"line\": {\"color\": \"#2a3f5f\"}}, \"ternary\": {\"aaxis\": {\"gridcolor\": \"white\", \"linecolor\": \"white\", \"ticks\": \"\"}, \"baxis\": {\"gridcolor\": \"white\", \"linecolor\": \"white\", \"ticks\": \"\"}, \"bgcolor\": \"#E5ECF6\", \"caxis\": {\"gridcolor\": \"white\", \"linecolor\": \"white\", \"ticks\": \"\"}}, \"title\": {\"x\": 0.05}, \"xaxis\": {\"automargin\": true, \"gridcolor\": \"white\", \"linecolor\": \"white\", \"ticks\": \"\", \"title\": {\"standoff\": 15}, \"zerolinecolor\": \"white\", \"zerolinewidth\": 2}, \"yaxis\": {\"automargin\": true, \"gridcolor\": \"white\", \"linecolor\": \"white\", \"ticks\": \"\", \"title\": {\"standoff\": 15}, \"zerolinecolor\": \"white\", \"zerolinewidth\": 2}}}, \"title\": {\"text\": \"$V_{e}$\", \"x\": 0.5, \"xanchor\": \"center\"}, \"xaxis\": {\"title\": {\"text\": \"$\\\\sigma_{noise}[Mm]$\"}}, \"yaxis\": {\"range\": [-10, 10], \"showline\": true, \"tickvals\": [-10, -5, 0, 5, 10], \"title\": {\"text\": \"$Percent Error$\"}}},                        {\"responsive\": true}                    ).then(function(){\n",
       "                            \n",
       "var gd = document.getElementById('7a3d2d24-343b-4d28-93f0-f9e8f05cdf56');\n",
       "var x = new MutationObserver(function (mutations, observer) {{\n",
       "        var display = window.getComputedStyle(gd).display;\n",
       "        if (!display || display === 'none') {{\n",
       "            console.log([gd, 'removed!']);\n",
       "            Plotly.purge(gd);\n",
       "            observer.disconnect();\n",
       "        }}\n",
       "}});\n",
       "\n",
       "// Listen for the removal of the full notebook cells\n",
       "var notebookContainer = gd.closest('#notebook-container');\n",
       "if (notebookContainer) {{\n",
       "    x.observe(notebookContainer, {childList: true});\n",
       "}}\n",
       "\n",
       "// Listen for the clearing of the current output cell\n",
       "var outputEl = gd.closest('.output');\n",
       "if (outputEl) {{\n",
       "    x.observe(outputEl, {childList: true});\n",
       "}}\n",
       "\n",
       "                        })                };                });            </script>        </div>"
      ]
     },
     "metadata": {},
     "output_type": "display_data"
    }
   ],
   "source": [
    "file = loadmat('fig2andfig3vars.mat')\n",
    "\n",
    "listSigmaC = np.squeeze(np.asarray((np.reshape(file['listSigmaC'], 6))))\n",
    "curErr4 = file['curErr4']\n",
    "errQt4 = file['errQt4']\n",
    "errMd4 = file['errMd4']\n",
    "\n",
    "# Second subplot\n",
    "\n",
    "line_colours = cycle(['#253494','#2C7fB8','#41B6C4','#A1DAB4'])\n",
    "legend_values=cycle(['5','10','15','30'])\n",
    "fig = go.Figure()\n",
    "\n",
    "for i in range(0,4):\n",
    "    finalErrMd4=np.squeeze(np.asarray((np.reshape(errMd4[i,:], 6))))\n",
    "    \n",
    "    finalErrorDiff4=np.squeeze(np.asarray((np.reshape(abs(errQt4[i,:,0]-errMd4[i,:]), 6))))\n",
    "    finalErrorDiffMinus4=np.squeeze(np.asarray((np.reshape(abs(errQt4[i,:,1]-errMd4[i,:]), 6))))\n",
    "    fig.add_trace(go.Scatter(\n",
    "        visible=False,\n",
    "        x=listSigmaC,\n",
    "        y=finalErrMd4,\n",
    "        error_y=dict(\n",
    "            type='data', # value of error bar given in data coordinates\n",
    "            array=finalErrorDiff4,\n",
    "            arrayminus=finalErrorDiffMinus4,\n",
    "            symmetric=False,\n",
    "            visible=True,\n",
    "            thickness=4),\n",
    "        line_color=next(line_colours),\n",
    "        line_width=4, showlegend=False, name=next(legend_values)       \n",
    "    ))\n",
    "    \n",
    "    \n",
    "# Default value on the slider    \n",
    "fig.data[0].visible = True\n",
    "\n",
    "legend_values = [5, 10, 15, 30]\n",
    "\n",
    "# Create and add slider\n",
    "steps = []\n",
    "for i in range(len(fig.data)):\n",
    "    step = dict(\n",
    "        method=\"update\",\n",
    "        args=[{\"visible\": [False] * len(fig.data)},\n",
    "#               {\"title\": \"Current value selected on slider: \" + str(legend_values[i])}\n",
    "             ],  # layout attribute\n",
    "        value=legend_values[i],\n",
    "        label=legend_values[i]        \n",
    "    )\n",
    "    step[\"args\"][0][\"visible\"][i] = True  # Toggle i'th trace to \"visible\"\n",
    "    steps.append(step)\n",
    "\n",
    "sliders = [dict(\n",
    "    active=4,\n",
    "    currentvalue={\"prefix\": \"Temporal resolution [seconds]: \"},\n",
    "    pad={\"t\": 70}, #upper padding \n",
    "    steps=steps\n",
    ")]\n",
    "\n",
    "\n",
    "fig.update_xaxes(title_text=r'$\\sigma_{noise}[Mm]$')\n",
    "fig.update_layout(title=dict(text=r'$V_{e}$',\n",
    "                             x=0.5,\n",
    "                             xanchor='center'),\n",
    "                  yaxis=dict(title=r'$Percent Error$',\n",
    "                             showline=True,\n",
    "                             range=[-10,10],\n",
    "                             tickvals=[-10,-5,0,5, 10],\n",
    "                             ), \n",
    "                  plot_bgcolor='#ffffff',\n",
    "                  legend=dict(yanchor='bottom', y=0.20, xanchor='right', x=0.30),\n",
    "                  sliders=sliders\n",
    ")\n",
    "\n",
    "\n",
    "fig.show()"
   ]
  },
  {
   "cell_type": "markdown",
   "metadata": {
    "kernel": "SoS"
   },
   "source": [
    "## Figure 2 - third subfigure"
   ]
  },
  {
   "cell_type": "code",
   "execution_count": 109,
   "metadata": {
    "kernel": "SoS"
   },
   "outputs": [
    {
     "data": {
      "application/vnd.plotly.v1+json": {
       "config": {
        "plotlyServerURL": "https://plot.ly"
       },
       "data": [
        {
         "error_y": {
          "array": [
           1.4734645817356464,
           5.4311030019435,
           10.221926739819905,
           14.590373912123727,
           18.95711081525033,
           22.886968824948447
          ],
          "arrayminus": [
           1.3822662645941381,
           5.820292003557516,
           11.062643736263999,
           16.354076872513538,
           20.79658224259464,
           26.02835769042838
          ],
          "symmetric": false,
          "thickness": 4,
          "type": "data",
          "visible": true
         },
         "line": {
          "color": "#253494",
          "width": 4
         },
         "name": "5",
         "showlegend": false,
         "type": "scatter",
         "visible": true,
         "x": [
          0,
          0.01,
          0.02,
          0.030000000000000002,
          0.04,
          0.05
         ],
         "y": [
          -0.09665537077041542,
          -0.7704244922641518,
          -1.862389031592554,
          -3.189505412658229,
          -4.337131857791137,
          -5.785422260551676
         ]
        },
        {
         "error_y": {
          "array": [
           17.911268739154803,
           20.790583123214528,
           24.659844901572168,
           28.42361475966391,
           31.62396356557594,
           35.33270126810652
          ],
          "arrayminus": [
           14.780587447429696,
           18.286114582846846,
           23.001340778161925,
           28.787016108749533,
           33.132889232843645,
           37.836836741208295
          ],
          "symmetric": false,
          "thickness": 4,
          "type": "data",
          "visible": true
         },
         "line": {
          "color": "#2C7fB8",
          "width": 4
         },
         "name": "10",
         "showlegend": false,
         "type": "scatter",
         "visible": false,
         "x": [
          0,
          0.01,
          0.02,
          0.030000000000000002,
          0.04,
          0.05
         ],
         "y": [
          0.7370468796232612,
          -0.7455632253245137,
          -2.4924630676286874,
          -3.8034504982100215,
          -6.5594688522769555,
          -9.353183800527571
         ]
        },
        {
         "error_y": {
          "array": [
           36.33974818492146,
           38.86790962173681,
           43.66062654276332,
           47.245967661525455,
           49.71716046681979,
           52.32607211517721
          ],
          "arrayminus": [
           39.11340934404259,
           40.63997092981247,
           45.31143841714891,
           49.37221352242837,
           52.9590266624049,
           56.269607800541266
          ],
          "symmetric": false,
          "thickness": 4,
          "type": "data",
          "visible": true
         },
         "line": {
          "color": "#41B6C4",
          "width": 4
         },
         "name": "15",
         "showlegend": false,
         "type": "scatter",
         "visible": false,
         "x": [
          0,
          0.01,
          0.02,
          0.030000000000000002,
          0.04,
          0.05
         ],
         "y": [
          -3.156760812981057,
          -3.7489543774530727,
          -4.7658686979612295,
          -6.620428180705764,
          -9.49540018181745,
          -12.646107981224251
         ]
        },
        {
         "error_y": {
          "array": [
           16.51036704677899,
           29.871271752405633,
           36.6578125530042,
           42.48035281726682,
           47.31447777850418,
           51.82693540787929
          ],
          "arrayminus": [
           108.0318123214555,
           102.10746366755784,
           109.38432429405694,
           115.20587830105833,
           120.35633700736264,
           121.0284069657477
          ],
          "symmetric": false,
          "thickness": 4,
          "type": "data",
          "visible": true
         },
         "line": {
          "color": "#A1DAB4",
          "width": 4
         },
         "name": "30",
         "showlegend": false,
         "type": "scatter",
         "visible": false,
         "x": [
          0,
          0.01,
          0.02,
          0.030000000000000002,
          0.04,
          0.05
         ],
         "y": [
          -52.962241753227055,
          -42.7257896927035,
          -39.90890498766327,
          -38.841243381584036,
          -39.45060173053297,
          -40.613977713591964
         ]
        }
       ],
       "layout": {
        "legend": {
         "x": 0.3,
         "xanchor": "right",
         "y": 0.2,
         "yanchor": "bottom"
        },
        "plot_bgcolor": "#ffffff",
        "sliders": [
         {
          "active": 4,
          "currentvalue": {
           "prefix": "Temporal resolution [seconds]: "
          },
          "pad": {
           "t": 70
          },
          "steps": [
           {
            "args": [
             {
              "visible": [
               true,
               false,
               false,
               false
              ]
             }
            ],
            "label": "5",
            "method": "update",
            "value": "5"
           },
           {
            "args": [
             {
              "visible": [
               false,
               true,
               false,
               false
              ]
             }
            ],
            "label": "10",
            "method": "update",
            "value": "10"
           },
           {
            "args": [
             {
              "visible": [
               false,
               false,
               true,
               false
              ]
             }
            ],
            "label": "15",
            "method": "update",
            "value": "15"
           },
           {
            "args": [
             {
              "visible": [
               false,
               false,
               false,
               true
              ]
             }
            ],
            "label": "30",
            "method": "update",
            "value": "30"
           }
          ]
         }
        ],
        "template": {
         "data": {
          "bar": [
           {
            "error_x": {
             "color": "#2a3f5f"
            },
            "error_y": {
             "color": "#2a3f5f"
            },
            "marker": {
             "line": {
              "color": "#E5ECF6",
              "width": 0.5
             }
            },
            "type": "bar"
           }
          ],
          "barpolar": [
           {
            "marker": {
             "line": {
              "color": "#E5ECF6",
              "width": 0.5
             }
            },
            "type": "barpolar"
           }
          ],
          "carpet": [
           {
            "aaxis": {
             "endlinecolor": "#2a3f5f",
             "gridcolor": "white",
             "linecolor": "white",
             "minorgridcolor": "white",
             "startlinecolor": "#2a3f5f"
            },
            "baxis": {
             "endlinecolor": "#2a3f5f",
             "gridcolor": "white",
             "linecolor": "white",
             "minorgridcolor": "white",
             "startlinecolor": "#2a3f5f"
            },
            "type": "carpet"
           }
          ],
          "choropleth": [
           {
            "colorbar": {
             "outlinewidth": 0,
             "ticks": ""
            },
            "type": "choropleth"
           }
          ],
          "contour": [
           {
            "colorbar": {
             "outlinewidth": 0,
             "ticks": ""
            },
            "colorscale": [
             [
              0,
              "#0d0887"
             ],
             [
              0.1111111111111111,
              "#46039f"
             ],
             [
              0.2222222222222222,
              "#7201a8"
             ],
             [
              0.3333333333333333,
              "#9c179e"
             ],
             [
              0.4444444444444444,
              "#bd3786"
             ],
             [
              0.5555555555555556,
              "#d8576b"
             ],
             [
              0.6666666666666666,
              "#ed7953"
             ],
             [
              0.7777777777777778,
              "#fb9f3a"
             ],
             [
              0.8888888888888888,
              "#fdca26"
             ],
             [
              1,
              "#f0f921"
             ]
            ],
            "type": "contour"
           }
          ],
          "contourcarpet": [
           {
            "colorbar": {
             "outlinewidth": 0,
             "ticks": ""
            },
            "type": "contourcarpet"
           }
          ],
          "heatmap": [
           {
            "colorbar": {
             "outlinewidth": 0,
             "ticks": ""
            },
            "colorscale": [
             [
              0,
              "#0d0887"
             ],
             [
              0.1111111111111111,
              "#46039f"
             ],
             [
              0.2222222222222222,
              "#7201a8"
             ],
             [
              0.3333333333333333,
              "#9c179e"
             ],
             [
              0.4444444444444444,
              "#bd3786"
             ],
             [
              0.5555555555555556,
              "#d8576b"
             ],
             [
              0.6666666666666666,
              "#ed7953"
             ],
             [
              0.7777777777777778,
              "#fb9f3a"
             ],
             [
              0.8888888888888888,
              "#fdca26"
             ],
             [
              1,
              "#f0f921"
             ]
            ],
            "type": "heatmap"
           }
          ],
          "heatmapgl": [
           {
            "colorbar": {
             "outlinewidth": 0,
             "ticks": ""
            },
            "colorscale": [
             [
              0,
              "#0d0887"
             ],
             [
              0.1111111111111111,
              "#46039f"
             ],
             [
              0.2222222222222222,
              "#7201a8"
             ],
             [
              0.3333333333333333,
              "#9c179e"
             ],
             [
              0.4444444444444444,
              "#bd3786"
             ],
             [
              0.5555555555555556,
              "#d8576b"
             ],
             [
              0.6666666666666666,
              "#ed7953"
             ],
             [
              0.7777777777777778,
              "#fb9f3a"
             ],
             [
              0.8888888888888888,
              "#fdca26"
             ],
             [
              1,
              "#f0f921"
             ]
            ],
            "type": "heatmapgl"
           }
          ],
          "histogram": [
           {
            "marker": {
             "colorbar": {
              "outlinewidth": 0,
              "ticks": ""
             }
            },
            "type": "histogram"
           }
          ],
          "histogram2d": [
           {
            "colorbar": {
             "outlinewidth": 0,
             "ticks": ""
            },
            "colorscale": [
             [
              0,
              "#0d0887"
             ],
             [
              0.1111111111111111,
              "#46039f"
             ],
             [
              0.2222222222222222,
              "#7201a8"
             ],
             [
              0.3333333333333333,
              "#9c179e"
             ],
             [
              0.4444444444444444,
              "#bd3786"
             ],
             [
              0.5555555555555556,
              "#d8576b"
             ],
             [
              0.6666666666666666,
              "#ed7953"
             ],
             [
              0.7777777777777778,
              "#fb9f3a"
             ],
             [
              0.8888888888888888,
              "#fdca26"
             ],
             [
              1,
              "#f0f921"
             ]
            ],
            "type": "histogram2d"
           }
          ],
          "histogram2dcontour": [
           {
            "colorbar": {
             "outlinewidth": 0,
             "ticks": ""
            },
            "colorscale": [
             [
              0,
              "#0d0887"
             ],
             [
              0.1111111111111111,
              "#46039f"
             ],
             [
              0.2222222222222222,
              "#7201a8"
             ],
             [
              0.3333333333333333,
              "#9c179e"
             ],
             [
              0.4444444444444444,
              "#bd3786"
             ],
             [
              0.5555555555555556,
              "#d8576b"
             ],
             [
              0.6666666666666666,
              "#ed7953"
             ],
             [
              0.7777777777777778,
              "#fb9f3a"
             ],
             [
              0.8888888888888888,
              "#fdca26"
             ],
             [
              1,
              "#f0f921"
             ]
            ],
            "type": "histogram2dcontour"
           }
          ],
          "mesh3d": [
           {
            "colorbar": {
             "outlinewidth": 0,
             "ticks": ""
            },
            "type": "mesh3d"
           }
          ],
          "parcoords": [
           {
            "line": {
             "colorbar": {
              "outlinewidth": 0,
              "ticks": ""
             }
            },
            "type": "parcoords"
           }
          ],
          "pie": [
           {
            "automargin": true,
            "type": "pie"
           }
          ],
          "scatter": [
           {
            "marker": {
             "colorbar": {
              "outlinewidth": 0,
              "ticks": ""
             }
            },
            "type": "scatter"
           }
          ],
          "scatter3d": [
           {
            "line": {
             "colorbar": {
              "outlinewidth": 0,
              "ticks": ""
             }
            },
            "marker": {
             "colorbar": {
              "outlinewidth": 0,
              "ticks": ""
             }
            },
            "type": "scatter3d"
           }
          ],
          "scattercarpet": [
           {
            "marker": {
             "colorbar": {
              "outlinewidth": 0,
              "ticks": ""
             }
            },
            "type": "scattercarpet"
           }
          ],
          "scattergeo": [
           {
            "marker": {
             "colorbar": {
              "outlinewidth": 0,
              "ticks": ""
             }
            },
            "type": "scattergeo"
           }
          ],
          "scattergl": [
           {
            "marker": {
             "colorbar": {
              "outlinewidth": 0,
              "ticks": ""
             }
            },
            "type": "scattergl"
           }
          ],
          "scattermapbox": [
           {
            "marker": {
             "colorbar": {
              "outlinewidth": 0,
              "ticks": ""
             }
            },
            "type": "scattermapbox"
           }
          ],
          "scatterpolar": [
           {
            "marker": {
             "colorbar": {
              "outlinewidth": 0,
              "ticks": ""
             }
            },
            "type": "scatterpolar"
           }
          ],
          "scatterpolargl": [
           {
            "marker": {
             "colorbar": {
              "outlinewidth": 0,
              "ticks": ""
             }
            },
            "type": "scatterpolargl"
           }
          ],
          "scatterternary": [
           {
            "marker": {
             "colorbar": {
              "outlinewidth": 0,
              "ticks": ""
             }
            },
            "type": "scatterternary"
           }
          ],
          "surface": [
           {
            "colorbar": {
             "outlinewidth": 0,
             "ticks": ""
            },
            "colorscale": [
             [
              0,
              "#0d0887"
             ],
             [
              0.1111111111111111,
              "#46039f"
             ],
             [
              0.2222222222222222,
              "#7201a8"
             ],
             [
              0.3333333333333333,
              "#9c179e"
             ],
             [
              0.4444444444444444,
              "#bd3786"
             ],
             [
              0.5555555555555556,
              "#d8576b"
             ],
             [
              0.6666666666666666,
              "#ed7953"
             ],
             [
              0.7777777777777778,
              "#fb9f3a"
             ],
             [
              0.8888888888888888,
              "#fdca26"
             ],
             [
              1,
              "#f0f921"
             ]
            ],
            "type": "surface"
           }
          ],
          "table": [
           {
            "cells": {
             "fill": {
              "color": "#EBF0F8"
             },
             "line": {
              "color": "white"
             }
            },
            "header": {
             "fill": {
              "color": "#C8D4E3"
             },
             "line": {
              "color": "white"
             }
            },
            "type": "table"
           }
          ]
         },
         "layout": {
          "annotationdefaults": {
           "arrowcolor": "#2a3f5f",
           "arrowhead": 0,
           "arrowwidth": 1
          },
          "autotypenumbers": "strict",
          "coloraxis": {
           "colorbar": {
            "outlinewidth": 0,
            "ticks": ""
           }
          },
          "colorscale": {
           "diverging": [
            [
             0,
             "#8e0152"
            ],
            [
             0.1,
             "#c51b7d"
            ],
            [
             0.2,
             "#de77ae"
            ],
            [
             0.3,
             "#f1b6da"
            ],
            [
             0.4,
             "#fde0ef"
            ],
            [
             0.5,
             "#f7f7f7"
            ],
            [
             0.6,
             "#e6f5d0"
            ],
            [
             0.7,
             "#b8e186"
            ],
            [
             0.8,
             "#7fbc41"
            ],
            [
             0.9,
             "#4d9221"
            ],
            [
             1,
             "#276419"
            ]
           ],
           "sequential": [
            [
             0,
             "#0d0887"
            ],
            [
             0.1111111111111111,
             "#46039f"
            ],
            [
             0.2222222222222222,
             "#7201a8"
            ],
            [
             0.3333333333333333,
             "#9c179e"
            ],
            [
             0.4444444444444444,
             "#bd3786"
            ],
            [
             0.5555555555555556,
             "#d8576b"
            ],
            [
             0.6666666666666666,
             "#ed7953"
            ],
            [
             0.7777777777777778,
             "#fb9f3a"
            ],
            [
             0.8888888888888888,
             "#fdca26"
            ],
            [
             1,
             "#f0f921"
            ]
           ],
           "sequentialminus": [
            [
             0,
             "#0d0887"
            ],
            [
             0.1111111111111111,
             "#46039f"
            ],
            [
             0.2222222222222222,
             "#7201a8"
            ],
            [
             0.3333333333333333,
             "#9c179e"
            ],
            [
             0.4444444444444444,
             "#bd3786"
            ],
            [
             0.5555555555555556,
             "#d8576b"
            ],
            [
             0.6666666666666666,
             "#ed7953"
            ],
            [
             0.7777777777777778,
             "#fb9f3a"
            ],
            [
             0.8888888888888888,
             "#fdca26"
            ],
            [
             1,
             "#f0f921"
            ]
           ]
          },
          "colorway": [
           "#636efa",
           "#EF553B",
           "#00cc96",
           "#ab63fa",
           "#FFA15A",
           "#19d3f3",
           "#FF6692",
           "#B6E880",
           "#FF97FF",
           "#FECB52"
          ],
          "font": {
           "color": "#2a3f5f"
          },
          "geo": {
           "bgcolor": "white",
           "lakecolor": "white",
           "landcolor": "#E5ECF6",
           "showlakes": true,
           "showland": true,
           "subunitcolor": "white"
          },
          "hoverlabel": {
           "align": "left"
          },
          "hovermode": "closest",
          "mapbox": {
           "style": "light"
          },
          "paper_bgcolor": "white",
          "plot_bgcolor": "#E5ECF6",
          "polar": {
           "angularaxis": {
            "gridcolor": "white",
            "linecolor": "white",
            "ticks": ""
           },
           "bgcolor": "#E5ECF6",
           "radialaxis": {
            "gridcolor": "white",
            "linecolor": "white",
            "ticks": ""
           }
          },
          "scene": {
           "xaxis": {
            "backgroundcolor": "#E5ECF6",
            "gridcolor": "white",
            "gridwidth": 2,
            "linecolor": "white",
            "showbackground": true,
            "ticks": "",
            "zerolinecolor": "white"
           },
           "yaxis": {
            "backgroundcolor": "#E5ECF6",
            "gridcolor": "white",
            "gridwidth": 2,
            "linecolor": "white",
            "showbackground": true,
            "ticks": "",
            "zerolinecolor": "white"
           },
           "zaxis": {
            "backgroundcolor": "#E5ECF6",
            "gridcolor": "white",
            "gridwidth": 2,
            "linecolor": "white",
            "showbackground": true,
            "ticks": "",
            "zerolinecolor": "white"
           }
          },
          "shapedefaults": {
           "line": {
            "color": "#2a3f5f"
           }
          },
          "ternary": {
           "aaxis": {
            "gridcolor": "white",
            "linecolor": "white",
            "ticks": ""
           },
           "baxis": {
            "gridcolor": "white",
            "linecolor": "white",
            "ticks": ""
           },
           "bgcolor": "#E5ECF6",
           "caxis": {
            "gridcolor": "white",
            "linecolor": "white",
            "ticks": ""
           }
          },
          "title": {
           "x": 0.05
          },
          "xaxis": {
           "automargin": true,
           "gridcolor": "white",
           "linecolor": "white",
           "ticks": "",
           "title": {
            "standoff": 15
           },
           "zerolinecolor": "white",
           "zerolinewidth": 2
          },
          "yaxis": {
           "automargin": true,
           "gridcolor": "white",
           "linecolor": "white",
           "ticks": "",
           "title": {
            "standoff": 15
           },
           "zerolinecolor": "white",
           "zerolinewidth": 2
          }
         }
        },
        "title": {
         "text": "$V_{p}$",
         "x": 0.5,
         "xanchor": "center"
        },
        "xaxis": {
         "title": {
          "text": "$\\sigma_{noise}[Mm]$"
         }
        },
        "yaxis": {
         "range": [
          -170,
          50
         ],
         "showline": true,
         "tickvals": [
          -160,
          -130,
          -100,
          -70,
          -40,
          -10,
          20,
          50
         ],
         "title": {
          "text": "$Percent Error$"
         }
        }
       }
      },
      "text/html": [
       "<div>                            <div id=\"385d2025-0221-40b9-9b41-0c9713a84cd3\" class=\"plotly-graph-div\" style=\"height:525px; width:100%;\"></div>            <script type=\"text/javascript\">                require([\"plotly\"], function(Plotly) {                    window.PLOTLYENV=window.PLOTLYENV || {};                                    if (document.getElementById(\"385d2025-0221-40b9-9b41-0c9713a84cd3\")) {                    Plotly.newPlot(                        \"385d2025-0221-40b9-9b41-0c9713a84cd3\",                        [{\"error_y\": {\"array\": [1.4734645817356464, 5.4311030019435, 10.221926739819905, 14.590373912123727, 18.95711081525033, 22.886968824948447], \"arrayminus\": [1.3822662645941381, 5.820292003557516, 11.062643736263999, 16.354076872513538, 20.79658224259464, 26.02835769042838], \"symmetric\": false, \"thickness\": 4, \"type\": \"data\", \"visible\": true}, \"line\": {\"color\": \"#253494\", \"width\": 4}, \"name\": \"5\", \"showlegend\": false, \"type\": \"scatter\", \"visible\": true, \"x\": [0.0, 0.01, 0.02, 0.030000000000000002, 0.04, 0.05], \"y\": [-0.09665537077041542, -0.7704244922641518, -1.862389031592554, -3.189505412658229, -4.337131857791137, -5.785422260551676]}, {\"error_y\": {\"array\": [17.911268739154803, 20.790583123214528, 24.659844901572168, 28.42361475966391, 31.62396356557594, 35.33270126810652], \"arrayminus\": [14.780587447429696, 18.286114582846846, 23.001340778161925, 28.787016108749533, 33.132889232843645, 37.836836741208295], \"symmetric\": false, \"thickness\": 4, \"type\": \"data\", \"visible\": true}, \"line\": {\"color\": \"#2C7fB8\", \"width\": 4}, \"name\": \"10\", \"showlegend\": false, \"type\": \"scatter\", \"visible\": false, \"x\": [0.0, 0.01, 0.02, 0.030000000000000002, 0.04, 0.05], \"y\": [0.7370468796232612, -0.7455632253245137, -2.4924630676286874, -3.8034504982100215, -6.5594688522769555, -9.353183800527571]}, {\"error_y\": {\"array\": [36.33974818492146, 38.86790962173681, 43.66062654276332, 47.245967661525455, 49.71716046681979, 52.32607211517721], \"arrayminus\": [39.11340934404259, 40.63997092981247, 45.31143841714891, 49.37221352242837, 52.9590266624049, 56.269607800541266], \"symmetric\": false, \"thickness\": 4, \"type\": \"data\", \"visible\": true}, \"line\": {\"color\": \"#41B6C4\", \"width\": 4}, \"name\": \"15\", \"showlegend\": false, \"type\": \"scatter\", \"visible\": false, \"x\": [0.0, 0.01, 0.02, 0.030000000000000002, 0.04, 0.05], \"y\": [-3.156760812981057, -3.7489543774530727, -4.7658686979612295, -6.620428180705764, -9.49540018181745, -12.646107981224251]}, {\"error_y\": {\"array\": [16.51036704677899, 29.871271752405633, 36.6578125530042, 42.48035281726682, 47.31447777850418, 51.82693540787929], \"arrayminus\": [108.0318123214555, 102.10746366755784, 109.38432429405694, 115.20587830105833, 120.35633700736264, 121.0284069657477], \"symmetric\": false, \"thickness\": 4, \"type\": \"data\", \"visible\": true}, \"line\": {\"color\": \"#A1DAB4\", \"width\": 4}, \"name\": \"30\", \"showlegend\": false, \"type\": \"scatter\", \"visible\": false, \"x\": [0.0, 0.01, 0.02, 0.030000000000000002, 0.04, 0.05], \"y\": [-52.962241753227055, -42.7257896927035, -39.90890498766327, -38.841243381584036, -39.45060173053297, -40.613977713591964]}],                        {\"legend\": {\"x\": 0.3, \"xanchor\": \"right\", \"y\": 0.2, \"yanchor\": \"bottom\"}, \"plot_bgcolor\": \"#ffffff\", \"sliders\": [{\"active\": 4, \"currentvalue\": {\"prefix\": \"Temporal resolution [seconds]: \"}, \"pad\": {\"t\": 70}, \"steps\": [{\"args\": [{\"visible\": [true, false, false, false]}], \"label\": \"5\", \"method\": \"update\", \"value\": \"5\"}, {\"args\": [{\"visible\": [false, true, false, false]}], \"label\": \"10\", \"method\": \"update\", \"value\": \"10\"}, {\"args\": [{\"visible\": [false, false, true, false]}], \"label\": \"15\", \"method\": \"update\", \"value\": \"15\"}, {\"args\": [{\"visible\": [false, false, false, true]}], \"label\": \"30\", \"method\": \"update\", \"value\": \"30\"}]}], \"template\": {\"data\": {\"bar\": [{\"error_x\": {\"color\": \"#2a3f5f\"}, \"error_y\": {\"color\": \"#2a3f5f\"}, \"marker\": {\"line\": {\"color\": \"#E5ECF6\", \"width\": 0.5}}, \"type\": \"bar\"}], \"barpolar\": [{\"marker\": {\"line\": {\"color\": \"#E5ECF6\", \"width\": 0.5}}, \"type\": \"barpolar\"}], \"carpet\": [{\"aaxis\": {\"endlinecolor\": \"#2a3f5f\", \"gridcolor\": \"white\", \"linecolor\": \"white\", \"minorgridcolor\": \"white\", \"startlinecolor\": \"#2a3f5f\"}, \"baxis\": {\"endlinecolor\": \"#2a3f5f\", \"gridcolor\": \"white\", \"linecolor\": \"white\", \"minorgridcolor\": \"white\", \"startlinecolor\": \"#2a3f5f\"}, \"type\": \"carpet\"}], \"choropleth\": [{\"colorbar\": {\"outlinewidth\": 0, \"ticks\": \"\"}, \"type\": \"choropleth\"}], \"contour\": [{\"colorbar\": {\"outlinewidth\": 0, \"ticks\": \"\"}, \"colorscale\": [[0.0, \"#0d0887\"], [0.1111111111111111, \"#46039f\"], [0.2222222222222222, \"#7201a8\"], [0.3333333333333333, \"#9c179e\"], [0.4444444444444444, \"#bd3786\"], [0.5555555555555556, \"#d8576b\"], [0.6666666666666666, \"#ed7953\"], [0.7777777777777778, \"#fb9f3a\"], [0.8888888888888888, \"#fdca26\"], [1.0, \"#f0f921\"]], \"type\": \"contour\"}], \"contourcarpet\": [{\"colorbar\": {\"outlinewidth\": 0, \"ticks\": \"\"}, \"type\": \"contourcarpet\"}], \"heatmap\": [{\"colorbar\": {\"outlinewidth\": 0, \"ticks\": \"\"}, \"colorscale\": [[0.0, \"#0d0887\"], [0.1111111111111111, \"#46039f\"], [0.2222222222222222, \"#7201a8\"], [0.3333333333333333, \"#9c179e\"], [0.4444444444444444, \"#bd3786\"], [0.5555555555555556, \"#d8576b\"], [0.6666666666666666, \"#ed7953\"], [0.7777777777777778, \"#fb9f3a\"], [0.8888888888888888, \"#fdca26\"], [1.0, \"#f0f921\"]], \"type\": \"heatmap\"}], \"heatmapgl\": [{\"colorbar\": {\"outlinewidth\": 0, \"ticks\": \"\"}, \"colorscale\": [[0.0, \"#0d0887\"], [0.1111111111111111, \"#46039f\"], [0.2222222222222222, \"#7201a8\"], [0.3333333333333333, \"#9c179e\"], [0.4444444444444444, \"#bd3786\"], [0.5555555555555556, \"#d8576b\"], [0.6666666666666666, \"#ed7953\"], [0.7777777777777778, \"#fb9f3a\"], [0.8888888888888888, \"#fdca26\"], [1.0, \"#f0f921\"]], \"type\": \"heatmapgl\"}], \"histogram\": [{\"marker\": {\"colorbar\": {\"outlinewidth\": 0, \"ticks\": \"\"}}, \"type\": \"histogram\"}], \"histogram2d\": [{\"colorbar\": {\"outlinewidth\": 0, \"ticks\": \"\"}, \"colorscale\": [[0.0, \"#0d0887\"], [0.1111111111111111, \"#46039f\"], [0.2222222222222222, \"#7201a8\"], [0.3333333333333333, \"#9c179e\"], [0.4444444444444444, \"#bd3786\"], [0.5555555555555556, \"#d8576b\"], [0.6666666666666666, \"#ed7953\"], [0.7777777777777778, \"#fb9f3a\"], [0.8888888888888888, \"#fdca26\"], [1.0, \"#f0f921\"]], \"type\": \"histogram2d\"}], \"histogram2dcontour\": [{\"colorbar\": {\"outlinewidth\": 0, \"ticks\": \"\"}, \"colorscale\": [[0.0, \"#0d0887\"], [0.1111111111111111, \"#46039f\"], [0.2222222222222222, \"#7201a8\"], [0.3333333333333333, \"#9c179e\"], [0.4444444444444444, \"#bd3786\"], [0.5555555555555556, \"#d8576b\"], [0.6666666666666666, \"#ed7953\"], [0.7777777777777778, \"#fb9f3a\"], [0.8888888888888888, \"#fdca26\"], [1.0, \"#f0f921\"]], \"type\": \"histogram2dcontour\"}], \"mesh3d\": [{\"colorbar\": {\"outlinewidth\": 0, \"ticks\": \"\"}, \"type\": \"mesh3d\"}], \"parcoords\": [{\"line\": {\"colorbar\": {\"outlinewidth\": 0, \"ticks\": \"\"}}, \"type\": \"parcoords\"}], \"pie\": [{\"automargin\": true, \"type\": \"pie\"}], \"scatter\": [{\"marker\": {\"colorbar\": {\"outlinewidth\": 0, \"ticks\": \"\"}}, \"type\": \"scatter\"}], \"scatter3d\": [{\"line\": {\"colorbar\": {\"outlinewidth\": 0, \"ticks\": \"\"}}, \"marker\": {\"colorbar\": {\"outlinewidth\": 0, \"ticks\": \"\"}}, \"type\": \"scatter3d\"}], \"scattercarpet\": [{\"marker\": {\"colorbar\": {\"outlinewidth\": 0, \"ticks\": \"\"}}, \"type\": \"scattercarpet\"}], \"scattergeo\": [{\"marker\": {\"colorbar\": {\"outlinewidth\": 0, \"ticks\": \"\"}}, \"type\": \"scattergeo\"}], \"scattergl\": [{\"marker\": {\"colorbar\": {\"outlinewidth\": 0, \"ticks\": \"\"}}, \"type\": \"scattergl\"}], \"scattermapbox\": [{\"marker\": {\"colorbar\": {\"outlinewidth\": 0, \"ticks\": \"\"}}, \"type\": \"scattermapbox\"}], \"scatterpolar\": [{\"marker\": {\"colorbar\": {\"outlinewidth\": 0, \"ticks\": \"\"}}, \"type\": \"scatterpolar\"}], \"scatterpolargl\": [{\"marker\": {\"colorbar\": {\"outlinewidth\": 0, \"ticks\": \"\"}}, \"type\": \"scatterpolargl\"}], \"scatterternary\": [{\"marker\": {\"colorbar\": {\"outlinewidth\": 0, \"ticks\": \"\"}}, \"type\": \"scatterternary\"}], \"surface\": [{\"colorbar\": {\"outlinewidth\": 0, \"ticks\": \"\"}, \"colorscale\": [[0.0, \"#0d0887\"], [0.1111111111111111, \"#46039f\"], [0.2222222222222222, \"#7201a8\"], [0.3333333333333333, \"#9c179e\"], [0.4444444444444444, \"#bd3786\"], [0.5555555555555556, \"#d8576b\"], [0.6666666666666666, \"#ed7953\"], [0.7777777777777778, \"#fb9f3a\"], [0.8888888888888888, \"#fdca26\"], [1.0, \"#f0f921\"]], \"type\": \"surface\"}], \"table\": [{\"cells\": {\"fill\": {\"color\": \"#EBF0F8\"}, \"line\": {\"color\": \"white\"}}, \"header\": {\"fill\": {\"color\": \"#C8D4E3\"}, \"line\": {\"color\": \"white\"}}, \"type\": \"table\"}]}, \"layout\": {\"annotationdefaults\": {\"arrowcolor\": \"#2a3f5f\", \"arrowhead\": 0, \"arrowwidth\": 1}, \"autotypenumbers\": \"strict\", \"coloraxis\": {\"colorbar\": {\"outlinewidth\": 0, \"ticks\": \"\"}}, \"colorscale\": {\"diverging\": [[0, \"#8e0152\"], [0.1, \"#c51b7d\"], [0.2, \"#de77ae\"], [0.3, \"#f1b6da\"], [0.4, \"#fde0ef\"], [0.5, \"#f7f7f7\"], [0.6, \"#e6f5d0\"], [0.7, \"#b8e186\"], [0.8, \"#7fbc41\"], [0.9, \"#4d9221\"], [1, \"#276419\"]], \"sequential\": [[0.0, \"#0d0887\"], [0.1111111111111111, \"#46039f\"], [0.2222222222222222, \"#7201a8\"], [0.3333333333333333, \"#9c179e\"], [0.4444444444444444, \"#bd3786\"], [0.5555555555555556, \"#d8576b\"], [0.6666666666666666, \"#ed7953\"], [0.7777777777777778, \"#fb9f3a\"], [0.8888888888888888, \"#fdca26\"], [1.0, \"#f0f921\"]], \"sequentialminus\": [[0.0, \"#0d0887\"], [0.1111111111111111, \"#46039f\"], [0.2222222222222222, \"#7201a8\"], [0.3333333333333333, \"#9c179e\"], [0.4444444444444444, \"#bd3786\"], [0.5555555555555556, \"#d8576b\"], [0.6666666666666666, \"#ed7953\"], [0.7777777777777778, \"#fb9f3a\"], [0.8888888888888888, \"#fdca26\"], [1.0, \"#f0f921\"]]}, \"colorway\": [\"#636efa\", \"#EF553B\", \"#00cc96\", \"#ab63fa\", \"#FFA15A\", \"#19d3f3\", \"#FF6692\", \"#B6E880\", \"#FF97FF\", \"#FECB52\"], \"font\": {\"color\": \"#2a3f5f\"}, \"geo\": {\"bgcolor\": \"white\", \"lakecolor\": \"white\", \"landcolor\": \"#E5ECF6\", \"showlakes\": true, \"showland\": true, \"subunitcolor\": \"white\"}, \"hoverlabel\": {\"align\": \"left\"}, \"hovermode\": \"closest\", \"mapbox\": {\"style\": \"light\"}, \"paper_bgcolor\": \"white\", \"plot_bgcolor\": \"#E5ECF6\", \"polar\": {\"angularaxis\": {\"gridcolor\": \"white\", \"linecolor\": \"white\", \"ticks\": \"\"}, \"bgcolor\": \"#E5ECF6\", \"radialaxis\": {\"gridcolor\": \"white\", \"linecolor\": \"white\", \"ticks\": \"\"}}, \"scene\": {\"xaxis\": {\"backgroundcolor\": \"#E5ECF6\", \"gridcolor\": \"white\", \"gridwidth\": 2, \"linecolor\": \"white\", \"showbackground\": true, \"ticks\": \"\", \"zerolinecolor\": \"white\"}, \"yaxis\": {\"backgroundcolor\": \"#E5ECF6\", \"gridcolor\": \"white\", \"gridwidth\": 2, \"linecolor\": \"white\", \"showbackground\": true, \"ticks\": \"\", \"zerolinecolor\": \"white\"}, \"zaxis\": {\"backgroundcolor\": \"#E5ECF6\", \"gridcolor\": \"white\", \"gridwidth\": 2, \"linecolor\": \"white\", \"showbackground\": true, \"ticks\": \"\", \"zerolinecolor\": \"white\"}}, \"shapedefaults\": {\"line\": {\"color\": \"#2a3f5f\"}}, \"ternary\": {\"aaxis\": {\"gridcolor\": \"white\", \"linecolor\": \"white\", \"ticks\": \"\"}, \"baxis\": {\"gridcolor\": \"white\", \"linecolor\": \"white\", \"ticks\": \"\"}, \"bgcolor\": \"#E5ECF6\", \"caxis\": {\"gridcolor\": \"white\", \"linecolor\": \"white\", \"ticks\": \"\"}}, \"title\": {\"x\": 0.05}, \"xaxis\": {\"automargin\": true, \"gridcolor\": \"white\", \"linecolor\": \"white\", \"ticks\": \"\", \"title\": {\"standoff\": 15}, \"zerolinecolor\": \"white\", \"zerolinewidth\": 2}, \"yaxis\": {\"automargin\": true, \"gridcolor\": \"white\", \"linecolor\": \"white\", \"ticks\": \"\", \"title\": {\"standoff\": 15}, \"zerolinecolor\": \"white\", \"zerolinewidth\": 2}}}, \"title\": {\"text\": \"$V_{p}$\", \"x\": 0.5, \"xanchor\": \"center\"}, \"xaxis\": {\"title\": {\"text\": \"$\\\\sigma_{noise}[Mm]$\"}}, \"yaxis\": {\"range\": [-170, 50], \"showline\": true, \"tickvals\": [-160, -130, -100, -70, -40, -10, 20, 50], \"title\": {\"text\": \"$Percent Error$\"}}},                        {\"responsive\": true}                    ).then(function(){\n",
       "                            \n",
       "var gd = document.getElementById('385d2025-0221-40b9-9b41-0c9713a84cd3');\n",
       "var x = new MutationObserver(function (mutations, observer) {{\n",
       "        var display = window.getComputedStyle(gd).display;\n",
       "        if (!display || display === 'none') {{\n",
       "            console.log([gd, 'removed!']);\n",
       "            Plotly.purge(gd);\n",
       "            observer.disconnect();\n",
       "        }}\n",
       "}});\n",
       "\n",
       "// Listen for the removal of the full notebook cells\n",
       "var notebookContainer = gd.closest('#notebook-container');\n",
       "if (notebookContainer) {{\n",
       "    x.observe(notebookContainer, {childList: true});\n",
       "}}\n",
       "\n",
       "// Listen for the clearing of the current output cell\n",
       "var outputEl = gd.closest('.output');\n",
       "if (outputEl) {{\n",
       "    x.observe(outputEl, {childList: true});\n",
       "}}\n",
       "\n",
       "                        })                };                });            </script>        </div>"
      ]
     },
     "metadata": {},
     "output_type": "display_data"
    }
   ],
   "source": [
    "file = loadmat('fig2andfig3vars.mat')\n",
    "\n",
    "listSigmaC = np.squeeze(np.asarray((np.reshape(file['listSigmaC'], 6))))\n",
    "curErr5 = file['curErr5']\n",
    "errQt5 = file['errQt5']\n",
    "errMd5 = file['errMd5']\n",
    "\n",
    "\n",
    "# Third subplot\n",
    "\n",
    "fig = go.Figure()\n",
    "line_colours = cycle(['#253494','#2C7fB8','#41B6C4','#A1DAB4'])\n",
    "legend_values=cycle(['5','10','15','30'])\n",
    "for i in range(0,4):\n",
    "    finalErrMd5=np.squeeze(np.asarray((np.reshape(errMd5[i,:], 6))))\n",
    "    finalErrorDiff5=np.squeeze(np.asarray((np.reshape(abs(errQt5[i,:,0]-errMd5[i,:]), 6))))\n",
    "    finalErrorDiffMinus5=np.squeeze(np.asarray((np.reshape(abs(errQt5[i,:,1]-errMd5[i,:]), 6))))\n",
    "    fig.add_trace(go.Scatter(\n",
    "        visible=False,\n",
    "        x=listSigmaC,\n",
    "        y=finalErrMd5,\n",
    "        error_y=dict(\n",
    "            type='data', # value of error bar given in data coordinates\n",
    "            array=finalErrorDiff5,\n",
    "            arrayminus=finalErrorDiffMinus5,\n",
    "            symmetric=False,\n",
    "            visible=True,\n",
    "            thickness=4),\n",
    "        line_color=next(line_colours),\n",
    "        line_width=4, showlegend=False, name=next(legend_values)) \n",
    "    )\n",
    "    \n",
    "    \n",
    "# Default value on the slider    \n",
    "fig.data[0].visible = True\n",
    "\n",
    "legend_values = [5, 10, 15, 30]\n",
    "\n",
    "# Create and add slider\n",
    "steps = []\n",
    "for i in range(len(fig.data)):\n",
    "    step = dict(\n",
    "        method=\"update\",\n",
    "        args=[{\"visible\": [False] * len(fig.data)}],\n",
    "        value=legend_values[i],\n",
    "        label=legend_values[i]        \n",
    "    )\n",
    "    step[\"args\"][0][\"visible\"][i] = True  # Toggle i'th trace to \"visible\"\n",
    "    steps.append(step)\n",
    "\n",
    "sliders = [dict(\n",
    "    active=4,\n",
    "    currentvalue={\"prefix\": \"Temporal resolution [seconds]: \"},\n",
    "    pad={\"t\": 70}, #upper padding \n",
    "    steps=steps\n",
    ")]\n",
    "\n",
    "\n",
    "fig.update_xaxes(title_text=r'$\\sigma_{noise}[Mm]$')\n",
    "fig.update_layout(title=dict(text=r'$V_{p}$',\n",
    "                             x=0.5,\n",
    "                             xanchor='center'),\n",
    "                  yaxis=dict(title=r'$Percent Error$',\n",
    "                             showline=True,\n",
    "                             range=[-170,50],\n",
    "                             tickvals=[-160,-130,-100,-70,-40,-10,20,50],\n",
    "                             ), \n",
    "                  plot_bgcolor='#ffffff',\n",
    "                  legend=dict(yanchor='bottom', y=0.20, xanchor='right', x=0.30),\n",
    "                  sliders=sliders\n",
    ")\n",
    "\n",
    "\n",
    "fig.show()"
   ]
  },
  {
   "cell_type": "markdown",
   "metadata": {
    "kernel": "SoS"
   },
   "source": [
    "# Figure 3"
   ]
  },
  {
   "cell_type": "code",
   "execution_count": 100,
   "metadata": {
    "kernel": "SoS"
   },
   "outputs": [
    {
     "data": {
      "application/vnd.plotly.v1+json": {
       "config": {
        "plotlyServerURL": "https://plot.ly"
       },
       "data": [
        {
         "error_y": {
          "array": [
           0.03388139495298925,
           0.7404281711346938,
           1.4658835655797455,
           2.129988761342605,
           2.660829314126473,
           3.016120656885529
          ],
          "arrayminus": [
           0.03991063959919994,
           0.7324514722922115,
           1.5825915928927126,
           2.1019365644807717,
           2.45474965074789,
           3.008280181452816
          ],
          "symmetric": false,
          "thickness": 4,
          "type": "data",
          "visible": true
         },
         "legendgroup": "0",
         "line": {
          "color": "#006837",
          "width": 4
         },
         "name": "5",
         "showlegend": false,
         "type": "scatter",
         "x": [
          0,
          0.01,
          0.02,
          0.030000000000000002,
          0.04,
          0.05
         ],
         "xaxis": "x",
         "y": [
          -0.04747548340481855,
          -0.6308295631378968,
          -1.6567340832072786,
          -2.8054493607440945,
          -3.6836849713625943,
          -4.975374394849497
         ],
         "yaxis": "y"
        },
        {
         "error_y": {
          "array": [
           0.4277464509514939,
           1.2560218129175849,
           1.9880118920301335,
           3.2227744269238023,
           3.755097657175998,
           3.2998920988873977
          ],
          "arrayminus": [
           0.3607453075580913,
           1.308007924190474,
           2.2136205789399788,
           2.780317074085609,
           3.3913166621801167,
           3.9727700216417077
          ],
          "symmetric": false,
          "thickness": 4,
          "type": "data",
          "visible": true
         },
         "legendgroup": "1",
         "line": {
          "color": "#31A354",
          "width": 4
         },
         "name": "10",
         "showlegend": false,
         "type": "scatter",
         "x": [
          0,
          0.01,
          0.02,
          0.030000000000000002,
          0.04,
          0.05
         ],
         "xaxis": "x",
         "y": [
          -0.2986318818728184,
          -1.3946955753039614,
          -2.724839365549836,
          -3.6806795407376747,
          -5.758618691497109,
          -8.812282777007058
         ],
         "yaxis": "y"
        },
        {
         "error_y": {
          "array": [
           0.9370348617132152,
           1.9398213719655004,
           2.927532083544132,
           3.410028193781095,
           3.7740218137168444,
           4.492239530887783
          ],
          "arrayminus": [
           0.8652251872720007,
           1.905923492675099,
           2.8108260048883063,
           3.403025938670911,
           3.7731314318001363,
           4.196564304365684
          ],
          "symmetric": false,
          "thickness": 4,
          "type": "data",
          "visible": true
         },
         "legendgroup": "2",
         "line": {
          "color": "#78C679",
          "width": 4
         },
         "name": "15",
         "showlegend": false,
         "type": "scatter",
         "x": [
          0,
          0.01,
          0.02,
          0.030000000000000002,
          0.04,
          0.05
         ],
         "xaxis": "x",
         "y": [
          -0.8457073530692027,
          -2.0758457285490195,
          -3.1512208895249474,
          -5.269536609424518,
          -7.973999490010042,
          -10.334319490708559
         ],
         "yaxis": "y"
        },
        {
         "error_y": {
          "array": [
           1.1335727023198516,
           2.5229083167114528,
           3.8737304430633674,
           4.485306162005974,
           4.887906186538647,
           5.406392513182912
          ],
          "arrayminus": [
           1.2346075421084457,
           2.687406842837115,
           3.7906620271234366,
           4.424035689139599,
           4.82989241413193,
           5.31934866289318
          ],
          "symmetric": false,
          "thickness": 4,
          "type": "data",
          "visible": true
         },
         "legendgroup": "3",
         "line": {
          "color": "#C2E699",
          "width": 4
         },
         "name": "30",
         "showlegend": false,
         "type": "scatter",
         "x": [
          0,
          0.01,
          0.02,
          0.030000000000000002,
          0.04,
          0.05
         ],
         "xaxis": "x",
         "y": [
          -3.307880273248387,
          -5.731790258306175,
          -7.677269738095182,
          -9.695654042240742,
          -12.052555466436065,
          -14.7560365591039
         ],
         "yaxis": "y"
        },
        {
         "error_y": {
          "array": [
           0.0396097111738321,
           0.9243669996149383,
           1.6374510496488486,
           2.502972164491071,
           3.1687734120877273,
           3.724663670542242
          ],
          "arrayminus": [
           0.0468899686697757,
           0.9231686503425456,
           2.0968710282389926,
           2.542604277632318,
           3.0144069480034124,
           3.648433915352354
          ],
          "symmetric": false,
          "thickness": 4,
          "type": "data",
          "visible": true
         },
         "legendgroup": "0",
         "line": {
          "color": "#006837",
          "width": 4
         },
         "name": "5",
         "showlegend": false,
         "type": "scatter",
         "x": [
          0,
          0.01,
          0.02,
          0.030000000000000002,
          0.04,
          0.05
         ],
         "xaxis": "x2",
         "y": [
          -0.059454023876958396,
          -0.788325336469896,
          -1.9626751915599692,
          -3.333475084465901,
          -4.27814996707354,
          -5.838137427962575
         ],
         "yaxis": "y2"
        },
        {
         "error_y": {
          "array": [
           0.5000132099899417,
           1.4614313011496578,
           2.3881865619910068,
           3.608384031136488,
           4.088866998788497,
           4.379391949104212
          ],
          "arrayminus": [
           0.4246154324457391,
           1.522148452798379,
           2.6838989208051145,
           3.3260537076144994,
           4.149920810868216,
           4.480393755043432
          ],
          "symmetric": false,
          "thickness": 4,
          "type": "data",
          "visible": true
         },
         "legendgroup": "1",
         "line": {
          "color": "#31A354",
          "width": 4
         },
         "name": "10",
         "showlegend": false,
         "type": "scatter",
         "x": [
          0,
          0.01,
          0.02,
          0.030000000000000002,
          0.04,
          0.05
         ],
         "xaxis": "x2",
         "y": [
          -0.366282506451533,
          -1.6606523700984028,
          -3.167625100943469,
          -4.4039100911217055,
          -6.86935704932251,
          -10.21534742812547
         ],
         "yaxis": "y2"
        },
        {
         "error_y": {
          "array": [
           1.0974031068336894,
           2.3073467882808023,
           3.5235888090674443,
           3.9997375210428947,
           4.549556499722403,
           5.459908950473077
          ],
          "arrayminus": [
           1.0208994436644678,
           2.264924948294738,
           3.3836810385892897,
           4.014361866053958,
           4.341355937093935,
           5.195609295232859
          ],
          "symmetric": false,
          "thickness": 4,
          "type": "data",
          "visible": true
         },
         "legendgroup": "2",
         "line": {
          "color": "#78C679",
          "width": 4
         },
         "name": "15",
         "showlegend": false,
         "type": "scatter",
         "x": [
          0,
          0.01,
          0.02,
          0.030000000000000002,
          0.04,
          0.05
         ],
         "xaxis": "x2",
         "y": [
          -1.0318969881786622,
          -2.5228821686112264,
          -3.7622350875823187,
          -6.28629793126217,
          -9.26781639562255,
          -12.370000422912705
         ],
         "yaxis": "y2"
        },
        {
         "error_y": {
          "array": [
           1.3194509267232544,
           3.01607807503164,
           4.9707429864873784,
           5.480480656468945,
           6.295555973442278,
           6.795753471239166
          ],
          "arrayminus": [
           1.4761875948241068,
           3.181978181616487,
           4.794276504599047,
           5.181825701884325,
           5.816023930121313,
           6.441504827827075
          ],
          "symmetric": false,
          "thickness": 4,
          "type": "data",
          "visible": true
         },
         "legendgroup": "3",
         "line": {
          "color": "#C2E699",
          "width": 4
         },
         "name": "30",
         "showlegend": false,
         "type": "scatter",
         "x": [
          0,
          0.01,
          0.02,
          0.030000000000000002,
          0.04,
          0.05
         ],
         "xaxis": "x2",
         "y": [
          -4.051053401847721,
          -6.847158498672037,
          -9.219976174411654,
          -11.52962873035601,
          -14.111182281868144,
          -17.656492866257175
         ],
         "yaxis": "y2"
        },
        {
         "error_y": {
          "array": [
           0.00582273931784957,
           0.2524024262627699,
           0.5183567978538182,
           0.8231535893039281,
           1.0651930993430379,
           1.2515997631621805
          ],
          "arrayminus": [
           0.006934136214089715,
           0.2638382085960832,
           0.5789810603262878,
           0.7952206584376151,
           0.9246959898332998,
           1.2805222501866491
          ],
          "symmetric": false,
          "thickness": 4,
          "type": "data",
          "visible": true
         },
         "legendgroup": "0",
         "line": {
          "color": "#006837",
          "width": 4
         },
         "name": "5",
         "showlegend": true,
         "type": "scatter",
         "x": [
          0,
          0.01,
          0.02,
          0.030000000000000002,
          0.04,
          0.05
         ],
         "xaxis": "x3",
         "y": [
          -0.011936536038461721,
          -0.1394902825714286,
          -0.250383398624874,
          -0.52829202070101,
          -0.5899815685539631,
          -0.9459100499807735
         ],
         "yaxis": "y3"
        },
        {
         "error_y": {
          "array": [
           0.07539197031757831,
           0.3743679890540792,
           0.6440136995463404,
           0.9534639311359735,
           1.250953568438478,
           1.543903581567248
          ],
          "arrayminus": [
           0.06382579037704901,
           0.2996578367664624,
           0.6196819366037101,
           0.8550009204853571,
           1.218587560727961,
           1.5793437689185845
          ],
          "symmetric": false,
          "thickness": 4,
          "type": "data",
          "visible": true
         },
         "legendgroup": "1",
         "line": {
          "color": "#31A354",
          "width": 4
         },
         "name": "10",
         "showlegend": true,
         "type": "scatter",
         "x": [
          0,
          0.01,
          0.02,
          0.030000000000000002,
          0.04,
          0.05
         ],
         "xaxis": "x3",
         "y": [
          -0.06762923458176433,
          -0.24586059328751286,
          -0.4736478154728238,
          -0.7513930088674295,
          -1.1362387170020822,
          -1.7607556669063067
         ],
         "yaxis": "y3"
        },
        {
         "error_y": {
          "array": [
           0.1682136275637573,
           0.43962878982076176,
           0.7395155895458171,
           1.1322092990697006,
           1.4435882355178746,
           1.6408225844487947
          ],
          "arrayminus": [
           0.15620412388459606,
           0.44498236262795,
           0.7351240485787617,
           0.9577930091254606,
           1.2609560017683847,
           1.6439458261287683
          ],
          "symmetric": false,
          "thickness": 4,
          "type": "data",
          "visible": true
         },
         "legendgroup": "2",
         "line": {
          "color": "#78C679",
          "width": 4
         },
         "name": "15",
         "showlegend": true,
         "type": "scatter",
         "x": [
          0,
          0.01,
          0.02,
          0.030000000000000002,
          0.04,
          0.05
         ],
         "xaxis": "x3",
         "y": [
          -0.18584311294992817,
          -0.43521811451906395,
          -0.6087268797081474,
          -0.9623107483865133,
          -1.5237226278278841,
          -2.273030452581188
         ],
         "yaxis": "y3"
        },
        {
         "error_y": {
          "array": [
           0.22448568883317743,
           0.6450693133610437,
           1.1109759407664648,
           1.4015938297909272,
           1.755160157833989,
           2.2842809492829614
          ],
          "arrayminus": [
           0.2424540357408399,
           0.6522854790578275,
           1.0116916589113134,
           1.298281641229974,
           1.6683880957439114,
           2.051355993973612
          ],
          "symmetric": false,
          "thickness": 4,
          "type": "data",
          "visible": true
         },
         "legendgroup": "3",
         "line": {
          "color": "#C2E699",
          "width": 4
         },
         "name": "30",
         "showlegend": true,
         "type": "scatter",
         "x": [
          0,
          0.01,
          0.02,
          0.030000000000000002,
          0.04,
          0.05
         ],
         "xaxis": "x3",
         "y": [
          -0.7552837524467293,
          -1.2234196131891237,
          -1.697341854635064,
          -2.1992334431413356,
          -2.610700847898578,
          -3.4335893542850044
         ],
         "yaxis": "y3"
        }
       ],
       "layout": {
        "annotations": [
         {
          "font": {
           "size": 16
          },
          "showarrow": false,
          "text": "$\\widehat{k_{ep,RR}}$",
          "x": 0.14444444444444446,
          "xanchor": "center",
          "xref": "paper",
          "y": 1,
          "yanchor": "bottom",
          "yref": "paper"
         },
         {
          "font": {
           "size": 16
          },
          "showarrow": false,
          "text": "$K^{trans}_{RR}$",
          "x": 0.5,
          "xanchor": "center",
          "xref": "paper",
          "y": 1,
          "yanchor": "bottom",
          "yref": "paper"
         },
         {
          "font": {
           "size": 16
          },
          "showarrow": false,
          "text": "$V_{e,RR}$",
          "x": 0.8555555555555556,
          "xanchor": "center",
          "xref": "paper",
          "y": 1,
          "yanchor": "bottom",
          "yref": "paper"
         }
        ],
        "plot_bgcolor": "#ffffff",
        "template": {
         "data": {
          "bar": [
           {
            "error_x": {
             "color": "#2a3f5f"
            },
            "error_y": {
             "color": "#2a3f5f"
            },
            "marker": {
             "line": {
              "color": "#E5ECF6",
              "width": 0.5
             }
            },
            "type": "bar"
           }
          ],
          "barpolar": [
           {
            "marker": {
             "line": {
              "color": "#E5ECF6",
              "width": 0.5
             }
            },
            "type": "barpolar"
           }
          ],
          "carpet": [
           {
            "aaxis": {
             "endlinecolor": "#2a3f5f",
             "gridcolor": "white",
             "linecolor": "white",
             "minorgridcolor": "white",
             "startlinecolor": "#2a3f5f"
            },
            "baxis": {
             "endlinecolor": "#2a3f5f",
             "gridcolor": "white",
             "linecolor": "white",
             "minorgridcolor": "white",
             "startlinecolor": "#2a3f5f"
            },
            "type": "carpet"
           }
          ],
          "choropleth": [
           {
            "colorbar": {
             "outlinewidth": 0,
             "ticks": ""
            },
            "type": "choropleth"
           }
          ],
          "contour": [
           {
            "colorbar": {
             "outlinewidth": 0,
             "ticks": ""
            },
            "colorscale": [
             [
              0,
              "#0d0887"
             ],
             [
              0.1111111111111111,
              "#46039f"
             ],
             [
              0.2222222222222222,
              "#7201a8"
             ],
             [
              0.3333333333333333,
              "#9c179e"
             ],
             [
              0.4444444444444444,
              "#bd3786"
             ],
             [
              0.5555555555555556,
              "#d8576b"
             ],
             [
              0.6666666666666666,
              "#ed7953"
             ],
             [
              0.7777777777777778,
              "#fb9f3a"
             ],
             [
              0.8888888888888888,
              "#fdca26"
             ],
             [
              1,
              "#f0f921"
             ]
            ],
            "type": "contour"
           }
          ],
          "contourcarpet": [
           {
            "colorbar": {
             "outlinewidth": 0,
             "ticks": ""
            },
            "type": "contourcarpet"
           }
          ],
          "heatmap": [
           {
            "colorbar": {
             "outlinewidth": 0,
             "ticks": ""
            },
            "colorscale": [
             [
              0,
              "#0d0887"
             ],
             [
              0.1111111111111111,
              "#46039f"
             ],
             [
              0.2222222222222222,
              "#7201a8"
             ],
             [
              0.3333333333333333,
              "#9c179e"
             ],
             [
              0.4444444444444444,
              "#bd3786"
             ],
             [
              0.5555555555555556,
              "#d8576b"
             ],
             [
              0.6666666666666666,
              "#ed7953"
             ],
             [
              0.7777777777777778,
              "#fb9f3a"
             ],
             [
              0.8888888888888888,
              "#fdca26"
             ],
             [
              1,
              "#f0f921"
             ]
            ],
            "type": "heatmap"
           }
          ],
          "heatmapgl": [
           {
            "colorbar": {
             "outlinewidth": 0,
             "ticks": ""
            },
            "colorscale": [
             [
              0,
              "#0d0887"
             ],
             [
              0.1111111111111111,
              "#46039f"
             ],
             [
              0.2222222222222222,
              "#7201a8"
             ],
             [
              0.3333333333333333,
              "#9c179e"
             ],
             [
              0.4444444444444444,
              "#bd3786"
             ],
             [
              0.5555555555555556,
              "#d8576b"
             ],
             [
              0.6666666666666666,
              "#ed7953"
             ],
             [
              0.7777777777777778,
              "#fb9f3a"
             ],
             [
              0.8888888888888888,
              "#fdca26"
             ],
             [
              1,
              "#f0f921"
             ]
            ],
            "type": "heatmapgl"
           }
          ],
          "histogram": [
           {
            "marker": {
             "colorbar": {
              "outlinewidth": 0,
              "ticks": ""
             }
            },
            "type": "histogram"
           }
          ],
          "histogram2d": [
           {
            "colorbar": {
             "outlinewidth": 0,
             "ticks": ""
            },
            "colorscale": [
             [
              0,
              "#0d0887"
             ],
             [
              0.1111111111111111,
              "#46039f"
             ],
             [
              0.2222222222222222,
              "#7201a8"
             ],
             [
              0.3333333333333333,
              "#9c179e"
             ],
             [
              0.4444444444444444,
              "#bd3786"
             ],
             [
              0.5555555555555556,
              "#d8576b"
             ],
             [
              0.6666666666666666,
              "#ed7953"
             ],
             [
              0.7777777777777778,
              "#fb9f3a"
             ],
             [
              0.8888888888888888,
              "#fdca26"
             ],
             [
              1,
              "#f0f921"
             ]
            ],
            "type": "histogram2d"
           }
          ],
          "histogram2dcontour": [
           {
            "colorbar": {
             "outlinewidth": 0,
             "ticks": ""
            },
            "colorscale": [
             [
              0,
              "#0d0887"
             ],
             [
              0.1111111111111111,
              "#46039f"
             ],
             [
              0.2222222222222222,
              "#7201a8"
             ],
             [
              0.3333333333333333,
              "#9c179e"
             ],
             [
              0.4444444444444444,
              "#bd3786"
             ],
             [
              0.5555555555555556,
              "#d8576b"
             ],
             [
              0.6666666666666666,
              "#ed7953"
             ],
             [
              0.7777777777777778,
              "#fb9f3a"
             ],
             [
              0.8888888888888888,
              "#fdca26"
             ],
             [
              1,
              "#f0f921"
             ]
            ],
            "type": "histogram2dcontour"
           }
          ],
          "mesh3d": [
           {
            "colorbar": {
             "outlinewidth": 0,
             "ticks": ""
            },
            "type": "mesh3d"
           }
          ],
          "parcoords": [
           {
            "line": {
             "colorbar": {
              "outlinewidth": 0,
              "ticks": ""
             }
            },
            "type": "parcoords"
           }
          ],
          "pie": [
           {
            "automargin": true,
            "type": "pie"
           }
          ],
          "scatter": [
           {
            "marker": {
             "colorbar": {
              "outlinewidth": 0,
              "ticks": ""
             }
            },
            "type": "scatter"
           }
          ],
          "scatter3d": [
           {
            "line": {
             "colorbar": {
              "outlinewidth": 0,
              "ticks": ""
             }
            },
            "marker": {
             "colorbar": {
              "outlinewidth": 0,
              "ticks": ""
             }
            },
            "type": "scatter3d"
           }
          ],
          "scattercarpet": [
           {
            "marker": {
             "colorbar": {
              "outlinewidth": 0,
              "ticks": ""
             }
            },
            "type": "scattercarpet"
           }
          ],
          "scattergeo": [
           {
            "marker": {
             "colorbar": {
              "outlinewidth": 0,
              "ticks": ""
             }
            },
            "type": "scattergeo"
           }
          ],
          "scattergl": [
           {
            "marker": {
             "colorbar": {
              "outlinewidth": 0,
              "ticks": ""
             }
            },
            "type": "scattergl"
           }
          ],
          "scattermapbox": [
           {
            "marker": {
             "colorbar": {
              "outlinewidth": 0,
              "ticks": ""
             }
            },
            "type": "scattermapbox"
           }
          ],
          "scatterpolar": [
           {
            "marker": {
             "colorbar": {
              "outlinewidth": 0,
              "ticks": ""
             }
            },
            "type": "scatterpolar"
           }
          ],
          "scatterpolargl": [
           {
            "marker": {
             "colorbar": {
              "outlinewidth": 0,
              "ticks": ""
             }
            },
            "type": "scatterpolargl"
           }
          ],
          "scatterternary": [
           {
            "marker": {
             "colorbar": {
              "outlinewidth": 0,
              "ticks": ""
             }
            },
            "type": "scatterternary"
           }
          ],
          "surface": [
           {
            "colorbar": {
             "outlinewidth": 0,
             "ticks": ""
            },
            "colorscale": [
             [
              0,
              "#0d0887"
             ],
             [
              0.1111111111111111,
              "#46039f"
             ],
             [
              0.2222222222222222,
              "#7201a8"
             ],
             [
              0.3333333333333333,
              "#9c179e"
             ],
             [
              0.4444444444444444,
              "#bd3786"
             ],
             [
              0.5555555555555556,
              "#d8576b"
             ],
             [
              0.6666666666666666,
              "#ed7953"
             ],
             [
              0.7777777777777778,
              "#fb9f3a"
             ],
             [
              0.8888888888888888,
              "#fdca26"
             ],
             [
              1,
              "#f0f921"
             ]
            ],
            "type": "surface"
           }
          ],
          "table": [
           {
            "cells": {
             "fill": {
              "color": "#EBF0F8"
             },
             "line": {
              "color": "white"
             }
            },
            "header": {
             "fill": {
              "color": "#C8D4E3"
             },
             "line": {
              "color": "white"
             }
            },
            "type": "table"
           }
          ]
         },
         "layout": {
          "annotationdefaults": {
           "arrowcolor": "#2a3f5f",
           "arrowhead": 0,
           "arrowwidth": 1
          },
          "autotypenumbers": "strict",
          "coloraxis": {
           "colorbar": {
            "outlinewidth": 0,
            "ticks": ""
           }
          },
          "colorscale": {
           "diverging": [
            [
             0,
             "#8e0152"
            ],
            [
             0.1,
             "#c51b7d"
            ],
            [
             0.2,
             "#de77ae"
            ],
            [
             0.3,
             "#f1b6da"
            ],
            [
             0.4,
             "#fde0ef"
            ],
            [
             0.5,
             "#f7f7f7"
            ],
            [
             0.6,
             "#e6f5d0"
            ],
            [
             0.7,
             "#b8e186"
            ],
            [
             0.8,
             "#7fbc41"
            ],
            [
             0.9,
             "#4d9221"
            ],
            [
             1,
             "#276419"
            ]
           ],
           "sequential": [
            [
             0,
             "#0d0887"
            ],
            [
             0.1111111111111111,
             "#46039f"
            ],
            [
             0.2222222222222222,
             "#7201a8"
            ],
            [
             0.3333333333333333,
             "#9c179e"
            ],
            [
             0.4444444444444444,
             "#bd3786"
            ],
            [
             0.5555555555555556,
             "#d8576b"
            ],
            [
             0.6666666666666666,
             "#ed7953"
            ],
            [
             0.7777777777777778,
             "#fb9f3a"
            ],
            [
             0.8888888888888888,
             "#fdca26"
            ],
            [
             1,
             "#f0f921"
            ]
           ],
           "sequentialminus": [
            [
             0,
             "#0d0887"
            ],
            [
             0.1111111111111111,
             "#46039f"
            ],
            [
             0.2222222222222222,
             "#7201a8"
            ],
            [
             0.3333333333333333,
             "#9c179e"
            ],
            [
             0.4444444444444444,
             "#bd3786"
            ],
            [
             0.5555555555555556,
             "#d8576b"
            ],
            [
             0.6666666666666666,
             "#ed7953"
            ],
            [
             0.7777777777777778,
             "#fb9f3a"
            ],
            [
             0.8888888888888888,
             "#fdca26"
            ],
            [
             1,
             "#f0f921"
            ]
           ]
          },
          "colorway": [
           "#636efa",
           "#EF553B",
           "#00cc96",
           "#ab63fa",
           "#FFA15A",
           "#19d3f3",
           "#FF6692",
           "#B6E880",
           "#FF97FF",
           "#FECB52"
          ],
          "font": {
           "color": "#2a3f5f"
          },
          "geo": {
           "bgcolor": "white",
           "lakecolor": "white",
           "landcolor": "#E5ECF6",
           "showlakes": true,
           "showland": true,
           "subunitcolor": "white"
          },
          "hoverlabel": {
           "align": "left"
          },
          "hovermode": "closest",
          "mapbox": {
           "style": "light"
          },
          "paper_bgcolor": "white",
          "plot_bgcolor": "#E5ECF6",
          "polar": {
           "angularaxis": {
            "gridcolor": "white",
            "linecolor": "white",
            "ticks": ""
           },
           "bgcolor": "#E5ECF6",
           "radialaxis": {
            "gridcolor": "white",
            "linecolor": "white",
            "ticks": ""
           }
          },
          "scene": {
           "xaxis": {
            "backgroundcolor": "#E5ECF6",
            "gridcolor": "white",
            "gridwidth": 2,
            "linecolor": "white",
            "showbackground": true,
            "ticks": "",
            "zerolinecolor": "white"
           },
           "yaxis": {
            "backgroundcolor": "#E5ECF6",
            "gridcolor": "white",
            "gridwidth": 2,
            "linecolor": "white",
            "showbackground": true,
            "ticks": "",
            "zerolinecolor": "white"
           },
           "zaxis": {
            "backgroundcolor": "#E5ECF6",
            "gridcolor": "white",
            "gridwidth": 2,
            "linecolor": "white",
            "showbackground": true,
            "ticks": "",
            "zerolinecolor": "white"
           }
          },
          "shapedefaults": {
           "line": {
            "color": "#2a3f5f"
           }
          },
          "ternary": {
           "aaxis": {
            "gridcolor": "white",
            "linecolor": "white",
            "ticks": ""
           },
           "baxis": {
            "gridcolor": "white",
            "linecolor": "white",
            "ticks": ""
           },
           "bgcolor": "#E5ECF6",
           "caxis": {
            "gridcolor": "white",
            "linecolor": "white",
            "ticks": ""
           }
          },
          "title": {
           "x": 0.05
          },
          "xaxis": {
           "automargin": true,
           "gridcolor": "white",
           "linecolor": "white",
           "ticks": "",
           "title": {
            "standoff": 15
           },
           "zerolinecolor": "white",
           "zerolinewidth": 2
          },
          "yaxis": {
           "automargin": true,
           "gridcolor": "white",
           "linecolor": "white",
           "ticks": "",
           "title": {
            "standoff": 15
           },
           "zerolinecolor": "white",
           "zerolinewidth": 2
          }
         }
        },
        "xaxis": {
         "anchor": "y",
         "domain": [
          0,
          0.2888888888888889
         ],
         "title": {
          "text": "$\\sigma_{noise}[Mm]$"
         }
        },
        "xaxis2": {
         "anchor": "y2",
         "domain": [
          0.35555555555555557,
          0.6444444444444445
         ],
         "title": {
          "text": "$\\sigma_{noise}[Mm]$"
         }
        },
        "xaxis3": {
         "anchor": "y3",
         "domain": [
          0.7111111111111111,
          1
         ],
         "title": {
          "text": "$\\sigma_{noise}[Mm]$"
         }
        },
        "yaxis": {
         "anchor": "x",
         "domain": [
          0,
          1
         ],
         "range": [
          -35,
          5
         ],
         "showline": true,
         "tickvals": [
          -35,
          -30,
          -25,
          -20,
          -15,
          -10,
          -5,
          0,
          5
         ],
         "title": {
          "text": "$Percent Error$"
         }
        },
        "yaxis2": {
         "anchor": "x2",
         "domain": [
          0,
          1
         ],
         "range": [
          -35,
          5
         ],
         "tickvals": [
          -35,
          -30,
          -25,
          -20,
          -15,
          -10,
          -5,
          0,
          5
         ]
        },
        "yaxis3": {
         "anchor": "x3",
         "domain": [
          0,
          1
         ],
         "range": [
          -35,
          5
         ],
         "tickvals": [
          -35,
          -30,
          -25,
          -20,
          -15,
          -10,
          -5,
          0,
          5
         ]
        }
       }
      },
      "text/html": [
       "<div>                            <div id=\"b1df3f4b-0e4a-4f08-9bbb-a392ac561b6e\" class=\"plotly-graph-div\" style=\"height:525px; width:100%;\"></div>            <script type=\"text/javascript\">                require([\"plotly\"], function(Plotly) {                    window.PLOTLYENV=window.PLOTLYENV || {};                                    if (document.getElementById(\"b1df3f4b-0e4a-4f08-9bbb-a392ac561b6e\")) {                    Plotly.newPlot(                        \"b1df3f4b-0e4a-4f08-9bbb-a392ac561b6e\",                        [{\"error_y\": {\"array\": [0.03388139495298925, 0.7404281711346938, 1.4658835655797455, 2.129988761342605, 2.660829314126473, 3.016120656885529], \"arrayminus\": [0.03991063959919994, 0.7324514722922115, 1.5825915928927126, 2.1019365644807717, 2.45474965074789, 3.008280181452816], \"symmetric\": false, \"thickness\": 4, \"type\": \"data\", \"visible\": true}, \"legendgroup\": \"0\", \"line\": {\"color\": \"#006837\", \"width\": 4}, \"name\": \"5\", \"showlegend\": false, \"type\": \"scatter\", \"x\": [0.0, 0.01, 0.02, 0.030000000000000002, 0.04, 0.05], \"xaxis\": \"x\", \"y\": [-0.04747548340481855, -0.6308295631378968, -1.6567340832072786, -2.8054493607440945, -3.6836849713625943, -4.975374394849497], \"yaxis\": \"y\"}, {\"error_y\": {\"array\": [0.4277464509514939, 1.2560218129175849, 1.9880118920301335, 3.2227744269238023, 3.755097657175998, 3.2998920988873977], \"arrayminus\": [0.3607453075580913, 1.308007924190474, 2.2136205789399788, 2.780317074085609, 3.3913166621801167, 3.9727700216417077], \"symmetric\": false, \"thickness\": 4, \"type\": \"data\", \"visible\": true}, \"legendgroup\": \"1\", \"line\": {\"color\": \"#31A354\", \"width\": 4}, \"name\": \"10\", \"showlegend\": false, \"type\": \"scatter\", \"x\": [0.0, 0.01, 0.02, 0.030000000000000002, 0.04, 0.05], \"xaxis\": \"x\", \"y\": [-0.2986318818728184, -1.3946955753039614, -2.724839365549836, -3.6806795407376747, -5.758618691497109, -8.812282777007058], \"yaxis\": \"y\"}, {\"error_y\": {\"array\": [0.9370348617132152, 1.9398213719655004, 2.927532083544132, 3.410028193781095, 3.7740218137168444, 4.492239530887783], \"arrayminus\": [0.8652251872720007, 1.905923492675099, 2.8108260048883063, 3.403025938670911, 3.7731314318001363, 4.196564304365684], \"symmetric\": false, \"thickness\": 4, \"type\": \"data\", \"visible\": true}, \"legendgroup\": \"2\", \"line\": {\"color\": \"#78C679\", \"width\": 4}, \"name\": \"15\", \"showlegend\": false, \"type\": \"scatter\", \"x\": [0.0, 0.01, 0.02, 0.030000000000000002, 0.04, 0.05], \"xaxis\": \"x\", \"y\": [-0.8457073530692027, -2.0758457285490195, -3.1512208895249474, -5.269536609424518, -7.973999490010042, -10.334319490708559], \"yaxis\": \"y\"}, {\"error_y\": {\"array\": [1.1335727023198516, 2.5229083167114528, 3.8737304430633674, 4.485306162005974, 4.887906186538647, 5.406392513182912], \"arrayminus\": [1.2346075421084457, 2.687406842837115, 3.7906620271234366, 4.424035689139599, 4.82989241413193, 5.31934866289318], \"symmetric\": false, \"thickness\": 4, \"type\": \"data\", \"visible\": true}, \"legendgroup\": \"3\", \"line\": {\"color\": \"#C2E699\", \"width\": 4}, \"name\": \"30\", \"showlegend\": false, \"type\": \"scatter\", \"x\": [0.0, 0.01, 0.02, 0.030000000000000002, 0.04, 0.05], \"xaxis\": \"x\", \"y\": [-3.307880273248387, -5.731790258306175, -7.677269738095182, -9.695654042240742, -12.052555466436065, -14.7560365591039], \"yaxis\": \"y\"}, {\"error_y\": {\"array\": [0.0396097111738321, 0.9243669996149383, 1.6374510496488486, 2.502972164491071, 3.1687734120877273, 3.724663670542242], \"arrayminus\": [0.0468899686697757, 0.9231686503425456, 2.0968710282389926, 2.542604277632318, 3.0144069480034124, 3.648433915352354], \"symmetric\": false, \"thickness\": 4, \"type\": \"data\", \"visible\": true}, \"legendgroup\": \"0\", \"line\": {\"color\": \"#006837\", \"width\": 4}, \"name\": \"5\", \"showlegend\": false, \"type\": \"scatter\", \"x\": [0.0, 0.01, 0.02, 0.030000000000000002, 0.04, 0.05], \"xaxis\": \"x2\", \"y\": [-0.059454023876958396, -0.788325336469896, -1.9626751915599692, -3.333475084465901, -4.27814996707354, -5.838137427962575], \"yaxis\": \"y2\"}, {\"error_y\": {\"array\": [0.5000132099899417, 1.4614313011496578, 2.3881865619910068, 3.608384031136488, 4.088866998788497, 4.379391949104212], \"arrayminus\": [0.4246154324457391, 1.522148452798379, 2.6838989208051145, 3.3260537076144994, 4.149920810868216, 4.480393755043432], \"symmetric\": false, \"thickness\": 4, \"type\": \"data\", \"visible\": true}, \"legendgroup\": \"1\", \"line\": {\"color\": \"#31A354\", \"width\": 4}, \"name\": \"10\", \"showlegend\": false, \"type\": \"scatter\", \"x\": [0.0, 0.01, 0.02, 0.030000000000000002, 0.04, 0.05], \"xaxis\": \"x2\", \"y\": [-0.366282506451533, -1.6606523700984028, -3.167625100943469, -4.4039100911217055, -6.86935704932251, -10.21534742812547], \"yaxis\": \"y2\"}, {\"error_y\": {\"array\": [1.0974031068336894, 2.3073467882808023, 3.5235888090674443, 3.9997375210428947, 4.549556499722403, 5.459908950473077], \"arrayminus\": [1.0208994436644678, 2.264924948294738, 3.3836810385892897, 4.014361866053958, 4.341355937093935, 5.195609295232859], \"symmetric\": false, \"thickness\": 4, \"type\": \"data\", \"visible\": true}, \"legendgroup\": \"2\", \"line\": {\"color\": \"#78C679\", \"width\": 4}, \"name\": \"15\", \"showlegend\": false, \"type\": \"scatter\", \"x\": [0.0, 0.01, 0.02, 0.030000000000000002, 0.04, 0.05], \"xaxis\": \"x2\", \"y\": [-1.0318969881786622, -2.5228821686112264, -3.7622350875823187, -6.28629793126217, -9.26781639562255, -12.370000422912705], \"yaxis\": \"y2\"}, {\"error_y\": {\"array\": [1.3194509267232544, 3.01607807503164, 4.9707429864873784, 5.480480656468945, 6.295555973442278, 6.795753471239166], \"arrayminus\": [1.4761875948241068, 3.181978181616487, 4.794276504599047, 5.181825701884325, 5.816023930121313, 6.441504827827075], \"symmetric\": false, \"thickness\": 4, \"type\": \"data\", \"visible\": true}, \"legendgroup\": \"3\", \"line\": {\"color\": \"#C2E699\", \"width\": 4}, \"name\": \"30\", \"showlegend\": false, \"type\": \"scatter\", \"x\": [0.0, 0.01, 0.02, 0.030000000000000002, 0.04, 0.05], \"xaxis\": \"x2\", \"y\": [-4.051053401847721, -6.847158498672037, -9.219976174411654, -11.52962873035601, -14.111182281868144, -17.656492866257175], \"yaxis\": \"y2\"}, {\"error_y\": {\"array\": [0.00582273931784957, 0.2524024262627699, 0.5183567978538182, 0.8231535893039281, 1.0651930993430379, 1.2515997631621805], \"arrayminus\": [0.006934136214089715, 0.2638382085960832, 0.5789810603262878, 0.7952206584376151, 0.9246959898332998, 1.2805222501866491], \"symmetric\": false, \"thickness\": 4, \"type\": \"data\", \"visible\": true}, \"legendgroup\": \"0\", \"line\": {\"color\": \"#006837\", \"width\": 4}, \"name\": \"5\", \"showlegend\": true, \"type\": \"scatter\", \"x\": [0.0, 0.01, 0.02, 0.030000000000000002, 0.04, 0.05], \"xaxis\": \"x3\", \"y\": [-0.011936536038461721, -0.1394902825714286, -0.250383398624874, -0.52829202070101, -0.5899815685539631, -0.9459100499807735], \"yaxis\": \"y3\"}, {\"error_y\": {\"array\": [0.07539197031757831, 0.3743679890540792, 0.6440136995463404, 0.9534639311359735, 1.250953568438478, 1.543903581567248], \"arrayminus\": [0.06382579037704901, 0.2996578367664624, 0.6196819366037101, 0.8550009204853571, 1.218587560727961, 1.5793437689185845], \"symmetric\": false, \"thickness\": 4, \"type\": \"data\", \"visible\": true}, \"legendgroup\": \"1\", \"line\": {\"color\": \"#31A354\", \"width\": 4}, \"name\": \"10\", \"showlegend\": true, \"type\": \"scatter\", \"x\": [0.0, 0.01, 0.02, 0.030000000000000002, 0.04, 0.05], \"xaxis\": \"x3\", \"y\": [-0.06762923458176433, -0.24586059328751286, -0.4736478154728238, -0.7513930088674295, -1.1362387170020822, -1.7607556669063067], \"yaxis\": \"y3\"}, {\"error_y\": {\"array\": [0.1682136275637573, 0.43962878982076176, 0.7395155895458171, 1.1322092990697006, 1.4435882355178746, 1.6408225844487947], \"arrayminus\": [0.15620412388459606, 0.44498236262795, 0.7351240485787617, 0.9577930091254606, 1.2609560017683847, 1.6439458261287683], \"symmetric\": false, \"thickness\": 4, \"type\": \"data\", \"visible\": true}, \"legendgroup\": \"2\", \"line\": {\"color\": \"#78C679\", \"width\": 4}, \"name\": \"15\", \"showlegend\": true, \"type\": \"scatter\", \"x\": [0.0, 0.01, 0.02, 0.030000000000000002, 0.04, 0.05], \"xaxis\": \"x3\", \"y\": [-0.18584311294992817, -0.43521811451906395, -0.6087268797081474, -0.9623107483865133, -1.5237226278278841, -2.273030452581188], \"yaxis\": \"y3\"}, {\"error_y\": {\"array\": [0.22448568883317743, 0.6450693133610437, 1.1109759407664648, 1.4015938297909272, 1.755160157833989, 2.2842809492829614], \"arrayminus\": [0.2424540357408399, 0.6522854790578275, 1.0116916589113134, 1.298281641229974, 1.6683880957439114, 2.051355993973612], \"symmetric\": false, \"thickness\": 4, \"type\": \"data\", \"visible\": true}, \"legendgroup\": \"3\", \"line\": {\"color\": \"#C2E699\", \"width\": 4}, \"name\": \"30\", \"showlegend\": true, \"type\": \"scatter\", \"x\": [0.0, 0.01, 0.02, 0.030000000000000002, 0.04, 0.05], \"xaxis\": \"x3\", \"y\": [-0.7552837524467293, -1.2234196131891237, -1.697341854635064, -2.1992334431413356, -2.610700847898578, -3.4335893542850044], \"yaxis\": \"y3\"}],                        {\"annotations\": [{\"font\": {\"size\": 16}, \"showarrow\": false, \"text\": \"$\\\\widehat{k_{ep,RR}}$\", \"x\": 0.14444444444444446, \"xanchor\": \"center\", \"xref\": \"paper\", \"y\": 1.0, \"yanchor\": \"bottom\", \"yref\": \"paper\"}, {\"font\": {\"size\": 16}, \"showarrow\": false, \"text\": \"$K^{trans}_{RR}$\", \"x\": 0.5, \"xanchor\": \"center\", \"xref\": \"paper\", \"y\": 1.0, \"yanchor\": \"bottom\", \"yref\": \"paper\"}, {\"font\": {\"size\": 16}, \"showarrow\": false, \"text\": \"$V_{e,RR}$\", \"x\": 0.8555555555555556, \"xanchor\": \"center\", \"xref\": \"paper\", \"y\": 1.0, \"yanchor\": \"bottom\", \"yref\": \"paper\"}], \"plot_bgcolor\": \"#ffffff\", \"template\": {\"data\": {\"bar\": [{\"error_x\": {\"color\": \"#2a3f5f\"}, \"error_y\": {\"color\": \"#2a3f5f\"}, \"marker\": {\"line\": {\"color\": \"#E5ECF6\", \"width\": 0.5}}, \"type\": \"bar\"}], \"barpolar\": [{\"marker\": {\"line\": {\"color\": \"#E5ECF6\", \"width\": 0.5}}, \"type\": \"barpolar\"}], \"carpet\": [{\"aaxis\": {\"endlinecolor\": \"#2a3f5f\", \"gridcolor\": \"white\", \"linecolor\": \"white\", \"minorgridcolor\": \"white\", \"startlinecolor\": \"#2a3f5f\"}, \"baxis\": {\"endlinecolor\": \"#2a3f5f\", \"gridcolor\": \"white\", \"linecolor\": \"white\", \"minorgridcolor\": \"white\", \"startlinecolor\": \"#2a3f5f\"}, \"type\": \"carpet\"}], \"choropleth\": [{\"colorbar\": {\"outlinewidth\": 0, \"ticks\": \"\"}, \"type\": \"choropleth\"}], \"contour\": [{\"colorbar\": {\"outlinewidth\": 0, \"ticks\": \"\"}, \"colorscale\": [[0.0, \"#0d0887\"], [0.1111111111111111, \"#46039f\"], [0.2222222222222222, \"#7201a8\"], [0.3333333333333333, \"#9c179e\"], [0.4444444444444444, \"#bd3786\"], [0.5555555555555556, \"#d8576b\"], [0.6666666666666666, \"#ed7953\"], [0.7777777777777778, \"#fb9f3a\"], [0.8888888888888888, \"#fdca26\"], [1.0, \"#f0f921\"]], \"type\": \"contour\"}], \"contourcarpet\": [{\"colorbar\": {\"outlinewidth\": 0, \"ticks\": \"\"}, \"type\": \"contourcarpet\"}], \"heatmap\": [{\"colorbar\": {\"outlinewidth\": 0, \"ticks\": \"\"}, \"colorscale\": [[0.0, \"#0d0887\"], [0.1111111111111111, \"#46039f\"], [0.2222222222222222, \"#7201a8\"], [0.3333333333333333, \"#9c179e\"], [0.4444444444444444, \"#bd3786\"], [0.5555555555555556, \"#d8576b\"], [0.6666666666666666, \"#ed7953\"], [0.7777777777777778, \"#fb9f3a\"], [0.8888888888888888, \"#fdca26\"], [1.0, \"#f0f921\"]], \"type\": \"heatmap\"}], \"heatmapgl\": [{\"colorbar\": {\"outlinewidth\": 0, \"ticks\": \"\"}, \"colorscale\": [[0.0, \"#0d0887\"], [0.1111111111111111, \"#46039f\"], [0.2222222222222222, \"#7201a8\"], [0.3333333333333333, \"#9c179e\"], [0.4444444444444444, \"#bd3786\"], [0.5555555555555556, \"#d8576b\"], [0.6666666666666666, \"#ed7953\"], [0.7777777777777778, \"#fb9f3a\"], [0.8888888888888888, \"#fdca26\"], [1.0, \"#f0f921\"]], \"type\": \"heatmapgl\"}], \"histogram\": [{\"marker\": {\"colorbar\": {\"outlinewidth\": 0, \"ticks\": \"\"}}, \"type\": \"histogram\"}], \"histogram2d\": [{\"colorbar\": {\"outlinewidth\": 0, \"ticks\": \"\"}, \"colorscale\": [[0.0, \"#0d0887\"], [0.1111111111111111, \"#46039f\"], [0.2222222222222222, \"#7201a8\"], [0.3333333333333333, \"#9c179e\"], [0.4444444444444444, \"#bd3786\"], [0.5555555555555556, \"#d8576b\"], [0.6666666666666666, \"#ed7953\"], [0.7777777777777778, \"#fb9f3a\"], [0.8888888888888888, \"#fdca26\"], [1.0, \"#f0f921\"]], \"type\": \"histogram2d\"}], \"histogram2dcontour\": [{\"colorbar\": {\"outlinewidth\": 0, \"ticks\": \"\"}, \"colorscale\": [[0.0, \"#0d0887\"], [0.1111111111111111, \"#46039f\"], [0.2222222222222222, \"#7201a8\"], [0.3333333333333333, \"#9c179e\"], [0.4444444444444444, \"#bd3786\"], [0.5555555555555556, \"#d8576b\"], [0.6666666666666666, \"#ed7953\"], [0.7777777777777778, \"#fb9f3a\"], [0.8888888888888888, \"#fdca26\"], [1.0, \"#f0f921\"]], \"type\": \"histogram2dcontour\"}], \"mesh3d\": [{\"colorbar\": {\"outlinewidth\": 0, \"ticks\": \"\"}, \"type\": \"mesh3d\"}], \"parcoords\": [{\"line\": {\"colorbar\": {\"outlinewidth\": 0, \"ticks\": \"\"}}, \"type\": \"parcoords\"}], \"pie\": [{\"automargin\": true, \"type\": \"pie\"}], \"scatter\": [{\"marker\": {\"colorbar\": {\"outlinewidth\": 0, \"ticks\": \"\"}}, \"type\": \"scatter\"}], \"scatter3d\": [{\"line\": {\"colorbar\": {\"outlinewidth\": 0, \"ticks\": \"\"}}, \"marker\": {\"colorbar\": {\"outlinewidth\": 0, \"ticks\": \"\"}}, \"type\": \"scatter3d\"}], \"scattercarpet\": [{\"marker\": {\"colorbar\": {\"outlinewidth\": 0, \"ticks\": \"\"}}, \"type\": \"scattercarpet\"}], \"scattergeo\": [{\"marker\": {\"colorbar\": {\"outlinewidth\": 0, \"ticks\": \"\"}}, \"type\": \"scattergeo\"}], \"scattergl\": [{\"marker\": {\"colorbar\": {\"outlinewidth\": 0, \"ticks\": \"\"}}, \"type\": \"scattergl\"}], \"scattermapbox\": [{\"marker\": {\"colorbar\": {\"outlinewidth\": 0, \"ticks\": \"\"}}, \"type\": \"scattermapbox\"}], \"scatterpolar\": [{\"marker\": {\"colorbar\": {\"outlinewidth\": 0, \"ticks\": \"\"}}, \"type\": \"scatterpolar\"}], \"scatterpolargl\": [{\"marker\": {\"colorbar\": {\"outlinewidth\": 0, \"ticks\": \"\"}}, \"type\": \"scatterpolargl\"}], \"scatterternary\": [{\"marker\": {\"colorbar\": {\"outlinewidth\": 0, \"ticks\": \"\"}}, \"type\": \"scatterternary\"}], \"surface\": [{\"colorbar\": {\"outlinewidth\": 0, \"ticks\": \"\"}, \"colorscale\": [[0.0, \"#0d0887\"], [0.1111111111111111, \"#46039f\"], [0.2222222222222222, \"#7201a8\"], [0.3333333333333333, \"#9c179e\"], [0.4444444444444444, \"#bd3786\"], [0.5555555555555556, \"#d8576b\"], [0.6666666666666666, \"#ed7953\"], [0.7777777777777778, \"#fb9f3a\"], [0.8888888888888888, \"#fdca26\"], [1.0, \"#f0f921\"]], \"type\": \"surface\"}], \"table\": [{\"cells\": {\"fill\": {\"color\": \"#EBF0F8\"}, \"line\": {\"color\": \"white\"}}, \"header\": {\"fill\": {\"color\": \"#C8D4E3\"}, \"line\": {\"color\": \"white\"}}, \"type\": \"table\"}]}, \"layout\": {\"annotationdefaults\": {\"arrowcolor\": \"#2a3f5f\", \"arrowhead\": 0, \"arrowwidth\": 1}, \"autotypenumbers\": \"strict\", \"coloraxis\": {\"colorbar\": {\"outlinewidth\": 0, \"ticks\": \"\"}}, \"colorscale\": {\"diverging\": [[0, \"#8e0152\"], [0.1, \"#c51b7d\"], [0.2, \"#de77ae\"], [0.3, \"#f1b6da\"], [0.4, \"#fde0ef\"], [0.5, \"#f7f7f7\"], [0.6, \"#e6f5d0\"], [0.7, \"#b8e186\"], [0.8, \"#7fbc41\"], [0.9, \"#4d9221\"], [1, \"#276419\"]], \"sequential\": [[0.0, \"#0d0887\"], [0.1111111111111111, \"#46039f\"], [0.2222222222222222, \"#7201a8\"], [0.3333333333333333, \"#9c179e\"], [0.4444444444444444, \"#bd3786\"], [0.5555555555555556, \"#d8576b\"], [0.6666666666666666, \"#ed7953\"], [0.7777777777777778, \"#fb9f3a\"], [0.8888888888888888, \"#fdca26\"], [1.0, \"#f0f921\"]], \"sequentialminus\": [[0.0, \"#0d0887\"], [0.1111111111111111, \"#46039f\"], [0.2222222222222222, \"#7201a8\"], [0.3333333333333333, \"#9c179e\"], [0.4444444444444444, \"#bd3786\"], [0.5555555555555556, \"#d8576b\"], [0.6666666666666666, \"#ed7953\"], [0.7777777777777778, \"#fb9f3a\"], [0.8888888888888888, \"#fdca26\"], [1.0, \"#f0f921\"]]}, \"colorway\": [\"#636efa\", \"#EF553B\", \"#00cc96\", \"#ab63fa\", \"#FFA15A\", \"#19d3f3\", \"#FF6692\", \"#B6E880\", \"#FF97FF\", \"#FECB52\"], \"font\": {\"color\": \"#2a3f5f\"}, \"geo\": {\"bgcolor\": \"white\", \"lakecolor\": \"white\", \"landcolor\": \"#E5ECF6\", \"showlakes\": true, \"showland\": true, \"subunitcolor\": \"white\"}, \"hoverlabel\": {\"align\": \"left\"}, \"hovermode\": \"closest\", \"mapbox\": {\"style\": \"light\"}, \"paper_bgcolor\": \"white\", \"plot_bgcolor\": \"#E5ECF6\", \"polar\": {\"angularaxis\": {\"gridcolor\": \"white\", \"linecolor\": \"white\", \"ticks\": \"\"}, \"bgcolor\": \"#E5ECF6\", \"radialaxis\": {\"gridcolor\": \"white\", \"linecolor\": \"white\", \"ticks\": \"\"}}, \"scene\": {\"xaxis\": {\"backgroundcolor\": \"#E5ECF6\", \"gridcolor\": \"white\", \"gridwidth\": 2, \"linecolor\": \"white\", \"showbackground\": true, \"ticks\": \"\", \"zerolinecolor\": \"white\"}, \"yaxis\": {\"backgroundcolor\": \"#E5ECF6\", \"gridcolor\": \"white\", \"gridwidth\": 2, \"linecolor\": \"white\", \"showbackground\": true, \"ticks\": \"\", \"zerolinecolor\": \"white\"}, \"zaxis\": {\"backgroundcolor\": \"#E5ECF6\", \"gridcolor\": \"white\", \"gridwidth\": 2, \"linecolor\": \"white\", \"showbackground\": true, \"ticks\": \"\", \"zerolinecolor\": \"white\"}}, \"shapedefaults\": {\"line\": {\"color\": \"#2a3f5f\"}}, \"ternary\": {\"aaxis\": {\"gridcolor\": \"white\", \"linecolor\": \"white\", \"ticks\": \"\"}, \"baxis\": {\"gridcolor\": \"white\", \"linecolor\": \"white\", \"ticks\": \"\"}, \"bgcolor\": \"#E5ECF6\", \"caxis\": {\"gridcolor\": \"white\", \"linecolor\": \"white\", \"ticks\": \"\"}}, \"title\": {\"x\": 0.05}, \"xaxis\": {\"automargin\": true, \"gridcolor\": \"white\", \"linecolor\": \"white\", \"ticks\": \"\", \"title\": {\"standoff\": 15}, \"zerolinecolor\": \"white\", \"zerolinewidth\": 2}, \"yaxis\": {\"automargin\": true, \"gridcolor\": \"white\", \"linecolor\": \"white\", \"ticks\": \"\", \"title\": {\"standoff\": 15}, \"zerolinecolor\": \"white\", \"zerolinewidth\": 2}}}, \"xaxis\": {\"anchor\": \"y\", \"domain\": [0.0, 0.2888888888888889], \"title\": {\"text\": \"$\\\\sigma_{noise}[Mm]$\"}}, \"xaxis2\": {\"anchor\": \"y2\", \"domain\": [0.35555555555555557, 0.6444444444444445], \"title\": {\"text\": \"$\\\\sigma_{noise}[Mm]$\"}}, \"xaxis3\": {\"anchor\": \"y3\", \"domain\": [0.7111111111111111, 1.0], \"title\": {\"text\": \"$\\\\sigma_{noise}[Mm]$\"}}, \"yaxis\": {\"anchor\": \"x\", \"domain\": [0.0, 1.0], \"range\": [-35, 5], \"showline\": true, \"tickvals\": [-35, -30, -25, -20, -15, -10, -5, 0, 5], \"title\": {\"text\": \"$Percent Error$\"}}, \"yaxis2\": {\"anchor\": \"x2\", \"domain\": [0.0, 1.0], \"range\": [-35, 5], \"tickvals\": [-35, -30, -25, -20, -15, -10, -5, 0, 5]}, \"yaxis3\": {\"anchor\": \"x3\", \"domain\": [0.0, 1.0], \"range\": [-35, 5], \"tickvals\": [-35, -30, -25, -20, -15, -10, -5, 0, 5]}},                        {\"responsive\": true}                    ).then(function(){\n",
       "                            \n",
       "var gd = document.getElementById('b1df3f4b-0e4a-4f08-9bbb-a392ac561b6e');\n",
       "var x = new MutationObserver(function (mutations, observer) {{\n",
       "        var display = window.getComputedStyle(gd).display;\n",
       "        if (!display || display === 'none') {{\n",
       "            console.log([gd, 'removed!']);\n",
       "            Plotly.purge(gd);\n",
       "            observer.disconnect();\n",
       "        }}\n",
       "}});\n",
       "\n",
       "// Listen for the removal of the full notebook cells\n",
       "var notebookContainer = gd.closest('#notebook-container');\n",
       "if (notebookContainer) {{\n",
       "    x.observe(notebookContainer, {childList: true});\n",
       "}}\n",
       "\n",
       "// Listen for the clearing of the current output cell\n",
       "var outputEl = gd.closest('.output');\n",
       "if (outputEl) {{\n",
       "    x.observe(outputEl, {childList: true});\n",
       "}}\n",
       "\n",
       "                        })                };                });            </script>        </div>"
      ]
     },
     "metadata": {},
     "output_type": "display_data"
    }
   ],
   "source": [
    "file = loadmat('fig2andfig3vars.mat')\n",
    "\n",
    "listSigmaC = np.squeeze(np.asarray((np.reshape(file['listSigmaC'], 6))))\n",
    "\n",
    "curErr = file['curErr']\n",
    "errQt = file['errQt']\n",
    "errMd = file['errMd']\n",
    "\n",
    "curErr1 = file['curErr1']\n",
    "errQt1 = file['errQt1']\n",
    "errMd1 = file['errMd1']\n",
    "\n",
    "curErr2 = file['curErr2']\n",
    "errQt2 = file['errQt2']\n",
    "errMd2 = file['errMd2']\n",
    "\n",
    "fig = make_subplots(rows=1, cols=3, \n",
    "                    subplot_titles=(r'$\\widehat{k_{ep,RR}}$', r'$K^{trans}_{RR}$', r'$V_{e,RR}$'),\n",
    "                    )\n",
    "\n",
    "# First subplot \n",
    "line_colours = cycle(['#006837','#31A354','#78C679','#C2E699'])\n",
    "\n",
    "legend_values = cycle([5, 10, 15, 30])\n",
    "\n",
    "\n",
    "for i in range(0,4):\n",
    "    finalErrMd=np.squeeze(np.asarray((np.reshape(errMd[i,:], 6))))\n",
    "    finalErrorDiff=np.squeeze(np.asarray((np.reshape(abs(errQt[i,:,0]-errMd[i,:]), 6))))\n",
    "    finalErrorDiffMinus=np.squeeze(np.asarray((np.reshape(abs(errQt[i,:,1]-errMd[i,:]), 6))))\n",
    "    fig.add_trace(go.Scatter(\n",
    "        x=listSigmaC,\n",
    "        y=finalErrMd,\n",
    "        error_y=dict(\n",
    "            type='data', # value of error bar given in data coordinates\n",
    "            array=finalErrorDiff,\n",
    "            arrayminus=finalErrorDiffMinus,\n",
    "            symmetric=False,\n",
    "            visible=True,\n",
    "            thickness=4),\n",
    "        name=next(legend_values),\n",
    "        legendgroup=i,\n",
    "        line_color=next(line_colours),\n",
    "        line_width=4, showlegend=False\n",
    "    ),row=1, col=1)\n",
    "    \n",
    "\n",
    "\n",
    "\n",
    "# Second subplot\n",
    "\n",
    "line_colours = cycle(['#006837','#31A354','#78C679','#C2E699'])\n",
    "\n",
    "for i in range(0,4):\n",
    "    finalErrMd1=np.squeeze(np.asarray((np.reshape(errMd1[i,:], 6))))\n",
    "    \n",
    "    finalErrorDiff1=np.squeeze(np.asarray((np.reshape(abs(errQt1[i,:,0]-errMd1[i,:]), 6))))\n",
    "    finalErrorDiffMinus1=np.squeeze(np.asarray((np.reshape(abs(errQt1[i,:,1]-errMd1[i,:]), 6))))\n",
    "    fig.add_trace(go.Scatter(\n",
    "        x=listSigmaC,\n",
    "        y=finalErrMd1,\n",
    "        error_y=dict(\n",
    "            type='data', # value of error bar given in data coordinates\n",
    "            array=finalErrorDiff1,\n",
    "            arrayminus=finalErrorDiffMinus1,\n",
    "            symmetric=False,\n",
    "            visible=True,\n",
    "            thickness=4),\n",
    "        name=next(legend_values),\n",
    "        legendgroup=i,\n",
    "        line_color=next(line_colours),\n",
    "        line_width=4, showlegend=False       \n",
    "    ),row=1, col=2)\n",
    "\n",
    "\n",
    "\n",
    "\n",
    "# Third subplot\n",
    "\n",
    "legend_values=cycle(['5','10','15','30'])\n",
    "\n",
    "    \n",
    "line_colours = cycle(['#006837','#31A354','#78C679','#C2E699'])\n",
    "\n",
    "for i in range(0,4):\n",
    "    finalErrMd2=np.squeeze(np.asarray((np.reshape(errMd2[i,:], 6))))\n",
    "    \n",
    "    finalErrorDiff2=np.squeeze(np.asarray((np.reshape(abs(errQt2[i,:,0]-errMd2[i,:]), 6))))\n",
    "    finalErrorDiffMinus2=np.squeeze(np.asarray((np.reshape(abs(errQt2[i,:,1]-errMd2[i,:]), 6))))\n",
    "    fig.add_trace(go.Scatter(\n",
    "        x=listSigmaC,\n",
    "        y=finalErrMd2,\n",
    "        error_y=dict(\n",
    "            type='data', # value of error bar given in data coordinates\n",
    "            array=finalErrorDiff2,\n",
    "            arrayminus=finalErrorDiffMinus2,\n",
    "            symmetric=False,\n",
    "            visible=True,\n",
    "            thickness=4),\n",
    "        name=next(legend_values),\n",
    "        legendgroup=i,\n",
    "        line_color=next(line_colours),\n",
    "        line_width=4, showlegend=True      \n",
    "    ),row=1, col=3)\n",
    "\n",
    "# General\n",
    "\n",
    "fig.update_xaxes(title_text=r'$\\sigma_{noise}[Mm]$')\n",
    "\n",
    "fig.update_yaxes(range=[-35,5], tickvals=[-35,-30,-25,-20,-15,-10,-5,0,5], row=1, col=1)\n",
    "fig.update_yaxes(range=[-35,5], tickvals=[-35,-30,-25,-20,-15,-10,-5,0,5], row=1, col=2)\n",
    "fig.update_yaxes(range=[-35,5], tickvals=[-35,-30,-25,-20,-15,-10,-5,0,5], row=1, col=3)\n",
    "\n",
    "fig.update_layout(yaxis=dict(title=r'$Percent Error$',\n",
    "                             showline=True), \n",
    "                  plot_bgcolor='#ffffff',\n",
    ")\n",
    "\n",
    "fig.show()"
   ]
  },
  {
   "cell_type": "markdown",
   "metadata": {
    "kernel": "SoS"
   },
   "source": [
    "## Figure 3 - first subfigure"
   ]
  },
  {
   "cell_type": "code",
   "execution_count": 103,
   "metadata": {
    "kernel": "SoS"
   },
   "outputs": [
    {
     "data": {
      "application/vnd.plotly.v1+json": {
       "config": {
        "plotlyServerURL": "https://plot.ly"
       },
       "data": [
        {
         "error_y": {
          "array": [
           0.03388139495298925,
           0.7404281711346938,
           1.4658835655797455,
           2.129988761342605,
           2.660829314126473,
           3.016120656885529
          ],
          "arrayminus": [
           0.03991063959919994,
           0.7324514722922115,
           1.5825915928927126,
           2.1019365644807717,
           2.45474965074789,
           3.008280181452816
          ],
          "symmetric": false,
          "thickness": 4,
          "type": "data",
          "visible": true
         },
         "line": {
          "color": "#006837",
          "width": 4
         },
         "name": "5",
         "showlegend": false,
         "type": "scatter",
         "visible": true,
         "x": [
          0,
          0.01,
          0.02,
          0.030000000000000002,
          0.04,
          0.05
         ],
         "y": [
          -0.04747548340481855,
          -0.6308295631378968,
          -1.6567340832072786,
          -2.8054493607440945,
          -3.6836849713625943,
          -4.975374394849497
         ]
        },
        {
         "error_y": {
          "array": [
           0.4277464509514939,
           1.2560218129175849,
           1.9880118920301335,
           3.2227744269238023,
           3.755097657175998,
           3.2998920988873977
          ],
          "arrayminus": [
           0.3607453075580913,
           1.308007924190474,
           2.2136205789399788,
           2.780317074085609,
           3.3913166621801167,
           3.9727700216417077
          ],
          "symmetric": false,
          "thickness": 4,
          "type": "data",
          "visible": true
         },
         "line": {
          "color": "#31A354",
          "width": 4
         },
         "name": "10",
         "showlegend": false,
         "type": "scatter",
         "visible": false,
         "x": [
          0,
          0.01,
          0.02,
          0.030000000000000002,
          0.04,
          0.05
         ],
         "y": [
          -0.2986318818728184,
          -1.3946955753039614,
          -2.724839365549836,
          -3.6806795407376747,
          -5.758618691497109,
          -8.812282777007058
         ]
        },
        {
         "error_y": {
          "array": [
           0.9370348617132152,
           1.9398213719655004,
           2.927532083544132,
           3.410028193781095,
           3.7740218137168444,
           4.492239530887783
          ],
          "arrayminus": [
           0.8652251872720007,
           1.905923492675099,
           2.8108260048883063,
           3.403025938670911,
           3.7731314318001363,
           4.196564304365684
          ],
          "symmetric": false,
          "thickness": 4,
          "type": "data",
          "visible": true
         },
         "line": {
          "color": "#78C679",
          "width": 4
         },
         "name": "15",
         "showlegend": false,
         "type": "scatter",
         "visible": false,
         "x": [
          0,
          0.01,
          0.02,
          0.030000000000000002,
          0.04,
          0.05
         ],
         "y": [
          -0.8457073530692027,
          -2.0758457285490195,
          -3.1512208895249474,
          -5.269536609424518,
          -7.973999490010042,
          -10.334319490708559
         ]
        },
        {
         "error_y": {
          "array": [
           1.1335727023198516,
           2.5229083167114528,
           3.8737304430633674,
           4.485306162005974,
           4.887906186538647,
           5.406392513182912
          ],
          "arrayminus": [
           1.2346075421084457,
           2.687406842837115,
           3.7906620271234366,
           4.424035689139599,
           4.82989241413193,
           5.31934866289318
          ],
          "symmetric": false,
          "thickness": 4,
          "type": "data",
          "visible": true
         },
         "line": {
          "color": "#C2E699",
          "width": 4
         },
         "name": "30",
         "showlegend": false,
         "type": "scatter",
         "visible": false,
         "x": [
          0,
          0.01,
          0.02,
          0.030000000000000002,
          0.04,
          0.05
         ],
         "y": [
          -3.307880273248387,
          -5.731790258306175,
          -7.677269738095182,
          -9.695654042240742,
          -12.052555466436065,
          -14.7560365591039
         ]
        }
       ],
       "layout": {
        "legend": {
         "x": 0.3,
         "xanchor": "right",
         "y": 0.2,
         "yanchor": "bottom"
        },
        "plot_bgcolor": "#ffffff",
        "sliders": [
         {
          "active": 4,
          "currentvalue": {
           "prefix": "Temporal resolution [seconds]: "
          },
          "pad": {
           "t": 70
          },
          "steps": [
           {
            "args": [
             {
              "visible": [
               true,
               false,
               false,
               false
              ]
             }
            ],
            "label": "5",
            "method": "update",
            "value": "5"
           },
           {
            "args": [
             {
              "visible": [
               false,
               true,
               false,
               false
              ]
             }
            ],
            "label": "10",
            "method": "update",
            "value": "10"
           },
           {
            "args": [
             {
              "visible": [
               false,
               false,
               true,
               false
              ]
             }
            ],
            "label": "15",
            "method": "update",
            "value": "15"
           },
           {
            "args": [
             {
              "visible": [
               false,
               false,
               false,
               true
              ]
             }
            ],
            "label": "30",
            "method": "update",
            "value": "30"
           }
          ]
         }
        ],
        "template": {
         "data": {
          "bar": [
           {
            "error_x": {
             "color": "#2a3f5f"
            },
            "error_y": {
             "color": "#2a3f5f"
            },
            "marker": {
             "line": {
              "color": "#E5ECF6",
              "width": 0.5
             }
            },
            "type": "bar"
           }
          ],
          "barpolar": [
           {
            "marker": {
             "line": {
              "color": "#E5ECF6",
              "width": 0.5
             }
            },
            "type": "barpolar"
           }
          ],
          "carpet": [
           {
            "aaxis": {
             "endlinecolor": "#2a3f5f",
             "gridcolor": "white",
             "linecolor": "white",
             "minorgridcolor": "white",
             "startlinecolor": "#2a3f5f"
            },
            "baxis": {
             "endlinecolor": "#2a3f5f",
             "gridcolor": "white",
             "linecolor": "white",
             "minorgridcolor": "white",
             "startlinecolor": "#2a3f5f"
            },
            "type": "carpet"
           }
          ],
          "choropleth": [
           {
            "colorbar": {
             "outlinewidth": 0,
             "ticks": ""
            },
            "type": "choropleth"
           }
          ],
          "contour": [
           {
            "colorbar": {
             "outlinewidth": 0,
             "ticks": ""
            },
            "colorscale": [
             [
              0,
              "#0d0887"
             ],
             [
              0.1111111111111111,
              "#46039f"
             ],
             [
              0.2222222222222222,
              "#7201a8"
             ],
             [
              0.3333333333333333,
              "#9c179e"
             ],
             [
              0.4444444444444444,
              "#bd3786"
             ],
             [
              0.5555555555555556,
              "#d8576b"
             ],
             [
              0.6666666666666666,
              "#ed7953"
             ],
             [
              0.7777777777777778,
              "#fb9f3a"
             ],
             [
              0.8888888888888888,
              "#fdca26"
             ],
             [
              1,
              "#f0f921"
             ]
            ],
            "type": "contour"
           }
          ],
          "contourcarpet": [
           {
            "colorbar": {
             "outlinewidth": 0,
             "ticks": ""
            },
            "type": "contourcarpet"
           }
          ],
          "heatmap": [
           {
            "colorbar": {
             "outlinewidth": 0,
             "ticks": ""
            },
            "colorscale": [
             [
              0,
              "#0d0887"
             ],
             [
              0.1111111111111111,
              "#46039f"
             ],
             [
              0.2222222222222222,
              "#7201a8"
             ],
             [
              0.3333333333333333,
              "#9c179e"
             ],
             [
              0.4444444444444444,
              "#bd3786"
             ],
             [
              0.5555555555555556,
              "#d8576b"
             ],
             [
              0.6666666666666666,
              "#ed7953"
             ],
             [
              0.7777777777777778,
              "#fb9f3a"
             ],
             [
              0.8888888888888888,
              "#fdca26"
             ],
             [
              1,
              "#f0f921"
             ]
            ],
            "type": "heatmap"
           }
          ],
          "heatmapgl": [
           {
            "colorbar": {
             "outlinewidth": 0,
             "ticks": ""
            },
            "colorscale": [
             [
              0,
              "#0d0887"
             ],
             [
              0.1111111111111111,
              "#46039f"
             ],
             [
              0.2222222222222222,
              "#7201a8"
             ],
             [
              0.3333333333333333,
              "#9c179e"
             ],
             [
              0.4444444444444444,
              "#bd3786"
             ],
             [
              0.5555555555555556,
              "#d8576b"
             ],
             [
              0.6666666666666666,
              "#ed7953"
             ],
             [
              0.7777777777777778,
              "#fb9f3a"
             ],
             [
              0.8888888888888888,
              "#fdca26"
             ],
             [
              1,
              "#f0f921"
             ]
            ],
            "type": "heatmapgl"
           }
          ],
          "histogram": [
           {
            "marker": {
             "colorbar": {
              "outlinewidth": 0,
              "ticks": ""
             }
            },
            "type": "histogram"
           }
          ],
          "histogram2d": [
           {
            "colorbar": {
             "outlinewidth": 0,
             "ticks": ""
            },
            "colorscale": [
             [
              0,
              "#0d0887"
             ],
             [
              0.1111111111111111,
              "#46039f"
             ],
             [
              0.2222222222222222,
              "#7201a8"
             ],
             [
              0.3333333333333333,
              "#9c179e"
             ],
             [
              0.4444444444444444,
              "#bd3786"
             ],
             [
              0.5555555555555556,
              "#d8576b"
             ],
             [
              0.6666666666666666,
              "#ed7953"
             ],
             [
              0.7777777777777778,
              "#fb9f3a"
             ],
             [
              0.8888888888888888,
              "#fdca26"
             ],
             [
              1,
              "#f0f921"
             ]
            ],
            "type": "histogram2d"
           }
          ],
          "histogram2dcontour": [
           {
            "colorbar": {
             "outlinewidth": 0,
             "ticks": ""
            },
            "colorscale": [
             [
              0,
              "#0d0887"
             ],
             [
              0.1111111111111111,
              "#46039f"
             ],
             [
              0.2222222222222222,
              "#7201a8"
             ],
             [
              0.3333333333333333,
              "#9c179e"
             ],
             [
              0.4444444444444444,
              "#bd3786"
             ],
             [
              0.5555555555555556,
              "#d8576b"
             ],
             [
              0.6666666666666666,
              "#ed7953"
             ],
             [
              0.7777777777777778,
              "#fb9f3a"
             ],
             [
              0.8888888888888888,
              "#fdca26"
             ],
             [
              1,
              "#f0f921"
             ]
            ],
            "type": "histogram2dcontour"
           }
          ],
          "mesh3d": [
           {
            "colorbar": {
             "outlinewidth": 0,
             "ticks": ""
            },
            "type": "mesh3d"
           }
          ],
          "parcoords": [
           {
            "line": {
             "colorbar": {
              "outlinewidth": 0,
              "ticks": ""
             }
            },
            "type": "parcoords"
           }
          ],
          "pie": [
           {
            "automargin": true,
            "type": "pie"
           }
          ],
          "scatter": [
           {
            "marker": {
             "colorbar": {
              "outlinewidth": 0,
              "ticks": ""
             }
            },
            "type": "scatter"
           }
          ],
          "scatter3d": [
           {
            "line": {
             "colorbar": {
              "outlinewidth": 0,
              "ticks": ""
             }
            },
            "marker": {
             "colorbar": {
              "outlinewidth": 0,
              "ticks": ""
             }
            },
            "type": "scatter3d"
           }
          ],
          "scattercarpet": [
           {
            "marker": {
             "colorbar": {
              "outlinewidth": 0,
              "ticks": ""
             }
            },
            "type": "scattercarpet"
           }
          ],
          "scattergeo": [
           {
            "marker": {
             "colorbar": {
              "outlinewidth": 0,
              "ticks": ""
             }
            },
            "type": "scattergeo"
           }
          ],
          "scattergl": [
           {
            "marker": {
             "colorbar": {
              "outlinewidth": 0,
              "ticks": ""
             }
            },
            "type": "scattergl"
           }
          ],
          "scattermapbox": [
           {
            "marker": {
             "colorbar": {
              "outlinewidth": 0,
              "ticks": ""
             }
            },
            "type": "scattermapbox"
           }
          ],
          "scatterpolar": [
           {
            "marker": {
             "colorbar": {
              "outlinewidth": 0,
              "ticks": ""
             }
            },
            "type": "scatterpolar"
           }
          ],
          "scatterpolargl": [
           {
            "marker": {
             "colorbar": {
              "outlinewidth": 0,
              "ticks": ""
             }
            },
            "type": "scatterpolargl"
           }
          ],
          "scatterternary": [
           {
            "marker": {
             "colorbar": {
              "outlinewidth": 0,
              "ticks": ""
             }
            },
            "type": "scatterternary"
           }
          ],
          "surface": [
           {
            "colorbar": {
             "outlinewidth": 0,
             "ticks": ""
            },
            "colorscale": [
             [
              0,
              "#0d0887"
             ],
             [
              0.1111111111111111,
              "#46039f"
             ],
             [
              0.2222222222222222,
              "#7201a8"
             ],
             [
              0.3333333333333333,
              "#9c179e"
             ],
             [
              0.4444444444444444,
              "#bd3786"
             ],
             [
              0.5555555555555556,
              "#d8576b"
             ],
             [
              0.6666666666666666,
              "#ed7953"
             ],
             [
              0.7777777777777778,
              "#fb9f3a"
             ],
             [
              0.8888888888888888,
              "#fdca26"
             ],
             [
              1,
              "#f0f921"
             ]
            ],
            "type": "surface"
           }
          ],
          "table": [
           {
            "cells": {
             "fill": {
              "color": "#EBF0F8"
             },
             "line": {
              "color": "white"
             }
            },
            "header": {
             "fill": {
              "color": "#C8D4E3"
             },
             "line": {
              "color": "white"
             }
            },
            "type": "table"
           }
          ]
         },
         "layout": {
          "annotationdefaults": {
           "arrowcolor": "#2a3f5f",
           "arrowhead": 0,
           "arrowwidth": 1
          },
          "autotypenumbers": "strict",
          "coloraxis": {
           "colorbar": {
            "outlinewidth": 0,
            "ticks": ""
           }
          },
          "colorscale": {
           "diverging": [
            [
             0,
             "#8e0152"
            ],
            [
             0.1,
             "#c51b7d"
            ],
            [
             0.2,
             "#de77ae"
            ],
            [
             0.3,
             "#f1b6da"
            ],
            [
             0.4,
             "#fde0ef"
            ],
            [
             0.5,
             "#f7f7f7"
            ],
            [
             0.6,
             "#e6f5d0"
            ],
            [
             0.7,
             "#b8e186"
            ],
            [
             0.8,
             "#7fbc41"
            ],
            [
             0.9,
             "#4d9221"
            ],
            [
             1,
             "#276419"
            ]
           ],
           "sequential": [
            [
             0,
             "#0d0887"
            ],
            [
             0.1111111111111111,
             "#46039f"
            ],
            [
             0.2222222222222222,
             "#7201a8"
            ],
            [
             0.3333333333333333,
             "#9c179e"
            ],
            [
             0.4444444444444444,
             "#bd3786"
            ],
            [
             0.5555555555555556,
             "#d8576b"
            ],
            [
             0.6666666666666666,
             "#ed7953"
            ],
            [
             0.7777777777777778,
             "#fb9f3a"
            ],
            [
             0.8888888888888888,
             "#fdca26"
            ],
            [
             1,
             "#f0f921"
            ]
           ],
           "sequentialminus": [
            [
             0,
             "#0d0887"
            ],
            [
             0.1111111111111111,
             "#46039f"
            ],
            [
             0.2222222222222222,
             "#7201a8"
            ],
            [
             0.3333333333333333,
             "#9c179e"
            ],
            [
             0.4444444444444444,
             "#bd3786"
            ],
            [
             0.5555555555555556,
             "#d8576b"
            ],
            [
             0.6666666666666666,
             "#ed7953"
            ],
            [
             0.7777777777777778,
             "#fb9f3a"
            ],
            [
             0.8888888888888888,
             "#fdca26"
            ],
            [
             1,
             "#f0f921"
            ]
           ]
          },
          "colorway": [
           "#636efa",
           "#EF553B",
           "#00cc96",
           "#ab63fa",
           "#FFA15A",
           "#19d3f3",
           "#FF6692",
           "#B6E880",
           "#FF97FF",
           "#FECB52"
          ],
          "font": {
           "color": "#2a3f5f"
          },
          "geo": {
           "bgcolor": "white",
           "lakecolor": "white",
           "landcolor": "#E5ECF6",
           "showlakes": true,
           "showland": true,
           "subunitcolor": "white"
          },
          "hoverlabel": {
           "align": "left"
          },
          "hovermode": "closest",
          "mapbox": {
           "style": "light"
          },
          "paper_bgcolor": "white",
          "plot_bgcolor": "#E5ECF6",
          "polar": {
           "angularaxis": {
            "gridcolor": "white",
            "linecolor": "white",
            "ticks": ""
           },
           "bgcolor": "#E5ECF6",
           "radialaxis": {
            "gridcolor": "white",
            "linecolor": "white",
            "ticks": ""
           }
          },
          "scene": {
           "xaxis": {
            "backgroundcolor": "#E5ECF6",
            "gridcolor": "white",
            "gridwidth": 2,
            "linecolor": "white",
            "showbackground": true,
            "ticks": "",
            "zerolinecolor": "white"
           },
           "yaxis": {
            "backgroundcolor": "#E5ECF6",
            "gridcolor": "white",
            "gridwidth": 2,
            "linecolor": "white",
            "showbackground": true,
            "ticks": "",
            "zerolinecolor": "white"
           },
           "zaxis": {
            "backgroundcolor": "#E5ECF6",
            "gridcolor": "white",
            "gridwidth": 2,
            "linecolor": "white",
            "showbackground": true,
            "ticks": "",
            "zerolinecolor": "white"
           }
          },
          "shapedefaults": {
           "line": {
            "color": "#2a3f5f"
           }
          },
          "ternary": {
           "aaxis": {
            "gridcolor": "white",
            "linecolor": "white",
            "ticks": ""
           },
           "baxis": {
            "gridcolor": "white",
            "linecolor": "white",
            "ticks": ""
           },
           "bgcolor": "#E5ECF6",
           "caxis": {
            "gridcolor": "white",
            "linecolor": "white",
            "ticks": ""
           }
          },
          "title": {
           "x": 0.05
          },
          "xaxis": {
           "automargin": true,
           "gridcolor": "white",
           "linecolor": "white",
           "ticks": "",
           "title": {
            "standoff": 15
           },
           "zerolinecolor": "white",
           "zerolinewidth": 2
          },
          "yaxis": {
           "automargin": true,
           "gridcolor": "white",
           "linecolor": "white",
           "ticks": "",
           "title": {
            "standoff": 15
           },
           "zerolinecolor": "white",
           "zerolinewidth": 2
          }
         }
        },
        "title": {
         "text": "$\\widehat{k_{ep,RR}}$",
         "x": 0.5,
         "xanchor": "center"
        },
        "xaxis": {
         "title": {
          "text": "$\\sigma_{noise}[Mm]$"
         }
        },
        "yaxis": {
         "range": [
          -35,
          5
         ],
         "showline": true,
         "tickvals": [
          -35,
          -30,
          -25,
          -20,
          -15,
          -10,
          -5,
          0,
          5
         ],
         "title": {
          "text": "$Percent Error$"
         }
        }
       }
      },
      "text/html": [
       "<div>                            <div id=\"a5a3bd24-74bd-4b47-9b8f-af23ffffe175\" class=\"plotly-graph-div\" style=\"height:525px; width:100%;\"></div>            <script type=\"text/javascript\">                require([\"plotly\"], function(Plotly) {                    window.PLOTLYENV=window.PLOTLYENV || {};                                    if (document.getElementById(\"a5a3bd24-74bd-4b47-9b8f-af23ffffe175\")) {                    Plotly.newPlot(                        \"a5a3bd24-74bd-4b47-9b8f-af23ffffe175\",                        [{\"error_y\": {\"array\": [0.03388139495298925, 0.7404281711346938, 1.4658835655797455, 2.129988761342605, 2.660829314126473, 3.016120656885529], \"arrayminus\": [0.03991063959919994, 0.7324514722922115, 1.5825915928927126, 2.1019365644807717, 2.45474965074789, 3.008280181452816], \"symmetric\": false, \"thickness\": 4, \"type\": \"data\", \"visible\": true}, \"line\": {\"color\": \"#006837\", \"width\": 4}, \"name\": \"5\", \"showlegend\": false, \"type\": \"scatter\", \"visible\": true, \"x\": [0.0, 0.01, 0.02, 0.030000000000000002, 0.04, 0.05], \"y\": [-0.04747548340481855, -0.6308295631378968, -1.6567340832072786, -2.8054493607440945, -3.6836849713625943, -4.975374394849497]}, {\"error_y\": {\"array\": [0.4277464509514939, 1.2560218129175849, 1.9880118920301335, 3.2227744269238023, 3.755097657175998, 3.2998920988873977], \"arrayminus\": [0.3607453075580913, 1.308007924190474, 2.2136205789399788, 2.780317074085609, 3.3913166621801167, 3.9727700216417077], \"symmetric\": false, \"thickness\": 4, \"type\": \"data\", \"visible\": true}, \"line\": {\"color\": \"#31A354\", \"width\": 4}, \"name\": \"10\", \"showlegend\": false, \"type\": \"scatter\", \"visible\": false, \"x\": [0.0, 0.01, 0.02, 0.030000000000000002, 0.04, 0.05], \"y\": [-0.2986318818728184, -1.3946955753039614, -2.724839365549836, -3.6806795407376747, -5.758618691497109, -8.812282777007058]}, {\"error_y\": {\"array\": [0.9370348617132152, 1.9398213719655004, 2.927532083544132, 3.410028193781095, 3.7740218137168444, 4.492239530887783], \"arrayminus\": [0.8652251872720007, 1.905923492675099, 2.8108260048883063, 3.403025938670911, 3.7731314318001363, 4.196564304365684], \"symmetric\": false, \"thickness\": 4, \"type\": \"data\", \"visible\": true}, \"line\": {\"color\": \"#78C679\", \"width\": 4}, \"name\": \"15\", \"showlegend\": false, \"type\": \"scatter\", \"visible\": false, \"x\": [0.0, 0.01, 0.02, 0.030000000000000002, 0.04, 0.05], \"y\": [-0.8457073530692027, -2.0758457285490195, -3.1512208895249474, -5.269536609424518, -7.973999490010042, -10.334319490708559]}, {\"error_y\": {\"array\": [1.1335727023198516, 2.5229083167114528, 3.8737304430633674, 4.485306162005974, 4.887906186538647, 5.406392513182912], \"arrayminus\": [1.2346075421084457, 2.687406842837115, 3.7906620271234366, 4.424035689139599, 4.82989241413193, 5.31934866289318], \"symmetric\": false, \"thickness\": 4, \"type\": \"data\", \"visible\": true}, \"line\": {\"color\": \"#C2E699\", \"width\": 4}, \"name\": \"30\", \"showlegend\": false, \"type\": \"scatter\", \"visible\": false, \"x\": [0.0, 0.01, 0.02, 0.030000000000000002, 0.04, 0.05], \"y\": [-3.307880273248387, -5.731790258306175, -7.677269738095182, -9.695654042240742, -12.052555466436065, -14.7560365591039]}],                        {\"legend\": {\"x\": 0.3, \"xanchor\": \"right\", \"y\": 0.2, \"yanchor\": \"bottom\"}, \"plot_bgcolor\": \"#ffffff\", \"sliders\": [{\"active\": 4, \"currentvalue\": {\"prefix\": \"Temporal resolution [seconds]: \"}, \"pad\": {\"t\": 70}, \"steps\": [{\"args\": [{\"visible\": [true, false, false, false]}], \"label\": \"5\", \"method\": \"update\", \"value\": \"5\"}, {\"args\": [{\"visible\": [false, true, false, false]}], \"label\": \"10\", \"method\": \"update\", \"value\": \"10\"}, {\"args\": [{\"visible\": [false, false, true, false]}], \"label\": \"15\", \"method\": \"update\", \"value\": \"15\"}, {\"args\": [{\"visible\": [false, false, false, true]}], \"label\": \"30\", \"method\": \"update\", \"value\": \"30\"}]}], \"template\": {\"data\": {\"bar\": [{\"error_x\": {\"color\": \"#2a3f5f\"}, \"error_y\": {\"color\": \"#2a3f5f\"}, \"marker\": {\"line\": {\"color\": \"#E5ECF6\", \"width\": 0.5}}, \"type\": \"bar\"}], \"barpolar\": [{\"marker\": {\"line\": {\"color\": \"#E5ECF6\", \"width\": 0.5}}, \"type\": \"barpolar\"}], \"carpet\": [{\"aaxis\": {\"endlinecolor\": \"#2a3f5f\", \"gridcolor\": \"white\", \"linecolor\": \"white\", \"minorgridcolor\": \"white\", \"startlinecolor\": \"#2a3f5f\"}, \"baxis\": {\"endlinecolor\": \"#2a3f5f\", \"gridcolor\": \"white\", \"linecolor\": \"white\", \"minorgridcolor\": \"white\", \"startlinecolor\": \"#2a3f5f\"}, \"type\": \"carpet\"}], \"choropleth\": [{\"colorbar\": {\"outlinewidth\": 0, \"ticks\": \"\"}, \"type\": \"choropleth\"}], \"contour\": [{\"colorbar\": {\"outlinewidth\": 0, \"ticks\": \"\"}, \"colorscale\": [[0.0, \"#0d0887\"], [0.1111111111111111, \"#46039f\"], [0.2222222222222222, \"#7201a8\"], [0.3333333333333333, \"#9c179e\"], [0.4444444444444444, \"#bd3786\"], [0.5555555555555556, \"#d8576b\"], [0.6666666666666666, \"#ed7953\"], [0.7777777777777778, \"#fb9f3a\"], [0.8888888888888888, \"#fdca26\"], [1.0, \"#f0f921\"]], \"type\": \"contour\"}], \"contourcarpet\": [{\"colorbar\": {\"outlinewidth\": 0, \"ticks\": \"\"}, \"type\": \"contourcarpet\"}], \"heatmap\": [{\"colorbar\": {\"outlinewidth\": 0, \"ticks\": \"\"}, \"colorscale\": [[0.0, \"#0d0887\"], [0.1111111111111111, \"#46039f\"], [0.2222222222222222, \"#7201a8\"], [0.3333333333333333, \"#9c179e\"], [0.4444444444444444, \"#bd3786\"], [0.5555555555555556, \"#d8576b\"], [0.6666666666666666, \"#ed7953\"], [0.7777777777777778, \"#fb9f3a\"], [0.8888888888888888, \"#fdca26\"], [1.0, \"#f0f921\"]], \"type\": \"heatmap\"}], \"heatmapgl\": [{\"colorbar\": {\"outlinewidth\": 0, \"ticks\": \"\"}, \"colorscale\": [[0.0, \"#0d0887\"], [0.1111111111111111, \"#46039f\"], [0.2222222222222222, \"#7201a8\"], [0.3333333333333333, \"#9c179e\"], [0.4444444444444444, \"#bd3786\"], [0.5555555555555556, \"#d8576b\"], [0.6666666666666666, \"#ed7953\"], [0.7777777777777778, \"#fb9f3a\"], [0.8888888888888888, \"#fdca26\"], [1.0, \"#f0f921\"]], \"type\": \"heatmapgl\"}], \"histogram\": [{\"marker\": {\"colorbar\": {\"outlinewidth\": 0, \"ticks\": \"\"}}, \"type\": \"histogram\"}], \"histogram2d\": [{\"colorbar\": {\"outlinewidth\": 0, \"ticks\": \"\"}, \"colorscale\": [[0.0, \"#0d0887\"], [0.1111111111111111, \"#46039f\"], [0.2222222222222222, \"#7201a8\"], [0.3333333333333333, \"#9c179e\"], [0.4444444444444444, \"#bd3786\"], [0.5555555555555556, \"#d8576b\"], [0.6666666666666666, \"#ed7953\"], [0.7777777777777778, \"#fb9f3a\"], [0.8888888888888888, \"#fdca26\"], [1.0, \"#f0f921\"]], \"type\": \"histogram2d\"}], \"histogram2dcontour\": [{\"colorbar\": {\"outlinewidth\": 0, \"ticks\": \"\"}, \"colorscale\": [[0.0, \"#0d0887\"], [0.1111111111111111, \"#46039f\"], [0.2222222222222222, \"#7201a8\"], [0.3333333333333333, \"#9c179e\"], [0.4444444444444444, \"#bd3786\"], [0.5555555555555556, \"#d8576b\"], [0.6666666666666666, \"#ed7953\"], [0.7777777777777778, \"#fb9f3a\"], [0.8888888888888888, \"#fdca26\"], [1.0, \"#f0f921\"]], \"type\": \"histogram2dcontour\"}], \"mesh3d\": [{\"colorbar\": {\"outlinewidth\": 0, \"ticks\": \"\"}, \"type\": \"mesh3d\"}], \"parcoords\": [{\"line\": {\"colorbar\": {\"outlinewidth\": 0, \"ticks\": \"\"}}, \"type\": \"parcoords\"}], \"pie\": [{\"automargin\": true, \"type\": \"pie\"}], \"scatter\": [{\"marker\": {\"colorbar\": {\"outlinewidth\": 0, \"ticks\": \"\"}}, \"type\": \"scatter\"}], \"scatter3d\": [{\"line\": {\"colorbar\": {\"outlinewidth\": 0, \"ticks\": \"\"}}, \"marker\": {\"colorbar\": {\"outlinewidth\": 0, \"ticks\": \"\"}}, \"type\": \"scatter3d\"}], \"scattercarpet\": [{\"marker\": {\"colorbar\": {\"outlinewidth\": 0, \"ticks\": \"\"}}, \"type\": \"scattercarpet\"}], \"scattergeo\": [{\"marker\": {\"colorbar\": {\"outlinewidth\": 0, \"ticks\": \"\"}}, \"type\": \"scattergeo\"}], \"scattergl\": [{\"marker\": {\"colorbar\": {\"outlinewidth\": 0, \"ticks\": \"\"}}, \"type\": \"scattergl\"}], \"scattermapbox\": [{\"marker\": {\"colorbar\": {\"outlinewidth\": 0, \"ticks\": \"\"}}, \"type\": \"scattermapbox\"}], \"scatterpolar\": [{\"marker\": {\"colorbar\": {\"outlinewidth\": 0, \"ticks\": \"\"}}, \"type\": \"scatterpolar\"}], \"scatterpolargl\": [{\"marker\": {\"colorbar\": {\"outlinewidth\": 0, \"ticks\": \"\"}}, \"type\": \"scatterpolargl\"}], \"scatterternary\": [{\"marker\": {\"colorbar\": {\"outlinewidth\": 0, \"ticks\": \"\"}}, \"type\": \"scatterternary\"}], \"surface\": [{\"colorbar\": {\"outlinewidth\": 0, \"ticks\": \"\"}, \"colorscale\": [[0.0, \"#0d0887\"], [0.1111111111111111, \"#46039f\"], [0.2222222222222222, \"#7201a8\"], [0.3333333333333333, \"#9c179e\"], [0.4444444444444444, \"#bd3786\"], [0.5555555555555556, \"#d8576b\"], [0.6666666666666666, \"#ed7953\"], [0.7777777777777778, \"#fb9f3a\"], [0.8888888888888888, \"#fdca26\"], [1.0, \"#f0f921\"]], \"type\": \"surface\"}], \"table\": [{\"cells\": {\"fill\": {\"color\": \"#EBF0F8\"}, \"line\": {\"color\": \"white\"}}, \"header\": {\"fill\": {\"color\": \"#C8D4E3\"}, \"line\": {\"color\": \"white\"}}, \"type\": \"table\"}]}, \"layout\": {\"annotationdefaults\": {\"arrowcolor\": \"#2a3f5f\", \"arrowhead\": 0, \"arrowwidth\": 1}, \"autotypenumbers\": \"strict\", \"coloraxis\": {\"colorbar\": {\"outlinewidth\": 0, \"ticks\": \"\"}}, \"colorscale\": {\"diverging\": [[0, \"#8e0152\"], [0.1, \"#c51b7d\"], [0.2, \"#de77ae\"], [0.3, \"#f1b6da\"], [0.4, \"#fde0ef\"], [0.5, \"#f7f7f7\"], [0.6, \"#e6f5d0\"], [0.7, \"#b8e186\"], [0.8, \"#7fbc41\"], [0.9, \"#4d9221\"], [1, \"#276419\"]], \"sequential\": [[0.0, \"#0d0887\"], [0.1111111111111111, \"#46039f\"], [0.2222222222222222, \"#7201a8\"], [0.3333333333333333, \"#9c179e\"], [0.4444444444444444, \"#bd3786\"], [0.5555555555555556, \"#d8576b\"], [0.6666666666666666, \"#ed7953\"], [0.7777777777777778, \"#fb9f3a\"], [0.8888888888888888, \"#fdca26\"], [1.0, \"#f0f921\"]], \"sequentialminus\": [[0.0, \"#0d0887\"], [0.1111111111111111, \"#46039f\"], [0.2222222222222222, \"#7201a8\"], [0.3333333333333333, \"#9c179e\"], [0.4444444444444444, \"#bd3786\"], [0.5555555555555556, \"#d8576b\"], [0.6666666666666666, \"#ed7953\"], [0.7777777777777778, \"#fb9f3a\"], [0.8888888888888888, \"#fdca26\"], [1.0, \"#f0f921\"]]}, \"colorway\": [\"#636efa\", \"#EF553B\", \"#00cc96\", \"#ab63fa\", \"#FFA15A\", \"#19d3f3\", \"#FF6692\", \"#B6E880\", \"#FF97FF\", \"#FECB52\"], \"font\": {\"color\": \"#2a3f5f\"}, \"geo\": {\"bgcolor\": \"white\", \"lakecolor\": \"white\", \"landcolor\": \"#E5ECF6\", \"showlakes\": true, \"showland\": true, \"subunitcolor\": \"white\"}, \"hoverlabel\": {\"align\": \"left\"}, \"hovermode\": \"closest\", \"mapbox\": {\"style\": \"light\"}, \"paper_bgcolor\": \"white\", \"plot_bgcolor\": \"#E5ECF6\", \"polar\": {\"angularaxis\": {\"gridcolor\": \"white\", \"linecolor\": \"white\", \"ticks\": \"\"}, \"bgcolor\": \"#E5ECF6\", \"radialaxis\": {\"gridcolor\": \"white\", \"linecolor\": \"white\", \"ticks\": \"\"}}, \"scene\": {\"xaxis\": {\"backgroundcolor\": \"#E5ECF6\", \"gridcolor\": \"white\", \"gridwidth\": 2, \"linecolor\": \"white\", \"showbackground\": true, \"ticks\": \"\", \"zerolinecolor\": \"white\"}, \"yaxis\": {\"backgroundcolor\": \"#E5ECF6\", \"gridcolor\": \"white\", \"gridwidth\": 2, \"linecolor\": \"white\", \"showbackground\": true, \"ticks\": \"\", \"zerolinecolor\": \"white\"}, \"zaxis\": {\"backgroundcolor\": \"#E5ECF6\", \"gridcolor\": \"white\", \"gridwidth\": 2, \"linecolor\": \"white\", \"showbackground\": true, \"ticks\": \"\", \"zerolinecolor\": \"white\"}}, \"shapedefaults\": {\"line\": {\"color\": \"#2a3f5f\"}}, \"ternary\": {\"aaxis\": {\"gridcolor\": \"white\", \"linecolor\": \"white\", \"ticks\": \"\"}, \"baxis\": {\"gridcolor\": \"white\", \"linecolor\": \"white\", \"ticks\": \"\"}, \"bgcolor\": \"#E5ECF6\", \"caxis\": {\"gridcolor\": \"white\", \"linecolor\": \"white\", \"ticks\": \"\"}}, \"title\": {\"x\": 0.05}, \"xaxis\": {\"automargin\": true, \"gridcolor\": \"white\", \"linecolor\": \"white\", \"ticks\": \"\", \"title\": {\"standoff\": 15}, \"zerolinecolor\": \"white\", \"zerolinewidth\": 2}, \"yaxis\": {\"automargin\": true, \"gridcolor\": \"white\", \"linecolor\": \"white\", \"ticks\": \"\", \"title\": {\"standoff\": 15}, \"zerolinecolor\": \"white\", \"zerolinewidth\": 2}}}, \"title\": {\"text\": \"$\\\\widehat{k_{ep,RR}}$\", \"x\": 0.5, \"xanchor\": \"center\"}, \"xaxis\": {\"title\": {\"text\": \"$\\\\sigma_{noise}[Mm]$\"}}, \"yaxis\": {\"range\": [-35, 5], \"showline\": true, \"tickvals\": [-35, -30, -25, -20, -15, -10, -5, 0, 5], \"title\": {\"text\": \"$Percent Error$\"}}},                        {\"responsive\": true}                    ).then(function(){\n",
       "                            \n",
       "var gd = document.getElementById('a5a3bd24-74bd-4b47-9b8f-af23ffffe175');\n",
       "var x = new MutationObserver(function (mutations, observer) {{\n",
       "        var display = window.getComputedStyle(gd).display;\n",
       "        if (!display || display === 'none') {{\n",
       "            console.log([gd, 'removed!']);\n",
       "            Plotly.purge(gd);\n",
       "            observer.disconnect();\n",
       "        }}\n",
       "}});\n",
       "\n",
       "// Listen for the removal of the full notebook cells\n",
       "var notebookContainer = gd.closest('#notebook-container');\n",
       "if (notebookContainer) {{\n",
       "    x.observe(notebookContainer, {childList: true});\n",
       "}}\n",
       "\n",
       "// Listen for the clearing of the current output cell\n",
       "var outputEl = gd.closest('.output');\n",
       "if (outputEl) {{\n",
       "    x.observe(outputEl, {childList: true});\n",
       "}}\n",
       "\n",
       "                        })                };                });            </script>        </div>"
      ]
     },
     "metadata": {},
     "output_type": "display_data"
    }
   ],
   "source": [
    "# THIS CAN PROBABLY BE LEFT OUT BUT IT ONLY WORKS HALF OF THE TIME IF I LEAVE IT OUT SO IT'S HERE FOR NOW\n",
    "\n",
    "file = loadmat('fig2andfig3vars.mat')\n",
    "\n",
    "listSigmaC = np.squeeze(np.asarray((np.reshape(file['listSigmaC'], 6))))\n",
    "\n",
    "curErr = file['curErr']\n",
    "errQt = file['errQt']\n",
    "errMd = file['errMd']\n",
    "\n",
    "fig = go.Figure()\n",
    "\n",
    "legend_values = cycle([5, 10, 15, 30])\n",
    "\n",
    "line_colours = cycle(['#006837','#31A354','#78C679','#C2E699'])\n",
    "\n",
    "for i in range(0,4):\n",
    "    finalErrMd=np.squeeze(np.asarray((np.reshape(errMd[i,:], 6))))\n",
    "    finalErrorDiff=np.squeeze(np.asarray((np.reshape(abs(errQt[i,:,0]-errMd[i,:]), 6))))\n",
    "    finalErrorDiffMinus=np.squeeze(np.asarray((np.reshape(abs(errQt[i,:,1]-errMd[i,:]), 6))))\n",
    "    fig.add_trace(go.Scatter(\n",
    "        name=next(legend_values),\n",
    "        visible=False,\n",
    "        x=listSigmaC,\n",
    "        y=finalErrMd,\n",
    "        error_y=dict(\n",
    "            type='data', # value of error bar given in data coordinates\n",
    "            array=finalErrorDiff,\n",
    "            arrayminus=finalErrorDiffMinus,\n",
    "            symmetric=False,\n",
    "            visible=True,\n",
    "            thickness=4),\n",
    "        line_color=next(line_colours),\n",
    "        line_width=4, showlegend=False\n",
    "    ))\n",
    "    \n",
    "# Default value on the slider    \n",
    "fig.data[0].visible = True\n",
    "\n",
    "\n",
    "# Create and add slider\n",
    "legend_values = [5, 10, 15, 30]\n",
    "steps = []\n",
    "for i in range(len(fig.data)):\n",
    "    step = dict(\n",
    "        method=\"update\",\n",
    "        args=[{\"visible\": [False] * len(fig.data)}],\n",
    "        value=legend_values[i],\n",
    "        label=legend_values[i]        \n",
    "    )\n",
    "    step[\"args\"][0][\"visible\"][i] = True  # Toggle i'th trace to \"visible\"\n",
    "    steps.append(step)\n",
    "\n",
    "sliders = [dict(\n",
    "    active=4,\n",
    "    currentvalue={\"prefix\": \"Temporal resolution [seconds]: \"},\n",
    "    pad={\"t\": 70}, #upper padding \n",
    "    steps=steps\n",
    ")]\n",
    "\n",
    "\n",
    "fig.update_xaxes(title_text=r'$\\sigma_{noise}[Mm]$')\n",
    "fig.update_layout(title=dict(text=r'$\\widehat{k_{ep,RR}}$',\n",
    "                             x=0.5,\n",
    "                             xanchor='center'),\n",
    "                  yaxis=dict(title=r'$Percent Error$',\n",
    "                             showline=True,\n",
    "                             range=[-35,5],\n",
    "                             tickvals=[-35,-30,-25,-20,-15,-10,-5,0,5],\n",
    "                             ), \n",
    "                  plot_bgcolor='#ffffff',\n",
    "                  legend=dict(yanchor='bottom', y=0.20, xanchor='right', x=0.30),\n",
    "                  sliders=sliders\n",
    ")\n",
    "\n",
    "\n",
    "fig.show()"
   ]
  },
  {
   "cell_type": "markdown",
   "metadata": {
    "kernel": "SoS"
   },
   "source": [
    "## Figure 3 - second subfigure"
   ]
  },
  {
   "cell_type": "code",
   "execution_count": 104,
   "metadata": {
    "kernel": "SoS"
   },
   "outputs": [
    {
     "data": {
      "application/vnd.plotly.v1+json": {
       "config": {
        "plotlyServerURL": "https://plot.ly"
       },
       "data": [
        {
         "error_y": {
          "array": [
           0.0396097111738321,
           0.9243669996149383,
           1.6374510496488486,
           2.502972164491071,
           3.1687734120877273,
           3.724663670542242
          ],
          "arrayminus": [
           0.0468899686697757,
           0.9231686503425456,
           2.0968710282389926,
           2.542604277632318,
           3.0144069480034124,
           3.648433915352354
          ],
          "symmetric": false,
          "thickness": 4,
          "type": "data",
          "visible": true
         },
         "line": {
          "color": "#006837",
          "width": 4
         },
         "name": "5",
         "showlegend": false,
         "type": "scatter",
         "visible": true,
         "x": [
          0,
          0.01,
          0.02,
          0.030000000000000002,
          0.04,
          0.05
         ],
         "y": [
          -0.059454023876958396,
          -0.788325336469896,
          -1.9626751915599692,
          -3.333475084465901,
          -4.27814996707354,
          -5.838137427962575
         ]
        },
        {
         "error_y": {
          "array": [
           0.5000132099899417,
           1.4614313011496578,
           2.3881865619910068,
           3.608384031136488,
           4.088866998788497,
           4.379391949104212
          ],
          "arrayminus": [
           0.4246154324457391,
           1.522148452798379,
           2.6838989208051145,
           3.3260537076144994,
           4.149920810868216,
           4.480393755043432
          ],
          "symmetric": false,
          "thickness": 4,
          "type": "data",
          "visible": true
         },
         "line": {
          "color": "#31A354",
          "width": 4
         },
         "name": "10",
         "showlegend": false,
         "type": "scatter",
         "visible": false,
         "x": [
          0,
          0.01,
          0.02,
          0.030000000000000002,
          0.04,
          0.05
         ],
         "y": [
          -0.366282506451533,
          -1.6606523700984028,
          -3.167625100943469,
          -4.4039100911217055,
          -6.86935704932251,
          -10.21534742812547
         ]
        },
        {
         "error_y": {
          "array": [
           1.0974031068336894,
           2.3073467882808023,
           3.5235888090674443,
           3.9997375210428947,
           4.549556499722403,
           5.459908950473077
          ],
          "arrayminus": [
           1.0208994436644678,
           2.264924948294738,
           3.3836810385892897,
           4.014361866053958,
           4.341355937093935,
           5.195609295232859
          ],
          "symmetric": false,
          "thickness": 4,
          "type": "data",
          "visible": true
         },
         "line": {
          "color": "#78C679",
          "width": 4
         },
         "name": "15",
         "showlegend": false,
         "type": "scatter",
         "visible": false,
         "x": [
          0,
          0.01,
          0.02,
          0.030000000000000002,
          0.04,
          0.05
         ],
         "y": [
          -1.0318969881786622,
          -2.5228821686112264,
          -3.7622350875823187,
          -6.28629793126217,
          -9.26781639562255,
          -12.370000422912705
         ]
        },
        {
         "error_y": {
          "array": [
           1.3194509267232544,
           3.01607807503164,
           4.9707429864873784,
           5.480480656468945,
           6.295555973442278,
           6.795753471239166
          ],
          "arrayminus": [
           1.4761875948241068,
           3.181978181616487,
           4.794276504599047,
           5.181825701884325,
           5.816023930121313,
           6.441504827827075
          ],
          "symmetric": false,
          "thickness": 4,
          "type": "data",
          "visible": true
         },
         "line": {
          "color": "#C2E699",
          "width": 4
         },
         "name": "30",
         "showlegend": false,
         "type": "scatter",
         "visible": false,
         "x": [
          0,
          0.01,
          0.02,
          0.030000000000000002,
          0.04,
          0.05
         ],
         "y": [
          -4.051053401847721,
          -6.847158498672037,
          -9.219976174411654,
          -11.52962873035601,
          -14.111182281868144,
          -17.656492866257175
         ]
        }
       ],
       "layout": {
        "legend": {
         "x": 0.3,
         "xanchor": "right",
         "y": 0.2,
         "yanchor": "bottom"
        },
        "plot_bgcolor": "#ffffff",
        "sliders": [
         {
          "active": 4,
          "currentvalue": {
           "prefix": "Temporal resolution [seconds]: "
          },
          "pad": {
           "t": 70
          },
          "steps": [
           {
            "args": [
             {
              "visible": [
               true,
               false,
               false,
               false
              ]
             }
            ],
            "label": "5",
            "method": "update",
            "value": "5"
           },
           {
            "args": [
             {
              "visible": [
               false,
               true,
               false,
               false
              ]
             }
            ],
            "label": "10",
            "method": "update",
            "value": "10"
           },
           {
            "args": [
             {
              "visible": [
               false,
               false,
               true,
               false
              ]
             }
            ],
            "label": "15",
            "method": "update",
            "value": "15"
           },
           {
            "args": [
             {
              "visible": [
               false,
               false,
               false,
               true
              ]
             }
            ],
            "label": "30",
            "method": "update",
            "value": "30"
           }
          ]
         }
        ],
        "template": {
         "data": {
          "bar": [
           {
            "error_x": {
             "color": "#2a3f5f"
            },
            "error_y": {
             "color": "#2a3f5f"
            },
            "marker": {
             "line": {
              "color": "#E5ECF6",
              "width": 0.5
             }
            },
            "type": "bar"
           }
          ],
          "barpolar": [
           {
            "marker": {
             "line": {
              "color": "#E5ECF6",
              "width": 0.5
             }
            },
            "type": "barpolar"
           }
          ],
          "carpet": [
           {
            "aaxis": {
             "endlinecolor": "#2a3f5f",
             "gridcolor": "white",
             "linecolor": "white",
             "minorgridcolor": "white",
             "startlinecolor": "#2a3f5f"
            },
            "baxis": {
             "endlinecolor": "#2a3f5f",
             "gridcolor": "white",
             "linecolor": "white",
             "minorgridcolor": "white",
             "startlinecolor": "#2a3f5f"
            },
            "type": "carpet"
           }
          ],
          "choropleth": [
           {
            "colorbar": {
             "outlinewidth": 0,
             "ticks": ""
            },
            "type": "choropleth"
           }
          ],
          "contour": [
           {
            "colorbar": {
             "outlinewidth": 0,
             "ticks": ""
            },
            "colorscale": [
             [
              0,
              "#0d0887"
             ],
             [
              0.1111111111111111,
              "#46039f"
             ],
             [
              0.2222222222222222,
              "#7201a8"
             ],
             [
              0.3333333333333333,
              "#9c179e"
             ],
             [
              0.4444444444444444,
              "#bd3786"
             ],
             [
              0.5555555555555556,
              "#d8576b"
             ],
             [
              0.6666666666666666,
              "#ed7953"
             ],
             [
              0.7777777777777778,
              "#fb9f3a"
             ],
             [
              0.8888888888888888,
              "#fdca26"
             ],
             [
              1,
              "#f0f921"
             ]
            ],
            "type": "contour"
           }
          ],
          "contourcarpet": [
           {
            "colorbar": {
             "outlinewidth": 0,
             "ticks": ""
            },
            "type": "contourcarpet"
           }
          ],
          "heatmap": [
           {
            "colorbar": {
             "outlinewidth": 0,
             "ticks": ""
            },
            "colorscale": [
             [
              0,
              "#0d0887"
             ],
             [
              0.1111111111111111,
              "#46039f"
             ],
             [
              0.2222222222222222,
              "#7201a8"
             ],
             [
              0.3333333333333333,
              "#9c179e"
             ],
             [
              0.4444444444444444,
              "#bd3786"
             ],
             [
              0.5555555555555556,
              "#d8576b"
             ],
             [
              0.6666666666666666,
              "#ed7953"
             ],
             [
              0.7777777777777778,
              "#fb9f3a"
             ],
             [
              0.8888888888888888,
              "#fdca26"
             ],
             [
              1,
              "#f0f921"
             ]
            ],
            "type": "heatmap"
           }
          ],
          "heatmapgl": [
           {
            "colorbar": {
             "outlinewidth": 0,
             "ticks": ""
            },
            "colorscale": [
             [
              0,
              "#0d0887"
             ],
             [
              0.1111111111111111,
              "#46039f"
             ],
             [
              0.2222222222222222,
              "#7201a8"
             ],
             [
              0.3333333333333333,
              "#9c179e"
             ],
             [
              0.4444444444444444,
              "#bd3786"
             ],
             [
              0.5555555555555556,
              "#d8576b"
             ],
             [
              0.6666666666666666,
              "#ed7953"
             ],
             [
              0.7777777777777778,
              "#fb9f3a"
             ],
             [
              0.8888888888888888,
              "#fdca26"
             ],
             [
              1,
              "#f0f921"
             ]
            ],
            "type": "heatmapgl"
           }
          ],
          "histogram": [
           {
            "marker": {
             "colorbar": {
              "outlinewidth": 0,
              "ticks": ""
             }
            },
            "type": "histogram"
           }
          ],
          "histogram2d": [
           {
            "colorbar": {
             "outlinewidth": 0,
             "ticks": ""
            },
            "colorscale": [
             [
              0,
              "#0d0887"
             ],
             [
              0.1111111111111111,
              "#46039f"
             ],
             [
              0.2222222222222222,
              "#7201a8"
             ],
             [
              0.3333333333333333,
              "#9c179e"
             ],
             [
              0.4444444444444444,
              "#bd3786"
             ],
             [
              0.5555555555555556,
              "#d8576b"
             ],
             [
              0.6666666666666666,
              "#ed7953"
             ],
             [
              0.7777777777777778,
              "#fb9f3a"
             ],
             [
              0.8888888888888888,
              "#fdca26"
             ],
             [
              1,
              "#f0f921"
             ]
            ],
            "type": "histogram2d"
           }
          ],
          "histogram2dcontour": [
           {
            "colorbar": {
             "outlinewidth": 0,
             "ticks": ""
            },
            "colorscale": [
             [
              0,
              "#0d0887"
             ],
             [
              0.1111111111111111,
              "#46039f"
             ],
             [
              0.2222222222222222,
              "#7201a8"
             ],
             [
              0.3333333333333333,
              "#9c179e"
             ],
             [
              0.4444444444444444,
              "#bd3786"
             ],
             [
              0.5555555555555556,
              "#d8576b"
             ],
             [
              0.6666666666666666,
              "#ed7953"
             ],
             [
              0.7777777777777778,
              "#fb9f3a"
             ],
             [
              0.8888888888888888,
              "#fdca26"
             ],
             [
              1,
              "#f0f921"
             ]
            ],
            "type": "histogram2dcontour"
           }
          ],
          "mesh3d": [
           {
            "colorbar": {
             "outlinewidth": 0,
             "ticks": ""
            },
            "type": "mesh3d"
           }
          ],
          "parcoords": [
           {
            "line": {
             "colorbar": {
              "outlinewidth": 0,
              "ticks": ""
             }
            },
            "type": "parcoords"
           }
          ],
          "pie": [
           {
            "automargin": true,
            "type": "pie"
           }
          ],
          "scatter": [
           {
            "marker": {
             "colorbar": {
              "outlinewidth": 0,
              "ticks": ""
             }
            },
            "type": "scatter"
           }
          ],
          "scatter3d": [
           {
            "line": {
             "colorbar": {
              "outlinewidth": 0,
              "ticks": ""
             }
            },
            "marker": {
             "colorbar": {
              "outlinewidth": 0,
              "ticks": ""
             }
            },
            "type": "scatter3d"
           }
          ],
          "scattercarpet": [
           {
            "marker": {
             "colorbar": {
              "outlinewidth": 0,
              "ticks": ""
             }
            },
            "type": "scattercarpet"
           }
          ],
          "scattergeo": [
           {
            "marker": {
             "colorbar": {
              "outlinewidth": 0,
              "ticks": ""
             }
            },
            "type": "scattergeo"
           }
          ],
          "scattergl": [
           {
            "marker": {
             "colorbar": {
              "outlinewidth": 0,
              "ticks": ""
             }
            },
            "type": "scattergl"
           }
          ],
          "scattermapbox": [
           {
            "marker": {
             "colorbar": {
              "outlinewidth": 0,
              "ticks": ""
             }
            },
            "type": "scattermapbox"
           }
          ],
          "scatterpolar": [
           {
            "marker": {
             "colorbar": {
              "outlinewidth": 0,
              "ticks": ""
             }
            },
            "type": "scatterpolar"
           }
          ],
          "scatterpolargl": [
           {
            "marker": {
             "colorbar": {
              "outlinewidth": 0,
              "ticks": ""
             }
            },
            "type": "scatterpolargl"
           }
          ],
          "scatterternary": [
           {
            "marker": {
             "colorbar": {
              "outlinewidth": 0,
              "ticks": ""
             }
            },
            "type": "scatterternary"
           }
          ],
          "surface": [
           {
            "colorbar": {
             "outlinewidth": 0,
             "ticks": ""
            },
            "colorscale": [
             [
              0,
              "#0d0887"
             ],
             [
              0.1111111111111111,
              "#46039f"
             ],
             [
              0.2222222222222222,
              "#7201a8"
             ],
             [
              0.3333333333333333,
              "#9c179e"
             ],
             [
              0.4444444444444444,
              "#bd3786"
             ],
             [
              0.5555555555555556,
              "#d8576b"
             ],
             [
              0.6666666666666666,
              "#ed7953"
             ],
             [
              0.7777777777777778,
              "#fb9f3a"
             ],
             [
              0.8888888888888888,
              "#fdca26"
             ],
             [
              1,
              "#f0f921"
             ]
            ],
            "type": "surface"
           }
          ],
          "table": [
           {
            "cells": {
             "fill": {
              "color": "#EBF0F8"
             },
             "line": {
              "color": "white"
             }
            },
            "header": {
             "fill": {
              "color": "#C8D4E3"
             },
             "line": {
              "color": "white"
             }
            },
            "type": "table"
           }
          ]
         },
         "layout": {
          "annotationdefaults": {
           "arrowcolor": "#2a3f5f",
           "arrowhead": 0,
           "arrowwidth": 1
          },
          "autotypenumbers": "strict",
          "coloraxis": {
           "colorbar": {
            "outlinewidth": 0,
            "ticks": ""
           }
          },
          "colorscale": {
           "diverging": [
            [
             0,
             "#8e0152"
            ],
            [
             0.1,
             "#c51b7d"
            ],
            [
             0.2,
             "#de77ae"
            ],
            [
             0.3,
             "#f1b6da"
            ],
            [
             0.4,
             "#fde0ef"
            ],
            [
             0.5,
             "#f7f7f7"
            ],
            [
             0.6,
             "#e6f5d0"
            ],
            [
             0.7,
             "#b8e186"
            ],
            [
             0.8,
             "#7fbc41"
            ],
            [
             0.9,
             "#4d9221"
            ],
            [
             1,
             "#276419"
            ]
           ],
           "sequential": [
            [
             0,
             "#0d0887"
            ],
            [
             0.1111111111111111,
             "#46039f"
            ],
            [
             0.2222222222222222,
             "#7201a8"
            ],
            [
             0.3333333333333333,
             "#9c179e"
            ],
            [
             0.4444444444444444,
             "#bd3786"
            ],
            [
             0.5555555555555556,
             "#d8576b"
            ],
            [
             0.6666666666666666,
             "#ed7953"
            ],
            [
             0.7777777777777778,
             "#fb9f3a"
            ],
            [
             0.8888888888888888,
             "#fdca26"
            ],
            [
             1,
             "#f0f921"
            ]
           ],
           "sequentialminus": [
            [
             0,
             "#0d0887"
            ],
            [
             0.1111111111111111,
             "#46039f"
            ],
            [
             0.2222222222222222,
             "#7201a8"
            ],
            [
             0.3333333333333333,
             "#9c179e"
            ],
            [
             0.4444444444444444,
             "#bd3786"
            ],
            [
             0.5555555555555556,
             "#d8576b"
            ],
            [
             0.6666666666666666,
             "#ed7953"
            ],
            [
             0.7777777777777778,
             "#fb9f3a"
            ],
            [
             0.8888888888888888,
             "#fdca26"
            ],
            [
             1,
             "#f0f921"
            ]
           ]
          },
          "colorway": [
           "#636efa",
           "#EF553B",
           "#00cc96",
           "#ab63fa",
           "#FFA15A",
           "#19d3f3",
           "#FF6692",
           "#B6E880",
           "#FF97FF",
           "#FECB52"
          ],
          "font": {
           "color": "#2a3f5f"
          },
          "geo": {
           "bgcolor": "white",
           "lakecolor": "white",
           "landcolor": "#E5ECF6",
           "showlakes": true,
           "showland": true,
           "subunitcolor": "white"
          },
          "hoverlabel": {
           "align": "left"
          },
          "hovermode": "closest",
          "mapbox": {
           "style": "light"
          },
          "paper_bgcolor": "white",
          "plot_bgcolor": "#E5ECF6",
          "polar": {
           "angularaxis": {
            "gridcolor": "white",
            "linecolor": "white",
            "ticks": ""
           },
           "bgcolor": "#E5ECF6",
           "radialaxis": {
            "gridcolor": "white",
            "linecolor": "white",
            "ticks": ""
           }
          },
          "scene": {
           "xaxis": {
            "backgroundcolor": "#E5ECF6",
            "gridcolor": "white",
            "gridwidth": 2,
            "linecolor": "white",
            "showbackground": true,
            "ticks": "",
            "zerolinecolor": "white"
           },
           "yaxis": {
            "backgroundcolor": "#E5ECF6",
            "gridcolor": "white",
            "gridwidth": 2,
            "linecolor": "white",
            "showbackground": true,
            "ticks": "",
            "zerolinecolor": "white"
           },
           "zaxis": {
            "backgroundcolor": "#E5ECF6",
            "gridcolor": "white",
            "gridwidth": 2,
            "linecolor": "white",
            "showbackground": true,
            "ticks": "",
            "zerolinecolor": "white"
           }
          },
          "shapedefaults": {
           "line": {
            "color": "#2a3f5f"
           }
          },
          "ternary": {
           "aaxis": {
            "gridcolor": "white",
            "linecolor": "white",
            "ticks": ""
           },
           "baxis": {
            "gridcolor": "white",
            "linecolor": "white",
            "ticks": ""
           },
           "bgcolor": "#E5ECF6",
           "caxis": {
            "gridcolor": "white",
            "linecolor": "white",
            "ticks": ""
           }
          },
          "title": {
           "x": 0.05
          },
          "xaxis": {
           "automargin": true,
           "gridcolor": "white",
           "linecolor": "white",
           "ticks": "",
           "title": {
            "standoff": 15
           },
           "zerolinecolor": "white",
           "zerolinewidth": 2
          },
          "yaxis": {
           "automargin": true,
           "gridcolor": "white",
           "linecolor": "white",
           "ticks": "",
           "title": {
            "standoff": 15
           },
           "zerolinecolor": "white",
           "zerolinewidth": 2
          }
         }
        },
        "title": {
         "text": "$K^{trans}_{RR}$",
         "x": 0.5,
         "xanchor": "center"
        },
        "xaxis": {
         "title": {
          "text": "$\\sigma_{noise}[Mm]$"
         }
        },
        "yaxis": {
         "range": [
          -25,
          5
         ],
         "showline": true,
         "tickvals": [
          -25,
          -20,
          -15,
          -10,
          -5,
          0,
          5
         ],
         "title": {
          "text": "$Percent Error$"
         }
        }
       }
      },
      "text/html": [
       "<div>                            <div id=\"a83dcd51-b8f1-43be-8587-df2cd752e15f\" class=\"plotly-graph-div\" style=\"height:525px; width:100%;\"></div>            <script type=\"text/javascript\">                require([\"plotly\"], function(Plotly) {                    window.PLOTLYENV=window.PLOTLYENV || {};                                    if (document.getElementById(\"a83dcd51-b8f1-43be-8587-df2cd752e15f\")) {                    Plotly.newPlot(                        \"a83dcd51-b8f1-43be-8587-df2cd752e15f\",                        [{\"error_y\": {\"array\": [0.0396097111738321, 0.9243669996149383, 1.6374510496488486, 2.502972164491071, 3.1687734120877273, 3.724663670542242], \"arrayminus\": [0.0468899686697757, 0.9231686503425456, 2.0968710282389926, 2.542604277632318, 3.0144069480034124, 3.648433915352354], \"symmetric\": false, \"thickness\": 4, \"type\": \"data\", \"visible\": true}, \"line\": {\"color\": \"#006837\", \"width\": 4}, \"name\": \"5\", \"showlegend\": false, \"type\": \"scatter\", \"visible\": true, \"x\": [0.0, 0.01, 0.02, 0.030000000000000002, 0.04, 0.05], \"y\": [-0.059454023876958396, -0.788325336469896, -1.9626751915599692, -3.333475084465901, -4.27814996707354, -5.838137427962575]}, {\"error_y\": {\"array\": [0.5000132099899417, 1.4614313011496578, 2.3881865619910068, 3.608384031136488, 4.088866998788497, 4.379391949104212], \"arrayminus\": [0.4246154324457391, 1.522148452798379, 2.6838989208051145, 3.3260537076144994, 4.149920810868216, 4.480393755043432], \"symmetric\": false, \"thickness\": 4, \"type\": \"data\", \"visible\": true}, \"line\": {\"color\": \"#31A354\", \"width\": 4}, \"name\": \"10\", \"showlegend\": false, \"type\": \"scatter\", \"visible\": false, \"x\": [0.0, 0.01, 0.02, 0.030000000000000002, 0.04, 0.05], \"y\": [-0.366282506451533, -1.6606523700984028, -3.167625100943469, -4.4039100911217055, -6.86935704932251, -10.21534742812547]}, {\"error_y\": {\"array\": [1.0974031068336894, 2.3073467882808023, 3.5235888090674443, 3.9997375210428947, 4.549556499722403, 5.459908950473077], \"arrayminus\": [1.0208994436644678, 2.264924948294738, 3.3836810385892897, 4.014361866053958, 4.341355937093935, 5.195609295232859], \"symmetric\": false, \"thickness\": 4, \"type\": \"data\", \"visible\": true}, \"line\": {\"color\": \"#78C679\", \"width\": 4}, \"name\": \"15\", \"showlegend\": false, \"type\": \"scatter\", \"visible\": false, \"x\": [0.0, 0.01, 0.02, 0.030000000000000002, 0.04, 0.05], \"y\": [-1.0318969881786622, -2.5228821686112264, -3.7622350875823187, -6.28629793126217, -9.26781639562255, -12.370000422912705]}, {\"error_y\": {\"array\": [1.3194509267232544, 3.01607807503164, 4.9707429864873784, 5.480480656468945, 6.295555973442278, 6.795753471239166], \"arrayminus\": [1.4761875948241068, 3.181978181616487, 4.794276504599047, 5.181825701884325, 5.816023930121313, 6.441504827827075], \"symmetric\": false, \"thickness\": 4, \"type\": \"data\", \"visible\": true}, \"line\": {\"color\": \"#C2E699\", \"width\": 4}, \"name\": \"30\", \"showlegend\": false, \"type\": \"scatter\", \"visible\": false, \"x\": [0.0, 0.01, 0.02, 0.030000000000000002, 0.04, 0.05], \"y\": [-4.051053401847721, -6.847158498672037, -9.219976174411654, -11.52962873035601, -14.111182281868144, -17.656492866257175]}],                        {\"legend\": {\"x\": 0.3, \"xanchor\": \"right\", \"y\": 0.2, \"yanchor\": \"bottom\"}, \"plot_bgcolor\": \"#ffffff\", \"sliders\": [{\"active\": 4, \"currentvalue\": {\"prefix\": \"Temporal resolution [seconds]: \"}, \"pad\": {\"t\": 70}, \"steps\": [{\"args\": [{\"visible\": [true, false, false, false]}], \"label\": \"5\", \"method\": \"update\", \"value\": \"5\"}, {\"args\": [{\"visible\": [false, true, false, false]}], \"label\": \"10\", \"method\": \"update\", \"value\": \"10\"}, {\"args\": [{\"visible\": [false, false, true, false]}], \"label\": \"15\", \"method\": \"update\", \"value\": \"15\"}, {\"args\": [{\"visible\": [false, false, false, true]}], \"label\": \"30\", \"method\": \"update\", \"value\": \"30\"}]}], \"template\": {\"data\": {\"bar\": [{\"error_x\": {\"color\": \"#2a3f5f\"}, \"error_y\": {\"color\": \"#2a3f5f\"}, \"marker\": {\"line\": {\"color\": \"#E5ECF6\", \"width\": 0.5}}, \"type\": \"bar\"}], \"barpolar\": [{\"marker\": {\"line\": {\"color\": \"#E5ECF6\", \"width\": 0.5}}, \"type\": \"barpolar\"}], \"carpet\": [{\"aaxis\": {\"endlinecolor\": \"#2a3f5f\", \"gridcolor\": \"white\", \"linecolor\": \"white\", \"minorgridcolor\": \"white\", \"startlinecolor\": \"#2a3f5f\"}, \"baxis\": {\"endlinecolor\": \"#2a3f5f\", \"gridcolor\": \"white\", \"linecolor\": \"white\", \"minorgridcolor\": \"white\", \"startlinecolor\": \"#2a3f5f\"}, \"type\": \"carpet\"}], \"choropleth\": [{\"colorbar\": {\"outlinewidth\": 0, \"ticks\": \"\"}, \"type\": \"choropleth\"}], \"contour\": [{\"colorbar\": {\"outlinewidth\": 0, \"ticks\": \"\"}, \"colorscale\": [[0.0, \"#0d0887\"], [0.1111111111111111, \"#46039f\"], [0.2222222222222222, \"#7201a8\"], [0.3333333333333333, \"#9c179e\"], [0.4444444444444444, \"#bd3786\"], [0.5555555555555556, \"#d8576b\"], [0.6666666666666666, \"#ed7953\"], [0.7777777777777778, \"#fb9f3a\"], [0.8888888888888888, \"#fdca26\"], [1.0, \"#f0f921\"]], \"type\": \"contour\"}], \"contourcarpet\": [{\"colorbar\": {\"outlinewidth\": 0, \"ticks\": \"\"}, \"type\": \"contourcarpet\"}], \"heatmap\": [{\"colorbar\": {\"outlinewidth\": 0, \"ticks\": \"\"}, \"colorscale\": [[0.0, \"#0d0887\"], [0.1111111111111111, \"#46039f\"], [0.2222222222222222, \"#7201a8\"], [0.3333333333333333, \"#9c179e\"], [0.4444444444444444, \"#bd3786\"], [0.5555555555555556, \"#d8576b\"], [0.6666666666666666, \"#ed7953\"], [0.7777777777777778, \"#fb9f3a\"], [0.8888888888888888, \"#fdca26\"], [1.0, \"#f0f921\"]], \"type\": \"heatmap\"}], \"heatmapgl\": [{\"colorbar\": {\"outlinewidth\": 0, \"ticks\": \"\"}, \"colorscale\": [[0.0, \"#0d0887\"], [0.1111111111111111, \"#46039f\"], [0.2222222222222222, \"#7201a8\"], [0.3333333333333333, \"#9c179e\"], [0.4444444444444444, \"#bd3786\"], [0.5555555555555556, \"#d8576b\"], [0.6666666666666666, \"#ed7953\"], [0.7777777777777778, \"#fb9f3a\"], [0.8888888888888888, \"#fdca26\"], [1.0, \"#f0f921\"]], \"type\": \"heatmapgl\"}], \"histogram\": [{\"marker\": {\"colorbar\": {\"outlinewidth\": 0, \"ticks\": \"\"}}, \"type\": \"histogram\"}], \"histogram2d\": [{\"colorbar\": {\"outlinewidth\": 0, \"ticks\": \"\"}, \"colorscale\": [[0.0, \"#0d0887\"], [0.1111111111111111, \"#46039f\"], [0.2222222222222222, \"#7201a8\"], [0.3333333333333333, \"#9c179e\"], [0.4444444444444444, \"#bd3786\"], [0.5555555555555556, \"#d8576b\"], [0.6666666666666666, \"#ed7953\"], [0.7777777777777778, \"#fb9f3a\"], [0.8888888888888888, \"#fdca26\"], [1.0, \"#f0f921\"]], \"type\": \"histogram2d\"}], \"histogram2dcontour\": [{\"colorbar\": {\"outlinewidth\": 0, \"ticks\": \"\"}, \"colorscale\": [[0.0, \"#0d0887\"], [0.1111111111111111, \"#46039f\"], [0.2222222222222222, \"#7201a8\"], [0.3333333333333333, \"#9c179e\"], [0.4444444444444444, \"#bd3786\"], [0.5555555555555556, \"#d8576b\"], [0.6666666666666666, \"#ed7953\"], [0.7777777777777778, \"#fb9f3a\"], [0.8888888888888888, \"#fdca26\"], [1.0, \"#f0f921\"]], \"type\": \"histogram2dcontour\"}], \"mesh3d\": [{\"colorbar\": {\"outlinewidth\": 0, \"ticks\": \"\"}, \"type\": \"mesh3d\"}], \"parcoords\": [{\"line\": {\"colorbar\": {\"outlinewidth\": 0, \"ticks\": \"\"}}, \"type\": \"parcoords\"}], \"pie\": [{\"automargin\": true, \"type\": \"pie\"}], \"scatter\": [{\"marker\": {\"colorbar\": {\"outlinewidth\": 0, \"ticks\": \"\"}}, \"type\": \"scatter\"}], \"scatter3d\": [{\"line\": {\"colorbar\": {\"outlinewidth\": 0, \"ticks\": \"\"}}, \"marker\": {\"colorbar\": {\"outlinewidth\": 0, \"ticks\": \"\"}}, \"type\": \"scatter3d\"}], \"scattercarpet\": [{\"marker\": {\"colorbar\": {\"outlinewidth\": 0, \"ticks\": \"\"}}, \"type\": \"scattercarpet\"}], \"scattergeo\": [{\"marker\": {\"colorbar\": {\"outlinewidth\": 0, \"ticks\": \"\"}}, \"type\": \"scattergeo\"}], \"scattergl\": [{\"marker\": {\"colorbar\": {\"outlinewidth\": 0, \"ticks\": \"\"}}, \"type\": \"scattergl\"}], \"scattermapbox\": [{\"marker\": {\"colorbar\": {\"outlinewidth\": 0, \"ticks\": \"\"}}, \"type\": \"scattermapbox\"}], \"scatterpolar\": [{\"marker\": {\"colorbar\": {\"outlinewidth\": 0, \"ticks\": \"\"}}, \"type\": \"scatterpolar\"}], \"scatterpolargl\": [{\"marker\": {\"colorbar\": {\"outlinewidth\": 0, \"ticks\": \"\"}}, \"type\": \"scatterpolargl\"}], \"scatterternary\": [{\"marker\": {\"colorbar\": {\"outlinewidth\": 0, \"ticks\": \"\"}}, \"type\": \"scatterternary\"}], \"surface\": [{\"colorbar\": {\"outlinewidth\": 0, \"ticks\": \"\"}, \"colorscale\": [[0.0, \"#0d0887\"], [0.1111111111111111, \"#46039f\"], [0.2222222222222222, \"#7201a8\"], [0.3333333333333333, \"#9c179e\"], [0.4444444444444444, \"#bd3786\"], [0.5555555555555556, \"#d8576b\"], [0.6666666666666666, \"#ed7953\"], [0.7777777777777778, \"#fb9f3a\"], [0.8888888888888888, \"#fdca26\"], [1.0, \"#f0f921\"]], \"type\": \"surface\"}], \"table\": [{\"cells\": {\"fill\": {\"color\": \"#EBF0F8\"}, \"line\": {\"color\": \"white\"}}, \"header\": {\"fill\": {\"color\": \"#C8D4E3\"}, \"line\": {\"color\": \"white\"}}, \"type\": \"table\"}]}, \"layout\": {\"annotationdefaults\": {\"arrowcolor\": \"#2a3f5f\", \"arrowhead\": 0, \"arrowwidth\": 1}, \"autotypenumbers\": \"strict\", \"coloraxis\": {\"colorbar\": {\"outlinewidth\": 0, \"ticks\": \"\"}}, \"colorscale\": {\"diverging\": [[0, \"#8e0152\"], [0.1, \"#c51b7d\"], [0.2, \"#de77ae\"], [0.3, \"#f1b6da\"], [0.4, \"#fde0ef\"], [0.5, \"#f7f7f7\"], [0.6, \"#e6f5d0\"], [0.7, \"#b8e186\"], [0.8, \"#7fbc41\"], [0.9, \"#4d9221\"], [1, \"#276419\"]], \"sequential\": [[0.0, \"#0d0887\"], [0.1111111111111111, \"#46039f\"], [0.2222222222222222, \"#7201a8\"], [0.3333333333333333, \"#9c179e\"], [0.4444444444444444, \"#bd3786\"], [0.5555555555555556, \"#d8576b\"], [0.6666666666666666, \"#ed7953\"], [0.7777777777777778, \"#fb9f3a\"], [0.8888888888888888, \"#fdca26\"], [1.0, \"#f0f921\"]], \"sequentialminus\": [[0.0, \"#0d0887\"], [0.1111111111111111, \"#46039f\"], [0.2222222222222222, \"#7201a8\"], [0.3333333333333333, \"#9c179e\"], [0.4444444444444444, \"#bd3786\"], [0.5555555555555556, \"#d8576b\"], [0.6666666666666666, \"#ed7953\"], [0.7777777777777778, \"#fb9f3a\"], [0.8888888888888888, \"#fdca26\"], [1.0, \"#f0f921\"]]}, \"colorway\": [\"#636efa\", \"#EF553B\", \"#00cc96\", \"#ab63fa\", \"#FFA15A\", \"#19d3f3\", \"#FF6692\", \"#B6E880\", \"#FF97FF\", \"#FECB52\"], \"font\": {\"color\": \"#2a3f5f\"}, \"geo\": {\"bgcolor\": \"white\", \"lakecolor\": \"white\", \"landcolor\": \"#E5ECF6\", \"showlakes\": true, \"showland\": true, \"subunitcolor\": \"white\"}, \"hoverlabel\": {\"align\": \"left\"}, \"hovermode\": \"closest\", \"mapbox\": {\"style\": \"light\"}, \"paper_bgcolor\": \"white\", \"plot_bgcolor\": \"#E5ECF6\", \"polar\": {\"angularaxis\": {\"gridcolor\": \"white\", \"linecolor\": \"white\", \"ticks\": \"\"}, \"bgcolor\": \"#E5ECF6\", \"radialaxis\": {\"gridcolor\": \"white\", \"linecolor\": \"white\", \"ticks\": \"\"}}, \"scene\": {\"xaxis\": {\"backgroundcolor\": \"#E5ECF6\", \"gridcolor\": \"white\", \"gridwidth\": 2, \"linecolor\": \"white\", \"showbackground\": true, \"ticks\": \"\", \"zerolinecolor\": \"white\"}, \"yaxis\": {\"backgroundcolor\": \"#E5ECF6\", \"gridcolor\": \"white\", \"gridwidth\": 2, \"linecolor\": \"white\", \"showbackground\": true, \"ticks\": \"\", \"zerolinecolor\": \"white\"}, \"zaxis\": {\"backgroundcolor\": \"#E5ECF6\", \"gridcolor\": \"white\", \"gridwidth\": 2, \"linecolor\": \"white\", \"showbackground\": true, \"ticks\": \"\", \"zerolinecolor\": \"white\"}}, \"shapedefaults\": {\"line\": {\"color\": \"#2a3f5f\"}}, \"ternary\": {\"aaxis\": {\"gridcolor\": \"white\", \"linecolor\": \"white\", \"ticks\": \"\"}, \"baxis\": {\"gridcolor\": \"white\", \"linecolor\": \"white\", \"ticks\": \"\"}, \"bgcolor\": \"#E5ECF6\", \"caxis\": {\"gridcolor\": \"white\", \"linecolor\": \"white\", \"ticks\": \"\"}}, \"title\": {\"x\": 0.05}, \"xaxis\": {\"automargin\": true, \"gridcolor\": \"white\", \"linecolor\": \"white\", \"ticks\": \"\", \"title\": {\"standoff\": 15}, \"zerolinecolor\": \"white\", \"zerolinewidth\": 2}, \"yaxis\": {\"automargin\": true, \"gridcolor\": \"white\", \"linecolor\": \"white\", \"ticks\": \"\", \"title\": {\"standoff\": 15}, \"zerolinecolor\": \"white\", \"zerolinewidth\": 2}}}, \"title\": {\"text\": \"$K^{trans}_{RR}$\", \"x\": 0.5, \"xanchor\": \"center\"}, \"xaxis\": {\"title\": {\"text\": \"$\\\\sigma_{noise}[Mm]$\"}}, \"yaxis\": {\"range\": [-25, 5], \"showline\": true, \"tickvals\": [-25, -20, -15, -10, -5, 0, 5], \"title\": {\"text\": \"$Percent Error$\"}}},                        {\"responsive\": true}                    ).then(function(){\n",
       "                            \n",
       "var gd = document.getElementById('a83dcd51-b8f1-43be-8587-df2cd752e15f');\n",
       "var x = new MutationObserver(function (mutations, observer) {{\n",
       "        var display = window.getComputedStyle(gd).display;\n",
       "        if (!display || display === 'none') {{\n",
       "            console.log([gd, 'removed!']);\n",
       "            Plotly.purge(gd);\n",
       "            observer.disconnect();\n",
       "        }}\n",
       "}});\n",
       "\n",
       "// Listen for the removal of the full notebook cells\n",
       "var notebookContainer = gd.closest('#notebook-container');\n",
       "if (notebookContainer) {{\n",
       "    x.observe(notebookContainer, {childList: true});\n",
       "}}\n",
       "\n",
       "// Listen for the clearing of the current output cell\n",
       "var outputEl = gd.closest('.output');\n",
       "if (outputEl) {{\n",
       "    x.observe(outputEl, {childList: true});\n",
       "}}\n",
       "\n",
       "                        })                };                });            </script>        </div>"
      ]
     },
     "metadata": {},
     "output_type": "display_data"
    }
   ],
   "source": [
    "# THIS CAN PROBABLY BE LEFT OUT BUT IT ONLY WORKS HALF OF THE TIME IF I LEAVE IT OUT SO IT'S HERE FOR NOW\n",
    "\n",
    "file = loadmat('fig2andfig3vars.mat')\n",
    "\n",
    "listSigmaC = np.squeeze(np.asarray((np.reshape(file['listSigmaC'], 6))))\n",
    "\n",
    "curErr1 = file['curErr1']\n",
    "errQt1 = file['errQt1']\n",
    "errMd1 = file['errMd1']\n",
    "fig = go.Figure()\n",
    "\n",
    "legend_values = cycle([5, 10, 15, 30])\n",
    "\n",
    "line_colours = cycle(['#006837','#31A354','#78C679','#C2E699'])\n",
    "    \n",
    "for i in range(0,4):\n",
    "    finalErrMd1=np.squeeze(np.asarray((np.reshape(errMd1[i,:], 6))))\n",
    "    \n",
    "    finalErrorDiff1=np.squeeze(np.asarray((np.reshape(abs(errQt1[i,:,0]-errMd1[i,:]), 6))))\n",
    "    finalErrorDiffMinus1=np.squeeze(np.asarray((np.reshape(abs(errQt1[i,:,1]-errMd1[i,:]), 6))))\n",
    "    fig.add_trace(go.Scatter(\n",
    "        name=next(legend_values),\n",
    "        visible=False,\n",
    "        x=listSigmaC,\n",
    "        y=finalErrMd1,\n",
    "        error_y=dict(\n",
    "            type='data', # value of error bar given in data coordinates\n",
    "            array=finalErrorDiff1,\n",
    "            arrayminus=finalErrorDiffMinus1,\n",
    "            symmetric=False,\n",
    "            visible=True,\n",
    "            thickness=4),\n",
    "        line_color=next(line_colours),\n",
    "        line_width=4, showlegend=False       \n",
    "    ))\n",
    "\n",
    "\n",
    "\n",
    "    \n",
    "# Default value on the slider    \n",
    "fig.data[0].visible = True\n",
    "\n",
    "\n",
    "# Create and add slider\n",
    "legend_values = [5, 10, 15, 30]\n",
    "steps = []\n",
    "for i in range(len(fig.data)):\n",
    "    step = dict(\n",
    "        method=\"update\",\n",
    "        args=[{\"visible\": [False] * len(fig.data)}],\n",
    "        value=legend_values[i],\n",
    "        label=legend_values[i]        \n",
    "    )\n",
    "    step[\"args\"][0][\"visible\"][i] = True  # Toggle i'th trace to \"visible\"\n",
    "    steps.append(step)\n",
    "\n",
    "sliders = [dict(\n",
    "    active=4,\n",
    "    currentvalue={\"prefix\": \"Temporal resolution [seconds]: \"},\n",
    "    pad={\"t\": 70}, #upper padding \n",
    "    steps=steps\n",
    ")]\n",
    "\n",
    "fig.update_xaxes(title_text=r'$\\sigma_{noise}[Mm]$')\n",
    "fig.update_layout(title=dict(text=r'$K^{trans}_{RR}$',\n",
    "                             x=0.5,\n",
    "                             xanchor='center'),\n",
    "                  yaxis=dict(title=r'$Percent Error$',\n",
    "                             showline=True,\n",
    "                             range=[-25,5],\n",
    "                             tickvals=[-25,-20,-15,-10,-5,0,5],\n",
    "                             ), \n",
    "                  plot_bgcolor='#ffffff',\n",
    "                  legend=dict(yanchor='bottom', y=0.20, xanchor='right', x=0.30),\n",
    "                  sliders=sliders\n",
    ")\n",
    "\n",
    "\n",
    "fig.show()"
   ]
  },
  {
   "cell_type": "markdown",
   "metadata": {
    "kernel": "SoS"
   },
   "source": [
    "## Figure 3 - third subfigure"
   ]
  },
  {
   "cell_type": "code",
   "execution_count": 105,
   "metadata": {
    "kernel": "SoS"
   },
   "outputs": [
    {
     "data": {
      "application/vnd.plotly.v1+json": {
       "config": {
        "plotlyServerURL": "https://plot.ly"
       },
       "data": [
        {
         "error_y": {
          "array": [
           0.00582273931784957,
           0.2524024262627699,
           0.5183567978538182,
           0.8231535893039281,
           1.0651930993430379,
           1.2515997631621805
          ],
          "arrayminus": [
           0.006934136214089715,
           0.2638382085960832,
           0.5789810603262878,
           0.7952206584376151,
           0.9246959898332998,
           1.2805222501866491
          ],
          "symmetric": false,
          "thickness": 4,
          "type": "data",
          "visible": true
         },
         "line": {
          "color": "#006837",
          "width": 4
         },
         "name": "5",
         "showlegend": false,
         "type": "scatter",
         "visible": true,
         "x": [
          0,
          0.01,
          0.02,
          0.030000000000000002,
          0.04,
          0.05
         ],
         "y": [
          -0.011936536038461721,
          -0.1394902825714286,
          -0.250383398624874,
          -0.52829202070101,
          -0.5899815685539631,
          -0.9459100499807735
         ]
        },
        {
         "error_y": {
          "array": [
           0.07539197031757831,
           0.3743679890540792,
           0.6440136995463404,
           0.9534639311359735,
           1.250953568438478,
           1.543903581567248
          ],
          "arrayminus": [
           0.06382579037704901,
           0.2996578367664624,
           0.6196819366037101,
           0.8550009204853571,
           1.218587560727961,
           1.5793437689185845
          ],
          "symmetric": false,
          "thickness": 4,
          "type": "data",
          "visible": true
         },
         "line": {
          "color": "#31A354",
          "width": 4
         },
         "name": "10",
         "showlegend": false,
         "type": "scatter",
         "visible": false,
         "x": [
          0,
          0.01,
          0.02,
          0.030000000000000002,
          0.04,
          0.05
         ],
         "y": [
          -0.06762923458176433,
          -0.24586059328751286,
          -0.4736478154728238,
          -0.7513930088674295,
          -1.1362387170020822,
          -1.7607556669063067
         ]
        },
        {
         "error_y": {
          "array": [
           0.1682136275637573,
           0.43962878982076176,
           0.7395155895458171,
           1.1322092990697006,
           1.4435882355178746,
           1.6408225844487947
          ],
          "arrayminus": [
           0.15620412388459606,
           0.44498236262795,
           0.7351240485787617,
           0.9577930091254606,
           1.2609560017683847,
           1.6439458261287683
          ],
          "symmetric": false,
          "thickness": 4,
          "type": "data",
          "visible": true
         },
         "line": {
          "color": "#78C679",
          "width": 4
         },
         "name": "15",
         "showlegend": false,
         "type": "scatter",
         "visible": false,
         "x": [
          0,
          0.01,
          0.02,
          0.030000000000000002,
          0.04,
          0.05
         ],
         "y": [
          -0.18584311294992817,
          -0.43521811451906395,
          -0.6087268797081474,
          -0.9623107483865133,
          -1.5237226278278841,
          -2.273030452581188
         ]
        },
        {
         "error_y": {
          "array": [
           0.22448568883317743,
           0.6450693133610437,
           1.1109759407664648,
           1.4015938297909272,
           1.755160157833989,
           2.2842809492829614
          ],
          "arrayminus": [
           0.2424540357408399,
           0.6522854790578275,
           1.0116916589113134,
           1.298281641229974,
           1.6683880957439114,
           2.051355993973612
          ],
          "symmetric": false,
          "thickness": 4,
          "type": "data",
          "visible": true
         },
         "line": {
          "color": "#C2E699",
          "width": 4
         },
         "name": "30",
         "showlegend": false,
         "type": "scatter",
         "visible": false,
         "x": [
          0,
          0.01,
          0.02,
          0.030000000000000002,
          0.04,
          0.05
         ],
         "y": [
          -0.7552837524467293,
          -1.2234196131891237,
          -1.697341854635064,
          -2.1992334431413356,
          -2.610700847898578,
          -3.4335893542850044
         ]
        }
       ],
       "layout": {
        "legend": {
         "x": 0.3,
         "xanchor": "right",
         "y": 0.2,
         "yanchor": "bottom"
        },
        "plot_bgcolor": "#ffffff",
        "sliders": [
         {
          "active": 4,
          "currentvalue": {
           "prefix": "Temporal resolution [seconds]: "
          },
          "pad": {
           "t": 70
          },
          "steps": [
           {
            "args": [
             {
              "visible": [
               true,
               false,
               false,
               false
              ]
             }
            ],
            "label": "5",
            "method": "update",
            "value": "5"
           },
           {
            "args": [
             {
              "visible": [
               false,
               true,
               false,
               false
              ]
             }
            ],
            "label": "10",
            "method": "update",
            "value": "10"
           },
           {
            "args": [
             {
              "visible": [
               false,
               false,
               true,
               false
              ]
             }
            ],
            "label": "15",
            "method": "update",
            "value": "15"
           },
           {
            "args": [
             {
              "visible": [
               false,
               false,
               false,
               true
              ]
             }
            ],
            "label": "30",
            "method": "update",
            "value": "30"
           }
          ]
         }
        ],
        "template": {
         "data": {
          "bar": [
           {
            "error_x": {
             "color": "#2a3f5f"
            },
            "error_y": {
             "color": "#2a3f5f"
            },
            "marker": {
             "line": {
              "color": "#E5ECF6",
              "width": 0.5
             }
            },
            "type": "bar"
           }
          ],
          "barpolar": [
           {
            "marker": {
             "line": {
              "color": "#E5ECF6",
              "width": 0.5
             }
            },
            "type": "barpolar"
           }
          ],
          "carpet": [
           {
            "aaxis": {
             "endlinecolor": "#2a3f5f",
             "gridcolor": "white",
             "linecolor": "white",
             "minorgridcolor": "white",
             "startlinecolor": "#2a3f5f"
            },
            "baxis": {
             "endlinecolor": "#2a3f5f",
             "gridcolor": "white",
             "linecolor": "white",
             "minorgridcolor": "white",
             "startlinecolor": "#2a3f5f"
            },
            "type": "carpet"
           }
          ],
          "choropleth": [
           {
            "colorbar": {
             "outlinewidth": 0,
             "ticks": ""
            },
            "type": "choropleth"
           }
          ],
          "contour": [
           {
            "colorbar": {
             "outlinewidth": 0,
             "ticks": ""
            },
            "colorscale": [
             [
              0,
              "#0d0887"
             ],
             [
              0.1111111111111111,
              "#46039f"
             ],
             [
              0.2222222222222222,
              "#7201a8"
             ],
             [
              0.3333333333333333,
              "#9c179e"
             ],
             [
              0.4444444444444444,
              "#bd3786"
             ],
             [
              0.5555555555555556,
              "#d8576b"
             ],
             [
              0.6666666666666666,
              "#ed7953"
             ],
             [
              0.7777777777777778,
              "#fb9f3a"
             ],
             [
              0.8888888888888888,
              "#fdca26"
             ],
             [
              1,
              "#f0f921"
             ]
            ],
            "type": "contour"
           }
          ],
          "contourcarpet": [
           {
            "colorbar": {
             "outlinewidth": 0,
             "ticks": ""
            },
            "type": "contourcarpet"
           }
          ],
          "heatmap": [
           {
            "colorbar": {
             "outlinewidth": 0,
             "ticks": ""
            },
            "colorscale": [
             [
              0,
              "#0d0887"
             ],
             [
              0.1111111111111111,
              "#46039f"
             ],
             [
              0.2222222222222222,
              "#7201a8"
             ],
             [
              0.3333333333333333,
              "#9c179e"
             ],
             [
              0.4444444444444444,
              "#bd3786"
             ],
             [
              0.5555555555555556,
              "#d8576b"
             ],
             [
              0.6666666666666666,
              "#ed7953"
             ],
             [
              0.7777777777777778,
              "#fb9f3a"
             ],
             [
              0.8888888888888888,
              "#fdca26"
             ],
             [
              1,
              "#f0f921"
             ]
            ],
            "type": "heatmap"
           }
          ],
          "heatmapgl": [
           {
            "colorbar": {
             "outlinewidth": 0,
             "ticks": ""
            },
            "colorscale": [
             [
              0,
              "#0d0887"
             ],
             [
              0.1111111111111111,
              "#46039f"
             ],
             [
              0.2222222222222222,
              "#7201a8"
             ],
             [
              0.3333333333333333,
              "#9c179e"
             ],
             [
              0.4444444444444444,
              "#bd3786"
             ],
             [
              0.5555555555555556,
              "#d8576b"
             ],
             [
              0.6666666666666666,
              "#ed7953"
             ],
             [
              0.7777777777777778,
              "#fb9f3a"
             ],
             [
              0.8888888888888888,
              "#fdca26"
             ],
             [
              1,
              "#f0f921"
             ]
            ],
            "type": "heatmapgl"
           }
          ],
          "histogram": [
           {
            "marker": {
             "colorbar": {
              "outlinewidth": 0,
              "ticks": ""
             }
            },
            "type": "histogram"
           }
          ],
          "histogram2d": [
           {
            "colorbar": {
             "outlinewidth": 0,
             "ticks": ""
            },
            "colorscale": [
             [
              0,
              "#0d0887"
             ],
             [
              0.1111111111111111,
              "#46039f"
             ],
             [
              0.2222222222222222,
              "#7201a8"
             ],
             [
              0.3333333333333333,
              "#9c179e"
             ],
             [
              0.4444444444444444,
              "#bd3786"
             ],
             [
              0.5555555555555556,
              "#d8576b"
             ],
             [
              0.6666666666666666,
              "#ed7953"
             ],
             [
              0.7777777777777778,
              "#fb9f3a"
             ],
             [
              0.8888888888888888,
              "#fdca26"
             ],
             [
              1,
              "#f0f921"
             ]
            ],
            "type": "histogram2d"
           }
          ],
          "histogram2dcontour": [
           {
            "colorbar": {
             "outlinewidth": 0,
             "ticks": ""
            },
            "colorscale": [
             [
              0,
              "#0d0887"
             ],
             [
              0.1111111111111111,
              "#46039f"
             ],
             [
              0.2222222222222222,
              "#7201a8"
             ],
             [
              0.3333333333333333,
              "#9c179e"
             ],
             [
              0.4444444444444444,
              "#bd3786"
             ],
             [
              0.5555555555555556,
              "#d8576b"
             ],
             [
              0.6666666666666666,
              "#ed7953"
             ],
             [
              0.7777777777777778,
              "#fb9f3a"
             ],
             [
              0.8888888888888888,
              "#fdca26"
             ],
             [
              1,
              "#f0f921"
             ]
            ],
            "type": "histogram2dcontour"
           }
          ],
          "mesh3d": [
           {
            "colorbar": {
             "outlinewidth": 0,
             "ticks": ""
            },
            "type": "mesh3d"
           }
          ],
          "parcoords": [
           {
            "line": {
             "colorbar": {
              "outlinewidth": 0,
              "ticks": ""
             }
            },
            "type": "parcoords"
           }
          ],
          "pie": [
           {
            "automargin": true,
            "type": "pie"
           }
          ],
          "scatter": [
           {
            "marker": {
             "colorbar": {
              "outlinewidth": 0,
              "ticks": ""
             }
            },
            "type": "scatter"
           }
          ],
          "scatter3d": [
           {
            "line": {
             "colorbar": {
              "outlinewidth": 0,
              "ticks": ""
             }
            },
            "marker": {
             "colorbar": {
              "outlinewidth": 0,
              "ticks": ""
             }
            },
            "type": "scatter3d"
           }
          ],
          "scattercarpet": [
           {
            "marker": {
             "colorbar": {
              "outlinewidth": 0,
              "ticks": ""
             }
            },
            "type": "scattercarpet"
           }
          ],
          "scattergeo": [
           {
            "marker": {
             "colorbar": {
              "outlinewidth": 0,
              "ticks": ""
             }
            },
            "type": "scattergeo"
           }
          ],
          "scattergl": [
           {
            "marker": {
             "colorbar": {
              "outlinewidth": 0,
              "ticks": ""
             }
            },
            "type": "scattergl"
           }
          ],
          "scattermapbox": [
           {
            "marker": {
             "colorbar": {
              "outlinewidth": 0,
              "ticks": ""
             }
            },
            "type": "scattermapbox"
           }
          ],
          "scatterpolar": [
           {
            "marker": {
             "colorbar": {
              "outlinewidth": 0,
              "ticks": ""
             }
            },
            "type": "scatterpolar"
           }
          ],
          "scatterpolargl": [
           {
            "marker": {
             "colorbar": {
              "outlinewidth": 0,
              "ticks": ""
             }
            },
            "type": "scatterpolargl"
           }
          ],
          "scatterternary": [
           {
            "marker": {
             "colorbar": {
              "outlinewidth": 0,
              "ticks": ""
             }
            },
            "type": "scatterternary"
           }
          ],
          "surface": [
           {
            "colorbar": {
             "outlinewidth": 0,
             "ticks": ""
            },
            "colorscale": [
             [
              0,
              "#0d0887"
             ],
             [
              0.1111111111111111,
              "#46039f"
             ],
             [
              0.2222222222222222,
              "#7201a8"
             ],
             [
              0.3333333333333333,
              "#9c179e"
             ],
             [
              0.4444444444444444,
              "#bd3786"
             ],
             [
              0.5555555555555556,
              "#d8576b"
             ],
             [
              0.6666666666666666,
              "#ed7953"
             ],
             [
              0.7777777777777778,
              "#fb9f3a"
             ],
             [
              0.8888888888888888,
              "#fdca26"
             ],
             [
              1,
              "#f0f921"
             ]
            ],
            "type": "surface"
           }
          ],
          "table": [
           {
            "cells": {
             "fill": {
              "color": "#EBF0F8"
             },
             "line": {
              "color": "white"
             }
            },
            "header": {
             "fill": {
              "color": "#C8D4E3"
             },
             "line": {
              "color": "white"
             }
            },
            "type": "table"
           }
          ]
         },
         "layout": {
          "annotationdefaults": {
           "arrowcolor": "#2a3f5f",
           "arrowhead": 0,
           "arrowwidth": 1
          },
          "autotypenumbers": "strict",
          "coloraxis": {
           "colorbar": {
            "outlinewidth": 0,
            "ticks": ""
           }
          },
          "colorscale": {
           "diverging": [
            [
             0,
             "#8e0152"
            ],
            [
             0.1,
             "#c51b7d"
            ],
            [
             0.2,
             "#de77ae"
            ],
            [
             0.3,
             "#f1b6da"
            ],
            [
             0.4,
             "#fde0ef"
            ],
            [
             0.5,
             "#f7f7f7"
            ],
            [
             0.6,
             "#e6f5d0"
            ],
            [
             0.7,
             "#b8e186"
            ],
            [
             0.8,
             "#7fbc41"
            ],
            [
             0.9,
             "#4d9221"
            ],
            [
             1,
             "#276419"
            ]
           ],
           "sequential": [
            [
             0,
             "#0d0887"
            ],
            [
             0.1111111111111111,
             "#46039f"
            ],
            [
             0.2222222222222222,
             "#7201a8"
            ],
            [
             0.3333333333333333,
             "#9c179e"
            ],
            [
             0.4444444444444444,
             "#bd3786"
            ],
            [
             0.5555555555555556,
             "#d8576b"
            ],
            [
             0.6666666666666666,
             "#ed7953"
            ],
            [
             0.7777777777777778,
             "#fb9f3a"
            ],
            [
             0.8888888888888888,
             "#fdca26"
            ],
            [
             1,
             "#f0f921"
            ]
           ],
           "sequentialminus": [
            [
             0,
             "#0d0887"
            ],
            [
             0.1111111111111111,
             "#46039f"
            ],
            [
             0.2222222222222222,
             "#7201a8"
            ],
            [
             0.3333333333333333,
             "#9c179e"
            ],
            [
             0.4444444444444444,
             "#bd3786"
            ],
            [
             0.5555555555555556,
             "#d8576b"
            ],
            [
             0.6666666666666666,
             "#ed7953"
            ],
            [
             0.7777777777777778,
             "#fb9f3a"
            ],
            [
             0.8888888888888888,
             "#fdca26"
            ],
            [
             1,
             "#f0f921"
            ]
           ]
          },
          "colorway": [
           "#636efa",
           "#EF553B",
           "#00cc96",
           "#ab63fa",
           "#FFA15A",
           "#19d3f3",
           "#FF6692",
           "#B6E880",
           "#FF97FF",
           "#FECB52"
          ],
          "font": {
           "color": "#2a3f5f"
          },
          "geo": {
           "bgcolor": "white",
           "lakecolor": "white",
           "landcolor": "#E5ECF6",
           "showlakes": true,
           "showland": true,
           "subunitcolor": "white"
          },
          "hoverlabel": {
           "align": "left"
          },
          "hovermode": "closest",
          "mapbox": {
           "style": "light"
          },
          "paper_bgcolor": "white",
          "plot_bgcolor": "#E5ECF6",
          "polar": {
           "angularaxis": {
            "gridcolor": "white",
            "linecolor": "white",
            "ticks": ""
           },
           "bgcolor": "#E5ECF6",
           "radialaxis": {
            "gridcolor": "white",
            "linecolor": "white",
            "ticks": ""
           }
          },
          "scene": {
           "xaxis": {
            "backgroundcolor": "#E5ECF6",
            "gridcolor": "white",
            "gridwidth": 2,
            "linecolor": "white",
            "showbackground": true,
            "ticks": "",
            "zerolinecolor": "white"
           },
           "yaxis": {
            "backgroundcolor": "#E5ECF6",
            "gridcolor": "white",
            "gridwidth": 2,
            "linecolor": "white",
            "showbackground": true,
            "ticks": "",
            "zerolinecolor": "white"
           },
           "zaxis": {
            "backgroundcolor": "#E5ECF6",
            "gridcolor": "white",
            "gridwidth": 2,
            "linecolor": "white",
            "showbackground": true,
            "ticks": "",
            "zerolinecolor": "white"
           }
          },
          "shapedefaults": {
           "line": {
            "color": "#2a3f5f"
           }
          },
          "ternary": {
           "aaxis": {
            "gridcolor": "white",
            "linecolor": "white",
            "ticks": ""
           },
           "baxis": {
            "gridcolor": "white",
            "linecolor": "white",
            "ticks": ""
           },
           "bgcolor": "#E5ECF6",
           "caxis": {
            "gridcolor": "white",
            "linecolor": "white",
            "ticks": ""
           }
          },
          "title": {
           "x": 0.05
          },
          "xaxis": {
           "automargin": true,
           "gridcolor": "white",
           "linecolor": "white",
           "ticks": "",
           "title": {
            "standoff": 15
           },
           "zerolinecolor": "white",
           "zerolinewidth": 2
          },
          "yaxis": {
           "automargin": true,
           "gridcolor": "white",
           "linecolor": "white",
           "ticks": "",
           "title": {
            "standoff": 15
           },
           "zerolinecolor": "white",
           "zerolinewidth": 2
          }
         }
        },
        "title": {
         "text": "$V_{e,RR}$",
         "x": 0.5,
         "xanchor": "center"
        },
        "xaxis": {
         "title": {
          "text": "$\\sigma_{noise}[Mm]$"
         }
        },
        "yaxis": {
         "range": [
          -10,
          5
         ],
         "showline": true,
         "tickvals": [
          -10,
          -5,
          0,
          5
         ],
         "title": {
          "text": "$Percent Error$"
         }
        }
       }
      },
      "text/html": [
       "<div>                            <div id=\"dc1eaa2f-5adb-41f2-bab0-d63fc8d047de\" class=\"plotly-graph-div\" style=\"height:525px; width:100%;\"></div>            <script type=\"text/javascript\">                require([\"plotly\"], function(Plotly) {                    window.PLOTLYENV=window.PLOTLYENV || {};                                    if (document.getElementById(\"dc1eaa2f-5adb-41f2-bab0-d63fc8d047de\")) {                    Plotly.newPlot(                        \"dc1eaa2f-5adb-41f2-bab0-d63fc8d047de\",                        [{\"error_y\": {\"array\": [0.00582273931784957, 0.2524024262627699, 0.5183567978538182, 0.8231535893039281, 1.0651930993430379, 1.2515997631621805], \"arrayminus\": [0.006934136214089715, 0.2638382085960832, 0.5789810603262878, 0.7952206584376151, 0.9246959898332998, 1.2805222501866491], \"symmetric\": false, \"thickness\": 4, \"type\": \"data\", \"visible\": true}, \"line\": {\"color\": \"#006837\", \"width\": 4}, \"name\": \"5\", \"showlegend\": false, \"type\": \"scatter\", \"visible\": true, \"x\": [0.0, 0.01, 0.02, 0.030000000000000002, 0.04, 0.05], \"y\": [-0.011936536038461721, -0.1394902825714286, -0.250383398624874, -0.52829202070101, -0.5899815685539631, -0.9459100499807735]}, {\"error_y\": {\"array\": [0.07539197031757831, 0.3743679890540792, 0.6440136995463404, 0.9534639311359735, 1.250953568438478, 1.543903581567248], \"arrayminus\": [0.06382579037704901, 0.2996578367664624, 0.6196819366037101, 0.8550009204853571, 1.218587560727961, 1.5793437689185845], \"symmetric\": false, \"thickness\": 4, \"type\": \"data\", \"visible\": true}, \"line\": {\"color\": \"#31A354\", \"width\": 4}, \"name\": \"10\", \"showlegend\": false, \"type\": \"scatter\", \"visible\": false, \"x\": [0.0, 0.01, 0.02, 0.030000000000000002, 0.04, 0.05], \"y\": [-0.06762923458176433, -0.24586059328751286, -0.4736478154728238, -0.7513930088674295, -1.1362387170020822, -1.7607556669063067]}, {\"error_y\": {\"array\": [0.1682136275637573, 0.43962878982076176, 0.7395155895458171, 1.1322092990697006, 1.4435882355178746, 1.6408225844487947], \"arrayminus\": [0.15620412388459606, 0.44498236262795, 0.7351240485787617, 0.9577930091254606, 1.2609560017683847, 1.6439458261287683], \"symmetric\": false, \"thickness\": 4, \"type\": \"data\", \"visible\": true}, \"line\": {\"color\": \"#78C679\", \"width\": 4}, \"name\": \"15\", \"showlegend\": false, \"type\": \"scatter\", \"visible\": false, \"x\": [0.0, 0.01, 0.02, 0.030000000000000002, 0.04, 0.05], \"y\": [-0.18584311294992817, -0.43521811451906395, -0.6087268797081474, -0.9623107483865133, -1.5237226278278841, -2.273030452581188]}, {\"error_y\": {\"array\": [0.22448568883317743, 0.6450693133610437, 1.1109759407664648, 1.4015938297909272, 1.755160157833989, 2.2842809492829614], \"arrayminus\": [0.2424540357408399, 0.6522854790578275, 1.0116916589113134, 1.298281641229974, 1.6683880957439114, 2.051355993973612], \"symmetric\": false, \"thickness\": 4, \"type\": \"data\", \"visible\": true}, \"line\": {\"color\": \"#C2E699\", \"width\": 4}, \"name\": \"30\", \"showlegend\": false, \"type\": \"scatter\", \"visible\": false, \"x\": [0.0, 0.01, 0.02, 0.030000000000000002, 0.04, 0.05], \"y\": [-0.7552837524467293, -1.2234196131891237, -1.697341854635064, -2.1992334431413356, -2.610700847898578, -3.4335893542850044]}],                        {\"legend\": {\"x\": 0.3, \"xanchor\": \"right\", \"y\": 0.2, \"yanchor\": \"bottom\"}, \"plot_bgcolor\": \"#ffffff\", \"sliders\": [{\"active\": 4, \"currentvalue\": {\"prefix\": \"Temporal resolution [seconds]: \"}, \"pad\": {\"t\": 70}, \"steps\": [{\"args\": [{\"visible\": [true, false, false, false]}], \"label\": \"5\", \"method\": \"update\", \"value\": \"5\"}, {\"args\": [{\"visible\": [false, true, false, false]}], \"label\": \"10\", \"method\": \"update\", \"value\": \"10\"}, {\"args\": [{\"visible\": [false, false, true, false]}], \"label\": \"15\", \"method\": \"update\", \"value\": \"15\"}, {\"args\": [{\"visible\": [false, false, false, true]}], \"label\": \"30\", \"method\": \"update\", \"value\": \"30\"}]}], \"template\": {\"data\": {\"bar\": [{\"error_x\": {\"color\": \"#2a3f5f\"}, \"error_y\": {\"color\": \"#2a3f5f\"}, \"marker\": {\"line\": {\"color\": \"#E5ECF6\", \"width\": 0.5}}, \"type\": \"bar\"}], \"barpolar\": [{\"marker\": {\"line\": {\"color\": \"#E5ECF6\", \"width\": 0.5}}, \"type\": \"barpolar\"}], \"carpet\": [{\"aaxis\": {\"endlinecolor\": \"#2a3f5f\", \"gridcolor\": \"white\", \"linecolor\": \"white\", \"minorgridcolor\": \"white\", \"startlinecolor\": \"#2a3f5f\"}, \"baxis\": {\"endlinecolor\": \"#2a3f5f\", \"gridcolor\": \"white\", \"linecolor\": \"white\", \"minorgridcolor\": \"white\", \"startlinecolor\": \"#2a3f5f\"}, \"type\": \"carpet\"}], \"choropleth\": [{\"colorbar\": {\"outlinewidth\": 0, \"ticks\": \"\"}, \"type\": \"choropleth\"}], \"contour\": [{\"colorbar\": {\"outlinewidth\": 0, \"ticks\": \"\"}, \"colorscale\": [[0.0, \"#0d0887\"], [0.1111111111111111, \"#46039f\"], [0.2222222222222222, \"#7201a8\"], [0.3333333333333333, \"#9c179e\"], [0.4444444444444444, \"#bd3786\"], [0.5555555555555556, \"#d8576b\"], [0.6666666666666666, \"#ed7953\"], [0.7777777777777778, \"#fb9f3a\"], [0.8888888888888888, \"#fdca26\"], [1.0, \"#f0f921\"]], \"type\": \"contour\"}], \"contourcarpet\": [{\"colorbar\": {\"outlinewidth\": 0, \"ticks\": \"\"}, \"type\": \"contourcarpet\"}], \"heatmap\": [{\"colorbar\": {\"outlinewidth\": 0, \"ticks\": \"\"}, \"colorscale\": [[0.0, \"#0d0887\"], [0.1111111111111111, \"#46039f\"], [0.2222222222222222, \"#7201a8\"], [0.3333333333333333, \"#9c179e\"], [0.4444444444444444, \"#bd3786\"], [0.5555555555555556, \"#d8576b\"], [0.6666666666666666, \"#ed7953\"], [0.7777777777777778, \"#fb9f3a\"], [0.8888888888888888, \"#fdca26\"], [1.0, \"#f0f921\"]], \"type\": \"heatmap\"}], \"heatmapgl\": [{\"colorbar\": {\"outlinewidth\": 0, \"ticks\": \"\"}, \"colorscale\": [[0.0, \"#0d0887\"], [0.1111111111111111, \"#46039f\"], [0.2222222222222222, \"#7201a8\"], [0.3333333333333333, \"#9c179e\"], [0.4444444444444444, \"#bd3786\"], [0.5555555555555556, \"#d8576b\"], [0.6666666666666666, \"#ed7953\"], [0.7777777777777778, \"#fb9f3a\"], [0.8888888888888888, \"#fdca26\"], [1.0, \"#f0f921\"]], \"type\": \"heatmapgl\"}], \"histogram\": [{\"marker\": {\"colorbar\": {\"outlinewidth\": 0, \"ticks\": \"\"}}, \"type\": \"histogram\"}], \"histogram2d\": [{\"colorbar\": {\"outlinewidth\": 0, \"ticks\": \"\"}, \"colorscale\": [[0.0, \"#0d0887\"], [0.1111111111111111, \"#46039f\"], [0.2222222222222222, \"#7201a8\"], [0.3333333333333333, \"#9c179e\"], [0.4444444444444444, \"#bd3786\"], [0.5555555555555556, \"#d8576b\"], [0.6666666666666666, \"#ed7953\"], [0.7777777777777778, \"#fb9f3a\"], [0.8888888888888888, \"#fdca26\"], [1.0, \"#f0f921\"]], \"type\": \"histogram2d\"}], \"histogram2dcontour\": [{\"colorbar\": {\"outlinewidth\": 0, \"ticks\": \"\"}, \"colorscale\": [[0.0, \"#0d0887\"], [0.1111111111111111, \"#46039f\"], [0.2222222222222222, \"#7201a8\"], [0.3333333333333333, \"#9c179e\"], [0.4444444444444444, \"#bd3786\"], [0.5555555555555556, \"#d8576b\"], [0.6666666666666666, \"#ed7953\"], [0.7777777777777778, \"#fb9f3a\"], [0.8888888888888888, \"#fdca26\"], [1.0, \"#f0f921\"]], \"type\": \"histogram2dcontour\"}], \"mesh3d\": [{\"colorbar\": {\"outlinewidth\": 0, \"ticks\": \"\"}, \"type\": \"mesh3d\"}], \"parcoords\": [{\"line\": {\"colorbar\": {\"outlinewidth\": 0, \"ticks\": \"\"}}, \"type\": \"parcoords\"}], \"pie\": [{\"automargin\": true, \"type\": \"pie\"}], \"scatter\": [{\"marker\": {\"colorbar\": {\"outlinewidth\": 0, \"ticks\": \"\"}}, \"type\": \"scatter\"}], \"scatter3d\": [{\"line\": {\"colorbar\": {\"outlinewidth\": 0, \"ticks\": \"\"}}, \"marker\": {\"colorbar\": {\"outlinewidth\": 0, \"ticks\": \"\"}}, \"type\": \"scatter3d\"}], \"scattercarpet\": [{\"marker\": {\"colorbar\": {\"outlinewidth\": 0, \"ticks\": \"\"}}, \"type\": \"scattercarpet\"}], \"scattergeo\": [{\"marker\": {\"colorbar\": {\"outlinewidth\": 0, \"ticks\": \"\"}}, \"type\": \"scattergeo\"}], \"scattergl\": [{\"marker\": {\"colorbar\": {\"outlinewidth\": 0, \"ticks\": \"\"}}, \"type\": \"scattergl\"}], \"scattermapbox\": [{\"marker\": {\"colorbar\": {\"outlinewidth\": 0, \"ticks\": \"\"}}, \"type\": \"scattermapbox\"}], \"scatterpolar\": [{\"marker\": {\"colorbar\": {\"outlinewidth\": 0, \"ticks\": \"\"}}, \"type\": \"scatterpolar\"}], \"scatterpolargl\": [{\"marker\": {\"colorbar\": {\"outlinewidth\": 0, \"ticks\": \"\"}}, \"type\": \"scatterpolargl\"}], \"scatterternary\": [{\"marker\": {\"colorbar\": {\"outlinewidth\": 0, \"ticks\": \"\"}}, \"type\": \"scatterternary\"}], \"surface\": [{\"colorbar\": {\"outlinewidth\": 0, \"ticks\": \"\"}, \"colorscale\": [[0.0, \"#0d0887\"], [0.1111111111111111, \"#46039f\"], [0.2222222222222222, \"#7201a8\"], [0.3333333333333333, \"#9c179e\"], [0.4444444444444444, \"#bd3786\"], [0.5555555555555556, \"#d8576b\"], [0.6666666666666666, \"#ed7953\"], [0.7777777777777778, \"#fb9f3a\"], [0.8888888888888888, \"#fdca26\"], [1.0, \"#f0f921\"]], \"type\": \"surface\"}], \"table\": [{\"cells\": {\"fill\": {\"color\": \"#EBF0F8\"}, \"line\": {\"color\": \"white\"}}, \"header\": {\"fill\": {\"color\": \"#C8D4E3\"}, \"line\": {\"color\": \"white\"}}, \"type\": \"table\"}]}, \"layout\": {\"annotationdefaults\": {\"arrowcolor\": \"#2a3f5f\", \"arrowhead\": 0, \"arrowwidth\": 1}, \"autotypenumbers\": \"strict\", \"coloraxis\": {\"colorbar\": {\"outlinewidth\": 0, \"ticks\": \"\"}}, \"colorscale\": {\"diverging\": [[0, \"#8e0152\"], [0.1, \"#c51b7d\"], [0.2, \"#de77ae\"], [0.3, \"#f1b6da\"], [0.4, \"#fde0ef\"], [0.5, \"#f7f7f7\"], [0.6, \"#e6f5d0\"], [0.7, \"#b8e186\"], [0.8, \"#7fbc41\"], [0.9, \"#4d9221\"], [1, \"#276419\"]], \"sequential\": [[0.0, \"#0d0887\"], [0.1111111111111111, \"#46039f\"], [0.2222222222222222, \"#7201a8\"], [0.3333333333333333, \"#9c179e\"], [0.4444444444444444, \"#bd3786\"], [0.5555555555555556, \"#d8576b\"], [0.6666666666666666, \"#ed7953\"], [0.7777777777777778, \"#fb9f3a\"], [0.8888888888888888, \"#fdca26\"], [1.0, \"#f0f921\"]], \"sequentialminus\": [[0.0, \"#0d0887\"], [0.1111111111111111, \"#46039f\"], [0.2222222222222222, \"#7201a8\"], [0.3333333333333333, \"#9c179e\"], [0.4444444444444444, \"#bd3786\"], [0.5555555555555556, \"#d8576b\"], [0.6666666666666666, \"#ed7953\"], [0.7777777777777778, \"#fb9f3a\"], [0.8888888888888888, \"#fdca26\"], [1.0, \"#f0f921\"]]}, \"colorway\": [\"#636efa\", \"#EF553B\", \"#00cc96\", \"#ab63fa\", \"#FFA15A\", \"#19d3f3\", \"#FF6692\", \"#B6E880\", \"#FF97FF\", \"#FECB52\"], \"font\": {\"color\": \"#2a3f5f\"}, \"geo\": {\"bgcolor\": \"white\", \"lakecolor\": \"white\", \"landcolor\": \"#E5ECF6\", \"showlakes\": true, \"showland\": true, \"subunitcolor\": \"white\"}, \"hoverlabel\": {\"align\": \"left\"}, \"hovermode\": \"closest\", \"mapbox\": {\"style\": \"light\"}, \"paper_bgcolor\": \"white\", \"plot_bgcolor\": \"#E5ECF6\", \"polar\": {\"angularaxis\": {\"gridcolor\": \"white\", \"linecolor\": \"white\", \"ticks\": \"\"}, \"bgcolor\": \"#E5ECF6\", \"radialaxis\": {\"gridcolor\": \"white\", \"linecolor\": \"white\", \"ticks\": \"\"}}, \"scene\": {\"xaxis\": {\"backgroundcolor\": \"#E5ECF6\", \"gridcolor\": \"white\", \"gridwidth\": 2, \"linecolor\": \"white\", \"showbackground\": true, \"ticks\": \"\", \"zerolinecolor\": \"white\"}, \"yaxis\": {\"backgroundcolor\": \"#E5ECF6\", \"gridcolor\": \"white\", \"gridwidth\": 2, \"linecolor\": \"white\", \"showbackground\": true, \"ticks\": \"\", \"zerolinecolor\": \"white\"}, \"zaxis\": {\"backgroundcolor\": \"#E5ECF6\", \"gridcolor\": \"white\", \"gridwidth\": 2, \"linecolor\": \"white\", \"showbackground\": true, \"ticks\": \"\", \"zerolinecolor\": \"white\"}}, \"shapedefaults\": {\"line\": {\"color\": \"#2a3f5f\"}}, \"ternary\": {\"aaxis\": {\"gridcolor\": \"white\", \"linecolor\": \"white\", \"ticks\": \"\"}, \"baxis\": {\"gridcolor\": \"white\", \"linecolor\": \"white\", \"ticks\": \"\"}, \"bgcolor\": \"#E5ECF6\", \"caxis\": {\"gridcolor\": \"white\", \"linecolor\": \"white\", \"ticks\": \"\"}}, \"title\": {\"x\": 0.05}, \"xaxis\": {\"automargin\": true, \"gridcolor\": \"white\", \"linecolor\": \"white\", \"ticks\": \"\", \"title\": {\"standoff\": 15}, \"zerolinecolor\": \"white\", \"zerolinewidth\": 2}, \"yaxis\": {\"automargin\": true, \"gridcolor\": \"white\", \"linecolor\": \"white\", \"ticks\": \"\", \"title\": {\"standoff\": 15}, \"zerolinecolor\": \"white\", \"zerolinewidth\": 2}}}, \"title\": {\"text\": \"$V_{e,RR}$\", \"x\": 0.5, \"xanchor\": \"center\"}, \"xaxis\": {\"title\": {\"text\": \"$\\\\sigma_{noise}[Mm]$\"}}, \"yaxis\": {\"range\": [-10, 5], \"showline\": true, \"tickvals\": [-10, -5, 0, 5], \"title\": {\"text\": \"$Percent Error$\"}}},                        {\"responsive\": true}                    ).then(function(){\n",
       "                            \n",
       "var gd = document.getElementById('dc1eaa2f-5adb-41f2-bab0-d63fc8d047de');\n",
       "var x = new MutationObserver(function (mutations, observer) {{\n",
       "        var display = window.getComputedStyle(gd).display;\n",
       "        if (!display || display === 'none') {{\n",
       "            console.log([gd, 'removed!']);\n",
       "            Plotly.purge(gd);\n",
       "            observer.disconnect();\n",
       "        }}\n",
       "}});\n",
       "\n",
       "// Listen for the removal of the full notebook cells\n",
       "var notebookContainer = gd.closest('#notebook-container');\n",
       "if (notebookContainer) {{\n",
       "    x.observe(notebookContainer, {childList: true});\n",
       "}}\n",
       "\n",
       "// Listen for the clearing of the current output cell\n",
       "var outputEl = gd.closest('.output');\n",
       "if (outputEl) {{\n",
       "    x.observe(outputEl, {childList: true});\n",
       "}}\n",
       "\n",
       "                        })                };                });            </script>        </div>"
      ]
     },
     "metadata": {},
     "output_type": "display_data"
    }
   ],
   "source": [
    "# THIS CAN PROBABLY BE LEFT OUT BUT IT ONLY WORKS HALF OF THE TIME IF I LEAVE IT OUT SO IT'S HERE FOR NOW\n",
    "\n",
    "file = loadmat('fig2andfig3vars.mat')\n",
    "\n",
    "listSigmaC = np.squeeze(np.asarray((np.reshape(file['listSigmaC'], 6))))\n",
    "\n",
    "curErr2 = file['curErr2']\n",
    "errQt2 = file['errQt2']\n",
    "errMd2 = file['errMd2']\n",
    "\n",
    "fig = go.Figure()\n",
    "\n",
    "legend_values = cycle([5, 10, 15, 30])\n",
    "\n",
    "line_colours = cycle(['#006837','#31A354','#78C679','#C2E699'])\n",
    "\n",
    "for i in range(0,4):\n",
    "    finalErrMd2=np.squeeze(np.asarray((np.reshape(errMd2[i,:], 6))))\n",
    "    \n",
    "    finalErrorDiff2=np.squeeze(np.asarray((np.reshape(abs(errQt2[i,:,0]-errMd2[i,:]), 6))))\n",
    "    finalErrorDiffMinus2=np.squeeze(np.asarray((np.reshape(abs(errQt2[i,:,1]-errMd2[i,:]), 6))))\n",
    "    fig.add_trace(go.Scatter(\n",
    "        name=next(legend_values),\n",
    "        visible=False,\n",
    "        x=listSigmaC,\n",
    "        y=finalErrMd2,\n",
    "        error_y=dict(\n",
    "            type='data', # value of error bar given in data coordinates\n",
    "            array=finalErrorDiff2,\n",
    "            arrayminus=finalErrorDiffMinus2,\n",
    "            symmetric=False,\n",
    "            visible=True,\n",
    "            thickness=4),\n",
    "        line_color=next(line_colours),\n",
    "        line_width=4, showlegend=False      \n",
    "    ))\n",
    "\n",
    "\n",
    "\n",
    "    \n",
    "# Default value on the slider    \n",
    "fig.data[0].visible = True\n",
    "\n",
    "\n",
    "# Create and add slider\n",
    "legend_values = [5, 10, 15, 30]\n",
    "steps = []\n",
    "for i in range(len(fig.data)):\n",
    "    step = dict(\n",
    "        method=\"update\",\n",
    "        args=[{\"visible\": [False] * len(fig.data)}],\n",
    "        value=legend_values[i],\n",
    "        label=legend_values[i]        \n",
    "    )\n",
    "    step[\"args\"][0][\"visible\"][i] = True  # Toggle i'th trace to \"visible\"\n",
    "    steps.append(step)\n",
    "\n",
    "sliders = [dict(\n",
    "    active=4,\n",
    "    currentvalue={\"prefix\": \"Temporal resolution [seconds]: \"},\n",
    "    pad={\"t\": 70}, #upper padding \n",
    "    steps=steps\n",
    ")]\n",
    "\n",
    "\n",
    "fig.update_xaxes(title_text=r'$\\sigma_{noise}[Mm]$')\n",
    "fig.update_layout(title=dict(text=r'$V_{e,RR}$',\n",
    "                             x=0.5,\n",
    "                             xanchor='center'),\n",
    "                  yaxis=dict(title=r'$Percent Error$',\n",
    "                             showline=True,\n",
    "                             range=[-10,5],\n",
    "                             tickvals=[-10,-5,0,5],\n",
    "                             ), \n",
    "                  plot_bgcolor='#ffffff',\n",
    "                  legend=dict(yanchor='bottom', y=0.20, xanchor='right', x=0.30),\n",
    "                  sliders=sliders\n",
    ")\n",
    "\n",
    "\n",
    "fig.show()"
   ]
  },
  {
   "cell_type": "markdown",
   "metadata": {
    "kernel": "SoS"
   },
   "source": [
    "# Figure 4"
   ]
  },
  {
   "cell_type": "code",
   "execution_count": 91,
   "metadata": {
    "kernel": "SoS"
   },
   "outputs": [
    {
     "data": {
      "application/vnd.plotly.v1+json": {
       "config": {
        "plotlyServerURL": "https://plot.ly"
       },
       "data": [
        {
         "error_y": {
          "array": [
           11.981119768301875,
           12.096722239762885,
           11.940417048651613,
           11.963828285884363,
           11.908600135208985,
           11.99363184572362,
           11.94731190570475,
           11.831028583097392,
           11.925029351497763
          ],
          "arrayminus": [
           13.721580874202438,
           13.73549847169443,
           13.786656317496195,
           13.69338392754863,
           13.744114672374565,
           13.80861541600174,
           13.758399195851073,
           13.775047227317001,
           13.745318701871593
          ],
          "symmetric": false,
          "thickness": 4,
          "type": "data",
          "visible": true
         },
         "legendgroup": "0",
         "line": {
          "color": "#bfbfbf",
          "width": 4
         },
         "name": "ETM",
         "showlegend": false,
         "type": "scatter",
         "x": [
          0.03,
          0.04,
          0.05,
          0.06,
          0.07,
          0.08,
          0.09,
          0.1,
          0.11
         ],
         "xaxis": "x",
         "y": [
          -6.721117658921614,
          -6.71949294276256,
          -6.514695908493156,
          -6.8031789572649615,
          -6.626353367571107,
          -6.575399981328633,
          -6.618161405017087,
          -6.565881788373668,
          -6.594794527888692
         ],
         "yaxis": "y"
        },
        {
         "error_y": {
          "array": [
           8.613586145251853,
           8.764710731025172,
           8.518483975298137,
           8.092170071593507,
           7.957106226355151,
           7.3126487644341385,
           7.141299193891579,
           6.920480763456166,
           6.834090868471009
          ],
          "arrayminus": [
           7.82631536260196,
           7.871074898922423,
           7.906657481593855,
           8.018563059316797,
           7.8502109797730455,
           7.406780629139465,
           7.1884177847737,
           6.992198145905043,
           6.619854709723045
          ],
          "symmetric": false,
          "thickness": 4,
          "type": "data",
          "visible": true
         },
         "legendgroup": "1",
         "line": {
          "color": "#292447",
          "width": 4
         },
         "name": "RRIFT",
         "showlegend": false,
         "type": "scatter",
         "x": [
          0.03,
          0.04,
          0.05,
          0.06,
          0.07,
          0.08,
          0.09,
          0.1,
          0.11
         ],
         "xaxis": "x",
         "y": [
          1.5929091744812083,
          1.5681987401863144,
          -0.09547352369986459,
          -2.3914426313172212,
          -3.929356912711899,
          -5.415275769833707,
          -5.975685326848348,
          -6.250374856006047,
          -6.340379847348723
         ],
         "yaxis": "y"
        },
        {
         "error_y": {
          "array": [
           18.211731922616252,
           13.626582724613755,
           10.508204329071908,
           8.379607030376587,
           7.081359218809256,
           6.114098807407956,
           5.495951695103919,
           5.019304282204278,
           4.644299130689859
          ],
          "arrayminus": [
           16.618508527763126,
           12.288414307621338,
           9.788145852979241,
           8.259939836663168,
           7.159776972017083,
           6.2119650741719425,
           5.583309668689417,
           5.038796245847848,
           4.523602027720337
          ],
          "symmetric": false,
          "thickness": 4,
          "type": "data",
          "visible": true
         },
         "legendgroup": "2",
         "line": {
          "color": "#e45947",
          "width": 4
         },
         "name": "RRM w/ fixed RR params",
         "showlegend": false,
         "type": "scatter",
         "x": [
          0.03,
          0.04,
          0.05,
          0.06,
          0.07,
          0.08,
          0.09,
          0.1,
          0.11
         ],
         "xaxis": "x",
         "y": [
          134.53304591857932,
          75.57699914699727,
          40.25518840383216,
          16.87557490915713,
          0.49046335152854126,
          -11.208537468455418,
          -20.30708024467919,
          -27.498707574275265,
          -33.40768931750603
         ],
         "yaxis": "y"
        },
        {
         "error_y": {
          "array": [
           3.528566823403481,
           3.5506965293013355,
           3.5784440247183293,
           3.539800344472335,
           3.531739157556765,
           3.547005254540163,
           3.578561974975544,
           3.5314729136988054,
           3.523255671736372
          ],
          "arrayminus": [
           3.7257421186432467,
           3.6988547192734265,
           3.7758864967717596,
           3.7338942103061536,
           3.7239295688446994,
           3.7389204734142867,
           3.7577000507339586,
           3.7515887880229437,
           3.7798662011171196
          ],
          "symmetric": false,
          "thickness": 4,
          "type": "data",
          "visible": true
         },
         "legendgroup": "0",
         "line": {
          "color": "#bfbfbf",
          "width": 4
         },
         "name": "ETM",
         "showlegend": false,
         "type": "scatter",
         "x": [
          0.1,
          0.11,
          0.12000000000000001,
          0.13,
          0.14,
          0.15,
          0.16,
          0.16999999999999998,
          0.18
         ],
         "xaxis": "x2",
         "y": [
          -2.6403763346778115,
          -2.6274313764235666,
          -2.637897802808663,
          -2.638334964315377,
          -2.635773587064982,
          -2.6416528301538227,
          -2.6296319141014313,
          -2.6569231494605274,
          -2.609330638084412
         ],
         "yaxis": "y2"
        },
        {
         "error_y": {
          "array": [
           3.5551295700629426,
           3.5191268018080395,
           3.5076988702479577,
           3.4766073483937157,
           3.4926066390968904,
           3.558303555207036,
           3.4897967225446416,
           3.5574938600339947,
           3.516139480878666
          ],
          "arrayminus": [
           3.086178079053859,
           3.1622510760522395,
           3.1528057389390662,
           3.2290730376714296,
           3.2604439829262657,
           3.237446898131241,
           3.27928325409764,
           3.270632117264125,
           3.3001494037932195
          ],
          "symmetric": false,
          "thickness": 4,
          "type": "data",
          "visible": true
         },
         "legendgroup": "1",
         "line": {
          "color": "#292447",
          "width": 4
         },
         "name": "RRIFT",
         "showlegend": false,
         "type": "scatter",
         "x": [
          0.1,
          0.11,
          0.12000000000000001,
          0.13,
          0.14,
          0.15,
          0.16,
          0.16999999999999998,
          0.18
         ],
         "xaxis": "x2",
         "y": [
          -0.16391400691430558,
          -0.20878108990194008,
          -0.24327964230002608,
          -0.23983159960615327,
          -0.12176085639591701,
          -0.12487061301989269,
          -0.09834841220541184,
          -0.005798928429931208,
          -0.009351058907740715
         ],
         "yaxis": "y2"
        },
        {
         "error_y": {
          "array": [
           5.078053852673804,
           4.553216103885411,
           4.159741271430519,
           3.804956068500534,
           3.485272298347085,
           3.2807938238938075,
           3.0186851780572415,
           2.8704640254856706,
           2.687267428105951
          ],
          "arrayminus": [
           4.281429628183574,
           3.953807576629501,
           3.5825848314625617,
           3.4045262063567883,
           3.1845170890163645,
           2.938791417315832,
           2.7936209035226547,
           2.6155583804850444,
           2.4794925557528558
          ],
          "symmetric": false,
          "thickness": 4,
          "type": "data",
          "visible": true
         },
         "legendgroup": "2",
         "line": {
          "color": "#e45947",
          "width": 4
         },
         "name": "RRM w/ fixed RR params",
         "showlegend": false,
         "type": "scatter",
         "x": [
          0.1,
          0.11,
          0.12000000000000001,
          0.13,
          0.14,
          0.15,
          0.16,
          0.16999999999999998,
          0.18
         ],
         "xaxis": "x2",
         "y": [
          42.185992121512896,
          28.85800686805606,
          17.875859837263416,
          8.43953544209172,
          0.5744672344139141,
          -6.236314328427495,
          -12.268475309917706,
          -17.48816886308808,
          -22.153089160436707
         ],
         "yaxis": "y2"
        },
        {
         "error_y": {
          "array": [
           94.69640946727122,
           92.38003430452139,
           95.14262290151123,
           94.45589393872746,
           94.90917048359347,
           94.27967152129406,
           95.27058349099943,
           95.06653572402305,
           93.69328049521597
          ],
          "arrayminus": [
           25.39409867936571,
           25.4944921687857,
           25.417557331691977,
           25.691801173560336,
           25.416825782451475,
           25.544911671238644,
           25.79010814289779,
           25.645663180675246,
           25.483897016090147
          ],
          "symmetric": false,
          "thickness": 4,
          "type": "data",
          "visible": true
         },
         "legendgroup": "0",
         "line": {
          "color": "#bfbfbf",
          "width": 4
         },
         "name": "ETM",
         "showlegend": true,
         "type": "scatter",
         "x": [
          0.03,
          0.04,
          0.05,
          0.06,
          0.07,
          0.08,
          0.09,
          0.1,
          0.11
         ],
         "xaxis": "x3",
         "y": [
          10.352461098664921,
          9.726631992117124,
          10.434134545928917,
          10.532845095300313,
          10.367809601251956,
          10.184722815676304,
          10.213093294183942,
          10.740775546934326,
          9.869858521350013
         ],
         "yaxis": "y3"
        },
        {
         "error_y": {
          "array": [
           48.23916597207022,
           47.7161291278122,
           46.84241041023326,
           46.154336409078866,
           45.01925238050413,
           44.81441003109606,
           44.45586899817182,
           45.0093185551385,
           45.030839696471745
          ],
          "arrayminus": [
           46.63358288808542,
           46.616057812388135,
           45.581526806853475,
           44.26111409301223,
           43.561604549619034,
           41.5437612698682,
           40.673380144838944,
           39.820538922506245,
           38.9853247515606
          ],
          "symmetric": false,
          "thickness": 4,
          "type": "data",
          "visible": true
         },
         "legendgroup": "1",
         "line": {
          "color": "#292447",
          "width": 4
         },
         "name": "RRIFT",
         "showlegend": true,
         "type": "scatter",
         "x": [
          0.03,
          0.04,
          0.05,
          0.06,
          0.07,
          0.08,
          0.09,
          0.1,
          0.11
         ],
         "xaxis": "x3",
         "y": [
          -1.2551056637806202,
          -0.41709569031729565,
          -1.8977757214449498,
          -2.7942164387960533,
          -4.69990270902397,
          -10.167573940969348,
          -13.638297533452569,
          -17.354108046694506,
          -20.391811186064686
         ],
         "yaxis": "y3"
        },
        {
         "error_y": {
          "array": [
           111.27722035590665,
           82.48821242924348,
           65.5054826062916,
           54.72944462054392,
           46.56347899029469,
           41.71312710989627,
           37.47463574976304,
           34.56601234532601,
           31.87692690533025
          ],
          "arrayminus": [
           107.83367093203739,
           80.491992037722,
           64.18312559263421,
           53.19359983176706,
           45.45444035217881,
           38.969005134615315,
           34.36285720699729,
           30.687308516763096,
           27.593924679849472
          ],
          "symmetric": false,
          "thickness": 4,
          "type": "data",
          "visible": true
         },
         "legendgroup": "2",
         "line": {
          "color": "#e45947",
          "width": 4
         },
         "name": "RRM w/ fixed RR params",
         "showlegend": true,
         "type": "scatter",
         "x": [
          0.03,
          0.04,
          0.05,
          0.06,
          0.07,
          0.08,
          0.09,
          0.1,
          0.11
         ],
         "xaxis": "x3",
         "y": [
          128.04145395912133,
          72.13143317559022,
          37.78266160814451,
          16.682914577764087,
          -0.2066176532181871,
          -15.543615594208092,
          -26.767350607651853,
          -36.018333883752746,
          -43.39066263799338
         ],
         "yaxis": "y3"
        }
       ],
       "layout": {
        "annotations": [
         {
          "font": {
           "size": 16
          },
          "showarrow": false,
          "text": "$K^{trans}$",
          "x": 0.14444444444444446,
          "xanchor": "center",
          "xref": "paper",
          "y": 1,
          "yanchor": "bottom",
          "yref": "paper"
         },
         {
          "font": {
           "size": 16
          },
          "showarrow": false,
          "text": "$V_{e}$",
          "x": 0.5,
          "xanchor": "center",
          "xref": "paper",
          "y": 1,
          "yanchor": "bottom",
          "yref": "paper"
         },
         {
          "font": {
           "size": 16
          },
          "showarrow": false,
          "text": "$V_{p}$",
          "x": 0.8555555555555556,
          "xanchor": "center",
          "xref": "paper",
          "y": 1,
          "yanchor": "bottom",
          "yref": "paper"
         }
        ],
        "plot_bgcolor": "#ffffff",
        "template": {
         "data": {
          "bar": [
           {
            "error_x": {
             "color": "#2a3f5f"
            },
            "error_y": {
             "color": "#2a3f5f"
            },
            "marker": {
             "line": {
              "color": "#E5ECF6",
              "width": 0.5
             }
            },
            "type": "bar"
           }
          ],
          "barpolar": [
           {
            "marker": {
             "line": {
              "color": "#E5ECF6",
              "width": 0.5
             }
            },
            "type": "barpolar"
           }
          ],
          "carpet": [
           {
            "aaxis": {
             "endlinecolor": "#2a3f5f",
             "gridcolor": "white",
             "linecolor": "white",
             "minorgridcolor": "white",
             "startlinecolor": "#2a3f5f"
            },
            "baxis": {
             "endlinecolor": "#2a3f5f",
             "gridcolor": "white",
             "linecolor": "white",
             "minorgridcolor": "white",
             "startlinecolor": "#2a3f5f"
            },
            "type": "carpet"
           }
          ],
          "choropleth": [
           {
            "colorbar": {
             "outlinewidth": 0,
             "ticks": ""
            },
            "type": "choropleth"
           }
          ],
          "contour": [
           {
            "colorbar": {
             "outlinewidth": 0,
             "ticks": ""
            },
            "colorscale": [
             [
              0,
              "#0d0887"
             ],
             [
              0.1111111111111111,
              "#46039f"
             ],
             [
              0.2222222222222222,
              "#7201a8"
             ],
             [
              0.3333333333333333,
              "#9c179e"
             ],
             [
              0.4444444444444444,
              "#bd3786"
             ],
             [
              0.5555555555555556,
              "#d8576b"
             ],
             [
              0.6666666666666666,
              "#ed7953"
             ],
             [
              0.7777777777777778,
              "#fb9f3a"
             ],
             [
              0.8888888888888888,
              "#fdca26"
             ],
             [
              1,
              "#f0f921"
             ]
            ],
            "type": "contour"
           }
          ],
          "contourcarpet": [
           {
            "colorbar": {
             "outlinewidth": 0,
             "ticks": ""
            },
            "type": "contourcarpet"
           }
          ],
          "heatmap": [
           {
            "colorbar": {
             "outlinewidth": 0,
             "ticks": ""
            },
            "colorscale": [
             [
              0,
              "#0d0887"
             ],
             [
              0.1111111111111111,
              "#46039f"
             ],
             [
              0.2222222222222222,
              "#7201a8"
             ],
             [
              0.3333333333333333,
              "#9c179e"
             ],
             [
              0.4444444444444444,
              "#bd3786"
             ],
             [
              0.5555555555555556,
              "#d8576b"
             ],
             [
              0.6666666666666666,
              "#ed7953"
             ],
             [
              0.7777777777777778,
              "#fb9f3a"
             ],
             [
              0.8888888888888888,
              "#fdca26"
             ],
             [
              1,
              "#f0f921"
             ]
            ],
            "type": "heatmap"
           }
          ],
          "heatmapgl": [
           {
            "colorbar": {
             "outlinewidth": 0,
             "ticks": ""
            },
            "colorscale": [
             [
              0,
              "#0d0887"
             ],
             [
              0.1111111111111111,
              "#46039f"
             ],
             [
              0.2222222222222222,
              "#7201a8"
             ],
             [
              0.3333333333333333,
              "#9c179e"
             ],
             [
              0.4444444444444444,
              "#bd3786"
             ],
             [
              0.5555555555555556,
              "#d8576b"
             ],
             [
              0.6666666666666666,
              "#ed7953"
             ],
             [
              0.7777777777777778,
              "#fb9f3a"
             ],
             [
              0.8888888888888888,
              "#fdca26"
             ],
             [
              1,
              "#f0f921"
             ]
            ],
            "type": "heatmapgl"
           }
          ],
          "histogram": [
           {
            "marker": {
             "colorbar": {
              "outlinewidth": 0,
              "ticks": ""
             }
            },
            "type": "histogram"
           }
          ],
          "histogram2d": [
           {
            "colorbar": {
             "outlinewidth": 0,
             "ticks": ""
            },
            "colorscale": [
             [
              0,
              "#0d0887"
             ],
             [
              0.1111111111111111,
              "#46039f"
             ],
             [
              0.2222222222222222,
              "#7201a8"
             ],
             [
              0.3333333333333333,
              "#9c179e"
             ],
             [
              0.4444444444444444,
              "#bd3786"
             ],
             [
              0.5555555555555556,
              "#d8576b"
             ],
             [
              0.6666666666666666,
              "#ed7953"
             ],
             [
              0.7777777777777778,
              "#fb9f3a"
             ],
             [
              0.8888888888888888,
              "#fdca26"
             ],
             [
              1,
              "#f0f921"
             ]
            ],
            "type": "histogram2d"
           }
          ],
          "histogram2dcontour": [
           {
            "colorbar": {
             "outlinewidth": 0,
             "ticks": ""
            },
            "colorscale": [
             [
              0,
              "#0d0887"
             ],
             [
              0.1111111111111111,
              "#46039f"
             ],
             [
              0.2222222222222222,
              "#7201a8"
             ],
             [
              0.3333333333333333,
              "#9c179e"
             ],
             [
              0.4444444444444444,
              "#bd3786"
             ],
             [
              0.5555555555555556,
              "#d8576b"
             ],
             [
              0.6666666666666666,
              "#ed7953"
             ],
             [
              0.7777777777777778,
              "#fb9f3a"
             ],
             [
              0.8888888888888888,
              "#fdca26"
             ],
             [
              1,
              "#f0f921"
             ]
            ],
            "type": "histogram2dcontour"
           }
          ],
          "mesh3d": [
           {
            "colorbar": {
             "outlinewidth": 0,
             "ticks": ""
            },
            "type": "mesh3d"
           }
          ],
          "parcoords": [
           {
            "line": {
             "colorbar": {
              "outlinewidth": 0,
              "ticks": ""
             }
            },
            "type": "parcoords"
           }
          ],
          "pie": [
           {
            "automargin": true,
            "type": "pie"
           }
          ],
          "scatter": [
           {
            "marker": {
             "colorbar": {
              "outlinewidth": 0,
              "ticks": ""
             }
            },
            "type": "scatter"
           }
          ],
          "scatter3d": [
           {
            "line": {
             "colorbar": {
              "outlinewidth": 0,
              "ticks": ""
             }
            },
            "marker": {
             "colorbar": {
              "outlinewidth": 0,
              "ticks": ""
             }
            },
            "type": "scatter3d"
           }
          ],
          "scattercarpet": [
           {
            "marker": {
             "colorbar": {
              "outlinewidth": 0,
              "ticks": ""
             }
            },
            "type": "scattercarpet"
           }
          ],
          "scattergeo": [
           {
            "marker": {
             "colorbar": {
              "outlinewidth": 0,
              "ticks": ""
             }
            },
            "type": "scattergeo"
           }
          ],
          "scattergl": [
           {
            "marker": {
             "colorbar": {
              "outlinewidth": 0,
              "ticks": ""
             }
            },
            "type": "scattergl"
           }
          ],
          "scattermapbox": [
           {
            "marker": {
             "colorbar": {
              "outlinewidth": 0,
              "ticks": ""
             }
            },
            "type": "scattermapbox"
           }
          ],
          "scatterpolar": [
           {
            "marker": {
             "colorbar": {
              "outlinewidth": 0,
              "ticks": ""
             }
            },
            "type": "scatterpolar"
           }
          ],
          "scatterpolargl": [
           {
            "marker": {
             "colorbar": {
              "outlinewidth": 0,
              "ticks": ""
             }
            },
            "type": "scatterpolargl"
           }
          ],
          "scatterternary": [
           {
            "marker": {
             "colorbar": {
              "outlinewidth": 0,
              "ticks": ""
             }
            },
            "type": "scatterternary"
           }
          ],
          "surface": [
           {
            "colorbar": {
             "outlinewidth": 0,
             "ticks": ""
            },
            "colorscale": [
             [
              0,
              "#0d0887"
             ],
             [
              0.1111111111111111,
              "#46039f"
             ],
             [
              0.2222222222222222,
              "#7201a8"
             ],
             [
              0.3333333333333333,
              "#9c179e"
             ],
             [
              0.4444444444444444,
              "#bd3786"
             ],
             [
              0.5555555555555556,
              "#d8576b"
             ],
             [
              0.6666666666666666,
              "#ed7953"
             ],
             [
              0.7777777777777778,
              "#fb9f3a"
             ],
             [
              0.8888888888888888,
              "#fdca26"
             ],
             [
              1,
              "#f0f921"
             ]
            ],
            "type": "surface"
           }
          ],
          "table": [
           {
            "cells": {
             "fill": {
              "color": "#EBF0F8"
             },
             "line": {
              "color": "white"
             }
            },
            "header": {
             "fill": {
              "color": "#C8D4E3"
             },
             "line": {
              "color": "white"
             }
            },
            "type": "table"
           }
          ]
         },
         "layout": {
          "annotationdefaults": {
           "arrowcolor": "#2a3f5f",
           "arrowhead": 0,
           "arrowwidth": 1
          },
          "autotypenumbers": "strict",
          "coloraxis": {
           "colorbar": {
            "outlinewidth": 0,
            "ticks": ""
           }
          },
          "colorscale": {
           "diverging": [
            [
             0,
             "#8e0152"
            ],
            [
             0.1,
             "#c51b7d"
            ],
            [
             0.2,
             "#de77ae"
            ],
            [
             0.3,
             "#f1b6da"
            ],
            [
             0.4,
             "#fde0ef"
            ],
            [
             0.5,
             "#f7f7f7"
            ],
            [
             0.6,
             "#e6f5d0"
            ],
            [
             0.7,
             "#b8e186"
            ],
            [
             0.8,
             "#7fbc41"
            ],
            [
             0.9,
             "#4d9221"
            ],
            [
             1,
             "#276419"
            ]
           ],
           "sequential": [
            [
             0,
             "#0d0887"
            ],
            [
             0.1111111111111111,
             "#46039f"
            ],
            [
             0.2222222222222222,
             "#7201a8"
            ],
            [
             0.3333333333333333,
             "#9c179e"
            ],
            [
             0.4444444444444444,
             "#bd3786"
            ],
            [
             0.5555555555555556,
             "#d8576b"
            ],
            [
             0.6666666666666666,
             "#ed7953"
            ],
            [
             0.7777777777777778,
             "#fb9f3a"
            ],
            [
             0.8888888888888888,
             "#fdca26"
            ],
            [
             1,
             "#f0f921"
            ]
           ],
           "sequentialminus": [
            [
             0,
             "#0d0887"
            ],
            [
             0.1111111111111111,
             "#46039f"
            ],
            [
             0.2222222222222222,
             "#7201a8"
            ],
            [
             0.3333333333333333,
             "#9c179e"
            ],
            [
             0.4444444444444444,
             "#bd3786"
            ],
            [
             0.5555555555555556,
             "#d8576b"
            ],
            [
             0.6666666666666666,
             "#ed7953"
            ],
            [
             0.7777777777777778,
             "#fb9f3a"
            ],
            [
             0.8888888888888888,
             "#fdca26"
            ],
            [
             1,
             "#f0f921"
            ]
           ]
          },
          "colorway": [
           "#636efa",
           "#EF553B",
           "#00cc96",
           "#ab63fa",
           "#FFA15A",
           "#19d3f3",
           "#FF6692",
           "#B6E880",
           "#FF97FF",
           "#FECB52"
          ],
          "font": {
           "color": "#2a3f5f"
          },
          "geo": {
           "bgcolor": "white",
           "lakecolor": "white",
           "landcolor": "#E5ECF6",
           "showlakes": true,
           "showland": true,
           "subunitcolor": "white"
          },
          "hoverlabel": {
           "align": "left"
          },
          "hovermode": "closest",
          "mapbox": {
           "style": "light"
          },
          "paper_bgcolor": "white",
          "plot_bgcolor": "#E5ECF6",
          "polar": {
           "angularaxis": {
            "gridcolor": "white",
            "linecolor": "white",
            "ticks": ""
           },
           "bgcolor": "#E5ECF6",
           "radialaxis": {
            "gridcolor": "white",
            "linecolor": "white",
            "ticks": ""
           }
          },
          "scene": {
           "xaxis": {
            "backgroundcolor": "#E5ECF6",
            "gridcolor": "white",
            "gridwidth": 2,
            "linecolor": "white",
            "showbackground": true,
            "ticks": "",
            "zerolinecolor": "white"
           },
           "yaxis": {
            "backgroundcolor": "#E5ECF6",
            "gridcolor": "white",
            "gridwidth": 2,
            "linecolor": "white",
            "showbackground": true,
            "ticks": "",
            "zerolinecolor": "white"
           },
           "zaxis": {
            "backgroundcolor": "#E5ECF6",
            "gridcolor": "white",
            "gridwidth": 2,
            "linecolor": "white",
            "showbackground": true,
            "ticks": "",
            "zerolinecolor": "white"
           }
          },
          "shapedefaults": {
           "line": {
            "color": "#2a3f5f"
           }
          },
          "ternary": {
           "aaxis": {
            "gridcolor": "white",
            "linecolor": "white",
            "ticks": ""
           },
           "baxis": {
            "gridcolor": "white",
            "linecolor": "white",
            "ticks": ""
           },
           "bgcolor": "#E5ECF6",
           "caxis": {
            "gridcolor": "white",
            "linecolor": "white",
            "ticks": ""
           }
          },
          "title": {
           "x": 0.05
          },
          "xaxis": {
           "automargin": true,
           "gridcolor": "white",
           "linecolor": "white",
           "ticks": "",
           "title": {
            "standoff": 15
           },
           "zerolinecolor": "white",
           "zerolinewidth": 2
          },
          "yaxis": {
           "automargin": true,
           "gridcolor": "white",
           "linecolor": "white",
           "ticks": "",
           "title": {
            "standoff": 15
           },
           "zerolinecolor": "white",
           "zerolinewidth": 2
          }
         }
        },
        "xaxis": {
         "anchor": "y",
         "domain": [
          0,
          0.2888888888888889
         ],
         "title": {
          "text": "$\\textrm{True }K^{trans}$"
         }
        },
        "xaxis2": {
         "anchor": "y2",
         "domain": [
          0.35555555555555557,
          0.6444444444444445
         ],
         "title": {
          "text": "$\\textrm{True }V_{e, RR}$"
         }
        },
        "xaxis3": {
         "anchor": "y3",
         "domain": [
          0.7111111111111111,
          1
         ],
         "title": {
          "text": "$\\textrm{True }K^{trans}_{RR}$"
         }
        },
        "yaxis": {
         "anchor": "x",
         "domain": [
          0,
          1
         ],
         "range": [
          -100,
          100
         ],
         "showline": true,
         "tickvals": [
          -100,
          -80,
          -60,
          -40,
          -20,
          0,
          20,
          40,
          60,
          80,
          100
         ],
         "title": {
          "text": "$Percent Error$"
         }
        },
        "yaxis2": {
         "anchor": "x2",
         "domain": [
          0,
          1
         ],
         "range": [
          -100,
          100
         ],
         "tickvals": [
          -100,
          -80,
          -60,
          -40,
          -20,
          0,
          20,
          40,
          60,
          80,
          100
         ]
        },
        "yaxis3": {
         "anchor": "x3",
         "domain": [
          0,
          1
         ],
         "range": [
          -100,
          100
         ],
         "tickvals": [
          -100,
          -80,
          -60,
          -40,
          -20,
          0,
          20,
          40,
          60,
          80,
          100
         ]
        }
       }
      },
      "text/html": [
       "<div>                            <div id=\"72683da4-4933-45d8-946b-8fbf42bed885\" class=\"plotly-graph-div\" style=\"height:525px; width:100%;\"></div>            <script type=\"text/javascript\">                require([\"plotly\"], function(Plotly) {                    window.PLOTLYENV=window.PLOTLYENV || {};                                    if (document.getElementById(\"72683da4-4933-45d8-946b-8fbf42bed885\")) {                    Plotly.newPlot(                        \"72683da4-4933-45d8-946b-8fbf42bed885\",                        [{\"error_y\": {\"array\": [11.981119768301875, 12.096722239762885, 11.940417048651613, 11.963828285884363, 11.908600135208985, 11.99363184572362, 11.94731190570475, 11.831028583097392, 11.925029351497763], \"arrayminus\": [13.721580874202438, 13.73549847169443, 13.786656317496195, 13.69338392754863, 13.744114672374565, 13.80861541600174, 13.758399195851073, 13.775047227317001, 13.745318701871593], \"symmetric\": false, \"thickness\": 4, \"type\": \"data\", \"visible\": true}, \"legendgroup\": \"0\", \"line\": {\"color\": \"#bfbfbf\", \"width\": 4}, \"name\": \"ETM\", \"showlegend\": false, \"type\": \"scatter\", \"x\": [0.03, 0.04, 0.05, 0.06, 0.07, 0.08, 0.09, 0.1, 0.11], \"xaxis\": \"x\", \"y\": [-6.721117658921614, -6.71949294276256, -6.514695908493156, -6.8031789572649615, -6.626353367571107, -6.575399981328633, -6.618161405017087, -6.565881788373668, -6.594794527888692], \"yaxis\": \"y\"}, {\"error_y\": {\"array\": [8.613586145251853, 8.764710731025172, 8.518483975298137, 8.092170071593507, 7.957106226355151, 7.3126487644341385, 7.141299193891579, 6.920480763456166, 6.834090868471009], \"arrayminus\": [7.82631536260196, 7.871074898922423, 7.906657481593855, 8.018563059316797, 7.8502109797730455, 7.406780629139465, 7.1884177847737, 6.992198145905043, 6.619854709723045], \"symmetric\": false, \"thickness\": 4, \"type\": \"data\", \"visible\": true}, \"legendgroup\": \"1\", \"line\": {\"color\": \"#292447\", \"width\": 4}, \"name\": \"RRIFT\", \"showlegend\": false, \"type\": \"scatter\", \"x\": [0.03, 0.04, 0.05, 0.06, 0.07, 0.08, 0.09, 0.1, 0.11], \"xaxis\": \"x\", \"y\": [1.5929091744812083, 1.5681987401863144, -0.09547352369986459, -2.3914426313172212, -3.929356912711899, -5.415275769833707, -5.975685326848348, -6.250374856006047, -6.340379847348723], \"yaxis\": \"y\"}, {\"error_y\": {\"array\": [18.211731922616252, 13.626582724613755, 10.508204329071908, 8.379607030376587, 7.081359218809256, 6.114098807407956, 5.495951695103919, 5.019304282204278, 4.644299130689859], \"arrayminus\": [16.618508527763126, 12.288414307621338, 9.788145852979241, 8.259939836663168, 7.159776972017083, 6.2119650741719425, 5.583309668689417, 5.038796245847848, 4.523602027720337], \"symmetric\": false, \"thickness\": 4, \"type\": \"data\", \"visible\": true}, \"legendgroup\": \"2\", \"line\": {\"color\": \"#e45947\", \"width\": 4}, \"name\": \"RRM w/ fixed RR params\", \"showlegend\": false, \"type\": \"scatter\", \"x\": [0.03, 0.04, 0.05, 0.06, 0.07, 0.08, 0.09, 0.1, 0.11], \"xaxis\": \"x\", \"y\": [134.53304591857932, 75.57699914699727, 40.25518840383216, 16.87557490915713, 0.49046335152854126, -11.208537468455418, -20.30708024467919, -27.498707574275265, -33.40768931750603], \"yaxis\": \"y\"}, {\"error_y\": {\"array\": [3.528566823403481, 3.5506965293013355, 3.5784440247183293, 3.539800344472335, 3.531739157556765, 3.547005254540163, 3.578561974975544, 3.5314729136988054, 3.523255671736372], \"arrayminus\": [3.7257421186432467, 3.6988547192734265, 3.7758864967717596, 3.7338942103061536, 3.7239295688446994, 3.7389204734142867, 3.7577000507339586, 3.7515887880229437, 3.7798662011171196], \"symmetric\": false, \"thickness\": 4, \"type\": \"data\", \"visible\": true}, \"legendgroup\": \"0\", \"line\": {\"color\": \"#bfbfbf\", \"width\": 4}, \"name\": \"ETM\", \"showlegend\": false, \"type\": \"scatter\", \"x\": [0.1, 0.11, 0.12000000000000001, 0.13, 0.14, 0.15, 0.16, 0.16999999999999998, 0.18], \"xaxis\": \"x2\", \"y\": [-2.6403763346778115, -2.6274313764235666, -2.637897802808663, -2.638334964315377, -2.635773587064982, -2.6416528301538227, -2.6296319141014313, -2.6569231494605274, -2.609330638084412], \"yaxis\": \"y2\"}, {\"error_y\": {\"array\": [3.5551295700629426, 3.5191268018080395, 3.5076988702479577, 3.4766073483937157, 3.4926066390968904, 3.558303555207036, 3.4897967225446416, 3.5574938600339947, 3.516139480878666], \"arrayminus\": [3.086178079053859, 3.1622510760522395, 3.1528057389390662, 3.2290730376714296, 3.2604439829262657, 3.237446898131241, 3.27928325409764, 3.270632117264125, 3.3001494037932195], \"symmetric\": false, \"thickness\": 4, \"type\": \"data\", \"visible\": true}, \"legendgroup\": \"1\", \"line\": {\"color\": \"#292447\", \"width\": 4}, \"name\": \"RRIFT\", \"showlegend\": false, \"type\": \"scatter\", \"x\": [0.1, 0.11, 0.12000000000000001, 0.13, 0.14, 0.15, 0.16, 0.16999999999999998, 0.18], \"xaxis\": \"x2\", \"y\": [-0.16391400691430558, -0.20878108990194008, -0.24327964230002608, -0.23983159960615327, -0.12176085639591701, -0.12487061301989269, -0.09834841220541184, -0.005798928429931208, -0.009351058907740715], \"yaxis\": \"y2\"}, {\"error_y\": {\"array\": [5.078053852673804, 4.553216103885411, 4.159741271430519, 3.804956068500534, 3.485272298347085, 3.2807938238938075, 3.0186851780572415, 2.8704640254856706, 2.687267428105951], \"arrayminus\": [4.281429628183574, 3.953807576629501, 3.5825848314625617, 3.4045262063567883, 3.1845170890163645, 2.938791417315832, 2.7936209035226547, 2.6155583804850444, 2.4794925557528558], \"symmetric\": false, \"thickness\": 4, \"type\": \"data\", \"visible\": true}, \"legendgroup\": \"2\", \"line\": {\"color\": \"#e45947\", \"width\": 4}, \"name\": \"RRM w/ fixed RR params\", \"showlegend\": false, \"type\": \"scatter\", \"x\": [0.1, 0.11, 0.12000000000000001, 0.13, 0.14, 0.15, 0.16, 0.16999999999999998, 0.18], \"xaxis\": \"x2\", \"y\": [42.185992121512896, 28.85800686805606, 17.875859837263416, 8.43953544209172, 0.5744672344139141, -6.236314328427495, -12.268475309917706, -17.48816886308808, -22.153089160436707], \"yaxis\": \"y2\"}, {\"error_y\": {\"array\": [94.69640946727122, 92.38003430452139, 95.14262290151123, 94.45589393872746, 94.90917048359347, 94.27967152129406, 95.27058349099943, 95.06653572402305, 93.69328049521597], \"arrayminus\": [25.39409867936571, 25.4944921687857, 25.417557331691977, 25.691801173560336, 25.416825782451475, 25.544911671238644, 25.79010814289779, 25.645663180675246, 25.483897016090147], \"symmetric\": false, \"thickness\": 4, \"type\": \"data\", \"visible\": true}, \"legendgroup\": \"0\", \"line\": {\"color\": \"#bfbfbf\", \"width\": 4}, \"name\": \"ETM\", \"showlegend\": true, \"type\": \"scatter\", \"x\": [0.03, 0.04, 0.05, 0.06, 0.07, 0.08, 0.09, 0.1, 0.11], \"xaxis\": \"x3\", \"y\": [10.352461098664921, 9.726631992117124, 10.434134545928917, 10.532845095300313, 10.367809601251956, 10.184722815676304, 10.213093294183942, 10.740775546934326, 9.869858521350013], \"yaxis\": \"y3\"}, {\"error_y\": {\"array\": [48.23916597207022, 47.7161291278122, 46.84241041023326, 46.154336409078866, 45.01925238050413, 44.81441003109606, 44.45586899817182, 45.0093185551385, 45.030839696471745], \"arrayminus\": [46.63358288808542, 46.616057812388135, 45.581526806853475, 44.26111409301223, 43.561604549619034, 41.5437612698682, 40.673380144838944, 39.820538922506245, 38.9853247515606], \"symmetric\": false, \"thickness\": 4, \"type\": \"data\", \"visible\": true}, \"legendgroup\": \"1\", \"line\": {\"color\": \"#292447\", \"width\": 4}, \"name\": \"RRIFT\", \"showlegend\": true, \"type\": \"scatter\", \"x\": [0.03, 0.04, 0.05, 0.06, 0.07, 0.08, 0.09, 0.1, 0.11], \"xaxis\": \"x3\", \"y\": [-1.2551056637806202, -0.41709569031729565, -1.8977757214449498, -2.7942164387960533, -4.69990270902397, -10.167573940969348, -13.638297533452569, -17.354108046694506, -20.391811186064686], \"yaxis\": \"y3\"}, {\"error_y\": {\"array\": [111.27722035590665, 82.48821242924348, 65.5054826062916, 54.72944462054392, 46.56347899029469, 41.71312710989627, 37.47463574976304, 34.56601234532601, 31.87692690533025], \"arrayminus\": [107.83367093203739, 80.491992037722, 64.18312559263421, 53.19359983176706, 45.45444035217881, 38.969005134615315, 34.36285720699729, 30.687308516763096, 27.593924679849472], \"symmetric\": false, \"thickness\": 4, \"type\": \"data\", \"visible\": true}, \"legendgroup\": \"2\", \"line\": {\"color\": \"#e45947\", \"width\": 4}, \"name\": \"RRM w/ fixed RR params\", \"showlegend\": true, \"type\": \"scatter\", \"x\": [0.03, 0.04, 0.05, 0.06, 0.07, 0.08, 0.09, 0.1, 0.11], \"xaxis\": \"x3\", \"y\": [128.04145395912133, 72.13143317559022, 37.78266160814451, 16.682914577764087, -0.2066176532181871, -15.543615594208092, -26.767350607651853, -36.018333883752746, -43.39066263799338], \"yaxis\": \"y3\"}],                        {\"annotations\": [{\"font\": {\"size\": 16}, \"showarrow\": false, \"text\": \"$K^{trans}$\", \"x\": 0.14444444444444446, \"xanchor\": \"center\", \"xref\": \"paper\", \"y\": 1.0, \"yanchor\": \"bottom\", \"yref\": \"paper\"}, {\"font\": {\"size\": 16}, \"showarrow\": false, \"text\": \"$V_{e}$\", \"x\": 0.5, \"xanchor\": \"center\", \"xref\": \"paper\", \"y\": 1.0, \"yanchor\": \"bottom\", \"yref\": \"paper\"}, {\"font\": {\"size\": 16}, \"showarrow\": false, \"text\": \"$V_{p}$\", \"x\": 0.8555555555555556, \"xanchor\": \"center\", \"xref\": \"paper\", \"y\": 1.0, \"yanchor\": \"bottom\", \"yref\": \"paper\"}], \"plot_bgcolor\": \"#ffffff\", \"template\": {\"data\": {\"bar\": [{\"error_x\": {\"color\": \"#2a3f5f\"}, \"error_y\": {\"color\": \"#2a3f5f\"}, \"marker\": {\"line\": {\"color\": \"#E5ECF6\", \"width\": 0.5}}, \"type\": \"bar\"}], \"barpolar\": [{\"marker\": {\"line\": {\"color\": \"#E5ECF6\", \"width\": 0.5}}, \"type\": \"barpolar\"}], \"carpet\": [{\"aaxis\": {\"endlinecolor\": \"#2a3f5f\", \"gridcolor\": \"white\", \"linecolor\": \"white\", \"minorgridcolor\": \"white\", \"startlinecolor\": \"#2a3f5f\"}, \"baxis\": {\"endlinecolor\": \"#2a3f5f\", \"gridcolor\": \"white\", \"linecolor\": \"white\", \"minorgridcolor\": \"white\", \"startlinecolor\": \"#2a3f5f\"}, \"type\": \"carpet\"}], \"choropleth\": [{\"colorbar\": {\"outlinewidth\": 0, \"ticks\": \"\"}, \"type\": \"choropleth\"}], \"contour\": [{\"colorbar\": {\"outlinewidth\": 0, \"ticks\": \"\"}, \"colorscale\": [[0.0, \"#0d0887\"], [0.1111111111111111, \"#46039f\"], [0.2222222222222222, \"#7201a8\"], [0.3333333333333333, \"#9c179e\"], [0.4444444444444444, \"#bd3786\"], [0.5555555555555556, \"#d8576b\"], [0.6666666666666666, \"#ed7953\"], [0.7777777777777778, \"#fb9f3a\"], [0.8888888888888888, \"#fdca26\"], [1.0, \"#f0f921\"]], \"type\": \"contour\"}], \"contourcarpet\": [{\"colorbar\": {\"outlinewidth\": 0, \"ticks\": \"\"}, \"type\": \"contourcarpet\"}], \"heatmap\": [{\"colorbar\": {\"outlinewidth\": 0, \"ticks\": \"\"}, \"colorscale\": [[0.0, \"#0d0887\"], [0.1111111111111111, \"#46039f\"], [0.2222222222222222, \"#7201a8\"], [0.3333333333333333, \"#9c179e\"], [0.4444444444444444, \"#bd3786\"], [0.5555555555555556, \"#d8576b\"], [0.6666666666666666, \"#ed7953\"], [0.7777777777777778, \"#fb9f3a\"], [0.8888888888888888, \"#fdca26\"], [1.0, \"#f0f921\"]], \"type\": \"heatmap\"}], \"heatmapgl\": [{\"colorbar\": {\"outlinewidth\": 0, \"ticks\": \"\"}, \"colorscale\": [[0.0, \"#0d0887\"], [0.1111111111111111, \"#46039f\"], [0.2222222222222222, \"#7201a8\"], [0.3333333333333333, \"#9c179e\"], [0.4444444444444444, \"#bd3786\"], [0.5555555555555556, \"#d8576b\"], [0.6666666666666666, \"#ed7953\"], [0.7777777777777778, \"#fb9f3a\"], [0.8888888888888888, \"#fdca26\"], [1.0, \"#f0f921\"]], \"type\": \"heatmapgl\"}], \"histogram\": [{\"marker\": {\"colorbar\": {\"outlinewidth\": 0, \"ticks\": \"\"}}, \"type\": \"histogram\"}], \"histogram2d\": [{\"colorbar\": {\"outlinewidth\": 0, \"ticks\": \"\"}, \"colorscale\": [[0.0, \"#0d0887\"], [0.1111111111111111, \"#46039f\"], [0.2222222222222222, \"#7201a8\"], [0.3333333333333333, \"#9c179e\"], [0.4444444444444444, \"#bd3786\"], [0.5555555555555556, \"#d8576b\"], [0.6666666666666666, \"#ed7953\"], [0.7777777777777778, \"#fb9f3a\"], [0.8888888888888888, \"#fdca26\"], [1.0, \"#f0f921\"]], \"type\": \"histogram2d\"}], \"histogram2dcontour\": [{\"colorbar\": {\"outlinewidth\": 0, \"ticks\": \"\"}, \"colorscale\": [[0.0, \"#0d0887\"], [0.1111111111111111, \"#46039f\"], [0.2222222222222222, \"#7201a8\"], [0.3333333333333333, \"#9c179e\"], [0.4444444444444444, \"#bd3786\"], [0.5555555555555556, \"#d8576b\"], [0.6666666666666666, \"#ed7953\"], [0.7777777777777778, \"#fb9f3a\"], [0.8888888888888888, \"#fdca26\"], [1.0, \"#f0f921\"]], \"type\": \"histogram2dcontour\"}], \"mesh3d\": [{\"colorbar\": {\"outlinewidth\": 0, \"ticks\": \"\"}, \"type\": \"mesh3d\"}], \"parcoords\": [{\"line\": {\"colorbar\": {\"outlinewidth\": 0, \"ticks\": \"\"}}, \"type\": \"parcoords\"}], \"pie\": [{\"automargin\": true, \"type\": \"pie\"}], \"scatter\": [{\"marker\": {\"colorbar\": {\"outlinewidth\": 0, \"ticks\": \"\"}}, \"type\": \"scatter\"}], \"scatter3d\": [{\"line\": {\"colorbar\": {\"outlinewidth\": 0, \"ticks\": \"\"}}, \"marker\": {\"colorbar\": {\"outlinewidth\": 0, \"ticks\": \"\"}}, \"type\": \"scatter3d\"}], \"scattercarpet\": [{\"marker\": {\"colorbar\": {\"outlinewidth\": 0, \"ticks\": \"\"}}, \"type\": \"scattercarpet\"}], \"scattergeo\": [{\"marker\": {\"colorbar\": {\"outlinewidth\": 0, \"ticks\": \"\"}}, \"type\": \"scattergeo\"}], \"scattergl\": [{\"marker\": {\"colorbar\": {\"outlinewidth\": 0, \"ticks\": \"\"}}, \"type\": \"scattergl\"}], \"scattermapbox\": [{\"marker\": {\"colorbar\": {\"outlinewidth\": 0, \"ticks\": \"\"}}, \"type\": \"scattermapbox\"}], \"scatterpolar\": [{\"marker\": {\"colorbar\": {\"outlinewidth\": 0, \"ticks\": \"\"}}, \"type\": \"scatterpolar\"}], \"scatterpolargl\": [{\"marker\": {\"colorbar\": {\"outlinewidth\": 0, \"ticks\": \"\"}}, \"type\": \"scatterpolargl\"}], \"scatterternary\": [{\"marker\": {\"colorbar\": {\"outlinewidth\": 0, \"ticks\": \"\"}}, \"type\": \"scatterternary\"}], \"surface\": [{\"colorbar\": {\"outlinewidth\": 0, \"ticks\": \"\"}, \"colorscale\": [[0.0, \"#0d0887\"], [0.1111111111111111, \"#46039f\"], [0.2222222222222222, \"#7201a8\"], [0.3333333333333333, \"#9c179e\"], [0.4444444444444444, \"#bd3786\"], [0.5555555555555556, \"#d8576b\"], [0.6666666666666666, \"#ed7953\"], [0.7777777777777778, \"#fb9f3a\"], [0.8888888888888888, \"#fdca26\"], [1.0, \"#f0f921\"]], \"type\": \"surface\"}], \"table\": [{\"cells\": {\"fill\": {\"color\": \"#EBF0F8\"}, \"line\": {\"color\": \"white\"}}, \"header\": {\"fill\": {\"color\": \"#C8D4E3\"}, \"line\": {\"color\": \"white\"}}, \"type\": \"table\"}]}, \"layout\": {\"annotationdefaults\": {\"arrowcolor\": \"#2a3f5f\", \"arrowhead\": 0, \"arrowwidth\": 1}, \"autotypenumbers\": \"strict\", \"coloraxis\": {\"colorbar\": {\"outlinewidth\": 0, \"ticks\": \"\"}}, \"colorscale\": {\"diverging\": [[0, \"#8e0152\"], [0.1, \"#c51b7d\"], [0.2, \"#de77ae\"], [0.3, \"#f1b6da\"], [0.4, \"#fde0ef\"], [0.5, \"#f7f7f7\"], [0.6, \"#e6f5d0\"], [0.7, \"#b8e186\"], [0.8, \"#7fbc41\"], [0.9, \"#4d9221\"], [1, \"#276419\"]], \"sequential\": [[0.0, \"#0d0887\"], [0.1111111111111111, \"#46039f\"], [0.2222222222222222, \"#7201a8\"], [0.3333333333333333, \"#9c179e\"], [0.4444444444444444, \"#bd3786\"], [0.5555555555555556, \"#d8576b\"], [0.6666666666666666, \"#ed7953\"], [0.7777777777777778, \"#fb9f3a\"], [0.8888888888888888, \"#fdca26\"], [1.0, \"#f0f921\"]], \"sequentialminus\": [[0.0, \"#0d0887\"], [0.1111111111111111, \"#46039f\"], [0.2222222222222222, \"#7201a8\"], [0.3333333333333333, \"#9c179e\"], [0.4444444444444444, \"#bd3786\"], [0.5555555555555556, \"#d8576b\"], [0.6666666666666666, \"#ed7953\"], [0.7777777777777778, \"#fb9f3a\"], [0.8888888888888888, \"#fdca26\"], [1.0, \"#f0f921\"]]}, \"colorway\": [\"#636efa\", \"#EF553B\", \"#00cc96\", \"#ab63fa\", \"#FFA15A\", \"#19d3f3\", \"#FF6692\", \"#B6E880\", \"#FF97FF\", \"#FECB52\"], \"font\": {\"color\": \"#2a3f5f\"}, \"geo\": {\"bgcolor\": \"white\", \"lakecolor\": \"white\", \"landcolor\": \"#E5ECF6\", \"showlakes\": true, \"showland\": true, \"subunitcolor\": \"white\"}, \"hoverlabel\": {\"align\": \"left\"}, \"hovermode\": \"closest\", \"mapbox\": {\"style\": \"light\"}, \"paper_bgcolor\": \"white\", \"plot_bgcolor\": \"#E5ECF6\", \"polar\": {\"angularaxis\": {\"gridcolor\": \"white\", \"linecolor\": \"white\", \"ticks\": \"\"}, \"bgcolor\": \"#E5ECF6\", \"radialaxis\": {\"gridcolor\": \"white\", \"linecolor\": \"white\", \"ticks\": \"\"}}, \"scene\": {\"xaxis\": {\"backgroundcolor\": \"#E5ECF6\", \"gridcolor\": \"white\", \"gridwidth\": 2, \"linecolor\": \"white\", \"showbackground\": true, \"ticks\": \"\", \"zerolinecolor\": \"white\"}, \"yaxis\": {\"backgroundcolor\": \"#E5ECF6\", \"gridcolor\": \"white\", \"gridwidth\": 2, \"linecolor\": \"white\", \"showbackground\": true, \"ticks\": \"\", \"zerolinecolor\": \"white\"}, \"zaxis\": {\"backgroundcolor\": \"#E5ECF6\", \"gridcolor\": \"white\", \"gridwidth\": 2, \"linecolor\": \"white\", \"showbackground\": true, \"ticks\": \"\", \"zerolinecolor\": \"white\"}}, \"shapedefaults\": {\"line\": {\"color\": \"#2a3f5f\"}}, \"ternary\": {\"aaxis\": {\"gridcolor\": \"white\", \"linecolor\": \"white\", \"ticks\": \"\"}, \"baxis\": {\"gridcolor\": \"white\", \"linecolor\": \"white\", \"ticks\": \"\"}, \"bgcolor\": \"#E5ECF6\", \"caxis\": {\"gridcolor\": \"white\", \"linecolor\": \"white\", \"ticks\": \"\"}}, \"title\": {\"x\": 0.05}, \"xaxis\": {\"automargin\": true, \"gridcolor\": \"white\", \"linecolor\": \"white\", \"ticks\": \"\", \"title\": {\"standoff\": 15}, \"zerolinecolor\": \"white\", \"zerolinewidth\": 2}, \"yaxis\": {\"automargin\": true, \"gridcolor\": \"white\", \"linecolor\": \"white\", \"ticks\": \"\", \"title\": {\"standoff\": 15}, \"zerolinecolor\": \"white\", \"zerolinewidth\": 2}}}, \"xaxis\": {\"anchor\": \"y\", \"domain\": [0.0, 0.2888888888888889], \"title\": {\"text\": \"$\\\\textrm{True }K^{trans}$\"}}, \"xaxis2\": {\"anchor\": \"y2\", \"domain\": [0.35555555555555557, 0.6444444444444445], \"title\": {\"text\": \"$\\\\textrm{True }V_{e, RR}$\"}}, \"xaxis3\": {\"anchor\": \"y3\", \"domain\": [0.7111111111111111, 1.0], \"title\": {\"text\": \"$\\\\textrm{True }K^{trans}_{RR}$\"}}, \"yaxis\": {\"anchor\": \"x\", \"domain\": [0.0, 1.0], \"range\": [-100, 100], \"showline\": true, \"tickvals\": [-100, -80, -60, -40, -20, 0, 20, 40, 60, 80, 100], \"title\": {\"text\": \"$Percent Error$\"}}, \"yaxis2\": {\"anchor\": \"x2\", \"domain\": [0.0, 1.0], \"range\": [-100, 100], \"tickvals\": [-100, -80, -60, -40, -20, 0, 20, 40, 60, 80, 100]}, \"yaxis3\": {\"anchor\": \"x3\", \"domain\": [0.0, 1.0], \"range\": [-100, 100], \"tickvals\": [-100, -80, -60, -40, -20, 0, 20, 40, 60, 80, 100]}},                        {\"responsive\": true}                    ).then(function(){\n",
       "                            \n",
       "var gd = document.getElementById('72683da4-4933-45d8-946b-8fbf42bed885');\n",
       "var x = new MutationObserver(function (mutations, observer) {{\n",
       "        var display = window.getComputedStyle(gd).display;\n",
       "        if (!display || display === 'none') {{\n",
       "            console.log([gd, 'removed!']);\n",
       "            Plotly.purge(gd);\n",
       "            observer.disconnect();\n",
       "        }}\n",
       "}});\n",
       "\n",
       "// Listen for the removal of the full notebook cells\n",
       "var notebookContainer = gd.closest('#notebook-container');\n",
       "if (notebookContainer) {{\n",
       "    x.observe(notebookContainer, {childList: true});\n",
       "}}\n",
       "\n",
       "// Listen for the clearing of the current output cell\n",
       "var outputEl = gd.closest('.output');\n",
       "if (outputEl) {{\n",
       "    x.observe(outputEl, {childList: true});\n",
       "}}\n",
       "\n",
       "                        })                };                });            </script>        </div>"
      ]
     },
     "metadata": {},
     "output_type": "display_data"
    }
   ],
   "source": [
    "file = loadmat('fig4vars.mat')\n",
    "\n",
    "trueKtRR = np.squeeze(np.asarray(np.reshape(file['trueKtRR'], 9)))\n",
    "trueVeRR = np.squeeze(np.asarray(np.reshape(file['trueVeRR'], 9)))\n",
    "\n",
    "Ktrans_ci1 = file['Ktrans_ci1']\n",
    "Ktrans_ci2 = file['Ktrans_ci2']\n",
    "Ktrans_ci3 = file['Ktrans_ci3']\n",
    "Ktrans_avg1 = np.squeeze(np.asarray(np.reshape(file['Ktrans_avg1'], 9)))\n",
    "Ktrans_avg2 = np.squeeze(np.asarray(np.reshape(file['Ktrans_avg2'], 9)))\n",
    "Ktrans_avg3 = np.squeeze(np.asarray(np.reshape(file['Ktrans_avg3'], 9)))\n",
    "\n",
    "Ve_ci1 = file['Ve_ci1']\n",
    "Ve_ci2 = file['Ve_ci2']\n",
    "Ve_ci3 = file['Ve_ci3']\n",
    "Ve_avg1 = np.squeeze(np.asarray(np.reshape(file['Ve_avg1'], 9)))\n",
    "Ve_avg2 = np.squeeze(np.asarray(np.reshape(file['Ve_avg2'], 9)))\n",
    "Ve_avg3 = np.squeeze(np.asarray(np.reshape(file['Ve_avg3'], 9)))\n",
    "\n",
    "Vp_ci1 = file['Vp_ci1']\n",
    "Vp_ci2 = file['Vp_ci2']\n",
    "Vp_ci3 = file['Vp_ci3']\n",
    "Vp_avg1 = np.squeeze(np.asarray(np.reshape(file['Vp_avg1'], 9)))\n",
    "Vp_avg2 = np.squeeze(np.asarray(np.reshape(file['Vp_avg2'], 9)))\n",
    "Vp_avg3 = np.squeeze(np.asarray(np.reshape(file['Vp_avg3'], 9)))\n",
    "\n",
    "\n",
    "# The subplot titles are different in the paper and in the code (check which ones to use)\n",
    "fig = make_subplots(rows=1, cols=3, \n",
    "                    subplot_titles=(r'$K^{trans}$', r'$V_{e}$', r'$V_{p}$'))\n",
    "\n",
    "legend_values=cycle(['ETM','RRIFT','RRM w/ fixed RR params'])\n",
    "line_colours = cycle(['#bfbfbf', '#292447', '#e45947'])\n",
    "\n",
    "\n",
    "# First subplot - Ktrans\n",
    "\n",
    "Ktrans_ci = [Ktrans_ci3, Ktrans_ci2, Ktrans_ci1]\n",
    "Ktrans_avg = [Ktrans_avg3, Ktrans_avg2, Ktrans_avg1]\n",
    "\n",
    "for i in range(0,3):\n",
    "    ci_values_negative = np.squeeze(np.asarray(np.reshape(Ktrans_ci[i][:,0], 9)))\n",
    "    ci_values_positive = np.squeeze(np.asarray(np.reshape(Ktrans_ci[i][:,1], 9)))\n",
    "    negative = Ktrans_avg[i]-ci_values_negative\n",
    "    positive = ci_values_positive-Ktrans_avg[i]\n",
    "    fig.append_trace(go.Scatter(\n",
    "        x=trueKtRR,\n",
    "        y=Ktrans_avg[i],\n",
    "        showlegend=False,\n",
    "        error_y=dict(\n",
    "            type='data', # value of error bar given in data coordinates\n",
    "            array=positive,\n",
    "            arrayminus=negative,\n",
    "            symmetric=False,\n",
    "            visible=True,\n",
    "            thickness=4),\n",
    "        name=next(legend_values),\n",
    "        legendgroup=i,\n",
    "        line_color=next(line_colours),\n",
    "        line_width=4\n",
    "    ),row=1, col=1)\n",
    "\n",
    "\n",
    "# Second subplot - Ve\n",
    "\n",
    "Ve_ci = [Ve_ci3, Ve_ci2, Ve_ci1]\n",
    "Ve_avg = [Ve_avg3, Ve_avg2, Ve_avg1]\n",
    "\n",
    "for i in range(0,3):\n",
    "    ci_values_negative = np.squeeze(np.asarray(np.reshape(Ve_ci[i][:,0], 9)))\n",
    "    ci_values_positive = np.squeeze(np.asarray(np.reshape(Ve_ci[i][:,1], 9)))\n",
    "    negative = Ve_avg[i]-ci_values_negative\n",
    "    positive = ci_values_positive-Ve_avg[i]\n",
    "    fig.append_trace(go.Scatter(\n",
    "        x=trueVeRR,\n",
    "        y=Ve_avg[i],\n",
    "        showlegend=False,\n",
    "        error_y=dict(\n",
    "            type='data', # value of error bar given in data coordinates\n",
    "            array=positive,\n",
    "            arrayminus=negative,\n",
    "            symmetric=False,\n",
    "            visible=True,\n",
    "            thickness=4),\n",
    "        name=next(legend_values),\n",
    "        legendgroup=i,\n",
    "        line_color=next(line_colours),\n",
    "        line_width=4\n",
    "    ),row=1, col=2)\n",
    "\n",
    "\n",
    "# Third subplot - Vp\n",
    "\n",
    "Vp_ci = [Vp_ci3, Vp_ci2, Vp_ci1]\n",
    "Vp_avg = [Vp_avg3, Vp_avg2, Vp_avg1]\n",
    "\n",
    "for i in range(0,3):\n",
    "    ci_values_negative = np.squeeze(np.asarray(np.reshape(Vp_ci[i][:,0], 9)))\n",
    "    ci_values_positive = np.squeeze(np.asarray(np.reshape(Vp_ci[i][:,1], 9)))\n",
    "    negative = Vp_avg[i]-ci_values_negative\n",
    "    positive = ci_values_positive-Vp_avg[i]\n",
    "    fig.append_trace(go.Scatter(\n",
    "        x=trueKtRR,\n",
    "        y=Vp_avg[i],\n",
    "        showlegend=True,\n",
    "        error_y=dict(\n",
    "            type='data', # value of error bar given in data coordinates\n",
    "            array=positive,\n",
    "            arrayminus=negative,\n",
    "            symmetric=False,\n",
    "            visible=True,\n",
    "            thickness=4),\n",
    "        name=next(legend_values),\n",
    "        legendgroup=i,\n",
    "        line_color=next(line_colours),\n",
    "        line_width=4\n",
    "    ),row=1, col=3)\n",
    "    \n",
    "    \n",
    "fig.update_xaxes(title_text=r'$\\textrm{True }K^{trans}$', row=1, col=1)\n",
    "fig.update_xaxes(title_text=r'$\\textrm{True }V_{e, RR}$', row=1, col=2)\n",
    "fig.update_xaxes(title_text=r'$\\textrm{True }K^{trans}_{RR}$', row=1, col=3)\n",
    "\n",
    "fig.update_yaxes(range=[-100,100], tickvals=[-100, -80, -60, -40, -20, 0, 20, 40, 60, 80, 100], row=1, col=1)\n",
    "fig.update_yaxes(range=[-100,100], tickvals=[-100, -80, -60, -40, -20, 0, 20, 40, 60, 80, 100], row=1, col=2)\n",
    "fig.update_yaxes(range=[-100,100], tickvals=[-100, -80, -60, -40, -20, 0, 20, 40, 60, 80, 100], row=1, col=3)\n",
    "\n",
    "    \n",
    "fig.update_layout(yaxis=dict(title=r'$Percent Error$',showline=True), \n",
    "                  plot_bgcolor='#ffffff'\n",
    "                  #legend=dict(yanchor='bottom', y=0.20, xanchor='right', x=0.30) -- change legend position\n",
    ")\n",
    "\n",
    "    \n",
    "fig.show()"
   ]
  },
  {
   "cell_type": "markdown",
   "metadata": {
    "kernel": "SoS"
   },
   "source": [
    "## Figure 4 - first subfigure"
   ]
  },
  {
   "cell_type": "code",
   "execution_count": 88,
   "metadata": {
    "kernel": "SoS"
   },
   "outputs": [
    {
     "data": {
      "application/vnd.plotly.v1+json": {
       "config": {
        "plotlyServerURL": "https://plot.ly"
       },
       "data": [
        {
         "error_y": {
          "array": [
           11.981119768301875,
           12.096722239762885,
           11.940417048651613,
           11.963828285884363,
           11.908600135208985,
           11.99363184572362,
           11.94731190570475,
           11.831028583097392,
           11.925029351497763
          ],
          "arrayminus": [
           13.721580874202438,
           13.73549847169443,
           13.786656317496195,
           13.69338392754863,
           13.744114672374565,
           13.80861541600174,
           13.758399195851073,
           13.775047227317001,
           13.745318701871593
          ],
          "symmetric": false,
          "thickness": 4,
          "type": "data",
          "visible": true
         },
         "line": {
          "color": "#bfbfbf",
          "width": 4
         },
         "name": "ETM",
         "showlegend": false,
         "type": "scatter",
         "visible": true,
         "x": [
          0.03,
          0.04,
          0.05,
          0.06,
          0.07,
          0.08,
          0.09,
          0.1,
          0.11
         ],
         "y": [
          -6.721117658921614,
          -6.71949294276256,
          -6.514695908493156,
          -6.8031789572649615,
          -6.626353367571107,
          -6.575399981328633,
          -6.618161405017087,
          -6.565881788373668,
          -6.594794527888692
         ]
        },
        {
         "error_y": {
          "array": [
           8.613586145251853,
           8.764710731025172,
           8.518483975298137,
           8.092170071593507,
           7.957106226355151,
           7.3126487644341385,
           7.141299193891579,
           6.920480763456166,
           6.834090868471009
          ],
          "arrayminus": [
           7.82631536260196,
           7.871074898922423,
           7.906657481593855,
           8.018563059316797,
           7.8502109797730455,
           7.406780629139465,
           7.1884177847737,
           6.992198145905043,
           6.619854709723045
          ],
          "symmetric": false,
          "thickness": 4,
          "type": "data",
          "visible": true
         },
         "line": {
          "color": "#292447",
          "width": 4
         },
         "name": "RRIFT",
         "showlegend": false,
         "type": "scatter",
         "visible": false,
         "x": [
          0.03,
          0.04,
          0.05,
          0.06,
          0.07,
          0.08,
          0.09,
          0.1,
          0.11
         ],
         "y": [
          1.5929091744812083,
          1.5681987401863144,
          -0.09547352369986459,
          -2.3914426313172212,
          -3.929356912711899,
          -5.415275769833707,
          -5.975685326848348,
          -6.250374856006047,
          -6.340379847348723
         ]
        },
        {
         "error_y": {
          "array": [
           18.211731922616252,
           13.626582724613755,
           10.508204329071908,
           8.379607030376587,
           7.081359218809256,
           6.114098807407956,
           5.495951695103919,
           5.019304282204278,
           4.644299130689859
          ],
          "arrayminus": [
           16.618508527763126,
           12.288414307621338,
           9.788145852979241,
           8.259939836663168,
           7.159776972017083,
           6.2119650741719425,
           5.583309668689417,
           5.038796245847848,
           4.523602027720337
          ],
          "symmetric": false,
          "thickness": 4,
          "type": "data",
          "visible": true
         },
         "line": {
          "color": "#e45947",
          "width": 4
         },
         "name": "RRM w/ fixed RR params",
         "showlegend": false,
         "type": "scatter",
         "visible": false,
         "x": [
          0.03,
          0.04,
          0.05,
          0.06,
          0.07,
          0.08,
          0.09,
          0.1,
          0.11
         ],
         "y": [
          134.53304591857932,
          75.57699914699727,
          40.25518840383216,
          16.87557490915713,
          0.49046335152854126,
          -11.208537468455418,
          -20.30708024467919,
          -27.498707574275265,
          -33.40768931750603
         ]
        }
       ],
       "layout": {
        "legend": {
         "x": 0.3,
         "xanchor": "right",
         "y": 0.2,
         "yanchor": "bottom"
        },
        "plot_bgcolor": "#ffffff",
        "sliders": [
         {
          "active": 4,
          "currentvalue": {
           "prefix": "Value: "
          },
          "pad": {
           "t": 70
          },
          "steps": [
           {
            "args": [
             {
              "visible": [
               true,
               false,
               false
              ]
             }
            ],
            "label": "RRIFT",
            "method": "update",
            "value": "ETM"
           },
           {
            "args": [
             {
              "visible": [
               false,
               true,
               false
              ]
             }
            ],
            "label": "ETM",
            "method": "update",
            "value": "RRM w/ fixed RR params"
           },
           {
            "args": [
             {
              "visible": [
               false,
               false,
               true
              ]
             }
            ],
            "label": "RRM w/ fixed RR params",
            "method": "update",
            "value": "RRIFT"
           }
          ]
         }
        ],
        "template": {
         "data": {
          "bar": [
           {
            "error_x": {
             "color": "#2a3f5f"
            },
            "error_y": {
             "color": "#2a3f5f"
            },
            "marker": {
             "line": {
              "color": "#E5ECF6",
              "width": 0.5
             }
            },
            "type": "bar"
           }
          ],
          "barpolar": [
           {
            "marker": {
             "line": {
              "color": "#E5ECF6",
              "width": 0.5
             }
            },
            "type": "barpolar"
           }
          ],
          "carpet": [
           {
            "aaxis": {
             "endlinecolor": "#2a3f5f",
             "gridcolor": "white",
             "linecolor": "white",
             "minorgridcolor": "white",
             "startlinecolor": "#2a3f5f"
            },
            "baxis": {
             "endlinecolor": "#2a3f5f",
             "gridcolor": "white",
             "linecolor": "white",
             "minorgridcolor": "white",
             "startlinecolor": "#2a3f5f"
            },
            "type": "carpet"
           }
          ],
          "choropleth": [
           {
            "colorbar": {
             "outlinewidth": 0,
             "ticks": ""
            },
            "type": "choropleth"
           }
          ],
          "contour": [
           {
            "colorbar": {
             "outlinewidth": 0,
             "ticks": ""
            },
            "colorscale": [
             [
              0,
              "#0d0887"
             ],
             [
              0.1111111111111111,
              "#46039f"
             ],
             [
              0.2222222222222222,
              "#7201a8"
             ],
             [
              0.3333333333333333,
              "#9c179e"
             ],
             [
              0.4444444444444444,
              "#bd3786"
             ],
             [
              0.5555555555555556,
              "#d8576b"
             ],
             [
              0.6666666666666666,
              "#ed7953"
             ],
             [
              0.7777777777777778,
              "#fb9f3a"
             ],
             [
              0.8888888888888888,
              "#fdca26"
             ],
             [
              1,
              "#f0f921"
             ]
            ],
            "type": "contour"
           }
          ],
          "contourcarpet": [
           {
            "colorbar": {
             "outlinewidth": 0,
             "ticks": ""
            },
            "type": "contourcarpet"
           }
          ],
          "heatmap": [
           {
            "colorbar": {
             "outlinewidth": 0,
             "ticks": ""
            },
            "colorscale": [
             [
              0,
              "#0d0887"
             ],
             [
              0.1111111111111111,
              "#46039f"
             ],
             [
              0.2222222222222222,
              "#7201a8"
             ],
             [
              0.3333333333333333,
              "#9c179e"
             ],
             [
              0.4444444444444444,
              "#bd3786"
             ],
             [
              0.5555555555555556,
              "#d8576b"
             ],
             [
              0.6666666666666666,
              "#ed7953"
             ],
             [
              0.7777777777777778,
              "#fb9f3a"
             ],
             [
              0.8888888888888888,
              "#fdca26"
             ],
             [
              1,
              "#f0f921"
             ]
            ],
            "type": "heatmap"
           }
          ],
          "heatmapgl": [
           {
            "colorbar": {
             "outlinewidth": 0,
             "ticks": ""
            },
            "colorscale": [
             [
              0,
              "#0d0887"
             ],
             [
              0.1111111111111111,
              "#46039f"
             ],
             [
              0.2222222222222222,
              "#7201a8"
             ],
             [
              0.3333333333333333,
              "#9c179e"
             ],
             [
              0.4444444444444444,
              "#bd3786"
             ],
             [
              0.5555555555555556,
              "#d8576b"
             ],
             [
              0.6666666666666666,
              "#ed7953"
             ],
             [
              0.7777777777777778,
              "#fb9f3a"
             ],
             [
              0.8888888888888888,
              "#fdca26"
             ],
             [
              1,
              "#f0f921"
             ]
            ],
            "type": "heatmapgl"
           }
          ],
          "histogram": [
           {
            "marker": {
             "colorbar": {
              "outlinewidth": 0,
              "ticks": ""
             }
            },
            "type": "histogram"
           }
          ],
          "histogram2d": [
           {
            "colorbar": {
             "outlinewidth": 0,
             "ticks": ""
            },
            "colorscale": [
             [
              0,
              "#0d0887"
             ],
             [
              0.1111111111111111,
              "#46039f"
             ],
             [
              0.2222222222222222,
              "#7201a8"
             ],
             [
              0.3333333333333333,
              "#9c179e"
             ],
             [
              0.4444444444444444,
              "#bd3786"
             ],
             [
              0.5555555555555556,
              "#d8576b"
             ],
             [
              0.6666666666666666,
              "#ed7953"
             ],
             [
              0.7777777777777778,
              "#fb9f3a"
             ],
             [
              0.8888888888888888,
              "#fdca26"
             ],
             [
              1,
              "#f0f921"
             ]
            ],
            "type": "histogram2d"
           }
          ],
          "histogram2dcontour": [
           {
            "colorbar": {
             "outlinewidth": 0,
             "ticks": ""
            },
            "colorscale": [
             [
              0,
              "#0d0887"
             ],
             [
              0.1111111111111111,
              "#46039f"
             ],
             [
              0.2222222222222222,
              "#7201a8"
             ],
             [
              0.3333333333333333,
              "#9c179e"
             ],
             [
              0.4444444444444444,
              "#bd3786"
             ],
             [
              0.5555555555555556,
              "#d8576b"
             ],
             [
              0.6666666666666666,
              "#ed7953"
             ],
             [
              0.7777777777777778,
              "#fb9f3a"
             ],
             [
              0.8888888888888888,
              "#fdca26"
             ],
             [
              1,
              "#f0f921"
             ]
            ],
            "type": "histogram2dcontour"
           }
          ],
          "mesh3d": [
           {
            "colorbar": {
             "outlinewidth": 0,
             "ticks": ""
            },
            "type": "mesh3d"
           }
          ],
          "parcoords": [
           {
            "line": {
             "colorbar": {
              "outlinewidth": 0,
              "ticks": ""
             }
            },
            "type": "parcoords"
           }
          ],
          "pie": [
           {
            "automargin": true,
            "type": "pie"
           }
          ],
          "scatter": [
           {
            "marker": {
             "colorbar": {
              "outlinewidth": 0,
              "ticks": ""
             }
            },
            "type": "scatter"
           }
          ],
          "scatter3d": [
           {
            "line": {
             "colorbar": {
              "outlinewidth": 0,
              "ticks": ""
             }
            },
            "marker": {
             "colorbar": {
              "outlinewidth": 0,
              "ticks": ""
             }
            },
            "type": "scatter3d"
           }
          ],
          "scattercarpet": [
           {
            "marker": {
             "colorbar": {
              "outlinewidth": 0,
              "ticks": ""
             }
            },
            "type": "scattercarpet"
           }
          ],
          "scattergeo": [
           {
            "marker": {
             "colorbar": {
              "outlinewidth": 0,
              "ticks": ""
             }
            },
            "type": "scattergeo"
           }
          ],
          "scattergl": [
           {
            "marker": {
             "colorbar": {
              "outlinewidth": 0,
              "ticks": ""
             }
            },
            "type": "scattergl"
           }
          ],
          "scattermapbox": [
           {
            "marker": {
             "colorbar": {
              "outlinewidth": 0,
              "ticks": ""
             }
            },
            "type": "scattermapbox"
           }
          ],
          "scatterpolar": [
           {
            "marker": {
             "colorbar": {
              "outlinewidth": 0,
              "ticks": ""
             }
            },
            "type": "scatterpolar"
           }
          ],
          "scatterpolargl": [
           {
            "marker": {
             "colorbar": {
              "outlinewidth": 0,
              "ticks": ""
             }
            },
            "type": "scatterpolargl"
           }
          ],
          "scatterternary": [
           {
            "marker": {
             "colorbar": {
              "outlinewidth": 0,
              "ticks": ""
             }
            },
            "type": "scatterternary"
           }
          ],
          "surface": [
           {
            "colorbar": {
             "outlinewidth": 0,
             "ticks": ""
            },
            "colorscale": [
             [
              0,
              "#0d0887"
             ],
             [
              0.1111111111111111,
              "#46039f"
             ],
             [
              0.2222222222222222,
              "#7201a8"
             ],
             [
              0.3333333333333333,
              "#9c179e"
             ],
             [
              0.4444444444444444,
              "#bd3786"
             ],
             [
              0.5555555555555556,
              "#d8576b"
             ],
             [
              0.6666666666666666,
              "#ed7953"
             ],
             [
              0.7777777777777778,
              "#fb9f3a"
             ],
             [
              0.8888888888888888,
              "#fdca26"
             ],
             [
              1,
              "#f0f921"
             ]
            ],
            "type": "surface"
           }
          ],
          "table": [
           {
            "cells": {
             "fill": {
              "color": "#EBF0F8"
             },
             "line": {
              "color": "white"
             }
            },
            "header": {
             "fill": {
              "color": "#C8D4E3"
             },
             "line": {
              "color": "white"
             }
            },
            "type": "table"
           }
          ]
         },
         "layout": {
          "annotationdefaults": {
           "arrowcolor": "#2a3f5f",
           "arrowhead": 0,
           "arrowwidth": 1
          },
          "autotypenumbers": "strict",
          "coloraxis": {
           "colorbar": {
            "outlinewidth": 0,
            "ticks": ""
           }
          },
          "colorscale": {
           "diverging": [
            [
             0,
             "#8e0152"
            ],
            [
             0.1,
             "#c51b7d"
            ],
            [
             0.2,
             "#de77ae"
            ],
            [
             0.3,
             "#f1b6da"
            ],
            [
             0.4,
             "#fde0ef"
            ],
            [
             0.5,
             "#f7f7f7"
            ],
            [
             0.6,
             "#e6f5d0"
            ],
            [
             0.7,
             "#b8e186"
            ],
            [
             0.8,
             "#7fbc41"
            ],
            [
             0.9,
             "#4d9221"
            ],
            [
             1,
             "#276419"
            ]
           ],
           "sequential": [
            [
             0,
             "#0d0887"
            ],
            [
             0.1111111111111111,
             "#46039f"
            ],
            [
             0.2222222222222222,
             "#7201a8"
            ],
            [
             0.3333333333333333,
             "#9c179e"
            ],
            [
             0.4444444444444444,
             "#bd3786"
            ],
            [
             0.5555555555555556,
             "#d8576b"
            ],
            [
             0.6666666666666666,
             "#ed7953"
            ],
            [
             0.7777777777777778,
             "#fb9f3a"
            ],
            [
             0.8888888888888888,
             "#fdca26"
            ],
            [
             1,
             "#f0f921"
            ]
           ],
           "sequentialminus": [
            [
             0,
             "#0d0887"
            ],
            [
             0.1111111111111111,
             "#46039f"
            ],
            [
             0.2222222222222222,
             "#7201a8"
            ],
            [
             0.3333333333333333,
             "#9c179e"
            ],
            [
             0.4444444444444444,
             "#bd3786"
            ],
            [
             0.5555555555555556,
             "#d8576b"
            ],
            [
             0.6666666666666666,
             "#ed7953"
            ],
            [
             0.7777777777777778,
             "#fb9f3a"
            ],
            [
             0.8888888888888888,
             "#fdca26"
            ],
            [
             1,
             "#f0f921"
            ]
           ]
          },
          "colorway": [
           "#636efa",
           "#EF553B",
           "#00cc96",
           "#ab63fa",
           "#FFA15A",
           "#19d3f3",
           "#FF6692",
           "#B6E880",
           "#FF97FF",
           "#FECB52"
          ],
          "font": {
           "color": "#2a3f5f"
          },
          "geo": {
           "bgcolor": "white",
           "lakecolor": "white",
           "landcolor": "#E5ECF6",
           "showlakes": true,
           "showland": true,
           "subunitcolor": "white"
          },
          "hoverlabel": {
           "align": "left"
          },
          "hovermode": "closest",
          "mapbox": {
           "style": "light"
          },
          "paper_bgcolor": "white",
          "plot_bgcolor": "#E5ECF6",
          "polar": {
           "angularaxis": {
            "gridcolor": "white",
            "linecolor": "white",
            "ticks": ""
           },
           "bgcolor": "#E5ECF6",
           "radialaxis": {
            "gridcolor": "white",
            "linecolor": "white",
            "ticks": ""
           }
          },
          "scene": {
           "xaxis": {
            "backgroundcolor": "#E5ECF6",
            "gridcolor": "white",
            "gridwidth": 2,
            "linecolor": "white",
            "showbackground": true,
            "ticks": "",
            "zerolinecolor": "white"
           },
           "yaxis": {
            "backgroundcolor": "#E5ECF6",
            "gridcolor": "white",
            "gridwidth": 2,
            "linecolor": "white",
            "showbackground": true,
            "ticks": "",
            "zerolinecolor": "white"
           },
           "zaxis": {
            "backgroundcolor": "#E5ECF6",
            "gridcolor": "white",
            "gridwidth": 2,
            "linecolor": "white",
            "showbackground": true,
            "ticks": "",
            "zerolinecolor": "white"
           }
          },
          "shapedefaults": {
           "line": {
            "color": "#2a3f5f"
           }
          },
          "ternary": {
           "aaxis": {
            "gridcolor": "white",
            "linecolor": "white",
            "ticks": ""
           },
           "baxis": {
            "gridcolor": "white",
            "linecolor": "white",
            "ticks": ""
           },
           "bgcolor": "#E5ECF6",
           "caxis": {
            "gridcolor": "white",
            "linecolor": "white",
            "ticks": ""
           }
          },
          "title": {
           "x": 0.05
          },
          "xaxis": {
           "automargin": true,
           "gridcolor": "white",
           "linecolor": "white",
           "ticks": "",
           "title": {
            "standoff": 15
           },
           "zerolinecolor": "white",
           "zerolinewidth": 2
          },
          "yaxis": {
           "automargin": true,
           "gridcolor": "white",
           "linecolor": "white",
           "ticks": "",
           "title": {
            "standoff": 15
           },
           "zerolinecolor": "white",
           "zerolinewidth": 2
          }
         }
        },
        "title": {
         "text": "$K^{trans}$",
         "x": 0.5,
         "xanchor": "center"
        },
        "xaxis": {
         "title": {
          "text": "$\\textrm{True }K^{trans}$"
         }
        },
        "yaxis": {
         "range": [
          -40,
          160
         ],
         "showline": true,
         "tickvals": [
          -40,
          -20,
          0,
          20,
          40,
          60,
          80,
          100,
          120,
          140,
          160
         ],
         "title": {
          "text": "$Percent Error$"
         }
        }
       }
      },
      "text/html": [
       "<div>                            <div id=\"6637f526-f3f6-4c1d-b04d-175d6037f9c5\" class=\"plotly-graph-div\" style=\"height:525px; width:100%;\"></div>            <script type=\"text/javascript\">                require([\"plotly\"], function(Plotly) {                    window.PLOTLYENV=window.PLOTLYENV || {};                                    if (document.getElementById(\"6637f526-f3f6-4c1d-b04d-175d6037f9c5\")) {                    Plotly.newPlot(                        \"6637f526-f3f6-4c1d-b04d-175d6037f9c5\",                        [{\"error_y\": {\"array\": [11.981119768301875, 12.096722239762885, 11.940417048651613, 11.963828285884363, 11.908600135208985, 11.99363184572362, 11.94731190570475, 11.831028583097392, 11.925029351497763], \"arrayminus\": [13.721580874202438, 13.73549847169443, 13.786656317496195, 13.69338392754863, 13.744114672374565, 13.80861541600174, 13.758399195851073, 13.775047227317001, 13.745318701871593], \"symmetric\": false, \"thickness\": 4, \"type\": \"data\", \"visible\": true}, \"line\": {\"color\": \"#bfbfbf\", \"width\": 4}, \"name\": \"ETM\", \"showlegend\": false, \"type\": \"scatter\", \"visible\": true, \"x\": [0.03, 0.04, 0.05, 0.06, 0.07, 0.08, 0.09, 0.1, 0.11], \"y\": [-6.721117658921614, -6.71949294276256, -6.514695908493156, -6.8031789572649615, -6.626353367571107, -6.575399981328633, -6.618161405017087, -6.565881788373668, -6.594794527888692]}, {\"error_y\": {\"array\": [8.613586145251853, 8.764710731025172, 8.518483975298137, 8.092170071593507, 7.957106226355151, 7.3126487644341385, 7.141299193891579, 6.920480763456166, 6.834090868471009], \"arrayminus\": [7.82631536260196, 7.871074898922423, 7.906657481593855, 8.018563059316797, 7.8502109797730455, 7.406780629139465, 7.1884177847737, 6.992198145905043, 6.619854709723045], \"symmetric\": false, \"thickness\": 4, \"type\": \"data\", \"visible\": true}, \"line\": {\"color\": \"#292447\", \"width\": 4}, \"name\": \"RRIFT\", \"showlegend\": false, \"type\": \"scatter\", \"visible\": false, \"x\": [0.03, 0.04, 0.05, 0.06, 0.07, 0.08, 0.09, 0.1, 0.11], \"y\": [1.5929091744812083, 1.5681987401863144, -0.09547352369986459, -2.3914426313172212, -3.929356912711899, -5.415275769833707, -5.975685326848348, -6.250374856006047, -6.340379847348723]}, {\"error_y\": {\"array\": [18.211731922616252, 13.626582724613755, 10.508204329071908, 8.379607030376587, 7.081359218809256, 6.114098807407956, 5.495951695103919, 5.019304282204278, 4.644299130689859], \"arrayminus\": [16.618508527763126, 12.288414307621338, 9.788145852979241, 8.259939836663168, 7.159776972017083, 6.2119650741719425, 5.583309668689417, 5.038796245847848, 4.523602027720337], \"symmetric\": false, \"thickness\": 4, \"type\": \"data\", \"visible\": true}, \"line\": {\"color\": \"#e45947\", \"width\": 4}, \"name\": \"RRM w/ fixed RR params\", \"showlegend\": false, \"type\": \"scatter\", \"visible\": false, \"x\": [0.03, 0.04, 0.05, 0.06, 0.07, 0.08, 0.09, 0.1, 0.11], \"y\": [134.53304591857932, 75.57699914699727, 40.25518840383216, 16.87557490915713, 0.49046335152854126, -11.208537468455418, -20.30708024467919, -27.498707574275265, -33.40768931750603]}],                        {\"legend\": {\"x\": 0.3, \"xanchor\": \"right\", \"y\": 0.2, \"yanchor\": \"bottom\"}, \"plot_bgcolor\": \"#ffffff\", \"sliders\": [{\"active\": 4, \"currentvalue\": {\"prefix\": \"Value: \"}, \"pad\": {\"t\": 70}, \"steps\": [{\"args\": [{\"visible\": [true, false, false]}], \"label\": \"RRIFT\", \"method\": \"update\", \"value\": \"ETM\"}, {\"args\": [{\"visible\": [false, true, false]}], \"label\": \"ETM\", \"method\": \"update\", \"value\": \"RRM w/ fixed RR params\"}, {\"args\": [{\"visible\": [false, false, true]}], \"label\": \"RRM w/ fixed RR params\", \"method\": \"update\", \"value\": \"RRIFT\"}]}], \"template\": {\"data\": {\"bar\": [{\"error_x\": {\"color\": \"#2a3f5f\"}, \"error_y\": {\"color\": \"#2a3f5f\"}, \"marker\": {\"line\": {\"color\": \"#E5ECF6\", \"width\": 0.5}}, \"type\": \"bar\"}], \"barpolar\": [{\"marker\": {\"line\": {\"color\": \"#E5ECF6\", \"width\": 0.5}}, \"type\": \"barpolar\"}], \"carpet\": [{\"aaxis\": {\"endlinecolor\": \"#2a3f5f\", \"gridcolor\": \"white\", \"linecolor\": \"white\", \"minorgridcolor\": \"white\", \"startlinecolor\": \"#2a3f5f\"}, \"baxis\": {\"endlinecolor\": \"#2a3f5f\", \"gridcolor\": \"white\", \"linecolor\": \"white\", \"minorgridcolor\": \"white\", \"startlinecolor\": \"#2a3f5f\"}, \"type\": \"carpet\"}], \"choropleth\": [{\"colorbar\": {\"outlinewidth\": 0, \"ticks\": \"\"}, \"type\": \"choropleth\"}], \"contour\": [{\"colorbar\": {\"outlinewidth\": 0, \"ticks\": \"\"}, \"colorscale\": [[0.0, \"#0d0887\"], [0.1111111111111111, \"#46039f\"], [0.2222222222222222, \"#7201a8\"], [0.3333333333333333, \"#9c179e\"], [0.4444444444444444, \"#bd3786\"], [0.5555555555555556, \"#d8576b\"], [0.6666666666666666, \"#ed7953\"], [0.7777777777777778, \"#fb9f3a\"], [0.8888888888888888, \"#fdca26\"], [1.0, \"#f0f921\"]], \"type\": \"contour\"}], \"contourcarpet\": [{\"colorbar\": {\"outlinewidth\": 0, \"ticks\": \"\"}, \"type\": \"contourcarpet\"}], \"heatmap\": [{\"colorbar\": {\"outlinewidth\": 0, \"ticks\": \"\"}, \"colorscale\": [[0.0, \"#0d0887\"], [0.1111111111111111, \"#46039f\"], [0.2222222222222222, \"#7201a8\"], [0.3333333333333333, \"#9c179e\"], [0.4444444444444444, \"#bd3786\"], [0.5555555555555556, \"#d8576b\"], [0.6666666666666666, \"#ed7953\"], [0.7777777777777778, \"#fb9f3a\"], [0.8888888888888888, \"#fdca26\"], [1.0, \"#f0f921\"]], \"type\": \"heatmap\"}], \"heatmapgl\": [{\"colorbar\": {\"outlinewidth\": 0, \"ticks\": \"\"}, \"colorscale\": [[0.0, \"#0d0887\"], [0.1111111111111111, \"#46039f\"], [0.2222222222222222, \"#7201a8\"], [0.3333333333333333, \"#9c179e\"], [0.4444444444444444, \"#bd3786\"], [0.5555555555555556, \"#d8576b\"], [0.6666666666666666, \"#ed7953\"], [0.7777777777777778, \"#fb9f3a\"], [0.8888888888888888, \"#fdca26\"], [1.0, \"#f0f921\"]], \"type\": \"heatmapgl\"}], \"histogram\": [{\"marker\": {\"colorbar\": {\"outlinewidth\": 0, \"ticks\": \"\"}}, \"type\": \"histogram\"}], \"histogram2d\": [{\"colorbar\": {\"outlinewidth\": 0, \"ticks\": \"\"}, \"colorscale\": [[0.0, \"#0d0887\"], [0.1111111111111111, \"#46039f\"], [0.2222222222222222, \"#7201a8\"], [0.3333333333333333, \"#9c179e\"], [0.4444444444444444, \"#bd3786\"], [0.5555555555555556, \"#d8576b\"], [0.6666666666666666, \"#ed7953\"], [0.7777777777777778, \"#fb9f3a\"], [0.8888888888888888, \"#fdca26\"], [1.0, \"#f0f921\"]], \"type\": \"histogram2d\"}], \"histogram2dcontour\": [{\"colorbar\": {\"outlinewidth\": 0, \"ticks\": \"\"}, \"colorscale\": [[0.0, \"#0d0887\"], [0.1111111111111111, \"#46039f\"], [0.2222222222222222, \"#7201a8\"], [0.3333333333333333, \"#9c179e\"], [0.4444444444444444, \"#bd3786\"], [0.5555555555555556, \"#d8576b\"], [0.6666666666666666, \"#ed7953\"], [0.7777777777777778, \"#fb9f3a\"], [0.8888888888888888, \"#fdca26\"], [1.0, \"#f0f921\"]], \"type\": \"histogram2dcontour\"}], \"mesh3d\": [{\"colorbar\": {\"outlinewidth\": 0, \"ticks\": \"\"}, \"type\": \"mesh3d\"}], \"parcoords\": [{\"line\": {\"colorbar\": {\"outlinewidth\": 0, \"ticks\": \"\"}}, \"type\": \"parcoords\"}], \"pie\": [{\"automargin\": true, \"type\": \"pie\"}], \"scatter\": [{\"marker\": {\"colorbar\": {\"outlinewidth\": 0, \"ticks\": \"\"}}, \"type\": \"scatter\"}], \"scatter3d\": [{\"line\": {\"colorbar\": {\"outlinewidth\": 0, \"ticks\": \"\"}}, \"marker\": {\"colorbar\": {\"outlinewidth\": 0, \"ticks\": \"\"}}, \"type\": \"scatter3d\"}], \"scattercarpet\": [{\"marker\": {\"colorbar\": {\"outlinewidth\": 0, \"ticks\": \"\"}}, \"type\": \"scattercarpet\"}], \"scattergeo\": [{\"marker\": {\"colorbar\": {\"outlinewidth\": 0, \"ticks\": \"\"}}, \"type\": \"scattergeo\"}], \"scattergl\": [{\"marker\": {\"colorbar\": {\"outlinewidth\": 0, \"ticks\": \"\"}}, \"type\": \"scattergl\"}], \"scattermapbox\": [{\"marker\": {\"colorbar\": {\"outlinewidth\": 0, \"ticks\": \"\"}}, \"type\": \"scattermapbox\"}], \"scatterpolar\": [{\"marker\": {\"colorbar\": {\"outlinewidth\": 0, \"ticks\": \"\"}}, \"type\": \"scatterpolar\"}], \"scatterpolargl\": [{\"marker\": {\"colorbar\": {\"outlinewidth\": 0, \"ticks\": \"\"}}, \"type\": \"scatterpolargl\"}], \"scatterternary\": [{\"marker\": {\"colorbar\": {\"outlinewidth\": 0, \"ticks\": \"\"}}, \"type\": \"scatterternary\"}], \"surface\": [{\"colorbar\": {\"outlinewidth\": 0, \"ticks\": \"\"}, \"colorscale\": [[0.0, \"#0d0887\"], [0.1111111111111111, \"#46039f\"], [0.2222222222222222, \"#7201a8\"], [0.3333333333333333, \"#9c179e\"], [0.4444444444444444, \"#bd3786\"], [0.5555555555555556, \"#d8576b\"], [0.6666666666666666, \"#ed7953\"], [0.7777777777777778, \"#fb9f3a\"], [0.8888888888888888, \"#fdca26\"], [1.0, \"#f0f921\"]], \"type\": \"surface\"}], \"table\": [{\"cells\": {\"fill\": {\"color\": \"#EBF0F8\"}, \"line\": {\"color\": \"white\"}}, \"header\": {\"fill\": {\"color\": \"#C8D4E3\"}, \"line\": {\"color\": \"white\"}}, \"type\": \"table\"}]}, \"layout\": {\"annotationdefaults\": {\"arrowcolor\": \"#2a3f5f\", \"arrowhead\": 0, \"arrowwidth\": 1}, \"autotypenumbers\": \"strict\", \"coloraxis\": {\"colorbar\": {\"outlinewidth\": 0, \"ticks\": \"\"}}, \"colorscale\": {\"diverging\": [[0, \"#8e0152\"], [0.1, \"#c51b7d\"], [0.2, \"#de77ae\"], [0.3, \"#f1b6da\"], [0.4, \"#fde0ef\"], [0.5, \"#f7f7f7\"], [0.6, \"#e6f5d0\"], [0.7, \"#b8e186\"], [0.8, \"#7fbc41\"], [0.9, \"#4d9221\"], [1, \"#276419\"]], \"sequential\": [[0.0, \"#0d0887\"], [0.1111111111111111, \"#46039f\"], [0.2222222222222222, \"#7201a8\"], [0.3333333333333333, \"#9c179e\"], [0.4444444444444444, \"#bd3786\"], [0.5555555555555556, \"#d8576b\"], [0.6666666666666666, \"#ed7953\"], [0.7777777777777778, \"#fb9f3a\"], [0.8888888888888888, \"#fdca26\"], [1.0, \"#f0f921\"]], \"sequentialminus\": [[0.0, \"#0d0887\"], [0.1111111111111111, \"#46039f\"], [0.2222222222222222, \"#7201a8\"], [0.3333333333333333, \"#9c179e\"], [0.4444444444444444, \"#bd3786\"], [0.5555555555555556, \"#d8576b\"], [0.6666666666666666, \"#ed7953\"], [0.7777777777777778, \"#fb9f3a\"], [0.8888888888888888, \"#fdca26\"], [1.0, \"#f0f921\"]]}, \"colorway\": [\"#636efa\", \"#EF553B\", \"#00cc96\", \"#ab63fa\", \"#FFA15A\", \"#19d3f3\", \"#FF6692\", \"#B6E880\", \"#FF97FF\", \"#FECB52\"], \"font\": {\"color\": \"#2a3f5f\"}, \"geo\": {\"bgcolor\": \"white\", \"lakecolor\": \"white\", \"landcolor\": \"#E5ECF6\", \"showlakes\": true, \"showland\": true, \"subunitcolor\": \"white\"}, \"hoverlabel\": {\"align\": \"left\"}, \"hovermode\": \"closest\", \"mapbox\": {\"style\": \"light\"}, \"paper_bgcolor\": \"white\", \"plot_bgcolor\": \"#E5ECF6\", \"polar\": {\"angularaxis\": {\"gridcolor\": \"white\", \"linecolor\": \"white\", \"ticks\": \"\"}, \"bgcolor\": \"#E5ECF6\", \"radialaxis\": {\"gridcolor\": \"white\", \"linecolor\": \"white\", \"ticks\": \"\"}}, \"scene\": {\"xaxis\": {\"backgroundcolor\": \"#E5ECF6\", \"gridcolor\": \"white\", \"gridwidth\": 2, \"linecolor\": \"white\", \"showbackground\": true, \"ticks\": \"\", \"zerolinecolor\": \"white\"}, \"yaxis\": {\"backgroundcolor\": \"#E5ECF6\", \"gridcolor\": \"white\", \"gridwidth\": 2, \"linecolor\": \"white\", \"showbackground\": true, \"ticks\": \"\", \"zerolinecolor\": \"white\"}, \"zaxis\": {\"backgroundcolor\": \"#E5ECF6\", \"gridcolor\": \"white\", \"gridwidth\": 2, \"linecolor\": \"white\", \"showbackground\": true, \"ticks\": \"\", \"zerolinecolor\": \"white\"}}, \"shapedefaults\": {\"line\": {\"color\": \"#2a3f5f\"}}, \"ternary\": {\"aaxis\": {\"gridcolor\": \"white\", \"linecolor\": \"white\", \"ticks\": \"\"}, \"baxis\": {\"gridcolor\": \"white\", \"linecolor\": \"white\", \"ticks\": \"\"}, \"bgcolor\": \"#E5ECF6\", \"caxis\": {\"gridcolor\": \"white\", \"linecolor\": \"white\", \"ticks\": \"\"}}, \"title\": {\"x\": 0.05}, \"xaxis\": {\"automargin\": true, \"gridcolor\": \"white\", \"linecolor\": \"white\", \"ticks\": \"\", \"title\": {\"standoff\": 15}, \"zerolinecolor\": \"white\", \"zerolinewidth\": 2}, \"yaxis\": {\"automargin\": true, \"gridcolor\": \"white\", \"linecolor\": \"white\", \"ticks\": \"\", \"title\": {\"standoff\": 15}, \"zerolinecolor\": \"white\", \"zerolinewidth\": 2}}}, \"title\": {\"text\": \"$K^{trans}$\", \"x\": 0.5, \"xanchor\": \"center\"}, \"xaxis\": {\"title\": {\"text\": \"$\\\\textrm{True }K^{trans}$\"}}, \"yaxis\": {\"range\": [-40, 160], \"showline\": true, \"tickvals\": [-40, -20, 0, 20, 40, 60, 80, 100, 120, 140, 160], \"title\": {\"text\": \"$Percent Error$\"}}},                        {\"responsive\": true}                    ).then(function(){\n",
       "                            \n",
       "var gd = document.getElementById('6637f526-f3f6-4c1d-b04d-175d6037f9c5');\n",
       "var x = new MutationObserver(function (mutations, observer) {{\n",
       "        var display = window.getComputedStyle(gd).display;\n",
       "        if (!display || display === 'none') {{\n",
       "            console.log([gd, 'removed!']);\n",
       "            Plotly.purge(gd);\n",
       "            observer.disconnect();\n",
       "        }}\n",
       "}});\n",
       "\n",
       "// Listen for the removal of the full notebook cells\n",
       "var notebookContainer = gd.closest('#notebook-container');\n",
       "if (notebookContainer) {{\n",
       "    x.observe(notebookContainer, {childList: true});\n",
       "}}\n",
       "\n",
       "// Listen for the clearing of the current output cell\n",
       "var outputEl = gd.closest('.output');\n",
       "if (outputEl) {{\n",
       "    x.observe(outputEl, {childList: true});\n",
       "}}\n",
       "\n",
       "                        })                };                });            </script>        </div>"
      ]
     },
     "metadata": {},
     "output_type": "display_data"
    }
   ],
   "source": [
    "# THESE IMPORTS ARE PROBABLY NOT NEEDED BUT IT SEEMS TO NOT ALWAYS WORK FOR ME IF I LEAVE THEM OUT\n",
    "\n",
    "file = loadmat('fig4vars.mat')\n",
    "\n",
    "trueKtRR = np.squeeze(np.asarray(np.reshape(file['trueKtRR'], 9)))\n",
    "trueVeRR = np.squeeze(np.asarray(np.reshape(file['trueVeRR'], 9)))\n",
    "\n",
    "Ktrans_ci1 = file['Ktrans_ci1']\n",
    "Ktrans_ci2 = file['Ktrans_ci2']\n",
    "Ktrans_ci3 = file['Ktrans_ci3']\n",
    "Ktrans_avg1 = np.squeeze(np.asarray(np.reshape(file['Ktrans_avg1'], 9)))\n",
    "Ktrans_avg2 = np.squeeze(np.asarray(np.reshape(file['Ktrans_avg2'], 9)))\n",
    "Ktrans_avg3 = np.squeeze(np.asarray(np.reshape(file['Ktrans_avg3'], 9)))\n",
    "\n",
    "fig = go.Figure()\n",
    "\n",
    "legend_values=cycle(['ETM','RRIFT','RRM w/ fixed RR params'])\n",
    "line_colours = cycle(['#bfbfbf', '#292447', '#e45947'])\n",
    "\n",
    "Ktrans_ci = [Ktrans_ci3, Ktrans_ci2, Ktrans_ci1]\n",
    "Ktrans_avg = [Ktrans_avg3, Ktrans_avg2, Ktrans_avg1]\n",
    "\n",
    "\n",
    "for i in range(0,3):\n",
    "    ci_values_negative = np.squeeze(np.asarray(np.reshape(Ktrans_ci[i][:,0], 9)))\n",
    "    ci_values_positive = np.squeeze(np.asarray(np.reshape(Ktrans_ci[i][:,1], 9)))\n",
    "    negative = Ktrans_avg[i]-ci_values_negative\n",
    "    positive = ci_values_positive-Ktrans_avg[i]\n",
    "    fig.add_trace(go.Scatter(\n",
    "        x=trueKtRR,\n",
    "        y=Ktrans_avg[i],\n",
    "        visible=False,\n",
    "        showlegend=False,\n",
    "        error_y=dict(\n",
    "            type='data', # value of error bar given in data coordinates\n",
    "            array=positive,\n",
    "            arrayminus=negative,\n",
    "            symmetric=False,\n",
    "            visible=True,\n",
    "            thickness=4),\n",
    "        name=next(legend_values),\n",
    "        line_color=next(line_colours),\n",
    "        line_width=4\n",
    "    ))    \n",
    "     \n",
    "        \n",
    "# Default value on the slider    \n",
    "        \n",
    "fig.data[0].visible = True\n",
    "\n",
    "\n",
    "# Create and add slider\n",
    "steps = []\n",
    "for i in range(len(fig.data)):\n",
    "    step = dict(\n",
    "        method=\"update\",\n",
    "        args=[{\"visible\": [False] * len(fig.data)}],\n",
    "        value=next(legend_values),\n",
    "        label=next(legend_values)\n",
    "    )\n",
    "    step[\"args\"][0][\"visible\"][i] = True  # Toggle i'th trace to \"visible\"\n",
    "    steps.append(step)\n",
    "\n",
    "sliders = [dict(\n",
    "    active=4,\n",
    "    currentvalue={\"prefix\": \"Value: \"},\n",
    "    pad={\"t\": 70}, #upper padding \n",
    "    steps=steps\n",
    ")]\n",
    "\n",
    "\n",
    "fig.update_xaxes(title_text=r'$\\textrm{True }K^{trans}$')\n",
    "fig.update_layout(title=dict(text=r'$K^{trans}$',\n",
    "                             x=0.5,\n",
    "                             xanchor='center'),\n",
    "                  yaxis=dict(title=r'$Percent Error$',\n",
    "                             showline=True,\n",
    "                             range=[-40,160],\n",
    "                             tickvals=[-40, -20, 0, 20, 40, 60, 80, 100, 120, 140, 160]\n",
    "                             ), \n",
    "                  plot_bgcolor='#ffffff',\n",
    "                  legend=dict(yanchor='bottom', y=0.20, xanchor='right', x=0.30),\n",
    "                  sliders=sliders\n",
    ")\n",
    "\n",
    "\n",
    "fig.show()"
   ]
  },
  {
   "cell_type": "markdown",
   "metadata": {
    "kernel": "SoS"
   },
   "source": [
    "## Figure 4 - second subfigure"
   ]
  },
  {
   "cell_type": "code",
   "execution_count": 87,
   "metadata": {
    "kernel": "SoS"
   },
   "outputs": [
    {
     "data": {
      "application/vnd.plotly.v1+json": {
       "config": {
        "plotlyServerURL": "https://plot.ly"
       },
       "data": [
        {
         "error_y": {
          "array": [
           3.528566823403481,
           3.5506965293013355,
           3.5784440247183293,
           3.539800344472335,
           3.531739157556765,
           3.547005254540163,
           3.578561974975544,
           3.5314729136988054,
           3.523255671736372
          ],
          "arrayminus": [
           3.7257421186432467,
           3.6988547192734265,
           3.7758864967717596,
           3.7338942103061536,
           3.7239295688446994,
           3.7389204734142867,
           3.7577000507339586,
           3.7515887880229437,
           3.7798662011171196
          ],
          "symmetric": false,
          "thickness": 4,
          "type": "data",
          "visible": true
         },
         "legendgroup": "0",
         "line": {
          "color": "#bfbfbf",
          "width": 4
         },
         "name": "ETM",
         "showlegend": false,
         "type": "scatter",
         "visible": true,
         "x": [
          0.1,
          0.11,
          0.12000000000000001,
          0.13,
          0.14,
          0.15,
          0.16,
          0.16999999999999998,
          0.18
         ],
         "y": [
          -2.6403763346778115,
          -2.6274313764235666,
          -2.637897802808663,
          -2.638334964315377,
          -2.635773587064982,
          -2.6416528301538227,
          -2.6296319141014313,
          -2.6569231494605274,
          -2.609330638084412
         ]
        },
        {
         "error_y": {
          "array": [
           3.5551295700629426,
           3.5191268018080395,
           3.5076988702479577,
           3.4766073483937157,
           3.4926066390968904,
           3.558303555207036,
           3.4897967225446416,
           3.5574938600339947,
           3.516139480878666
          ],
          "arrayminus": [
           3.086178079053859,
           3.1622510760522395,
           3.1528057389390662,
           3.2290730376714296,
           3.2604439829262657,
           3.237446898131241,
           3.27928325409764,
           3.270632117264125,
           3.3001494037932195
          ],
          "symmetric": false,
          "thickness": 4,
          "type": "data",
          "visible": true
         },
         "legendgroup": "1",
         "line": {
          "color": "#292447",
          "width": 4
         },
         "name": "RRIFT",
         "showlegend": false,
         "type": "scatter",
         "visible": false,
         "x": [
          0.1,
          0.11,
          0.12000000000000001,
          0.13,
          0.14,
          0.15,
          0.16,
          0.16999999999999998,
          0.18
         ],
         "y": [
          -0.16391400691430558,
          -0.20878108990194008,
          -0.24327964230002608,
          -0.23983159960615327,
          -0.12176085639591701,
          -0.12487061301989269,
          -0.09834841220541184,
          -0.005798928429931208,
          -0.009351058907740715
         ]
        },
        {
         "error_y": {
          "array": [
           5.078053852673804,
           4.553216103885411,
           4.159741271430519,
           3.804956068500534,
           3.485272298347085,
           3.2807938238938075,
           3.0186851780572415,
           2.8704640254856706,
           2.687267428105951
          ],
          "arrayminus": [
           4.281429628183574,
           3.953807576629501,
           3.5825848314625617,
           3.4045262063567883,
           3.1845170890163645,
           2.938791417315832,
           2.7936209035226547,
           2.6155583804850444,
           2.4794925557528558
          ],
          "symmetric": false,
          "thickness": 4,
          "type": "data",
          "visible": true
         },
         "legendgroup": "2",
         "line": {
          "color": "#e45947",
          "width": 4
         },
         "name": "RRM w/ fixed RR params",
         "showlegend": false,
         "type": "scatter",
         "visible": false,
         "x": [
          0.1,
          0.11,
          0.12000000000000001,
          0.13,
          0.14,
          0.15,
          0.16,
          0.16999999999999998,
          0.18
         ],
         "y": [
          42.185992121512896,
          28.85800686805606,
          17.875859837263416,
          8.43953544209172,
          0.5744672344139141,
          -6.236314328427495,
          -12.268475309917706,
          -17.48816886308808,
          -22.153089160436707
         ]
        }
       ],
       "layout": {
        "legend": {
         "x": 0.3,
         "xanchor": "right",
         "y": 0.2,
         "yanchor": "bottom"
        },
        "plot_bgcolor": "#ffffff",
        "sliders": [
         {
          "active": 3,
          "currentvalue": {
           "prefix": "Value: "
          },
          "pad": {
           "t": 70
          },
          "steps": [
           {
            "args": [
             {
              "visible": [
               true,
               false,
               false
              ]
             }
            ],
            "label": "RRIFT",
            "method": "update",
            "value": "ETM"
           },
           {
            "args": [
             {
              "visible": [
               false,
               true,
               false
              ]
             }
            ],
            "label": "ETM",
            "method": "update",
            "value": "RRM w/ fixed RR params"
           },
           {
            "args": [
             {
              "visible": [
               false,
               false,
               true
              ]
             }
            ],
            "label": "RRM w/ fixed RR params",
            "method": "update",
            "value": "RRIFT"
           }
          ]
         }
        ],
        "template": {
         "data": {
          "bar": [
           {
            "error_x": {
             "color": "#2a3f5f"
            },
            "error_y": {
             "color": "#2a3f5f"
            },
            "marker": {
             "line": {
              "color": "#E5ECF6",
              "width": 0.5
             }
            },
            "type": "bar"
           }
          ],
          "barpolar": [
           {
            "marker": {
             "line": {
              "color": "#E5ECF6",
              "width": 0.5
             }
            },
            "type": "barpolar"
           }
          ],
          "carpet": [
           {
            "aaxis": {
             "endlinecolor": "#2a3f5f",
             "gridcolor": "white",
             "linecolor": "white",
             "minorgridcolor": "white",
             "startlinecolor": "#2a3f5f"
            },
            "baxis": {
             "endlinecolor": "#2a3f5f",
             "gridcolor": "white",
             "linecolor": "white",
             "minorgridcolor": "white",
             "startlinecolor": "#2a3f5f"
            },
            "type": "carpet"
           }
          ],
          "choropleth": [
           {
            "colorbar": {
             "outlinewidth": 0,
             "ticks": ""
            },
            "type": "choropleth"
           }
          ],
          "contour": [
           {
            "colorbar": {
             "outlinewidth": 0,
             "ticks": ""
            },
            "colorscale": [
             [
              0,
              "#0d0887"
             ],
             [
              0.1111111111111111,
              "#46039f"
             ],
             [
              0.2222222222222222,
              "#7201a8"
             ],
             [
              0.3333333333333333,
              "#9c179e"
             ],
             [
              0.4444444444444444,
              "#bd3786"
             ],
             [
              0.5555555555555556,
              "#d8576b"
             ],
             [
              0.6666666666666666,
              "#ed7953"
             ],
             [
              0.7777777777777778,
              "#fb9f3a"
             ],
             [
              0.8888888888888888,
              "#fdca26"
             ],
             [
              1,
              "#f0f921"
             ]
            ],
            "type": "contour"
           }
          ],
          "contourcarpet": [
           {
            "colorbar": {
             "outlinewidth": 0,
             "ticks": ""
            },
            "type": "contourcarpet"
           }
          ],
          "heatmap": [
           {
            "colorbar": {
             "outlinewidth": 0,
             "ticks": ""
            },
            "colorscale": [
             [
              0,
              "#0d0887"
             ],
             [
              0.1111111111111111,
              "#46039f"
             ],
             [
              0.2222222222222222,
              "#7201a8"
             ],
             [
              0.3333333333333333,
              "#9c179e"
             ],
             [
              0.4444444444444444,
              "#bd3786"
             ],
             [
              0.5555555555555556,
              "#d8576b"
             ],
             [
              0.6666666666666666,
              "#ed7953"
             ],
             [
              0.7777777777777778,
              "#fb9f3a"
             ],
             [
              0.8888888888888888,
              "#fdca26"
             ],
             [
              1,
              "#f0f921"
             ]
            ],
            "type": "heatmap"
           }
          ],
          "heatmapgl": [
           {
            "colorbar": {
             "outlinewidth": 0,
             "ticks": ""
            },
            "colorscale": [
             [
              0,
              "#0d0887"
             ],
             [
              0.1111111111111111,
              "#46039f"
             ],
             [
              0.2222222222222222,
              "#7201a8"
             ],
             [
              0.3333333333333333,
              "#9c179e"
             ],
             [
              0.4444444444444444,
              "#bd3786"
             ],
             [
              0.5555555555555556,
              "#d8576b"
             ],
             [
              0.6666666666666666,
              "#ed7953"
             ],
             [
              0.7777777777777778,
              "#fb9f3a"
             ],
             [
              0.8888888888888888,
              "#fdca26"
             ],
             [
              1,
              "#f0f921"
             ]
            ],
            "type": "heatmapgl"
           }
          ],
          "histogram": [
           {
            "marker": {
             "colorbar": {
              "outlinewidth": 0,
              "ticks": ""
             }
            },
            "type": "histogram"
           }
          ],
          "histogram2d": [
           {
            "colorbar": {
             "outlinewidth": 0,
             "ticks": ""
            },
            "colorscale": [
             [
              0,
              "#0d0887"
             ],
             [
              0.1111111111111111,
              "#46039f"
             ],
             [
              0.2222222222222222,
              "#7201a8"
             ],
             [
              0.3333333333333333,
              "#9c179e"
             ],
             [
              0.4444444444444444,
              "#bd3786"
             ],
             [
              0.5555555555555556,
              "#d8576b"
             ],
             [
              0.6666666666666666,
              "#ed7953"
             ],
             [
              0.7777777777777778,
              "#fb9f3a"
             ],
             [
              0.8888888888888888,
              "#fdca26"
             ],
             [
              1,
              "#f0f921"
             ]
            ],
            "type": "histogram2d"
           }
          ],
          "histogram2dcontour": [
           {
            "colorbar": {
             "outlinewidth": 0,
             "ticks": ""
            },
            "colorscale": [
             [
              0,
              "#0d0887"
             ],
             [
              0.1111111111111111,
              "#46039f"
             ],
             [
              0.2222222222222222,
              "#7201a8"
             ],
             [
              0.3333333333333333,
              "#9c179e"
             ],
             [
              0.4444444444444444,
              "#bd3786"
             ],
             [
              0.5555555555555556,
              "#d8576b"
             ],
             [
              0.6666666666666666,
              "#ed7953"
             ],
             [
              0.7777777777777778,
              "#fb9f3a"
             ],
             [
              0.8888888888888888,
              "#fdca26"
             ],
             [
              1,
              "#f0f921"
             ]
            ],
            "type": "histogram2dcontour"
           }
          ],
          "mesh3d": [
           {
            "colorbar": {
             "outlinewidth": 0,
             "ticks": ""
            },
            "type": "mesh3d"
           }
          ],
          "parcoords": [
           {
            "line": {
             "colorbar": {
              "outlinewidth": 0,
              "ticks": ""
             }
            },
            "type": "parcoords"
           }
          ],
          "pie": [
           {
            "automargin": true,
            "type": "pie"
           }
          ],
          "scatter": [
           {
            "marker": {
             "colorbar": {
              "outlinewidth": 0,
              "ticks": ""
             }
            },
            "type": "scatter"
           }
          ],
          "scatter3d": [
           {
            "line": {
             "colorbar": {
              "outlinewidth": 0,
              "ticks": ""
             }
            },
            "marker": {
             "colorbar": {
              "outlinewidth": 0,
              "ticks": ""
             }
            },
            "type": "scatter3d"
           }
          ],
          "scattercarpet": [
           {
            "marker": {
             "colorbar": {
              "outlinewidth": 0,
              "ticks": ""
             }
            },
            "type": "scattercarpet"
           }
          ],
          "scattergeo": [
           {
            "marker": {
             "colorbar": {
              "outlinewidth": 0,
              "ticks": ""
             }
            },
            "type": "scattergeo"
           }
          ],
          "scattergl": [
           {
            "marker": {
             "colorbar": {
              "outlinewidth": 0,
              "ticks": ""
             }
            },
            "type": "scattergl"
           }
          ],
          "scattermapbox": [
           {
            "marker": {
             "colorbar": {
              "outlinewidth": 0,
              "ticks": ""
             }
            },
            "type": "scattermapbox"
           }
          ],
          "scatterpolar": [
           {
            "marker": {
             "colorbar": {
              "outlinewidth": 0,
              "ticks": ""
             }
            },
            "type": "scatterpolar"
           }
          ],
          "scatterpolargl": [
           {
            "marker": {
             "colorbar": {
              "outlinewidth": 0,
              "ticks": ""
             }
            },
            "type": "scatterpolargl"
           }
          ],
          "scatterternary": [
           {
            "marker": {
             "colorbar": {
              "outlinewidth": 0,
              "ticks": ""
             }
            },
            "type": "scatterternary"
           }
          ],
          "surface": [
           {
            "colorbar": {
             "outlinewidth": 0,
             "ticks": ""
            },
            "colorscale": [
             [
              0,
              "#0d0887"
             ],
             [
              0.1111111111111111,
              "#46039f"
             ],
             [
              0.2222222222222222,
              "#7201a8"
             ],
             [
              0.3333333333333333,
              "#9c179e"
             ],
             [
              0.4444444444444444,
              "#bd3786"
             ],
             [
              0.5555555555555556,
              "#d8576b"
             ],
             [
              0.6666666666666666,
              "#ed7953"
             ],
             [
              0.7777777777777778,
              "#fb9f3a"
             ],
             [
              0.8888888888888888,
              "#fdca26"
             ],
             [
              1,
              "#f0f921"
             ]
            ],
            "type": "surface"
           }
          ],
          "table": [
           {
            "cells": {
             "fill": {
              "color": "#EBF0F8"
             },
             "line": {
              "color": "white"
             }
            },
            "header": {
             "fill": {
              "color": "#C8D4E3"
             },
             "line": {
              "color": "white"
             }
            },
            "type": "table"
           }
          ]
         },
         "layout": {
          "annotationdefaults": {
           "arrowcolor": "#2a3f5f",
           "arrowhead": 0,
           "arrowwidth": 1
          },
          "autotypenumbers": "strict",
          "coloraxis": {
           "colorbar": {
            "outlinewidth": 0,
            "ticks": ""
           }
          },
          "colorscale": {
           "diverging": [
            [
             0,
             "#8e0152"
            ],
            [
             0.1,
             "#c51b7d"
            ],
            [
             0.2,
             "#de77ae"
            ],
            [
             0.3,
             "#f1b6da"
            ],
            [
             0.4,
             "#fde0ef"
            ],
            [
             0.5,
             "#f7f7f7"
            ],
            [
             0.6,
             "#e6f5d0"
            ],
            [
             0.7,
             "#b8e186"
            ],
            [
             0.8,
             "#7fbc41"
            ],
            [
             0.9,
             "#4d9221"
            ],
            [
             1,
             "#276419"
            ]
           ],
           "sequential": [
            [
             0,
             "#0d0887"
            ],
            [
             0.1111111111111111,
             "#46039f"
            ],
            [
             0.2222222222222222,
             "#7201a8"
            ],
            [
             0.3333333333333333,
             "#9c179e"
            ],
            [
             0.4444444444444444,
             "#bd3786"
            ],
            [
             0.5555555555555556,
             "#d8576b"
            ],
            [
             0.6666666666666666,
             "#ed7953"
            ],
            [
             0.7777777777777778,
             "#fb9f3a"
            ],
            [
             0.8888888888888888,
             "#fdca26"
            ],
            [
             1,
             "#f0f921"
            ]
           ],
           "sequentialminus": [
            [
             0,
             "#0d0887"
            ],
            [
             0.1111111111111111,
             "#46039f"
            ],
            [
             0.2222222222222222,
             "#7201a8"
            ],
            [
             0.3333333333333333,
             "#9c179e"
            ],
            [
             0.4444444444444444,
             "#bd3786"
            ],
            [
             0.5555555555555556,
             "#d8576b"
            ],
            [
             0.6666666666666666,
             "#ed7953"
            ],
            [
             0.7777777777777778,
             "#fb9f3a"
            ],
            [
             0.8888888888888888,
             "#fdca26"
            ],
            [
             1,
             "#f0f921"
            ]
           ]
          },
          "colorway": [
           "#636efa",
           "#EF553B",
           "#00cc96",
           "#ab63fa",
           "#FFA15A",
           "#19d3f3",
           "#FF6692",
           "#B6E880",
           "#FF97FF",
           "#FECB52"
          ],
          "font": {
           "color": "#2a3f5f"
          },
          "geo": {
           "bgcolor": "white",
           "lakecolor": "white",
           "landcolor": "#E5ECF6",
           "showlakes": true,
           "showland": true,
           "subunitcolor": "white"
          },
          "hoverlabel": {
           "align": "left"
          },
          "hovermode": "closest",
          "mapbox": {
           "style": "light"
          },
          "paper_bgcolor": "white",
          "plot_bgcolor": "#E5ECF6",
          "polar": {
           "angularaxis": {
            "gridcolor": "white",
            "linecolor": "white",
            "ticks": ""
           },
           "bgcolor": "#E5ECF6",
           "radialaxis": {
            "gridcolor": "white",
            "linecolor": "white",
            "ticks": ""
           }
          },
          "scene": {
           "xaxis": {
            "backgroundcolor": "#E5ECF6",
            "gridcolor": "white",
            "gridwidth": 2,
            "linecolor": "white",
            "showbackground": true,
            "ticks": "",
            "zerolinecolor": "white"
           },
           "yaxis": {
            "backgroundcolor": "#E5ECF6",
            "gridcolor": "white",
            "gridwidth": 2,
            "linecolor": "white",
            "showbackground": true,
            "ticks": "",
            "zerolinecolor": "white"
           },
           "zaxis": {
            "backgroundcolor": "#E5ECF6",
            "gridcolor": "white",
            "gridwidth": 2,
            "linecolor": "white",
            "showbackground": true,
            "ticks": "",
            "zerolinecolor": "white"
           }
          },
          "shapedefaults": {
           "line": {
            "color": "#2a3f5f"
           }
          },
          "ternary": {
           "aaxis": {
            "gridcolor": "white",
            "linecolor": "white",
            "ticks": ""
           },
           "baxis": {
            "gridcolor": "white",
            "linecolor": "white",
            "ticks": ""
           },
           "bgcolor": "#E5ECF6",
           "caxis": {
            "gridcolor": "white",
            "linecolor": "white",
            "ticks": ""
           }
          },
          "title": {
           "x": 0.05
          },
          "xaxis": {
           "automargin": true,
           "gridcolor": "white",
           "linecolor": "white",
           "ticks": "",
           "title": {
            "standoff": 15
           },
           "zerolinecolor": "white",
           "zerolinewidth": 2
          },
          "yaxis": {
           "automargin": true,
           "gridcolor": "white",
           "linecolor": "white",
           "ticks": "",
           "title": {
            "standoff": 15
           },
           "zerolinecolor": "white",
           "zerolinewidth": 2
          }
         }
        },
        "title": {
         "text": "$V_{e}$",
         "x": 0.5,
         "xanchor": "center"
        },
        "xaxis": {
         "title": {
          "text": "$\\textrm{True }V_{e, RR}$"
         }
        },
        "yaxis": {
         "range": [
          -30,
          50
         ],
         "showline": true,
         "tickvals": [
          -30,
          -20,
          -10,
          0,
          10,
          20,
          30,
          40,
          50
         ],
         "title": {
          "text": "$Percent Error$"
         }
        }
       }
      },
      "text/html": [
       "<div>                            <div id=\"12c31e1e-5eea-449c-89a7-7e3df043632c\" class=\"plotly-graph-div\" style=\"height:525px; width:100%;\"></div>            <script type=\"text/javascript\">                require([\"plotly\"], function(Plotly) {                    window.PLOTLYENV=window.PLOTLYENV || {};                                    if (document.getElementById(\"12c31e1e-5eea-449c-89a7-7e3df043632c\")) {                    Plotly.newPlot(                        \"12c31e1e-5eea-449c-89a7-7e3df043632c\",                        [{\"error_y\": {\"array\": [3.528566823403481, 3.5506965293013355, 3.5784440247183293, 3.539800344472335, 3.531739157556765, 3.547005254540163, 3.578561974975544, 3.5314729136988054, 3.523255671736372], \"arrayminus\": [3.7257421186432467, 3.6988547192734265, 3.7758864967717596, 3.7338942103061536, 3.7239295688446994, 3.7389204734142867, 3.7577000507339586, 3.7515887880229437, 3.7798662011171196], \"symmetric\": false, \"thickness\": 4, \"type\": \"data\", \"visible\": true}, \"legendgroup\": \"0\", \"line\": {\"color\": \"#bfbfbf\", \"width\": 4}, \"name\": \"ETM\", \"showlegend\": false, \"type\": \"scatter\", \"visible\": true, \"x\": [0.1, 0.11, 0.12000000000000001, 0.13, 0.14, 0.15, 0.16, 0.16999999999999998, 0.18], \"y\": [-2.6403763346778115, -2.6274313764235666, -2.637897802808663, -2.638334964315377, -2.635773587064982, -2.6416528301538227, -2.6296319141014313, -2.6569231494605274, -2.609330638084412]}, {\"error_y\": {\"array\": [3.5551295700629426, 3.5191268018080395, 3.5076988702479577, 3.4766073483937157, 3.4926066390968904, 3.558303555207036, 3.4897967225446416, 3.5574938600339947, 3.516139480878666], \"arrayminus\": [3.086178079053859, 3.1622510760522395, 3.1528057389390662, 3.2290730376714296, 3.2604439829262657, 3.237446898131241, 3.27928325409764, 3.270632117264125, 3.3001494037932195], \"symmetric\": false, \"thickness\": 4, \"type\": \"data\", \"visible\": true}, \"legendgroup\": \"1\", \"line\": {\"color\": \"#292447\", \"width\": 4}, \"name\": \"RRIFT\", \"showlegend\": false, \"type\": \"scatter\", \"visible\": false, \"x\": [0.1, 0.11, 0.12000000000000001, 0.13, 0.14, 0.15, 0.16, 0.16999999999999998, 0.18], \"y\": [-0.16391400691430558, -0.20878108990194008, -0.24327964230002608, -0.23983159960615327, -0.12176085639591701, -0.12487061301989269, -0.09834841220541184, -0.005798928429931208, -0.009351058907740715]}, {\"error_y\": {\"array\": [5.078053852673804, 4.553216103885411, 4.159741271430519, 3.804956068500534, 3.485272298347085, 3.2807938238938075, 3.0186851780572415, 2.8704640254856706, 2.687267428105951], \"arrayminus\": [4.281429628183574, 3.953807576629501, 3.5825848314625617, 3.4045262063567883, 3.1845170890163645, 2.938791417315832, 2.7936209035226547, 2.6155583804850444, 2.4794925557528558], \"symmetric\": false, \"thickness\": 4, \"type\": \"data\", \"visible\": true}, \"legendgroup\": \"2\", \"line\": {\"color\": \"#e45947\", \"width\": 4}, \"name\": \"RRM w/ fixed RR params\", \"showlegend\": false, \"type\": \"scatter\", \"visible\": false, \"x\": [0.1, 0.11, 0.12000000000000001, 0.13, 0.14, 0.15, 0.16, 0.16999999999999998, 0.18], \"y\": [42.185992121512896, 28.85800686805606, 17.875859837263416, 8.43953544209172, 0.5744672344139141, -6.236314328427495, -12.268475309917706, -17.48816886308808, -22.153089160436707]}],                        {\"legend\": {\"x\": 0.3, \"xanchor\": \"right\", \"y\": 0.2, \"yanchor\": \"bottom\"}, \"plot_bgcolor\": \"#ffffff\", \"sliders\": [{\"active\": 3, \"currentvalue\": {\"prefix\": \"Value: \"}, \"pad\": {\"t\": 70}, \"steps\": [{\"args\": [{\"visible\": [true, false, false]}], \"label\": \"RRIFT\", \"method\": \"update\", \"value\": \"ETM\"}, {\"args\": [{\"visible\": [false, true, false]}], \"label\": \"ETM\", \"method\": \"update\", \"value\": \"RRM w/ fixed RR params\"}, {\"args\": [{\"visible\": [false, false, true]}], \"label\": \"RRM w/ fixed RR params\", \"method\": \"update\", \"value\": \"RRIFT\"}]}], \"template\": {\"data\": {\"bar\": [{\"error_x\": {\"color\": \"#2a3f5f\"}, \"error_y\": {\"color\": \"#2a3f5f\"}, \"marker\": {\"line\": {\"color\": \"#E5ECF6\", \"width\": 0.5}}, \"type\": \"bar\"}], \"barpolar\": [{\"marker\": {\"line\": {\"color\": \"#E5ECF6\", \"width\": 0.5}}, \"type\": \"barpolar\"}], \"carpet\": [{\"aaxis\": {\"endlinecolor\": \"#2a3f5f\", \"gridcolor\": \"white\", \"linecolor\": \"white\", \"minorgridcolor\": \"white\", \"startlinecolor\": \"#2a3f5f\"}, \"baxis\": {\"endlinecolor\": \"#2a3f5f\", \"gridcolor\": \"white\", \"linecolor\": \"white\", \"minorgridcolor\": \"white\", \"startlinecolor\": \"#2a3f5f\"}, \"type\": \"carpet\"}], \"choropleth\": [{\"colorbar\": {\"outlinewidth\": 0, \"ticks\": \"\"}, \"type\": \"choropleth\"}], \"contour\": [{\"colorbar\": {\"outlinewidth\": 0, \"ticks\": \"\"}, \"colorscale\": [[0.0, \"#0d0887\"], [0.1111111111111111, \"#46039f\"], [0.2222222222222222, \"#7201a8\"], [0.3333333333333333, \"#9c179e\"], [0.4444444444444444, \"#bd3786\"], [0.5555555555555556, \"#d8576b\"], [0.6666666666666666, \"#ed7953\"], [0.7777777777777778, \"#fb9f3a\"], [0.8888888888888888, \"#fdca26\"], [1.0, \"#f0f921\"]], \"type\": \"contour\"}], \"contourcarpet\": [{\"colorbar\": {\"outlinewidth\": 0, \"ticks\": \"\"}, \"type\": \"contourcarpet\"}], \"heatmap\": [{\"colorbar\": {\"outlinewidth\": 0, \"ticks\": \"\"}, \"colorscale\": [[0.0, \"#0d0887\"], [0.1111111111111111, \"#46039f\"], [0.2222222222222222, \"#7201a8\"], [0.3333333333333333, \"#9c179e\"], [0.4444444444444444, \"#bd3786\"], [0.5555555555555556, \"#d8576b\"], [0.6666666666666666, \"#ed7953\"], [0.7777777777777778, \"#fb9f3a\"], [0.8888888888888888, \"#fdca26\"], [1.0, \"#f0f921\"]], \"type\": \"heatmap\"}], \"heatmapgl\": [{\"colorbar\": {\"outlinewidth\": 0, \"ticks\": \"\"}, \"colorscale\": [[0.0, \"#0d0887\"], [0.1111111111111111, \"#46039f\"], [0.2222222222222222, \"#7201a8\"], [0.3333333333333333, \"#9c179e\"], [0.4444444444444444, \"#bd3786\"], [0.5555555555555556, \"#d8576b\"], [0.6666666666666666, \"#ed7953\"], [0.7777777777777778, \"#fb9f3a\"], [0.8888888888888888, \"#fdca26\"], [1.0, \"#f0f921\"]], \"type\": \"heatmapgl\"}], \"histogram\": [{\"marker\": {\"colorbar\": {\"outlinewidth\": 0, \"ticks\": \"\"}}, \"type\": \"histogram\"}], \"histogram2d\": [{\"colorbar\": {\"outlinewidth\": 0, \"ticks\": \"\"}, \"colorscale\": [[0.0, \"#0d0887\"], [0.1111111111111111, \"#46039f\"], [0.2222222222222222, \"#7201a8\"], [0.3333333333333333, \"#9c179e\"], [0.4444444444444444, \"#bd3786\"], [0.5555555555555556, \"#d8576b\"], [0.6666666666666666, \"#ed7953\"], [0.7777777777777778, \"#fb9f3a\"], [0.8888888888888888, \"#fdca26\"], [1.0, \"#f0f921\"]], \"type\": \"histogram2d\"}], \"histogram2dcontour\": [{\"colorbar\": {\"outlinewidth\": 0, \"ticks\": \"\"}, \"colorscale\": [[0.0, \"#0d0887\"], [0.1111111111111111, \"#46039f\"], [0.2222222222222222, \"#7201a8\"], [0.3333333333333333, \"#9c179e\"], [0.4444444444444444, \"#bd3786\"], [0.5555555555555556, \"#d8576b\"], [0.6666666666666666, \"#ed7953\"], [0.7777777777777778, \"#fb9f3a\"], [0.8888888888888888, \"#fdca26\"], [1.0, \"#f0f921\"]], \"type\": \"histogram2dcontour\"}], \"mesh3d\": [{\"colorbar\": {\"outlinewidth\": 0, \"ticks\": \"\"}, \"type\": \"mesh3d\"}], \"parcoords\": [{\"line\": {\"colorbar\": {\"outlinewidth\": 0, \"ticks\": \"\"}}, \"type\": \"parcoords\"}], \"pie\": [{\"automargin\": true, \"type\": \"pie\"}], \"scatter\": [{\"marker\": {\"colorbar\": {\"outlinewidth\": 0, \"ticks\": \"\"}}, \"type\": \"scatter\"}], \"scatter3d\": [{\"line\": {\"colorbar\": {\"outlinewidth\": 0, \"ticks\": \"\"}}, \"marker\": {\"colorbar\": {\"outlinewidth\": 0, \"ticks\": \"\"}}, \"type\": \"scatter3d\"}], \"scattercarpet\": [{\"marker\": {\"colorbar\": {\"outlinewidth\": 0, \"ticks\": \"\"}}, \"type\": \"scattercarpet\"}], \"scattergeo\": [{\"marker\": {\"colorbar\": {\"outlinewidth\": 0, \"ticks\": \"\"}}, \"type\": \"scattergeo\"}], \"scattergl\": [{\"marker\": {\"colorbar\": {\"outlinewidth\": 0, \"ticks\": \"\"}}, \"type\": \"scattergl\"}], \"scattermapbox\": [{\"marker\": {\"colorbar\": {\"outlinewidth\": 0, \"ticks\": \"\"}}, \"type\": \"scattermapbox\"}], \"scatterpolar\": [{\"marker\": {\"colorbar\": {\"outlinewidth\": 0, \"ticks\": \"\"}}, \"type\": \"scatterpolar\"}], \"scatterpolargl\": [{\"marker\": {\"colorbar\": {\"outlinewidth\": 0, \"ticks\": \"\"}}, \"type\": \"scatterpolargl\"}], \"scatterternary\": [{\"marker\": {\"colorbar\": {\"outlinewidth\": 0, \"ticks\": \"\"}}, \"type\": \"scatterternary\"}], \"surface\": [{\"colorbar\": {\"outlinewidth\": 0, \"ticks\": \"\"}, \"colorscale\": [[0.0, \"#0d0887\"], [0.1111111111111111, \"#46039f\"], [0.2222222222222222, \"#7201a8\"], [0.3333333333333333, \"#9c179e\"], [0.4444444444444444, \"#bd3786\"], [0.5555555555555556, \"#d8576b\"], [0.6666666666666666, \"#ed7953\"], [0.7777777777777778, \"#fb9f3a\"], [0.8888888888888888, \"#fdca26\"], [1.0, \"#f0f921\"]], \"type\": \"surface\"}], \"table\": [{\"cells\": {\"fill\": {\"color\": \"#EBF0F8\"}, \"line\": {\"color\": \"white\"}}, \"header\": {\"fill\": {\"color\": \"#C8D4E3\"}, \"line\": {\"color\": \"white\"}}, \"type\": \"table\"}]}, \"layout\": {\"annotationdefaults\": {\"arrowcolor\": \"#2a3f5f\", \"arrowhead\": 0, \"arrowwidth\": 1}, \"autotypenumbers\": \"strict\", \"coloraxis\": {\"colorbar\": {\"outlinewidth\": 0, \"ticks\": \"\"}}, \"colorscale\": {\"diverging\": [[0, \"#8e0152\"], [0.1, \"#c51b7d\"], [0.2, \"#de77ae\"], [0.3, \"#f1b6da\"], [0.4, \"#fde0ef\"], [0.5, \"#f7f7f7\"], [0.6, \"#e6f5d0\"], [0.7, \"#b8e186\"], [0.8, \"#7fbc41\"], [0.9, \"#4d9221\"], [1, \"#276419\"]], \"sequential\": [[0.0, \"#0d0887\"], [0.1111111111111111, \"#46039f\"], [0.2222222222222222, \"#7201a8\"], [0.3333333333333333, \"#9c179e\"], [0.4444444444444444, \"#bd3786\"], [0.5555555555555556, \"#d8576b\"], [0.6666666666666666, \"#ed7953\"], [0.7777777777777778, \"#fb9f3a\"], [0.8888888888888888, \"#fdca26\"], [1.0, \"#f0f921\"]], \"sequentialminus\": [[0.0, \"#0d0887\"], [0.1111111111111111, \"#46039f\"], [0.2222222222222222, \"#7201a8\"], [0.3333333333333333, \"#9c179e\"], [0.4444444444444444, \"#bd3786\"], [0.5555555555555556, \"#d8576b\"], [0.6666666666666666, \"#ed7953\"], [0.7777777777777778, \"#fb9f3a\"], [0.8888888888888888, \"#fdca26\"], [1.0, \"#f0f921\"]]}, \"colorway\": [\"#636efa\", \"#EF553B\", \"#00cc96\", \"#ab63fa\", \"#FFA15A\", \"#19d3f3\", \"#FF6692\", \"#B6E880\", \"#FF97FF\", \"#FECB52\"], \"font\": {\"color\": \"#2a3f5f\"}, \"geo\": {\"bgcolor\": \"white\", \"lakecolor\": \"white\", \"landcolor\": \"#E5ECF6\", \"showlakes\": true, \"showland\": true, \"subunitcolor\": \"white\"}, \"hoverlabel\": {\"align\": \"left\"}, \"hovermode\": \"closest\", \"mapbox\": {\"style\": \"light\"}, \"paper_bgcolor\": \"white\", \"plot_bgcolor\": \"#E5ECF6\", \"polar\": {\"angularaxis\": {\"gridcolor\": \"white\", \"linecolor\": \"white\", \"ticks\": \"\"}, \"bgcolor\": \"#E5ECF6\", \"radialaxis\": {\"gridcolor\": \"white\", \"linecolor\": \"white\", \"ticks\": \"\"}}, \"scene\": {\"xaxis\": {\"backgroundcolor\": \"#E5ECF6\", \"gridcolor\": \"white\", \"gridwidth\": 2, \"linecolor\": \"white\", \"showbackground\": true, \"ticks\": \"\", \"zerolinecolor\": \"white\"}, \"yaxis\": {\"backgroundcolor\": \"#E5ECF6\", \"gridcolor\": \"white\", \"gridwidth\": 2, \"linecolor\": \"white\", \"showbackground\": true, \"ticks\": \"\", \"zerolinecolor\": \"white\"}, \"zaxis\": {\"backgroundcolor\": \"#E5ECF6\", \"gridcolor\": \"white\", \"gridwidth\": 2, \"linecolor\": \"white\", \"showbackground\": true, \"ticks\": \"\", \"zerolinecolor\": \"white\"}}, \"shapedefaults\": {\"line\": {\"color\": \"#2a3f5f\"}}, \"ternary\": {\"aaxis\": {\"gridcolor\": \"white\", \"linecolor\": \"white\", \"ticks\": \"\"}, \"baxis\": {\"gridcolor\": \"white\", \"linecolor\": \"white\", \"ticks\": \"\"}, \"bgcolor\": \"#E5ECF6\", \"caxis\": {\"gridcolor\": \"white\", \"linecolor\": \"white\", \"ticks\": \"\"}}, \"title\": {\"x\": 0.05}, \"xaxis\": {\"automargin\": true, \"gridcolor\": \"white\", \"linecolor\": \"white\", \"ticks\": \"\", \"title\": {\"standoff\": 15}, \"zerolinecolor\": \"white\", \"zerolinewidth\": 2}, \"yaxis\": {\"automargin\": true, \"gridcolor\": \"white\", \"linecolor\": \"white\", \"ticks\": \"\", \"title\": {\"standoff\": 15}, \"zerolinecolor\": \"white\", \"zerolinewidth\": 2}}}, \"title\": {\"text\": \"$V_{e}$\", \"x\": 0.5, \"xanchor\": \"center\"}, \"xaxis\": {\"title\": {\"text\": \"$\\\\textrm{True }V_{e, RR}$\"}}, \"yaxis\": {\"range\": [-30, 50], \"showline\": true, \"tickvals\": [-30, -20, -10, 0, 10, 20, 30, 40, 50], \"title\": {\"text\": \"$Percent Error$\"}}},                        {\"responsive\": true}                    ).then(function(){\n",
       "                            \n",
       "var gd = document.getElementById('12c31e1e-5eea-449c-89a7-7e3df043632c');\n",
       "var x = new MutationObserver(function (mutations, observer) {{\n",
       "        var display = window.getComputedStyle(gd).display;\n",
       "        if (!display || display === 'none') {{\n",
       "            console.log([gd, 'removed!']);\n",
       "            Plotly.purge(gd);\n",
       "            observer.disconnect();\n",
       "        }}\n",
       "}});\n",
       "\n",
       "// Listen for the removal of the full notebook cells\n",
       "var notebookContainer = gd.closest('#notebook-container');\n",
       "if (notebookContainer) {{\n",
       "    x.observe(notebookContainer, {childList: true});\n",
       "}}\n",
       "\n",
       "// Listen for the clearing of the current output cell\n",
       "var outputEl = gd.closest('.output');\n",
       "if (outputEl) {{\n",
       "    x.observe(outputEl, {childList: true});\n",
       "}}\n",
       "\n",
       "                        })                };                });            </script>        </div>"
      ]
     },
     "metadata": {},
     "output_type": "display_data"
    }
   ],
   "source": [
    "# THESE IMPORTS ARE PROBABLY NOT NEEDED BUT IT SEEMS TO NOT ALWAYS WORK FOR ME IF I LEAVE THEM OUT\n",
    "\n",
    "file = loadmat('fig4vars.mat')\n",
    "\n",
    "trueVeRR = np.squeeze(np.asarray(np.reshape(file['trueVeRR'], 9)))\n",
    "\n",
    "Ve_ci1 = file['Ve_ci1']\n",
    "Ve_ci2 = file['Ve_ci2']\n",
    "Ve_ci3 = file['Ve_ci3']\n",
    "\n",
    "Ve_avg1 = np.squeeze(np.asarray(np.reshape(file['Ve_avg1'], 9)))\n",
    "Ve_avg2 = np.squeeze(np.asarray(np.reshape(file['Ve_avg2'], 9)))\n",
    "Ve_avg3 = np.squeeze(np.asarray(np.reshape(file['Ve_avg3'], 9)))\n",
    "\n",
    "\n",
    "fig = go.Figure()\n",
    "\n",
    "legend_values=cycle(['ETM','RRIFT','RRM w/ fixed RR params'])\n",
    "line_colours = cycle(['#bfbfbf', '#292447', '#e45947'])\n",
    "\n",
    "Ve_ci = [Ve_ci3, Ve_ci2, Ve_ci1]\n",
    "Ve_avg = [Ve_avg3, Ve_avg2, Ve_avg1]\n",
    "\n",
    "for i in range(0,3):\n",
    "    ci_values_negative = np.squeeze(np.asarray(np.reshape(Ve_ci[i][:,0], 9)))\n",
    "    ci_values_positive = np.squeeze(np.asarray(np.reshape(Ve_ci[i][:,1], 9)))\n",
    "    negative = Ve_avg[i]-ci_values_negative\n",
    "    positive = ci_values_positive-Ve_avg[i]\n",
    "    fig.add_trace(go.Scatter(\n",
    "        x=trueVeRR,\n",
    "        y=Ve_avg[i],\n",
    "        visible=False,\n",
    "        showlegend=False,\n",
    "        error_y=dict(\n",
    "            type='data', # value of error bar given in data coordinates\n",
    "            array=positive,\n",
    "            arrayminus=negative,\n",
    "            symmetric=False,\n",
    "            visible=True,\n",
    "            thickness=4),\n",
    "        name=next(legend_values),\n",
    "        legendgroup=i,\n",
    "        line_color=next(line_colours),\n",
    "        line_width=4\n",
    "    ))\n",
    "\n",
    "\n",
    "# Default value on the slider    \n",
    "        \n",
    "fig.data[0].visible = True\n",
    "\n",
    "\n",
    "# Create and add slider\n",
    "steps = []\n",
    "for i in range(len(fig.data)):\n",
    "    step = dict(\n",
    "        method=\"update\",\n",
    "        args=[{\"visible\": [False] * len(fig.data)}],\n",
    "        value=next(legend_values),\n",
    "        label=next(legend_values)\n",
    "    )\n",
    "    step[\"args\"][0][\"visible\"][i] = True  # Toggle i'th trace to \"visible\"\n",
    "    steps.append(step)\n",
    "\n",
    "sliders = [dict(\n",
    "    active=3,\n",
    "    currentvalue={\"prefix\": \"Value: \"},\n",
    "    pad={\"t\": 70}, #upper padding \n",
    "    steps=steps\n",
    ")]\n",
    "\n",
    "\n",
    "fig.update_xaxes(title_text=r'$\\textrm{True }V_{e, RR}$')\n",
    "fig.update_layout(title=dict(text=r'$V_{e}$',\n",
    "                             x=0.5,\n",
    "                             xanchor='center'),\n",
    "                  yaxis=dict(title=r'$Percent Error$',\n",
    "                             showline=True,\n",
    "                             range=[-30, 50],\n",
    "                             tickvals=[-30, -20, -10, 0, 10, 20, 30, 40, 50]\n",
    "                             ), \n",
    "                  plot_bgcolor='#ffffff',\n",
    "                  legend=dict(yanchor='bottom', y=0.20, xanchor='right', x=0.30),\n",
    "                  sliders=sliders\n",
    ")\n",
    "\n",
    "\n",
    "fig.show()"
   ]
  },
  {
   "cell_type": "markdown",
   "metadata": {
    "kernel": "SoS"
   },
   "source": [
    "## Figure 4 - third subfigure"
   ]
  },
  {
   "cell_type": "code",
   "execution_count": 92,
   "metadata": {
    "kernel": "SoS"
   },
   "outputs": [
    {
     "data": {
      "application/vnd.plotly.v1+json": {
       "config": {
        "plotlyServerURL": "https://plot.ly"
       },
       "data": [
        {
         "error_y": {
          "array": [
           94.69640946727122,
           92.38003430452139,
           95.14262290151123,
           94.45589393872746,
           94.90917048359347,
           94.27967152129406,
           95.27058349099943,
           95.06653572402305,
           93.69328049521597
          ],
          "arrayminus": [
           25.39409867936571,
           25.4944921687857,
           25.417557331691977,
           25.691801173560336,
           25.416825782451475,
           25.544911671238644,
           25.79010814289779,
           25.645663180675246,
           25.483897016090147
          ],
          "symmetric": false,
          "thickness": 4,
          "type": "data",
          "visible": true
         },
         "legendgroup": "0",
         "line": {
          "color": "#bfbfbf",
          "width": 4
         },
         "name": "ETM",
         "type": "scatter",
         "visible": true,
         "x": [
          0.03,
          0.04,
          0.05,
          0.06,
          0.07,
          0.08,
          0.09,
          0.1,
          0.11
         ],
         "y": [
          10.352461098664921,
          9.726631992117124,
          10.434134545928917,
          10.532845095300313,
          10.367809601251956,
          10.184722815676304,
          10.213093294183942,
          10.740775546934326,
          9.869858521350013
         ]
        },
        {
         "error_y": {
          "array": [
           48.23916597207022,
           47.7161291278122,
           46.84241041023326,
           46.154336409078866,
           45.01925238050413,
           44.81441003109606,
           44.45586899817182,
           45.0093185551385,
           45.030839696471745
          ],
          "arrayminus": [
           46.63358288808542,
           46.616057812388135,
           45.581526806853475,
           44.26111409301223,
           43.561604549619034,
           41.5437612698682,
           40.673380144838944,
           39.820538922506245,
           38.9853247515606
          ],
          "symmetric": false,
          "thickness": 4,
          "type": "data",
          "visible": true
         },
         "legendgroup": "1",
         "line": {
          "color": "#292447",
          "width": 4
         },
         "name": "RRIFT",
         "type": "scatter",
         "visible": false,
         "x": [
          0.03,
          0.04,
          0.05,
          0.06,
          0.07,
          0.08,
          0.09,
          0.1,
          0.11
         ],
         "y": [
          -1.2551056637806202,
          -0.41709569031729565,
          -1.8977757214449498,
          -2.7942164387960533,
          -4.69990270902397,
          -10.167573940969348,
          -13.638297533452569,
          -17.354108046694506,
          -20.391811186064686
         ]
        },
        {
         "error_y": {
          "array": [
           111.27722035590665,
           82.48821242924348,
           65.5054826062916,
           54.72944462054392,
           46.56347899029469,
           41.71312710989627,
           37.47463574976304,
           34.56601234532601,
           31.87692690533025
          ],
          "arrayminus": [
           107.83367093203739,
           80.491992037722,
           64.18312559263421,
           53.19359983176706,
           45.45444035217881,
           38.969005134615315,
           34.36285720699729,
           30.687308516763096,
           27.593924679849472
          ],
          "symmetric": false,
          "thickness": 4,
          "type": "data",
          "visible": true
         },
         "legendgroup": "2",
         "line": {
          "color": "#e45947",
          "width": 4
         },
         "name": "RRM w/ fixed RR params",
         "type": "scatter",
         "visible": false,
         "x": [
          0.03,
          0.04,
          0.05,
          0.06,
          0.07,
          0.08,
          0.09,
          0.1,
          0.11
         ],
         "y": [
          128.04145395912133,
          72.13143317559022,
          37.78266160814451,
          16.682914577764087,
          -0.2066176532181871,
          -15.543615594208092,
          -26.767350607651853,
          -36.018333883752746,
          -43.39066263799338
         ]
        }
       ],
       "layout": {
        "legend": {
         "x": 0.3,
         "xanchor": "right",
         "y": 0.2,
         "yanchor": "bottom"
        },
        "plot_bgcolor": "#ffffff",
        "sliders": [
         {
          "active": 3,
          "currentvalue": {
           "prefix": "Value: "
          },
          "pad": {
           "t": 70
          },
          "steps": [
           {
            "args": [
             {
              "visible": [
               true,
               false,
               false
              ]
             }
            ],
            "label": "RRIFT",
            "method": "update",
            "value": "ETM"
           },
           {
            "args": [
             {
              "visible": [
               false,
               true,
               false
              ]
             }
            ],
            "label": "ETM",
            "method": "update",
            "value": "RRM w/ fixed RR params"
           },
           {
            "args": [
             {
              "visible": [
               false,
               false,
               true
              ]
             }
            ],
            "label": "RRM w/ fixed RR params",
            "method": "update",
            "value": "RRIFT"
           }
          ]
         }
        ],
        "template": {
         "data": {
          "bar": [
           {
            "error_x": {
             "color": "#2a3f5f"
            },
            "error_y": {
             "color": "#2a3f5f"
            },
            "marker": {
             "line": {
              "color": "#E5ECF6",
              "width": 0.5
             }
            },
            "type": "bar"
           }
          ],
          "barpolar": [
           {
            "marker": {
             "line": {
              "color": "#E5ECF6",
              "width": 0.5
             }
            },
            "type": "barpolar"
           }
          ],
          "carpet": [
           {
            "aaxis": {
             "endlinecolor": "#2a3f5f",
             "gridcolor": "white",
             "linecolor": "white",
             "minorgridcolor": "white",
             "startlinecolor": "#2a3f5f"
            },
            "baxis": {
             "endlinecolor": "#2a3f5f",
             "gridcolor": "white",
             "linecolor": "white",
             "minorgridcolor": "white",
             "startlinecolor": "#2a3f5f"
            },
            "type": "carpet"
           }
          ],
          "choropleth": [
           {
            "colorbar": {
             "outlinewidth": 0,
             "ticks": ""
            },
            "type": "choropleth"
           }
          ],
          "contour": [
           {
            "colorbar": {
             "outlinewidth": 0,
             "ticks": ""
            },
            "colorscale": [
             [
              0,
              "#0d0887"
             ],
             [
              0.1111111111111111,
              "#46039f"
             ],
             [
              0.2222222222222222,
              "#7201a8"
             ],
             [
              0.3333333333333333,
              "#9c179e"
             ],
             [
              0.4444444444444444,
              "#bd3786"
             ],
             [
              0.5555555555555556,
              "#d8576b"
             ],
             [
              0.6666666666666666,
              "#ed7953"
             ],
             [
              0.7777777777777778,
              "#fb9f3a"
             ],
             [
              0.8888888888888888,
              "#fdca26"
             ],
             [
              1,
              "#f0f921"
             ]
            ],
            "type": "contour"
           }
          ],
          "contourcarpet": [
           {
            "colorbar": {
             "outlinewidth": 0,
             "ticks": ""
            },
            "type": "contourcarpet"
           }
          ],
          "heatmap": [
           {
            "colorbar": {
             "outlinewidth": 0,
             "ticks": ""
            },
            "colorscale": [
             [
              0,
              "#0d0887"
             ],
             [
              0.1111111111111111,
              "#46039f"
             ],
             [
              0.2222222222222222,
              "#7201a8"
             ],
             [
              0.3333333333333333,
              "#9c179e"
             ],
             [
              0.4444444444444444,
              "#bd3786"
             ],
             [
              0.5555555555555556,
              "#d8576b"
             ],
             [
              0.6666666666666666,
              "#ed7953"
             ],
             [
              0.7777777777777778,
              "#fb9f3a"
             ],
             [
              0.8888888888888888,
              "#fdca26"
             ],
             [
              1,
              "#f0f921"
             ]
            ],
            "type": "heatmap"
           }
          ],
          "heatmapgl": [
           {
            "colorbar": {
             "outlinewidth": 0,
             "ticks": ""
            },
            "colorscale": [
             [
              0,
              "#0d0887"
             ],
             [
              0.1111111111111111,
              "#46039f"
             ],
             [
              0.2222222222222222,
              "#7201a8"
             ],
             [
              0.3333333333333333,
              "#9c179e"
             ],
             [
              0.4444444444444444,
              "#bd3786"
             ],
             [
              0.5555555555555556,
              "#d8576b"
             ],
             [
              0.6666666666666666,
              "#ed7953"
             ],
             [
              0.7777777777777778,
              "#fb9f3a"
             ],
             [
              0.8888888888888888,
              "#fdca26"
             ],
             [
              1,
              "#f0f921"
             ]
            ],
            "type": "heatmapgl"
           }
          ],
          "histogram": [
           {
            "marker": {
             "colorbar": {
              "outlinewidth": 0,
              "ticks": ""
             }
            },
            "type": "histogram"
           }
          ],
          "histogram2d": [
           {
            "colorbar": {
             "outlinewidth": 0,
             "ticks": ""
            },
            "colorscale": [
             [
              0,
              "#0d0887"
             ],
             [
              0.1111111111111111,
              "#46039f"
             ],
             [
              0.2222222222222222,
              "#7201a8"
             ],
             [
              0.3333333333333333,
              "#9c179e"
             ],
             [
              0.4444444444444444,
              "#bd3786"
             ],
             [
              0.5555555555555556,
              "#d8576b"
             ],
             [
              0.6666666666666666,
              "#ed7953"
             ],
             [
              0.7777777777777778,
              "#fb9f3a"
             ],
             [
              0.8888888888888888,
              "#fdca26"
             ],
             [
              1,
              "#f0f921"
             ]
            ],
            "type": "histogram2d"
           }
          ],
          "histogram2dcontour": [
           {
            "colorbar": {
             "outlinewidth": 0,
             "ticks": ""
            },
            "colorscale": [
             [
              0,
              "#0d0887"
             ],
             [
              0.1111111111111111,
              "#46039f"
             ],
             [
              0.2222222222222222,
              "#7201a8"
             ],
             [
              0.3333333333333333,
              "#9c179e"
             ],
             [
              0.4444444444444444,
              "#bd3786"
             ],
             [
              0.5555555555555556,
              "#d8576b"
             ],
             [
              0.6666666666666666,
              "#ed7953"
             ],
             [
              0.7777777777777778,
              "#fb9f3a"
             ],
             [
              0.8888888888888888,
              "#fdca26"
             ],
             [
              1,
              "#f0f921"
             ]
            ],
            "type": "histogram2dcontour"
           }
          ],
          "mesh3d": [
           {
            "colorbar": {
             "outlinewidth": 0,
             "ticks": ""
            },
            "type": "mesh3d"
           }
          ],
          "parcoords": [
           {
            "line": {
             "colorbar": {
              "outlinewidth": 0,
              "ticks": ""
             }
            },
            "type": "parcoords"
           }
          ],
          "pie": [
           {
            "automargin": true,
            "type": "pie"
           }
          ],
          "scatter": [
           {
            "marker": {
             "colorbar": {
              "outlinewidth": 0,
              "ticks": ""
             }
            },
            "type": "scatter"
           }
          ],
          "scatter3d": [
           {
            "line": {
             "colorbar": {
              "outlinewidth": 0,
              "ticks": ""
             }
            },
            "marker": {
             "colorbar": {
              "outlinewidth": 0,
              "ticks": ""
             }
            },
            "type": "scatter3d"
           }
          ],
          "scattercarpet": [
           {
            "marker": {
             "colorbar": {
              "outlinewidth": 0,
              "ticks": ""
             }
            },
            "type": "scattercarpet"
           }
          ],
          "scattergeo": [
           {
            "marker": {
             "colorbar": {
              "outlinewidth": 0,
              "ticks": ""
             }
            },
            "type": "scattergeo"
           }
          ],
          "scattergl": [
           {
            "marker": {
             "colorbar": {
              "outlinewidth": 0,
              "ticks": ""
             }
            },
            "type": "scattergl"
           }
          ],
          "scattermapbox": [
           {
            "marker": {
             "colorbar": {
              "outlinewidth": 0,
              "ticks": ""
             }
            },
            "type": "scattermapbox"
           }
          ],
          "scatterpolar": [
           {
            "marker": {
             "colorbar": {
              "outlinewidth": 0,
              "ticks": ""
             }
            },
            "type": "scatterpolar"
           }
          ],
          "scatterpolargl": [
           {
            "marker": {
             "colorbar": {
              "outlinewidth": 0,
              "ticks": ""
             }
            },
            "type": "scatterpolargl"
           }
          ],
          "scatterternary": [
           {
            "marker": {
             "colorbar": {
              "outlinewidth": 0,
              "ticks": ""
             }
            },
            "type": "scatterternary"
           }
          ],
          "surface": [
           {
            "colorbar": {
             "outlinewidth": 0,
             "ticks": ""
            },
            "colorscale": [
             [
              0,
              "#0d0887"
             ],
             [
              0.1111111111111111,
              "#46039f"
             ],
             [
              0.2222222222222222,
              "#7201a8"
             ],
             [
              0.3333333333333333,
              "#9c179e"
             ],
             [
              0.4444444444444444,
              "#bd3786"
             ],
             [
              0.5555555555555556,
              "#d8576b"
             ],
             [
              0.6666666666666666,
              "#ed7953"
             ],
             [
              0.7777777777777778,
              "#fb9f3a"
             ],
             [
              0.8888888888888888,
              "#fdca26"
             ],
             [
              1,
              "#f0f921"
             ]
            ],
            "type": "surface"
           }
          ],
          "table": [
           {
            "cells": {
             "fill": {
              "color": "#EBF0F8"
             },
             "line": {
              "color": "white"
             }
            },
            "header": {
             "fill": {
              "color": "#C8D4E3"
             },
             "line": {
              "color": "white"
             }
            },
            "type": "table"
           }
          ]
         },
         "layout": {
          "annotationdefaults": {
           "arrowcolor": "#2a3f5f",
           "arrowhead": 0,
           "arrowwidth": 1
          },
          "autotypenumbers": "strict",
          "coloraxis": {
           "colorbar": {
            "outlinewidth": 0,
            "ticks": ""
           }
          },
          "colorscale": {
           "diverging": [
            [
             0,
             "#8e0152"
            ],
            [
             0.1,
             "#c51b7d"
            ],
            [
             0.2,
             "#de77ae"
            ],
            [
             0.3,
             "#f1b6da"
            ],
            [
             0.4,
             "#fde0ef"
            ],
            [
             0.5,
             "#f7f7f7"
            ],
            [
             0.6,
             "#e6f5d0"
            ],
            [
             0.7,
             "#b8e186"
            ],
            [
             0.8,
             "#7fbc41"
            ],
            [
             0.9,
             "#4d9221"
            ],
            [
             1,
             "#276419"
            ]
           ],
           "sequential": [
            [
             0,
             "#0d0887"
            ],
            [
             0.1111111111111111,
             "#46039f"
            ],
            [
             0.2222222222222222,
             "#7201a8"
            ],
            [
             0.3333333333333333,
             "#9c179e"
            ],
            [
             0.4444444444444444,
             "#bd3786"
            ],
            [
             0.5555555555555556,
             "#d8576b"
            ],
            [
             0.6666666666666666,
             "#ed7953"
            ],
            [
             0.7777777777777778,
             "#fb9f3a"
            ],
            [
             0.8888888888888888,
             "#fdca26"
            ],
            [
             1,
             "#f0f921"
            ]
           ],
           "sequentialminus": [
            [
             0,
             "#0d0887"
            ],
            [
             0.1111111111111111,
             "#46039f"
            ],
            [
             0.2222222222222222,
             "#7201a8"
            ],
            [
             0.3333333333333333,
             "#9c179e"
            ],
            [
             0.4444444444444444,
             "#bd3786"
            ],
            [
             0.5555555555555556,
             "#d8576b"
            ],
            [
             0.6666666666666666,
             "#ed7953"
            ],
            [
             0.7777777777777778,
             "#fb9f3a"
            ],
            [
             0.8888888888888888,
             "#fdca26"
            ],
            [
             1,
             "#f0f921"
            ]
           ]
          },
          "colorway": [
           "#636efa",
           "#EF553B",
           "#00cc96",
           "#ab63fa",
           "#FFA15A",
           "#19d3f3",
           "#FF6692",
           "#B6E880",
           "#FF97FF",
           "#FECB52"
          ],
          "font": {
           "color": "#2a3f5f"
          },
          "geo": {
           "bgcolor": "white",
           "lakecolor": "white",
           "landcolor": "#E5ECF6",
           "showlakes": true,
           "showland": true,
           "subunitcolor": "white"
          },
          "hoverlabel": {
           "align": "left"
          },
          "hovermode": "closest",
          "mapbox": {
           "style": "light"
          },
          "paper_bgcolor": "white",
          "plot_bgcolor": "#E5ECF6",
          "polar": {
           "angularaxis": {
            "gridcolor": "white",
            "linecolor": "white",
            "ticks": ""
           },
           "bgcolor": "#E5ECF6",
           "radialaxis": {
            "gridcolor": "white",
            "linecolor": "white",
            "ticks": ""
           }
          },
          "scene": {
           "xaxis": {
            "backgroundcolor": "#E5ECF6",
            "gridcolor": "white",
            "gridwidth": 2,
            "linecolor": "white",
            "showbackground": true,
            "ticks": "",
            "zerolinecolor": "white"
           },
           "yaxis": {
            "backgroundcolor": "#E5ECF6",
            "gridcolor": "white",
            "gridwidth": 2,
            "linecolor": "white",
            "showbackground": true,
            "ticks": "",
            "zerolinecolor": "white"
           },
           "zaxis": {
            "backgroundcolor": "#E5ECF6",
            "gridcolor": "white",
            "gridwidth": 2,
            "linecolor": "white",
            "showbackground": true,
            "ticks": "",
            "zerolinecolor": "white"
           }
          },
          "shapedefaults": {
           "line": {
            "color": "#2a3f5f"
           }
          },
          "ternary": {
           "aaxis": {
            "gridcolor": "white",
            "linecolor": "white",
            "ticks": ""
           },
           "baxis": {
            "gridcolor": "white",
            "linecolor": "white",
            "ticks": ""
           },
           "bgcolor": "#E5ECF6",
           "caxis": {
            "gridcolor": "white",
            "linecolor": "white",
            "ticks": ""
           }
          },
          "title": {
           "x": 0.05
          },
          "xaxis": {
           "automargin": true,
           "gridcolor": "white",
           "linecolor": "white",
           "ticks": "",
           "title": {
            "standoff": 15
           },
           "zerolinecolor": "white",
           "zerolinewidth": 2
          },
          "yaxis": {
           "automargin": true,
           "gridcolor": "white",
           "linecolor": "white",
           "ticks": "",
           "title": {
            "standoff": 15
           },
           "zerolinecolor": "white",
           "zerolinewidth": 2
          }
         }
        },
        "title": {
         "text": "$V_{p}$",
         "x": 0.5,
         "xanchor": "center"
        },
        "xaxis": {
         "title": {
          "text": "$\\textrm{True }K^{trans}_{RR}$"
         }
        },
        "yaxis": {
         "range": [
          -80,
          240
         ],
         "showline": true,
         "tickvals": [
          -80,
          -40,
          0,
          40,
          80,
          120,
          160,
          200,
          240
         ],
         "title": {
          "text": "$Percent Error$"
         }
        }
       }
      },
      "text/html": [
       "<div>                            <div id=\"879cee8b-5481-4dbc-a4f6-9757d66e358f\" class=\"plotly-graph-div\" style=\"height:525px; width:100%;\"></div>            <script type=\"text/javascript\">                require([\"plotly\"], function(Plotly) {                    window.PLOTLYENV=window.PLOTLYENV || {};                                    if (document.getElementById(\"879cee8b-5481-4dbc-a4f6-9757d66e358f\")) {                    Plotly.newPlot(                        \"879cee8b-5481-4dbc-a4f6-9757d66e358f\",                        [{\"error_y\": {\"array\": [94.69640946727122, 92.38003430452139, 95.14262290151123, 94.45589393872746, 94.90917048359347, 94.27967152129406, 95.27058349099943, 95.06653572402305, 93.69328049521597], \"arrayminus\": [25.39409867936571, 25.4944921687857, 25.417557331691977, 25.691801173560336, 25.416825782451475, 25.544911671238644, 25.79010814289779, 25.645663180675246, 25.483897016090147], \"symmetric\": false, \"thickness\": 4, \"type\": \"data\", \"visible\": true}, \"legendgroup\": \"0\", \"line\": {\"color\": \"#bfbfbf\", \"width\": 4}, \"name\": \"ETM\", \"type\": \"scatter\", \"visible\": true, \"x\": [0.03, 0.04, 0.05, 0.06, 0.07, 0.08, 0.09, 0.1, 0.11], \"y\": [10.352461098664921, 9.726631992117124, 10.434134545928917, 10.532845095300313, 10.367809601251956, 10.184722815676304, 10.213093294183942, 10.740775546934326, 9.869858521350013]}, {\"error_y\": {\"array\": [48.23916597207022, 47.7161291278122, 46.84241041023326, 46.154336409078866, 45.01925238050413, 44.81441003109606, 44.45586899817182, 45.0093185551385, 45.030839696471745], \"arrayminus\": [46.63358288808542, 46.616057812388135, 45.581526806853475, 44.26111409301223, 43.561604549619034, 41.5437612698682, 40.673380144838944, 39.820538922506245, 38.9853247515606], \"symmetric\": false, \"thickness\": 4, \"type\": \"data\", \"visible\": true}, \"legendgroup\": \"1\", \"line\": {\"color\": \"#292447\", \"width\": 4}, \"name\": \"RRIFT\", \"type\": \"scatter\", \"visible\": false, \"x\": [0.03, 0.04, 0.05, 0.06, 0.07, 0.08, 0.09, 0.1, 0.11], \"y\": [-1.2551056637806202, -0.41709569031729565, -1.8977757214449498, -2.7942164387960533, -4.69990270902397, -10.167573940969348, -13.638297533452569, -17.354108046694506, -20.391811186064686]}, {\"error_y\": {\"array\": [111.27722035590665, 82.48821242924348, 65.5054826062916, 54.72944462054392, 46.56347899029469, 41.71312710989627, 37.47463574976304, 34.56601234532601, 31.87692690533025], \"arrayminus\": [107.83367093203739, 80.491992037722, 64.18312559263421, 53.19359983176706, 45.45444035217881, 38.969005134615315, 34.36285720699729, 30.687308516763096, 27.593924679849472], \"symmetric\": false, \"thickness\": 4, \"type\": \"data\", \"visible\": true}, \"legendgroup\": \"2\", \"line\": {\"color\": \"#e45947\", \"width\": 4}, \"name\": \"RRM w/ fixed RR params\", \"type\": \"scatter\", \"visible\": false, \"x\": [0.03, 0.04, 0.05, 0.06, 0.07, 0.08, 0.09, 0.1, 0.11], \"y\": [128.04145395912133, 72.13143317559022, 37.78266160814451, 16.682914577764087, -0.2066176532181871, -15.543615594208092, -26.767350607651853, -36.018333883752746, -43.39066263799338]}],                        {\"legend\": {\"x\": 0.3, \"xanchor\": \"right\", \"y\": 0.2, \"yanchor\": \"bottom\"}, \"plot_bgcolor\": \"#ffffff\", \"sliders\": [{\"active\": 3, \"currentvalue\": {\"prefix\": \"Value: \"}, \"pad\": {\"t\": 70}, \"steps\": [{\"args\": [{\"visible\": [true, false, false]}], \"label\": \"RRIFT\", \"method\": \"update\", \"value\": \"ETM\"}, {\"args\": [{\"visible\": [false, true, false]}], \"label\": \"ETM\", \"method\": \"update\", \"value\": \"RRM w/ fixed RR params\"}, {\"args\": [{\"visible\": [false, false, true]}], \"label\": \"RRM w/ fixed RR params\", \"method\": \"update\", \"value\": \"RRIFT\"}]}], \"template\": {\"data\": {\"bar\": [{\"error_x\": {\"color\": \"#2a3f5f\"}, \"error_y\": {\"color\": \"#2a3f5f\"}, \"marker\": {\"line\": {\"color\": \"#E5ECF6\", \"width\": 0.5}}, \"type\": \"bar\"}], \"barpolar\": [{\"marker\": {\"line\": {\"color\": \"#E5ECF6\", \"width\": 0.5}}, \"type\": \"barpolar\"}], \"carpet\": [{\"aaxis\": {\"endlinecolor\": \"#2a3f5f\", \"gridcolor\": \"white\", \"linecolor\": \"white\", \"minorgridcolor\": \"white\", \"startlinecolor\": \"#2a3f5f\"}, \"baxis\": {\"endlinecolor\": \"#2a3f5f\", \"gridcolor\": \"white\", \"linecolor\": \"white\", \"minorgridcolor\": \"white\", \"startlinecolor\": \"#2a3f5f\"}, \"type\": \"carpet\"}], \"choropleth\": [{\"colorbar\": {\"outlinewidth\": 0, \"ticks\": \"\"}, \"type\": \"choropleth\"}], \"contour\": [{\"colorbar\": {\"outlinewidth\": 0, \"ticks\": \"\"}, \"colorscale\": [[0.0, \"#0d0887\"], [0.1111111111111111, \"#46039f\"], [0.2222222222222222, \"#7201a8\"], [0.3333333333333333, \"#9c179e\"], [0.4444444444444444, \"#bd3786\"], [0.5555555555555556, \"#d8576b\"], [0.6666666666666666, \"#ed7953\"], [0.7777777777777778, \"#fb9f3a\"], [0.8888888888888888, \"#fdca26\"], [1.0, \"#f0f921\"]], \"type\": \"contour\"}], \"contourcarpet\": [{\"colorbar\": {\"outlinewidth\": 0, \"ticks\": \"\"}, \"type\": \"contourcarpet\"}], \"heatmap\": [{\"colorbar\": {\"outlinewidth\": 0, \"ticks\": \"\"}, \"colorscale\": [[0.0, \"#0d0887\"], [0.1111111111111111, \"#46039f\"], [0.2222222222222222, \"#7201a8\"], [0.3333333333333333, \"#9c179e\"], [0.4444444444444444, \"#bd3786\"], [0.5555555555555556, \"#d8576b\"], [0.6666666666666666, \"#ed7953\"], [0.7777777777777778, \"#fb9f3a\"], [0.8888888888888888, \"#fdca26\"], [1.0, \"#f0f921\"]], \"type\": \"heatmap\"}], \"heatmapgl\": [{\"colorbar\": {\"outlinewidth\": 0, \"ticks\": \"\"}, \"colorscale\": [[0.0, \"#0d0887\"], [0.1111111111111111, \"#46039f\"], [0.2222222222222222, \"#7201a8\"], [0.3333333333333333, \"#9c179e\"], [0.4444444444444444, \"#bd3786\"], [0.5555555555555556, \"#d8576b\"], [0.6666666666666666, \"#ed7953\"], [0.7777777777777778, \"#fb9f3a\"], [0.8888888888888888, \"#fdca26\"], [1.0, \"#f0f921\"]], \"type\": \"heatmapgl\"}], \"histogram\": [{\"marker\": {\"colorbar\": {\"outlinewidth\": 0, \"ticks\": \"\"}}, \"type\": \"histogram\"}], \"histogram2d\": [{\"colorbar\": {\"outlinewidth\": 0, \"ticks\": \"\"}, \"colorscale\": [[0.0, \"#0d0887\"], [0.1111111111111111, \"#46039f\"], [0.2222222222222222, \"#7201a8\"], [0.3333333333333333, \"#9c179e\"], [0.4444444444444444, \"#bd3786\"], [0.5555555555555556, \"#d8576b\"], [0.6666666666666666, \"#ed7953\"], [0.7777777777777778, \"#fb9f3a\"], [0.8888888888888888, \"#fdca26\"], [1.0, \"#f0f921\"]], \"type\": \"histogram2d\"}], \"histogram2dcontour\": [{\"colorbar\": {\"outlinewidth\": 0, \"ticks\": \"\"}, \"colorscale\": [[0.0, \"#0d0887\"], [0.1111111111111111, \"#46039f\"], [0.2222222222222222, \"#7201a8\"], [0.3333333333333333, \"#9c179e\"], [0.4444444444444444, \"#bd3786\"], [0.5555555555555556, \"#d8576b\"], [0.6666666666666666, \"#ed7953\"], [0.7777777777777778, \"#fb9f3a\"], [0.8888888888888888, \"#fdca26\"], [1.0, \"#f0f921\"]], \"type\": \"histogram2dcontour\"}], \"mesh3d\": [{\"colorbar\": {\"outlinewidth\": 0, \"ticks\": \"\"}, \"type\": \"mesh3d\"}], \"parcoords\": [{\"line\": {\"colorbar\": {\"outlinewidth\": 0, \"ticks\": \"\"}}, \"type\": \"parcoords\"}], \"pie\": [{\"automargin\": true, \"type\": \"pie\"}], \"scatter\": [{\"marker\": {\"colorbar\": {\"outlinewidth\": 0, \"ticks\": \"\"}}, \"type\": \"scatter\"}], \"scatter3d\": [{\"line\": {\"colorbar\": {\"outlinewidth\": 0, \"ticks\": \"\"}}, \"marker\": {\"colorbar\": {\"outlinewidth\": 0, \"ticks\": \"\"}}, \"type\": \"scatter3d\"}], \"scattercarpet\": [{\"marker\": {\"colorbar\": {\"outlinewidth\": 0, \"ticks\": \"\"}}, \"type\": \"scattercarpet\"}], \"scattergeo\": [{\"marker\": {\"colorbar\": {\"outlinewidth\": 0, \"ticks\": \"\"}}, \"type\": \"scattergeo\"}], \"scattergl\": [{\"marker\": {\"colorbar\": {\"outlinewidth\": 0, \"ticks\": \"\"}}, \"type\": \"scattergl\"}], \"scattermapbox\": [{\"marker\": {\"colorbar\": {\"outlinewidth\": 0, \"ticks\": \"\"}}, \"type\": \"scattermapbox\"}], \"scatterpolar\": [{\"marker\": {\"colorbar\": {\"outlinewidth\": 0, \"ticks\": \"\"}}, \"type\": \"scatterpolar\"}], \"scatterpolargl\": [{\"marker\": {\"colorbar\": {\"outlinewidth\": 0, \"ticks\": \"\"}}, \"type\": \"scatterpolargl\"}], \"scatterternary\": [{\"marker\": {\"colorbar\": {\"outlinewidth\": 0, \"ticks\": \"\"}}, \"type\": \"scatterternary\"}], \"surface\": [{\"colorbar\": {\"outlinewidth\": 0, \"ticks\": \"\"}, \"colorscale\": [[0.0, \"#0d0887\"], [0.1111111111111111, \"#46039f\"], [0.2222222222222222, \"#7201a8\"], [0.3333333333333333, \"#9c179e\"], [0.4444444444444444, \"#bd3786\"], [0.5555555555555556, \"#d8576b\"], [0.6666666666666666, \"#ed7953\"], [0.7777777777777778, \"#fb9f3a\"], [0.8888888888888888, \"#fdca26\"], [1.0, \"#f0f921\"]], \"type\": \"surface\"}], \"table\": [{\"cells\": {\"fill\": {\"color\": \"#EBF0F8\"}, \"line\": {\"color\": \"white\"}}, \"header\": {\"fill\": {\"color\": \"#C8D4E3\"}, \"line\": {\"color\": \"white\"}}, \"type\": \"table\"}]}, \"layout\": {\"annotationdefaults\": {\"arrowcolor\": \"#2a3f5f\", \"arrowhead\": 0, \"arrowwidth\": 1}, \"autotypenumbers\": \"strict\", \"coloraxis\": {\"colorbar\": {\"outlinewidth\": 0, \"ticks\": \"\"}}, \"colorscale\": {\"diverging\": [[0, \"#8e0152\"], [0.1, \"#c51b7d\"], [0.2, \"#de77ae\"], [0.3, \"#f1b6da\"], [0.4, \"#fde0ef\"], [0.5, \"#f7f7f7\"], [0.6, \"#e6f5d0\"], [0.7, \"#b8e186\"], [0.8, \"#7fbc41\"], [0.9, \"#4d9221\"], [1, \"#276419\"]], \"sequential\": [[0.0, \"#0d0887\"], [0.1111111111111111, \"#46039f\"], [0.2222222222222222, \"#7201a8\"], [0.3333333333333333, \"#9c179e\"], [0.4444444444444444, \"#bd3786\"], [0.5555555555555556, \"#d8576b\"], [0.6666666666666666, \"#ed7953\"], [0.7777777777777778, \"#fb9f3a\"], [0.8888888888888888, \"#fdca26\"], [1.0, \"#f0f921\"]], \"sequentialminus\": [[0.0, \"#0d0887\"], [0.1111111111111111, \"#46039f\"], [0.2222222222222222, \"#7201a8\"], [0.3333333333333333, \"#9c179e\"], [0.4444444444444444, \"#bd3786\"], [0.5555555555555556, \"#d8576b\"], [0.6666666666666666, \"#ed7953\"], [0.7777777777777778, \"#fb9f3a\"], [0.8888888888888888, \"#fdca26\"], [1.0, \"#f0f921\"]]}, \"colorway\": [\"#636efa\", \"#EF553B\", \"#00cc96\", \"#ab63fa\", \"#FFA15A\", \"#19d3f3\", \"#FF6692\", \"#B6E880\", \"#FF97FF\", \"#FECB52\"], \"font\": {\"color\": \"#2a3f5f\"}, \"geo\": {\"bgcolor\": \"white\", \"lakecolor\": \"white\", \"landcolor\": \"#E5ECF6\", \"showlakes\": true, \"showland\": true, \"subunitcolor\": \"white\"}, \"hoverlabel\": {\"align\": \"left\"}, \"hovermode\": \"closest\", \"mapbox\": {\"style\": \"light\"}, \"paper_bgcolor\": \"white\", \"plot_bgcolor\": \"#E5ECF6\", \"polar\": {\"angularaxis\": {\"gridcolor\": \"white\", \"linecolor\": \"white\", \"ticks\": \"\"}, \"bgcolor\": \"#E5ECF6\", \"radialaxis\": {\"gridcolor\": \"white\", \"linecolor\": \"white\", \"ticks\": \"\"}}, \"scene\": {\"xaxis\": {\"backgroundcolor\": \"#E5ECF6\", \"gridcolor\": \"white\", \"gridwidth\": 2, \"linecolor\": \"white\", \"showbackground\": true, \"ticks\": \"\", \"zerolinecolor\": \"white\"}, \"yaxis\": {\"backgroundcolor\": \"#E5ECF6\", \"gridcolor\": \"white\", \"gridwidth\": 2, \"linecolor\": \"white\", \"showbackground\": true, \"ticks\": \"\", \"zerolinecolor\": \"white\"}, \"zaxis\": {\"backgroundcolor\": \"#E5ECF6\", \"gridcolor\": \"white\", \"gridwidth\": 2, \"linecolor\": \"white\", \"showbackground\": true, \"ticks\": \"\", \"zerolinecolor\": \"white\"}}, \"shapedefaults\": {\"line\": {\"color\": \"#2a3f5f\"}}, \"ternary\": {\"aaxis\": {\"gridcolor\": \"white\", \"linecolor\": \"white\", \"ticks\": \"\"}, \"baxis\": {\"gridcolor\": \"white\", \"linecolor\": \"white\", \"ticks\": \"\"}, \"bgcolor\": \"#E5ECF6\", \"caxis\": {\"gridcolor\": \"white\", \"linecolor\": \"white\", \"ticks\": \"\"}}, \"title\": {\"x\": 0.05}, \"xaxis\": {\"automargin\": true, \"gridcolor\": \"white\", \"linecolor\": \"white\", \"ticks\": \"\", \"title\": {\"standoff\": 15}, \"zerolinecolor\": \"white\", \"zerolinewidth\": 2}, \"yaxis\": {\"automargin\": true, \"gridcolor\": \"white\", \"linecolor\": \"white\", \"ticks\": \"\", \"title\": {\"standoff\": 15}, \"zerolinecolor\": \"white\", \"zerolinewidth\": 2}}}, \"title\": {\"text\": \"$V_{p}$\", \"x\": 0.5, \"xanchor\": \"center\"}, \"xaxis\": {\"title\": {\"text\": \"$\\\\textrm{True }K^{trans}_{RR}$\"}}, \"yaxis\": {\"range\": [-80, 240], \"showline\": true, \"tickvals\": [-80, -40, 0, 40, 80, 120, 160, 200, 240], \"title\": {\"text\": \"$Percent Error$\"}}},                        {\"responsive\": true}                    ).then(function(){\n",
       "                            \n",
       "var gd = document.getElementById('879cee8b-5481-4dbc-a4f6-9757d66e358f');\n",
       "var x = new MutationObserver(function (mutations, observer) {{\n",
       "        var display = window.getComputedStyle(gd).display;\n",
       "        if (!display || display === 'none') {{\n",
       "            console.log([gd, 'removed!']);\n",
       "            Plotly.purge(gd);\n",
       "            observer.disconnect();\n",
       "        }}\n",
       "}});\n",
       "\n",
       "// Listen for the removal of the full notebook cells\n",
       "var notebookContainer = gd.closest('#notebook-container');\n",
       "if (notebookContainer) {{\n",
       "    x.observe(notebookContainer, {childList: true});\n",
       "}}\n",
       "\n",
       "// Listen for the clearing of the current output cell\n",
       "var outputEl = gd.closest('.output');\n",
       "if (outputEl) {{\n",
       "    x.observe(outputEl, {childList: true});\n",
       "}}\n",
       "\n",
       "                        })                };                });            </script>        </div>"
      ]
     },
     "metadata": {},
     "output_type": "display_data"
    }
   ],
   "source": [
    "# THESE IMPORTS ARE PROBABLY NOT NEEDED BUT IT SEEMS TO NOT ALWAYS WORK FOR ME IF I LEAVE THEM OUT\n",
    "\n",
    "file = loadmat('fig4vars.mat')\n",
    "\n",
    "trueKtRR = np.squeeze(np.asarray(np.reshape(file['trueKtRR'], 9)))\n",
    "\n",
    "Vp_ci1 = file['Vp_ci1']\n",
    "Vp_ci2 = file['Vp_ci2']\n",
    "Vp_ci3 = file['Vp_ci3']\n",
    "\n",
    "Vp_avg1 = np.squeeze(np.asarray(np.reshape(file['Vp_avg1'], 9)))\n",
    "Vp_avg2 = np.squeeze(np.asarray(np.reshape(file['Vp_avg2'], 9)))\n",
    "Vp_avg3 = np.squeeze(np.asarray(np.reshape(file['Vp_avg3'], 9)))\n",
    "\n",
    "fig = go.Figure()\n",
    "\n",
    "legend_values=cycle(['ETM','RRIFT','RRM w/ fixed RR params'])\n",
    "line_colours = cycle(['#bfbfbf', '#292447', '#e45947'])\n",
    "\n",
    "Vp_ci = [Vp_ci3, Vp_ci2, Vp_ci1]\n",
    "Vp_avg = [Vp_avg3, Vp_avg2, Vp_avg1]\n",
    "\n",
    "for i in range(0,3):\n",
    "    ci_values_negative = np.squeeze(np.asarray(np.reshape(Vp_ci[i][:,0], 9)))\n",
    "    ci_values_positive = np.squeeze(np.asarray(np.reshape(Vp_ci[i][:,1], 9)))\n",
    "    negative = Vp_avg[i]-ci_values_negative\n",
    "    positive = ci_values_positive-Vp_avg[i]\n",
    "    fig.add_trace(go.Scatter(\n",
    "        x=trueKtRR,\n",
    "        y=Vp_avg[i],\n",
    "        visible=False,\n",
    "        error_y=dict(\n",
    "            type='data', # value of error bar given in data coordinates\n",
    "            array=positive,\n",
    "            arrayminus=negative,\n",
    "            symmetric=False,\n",
    "            visible=True,\n",
    "            thickness=4),\n",
    "        name=next(legend_values),\n",
    "        legendgroup=i,\n",
    "        line_color=next(line_colours),\n",
    "        line_width=4\n",
    "    ))\n",
    "    \n",
    "\n",
    "# Default value on the slider    \n",
    "        \n",
    "fig.data[0].visible = True\n",
    "\n",
    "\n",
    "# Create and add slider\n",
    "steps = []\n",
    "for i in range(len(fig.data)):\n",
    "    step = dict(\n",
    "        method=\"update\",\n",
    "        args=[{\"visible\": [False] * len(fig.data)}],\n",
    "        value=next(legend_values),\n",
    "        label=next(legend_values)\n",
    "    )\n",
    "    step[\"args\"][0][\"visible\"][i] = True  # Toggle i'th trace to \"visible\"\n",
    "    steps.append(step)\n",
    "\n",
    "sliders = [dict(\n",
    "    active=3,\n",
    "    currentvalue={\"prefix\": \"Value: \"},\n",
    "    pad={\"t\": 70}, #upper padding \n",
    "    steps=steps\n",
    ")]\n",
    "\n",
    "\n",
    "fig.update_xaxes(title_text=r'$\\textrm{True }K^{trans}_{RR}$')\n",
    "fig.update_layout(title=dict(text=r'$V_{p}$',\n",
    "                             x=0.5,\n",
    "                             xanchor='center'),\n",
    "                  yaxis=dict(title=r'$Percent Error$',\n",
    "                             showline=True,\n",
    "                             range=[-80, 240],\n",
    "                             tickvals=[-80, -40, 0, 40, 80, 120, 160, 200, 240]\n",
    "                             ), \n",
    "                  plot_bgcolor='#ffffff',\n",
    "                  legend=dict(yanchor='bottom', y=0.20, xanchor='right', x=0.30),\n",
    "                  sliders=sliders\n",
    ")\n",
    "\n",
    "\n",
    "fig.show()"
   ]
  },
  {
   "cell_type": "markdown",
   "metadata": {
    "kernel": "SoS"
   },
   "source": [
    "# Figure 7"
   ]
  },
  {
   "cell_type": "code",
   "execution_count": 64,
   "metadata": {
    "kernel": "SoS"
   },
   "outputs": [
    {
     "data": {
      "application/vnd.plotly.v1+json": {
       "config": {
        "plotlyServerURL": "https://plot.ly"
       },
       "data": [
        {
         "line": {
          "color": "#e3988b"
         },
         "name": "Blood plasma",
         "showlegend": false,
         "type": "scatter",
         "visible": true,
         "x": [
          0.08975,
          0.1795,
          0.26925,
          0.359,
          0.44875,
          0.5385,
          0.62825,
          0.718,
          0.80775,
          0.8975,
          0.98725,
          1.077,
          1.16675,
          1.2565,
          1.34625,
          1.436,
          1.52575,
          1.6155,
          1.70525,
          1.795,
          1.88475,
          1.9745,
          2.06425,
          2.154,
          2.24375,
          2.3335,
          2.42325,
          2.513,
          2.60275,
          2.6925,
          2.78225,
          2.872,
          2.96175,
          3.0515,
          3.14125,
          3.231,
          3.32075,
          3.4105,
          3.50025,
          3.59,
          3.67975,
          3.7695,
          3.85925,
          3.949,
          4.03875,
          4.1285,
          4.21825,
          4.308,
          4.39775,
          4.4875,
          4.57725,
          4.667,
          4.75675,
          4.8465,
          4.93625,
          5.026,
          5.11575,
          5.2055,
          5.29525,
          5.385,
          5.47475,
          5.5645,
          5.65425,
          5.744,
          5.83375,
          5.9235,
          6.01325,
          6.103,
          6.19275,
          6.2825
         ],
         "xaxis": "x",
         "y": [
          0,
          0.017472052946686745,
          0,
          0.02802363969385624,
          0.03596245124936104,
          0,
          0.4320945739746094,
          5.349015235900879,
          7.170814514160156,
          2.6414613723754883,
          1.9356606006622314,
          2.8632264137268066,
          2.9101641178131104,
          2.6804256439208984,
          2.510544538497925,
          2.5809497833251953,
          2.521298885345459,
          2.3370227813720703,
          2.2303218841552734,
          2.170596122741699,
          2.0633745193481445,
          2.0585691928863525,
          1.987188458442688,
          2.1410651206970215,
          1.982475757598877,
          1.9263651371002197,
          1.968371868133545,
          1.7761495113372803,
          1.8165353536605835,
          1.839158535003662,
          1.7538973093032837,
          1.7895638942718506,
          1.7406084537506104,
          1.6445672512054443,
          1.6273672580718994,
          1.6316598653793335,
          1.6748595237731934,
          1.7538973093032837,
          1.6059786081314087,
          1.7010211944580078,
          1.4843122959136963,
          1.4107842445373535,
          1.4269952774047852,
          1.4760686159133911,
          1.51747465133667,
          1.3506343364715576,
          1.3585963249206543,
          1.334763526916504,
          1.354613184928894,
          1.4188807010650635,
          1.4229357242584229,
          1.3387246131896973,
          1.354613184928894,
          1.3189626932144165,
          1.4188807010650635,
          1.366576075553894,
          1.354613184928894,
          1.3308067321777344,
          1.2719773054122925,
          1.366576075553894,
          1.2797651290893555,
          1.4269952774047852,
          1.3032317161560059,
          1.3032317161560059,
          1.2642065286636353,
          1.2875701189041138,
          1.2564529180526733,
          1.2409963607788086,
          1.2953922748565674,
          1.2642065286636353
         ],
         "yaxis": "y"
        },
        {
         "line": {
          "color": "#97d6d0"
         },
         "name": "Muscle",
         "showlegend": false,
         "type": "scatter",
         "visible": true,
         "x": [
          0.08975,
          0.1795,
          0.26925,
          0.359,
          0.44875,
          0.5385,
          0.62825,
          0.718,
          0.80775,
          0.8975,
          0.98725,
          1.077,
          1.16675,
          1.2565,
          1.34625,
          1.436,
          1.52575,
          1.6155,
          1.70525,
          1.795,
          1.88475,
          1.9745,
          2.06425,
          2.154,
          2.24375,
          2.3335,
          2.42325,
          2.513,
          2.60275,
          2.6925,
          2.78225,
          2.872,
          2.96175,
          3.0515,
          3.14125,
          3.231,
          3.32075,
          3.4105,
          3.50025,
          3.59,
          3.67975,
          3.7695,
          3.85925,
          3.949,
          4.03875,
          4.1285,
          4.21825,
          4.308,
          4.39775,
          4.4875,
          4.57725,
          4.667,
          4.75675,
          4.8465,
          4.93625,
          5.026,
          5.11575,
          5.2055,
          5.29525,
          5.385,
          5.47475,
          5.5645,
          5.65425,
          5.744,
          5.83375,
          5.9235,
          6.01325,
          6.103,
          6.19275,
          6.2825
         ],
         "xaxis": "x2",
         "y": [
          0.0047050099819898605,
          0,
          0,
          0,
          0.00835740752518177,
          0,
          0.012921667657792568,
          0.0656864196062088,
          0.18880195915699005,
          0.21879874169826508,
          0.22300012409687042,
          0.22378584742546082,
          0.25339406728744507,
          0.246176078915596,
          0.26915663480758667,
          0.26894548535346985,
          0.26993584632873535,
          0.302339643239975,
          0.29522061347961426,
          0.2980956435203552,
          0.30253535509109497,
          0.3044607639312744,
          0.3062775731086731,
          0.31328442692756653,
          0.3110545873641968,
          0.31186193227767944,
          0.30848363041877747,
          0.313495010137558,
          0.31490272283554077,
          0.31324198842048645,
          0.323098361492157,
          0.3170599639415741,
          0.322836309671402,
          0.32015880942344666,
          0.31530511379241943,
          0.32534047961235046,
          0.31918761134147644,
          0.32226264476776123,
          0.3297136425971985,
          0.3186839818954468,
          0.3200828731060028,
          0.3142687976360321,
          0.32298216223716736,
          0.3152759075164795,
          0.31549832224845886,
          0.3187639117240906,
          0.31228548288345337,
          0.31845352053642273,
          0.31804710626602173,
          0.3088154196739197,
          0.31871065497398376,
          0.3082126975059509,
          0.3137056231498718,
          0.3000185787677765,
          0.3135331869125366,
          0.306112676858902,
          0.31271058320999146,
          0.3139374554157257,
          0.3147488534450531,
          0.3139794170856476,
          0.3087445795536041,
          0.3134000301361084,
          0.3204634487628937,
          0.31966152787208557,
          0.31449776887893677,
          0.30956608057022095,
          0.3186933994293213,
          0.3117903172969818,
          0.3236398994922638,
          0.308078795671463
         ],
         "yaxis": "y2"
        },
        {
         "marker": {
          "color": "red",
          "size": 14,
          "symbol": "circle-open"
         },
         "mode": "markers",
         "name": "RRIFT fit",
         "showlegend": false,
         "type": "scatter",
         "visible": true,
         "x": [
          0,
          0.1519097536802292,
          0.2987378239631653,
          0.44498664140701294,
          0.5933666825294495,
          0.7472321391105652,
          0.8980065584182739,
          1.0464081764221191,
          1.1893500089645386,
          1.3192675113677979,
          1.44661283493042,
          1.576887845993042,
          1.7112231254577637,
          1.8399295806884766,
          1.9615063667297363,
          2.0823709964752197,
          2.203056812286377,
          2.32751727104187,
          2.4550437927246094,
          2.5789732933044434,
          2.6998367309570312,
          2.8198134899139404,
          2.942674160003662,
          3.067671537399292,
          3.1897850036621094,
          3.310293197631836,
          3.427093029022217,
          3.5454981327056885,
          3.664252758026123,
          3.7857186794281006,
          3.9082376956939697,
          4.025202751159668,
          4.140416622161865,
          4.254927635192871,
          4.369090557098389,
          4.481163501739502,
          4.59498405456543,
          4.709846019744873
         ],
         "xaxis": "x3",
         "y": [
          0,
          0.014901384251287328,
          0.027420677275869956,
          0.05497069376261262,
          0.06643862000623534,
          0.08705030282424059,
          0.11232572188407142,
          0.11902264512060022,
          0.13788482404914373,
          0.14941332929358578,
          0.175548538459283,
          0.1852916617442995,
          0.2027588533040498,
          0.22336457837655893,
          0.23413844911284384,
          0.25755030053829353,
          0.2745452174288609,
          0.2824513653446071,
          0.30950257595289343,
          0.31614411593335845,
          0.3386397061420768,
          0.3417313067908914,
          0.3720198457212905,
          0.3815398733890079,
          0.405055828246452,
          0.42341467107769487,
          0.4414137641322603,
          0.45783316999085827,
          0.4696230234506191,
          0.4912873251282256,
          0.5156799777615447,
          0.5323784743625322,
          0.5445520367590079,
          0.5566816697633721,
          0.5829850145462978,
          0.5933187668872694,
          0.622540416236018,
          0.6242499100426578
         ],
         "yaxis": "y3"
        },
        {
         "line": {
          "color": "black"
         },
         "mode": "lines",
         "name": "RRIFT",
         "showlegend": false,
         "type": "scatter",
         "visible": true,
         "x": [
          0,
          0.1519097536802292,
          0.2987378239631653,
          0.44498664140701294,
          0.5933666825294495,
          0.7472321391105652,
          0.8980065584182739,
          1.0464081764221191,
          1.1893500089645386,
          1.3192675113677979,
          1.44661283493042,
          1.576887845993042,
          1.7112231254577637,
          1.8399295806884766,
          1.9615063667297363,
          2.0823709964752197,
          2.203056812286377,
          2.32751727104187,
          2.4550437927246094,
          2.5789732933044434,
          2.6998367309570312,
          2.8198134899139404,
          2.942674160003662,
          3.067671537399292,
          3.1897850036621094,
          3.310293197631836,
          3.427093029022217,
          3.5454981327056885,
          3.664252758026123,
          3.7857186794281006,
          3.9082376956939697,
          4.025202751159668,
          4.140416622161865,
          4.254927635192871,
          4.369090557098389,
          4.481163501739502,
          4.59498405456543,
          4.709846019744873
         ],
         "xaxis": "x3",
         "y": [
          -0.018971234508973294,
          0.0015080411694454975,
          0.021302244344734076,
          0.04101835721777537,
          0.06102178486941916,
          0.08176471299859926,
          0.10209093184532195,
          0.12209726832205396,
          0.14136755955547048,
          0.1588820132538722,
          0.17604970607421672,
          0.19361235627228446,
          0.2117223798543549,
          0.2290735697181094,
          0.2454635937759204,
          0.2617576105349635,
          0.2780275210087452,
          0.2948062990935388,
          0.31199841961628155,
          0.3287056181047055,
          0.3449994741551803,
          0.361173795172472,
          0.37773690235846,
          0.39458806358246523,
          0.41105043863777413,
          0.42729640353486287,
          0.4430424362173433,
          0.459004879058044,
          0.4750144416510023,
          0.4913895198119512,
          0.507906567922233,
          0.523674874812295,
          0.5392071008153635,
          0.5546445730464977,
          0.5700351183756563,
          0.5851439094426795,
          0.6004882992709909,
          0.6159730841046648
         ],
         "yaxis": "y3"
        },
        {
         "line": {
          "color": "#e3988b"
         },
         "name": "Blood plasma",
         "showlegend": false,
         "type": "scatter",
         "visible": false,
         "x": [
          0.08833333333333333,
          0.17666666666666667,
          0.265,
          0.35333333333333333,
          0.4416666666666667,
          0.53,
          0.6183333333333334,
          0.7066666666666667,
          0.795,
          0.8833333333333334,
          0.9716666666666667,
          1.06,
          1.1483333333333332,
          1.2366666666666668,
          1.325,
          1.4133333333333333,
          1.5016666666666667,
          1.59,
          1.6783333333333332,
          1.7666666666666668,
          1.855,
          1.9433333333333334,
          2.0316666666666667,
          2.12,
          2.2083333333333335,
          2.2966666666666664,
          2.385,
          2.4733333333333336,
          2.5616666666666665,
          2.65,
          2.7383333333333333,
          2.8266666666666667,
          2.915,
          3.0033333333333334,
          3.0916666666666663,
          3.18,
          3.2683333333333335,
          3.3566666666666665,
          3.445,
          3.5333333333333337,
          3.6216666666666666,
          3.71,
          3.7983333333333333,
          3.8866666666666667,
          3.975,
          4.0633333333333335,
          4.151666666666667,
          4.24,
          4.328333333333333,
          4.416666666666667,
          4.505,
          4.593333333333333,
          4.681666666666667,
          4.77,
          4.858333333333333,
          4.946666666666667,
          5.035,
          5.123333333333333,
          5.211666666666667,
          5.3,
          5.388333333333333,
          5.476666666666667,
          5.565,
          5.653333333333333,
          5.741666666666667,
          5.83,
          5.918333333333333,
          6.006666666666667,
          6.095,
          6.183333333333333
         ],
         "xaxis": "x",
         "y": [
          0.01934405043721199,
          0.024686969816684723,
          0,
          0.03003949299454689,
          0.024686969816684723,
          0,
          0.3757971525192261,
          4.950164318084717,
          6.739410400390625,
          2.4474008083343506,
          1.866156816482544,
          2.8004515171051025,
          2.3017685413360596,
          2.1908488273620605,
          2.281376361846924,
          2.1611151695251465,
          2.131598472595215,
          1.9871890544891357,
          1.9122669696807861,
          1.940195918083191,
          1.7755451202392578,
          1.8387502431869507,
          1.7576748132705688,
          1.7576748132705688,
          1.6435102224349976,
          1.5919551849365234,
          1.5834307670593262,
          1.5410974025726318,
          1.5749257802963257,
          1.5664399862289429,
          1.466087818145752,
          1.408780574798584,
          1.515925645828247,
          1.4578462839126587,
          1.4909229278564453,
          1.2810702323913574,
          1.474347710609436,
          1.4992384910583496,
          1.5075727701187134,
          1.408780574798584,
          1.3363921642303467,
          1.4826260805130005,
          1.3204994201660156,
          1.135072112083435,
          1.376430630683899,
          1.242067575454712,
          1.2810702323913574,
          1.296790361404419,
          1.3443646430969238,
          1.3844913244247437,
          1.1958179473876953,
          1.408780574798584,
          1.4826260805130005,
          1.2343177795410156,
          1.226584553718567,
          1.2889217138290405,
          1.249834418296814,
          1.2343177795410156,
          1.242067575454712,
          1.1200470924377441,
          1.127551555633545,
          1.009365439414978,
          1.142608642578125,
          1.105085849761963,
          1.1958179473876953,
          1.097629189491272,
          1.0753533840179443,
          1.142608642578125,
          1.242067575454712,
          1.27323579788208
         ],
         "yaxis": "y"
        },
        {
         "line": {
          "color": "#97d6d0"
         },
         "name": "Muscle",
         "showlegend": false,
         "type": "scatter",
         "visible": false,
         "x": [
          0.08833333333333333,
          0.17666666666666667,
          0.265,
          0.35333333333333333,
          0.4416666666666667,
          0.53,
          0.6183333333333334,
          0.7066666666666667,
          0.795,
          0.8833333333333334,
          0.9716666666666667,
          1.06,
          1.1483333333333332,
          1.2366666666666668,
          1.325,
          1.4133333333333333,
          1.5016666666666667,
          1.59,
          1.6783333333333332,
          1.7666666666666668,
          1.855,
          1.9433333333333334,
          2.0316666666666667,
          2.12,
          2.2083333333333335,
          2.2966666666666664,
          2.385,
          2.4733333333333336,
          2.5616666666666665,
          2.65,
          2.7383333333333333,
          2.8266666666666667,
          2.915,
          3.0033333333333334,
          3.0916666666666663,
          3.18,
          3.2683333333333335,
          3.3566666666666665,
          3.445,
          3.5333333333333337,
          3.6216666666666666,
          3.71,
          3.7983333333333333,
          3.8866666666666667,
          3.975,
          4.0633333333333335,
          4.151666666666667,
          4.24,
          4.328333333333333,
          4.416666666666667,
          4.505,
          4.593333333333333,
          4.681666666666667,
          4.77,
          4.858333333333333,
          4.946666666666667,
          5.035,
          5.123333333333333,
          5.211666666666667,
          5.3,
          5.388333333333333,
          5.476666666666667,
          5.565,
          5.653333333333333,
          5.741666666666667,
          5.83,
          5.918333333333333,
          6.006666666666667,
          6.095,
          6.183333333333333
         ],
         "xaxis": "x2",
         "y": [
          0,
          0.0001929859135998413,
          0.00018892224761657417,
          0.0027939199935644865,
          0,
          0.0034573026932775974,
          0.01511294674128294,
          0.03116619773209095,
          0.07431650906801224,
          0.11985568702220917,
          0.13575543463230133,
          0.14578744769096375,
          0.152150958776474,
          0.15124298632144928,
          0.16109274327754974,
          0.1706756055355072,
          0.17375755310058594,
          0.1772954761981964,
          0.18291494250297546,
          0.18103057146072388,
          0.18263420462608337,
          0.19016733765602112,
          0.18855905532836914,
          0.1934431940317154,
          0.1935666799545288,
          0.1959928274154663,
          0.1878025084733963,
          0.19912926852703094,
          0.19723671674728394,
          0.1978335976600647,
          0.20072507858276367,
          0.20050650835037231,
          0.19614925980567932,
          0.20045271515846252,
          0.2020161896944046,
          0.20079495012760162,
          0.2021753042936325,
          0.20394007861614227,
          0.20244039595127106,
          0.20375609397888184,
          0.21458083391189575,
          0.20751425623893738,
          0.2084447145462036,
          0.2083146721124649,
          0.20677867531776428,
          0.20781296491622925,
          0.21160724759101868,
          0.20928436517715454,
          0.21061807870864868,
          0.21264705061912537,
          0.2081226259469986,
          0.21335245668888092,
          0.21752652525901794,
          0.2133946269750595,
          0.21145150065422058,
          0.21088272333145142,
          0.21570643782615662,
          0.20787282288074493,
          0.21351325511932373,
          0.20673836767673492,
          0.21300427615642548,
          0.2122592180967331,
          0.20446348190307617,
          0.21025793254375458,
          0.21116042137145996,
          0.21212270855903625,
          0.21324898302555084,
          0.21858243644237518,
          0.2084697186946869,
          0.21565814316272736
         ],
         "yaxis": "y2"
        },
        {
         "marker": {
          "color": "red",
          "size": 14,
          "symbol": "circle-open"
         },
         "mode": "markers",
         "name": "RRIFT fit",
         "showlegend": false,
         "type": "scatter",
         "visible": false,
         "x": [
          0,
          0.1313415914773941,
          0.26157888770103455,
          0.38400858640670776,
          0.5057061910629272,
          0.6370395421981812,
          0.7698403596878052,
          0.8986459970474243,
          1.0198911428451538,
          1.1443977355957031,
          1.2682024240493774,
          1.3766568899154663,
          1.4875816106796265,
          1.6032319068908691,
          1.7146705389022827,
          1.8285260200500488,
          1.9451770782470703,
          2.065701484680176,
          2.1796650886535645,
          2.29470157623291,
          2.422405242919922,
          2.5424036979675293,
          2.6510934829711914,
          2.762195110321045,
          2.874323606491089,
          2.9840402603149414,
          3.093413829803467,
          3.1977405548095703,
          3.2970094680786133,
          3.391390085220337,
          3.486435651779175,
          3.5857088565826416,
          3.6873321533203125,
          3.788625955581665,
          3.884599447250366,
          3.9825594425201416,
          4.0878825187683105,
          4.198975086212158
         ],
         "xaxis": "x3",
         "y": [
          0,
          0.011823164509474975,
          0.02101758720037627,
          0.027433784680655243,
          0.03645459276101608,
          0.04591945371021527,
          0.052124883900572815,
          0.0611422063717331,
          0.07989875760630946,
          0.08083524727735218,
          0.08965243000575604,
          0.0974242881520076,
          0.10375860326343186,
          0.11265369222790426,
          0.12440032565126859,
          0.13005769223841798,
          0.13935289979043683,
          0.14940712338807965,
          0.1528606357648508,
          0.16608177829609316,
          0.17842545980442245,
          0.18246397402171222,
          0.18857607565683038,
          0.19601489973739897,
          0.20892689070019876,
          0.20912448348039256,
          0.22275453994998046,
          0.2239477670795387,
          0.23817213971607465,
          0.24549022302634482,
          0.2455956918210726,
          0.2592534023912406,
          0.2681461274123506,
          0.27713400758468015,
          0.28632547487958465,
          0.29984659977589107,
          0.29783093702057756,
          0.3130609708797604
         ],
         "yaxis": "y3"
        },
        {
         "line": {
          "color": "black"
         },
         "mode": "lines",
         "name": "RRIFT",
         "showlegend": false,
         "type": "scatter",
         "visible": false,
         "x": [
          0,
          0.1313415914773941,
          0.26157888770103455,
          0.38400858640670776,
          0.5057061910629272,
          0.6370395421981812,
          0.7698403596878052,
          0.8986459970474243,
          1.0198911428451538,
          1.1443977355957031,
          1.2682024240493774,
          1.3766568899154663,
          1.4875816106796265,
          1.6032319068908691,
          1.7146705389022827,
          1.8285260200500488,
          1.9451770782470703,
          2.065701484680176,
          2.1796650886535645,
          2.29470157623291,
          2.422405242919922,
          2.5424036979675293,
          2.6510934829711914,
          2.762195110321045,
          2.874323606491089,
          2.9840402603149414,
          3.093413829803467,
          3.1977405548095703,
          3.2970094680786133,
          3.391390085220337,
          3.486435651779175,
          3.5857088565826416,
          3.6873321533203125,
          3.788625955581665,
          3.884599447250366,
          3.9825594425201416,
          4.0878825187683105,
          4.198975086212158
         ],
         "xaxis": "x3",
         "y": [
          -0.0018584140127595582,
          0.007734678420931484,
          0.017247113948274863,
          0.026189288343311135,
          0.03507799113192353,
          0.04467048169713599,
          0.05437015491654393,
          0.06377802314223074,
          0.07263367867137938,
          0.0817275478671514,
          0.09077015049363804,
          0.09869158424662444,
          0.1067934435853329,
          0.11524045545003345,
          0.12337985048510557,
          0.1316957703886715,
          0.14021587716661096,
          0.14901889042709462,
          0.15734270754165613,
          0.16574488727910627,
          0.17507226838412834,
          0.18383686654548037,
          0.19177548783375367,
          0.19989026829828066,
          0.2080800504998702,
          0.21609367352520603,
          0.2240822379251337,
          0.23170218454699318,
          0.2389527123506394,
          0.24584620263048873,
          0.25278826032261287,
          0.26003910157675064,
          0.2674615918028469,
          0.2748600159967583,
          0.281869848650723,
          0.28902477405444504,
          0.2967174934320938,
          0.30483161216780524
         ],
         "yaxis": "y3"
        },
        {
         "line": {
          "color": "#e3988b"
         },
         "name": "Blood plasma",
         "showlegend": false,
         "type": "scatter",
         "visible": false,
         "x": [
          0.09221666666666667,
          0.18443333333333334,
          0.27664999999999995,
          0.3688666666666667,
          0.4610833333333333,
          0.5532999999999999,
          0.6455166666666666,
          0.7377333333333334,
          0.8299500000000001,
          0.9221666666666666,
          1.0143833333333334,
          1.1065999999999998,
          1.1988166666666666,
          1.2910333333333333,
          1.38325,
          1.4754666666666667,
          1.5676833333333333,
          1.6599000000000002,
          1.7521166666666665,
          1.8443333333333332,
          1.93655,
          2.028766666666667,
          2.120983333333333,
          2.2131999999999996,
          2.3054166666666664,
          2.3976333333333333,
          2.48985,
          2.5820666666666665,
          2.6742833333333333,
          2.7665,
          2.8587166666666666,
          2.9509333333333334,
          3.0431500000000002,
          3.1353666666666666,
          3.2275833333333335,
          3.3198000000000003,
          3.4120166666666667,
          3.504233333333333,
          3.59645,
          3.6886666666666663,
          3.780883333333333,
          3.8731,
          3.965316666666667,
          4.057533333333334,
          4.14975,
          4.241966666666666,
          4.334183333333334,
          4.426399999999999,
          4.5186166666666665,
          4.610833333333333,
          4.70305,
          4.795266666666667,
          4.887483333333334,
          4.9797,
          5.071916666666667,
          5.164133333333333,
          5.25635,
          5.348566666666667,
          5.440783333333334,
          5.533,
          5.625216666666666,
          5.717433333333333,
          5.8096499999999995,
          5.901866666666667,
          5.994083333333333,
          6.0863000000000005,
          6.178516666666666,
          6.270733333333333,
          6.36295,
          6.455166666666667
         ],
         "xaxis": "x",
         "y": [
          0,
          0,
          0.0036726745311170816,
          1.0314891338348389,
          2.095207691192627,
          4.838740348815918,
          3.365403890609741,
          1.7209243774414062,
          1.9844450950622559,
          2.221430540084839,
          2.2675132751464844,
          2.178901195526123,
          2.0922515392303467,
          2.101126194000244,
          2.1910054683685303,
          2.083397150039673,
          2.0804502964019775,
          2.0922515392303467,
          1.9501229524612427,
          1.9529714584350586,
          1.910468578338623,
          1.8628696203231812,
          1.9161081314086914,
          1.85453200340271,
          1.8131200075149536,
          1.780318021774292,
          1.8712258338928223,
          1.910468578338623,
          1.8796006441116333,
          1.9415905475616455,
          1.85453200340271,
          1.8628696203231812,
          1.74510657787323,
          1.769448161125183,
          1.7343393564224243,
          1.7748790979385376,
          1.7155718803405762,
          1.7397191524505615,
          1.7721625566482544,
          1.79121994972229,
          1.6862722635269165,
          1.673031210899353,
          1.651944637298584,
          1.7075577974319458,
          1.63620924949646,
          1.6493173837661743,
          1.599755883216858,
          1.5919917821884155,
          1.543203353881836,
          1.599755883216858,
          1.5228568315505981,
          1.553419828414917,
          1.5228568315505981,
          1.5051480531692505,
          1.437653660774231,
          1.4900383949279785,
          1.4774956703186035,
          1.4575189352035522,
          1.4401307106018066,
          1.4080634117126465,
          1.4228276014328003,
          1.4500564336776733,
          1.487526297569275,
          1.3544514179229736,
          1.3689919710159302,
          1.330350637435913,
          1.332753300666809,
          1.3641383647918701,
          1.3064152002334595,
          1.2992665767669678
         ],
         "yaxis": "y"
        },
        {
         "line": {
          "color": "#97d6d0"
         },
         "name": "Muscle",
         "showlegend": false,
         "type": "scatter",
         "visible": false,
         "x": [
          0.09221666666666667,
          0.18443333333333334,
          0.27664999999999995,
          0.3688666666666667,
          0.4610833333333333,
          0.5532999999999999,
          0.6455166666666666,
          0.7377333333333334,
          0.8299500000000001,
          0.9221666666666666,
          1.0143833333333334,
          1.1065999999999998,
          1.1988166666666666,
          1.2910333333333333,
          1.38325,
          1.4754666666666667,
          1.5676833333333333,
          1.6599000000000002,
          1.7521166666666665,
          1.8443333333333332,
          1.93655,
          2.028766666666667,
          2.120983333333333,
          2.2131999999999996,
          2.3054166666666664,
          2.3976333333333333,
          2.48985,
          2.5820666666666665,
          2.6742833333333333,
          2.7665,
          2.8587166666666666,
          2.9509333333333334,
          3.0431500000000002,
          3.1353666666666666,
          3.2275833333333335,
          3.3198000000000003,
          3.4120166666666667,
          3.504233333333333,
          3.59645,
          3.6886666666666663,
          3.780883333333333,
          3.8731,
          3.965316666666667,
          4.057533333333334,
          4.14975,
          4.241966666666666,
          4.334183333333334,
          4.426399999999999,
          4.5186166666666665,
          4.610833333333333,
          4.70305,
          4.795266666666667,
          4.887483333333334,
          4.9797,
          5.071916666666667,
          5.164133333333333,
          5.25635,
          5.348566666666667,
          5.440783333333334,
          5.533,
          5.625216666666666,
          5.717433333333333,
          5.8096499999999995,
          5.901866666666667,
          5.994083333333333,
          6.0863000000000005,
          6.178516666666666,
          6.270733333333333,
          6.36295,
          6.455166666666667
         ],
         "xaxis": "x2",
         "y": [
          0,
          0,
          0.007417201995849609,
          0.02712368778884411,
          0.05626682937145233,
          0.08165822178125381,
          0.10559486597776413,
          0.12933121621608734,
          0.14075158536434174,
          0.16257068514823914,
          0.15702487528324127,
          0.16140684485435486,
          0.1861266940832138,
          0.18913058936595917,
          0.19064103066921234,
          0.2008311152458191,
          0.20714886486530304,
          0.20646695792675018,
          0.21186427772045135,
          0.22018644213676453,
          0.2338952273130417,
          0.23145875334739685,
          0.23024886846542358,
          0.23076298832893372,
          0.23806150257587433,
          0.24439513683319092,
          0.2568660378456116,
          0.2598288059234619,
          0.2560291290283203,
          0.2624095380306244,
          0.26426035165786743,
          0.26271021366119385,
          0.2822454273700714,
          0.26993411779403687,
          0.27248984575271606,
          0.2764594852924347,
          0.2911994159221649,
          0.29229822754859924,
          0.28469765186309814,
          0.2875242233276367,
          0.2915782332420349,
          0.2992238998413086,
          0.30959272384643555,
          0.30382293462753296,
          0.30041348934173584,
          0.3096548616886139,
          0.31341156363487244,
          0.31671252846717834,
          0.3182208240032196,
          0.3200172781944275,
          0.3175673484802246,
          0.328323096036911,
          0.3257579207420349,
          0.33395519852638245,
          0.35024866461753845,
          0.3405194878578186,
          0.34391602873802185,
          0.3438957631587982,
          0.34254512190818787,
          0.350722074508667,
          0.3522682189941406,
          0.3464852571487427,
          0.3521365225315094,
          0.35408589243888855,
          0.34993359446525574,
          0.3674648106098175,
          0.35471010208129883,
          0.3622516691684723,
          0.3628954291343689,
          0.3633855879306793
         ],
         "yaxis": "y2"
        },
        {
         "marker": {
          "color": "red",
          "size": 14,
          "symbol": "circle-open"
         },
         "mode": "markers",
         "name": "RRIFT fit",
         "showlegend": false,
         "type": "scatter",
         "visible": false,
         "x": [
          0,
          0.162050262093544,
          0.3236040472984314,
          0.4854082465171814,
          0.6463471055030823,
          0.8056648373603821,
          0.9675918817520142,
          1.131893515586853,
          1.2922348976135254,
          1.4471267461776733,
          1.6004358530044556,
          1.755336880683899,
          1.9095124006271362,
          2.061002492904663,
          2.2108118534088135,
          2.357978105545044,
          2.5025367736816406,
          2.6474533081054688,
          2.7914316654205322,
          2.9332735538482666,
          3.075115442276001,
          3.2147316932678223,
          3.350419282913208,
          3.485410213470459,
          3.6222381591796875,
          3.7575666904449463,
          3.891172409057617,
          4.02249813079834,
          4.1530256271362305,
          4.285489559173584,
          4.420936584472656,
          4.551975250244141,
          4.677548885345459,
          4.802011013031006,
          4.924802303314209,
          5.049151420593262,
          5.172286033630371,
          5.2924299240112305
         ],
         "xaxis": "x3",
         "y": [
          0,
          -0.005774695282428913,
          0.0032021619345971915,
          0.013670177003073523,
          0.035129964099904556,
          0.0431361287241082,
          0.04236593917975463,
          0.051966382877053886,
          0.06287571626047057,
          0.07751520525252693,
          0.09509110434660763,
          0.09658283286449623,
          0.10032624298637423,
          0.11678950817290143,
          0.1279219721105334,
          0.1386822464794781,
          0.14770678281725264,
          0.1570585989158071,
          0.1621562953688614,
          0.18055799205334325,
          0.18573572458780865,
          0.20174258214173546,
          0.22613554556258256,
          0.22458357315348026,
          0.23608235364037183,
          0.24420429548190126,
          0.25097963307339144,
          0.2673633733121912,
          0.2772314059244891,
          0.27972017743079425,
          0.2936416171633279,
          0.3039511365412715,
          0.30813291012348887,
          0.334156575345334,
          0.3299508594372811,
          0.345979706799437,
          0.3552076436499088,
          0.3642954024821114
         ],
         "yaxis": "y3"
        },
        {
         "line": {
          "color": "black"
         },
         "mode": "lines",
         "name": "RRIFT",
         "showlegend": false,
         "type": "scatter",
         "visible": false,
         "x": [
          0,
          0.162050262093544,
          0.3236040472984314,
          0.4854082465171814,
          0.6463471055030823,
          0.8056648373603821,
          0.9675918817520142,
          1.131893515586853,
          1.2922348976135254,
          1.4471267461776733,
          1.6004358530044556,
          1.755336880683899,
          1.9095124006271362,
          2.061002492904663,
          2.2108118534088135,
          2.357978105545044,
          2.5025367736816406,
          2.6474533081054688,
          2.7914316654205322,
          2.9332735538482666,
          3.075115442276001,
          3.2147316932678223,
          3.350419282913208,
          3.485410213470459,
          3.6222381591796875,
          3.7575666904449463,
          3.891172409057617,
          4.02249813079834,
          4.1530256271362305,
          4.285489559173584,
          4.420936584472656,
          4.551975250244141,
          4.677548885345459,
          4.802011013031006,
          4.924802303314209,
          5.049151420593262,
          5.172286033630371,
          5.2924299240112305
         ],
         "xaxis": "x3",
         "y": [
          -0.023588009637690574,
          -0.011987485171750677,
          -0.0004225014832166807,
          0.011160408334265813,
          0.02268137193572347,
          0.03408628558653755,
          0.04567798939432362,
          0.05743968047998635,
          0.06891787311647411,
          0.0800059556387093,
          0.09098073606559225,
          0.10206947568365797,
          0.11310627912997455,
          0.12395084364415286,
          0.13467509135164513,
          0.1452101295947893,
          0.15555850141978667,
          0.16593249144846317,
          0.17623932116303093,
          0.1863932096896117,
          0.19654709821619254,
          0.20654166233814686,
          0.21625498944462873,
          0.22591844553768597,
          0.23571340613397268,
          0.2454010296996546,
          0.2549653240582844,
          0.26436640263957706,
          0.27371033948474865,
          0.2831928979490286,
          0.29288900402452295,
          0.30226953342711493,
          0.3112588433328833,
          0.3201685849071713,
          0.32895871797287635,
          0.33786036958810783,
          0.3466750797446176,
          0.35527569613233945
         ],
         "yaxis": "y3"
        },
        {
         "line": {
          "color": "#e3988b"
         },
         "name": "Blood plasma",
         "showlegend": false,
         "type": "scatter",
         "visible": false,
         "x": [
          0.08845,
          0.1769,
          0.26535000000000003,
          0.3538,
          0.44225,
          0.5307000000000001,
          0.61915,
          0.7076,
          0.7960499999999999,
          0.8845,
          0.9729500000000001,
          1.0614000000000001,
          1.1498499999999998,
          1.2383,
          1.32675,
          1.4152,
          1.5036500000000002,
          1.5920999999999998,
          1.68055,
          1.769,
          1.85745,
          1.9459000000000002,
          2.03435,
          2.1228000000000002,
          2.21125,
          2.2996999999999996,
          2.38815,
          2.4766,
          2.5650500000000003,
          2.6535,
          2.7419499999999997,
          2.8304,
          2.91885,
          3.0073000000000003,
          3.09575,
          3.1841999999999997,
          3.27265,
          3.3611,
          3.4495500000000003,
          3.538,
          3.6264499999999997,
          3.7149,
          3.80335,
          3.8918000000000004,
          3.98025,
          4.0687,
          4.15715,
          4.2456000000000005,
          4.33405,
          4.4225,
          4.51095,
          4.599399999999999,
          4.68785,
          4.7763,
          4.86475,
          4.9532,
          5.04165,
          5.1301000000000005,
          5.2185500000000005,
          5.307,
          5.395449999999999,
          5.483899999999999,
          5.57235,
          5.6608,
          5.74925,
          5.8377,
          5.92615,
          6.014600000000001,
          6.1030500000000005,
          6.1915
         ],
         "xaxis": "x",
         "y": [
          0.022133439779281616,
          0,
          0,
          0.013525809161365032,
          0,
          0,
          0.011377810500562191,
          0.3544229567050934,
          4.121431350708008,
          6.174637317657471,
          3.3837568759918213,
          2.0892300605773926,
          2.620507001876831,
          2.906412124633789,
          2.5938212871551514,
          2.249267816543579,
          2.3358826637268066,
          2.315093517303467,
          2.3358826637268066,
          2.1885077953338623,
          2.1365771293640137,
          2.0618677139282227,
          2.0501983165740967,
          1.9961903095245361,
          2.038562774658203,
          2.0077016353607178,
          1.9961903095245361,
          1.8680346012115479,
          1.8791749477386475,
          1.864328384399414,
          1.864328384399414,
          1.9278208017349243,
          1.875458002090454,
          1.8274587392807007,
          1.7691904306411743,
          1.7511614561080933,
          1.7011284828186035,
          1.7296383380889893,
          1.7260628938674927,
          1.641247034072876,
          1.6587611436843872,
          1.6203371286392212,
          1.5754280090332031,
          1.589188814163208,
          1.5719956159591675,
          1.5242717266082764,
          1.5310519933700562,
          1.5685663223266602,
          1.5107479095458984,
          1.497273564338684,
          1.5582976341247559,
          1.497273564338684,
          1.497273564338684,
          1.5310519933700562,
          1.4871999025344849,
          1.4075875282287598,
          1.4638009071350098,
          1.4240314960479736,
          1.4604703187942505,
          1.397756576538086,
          1.3912172317504883,
          1.3944854736328125,
          1.378173589706421,
          1.4075875282287598,
          1.4075875282287598,
          1.339321494102478,
          1.3489956855773926,
          1.3457680940628052,
          1.3522261381149292,
          1.326462984085083
         ],
         "yaxis": "y"
        },
        {
         "line": {
          "color": "#97d6d0"
         },
         "name": "Muscle",
         "showlegend": false,
         "type": "scatter",
         "visible": false,
         "x": [
          0.08845,
          0.1769,
          0.26535000000000003,
          0.3538,
          0.44225,
          0.5307000000000001,
          0.61915,
          0.7076,
          0.7960499999999999,
          0.8845,
          0.9729500000000001,
          1.0614000000000001,
          1.1498499999999998,
          1.2383,
          1.32675,
          1.4152,
          1.5036500000000002,
          1.5920999999999998,
          1.68055,
          1.769,
          1.85745,
          1.9459000000000002,
          2.03435,
          2.1228000000000002,
          2.21125,
          2.2996999999999996,
          2.38815,
          2.4766,
          2.5650500000000003,
          2.6535,
          2.7419499999999997,
          2.8304,
          2.91885,
          3.0073000000000003,
          3.09575,
          3.1841999999999997,
          3.27265,
          3.3611,
          3.4495500000000003,
          3.538,
          3.6264499999999997,
          3.7149,
          3.80335,
          3.8918000000000004,
          3.98025,
          4.0687,
          4.15715,
          4.2456000000000005,
          4.33405,
          4.4225,
          4.51095,
          4.599399999999999,
          4.68785,
          4.7763,
          4.86475,
          4.9532,
          5.04165,
          5.1301000000000005,
          5.2185500000000005,
          5.307,
          5.395449999999999,
          5.483899999999999,
          5.57235,
          5.6608,
          5.74925,
          5.8377,
          5.92615,
          6.014600000000001,
          6.1030500000000005,
          6.1915
         ],
         "xaxis": "x2",
         "y": [
          0,
          0,
          0.0015085211489349604,
          0,
          0.00024189130635932088,
          0.00016940826026257128,
          0.0005079573020339012,
          0.02673020213842392,
          0.1361110657453537,
          0.24417085945606232,
          0.266846239566803,
          0.27414220571517944,
          0.29392293095588684,
          0.3193798363208771,
          0.3290766179561615,
          0.3408978283405304,
          0.3508850634098053,
          0.35702598094940186,
          0.3688070476055145,
          0.3786609470844269,
          0.3834618628025055,
          0.38288214802742004,
          0.3874346613883972,
          0.39110180735588074,
          0.39358869194984436,
          0.3957604467868805,
          0.40163519978523254,
          0.4015544652938843,
          0.4040997624397278,
          0.40662917494773865,
          0.4074610471725464,
          0.40791448950767517,
          0.4137916564941406,
          0.41776901483535767,
          0.4120163321495056,
          0.41679781675338745,
          0.41216447949409485,
          0.4149392545223236,
          0.4157206118106842,
          0.4166378080844879,
          0.41905078291893005,
          0.4234653115272522,
          0.4158157408237457,
          0.41454628109931946,
          0.41689789295196533,
          0.4165193736553192,
          0.41273269057273865,
          0.41164037585258484,
          0.4190112352371216,
          0.41490596532821655,
          0.4165613651275635,
          0.41566002368927,
          0.4126288890838623,
          0.41123875975608826,
          0.412014365196228,
          0.41323772072792053,
          0.4091649055480957,
          0.40902212262153625,
          0.40448102355003357,
          0.407586008310318,
          0.40404748916625977,
          0.40345412492752075,
          0.4062313437461853,
          0.40360522270202637,
          0.40141087770462036,
          0.3979128301143646,
          0.39844265580177307,
          0.401795357465744,
          0.3968966603279114,
          0.39516547322273254
         ],
         "yaxis": "y2"
        },
        {
         "marker": {
          "color": "red",
          "size": 14,
          "symbol": "circle-open"
         },
         "mode": "markers",
         "name": "RRIFT fit",
         "showlegend": false,
         "type": "scatter",
         "visible": false,
         "x": [
          0,
          0.16376148164272308,
          0.32282328605651855,
          0.47851085662841797,
          0.6311883926391602,
          0.7829140424728394,
          0.9357424378395081,
          1.0846617221832275,
          1.230604648590088,
          1.3756227493286133,
          1.5169554948806763,
          1.6569106578826904,
          1.7967140674591064,
          1.9336464405059814,
          2.06876802444458,
          2.2058486938476562,
          2.342031478881836,
          2.4750611782073975,
          2.6101937294006348,
          2.745326280593872,
          2.877760171890259,
          3.011687755584717,
          3.145169973373413,
          3.2731919288635254,
          3.400179147720337,
          3.527893543243408,
          3.6554605960845947,
          3.7818655967712402,
          3.905207872390747,
          4.028405666351318,
          4.151026725769043,
          4.274227142333984,
          4.398728370666504,
          4.520210266113281,
          4.639101028442383,
          4.75827693939209,
          4.877595901489258,
          4.996060848236084
         ],
         "xaxis": "x3",
         "y": [
          0,
          0.02510507607940704,
          0.0404350049200871,
          0.06627442552212277,
          0.08270278828613352,
          0.10649204227542601,
          0.1283782302723717,
          0.15044341292753546,
          0.1740889848249401,
          0.19990957897611894,
          0.21358388010596024,
          0.23341168366558812,
          0.25688805337424536,
          0.27768442290304174,
          0.2949668020679704,
          0.3148195873975267,
          0.3432950677471428,
          0.3603773886395164,
          0.38315813463676596,
          0.4034012979890787,
          0.42141475454593025,
          0.4409568839678241,
          0.4626491347602106,
          0.4848399238603782,
          0.5016621451513449,
          0.5223072916979038,
          0.5384351172689809,
          0.5621725388738366,
          0.5792554416329194,
          0.5991785192653785,
          0.622527665820238,
          0.6404773114999036,
          0.6587362581629815,
          0.6755468738639353,
          0.6963099483157366,
          0.7199945433106594,
          0.7353884599212749,
          0.7537814390564394
         ],
         "yaxis": "y3"
        },
        {
         "line": {
          "color": "black"
         },
         "mode": "lines",
         "name": "RRIFT",
         "showlegend": false,
         "type": "scatter",
         "visible": false,
         "x": [
          0,
          0.16376148164272308,
          0.32282328605651855,
          0.47851085662841797,
          0.6311883926391602,
          0.7829140424728394,
          0.9357424378395081,
          1.0846617221832275,
          1.230604648590088,
          1.3756227493286133,
          1.5169554948806763,
          1.6569106578826904,
          1.7967140674591064,
          1.9336464405059814,
          2.06876802444458,
          2.2058486938476562,
          2.342031478881836,
          2.4750611782073975,
          2.6101937294006348,
          2.745326280593872,
          2.877760171890259,
          3.011687755584717,
          3.145169973373413,
          3.2731919288635254,
          3.400179147720337,
          3.527893543243408,
          3.6554605960845947,
          3.7818655967712402,
          3.905207872390747,
          4.028405666351318,
          4.151026725769043,
          4.274227142333984,
          4.398728370666504,
          4.520210266113281,
          4.639101028442383,
          4.75827693939209,
          4.877595901489258,
          4.996060848236084
         ],
         "xaxis": "x3",
         "y": [
          -0.012290840087496917,
          0.012604265060401937,
          0.036784922844966636,
          0.06045262785550314,
          0.08366274585505801,
          0.10672815762559551,
          0.12996120934247304,
          0.15259999597958382,
          0.1747863151435586,
          0.1968320418310504,
          0.21831751891677995,
          0.2395935751906717,
          0.2608465618303068,
          0.2816630920116258,
          0.30220434509604144,
          0.32304341936613906,
          0.34374599679003026,
          0.36396924049350704,
          0.3845121608256458,
          0.4050550811577846,
          0.4251877498164738,
          0.445547490366157,
          0.4658395261604728,
          0.485301490055739,
          0.5046061527527747,
          0.5240213612227603,
          0.5434141705820302,
          0.5626303241716745,
          0.5813808807123626,
          0.6001094730765236,
          0.6187503899571548,
          0.6374793810109888,
          0.6564061221425983,
          0.6748738627271129,
          0.6929476979147684,
          0.7110648815432266,
          0.7292038118811174,
          0.7472129143636945
         ],
         "yaxis": "y3"
        },
        {
         "line": {
          "color": "#e3988b"
         },
         "name": "Blood plasma",
         "showlegend": false,
         "type": "scatter",
         "visible": false,
         "x": [
          0.08845,
          0.1769,
          0.26535000000000003,
          0.3538,
          0.44225,
          0.5307000000000001,
          0.61915,
          0.7076,
          0.7960499999999999,
          0.8845,
          0.9729500000000001,
          1.0614000000000001,
          1.1498499999999998,
          1.2383,
          1.32675,
          1.4152,
          1.5036500000000002,
          1.5920999999999998,
          1.68055,
          1.769,
          1.85745,
          1.9459000000000002,
          2.03435,
          2.1228000000000002,
          2.21125,
          2.2996999999999996,
          2.38815,
          2.4766,
          2.5650500000000003,
          2.6535,
          2.7419499999999997,
          2.8304,
          2.91885,
          3.0073000000000003,
          3.09575,
          3.1841999999999997,
          3.27265,
          3.3611,
          3.4495500000000003,
          3.538,
          3.6264499999999997,
          3.7149,
          3.80335,
          3.8918000000000004,
          3.98025,
          4.0687,
          4.15715,
          4.2456000000000005,
          4.33405,
          4.4225,
          4.51095,
          4.599399999999999,
          4.68785,
          4.7763,
          4.86475,
          4.9532,
          5.04165,
          5.1301000000000005,
          5.2185500000000005,
          5.307,
          5.395449999999999,
          5.483899999999999,
          5.57235,
          5.6608,
          5.74925,
          5.8377,
          5.92615,
          6.014600000000001,
          6.1030500000000005,
          6.1915
         ],
         "xaxis": "x",
         "y": [
          0,
          0,
          0.010121961124241352,
          0,
          0,
          0.010121961124241352,
          0.027571236714720726,
          0.17097938060760498,
          3.637427568435669,
          6.206742286682129,
          3.8227803707122803,
          2.0240094661712646,
          2.224855661392212,
          2.514986515045166,
          2.000575542449951,
          1.7663226127624512,
          1.9464328289031982,
          2.0871877670288086,
          1.9927948713302612,
          2.0554728507995605,
          2.063377857208252,
          2.0397098064422607,
          1.9618258476257324,
          1.8553286790847778,
          1.8703651428222656,
          1.9310998916625977,
          1.788381576538086,
          1.7957627773284912,
          1.6937017440795898,
          1.7298388481140137,
          1.71534264087677,
          1.6013327836990356,
          1.7516871690750122,
          1.7736613750457764,
          1.6436829566955566,
          1.6295130252838135,
          1.5803362131118774,
          1.5456026792526245,
          1.6507878303527832,
          1.5317997932434082,
          1.5594571828842163,
          1.6937017440795898,
          1.6436829566955566,
          1.6083580255508423,
          1.5317997932434082,
          1.463547945022583,
          1.4433170557022095,
          1.3569233417510986,
          1.4500483274459839,
          1.5043472051620483,
          1.6013327836990356,
          1.477097511291504,
          1.5043472051620483,
          1.463547945022583,
          1.3503620624542236,
          1.4703165292739868,
          1.5043472051620483,
          1.383288025856018,
          1.4433170557022095,
          1.5111912488937378,
          1.4031879901885986,
          1.3503620624542236,
          1.3503620624542236,
          1.3242355585098267,
          1.4231973886489868,
          1.4165153503417969,
          1.3177335262298584,
          1.3569233417510986,
          1.3503620624542236,
          1.3112430572509766
         ],
         "yaxis": "y"
        },
        {
         "line": {
          "color": "#97d6d0"
         },
         "name": "Muscle",
         "showlegend": false,
         "type": "scatter",
         "visible": false,
         "x": [
          0.08845,
          0.1769,
          0.26535000000000003,
          0.3538,
          0.44225,
          0.5307000000000001,
          0.61915,
          0.7076,
          0.7960499999999999,
          0.8845,
          0.9729500000000001,
          1.0614000000000001,
          1.1498499999999998,
          1.2383,
          1.32675,
          1.4152,
          1.5036500000000002,
          1.5920999999999998,
          1.68055,
          1.769,
          1.85745,
          1.9459000000000002,
          2.03435,
          2.1228000000000002,
          2.21125,
          2.2996999999999996,
          2.38815,
          2.4766,
          2.5650500000000003,
          2.6535,
          2.7419499999999997,
          2.8304,
          2.91885,
          3.0073000000000003,
          3.09575,
          3.1841999999999997,
          3.27265,
          3.3611,
          3.4495500000000003,
          3.538,
          3.6264499999999997,
          3.7149,
          3.80335,
          3.8918000000000004,
          3.98025,
          4.0687,
          4.15715,
          4.2456000000000005,
          4.33405,
          4.4225,
          4.51095,
          4.599399999999999,
          4.68785,
          4.7763,
          4.86475,
          4.9532,
          5.04165,
          5.1301000000000005,
          5.2185500000000005,
          5.307,
          5.395449999999999,
          5.483899999999999,
          5.57235,
          5.6608,
          5.74925,
          5.8377,
          5.92615,
          6.014600000000001,
          6.1030500000000005,
          6.1915
         ],
         "xaxis": "x2",
         "y": [
          0,
          0,
          0.0007373212138190866,
          0,
          0,
          0.0014356556348502636,
          0.000739917391911149,
          0.009830941446125507,
          0.09446106106042862,
          0.20153485238552094,
          0.24234503507614136,
          0.24960388243198395,
          0.2670082151889801,
          0.2830812931060791,
          0.28747040033340454,
          0.29706910252571106,
          0.3047780394554138,
          0.32035794854164124,
          0.32269567251205444,
          0.331238716840744,
          0.3311508595943451,
          0.339579701423645,
          0.34721362590789795,
          0.34875085949897766,
          0.3502984642982483,
          0.3548228442668915,
          0.3598002791404724,
          0.36113014817237854,
          0.3676183223724365,
          0.3685605227947235,
          0.36825019121170044,
          0.37187322974205017,
          0.37226244807243347,
          0.3734550178050995,
          0.37634962797164917,
          0.37576422095298767,
          0.37749820947647095,
          0.37297651171684265,
          0.3775838613510132,
          0.3807653486728668,
          0.37882232666015625,
          0.38047611713409424,
          0.3776376247406006,
          0.37922582030296326,
          0.3780061602592468,
          0.3788571357727051,
          0.37770724296569824,
          0.3821498155593872,
          0.3802344501018524,
          0.377435564994812,
          0.37813758850097656,
          0.3782227039337158,
          0.3751300871372223,
          0.37802422046661377,
          0.3801291584968567,
          0.37768447399139404,
          0.3727896213531494,
          0.3713586926460266,
          0.3739513158798218,
          0.3731251358985901,
          0.3733782172203064,
          0.3700937330722809,
          0.3693530261516571,
          0.36965495347976685,
          0.3606743812561035,
          0.36845797300338745,
          0.3655894100666046,
          0.3629370331764221,
          0.36022889614105225,
          0.36250728368759155
         ],
         "yaxis": "y2"
        },
        {
         "marker": {
          "color": "red",
          "size": 14,
          "symbol": "circle-open"
         },
         "mode": "markers",
         "name": "RRIFT fit",
         "showlegend": false,
         "type": "scatter",
         "visible": false,
         "x": [
          0,
          0.15590853989124298,
          0.30704057216644287,
          0.4517976641654968,
          0.5937532186508179,
          0.7319978475570679,
          0.8733582496643066,
          1.0141081809997559,
          1.1508190631866455,
          1.2946900129318237,
          1.4422858953475952,
          1.5861073732376099,
          1.7249808311462402,
          1.8574501276016235,
          1.986006259918213,
          2.109846830368042,
          2.233985185623169,
          2.3646433353424072,
          2.5019919872283936,
          2.6381356716156006,
          2.7699899673461914,
          2.9012451171875,
          3.0256903171539307,
          3.150434732437134,
          3.281989336013794,
          3.4096949100494385,
          3.5347015857696533,
          3.6653647422790527,
          3.79425311088562,
          3.9160289764404297,
          4.035468578338623,
          4.15375280380249,
          4.2752580642700195,
          4.400844573974609,
          4.521766662597656,
          4.6400532722473145,
          4.759782791137695,
          4.877492427825928
         ],
         "xaxis": "x3",
         "y": [
          0,
          0.020484857627870716,
          0.042777494196369385,
          0.06164985445200618,
          0.0828713249421158,
          0.09776498895398254,
          0.12178991623992197,
          0.14459048445277392,
          0.16229858338696163,
          0.1835960121640761,
          0.20037050891835087,
          0.22153934748195292,
          0.23990986473852413,
          0.260341479398176,
          0.27876449251566965,
          0.30286515520789054,
          0.32067326065310947,
          0.3374758851387241,
          0.35772517080533034,
          0.3773779122919664,
          0.39377511516181746,
          0.41615393323666844,
          0.4378728858568385,
          0.4550334264370856,
          0.46955391937914404,
          0.48737468339388795,
          0.5092490532859,
          0.5277503192167424,
          0.5473160199447344,
          0.5632657304661005,
          0.5816550834071392,
          0.6010757190293153,
          0.6109893318405396,
          0.6376361418115369,
          0.653757952697155,
          0.6699531186438225,
          0.6859538438019621,
          0.7069299755901849
         ],
         "yaxis": "y3"
        },
        {
         "line": {
          "color": "black"
         },
         "mode": "lines",
         "name": "RRIFT",
         "showlegend": false,
         "type": "scatter",
         "visible": false,
         "x": [
          0,
          0.15590853989124298,
          0.30704057216644287,
          0.4517976641654968,
          0.5937532186508179,
          0.7319978475570679,
          0.8733582496643066,
          1.0141081809997559,
          1.1508190631866455,
          1.2946900129318237,
          1.4422858953475952,
          1.5861073732376099,
          1.7249808311462402,
          1.8574501276016235,
          1.986006259918213,
          2.109846830368042,
          2.233985185623169,
          2.3646433353424072,
          2.5019919872283936,
          2.6381356716156006,
          2.7699899673461914,
          2.9012451171875,
          3.0256903171539307,
          3.150434732437134,
          3.281989336013794,
          3.4096949100494385,
          3.5347015857696533,
          3.6653647422790527,
          3.79425311088562,
          3.9160289764404297,
          4.035468578338623,
          4.15375280380249,
          4.2752580642700195,
          4.400844573974609,
          4.521766662597656,
          4.6400532722473145,
          4.759782791137695,
          4.877492427825928
         ],
         "xaxis": "x3",
         "y": [
          -0.005210980578576958,
          0.017442686065894972,
          0.039402321380626396,
          0.06043567150280217,
          0.08106195542467642,
          0.10114903815161061,
          0.12168884583821805,
          0.14213995151164543,
          0.16200417930759456,
          0.18290877207476666,
          0.2043546012812742,
          0.22525200573845416,
          0.2454304579478185,
          0.26467837909839387,
          0.2833577135892059,
          0.3013518722285509,
          0.31938929929767984,
          0.3383740590176275,
          0.35833095538817406,
          0.37811276877703265,
          0.39727132970772994,
          0.41634283414199236,
          0.43442484605430143,
          0.4525503342511412,
          0.47166534961239215,
          0.4902210971350262,
          0.5083846920354388,
          0.5273701792470001,
          0.5460977880027472,
          0.5637919429576013,
          0.5811466364685376,
          0.598333452629007,
          0.6159882883942654,
          0.6342361337520316,
          0.6518062340655274,
          0.6689933966505748,
          0.6863902153901879,
          0.7034935432273751
         ],
         "yaxis": "y3"
        },
        {
         "line": {
          "color": "#e3988b"
         },
         "name": "Blood plasma",
         "showlegend": false,
         "type": "scatter",
         "visible": false,
         "x": [
          0.08835,
          0.1767,
          0.26505,
          0.3534,
          0.44175,
          0.5301,
          0.61845,
          0.7068,
          0.79515,
          0.8835,
          0.97185,
          1.0602,
          1.14855,
          1.2369,
          1.32525,
          1.4136,
          1.5019500000000001,
          1.5903,
          1.6786500000000002,
          1.767,
          1.8553499999999998,
          1.9437,
          2.03205,
          2.1204,
          2.20875,
          2.2971,
          2.3854499999999996,
          2.4738,
          2.56215,
          2.6505,
          2.73885,
          2.8272,
          2.91555,
          3.0039000000000002,
          3.09225,
          3.1806,
          3.26895,
          3.3573000000000004,
          3.44565,
          3.534,
          3.62235,
          3.7106999999999997,
          3.7990500000000003,
          3.8874,
          3.97575,
          4.0641,
          4.15245,
          4.2408,
          4.329149999999999,
          4.4175,
          4.505850000000001,
          4.5942,
          4.68255,
          4.770899999999999,
          4.85925,
          4.9476,
          5.03595,
          5.1243,
          5.21265,
          5.301,
          5.38935,
          5.4777,
          5.566050000000001,
          5.6544,
          5.74275,
          5.8311,
          5.919449999999999,
          6.0078000000000005,
          6.09615,
          6.1845
         ],
         "xaxis": "x",
         "y": [
          0.0034081358462572098,
          0.006829468999058008,
          0,
          0.05167090520262718,
          0.02399587444961071,
          0,
          0,
          1.8134543895721436,
          6.295933246612549,
          5.804708957672119,
          2.9535393714904785,
          1.603210210800171,
          1.6927013397216797,
          2.278006076812744,
          2.304361343383789,
          2.180666446685791,
          2.0856196880340576,
          2.0793628692626953,
          2.048224925994873,
          1.8961161375045776,
          1.6476902961730957,
          1.7843562364578247,
          1.8368923664093018,
          1.6813983917236328,
          1.6701289415359497,
          1.6588928699493408,
          1.4304184913635254,
          1.698365569114685,
          1.4889096021652222,
          1.4782054424285889,
          1.4728649854660034,
          1.4409841299057007,
          1.3936772346496582,
          1.5374658107757568,
          1.5374658107757568,
          1.3624769449234009,
          1.419883131980896,
          1.414626955986023,
          1.3573029041290283,
          1.3780436515808105,
          1.2153671979904175,
          1.265415906906128,
          1.414626955986023,
          1.3832473754882812,
          1.190604567527771,
          1.161116123199463,
          1.352136254310608,
          1.2153671979904175,
          1.2153671979904175,
          1.25534987449646,
          1.1367294788360596,
          1.2253209352493286,
          1.107686996459961,
          1.1270219087600708,
          1.2054413557052612,
          1.0693353414535522,
          1.0741063356399536,
          1.1709182262420654,
          1.0266889333724976,
          1.107686996459961,
          1.0980596542358398,
          1.1270219087600708,
          1.0408462285995483,
          1.1270219087600708,
          1.0550615787506104,
          0.9660031199455261,
          1.102869987487793,
          1.0741063356399536,
          1.08845853805542,
          1.0314016342163086
         ],
         "yaxis": "y"
        },
        {
         "line": {
          "color": "#97d6d0"
         },
         "name": "Muscle",
         "showlegend": false,
         "type": "scatter",
         "visible": false,
         "x": [
          0.08835,
          0.1767,
          0.26505,
          0.3534,
          0.44175,
          0.5301,
          0.61845,
          0.7068,
          0.79515,
          0.8835,
          0.97185,
          1.0602,
          1.14855,
          1.2369,
          1.32525,
          1.4136,
          1.5019500000000001,
          1.5903,
          1.6786500000000002,
          1.767,
          1.8553499999999998,
          1.9437,
          2.03205,
          2.1204,
          2.20875,
          2.2971,
          2.3854499999999996,
          2.4738,
          2.56215,
          2.6505,
          2.73885,
          2.8272,
          2.91555,
          3.0039000000000002,
          3.09225,
          3.1806,
          3.26895,
          3.3573000000000004,
          3.44565,
          3.534,
          3.62235,
          3.7106999999999997,
          3.7990500000000003,
          3.8874,
          3.97575,
          4.0641,
          4.15245,
          4.2408,
          4.329149999999999,
          4.4175,
          4.505850000000001,
          4.5942,
          4.68255,
          4.770899999999999,
          4.85925,
          4.9476,
          5.03595,
          5.1243,
          5.21265,
          5.301,
          5.38935,
          5.4777,
          5.566050000000001,
          5.6544,
          5.74275,
          5.8311,
          5.919449999999999,
          6.0078000000000005,
          6.09615,
          6.1845
         ],
         "xaxis": "x2",
         "y": [
          0.002615360077470541,
          0,
          0,
          0,
          0.003048901678994298,
          0,
          0.005198834929615259,
          0.015631183981895447,
          0.07064078003168106,
          0.14084449410438538,
          0.1694239228963852,
          0.1782415509223938,
          0.1831403374671936,
          0.1872134506702423,
          0.20539352297782898,
          0.20986811816692352,
          0.21890662610530853,
          0.22703173756599426,
          0.23329982161521912,
          0.238301083445549,
          0.25031816959381104,
          0.24723538756370544,
          0.2539880871772766,
          0.25698092579841614,
          0.2625681459903717,
          0.2608606815338135,
          0.2699607312679291,
          0.27250340580940247,
          0.2768869698047638,
          0.2837296426296234,
          0.28219175338745117,
          0.28883183002471924,
          0.2856900095939636,
          0.2934894859790802,
          0.29628288745880127,
          0.2996702492237091,
          0.28960588574409485,
          0.29828906059265137,
          0.30272290110588074,
          0.30469536781311035,
          0.298895001411438,
          0.2962644696235657,
          0.31350433826446533,
          0.2994033992290497,
          0.30459150671958923,
          0.30739468336105347,
          0.3176754117012024,
          0.30876627564430237,
          0.31066378951072693,
          0.32165396213531494,
          0.31759896874427795,
          0.31631967425346375,
          0.3101736903190613,
          0.31439316272735596,
          0.32155293226242065,
          0.3187103867530823,
          0.3174935281276703,
          0.31780216097831726,
          0.3175894320011139,
          0.32210415601730347,
          0.32140201330184937,
          0.3197544813156128,
          0.31409400701522827,
          0.3289397358894348,
          0.31475400924682617,
          0.3204331398010254,
          0.3128998577594757,
          0.3197553753852844,
          0.3225076496601105,
          0.3233950138092041
         ],
         "yaxis": "y2"
        },
        {
         "marker": {
          "color": "red",
          "size": 14,
          "symbol": "circle-open"
         },
         "mode": "markers",
         "name": "RRIFT fit",
         "showlegend": false,
         "type": "scatter",
         "visible": false,
         "x": [
          0,
          0.12948323786258698,
          0.2653183341026306,
          0.39342331886291504,
          0.516334056854248,
          0.6415485143661499,
          0.7639985084533691,
          0.8848324418067932,
          0.9993963837623596,
          1.1089849472045898,
          1.227375864982605,
          1.3509719371795654,
          1.4646718502044678,
          1.568559169769287,
          1.679582118988037,
          1.7930015325546265,
          1.9003791809082031,
          2.0095231533050537,
          2.1151933670043945,
          2.2195370197296143,
          2.3225977420806885,
          2.421315908432007,
          2.524352550506592,
          2.62484073638916,
          2.719527244567871,
          2.8187012672424316,
          2.915780544281006,
          3.010066509246826,
          3.1075053215026855,
          3.205798387527466,
          3.3015639781951904,
          3.397329568862915,
          3.493723154067993,
          3.5830037593841553,
          3.674396276473999,
          3.770564079284668,
          3.8660953044891357,
          3.959740161895752
         ],
         "xaxis": "x3",
         "y": [
          0,
          0.01668998289320699,
          0.028536493408070195,
          0.041071840004434396,
          0.040052968212695134,
          0.05776043326218326,
          0.07141991245523893,
          0.08271635577806719,
          0.08618120706249775,
          0.09268647719964543,
          0.1192864036402353,
          0.11459370552269554,
          0.12905324040877314,
          0.14125051205422257,
          0.16112617562712753,
          0.16183302898431054,
          0.17323890263843597,
          0.19393526329136263,
          0.19969291414229387,
          0.20814438164193147,
          0.2116151803760809,
          0.22542186316421264,
          0.2423435164322423,
          0.24932912479939245,
          0.2578781074873433,
          0.26793864022693625,
          0.27747928327990196,
          0.29181341570217556,
          0.30098920518227984,
          0.30918353747416505,
          0.3132527482778313,
          0.3379691575195451,
          0.33366424239407916,
          0.3490936067283572,
          0.35128209691741624,
          0.36784898297156676,
          0.38046010696002486,
          0.39126218990883244
         ],
         "yaxis": "y3"
        },
        {
         "line": {
          "color": "black"
         },
         "mode": "lines",
         "name": "RRIFT",
         "showlegend": false,
         "type": "scatter",
         "visible": false,
         "x": [
          0,
          0.12948323786258698,
          0.2653183341026306,
          0.39342331886291504,
          0.516334056854248,
          0.6415485143661499,
          0.7639985084533691,
          0.8848324418067932,
          0.9993963837623596,
          1.1089849472045898,
          1.227375864982605,
          1.3509719371795654,
          1.4646718502044678,
          1.568559169769287,
          1.679582118988037,
          1.7930015325546265,
          1.9003791809082031,
          2.0095231533050537,
          2.1151933670043945,
          2.2195370197296143,
          2.3225977420806885,
          2.421315908432007,
          2.524352550506592,
          2.62484073638916,
          2.719527244567871,
          2.8187012672424316,
          2.915780544281006,
          3.010066509246826,
          3.1075053215026855,
          3.205798387527466,
          3.3015639781951904,
          3.397329568862915,
          3.493723154067993,
          3.5830037593841553,
          3.674396276473999,
          3.770564079284668,
          3.8660953044891357,
          3.959740161895752
         ],
         "xaxis": "x3",
         "y": [
          -0.006655375943368683,
          0.006059303212522155,
          0.019397706663898458,
          0.03197704748348676,
          0.044046336328673344,
          0.05634184020410407,
          0.06836588604324183,
          0.08023124189234052,
          0.09148091241992633,
          0.1022420228642115,
          0.11386748542884403,
          0.12600407105068642,
          0.13716889777287977,
          0.14737017137737496,
          0.15827213213738653,
          0.1694094150579672,
          0.1799534234552447,
          0.19067087703250293,
          0.20104722292638136,
          0.2112933064214729,
          0.2214134118490101,
          0.23110709755485342,
          0.2412248384061366,
          0.2510923321724749,
          0.26039012694311214,
          0.2701285757162597,
          0.27966132976695185,
          0.2889197929721754,
          0.2984878517851556,
          0.308139794526039,
          0.3175435504068325,
          0.3269473062876261,
          0.3364127284441933,
          0.3451796875516217,
          0.3541540270200232,
          0.363597278347753,
          0.3729780205804503,
          0.3821735298693658
         ],
         "yaxis": "y3"
        },
        {
         "line": {
          "color": "#e3988b"
         },
         "name": "Blood plasma",
         "showlegend": false,
         "type": "scatter",
         "visible": false,
         "x": [
          0.08848333333333333,
          0.17696666666666666,
          0.26544999999999996,
          0.3539333333333333,
          0.4424166666666667,
          0.5308999999999999,
          0.6193833333333333,
          0.7078666666666666,
          0.79635,
          0.8848333333333334,
          0.9733166666666667,
          1.0617999999999999,
          1.1502833333333333,
          1.2387666666666666,
          1.32725,
          1.4157333333333333,
          1.5042166666666668,
          1.5927,
          1.6811833333333335,
          1.7696666666666667,
          1.8581500000000002,
          1.9466333333333334,
          2.0351166666666667,
          2.1235999999999997,
          2.2120833333333336,
          2.3005666666666666,
          2.38905,
          2.477533333333333,
          2.566016666666667,
          2.6545,
          2.742983333333333,
          2.8314666666666666,
          2.9199499999999996,
          3.0084333333333335,
          3.0969166666666665,
          3.1854,
          3.273883333333333,
          3.362366666666667,
          3.45085,
          3.5393333333333334,
          3.6278166666666665,
          3.7163000000000004,
          3.8047833333333334,
          3.893266666666667,
          3.98175,
          4.070233333333333,
          4.158716666666666,
          4.247199999999999,
          4.335683333333334,
          4.424166666666667,
          4.51265,
          4.601133333333333,
          4.689616666666667,
          4.7781,
          4.866583333333333,
          4.955066666666666,
          5.04355,
          5.132033333333334,
          5.220516666666667,
          5.309,
          5.397483333333334,
          5.485966666666666,
          5.57445,
          5.662933333333333,
          5.751416666666667,
          5.839899999999999,
          5.928383333333334,
          6.016866666666667,
          6.1053500000000005,
          6.193833333333333
         ],
         "xaxis": "x",
         "y": [
          0,
          0.05936340242624283,
          0,
          0.07587236911058426,
          0.04840806499123573,
          0.02119535021483898,
          0.02119535021483898,
          0.19405007362365723,
          5.094789028167725,
          5.343532562255859,
          2.528486490249634,
          1.4716782569885254,
          1.8422976732254028,
          2.0128092765808105,
          2.1809000968933105,
          2.140709161758423,
          2.0811679363250732,
          1.9361069202423096,
          1.8238049745559692,
          1.9077261686325073,
          1.7416709661483765,
          1.7688539028167725,
          1.643629550933838,
          1.6789880990982056,
          1.759771466255188,
          1.6701173782348633,
          1.5139260292053223,
          1.6967922449111938,
          1.4800891876220703,
          1.5738941431045532,
          1.4800891876220703,
          1.522433876991272,
          1.3722237348556519,
          1.3154397010803223,
          1.4133347272872925,
          1.4299097061157227,
          1.3234972953796387,
          1.2358428239822388,
          1.220133900642395,
          1.2358428239822388,
          1.4216127395629883,
          1.307400107383728,
          1.196700096130371,
          1.3559086322784424,
          1.307400107383728,
          1.2279796600341797,
          1.2123054265975952,
          1.2358428239822388,
          1.2044941186904907,
          1.2123054265975952,
          1.104488730430603,
          1.2279796600341797,
          1.2358428239822388,
          1.1426169872283936,
          0.9925444722175598,
          1.104488730430603,
          1.0667716264724731,
          1.104488730430603,
          0.9998959302902222,
          1.0667716264724731,
          1.104488730430603,
          1.196700096130371,
          1.2123054265975952,
          1.0517984628677368,
          1.081809639930725,
          1.044335961341858,
          1.0667716264724731,
          0.9632952213287354,
          1.0667716264724731,
          0.9560216665267944
         ],
         "yaxis": "y"
        },
        {
         "line": {
          "color": "#97d6d0"
         },
         "name": "Muscle",
         "showlegend": false,
         "type": "scatter",
         "visible": false,
         "x": [
          0.08848333333333333,
          0.17696666666666666,
          0.26544999999999996,
          0.3539333333333333,
          0.4424166666666667,
          0.5308999999999999,
          0.6193833333333333,
          0.7078666666666666,
          0.79635,
          0.8848333333333334,
          0.9733166666666667,
          1.0617999999999999,
          1.1502833333333333,
          1.2387666666666666,
          1.32725,
          1.4157333333333333,
          1.5042166666666668,
          1.5927,
          1.6811833333333335,
          1.7696666666666667,
          1.8581500000000002,
          1.9466333333333334,
          2.0351166666666667,
          2.1235999999999997,
          2.2120833333333336,
          2.3005666666666666,
          2.38905,
          2.477533333333333,
          2.566016666666667,
          2.6545,
          2.742983333333333,
          2.8314666666666666,
          2.9199499999999996,
          3.0084333333333335,
          3.0969166666666665,
          3.1854,
          3.273883333333333,
          3.362366666666667,
          3.45085,
          3.5393333333333334,
          3.6278166666666665,
          3.7163000000000004,
          3.8047833333333334,
          3.893266666666667,
          3.98175,
          4.070233333333333,
          4.158716666666666,
          4.247199999999999,
          4.335683333333334,
          4.424166666666667,
          4.51265,
          4.601133333333333,
          4.689616666666667,
          4.7781,
          4.866583333333333,
          4.955066666666666,
          5.04355,
          5.132033333333334,
          5.220516666666667,
          5.309,
          5.397483333333334,
          5.485966666666666,
          5.57445,
          5.662933333333333,
          5.751416666666667,
          5.839899999999999,
          5.928383333333334,
          6.016866666666667,
          6.1053500000000005,
          6.193833333333333
         ],
         "xaxis": "x2",
         "y": [
          0.0022879450116306543,
          0,
          0,
          0,
          0,
          0.002333232434466481,
          0.0008573648519814014,
          0.0008231400861404836,
          0.00559269031509757,
          0.051930323243141174,
          0.08716078847646713,
          0.10862405598163605,
          0.11795918643474579,
          0.13139672577381134,
          0.1403198391199112,
          0.1439535915851593,
          0.15654966235160828,
          0.163747638463974,
          0.16726018488407135,
          0.17686691880226135,
          0.17956461012363434,
          0.18395651876926422,
          0.18934319913387299,
          0.1894552856683731,
          0.19634053111076355,
          0.20340603590011597,
          0.20533426105976105,
          0.20517608523368835,
          0.20736032724380493,
          0.21393819153308868,
          0.21219667792320251,
          0.21475860476493835,
          0.2186042219400406,
          0.21081463992595673,
          0.2285229116678238,
          0.22310219705104828,
          0.22259150445461273,
          0.22715450823307037,
          0.22464360296726227,
          0.22796276211738586,
          0.2273922562599182,
          0.22844070196151733,
          0.2343662828207016,
          0.2277524620294571,
          0.23346160352230072,
          0.2354019284248352,
          0.2356625348329544,
          0.23865853250026703,
          0.23735369741916656,
          0.23642170429229736,
          0.2382230907678604,
          0.24117565155029297,
          0.2420143187046051,
          0.24235151708126068,
          0.24189002811908722,
          0.23982733488082886,
          0.24545125663280487,
          0.24433594942092896,
          0.24196061491966248,
          0.23240172863006592,
          0.24293069541454315,
          0.24363267421722412,
          0.23986782133579254,
          0.24307802319526672,
          0.24072885513305664,
          0.24357904493808746,
          0.24624663591384888,
          0.2465737909078598,
          0.24518649280071259,
          0.23758697509765625
         ],
         "yaxis": "y2"
        },
        {
         "marker": {
          "color": "red",
          "size": 14,
          "symbol": "circle-open"
         },
         "mode": "markers",
         "name": "RRIFT fit",
         "showlegend": false,
         "type": "scatter",
         "visible": false,
         "x": [
          0,
          0.11890671402215958,
          0.239632248878479,
          0.3654221296310425,
          0.48723745346069336,
          0.6004669070243835,
          0.709123432636261,
          0.8177799582481384,
          0.935350239276886,
          1.0560863018035889,
          1.1668719053268433,
          1.2798035144805908,
          1.3976327180862427,
          1.5098021030426025,
          1.6177643537521362,
          1.726074457168579,
          1.8340389728546143,
          1.9409621953964233,
          2.0434610843658447,
          2.146653413772583,
          2.2556569576263428,
          2.360883951187134,
          2.4553470611572266,
          2.548123359680176,
          2.64418363571167,
          2.740243911743164,
          2.833345413208008,
          2.9247782230377197,
          3.020838499069214,
          3.1226470470428467,
          3.2292253971099854,
          3.329393148422241,
          3.4237875938415527,
          3.5178518295288086,
          3.611250638961792,
          3.701064109802246,
          3.7908775806427,
          3.8803694248199463
         ],
         "xaxis": "x3",
         "y": [
          0,
          0.00017817970078997866,
          0.026038252013978157,
          0.028997330578827866,
          0.036756375357192,
          0.04966430615105478,
          0.0555364040855058,
          0.06725356338857799,
          0.07513205827210366,
          0.08463837277134265,
          0.09915122378140036,
          0.101111903017804,
          0.11537875843568553,
          0.1260187312370463,
          0.1350198232849281,
          0.14681673208230436,
          0.15434418723848592,
          0.16220298054983223,
          0.17281128484407404,
          0.18465897177118257,
          0.19446311037516145,
          0.2037875980981611,
          0.21231109230098572,
          0.21918654664577047,
          0.23381469370286784,
          0.24178726803367034,
          0.24843504707378508,
          0.24767783778433106,
          0.2670264811747294,
          0.27675652402556505,
          0.28196290431458515,
          0.29413404793076486,
          0.30076179789629603,
          0.31259820206468647,
          0.32435438847357534,
          0.33382570567805553,
          0.3415628990857951,
          0.3429211247332808
         ],
         "yaxis": "y3"
        },
        {
         "line": {
          "color": "black"
         },
         "mode": "lines",
         "name": "RRIFT",
         "showlegend": false,
         "type": "scatter",
         "visible": false,
         "x": [
          0,
          0.11890671402215958,
          0.239632248878479,
          0.3654221296310425,
          0.48723745346069336,
          0.6004669070243835,
          0.709123432636261,
          0.8177799582481384,
          0.935350239276886,
          1.0560863018035889,
          1.1668719053268433,
          1.2798035144805908,
          1.3976327180862427,
          1.5098021030426025,
          1.6177643537521362,
          1.726074457168579,
          1.8340389728546143,
          1.9409621953964233,
          2.0434610843658447,
          2.146653413772583,
          2.2556569576263428,
          2.360883951187134,
          2.4553470611572266,
          2.548123359680176,
          2.64418363571167,
          2.740243911743164,
          2.833345413208008,
          2.9247782230377197,
          3.020838499069214,
          3.1226470470428467,
          3.2292253971099854,
          3.329393148422241,
          3.4237875938415527,
          3.5178518295288086,
          3.611250638961792,
          3.701064109802246,
          3.7908775806427,
          3.8803694248199463
         ],
         "xaxis": "x3",
         "y": [
          -0.007776312656342189,
          0.0029715620158372973,
          0.013883838324521985,
          0.025253876463032815,
          0.036264657851105254,
          0.04649936987817475,
          0.056320738916875814,
          0.06614210795557687,
          0.07676918360947485,
          0.08768241150514772,
          0.09769622604826764,
          0.1079040161776445,
          0.11855449561853004,
          0.12869338896429802,
          0.13845200309719083,
          0.14824205933433302,
          0.15800087819648584,
          0.16766557547515049,
          0.17693036108242644,
          0.18625782616894115,
          0.19611056188532214,
          0.20562193849868016,
          0.21416037701707752,
          0.22254634611288096,
          0.23122915108526512,
          0.23991195605764926,
          0.2483273199651019,
          0.2565918522840408,
          0.2652746572564249,
          0.2744770435402916,
          0.28411056809531215,
          0.2931646441931306,
          0.30169687618238206,
          0.3101992608005674,
          0.31864149811720377,
          0.3267596597904526,
          0.3348778214637013,
          0.34296691158202725
         ],
         "yaxis": "y3"
        },
        {
         "line": {
          "color": "#e3988b"
         },
         "name": "Blood plasma",
         "showlegend": false,
         "type": "scatter",
         "visible": false,
         "x": [
          0.08,
          0.16,
          0.24,
          0.32,
          0.4,
          0.48,
          0.56,
          0.64,
          0.72,
          0.8,
          0.88,
          0.96,
          1.04,
          1.12,
          1.2,
          1.28,
          1.36,
          1.44,
          1.52,
          1.6,
          1.68,
          1.76,
          1.84,
          1.92,
          2,
          2.08,
          2.16,
          2.24,
          2.32,
          2.4,
          2.48,
          2.56,
          2.64,
          2.72,
          2.8,
          2.88,
          2.96,
          3.04,
          3.12,
          3.2,
          3.28,
          3.36,
          3.44,
          3.52,
          3.6,
          3.68,
          3.76,
          3.84,
          3.92,
          4,
          4.08,
          4.16,
          4.24,
          4.32,
          4.4,
          4.48,
          4.56,
          4.64,
          4.72,
          4.8,
          4.88,
          4.96,
          5.04,
          5.12,
          5.2,
          5.28,
          5.36,
          5.44,
          5.52,
          5.6
         ],
         "xaxis": "x",
         "y": [
          0.04471501335501671,
          0.015556120313704014,
          0,
          0,
          0.017630284652113914,
          0,
          0,
          0.025940151885151863,
          0.15750589966773987,
          2.7919015884399414,
          5.756464958190918,
          4.618312835693359,
          3.322294235229492,
          1.8725029230117798,
          1.9137847423553467,
          2.3578083515167236,
          2.407900810241699,
          2.1264536380767822,
          2.0902652740478516,
          2.2818334102630615,
          2.407900810241699,
          2.1119418144226074,
          2.130089282989502,
          2.0938706398010254,
          1.9207046031951904,
          1.8588322401046753,
          1.838409662246704,
          1.8282357454299927,
          1.7945011854171753,
          1.7410907745361328,
          1.6492588520050049,
          1.711348533630371,
          1.6916391849517822,
          1.6266196966171265,
          1.5881009101867676,
          1.6137393712997437,
          1.5881009101867676,
          1.4933825731277466,
          1.4933825731277466,
          1.4561134576797485,
          1.4100127220153809,
          1.4561134576797485,
          1.4684977531433105,
          1.4008567333221436,
          1.388681411743164,
          1.2571885585784912,
          1.2985492944717407,
          1.2162641286849976,
          1.2395964860916138,
          1.3283636569976807,
          1.2630703449249268,
          1.198857069015503,
          1.167146921157837,
          1.1844109296798706,
          1.1328506469726562,
          1.198857069015503,
          1.1700189113616943,
          1.1214866638183594,
          1.127164363861084,
          1.1214866638183594,
          1.0623761415481567,
          1.0595842599868774,
          1.084786057472229,
          1.10732901096344,
          1.006926417350769,
          1.065170168876648,
          1.0262410640716553,
          1.079171061515808,
          0.9904496669769287,
          0.9795053005218506
         ],
         "yaxis": "y"
        },
        {
         "line": {
          "color": "#97d6d0"
         },
         "name": "Muscle",
         "showlegend": false,
         "type": "scatter",
         "visible": false,
         "x": [
          0.08,
          0.16,
          0.24,
          0.32,
          0.4,
          0.48,
          0.56,
          0.64,
          0.72,
          0.8,
          0.88,
          0.96,
          1.04,
          1.12,
          1.2,
          1.28,
          1.36,
          1.44,
          1.52,
          1.6,
          1.68,
          1.76,
          1.84,
          1.92,
          2,
          2.08,
          2.16,
          2.24,
          2.32,
          2.4,
          2.48,
          2.56,
          2.64,
          2.72,
          2.8,
          2.88,
          2.96,
          3.04,
          3.12,
          3.2,
          3.28,
          3.36,
          3.44,
          3.52,
          3.6,
          3.68,
          3.76,
          3.84,
          3.92,
          4,
          4.08,
          4.16,
          4.24,
          4.32,
          4.4,
          4.48,
          4.56,
          4.64,
          4.72,
          4.8,
          4.88,
          4.96,
          5.04,
          5.12,
          5.2,
          5.28,
          5.36,
          5.44,
          5.52,
          5.6
         ],
         "xaxis": "x2",
         "y": [
          0.0021327068097889423,
          0,
          0.0007812262629158795,
          0,
          0,
          0,
          0.0001639292313484475,
          0,
          0,
          0.01704367622733116,
          0.06250239163637161,
          0.14797547459602356,
          0.2076408565044403,
          0.23190852999687195,
          0.2393355816602707,
          0.24389085173606873,
          0.2599131166934967,
          0.26600170135498047,
          0.27896347641944885,
          0.2883920669555664,
          0.30279672145843506,
          0.3085256516933441,
          0.3147135078907013,
          0.32541969418525696,
          0.3365412652492523,
          0.33254697918891907,
          0.34214988350868225,
          0.3429206311702728,
          0.3438394367694855,
          0.34523922204971313,
          0.3555746376514435,
          0.35348379611968994,
          0.35710206627845764,
          0.36114007234573364,
          0.3656836450099945,
          0.36619266867637634,
          0.3673951327800751,
          0.36153915524482727,
          0.36480411887168884,
          0.3655165433883667,
          0.36446499824523926,
          0.36542466282844543,
          0.36138272285461426,
          0.36623111367225647,
          0.3695300221443176,
          0.36625391244888306,
          0.3604676425457001,
          0.36670494079589844,
          0.36634939908981323,
          0.3655174970626831,
          0.36130544543266296,
          0.36204633116722107,
          0.36716410517692566,
          0.35395368933677673,
          0.3608678877353668,
          0.3829957842826843,
          0.3786367177963257,
          0.3671362102031708,
          0.36349087953567505,
          0.36053040623664856,
          0.3503779470920563,
          0.3464451730251312,
          0.3512135148048401,
          0.3449539840221405,
          0.34526440501213074,
          0.34567949175834656,
          0.3475415110588074,
          0.34169405698776245,
          0.3442990481853485,
          0.3377317786216736
         ],
         "yaxis": "y2"
        },
        {
         "marker": {
          "color": "red",
          "size": 14,
          "symbol": "circle-open"
         },
         "mode": "markers",
         "name": "RRIFT fit",
         "showlegend": false,
         "type": "scatter",
         "visible": false,
         "x": [
          0,
          0.13273034989833832,
          0.2613191604614258,
          0.38939279317855835,
          0.5174664258956909,
          0.6407257318496704,
          0.760196328163147,
          0.8781761527061462,
          0.992821216583252,
          1.107466220855713,
          1.224450707435608,
          1.339224934577942,
          1.4508064985275269,
          1.5566413402557373,
          1.658870816230774,
          1.7594633102416992,
          1.8576977252960205,
          1.9604160785675049,
          2.064073324203491,
          2.162550449371338,
          2.257190704345703,
          2.351253032684326,
          2.443943500518799,
          2.5372118949890137,
          2.6319668292999268,
          2.7236270904541016,
          2.813573122024536,
          2.9035191535949707,
          2.9908735752105713,
          3.075752019882202,
          3.161526918411255,
          3.249211549758911,
          3.3337817192077637,
          3.416665554046631,
          3.500322103500366,
          3.584538698196411,
          3.667323589324951,
          3.746121883392334
         ],
         "xaxis": "x3",
         "y": [
          0,
          0.01783973378188869,
          0.03634993761970021,
          0.05092268305771569,
          0.06622175685053339,
          0.07437296717596438,
          0.09159532978793584,
          0.10634158270707525,
          0.11931734943069386,
          0.134302560305498,
          0.1442269376760962,
          0.16305714258273754,
          0.18049442349697567,
          0.19135712434459007,
          0.19953552246490652,
          0.2197461556910183,
          0.2334769726863285,
          0.24670861146367445,
          0.25646317611750225,
          0.2711039762759572,
          0.29023424460735997,
          0.2908808150324623,
          0.31153101169784564,
          0.34795297887383864,
          0.35822942852752326,
          0.36105967979083825,
          0.37145406583059587,
          0.3824063722313998,
          0.38591471491818025,
          0.3953720811005123,
          0.4135466193832662,
          0.42066463044317953,
          0.4342382752915155,
          0.44793052723938104,
          0.4631134685693682,
          0.4705103524866608,
          0.48629737456569416,
          0.4928359968153203
         ],
         "yaxis": "y3"
        },
        {
         "line": {
          "color": "black"
         },
         "mode": "lines",
         "name": "RRIFT",
         "showlegend": false,
         "type": "scatter",
         "visible": false,
         "x": [
          0,
          0.13273034989833832,
          0.2613191604614258,
          0.38939279317855835,
          0.5174664258956909,
          0.6407257318496704,
          0.760196328163147,
          0.8781761527061462,
          0.992821216583252,
          1.107466220855713,
          1.224450707435608,
          1.339224934577942,
          1.4508064985275269,
          1.5566413402557373,
          1.658870816230774,
          1.7594633102416992,
          1.8576977252960205,
          1.9604160785675049,
          2.064073324203491,
          2.162550449371338,
          2.257190704345703,
          2.351253032684326,
          2.443943500518799,
          2.5372118949890137,
          2.6319668292999268,
          2.7236270904541016,
          2.813573122024536,
          2.9035191535949707,
          2.9908735752105713,
          3.075752019882202,
          3.161526918411255,
          3.249211549758911,
          3.3337817192077637,
          3.416665554046631,
          3.500322103500366,
          3.584538698196411,
          3.667323589324951,
          3.746121883392334
         ],
         "xaxis": "x3",
         "y": [
          -0.009232514543834395,
          0.0084615197071541,
          0.02560345310927214,
          0.04267670911802342,
          0.059749965126774704,
          0.076181432255229,
          0.0921078336003304,
          0.10783550295393599,
          0.12311862161143955,
          0.13840173232315964,
          0.1539967150378468,
          0.16929705220822758,
          0.18417178143040627,
          0.19828042588076153,
          0.2119084457778563,
          0.22531824267649275,
          0.23841368848770536,
          0.25210687970119083,
          0.26592523289660597,
          0.279053033938292,
          0.29166934900354496,
          0.30420862175183566,
          0.31656501434674317,
          0.32899844925861293,
          0.3416300520113489,
          0.35384910968398164,
          0.3658396466227205,
          0.3778301835614594,
          0.38947523783296234,
          0.40079022425724864,
          0.41222471526560184,
          0.4239137891777784,
          0.43518768000972463,
          0.4462367687344621,
          0.45738886659668915,
          0.46861562304082394,
          0.47965152176492637,
          0.4901559747044058
         ],
         "yaxis": "y3"
        }
       ],
       "layout": {
        "template": {
         "data": {
          "bar": [
           {
            "error_x": {
             "color": "#2a3f5f"
            },
            "error_y": {
             "color": "#2a3f5f"
            },
            "marker": {
             "line": {
              "color": "#E5ECF6",
              "width": 0.5
             }
            },
            "type": "bar"
           }
          ],
          "barpolar": [
           {
            "marker": {
             "line": {
              "color": "#E5ECF6",
              "width": 0.5
             }
            },
            "type": "barpolar"
           }
          ],
          "carpet": [
           {
            "aaxis": {
             "endlinecolor": "#2a3f5f",
             "gridcolor": "white",
             "linecolor": "white",
             "minorgridcolor": "white",
             "startlinecolor": "#2a3f5f"
            },
            "baxis": {
             "endlinecolor": "#2a3f5f",
             "gridcolor": "white",
             "linecolor": "white",
             "minorgridcolor": "white",
             "startlinecolor": "#2a3f5f"
            },
            "type": "carpet"
           }
          ],
          "choropleth": [
           {
            "colorbar": {
             "outlinewidth": 0,
             "ticks": ""
            },
            "type": "choropleth"
           }
          ],
          "contour": [
           {
            "colorbar": {
             "outlinewidth": 0,
             "ticks": ""
            },
            "colorscale": [
             [
              0,
              "#0d0887"
             ],
             [
              0.1111111111111111,
              "#46039f"
             ],
             [
              0.2222222222222222,
              "#7201a8"
             ],
             [
              0.3333333333333333,
              "#9c179e"
             ],
             [
              0.4444444444444444,
              "#bd3786"
             ],
             [
              0.5555555555555556,
              "#d8576b"
             ],
             [
              0.6666666666666666,
              "#ed7953"
             ],
             [
              0.7777777777777778,
              "#fb9f3a"
             ],
             [
              0.8888888888888888,
              "#fdca26"
             ],
             [
              1,
              "#f0f921"
             ]
            ],
            "type": "contour"
           }
          ],
          "contourcarpet": [
           {
            "colorbar": {
             "outlinewidth": 0,
             "ticks": ""
            },
            "type": "contourcarpet"
           }
          ],
          "heatmap": [
           {
            "colorbar": {
             "outlinewidth": 0,
             "ticks": ""
            },
            "colorscale": [
             [
              0,
              "#0d0887"
             ],
             [
              0.1111111111111111,
              "#46039f"
             ],
             [
              0.2222222222222222,
              "#7201a8"
             ],
             [
              0.3333333333333333,
              "#9c179e"
             ],
             [
              0.4444444444444444,
              "#bd3786"
             ],
             [
              0.5555555555555556,
              "#d8576b"
             ],
             [
              0.6666666666666666,
              "#ed7953"
             ],
             [
              0.7777777777777778,
              "#fb9f3a"
             ],
             [
              0.8888888888888888,
              "#fdca26"
             ],
             [
              1,
              "#f0f921"
             ]
            ],
            "type": "heatmap"
           }
          ],
          "heatmapgl": [
           {
            "colorbar": {
             "outlinewidth": 0,
             "ticks": ""
            },
            "colorscale": [
             [
              0,
              "#0d0887"
             ],
             [
              0.1111111111111111,
              "#46039f"
             ],
             [
              0.2222222222222222,
              "#7201a8"
             ],
             [
              0.3333333333333333,
              "#9c179e"
             ],
             [
              0.4444444444444444,
              "#bd3786"
             ],
             [
              0.5555555555555556,
              "#d8576b"
             ],
             [
              0.6666666666666666,
              "#ed7953"
             ],
             [
              0.7777777777777778,
              "#fb9f3a"
             ],
             [
              0.8888888888888888,
              "#fdca26"
             ],
             [
              1,
              "#f0f921"
             ]
            ],
            "type": "heatmapgl"
           }
          ],
          "histogram": [
           {
            "marker": {
             "colorbar": {
              "outlinewidth": 0,
              "ticks": ""
             }
            },
            "type": "histogram"
           }
          ],
          "histogram2d": [
           {
            "colorbar": {
             "outlinewidth": 0,
             "ticks": ""
            },
            "colorscale": [
             [
              0,
              "#0d0887"
             ],
             [
              0.1111111111111111,
              "#46039f"
             ],
             [
              0.2222222222222222,
              "#7201a8"
             ],
             [
              0.3333333333333333,
              "#9c179e"
             ],
             [
              0.4444444444444444,
              "#bd3786"
             ],
             [
              0.5555555555555556,
              "#d8576b"
             ],
             [
              0.6666666666666666,
              "#ed7953"
             ],
             [
              0.7777777777777778,
              "#fb9f3a"
             ],
             [
              0.8888888888888888,
              "#fdca26"
             ],
             [
              1,
              "#f0f921"
             ]
            ],
            "type": "histogram2d"
           }
          ],
          "histogram2dcontour": [
           {
            "colorbar": {
             "outlinewidth": 0,
             "ticks": ""
            },
            "colorscale": [
             [
              0,
              "#0d0887"
             ],
             [
              0.1111111111111111,
              "#46039f"
             ],
             [
              0.2222222222222222,
              "#7201a8"
             ],
             [
              0.3333333333333333,
              "#9c179e"
             ],
             [
              0.4444444444444444,
              "#bd3786"
             ],
             [
              0.5555555555555556,
              "#d8576b"
             ],
             [
              0.6666666666666666,
              "#ed7953"
             ],
             [
              0.7777777777777778,
              "#fb9f3a"
             ],
             [
              0.8888888888888888,
              "#fdca26"
             ],
             [
              1,
              "#f0f921"
             ]
            ],
            "type": "histogram2dcontour"
           }
          ],
          "mesh3d": [
           {
            "colorbar": {
             "outlinewidth": 0,
             "ticks": ""
            },
            "type": "mesh3d"
           }
          ],
          "parcoords": [
           {
            "line": {
             "colorbar": {
              "outlinewidth": 0,
              "ticks": ""
             }
            },
            "type": "parcoords"
           }
          ],
          "pie": [
           {
            "automargin": true,
            "type": "pie"
           }
          ],
          "scatter": [
           {
            "marker": {
             "colorbar": {
              "outlinewidth": 0,
              "ticks": ""
             }
            },
            "type": "scatter"
           }
          ],
          "scatter3d": [
           {
            "line": {
             "colorbar": {
              "outlinewidth": 0,
              "ticks": ""
             }
            },
            "marker": {
             "colorbar": {
              "outlinewidth": 0,
              "ticks": ""
             }
            },
            "type": "scatter3d"
           }
          ],
          "scattercarpet": [
           {
            "marker": {
             "colorbar": {
              "outlinewidth": 0,
              "ticks": ""
             }
            },
            "type": "scattercarpet"
           }
          ],
          "scattergeo": [
           {
            "marker": {
             "colorbar": {
              "outlinewidth": 0,
              "ticks": ""
             }
            },
            "type": "scattergeo"
           }
          ],
          "scattergl": [
           {
            "marker": {
             "colorbar": {
              "outlinewidth": 0,
              "ticks": ""
             }
            },
            "type": "scattergl"
           }
          ],
          "scattermapbox": [
           {
            "marker": {
             "colorbar": {
              "outlinewidth": 0,
              "ticks": ""
             }
            },
            "type": "scattermapbox"
           }
          ],
          "scatterpolar": [
           {
            "marker": {
             "colorbar": {
              "outlinewidth": 0,
              "ticks": ""
             }
            },
            "type": "scatterpolar"
           }
          ],
          "scatterpolargl": [
           {
            "marker": {
             "colorbar": {
              "outlinewidth": 0,
              "ticks": ""
             }
            },
            "type": "scatterpolargl"
           }
          ],
          "scatterternary": [
           {
            "marker": {
             "colorbar": {
              "outlinewidth": 0,
              "ticks": ""
             }
            },
            "type": "scatterternary"
           }
          ],
          "surface": [
           {
            "colorbar": {
             "outlinewidth": 0,
             "ticks": ""
            },
            "colorscale": [
             [
              0,
              "#0d0887"
             ],
             [
              0.1111111111111111,
              "#46039f"
             ],
             [
              0.2222222222222222,
              "#7201a8"
             ],
             [
              0.3333333333333333,
              "#9c179e"
             ],
             [
              0.4444444444444444,
              "#bd3786"
             ],
             [
              0.5555555555555556,
              "#d8576b"
             ],
             [
              0.6666666666666666,
              "#ed7953"
             ],
             [
              0.7777777777777778,
              "#fb9f3a"
             ],
             [
              0.8888888888888888,
              "#fdca26"
             ],
             [
              1,
              "#f0f921"
             ]
            ],
            "type": "surface"
           }
          ],
          "table": [
           {
            "cells": {
             "fill": {
              "color": "#EBF0F8"
             },
             "line": {
              "color": "white"
             }
            },
            "header": {
             "fill": {
              "color": "#C8D4E3"
             },
             "line": {
              "color": "white"
             }
            },
            "type": "table"
           }
          ]
         },
         "layout": {
          "annotationdefaults": {
           "arrowcolor": "#2a3f5f",
           "arrowhead": 0,
           "arrowwidth": 1
          },
          "autotypenumbers": "strict",
          "coloraxis": {
           "colorbar": {
            "outlinewidth": 0,
            "ticks": ""
           }
          },
          "colorscale": {
           "diverging": [
            [
             0,
             "#8e0152"
            ],
            [
             0.1,
             "#c51b7d"
            ],
            [
             0.2,
             "#de77ae"
            ],
            [
             0.3,
             "#f1b6da"
            ],
            [
             0.4,
             "#fde0ef"
            ],
            [
             0.5,
             "#f7f7f7"
            ],
            [
             0.6,
             "#e6f5d0"
            ],
            [
             0.7,
             "#b8e186"
            ],
            [
             0.8,
             "#7fbc41"
            ],
            [
             0.9,
             "#4d9221"
            ],
            [
             1,
             "#276419"
            ]
           ],
           "sequential": [
            [
             0,
             "#0d0887"
            ],
            [
             0.1111111111111111,
             "#46039f"
            ],
            [
             0.2222222222222222,
             "#7201a8"
            ],
            [
             0.3333333333333333,
             "#9c179e"
            ],
            [
             0.4444444444444444,
             "#bd3786"
            ],
            [
             0.5555555555555556,
             "#d8576b"
            ],
            [
             0.6666666666666666,
             "#ed7953"
            ],
            [
             0.7777777777777778,
             "#fb9f3a"
            ],
            [
             0.8888888888888888,
             "#fdca26"
            ],
            [
             1,
             "#f0f921"
            ]
           ],
           "sequentialminus": [
            [
             0,
             "#0d0887"
            ],
            [
             0.1111111111111111,
             "#46039f"
            ],
            [
             0.2222222222222222,
             "#7201a8"
            ],
            [
             0.3333333333333333,
             "#9c179e"
            ],
            [
             0.4444444444444444,
             "#bd3786"
            ],
            [
             0.5555555555555556,
             "#d8576b"
            ],
            [
             0.6666666666666666,
             "#ed7953"
            ],
            [
             0.7777777777777778,
             "#fb9f3a"
            ],
            [
             0.8888888888888888,
             "#fdca26"
            ],
            [
             1,
             "#f0f921"
            ]
           ]
          },
          "colorway": [
           "#636efa",
           "#EF553B",
           "#00cc96",
           "#ab63fa",
           "#FFA15A",
           "#19d3f3",
           "#FF6692",
           "#B6E880",
           "#FF97FF",
           "#FECB52"
          ],
          "font": {
           "color": "#2a3f5f"
          },
          "geo": {
           "bgcolor": "white",
           "lakecolor": "white",
           "landcolor": "#E5ECF6",
           "showlakes": true,
           "showland": true,
           "subunitcolor": "white"
          },
          "hoverlabel": {
           "align": "left"
          },
          "hovermode": "closest",
          "mapbox": {
           "style": "light"
          },
          "paper_bgcolor": "white",
          "plot_bgcolor": "#E5ECF6",
          "polar": {
           "angularaxis": {
            "gridcolor": "white",
            "linecolor": "white",
            "ticks": ""
           },
           "bgcolor": "#E5ECF6",
           "radialaxis": {
            "gridcolor": "white",
            "linecolor": "white",
            "ticks": ""
           }
          },
          "scene": {
           "xaxis": {
            "backgroundcolor": "#E5ECF6",
            "gridcolor": "white",
            "gridwidth": 2,
            "linecolor": "white",
            "showbackground": true,
            "ticks": "",
            "zerolinecolor": "white"
           },
           "yaxis": {
            "backgroundcolor": "#E5ECF6",
            "gridcolor": "white",
            "gridwidth": 2,
            "linecolor": "white",
            "showbackground": true,
            "ticks": "",
            "zerolinecolor": "white"
           },
           "zaxis": {
            "backgroundcolor": "#E5ECF6",
            "gridcolor": "white",
            "gridwidth": 2,
            "linecolor": "white",
            "showbackground": true,
            "ticks": "",
            "zerolinecolor": "white"
           }
          },
          "shapedefaults": {
           "line": {
            "color": "#2a3f5f"
           }
          },
          "ternary": {
           "aaxis": {
            "gridcolor": "white",
            "linecolor": "white",
            "ticks": ""
           },
           "baxis": {
            "gridcolor": "white",
            "linecolor": "white",
            "ticks": ""
           },
           "bgcolor": "#E5ECF6",
           "caxis": {
            "gridcolor": "white",
            "linecolor": "white",
            "ticks": ""
           }
          },
          "title": {
           "x": 0.05
          },
          "xaxis": {
           "automargin": true,
           "gridcolor": "white",
           "linecolor": "white",
           "ticks": "",
           "title": {
            "standoff": 15
           },
           "zerolinecolor": "white",
           "zerolinewidth": 2
          },
          "yaxis": {
           "automargin": true,
           "gridcolor": "white",
           "linecolor": "white",
           "ticks": "",
           "title": {
            "standoff": 15
           },
           "zerolinecolor": "white",
           "zerolinewidth": 2
          }
         }
        },
        "title": {
         "text": "Patient 1"
        },
        "updatemenus": [
         {
          "active": 0,
          "buttons": [
           {
            "args": [
             {
              "visible": [
               true,
               true,
               true,
               true,
               false,
               false,
               false,
               false,
               false,
               false,
               false,
               false,
               false,
               false,
               false,
               false,
               false,
               false,
               false,
               false,
               false,
               false,
               false,
               false,
               false,
               false,
               false,
               false,
               false,
               false,
               false,
               false
              ]
             },
             {
              "showlegend": true,
              "title": "Patient 1",
              "visible": true
             }
            ],
            "label": "Patient 1",
            "method": "update"
           },
           {
            "args": [
             {
              "visible": [
               false,
               false,
               false,
               false,
               true,
               true,
               true,
               true,
               false,
               false,
               false,
               false,
               false,
               false,
               false,
               false,
               false,
               false,
               false,
               false,
               false,
               false,
               false,
               false,
               false,
               false,
               false,
               false,
               false,
               false,
               false,
               false
              ]
             },
             {
              "showlegend": true,
              "title": "Patient 2"
             }
            ],
            "label": "Patient 2",
            "method": "update"
           },
           {
            "args": [
             {
              "visible": [
               false,
               false,
               false,
               false,
               false,
               false,
               false,
               false,
               true,
               true,
               true,
               true,
               false,
               false,
               false,
               false,
               false,
               false,
               false,
               false,
               false,
               false,
               false,
               false,
               false,
               false,
               false,
               false,
               false,
               false,
               false,
               false
              ]
             },
             {
              "showlegend": true,
              "title": "Patient 3"
             }
            ],
            "label": "Patient 3",
            "method": "update"
           },
           {
            "args": [
             {
              "visible": [
               false,
               false,
               false,
               false,
               false,
               false,
               false,
               false,
               false,
               false,
               false,
               false,
               true,
               true,
               true,
               true,
               false,
               false,
               false,
               false,
               false,
               false,
               false,
               false,
               false,
               false,
               false,
               false,
               false,
               false,
               false,
               false
              ]
             },
             {
              "showlegend": true,
              "title": "Patient 4"
             }
            ],
            "label": "Patient 4",
            "method": "update"
           },
           {
            "args": [
             {
              "visible": [
               false,
               false,
               false,
               false,
               false,
               false,
               false,
               false,
               false,
               false,
               false,
               false,
               false,
               false,
               false,
               false,
               true,
               true,
               true,
               true,
               false,
               false,
               false,
               false,
               false,
               false,
               false,
               false,
               false,
               false,
               false,
               false
              ]
             },
             {
              "showlegend": true,
              "title": "Patient 5"
             }
            ],
            "label": "Patient 5",
            "method": "update"
           },
           {
            "args": [
             {
              "visible": [
               false,
               false,
               false,
               false,
               false,
               false,
               false,
               false,
               false,
               false,
               false,
               false,
               false,
               false,
               false,
               false,
               false,
               false,
               false,
               false,
               true,
               true,
               true,
               true,
               false,
               false,
               false,
               false,
               false,
               false,
               false,
               false
              ]
             },
             {
              "showlegend": true,
              "title": "Patient 6"
             }
            ],
            "label": "Patient 6",
            "method": "update"
           },
           {
            "args": [
             {
              "visible": [
               false,
               false,
               false,
               false,
               false,
               false,
               false,
               false,
               false,
               false,
               false,
               false,
               false,
               false,
               false,
               false,
               false,
               false,
               false,
               false,
               false,
               false,
               false,
               false,
               true,
               true,
               true,
               true,
               false,
               false,
               false,
               false
              ]
             },
             {
              "showlegend": true,
              "title": "Patient 7"
             }
            ],
            "label": "Patient 7",
            "method": "update"
           },
           {
            "args": [
             {
              "visible": [
               false,
               false,
               false,
               false,
               false,
               false,
               false,
               false,
               false,
               false,
               false,
               false,
               false,
               false,
               false,
               false,
               false,
               false,
               false,
               false,
               false,
               false,
               false,
               false,
               false,
               false,
               false,
               false,
               true,
               true,
               true,
               true
              ]
             },
             {
              "showlegend": true,
              "title": "Patient 8"
             }
            ],
            "label": "Patient 8",
            "method": "update"
           }
          ],
          "direction": "right",
          "type": "buttons",
          "x": 0.1,
          "xanchor": "left",
          "y": 1.2,
          "yanchor": "top"
         }
        ],
        "xaxis": {
         "anchor": "y",
         "domain": [
          0,
          0.2888888888888889
         ],
         "range": [
          -1,
          6
         ],
         "tickvals": [
          0,
          2,
          4,
          6
         ],
         "title": {
          "text": "$Time [min]$"
         }
        },
        "xaxis2": {
         "anchor": "y2",
         "domain": [
          0.35555555555555557,
          0.6444444444444445
         ],
         "range": [
          -1,
          6
         ],
         "tickvals": [
          0,
          2,
          4,
          6
         ],
         "title": {
          "text": "$Time [min]$"
         }
        },
        "xaxis3": {
         "anchor": "y3",
         "domain": [
          0.7111111111111111,
          1
         ],
         "range": [
          -1,
          6
         ],
         "tickvals": [
          0,
          2,
          4,
          6
         ],
         "title": {
          "text": "$Time [min]$"
         }
        },
        "yaxis": {
         "anchor": "x",
         "domain": [
          0,
          1
         ],
         "title": {
          "text": "$Concentration [mM]$"
         }
        },
        "yaxis2": {
         "anchor": "x2",
         "domain": [
          0,
          1
         ],
         "title": {
          "text": "$Concentration [mM]$"
         }
        },
        "yaxis3": {
         "anchor": "x3",
         "domain": [
          0,
          1
         ],
         "title": {
          "text": "$Numerator$"
         }
        }
       }
      },
      "text/html": [
       "<div>                            <div id=\"86ddbf9c-81b0-490e-9773-a2f5727caeb9\" class=\"plotly-graph-div\" style=\"height:525px; width:100%;\"></div>            <script type=\"text/javascript\">                require([\"plotly\"], function(Plotly) {                    window.PLOTLYENV=window.PLOTLYENV || {};                                    if (document.getElementById(\"86ddbf9c-81b0-490e-9773-a2f5727caeb9\")) {                    Plotly.newPlot(                        \"86ddbf9c-81b0-490e-9773-a2f5727caeb9\",                        [{\"line\": {\"color\": \"#e3988b\"}, \"name\": \"Blood plasma\", \"showlegend\": false, \"type\": \"scatter\", \"visible\": true, \"x\": [0.08975, 0.1795, 0.26925, 0.359, 0.44875, 0.5385, 0.62825, 0.718, 0.80775, 0.8975, 0.98725, 1.077, 1.16675, 1.2565, 1.34625, 1.436, 1.52575, 1.6155, 1.70525, 1.795, 1.88475, 1.9745, 2.06425, 2.154, 2.24375, 2.3335, 2.42325, 2.513, 2.60275, 2.6925, 2.78225, 2.872, 2.96175, 3.0515, 3.14125, 3.231, 3.32075, 3.4105, 3.50025, 3.59, 3.67975, 3.7695, 3.85925, 3.949, 4.03875, 4.1285, 4.21825, 4.308, 4.39775, 4.4875, 4.57725, 4.667, 4.75675, 4.8465, 4.93625, 5.026, 5.11575, 5.2055, 5.29525, 5.385, 5.47475, 5.5645, 5.65425, 5.744, 5.83375, 5.9235, 6.01325, 6.103, 6.19275, 6.2825], \"xaxis\": \"x\", \"y\": [0.0, 0.017472052946686745, 0.0, 0.02802363969385624, 0.03596245124936104, 0.0, 0.4320945739746094, 5.349015235900879, 7.170814514160156, 2.6414613723754883, 1.9356606006622314, 2.8632264137268066, 2.9101641178131104, 2.6804256439208984, 2.510544538497925, 2.5809497833251953, 2.521298885345459, 2.3370227813720703, 2.2303218841552734, 2.170596122741699, 2.0633745193481445, 2.0585691928863525, 1.987188458442688, 2.1410651206970215, 1.982475757598877, 1.9263651371002197, 1.968371868133545, 1.7761495113372803, 1.8165353536605835, 1.839158535003662, 1.7538973093032837, 1.7895638942718506, 1.7406084537506104, 1.6445672512054443, 1.6273672580718994, 1.6316598653793335, 1.6748595237731934, 1.7538973093032837, 1.6059786081314087, 1.7010211944580078, 1.4843122959136963, 1.4107842445373535, 1.4269952774047852, 1.4760686159133911, 1.51747465133667, 1.3506343364715576, 1.3585963249206543, 1.334763526916504, 1.354613184928894, 1.4188807010650635, 1.4229357242584229, 1.3387246131896973, 1.354613184928894, 1.3189626932144165, 1.4188807010650635, 1.366576075553894, 1.354613184928894, 1.3308067321777344, 1.2719773054122925, 1.366576075553894, 1.2797651290893555, 1.4269952774047852, 1.3032317161560059, 1.3032317161560059, 1.2642065286636353, 1.2875701189041138, 1.2564529180526733, 1.2409963607788086, 1.2953922748565674, 1.2642065286636353], \"yaxis\": \"y\"}, {\"line\": {\"color\": \"#97d6d0\"}, \"name\": \"Muscle\", \"showlegend\": false, \"type\": \"scatter\", \"visible\": true, \"x\": [0.08975, 0.1795, 0.26925, 0.359, 0.44875, 0.5385, 0.62825, 0.718, 0.80775, 0.8975, 0.98725, 1.077, 1.16675, 1.2565, 1.34625, 1.436, 1.52575, 1.6155, 1.70525, 1.795, 1.88475, 1.9745, 2.06425, 2.154, 2.24375, 2.3335, 2.42325, 2.513, 2.60275, 2.6925, 2.78225, 2.872, 2.96175, 3.0515, 3.14125, 3.231, 3.32075, 3.4105, 3.50025, 3.59, 3.67975, 3.7695, 3.85925, 3.949, 4.03875, 4.1285, 4.21825, 4.308, 4.39775, 4.4875, 4.57725, 4.667, 4.75675, 4.8465, 4.93625, 5.026, 5.11575, 5.2055, 5.29525, 5.385, 5.47475, 5.5645, 5.65425, 5.744, 5.83375, 5.9235, 6.01325, 6.103, 6.19275, 6.2825], \"xaxis\": \"x2\", \"y\": [0.0047050099819898605, 0.0, 0.0, 0.0, 0.00835740752518177, 0.0, 0.012921667657792568, 0.0656864196062088, 0.18880195915699005, 0.21879874169826508, 0.22300012409687042, 0.22378584742546082, 0.25339406728744507, 0.246176078915596, 0.26915663480758667, 0.26894548535346985, 0.26993584632873535, 0.302339643239975, 0.29522061347961426, 0.2980956435203552, 0.30253535509109497, 0.3044607639312744, 0.3062775731086731, 0.31328442692756653, 0.3110545873641968, 0.31186193227767944, 0.30848363041877747, 0.313495010137558, 0.31490272283554077, 0.31324198842048645, 0.323098361492157, 0.3170599639415741, 0.322836309671402, 0.32015880942344666, 0.31530511379241943, 0.32534047961235046, 0.31918761134147644, 0.32226264476776123, 0.3297136425971985, 0.3186839818954468, 0.3200828731060028, 0.3142687976360321, 0.32298216223716736, 0.3152759075164795, 0.31549832224845886, 0.3187639117240906, 0.31228548288345337, 0.31845352053642273, 0.31804710626602173, 0.3088154196739197, 0.31871065497398376, 0.3082126975059509, 0.3137056231498718, 0.3000185787677765, 0.3135331869125366, 0.306112676858902, 0.31271058320999146, 0.3139374554157257, 0.3147488534450531, 0.3139794170856476, 0.3087445795536041, 0.3134000301361084, 0.3204634487628937, 0.31966152787208557, 0.31449776887893677, 0.30956608057022095, 0.3186933994293213, 0.3117903172969818, 0.3236398994922638, 0.308078795671463], \"yaxis\": \"y2\"}, {\"marker\": {\"color\": \"red\", \"size\": 14, \"symbol\": \"circle-open\"}, \"mode\": \"markers\", \"name\": \"RRIFT fit\", \"showlegend\": false, \"type\": \"scatter\", \"visible\": true, \"x\": [0.0, 0.1519097536802292, 0.2987378239631653, 0.44498664140701294, 0.5933666825294495, 0.7472321391105652, 0.8980065584182739, 1.0464081764221191, 1.1893500089645386, 1.3192675113677979, 1.44661283493042, 1.576887845993042, 1.7112231254577637, 1.8399295806884766, 1.9615063667297363, 2.0823709964752197, 2.203056812286377, 2.32751727104187, 2.4550437927246094, 2.5789732933044434, 2.6998367309570312, 2.8198134899139404, 2.942674160003662, 3.067671537399292, 3.1897850036621094, 3.310293197631836, 3.427093029022217, 3.5454981327056885, 3.664252758026123, 3.7857186794281006, 3.9082376956939697, 4.025202751159668, 4.140416622161865, 4.254927635192871, 4.369090557098389, 4.481163501739502, 4.59498405456543, 4.709846019744873], \"xaxis\": \"x3\", \"y\": [0.0, 0.014901384251287328, 0.027420677275869956, 0.05497069376261262, 0.06643862000623534, 0.08705030282424059, 0.11232572188407142, 0.11902264512060022, 0.13788482404914373, 0.14941332929358578, 0.175548538459283, 0.1852916617442995, 0.2027588533040498, 0.22336457837655893, 0.23413844911284384, 0.25755030053829353, 0.2745452174288609, 0.2824513653446071, 0.30950257595289343, 0.31614411593335845, 0.3386397061420768, 0.3417313067908914, 0.3720198457212905, 0.3815398733890079, 0.405055828246452, 0.42341467107769487, 0.4414137641322603, 0.45783316999085827, 0.4696230234506191, 0.4912873251282256, 0.5156799777615447, 0.5323784743625322, 0.5445520367590079, 0.5566816697633721, 0.5829850145462978, 0.5933187668872694, 0.622540416236018, 0.6242499100426578], \"yaxis\": \"y3\"}, {\"line\": {\"color\": \"black\"}, \"mode\": \"lines\", \"name\": \"RRIFT\", \"showlegend\": false, \"type\": \"scatter\", \"visible\": true, \"x\": [0.0, 0.1519097536802292, 0.2987378239631653, 0.44498664140701294, 0.5933666825294495, 0.7472321391105652, 0.8980065584182739, 1.0464081764221191, 1.1893500089645386, 1.3192675113677979, 1.44661283493042, 1.576887845993042, 1.7112231254577637, 1.8399295806884766, 1.9615063667297363, 2.0823709964752197, 2.203056812286377, 2.32751727104187, 2.4550437927246094, 2.5789732933044434, 2.6998367309570312, 2.8198134899139404, 2.942674160003662, 3.067671537399292, 3.1897850036621094, 3.310293197631836, 3.427093029022217, 3.5454981327056885, 3.664252758026123, 3.7857186794281006, 3.9082376956939697, 4.025202751159668, 4.140416622161865, 4.254927635192871, 4.369090557098389, 4.481163501739502, 4.59498405456543, 4.709846019744873], \"xaxis\": \"x3\", \"y\": [-0.018971234508973294, 0.0015080411694454975, 0.021302244344734076, 0.04101835721777537, 0.06102178486941916, 0.08176471299859926, 0.10209093184532195, 0.12209726832205396, 0.14136755955547048, 0.1588820132538722, 0.17604970607421672, 0.19361235627228446, 0.2117223798543549, 0.2290735697181094, 0.2454635937759204, 0.2617576105349635, 0.2780275210087452, 0.2948062990935388, 0.31199841961628155, 0.3287056181047055, 0.3449994741551803, 0.361173795172472, 0.37773690235846, 0.39458806358246523, 0.41105043863777413, 0.42729640353486287, 0.4430424362173433, 0.459004879058044, 0.4750144416510023, 0.4913895198119512, 0.507906567922233, 0.523674874812295, 0.5392071008153635, 0.5546445730464977, 0.5700351183756563, 0.5851439094426795, 0.6004882992709909, 0.6159730841046648], \"yaxis\": \"y3\"}, {\"line\": {\"color\": \"#e3988b\"}, \"name\": \"Blood plasma\", \"showlegend\": false, \"type\": \"scatter\", \"visible\": false, \"x\": [0.08833333333333333, 0.17666666666666667, 0.265, 0.35333333333333333, 0.4416666666666667, 0.53, 0.6183333333333334, 0.7066666666666667, 0.795, 0.8833333333333334, 0.9716666666666667, 1.06, 1.1483333333333332, 1.2366666666666668, 1.325, 1.4133333333333333, 1.5016666666666667, 1.59, 1.6783333333333332, 1.7666666666666668, 1.855, 1.9433333333333334, 2.0316666666666667, 2.12, 2.2083333333333335, 2.2966666666666664, 2.385, 2.4733333333333336, 2.5616666666666665, 2.65, 2.7383333333333333, 2.8266666666666667, 2.915, 3.0033333333333334, 3.0916666666666663, 3.18, 3.2683333333333335, 3.3566666666666665, 3.445, 3.5333333333333337, 3.6216666666666666, 3.71, 3.7983333333333333, 3.8866666666666667, 3.975, 4.0633333333333335, 4.151666666666667, 4.24, 4.328333333333333, 4.416666666666667, 4.505, 4.593333333333333, 4.681666666666667, 4.77, 4.858333333333333, 4.946666666666667, 5.035, 5.123333333333333, 5.211666666666667, 5.3, 5.388333333333333, 5.476666666666667, 5.565, 5.653333333333333, 5.741666666666667, 5.83, 5.918333333333333, 6.006666666666667, 6.095, 6.183333333333333], \"xaxis\": \"x\", \"y\": [0.01934405043721199, 0.024686969816684723, 0.0, 0.03003949299454689, 0.024686969816684723, 0.0, 0.3757971525192261, 4.950164318084717, 6.739410400390625, 2.4474008083343506, 1.866156816482544, 2.8004515171051025, 2.3017685413360596, 2.1908488273620605, 2.281376361846924, 2.1611151695251465, 2.131598472595215, 1.9871890544891357, 1.9122669696807861, 1.940195918083191, 1.7755451202392578, 1.8387502431869507, 1.7576748132705688, 1.7576748132705688, 1.6435102224349976, 1.5919551849365234, 1.5834307670593262, 1.5410974025726318, 1.5749257802963257, 1.5664399862289429, 1.466087818145752, 1.408780574798584, 1.515925645828247, 1.4578462839126587, 1.4909229278564453, 1.2810702323913574, 1.474347710609436, 1.4992384910583496, 1.5075727701187134, 1.408780574798584, 1.3363921642303467, 1.4826260805130005, 1.3204994201660156, 1.135072112083435, 1.376430630683899, 1.242067575454712, 1.2810702323913574, 1.296790361404419, 1.3443646430969238, 1.3844913244247437, 1.1958179473876953, 1.408780574798584, 1.4826260805130005, 1.2343177795410156, 1.226584553718567, 1.2889217138290405, 1.249834418296814, 1.2343177795410156, 1.242067575454712, 1.1200470924377441, 1.127551555633545, 1.009365439414978, 1.142608642578125, 1.105085849761963, 1.1958179473876953, 1.097629189491272, 1.0753533840179443, 1.142608642578125, 1.242067575454712, 1.27323579788208], \"yaxis\": \"y\"}, {\"line\": {\"color\": \"#97d6d0\"}, \"name\": \"Muscle\", \"showlegend\": false, \"type\": \"scatter\", \"visible\": false, \"x\": [0.08833333333333333, 0.17666666666666667, 0.265, 0.35333333333333333, 0.4416666666666667, 0.53, 0.6183333333333334, 0.7066666666666667, 0.795, 0.8833333333333334, 0.9716666666666667, 1.06, 1.1483333333333332, 1.2366666666666668, 1.325, 1.4133333333333333, 1.5016666666666667, 1.59, 1.6783333333333332, 1.7666666666666668, 1.855, 1.9433333333333334, 2.0316666666666667, 2.12, 2.2083333333333335, 2.2966666666666664, 2.385, 2.4733333333333336, 2.5616666666666665, 2.65, 2.7383333333333333, 2.8266666666666667, 2.915, 3.0033333333333334, 3.0916666666666663, 3.18, 3.2683333333333335, 3.3566666666666665, 3.445, 3.5333333333333337, 3.6216666666666666, 3.71, 3.7983333333333333, 3.8866666666666667, 3.975, 4.0633333333333335, 4.151666666666667, 4.24, 4.328333333333333, 4.416666666666667, 4.505, 4.593333333333333, 4.681666666666667, 4.77, 4.858333333333333, 4.946666666666667, 5.035, 5.123333333333333, 5.211666666666667, 5.3, 5.388333333333333, 5.476666666666667, 5.565, 5.653333333333333, 5.741666666666667, 5.83, 5.918333333333333, 6.006666666666667, 6.095, 6.183333333333333], \"xaxis\": \"x2\", \"y\": [0.0, 0.0001929859135998413, 0.00018892224761657417, 0.0027939199935644865, 0.0, 0.0034573026932775974, 0.01511294674128294, 0.03116619773209095, 0.07431650906801224, 0.11985568702220917, 0.13575543463230133, 0.14578744769096375, 0.152150958776474, 0.15124298632144928, 0.16109274327754974, 0.1706756055355072, 0.17375755310058594, 0.1772954761981964, 0.18291494250297546, 0.18103057146072388, 0.18263420462608337, 0.19016733765602112, 0.18855905532836914, 0.1934431940317154, 0.1935666799545288, 0.1959928274154663, 0.1878025084733963, 0.19912926852703094, 0.19723671674728394, 0.1978335976600647, 0.20072507858276367, 0.20050650835037231, 0.19614925980567932, 0.20045271515846252, 0.2020161896944046, 0.20079495012760162, 0.2021753042936325, 0.20394007861614227, 0.20244039595127106, 0.20375609397888184, 0.21458083391189575, 0.20751425623893738, 0.2084447145462036, 0.2083146721124649, 0.20677867531776428, 0.20781296491622925, 0.21160724759101868, 0.20928436517715454, 0.21061807870864868, 0.21264705061912537, 0.2081226259469986, 0.21335245668888092, 0.21752652525901794, 0.2133946269750595, 0.21145150065422058, 0.21088272333145142, 0.21570643782615662, 0.20787282288074493, 0.21351325511932373, 0.20673836767673492, 0.21300427615642548, 0.2122592180967331, 0.20446348190307617, 0.21025793254375458, 0.21116042137145996, 0.21212270855903625, 0.21324898302555084, 0.21858243644237518, 0.2084697186946869, 0.21565814316272736], \"yaxis\": \"y2\"}, {\"marker\": {\"color\": \"red\", \"size\": 14, \"symbol\": \"circle-open\"}, \"mode\": \"markers\", \"name\": \"RRIFT fit\", \"showlegend\": false, \"type\": \"scatter\", \"visible\": false, \"x\": [0.0, 0.1313415914773941, 0.26157888770103455, 0.38400858640670776, 0.5057061910629272, 0.6370395421981812, 0.7698403596878052, 0.8986459970474243, 1.0198911428451538, 1.1443977355957031, 1.2682024240493774, 1.3766568899154663, 1.4875816106796265, 1.6032319068908691, 1.7146705389022827, 1.8285260200500488, 1.9451770782470703, 2.065701484680176, 2.1796650886535645, 2.29470157623291, 2.422405242919922, 2.5424036979675293, 2.6510934829711914, 2.762195110321045, 2.874323606491089, 2.9840402603149414, 3.093413829803467, 3.1977405548095703, 3.2970094680786133, 3.391390085220337, 3.486435651779175, 3.5857088565826416, 3.6873321533203125, 3.788625955581665, 3.884599447250366, 3.9825594425201416, 4.0878825187683105, 4.198975086212158], \"xaxis\": \"x3\", \"y\": [0.0, 0.011823164509474975, 0.02101758720037627, 0.027433784680655243, 0.03645459276101608, 0.04591945371021527, 0.052124883900572815, 0.0611422063717331, 0.07989875760630946, 0.08083524727735218, 0.08965243000575604, 0.0974242881520076, 0.10375860326343186, 0.11265369222790426, 0.12440032565126859, 0.13005769223841798, 0.13935289979043683, 0.14940712338807965, 0.1528606357648508, 0.16608177829609316, 0.17842545980442245, 0.18246397402171222, 0.18857607565683038, 0.19601489973739897, 0.20892689070019876, 0.20912448348039256, 0.22275453994998046, 0.2239477670795387, 0.23817213971607465, 0.24549022302634482, 0.2455956918210726, 0.2592534023912406, 0.2681461274123506, 0.27713400758468015, 0.28632547487958465, 0.29984659977589107, 0.29783093702057756, 0.3130609708797604], \"yaxis\": \"y3\"}, {\"line\": {\"color\": \"black\"}, \"mode\": \"lines\", \"name\": \"RRIFT\", \"showlegend\": false, \"type\": \"scatter\", \"visible\": false, \"x\": [0.0, 0.1313415914773941, 0.26157888770103455, 0.38400858640670776, 0.5057061910629272, 0.6370395421981812, 0.7698403596878052, 0.8986459970474243, 1.0198911428451538, 1.1443977355957031, 1.2682024240493774, 1.3766568899154663, 1.4875816106796265, 1.6032319068908691, 1.7146705389022827, 1.8285260200500488, 1.9451770782470703, 2.065701484680176, 2.1796650886535645, 2.29470157623291, 2.422405242919922, 2.5424036979675293, 2.6510934829711914, 2.762195110321045, 2.874323606491089, 2.9840402603149414, 3.093413829803467, 3.1977405548095703, 3.2970094680786133, 3.391390085220337, 3.486435651779175, 3.5857088565826416, 3.6873321533203125, 3.788625955581665, 3.884599447250366, 3.9825594425201416, 4.0878825187683105, 4.198975086212158], \"xaxis\": \"x3\", \"y\": [-0.0018584140127595582, 0.007734678420931484, 0.017247113948274863, 0.026189288343311135, 0.03507799113192353, 0.04467048169713599, 0.05437015491654393, 0.06377802314223074, 0.07263367867137938, 0.0817275478671514, 0.09077015049363804, 0.09869158424662444, 0.1067934435853329, 0.11524045545003345, 0.12337985048510557, 0.1316957703886715, 0.14021587716661096, 0.14901889042709462, 0.15734270754165613, 0.16574488727910627, 0.17507226838412834, 0.18383686654548037, 0.19177548783375367, 0.19989026829828066, 0.2080800504998702, 0.21609367352520603, 0.2240822379251337, 0.23170218454699318, 0.2389527123506394, 0.24584620263048873, 0.25278826032261287, 0.26003910157675064, 0.2674615918028469, 0.2748600159967583, 0.281869848650723, 0.28902477405444504, 0.2967174934320938, 0.30483161216780524], \"yaxis\": \"y3\"}, {\"line\": {\"color\": \"#e3988b\"}, \"name\": \"Blood plasma\", \"showlegend\": false, \"type\": \"scatter\", \"visible\": false, \"x\": [0.09221666666666667, 0.18443333333333334, 0.27664999999999995, 0.3688666666666667, 0.4610833333333333, 0.5532999999999999, 0.6455166666666666, 0.7377333333333334, 0.8299500000000001, 0.9221666666666666, 1.0143833333333334, 1.1065999999999998, 1.1988166666666666, 1.2910333333333333, 1.38325, 1.4754666666666667, 1.5676833333333333, 1.6599000000000002, 1.7521166666666665, 1.8443333333333332, 1.93655, 2.028766666666667, 2.120983333333333, 2.2131999999999996, 2.3054166666666664, 2.3976333333333333, 2.48985, 2.5820666666666665, 2.6742833333333333, 2.7665, 2.8587166666666666, 2.9509333333333334, 3.0431500000000002, 3.1353666666666666, 3.2275833333333335, 3.3198000000000003, 3.4120166666666667, 3.504233333333333, 3.59645, 3.6886666666666663, 3.780883333333333, 3.8731, 3.965316666666667, 4.057533333333334, 4.14975, 4.241966666666666, 4.334183333333334, 4.426399999999999, 4.5186166666666665, 4.610833333333333, 4.70305, 4.795266666666667, 4.887483333333334, 4.9797, 5.071916666666667, 5.164133333333333, 5.25635, 5.348566666666667, 5.440783333333334, 5.533, 5.625216666666666, 5.717433333333333, 5.8096499999999995, 5.901866666666667, 5.994083333333333, 6.0863000000000005, 6.178516666666666, 6.270733333333333, 6.36295, 6.455166666666667], \"xaxis\": \"x\", \"y\": [0.0, 0.0, 0.0036726745311170816, 1.0314891338348389, 2.095207691192627, 4.838740348815918, 3.365403890609741, 1.7209243774414062, 1.9844450950622559, 2.221430540084839, 2.2675132751464844, 2.178901195526123, 2.0922515392303467, 2.101126194000244, 2.1910054683685303, 2.083397150039673, 2.0804502964019775, 2.0922515392303467, 1.9501229524612427, 1.9529714584350586, 1.910468578338623, 1.8628696203231812, 1.9161081314086914, 1.85453200340271, 1.8131200075149536, 1.780318021774292, 1.8712258338928223, 1.910468578338623, 1.8796006441116333, 1.9415905475616455, 1.85453200340271, 1.8628696203231812, 1.74510657787323, 1.769448161125183, 1.7343393564224243, 1.7748790979385376, 1.7155718803405762, 1.7397191524505615, 1.7721625566482544, 1.79121994972229, 1.6862722635269165, 1.673031210899353, 1.651944637298584, 1.7075577974319458, 1.63620924949646, 1.6493173837661743, 1.599755883216858, 1.5919917821884155, 1.543203353881836, 1.599755883216858, 1.5228568315505981, 1.553419828414917, 1.5228568315505981, 1.5051480531692505, 1.437653660774231, 1.4900383949279785, 1.4774956703186035, 1.4575189352035522, 1.4401307106018066, 1.4080634117126465, 1.4228276014328003, 1.4500564336776733, 1.487526297569275, 1.3544514179229736, 1.3689919710159302, 1.330350637435913, 1.332753300666809, 1.3641383647918701, 1.3064152002334595, 1.2992665767669678], \"yaxis\": \"y\"}, {\"line\": {\"color\": \"#97d6d0\"}, \"name\": \"Muscle\", \"showlegend\": false, \"type\": \"scatter\", \"visible\": false, \"x\": [0.09221666666666667, 0.18443333333333334, 0.27664999999999995, 0.3688666666666667, 0.4610833333333333, 0.5532999999999999, 0.6455166666666666, 0.7377333333333334, 0.8299500000000001, 0.9221666666666666, 1.0143833333333334, 1.1065999999999998, 1.1988166666666666, 1.2910333333333333, 1.38325, 1.4754666666666667, 1.5676833333333333, 1.6599000000000002, 1.7521166666666665, 1.8443333333333332, 1.93655, 2.028766666666667, 2.120983333333333, 2.2131999999999996, 2.3054166666666664, 2.3976333333333333, 2.48985, 2.5820666666666665, 2.6742833333333333, 2.7665, 2.8587166666666666, 2.9509333333333334, 3.0431500000000002, 3.1353666666666666, 3.2275833333333335, 3.3198000000000003, 3.4120166666666667, 3.504233333333333, 3.59645, 3.6886666666666663, 3.780883333333333, 3.8731, 3.965316666666667, 4.057533333333334, 4.14975, 4.241966666666666, 4.334183333333334, 4.426399999999999, 4.5186166666666665, 4.610833333333333, 4.70305, 4.795266666666667, 4.887483333333334, 4.9797, 5.071916666666667, 5.164133333333333, 5.25635, 5.348566666666667, 5.440783333333334, 5.533, 5.625216666666666, 5.717433333333333, 5.8096499999999995, 5.901866666666667, 5.994083333333333, 6.0863000000000005, 6.178516666666666, 6.270733333333333, 6.36295, 6.455166666666667], \"xaxis\": \"x2\", \"y\": [0.0, 0.0, 0.007417201995849609, 0.02712368778884411, 0.05626682937145233, 0.08165822178125381, 0.10559486597776413, 0.12933121621608734, 0.14075158536434174, 0.16257068514823914, 0.15702487528324127, 0.16140684485435486, 0.1861266940832138, 0.18913058936595917, 0.19064103066921234, 0.2008311152458191, 0.20714886486530304, 0.20646695792675018, 0.21186427772045135, 0.22018644213676453, 0.2338952273130417, 0.23145875334739685, 0.23024886846542358, 0.23076298832893372, 0.23806150257587433, 0.24439513683319092, 0.2568660378456116, 0.2598288059234619, 0.2560291290283203, 0.2624095380306244, 0.26426035165786743, 0.26271021366119385, 0.2822454273700714, 0.26993411779403687, 0.27248984575271606, 0.2764594852924347, 0.2911994159221649, 0.29229822754859924, 0.28469765186309814, 0.2875242233276367, 0.2915782332420349, 0.2992238998413086, 0.30959272384643555, 0.30382293462753296, 0.30041348934173584, 0.3096548616886139, 0.31341156363487244, 0.31671252846717834, 0.3182208240032196, 0.3200172781944275, 0.3175673484802246, 0.328323096036911, 0.3257579207420349, 0.33395519852638245, 0.35024866461753845, 0.3405194878578186, 0.34391602873802185, 0.3438957631587982, 0.34254512190818787, 0.350722074508667, 0.3522682189941406, 0.3464852571487427, 0.3521365225315094, 0.35408589243888855, 0.34993359446525574, 0.3674648106098175, 0.35471010208129883, 0.3622516691684723, 0.3628954291343689, 0.3633855879306793], \"yaxis\": \"y2\"}, {\"marker\": {\"color\": \"red\", \"size\": 14, \"symbol\": \"circle-open\"}, \"mode\": \"markers\", \"name\": \"RRIFT fit\", \"showlegend\": false, \"type\": \"scatter\", \"visible\": false, \"x\": [0.0, 0.162050262093544, 0.3236040472984314, 0.4854082465171814, 0.6463471055030823, 0.8056648373603821, 0.9675918817520142, 1.131893515586853, 1.2922348976135254, 1.4471267461776733, 1.6004358530044556, 1.755336880683899, 1.9095124006271362, 2.061002492904663, 2.2108118534088135, 2.357978105545044, 2.5025367736816406, 2.6474533081054688, 2.7914316654205322, 2.9332735538482666, 3.075115442276001, 3.2147316932678223, 3.350419282913208, 3.485410213470459, 3.6222381591796875, 3.7575666904449463, 3.891172409057617, 4.02249813079834, 4.1530256271362305, 4.285489559173584, 4.420936584472656, 4.551975250244141, 4.677548885345459, 4.802011013031006, 4.924802303314209, 5.049151420593262, 5.172286033630371, 5.2924299240112305], \"xaxis\": \"x3\", \"y\": [0.0, -0.005774695282428913, 0.0032021619345971915, 0.013670177003073523, 0.035129964099904556, 0.0431361287241082, 0.04236593917975463, 0.051966382877053886, 0.06287571626047057, 0.07751520525252693, 0.09509110434660763, 0.09658283286449623, 0.10032624298637423, 0.11678950817290143, 0.1279219721105334, 0.1386822464794781, 0.14770678281725264, 0.1570585989158071, 0.1621562953688614, 0.18055799205334325, 0.18573572458780865, 0.20174258214173546, 0.22613554556258256, 0.22458357315348026, 0.23608235364037183, 0.24420429548190126, 0.25097963307339144, 0.2673633733121912, 0.2772314059244891, 0.27972017743079425, 0.2936416171633279, 0.3039511365412715, 0.30813291012348887, 0.334156575345334, 0.3299508594372811, 0.345979706799437, 0.3552076436499088, 0.3642954024821114], \"yaxis\": \"y3\"}, {\"line\": {\"color\": \"black\"}, \"mode\": \"lines\", \"name\": \"RRIFT\", \"showlegend\": false, \"type\": \"scatter\", \"visible\": false, \"x\": [0.0, 0.162050262093544, 0.3236040472984314, 0.4854082465171814, 0.6463471055030823, 0.8056648373603821, 0.9675918817520142, 1.131893515586853, 1.2922348976135254, 1.4471267461776733, 1.6004358530044556, 1.755336880683899, 1.9095124006271362, 2.061002492904663, 2.2108118534088135, 2.357978105545044, 2.5025367736816406, 2.6474533081054688, 2.7914316654205322, 2.9332735538482666, 3.075115442276001, 3.2147316932678223, 3.350419282913208, 3.485410213470459, 3.6222381591796875, 3.7575666904449463, 3.891172409057617, 4.02249813079834, 4.1530256271362305, 4.285489559173584, 4.420936584472656, 4.551975250244141, 4.677548885345459, 4.802011013031006, 4.924802303314209, 5.049151420593262, 5.172286033630371, 5.2924299240112305], \"xaxis\": \"x3\", \"y\": [-0.023588009637690574, -0.011987485171750677, -0.0004225014832166807, 0.011160408334265813, 0.02268137193572347, 0.03408628558653755, 0.04567798939432362, 0.05743968047998635, 0.06891787311647411, 0.0800059556387093, 0.09098073606559225, 0.10206947568365797, 0.11310627912997455, 0.12395084364415286, 0.13467509135164513, 0.1452101295947893, 0.15555850141978667, 0.16593249144846317, 0.17623932116303093, 0.1863932096896117, 0.19654709821619254, 0.20654166233814686, 0.21625498944462873, 0.22591844553768597, 0.23571340613397268, 0.2454010296996546, 0.2549653240582844, 0.26436640263957706, 0.27371033948474865, 0.2831928979490286, 0.29288900402452295, 0.30226953342711493, 0.3112588433328833, 0.3201685849071713, 0.32895871797287635, 0.33786036958810783, 0.3466750797446176, 0.35527569613233945], \"yaxis\": \"y3\"}, {\"line\": {\"color\": \"#e3988b\"}, \"name\": \"Blood plasma\", \"showlegend\": false, \"type\": \"scatter\", \"visible\": false, \"x\": [0.08845, 0.1769, 0.26535000000000003, 0.3538, 0.44225, 0.5307000000000001, 0.61915, 0.7076, 0.7960499999999999, 0.8845, 0.9729500000000001, 1.0614000000000001, 1.1498499999999998, 1.2383, 1.32675, 1.4152, 1.5036500000000002, 1.5920999999999998, 1.68055, 1.769, 1.85745, 1.9459000000000002, 2.03435, 2.1228000000000002, 2.21125, 2.2996999999999996, 2.38815, 2.4766, 2.5650500000000003, 2.6535, 2.7419499999999997, 2.8304, 2.91885, 3.0073000000000003, 3.09575, 3.1841999999999997, 3.27265, 3.3611, 3.4495500000000003, 3.538, 3.6264499999999997, 3.7149, 3.80335, 3.8918000000000004, 3.98025, 4.0687, 4.15715, 4.2456000000000005, 4.33405, 4.4225, 4.51095, 4.599399999999999, 4.68785, 4.7763, 4.86475, 4.9532, 5.04165, 5.1301000000000005, 5.2185500000000005, 5.307, 5.395449999999999, 5.483899999999999, 5.57235, 5.6608, 5.74925, 5.8377, 5.92615, 6.014600000000001, 6.1030500000000005, 6.1915], \"xaxis\": \"x\", \"y\": [0.022133439779281616, 0.0, 0.0, 0.013525809161365032, 0.0, 0.0, 0.011377810500562191, 0.3544229567050934, 4.121431350708008, 6.174637317657471, 3.3837568759918213, 2.0892300605773926, 2.620507001876831, 2.906412124633789, 2.5938212871551514, 2.249267816543579, 2.3358826637268066, 2.315093517303467, 2.3358826637268066, 2.1885077953338623, 2.1365771293640137, 2.0618677139282227, 2.0501983165740967, 1.9961903095245361, 2.038562774658203, 2.0077016353607178, 1.9961903095245361, 1.8680346012115479, 1.8791749477386475, 1.864328384399414, 1.864328384399414, 1.9278208017349243, 1.875458002090454, 1.8274587392807007, 1.7691904306411743, 1.7511614561080933, 1.7011284828186035, 1.7296383380889893, 1.7260628938674927, 1.641247034072876, 1.6587611436843872, 1.6203371286392212, 1.5754280090332031, 1.589188814163208, 1.5719956159591675, 1.5242717266082764, 1.5310519933700562, 1.5685663223266602, 1.5107479095458984, 1.497273564338684, 1.5582976341247559, 1.497273564338684, 1.497273564338684, 1.5310519933700562, 1.4871999025344849, 1.4075875282287598, 1.4638009071350098, 1.4240314960479736, 1.4604703187942505, 1.397756576538086, 1.3912172317504883, 1.3944854736328125, 1.378173589706421, 1.4075875282287598, 1.4075875282287598, 1.339321494102478, 1.3489956855773926, 1.3457680940628052, 1.3522261381149292, 1.326462984085083], \"yaxis\": \"y\"}, {\"line\": {\"color\": \"#97d6d0\"}, \"name\": \"Muscle\", \"showlegend\": false, \"type\": \"scatter\", \"visible\": false, \"x\": [0.08845, 0.1769, 0.26535000000000003, 0.3538, 0.44225, 0.5307000000000001, 0.61915, 0.7076, 0.7960499999999999, 0.8845, 0.9729500000000001, 1.0614000000000001, 1.1498499999999998, 1.2383, 1.32675, 1.4152, 1.5036500000000002, 1.5920999999999998, 1.68055, 1.769, 1.85745, 1.9459000000000002, 2.03435, 2.1228000000000002, 2.21125, 2.2996999999999996, 2.38815, 2.4766, 2.5650500000000003, 2.6535, 2.7419499999999997, 2.8304, 2.91885, 3.0073000000000003, 3.09575, 3.1841999999999997, 3.27265, 3.3611, 3.4495500000000003, 3.538, 3.6264499999999997, 3.7149, 3.80335, 3.8918000000000004, 3.98025, 4.0687, 4.15715, 4.2456000000000005, 4.33405, 4.4225, 4.51095, 4.599399999999999, 4.68785, 4.7763, 4.86475, 4.9532, 5.04165, 5.1301000000000005, 5.2185500000000005, 5.307, 5.395449999999999, 5.483899999999999, 5.57235, 5.6608, 5.74925, 5.8377, 5.92615, 6.014600000000001, 6.1030500000000005, 6.1915], \"xaxis\": \"x2\", \"y\": [0.0, 0.0, 0.0015085211489349604, 0.0, 0.00024189130635932088, 0.00016940826026257128, 0.0005079573020339012, 0.02673020213842392, 0.1361110657453537, 0.24417085945606232, 0.266846239566803, 0.27414220571517944, 0.29392293095588684, 0.3193798363208771, 0.3290766179561615, 0.3408978283405304, 0.3508850634098053, 0.35702598094940186, 0.3688070476055145, 0.3786609470844269, 0.3834618628025055, 0.38288214802742004, 0.3874346613883972, 0.39110180735588074, 0.39358869194984436, 0.3957604467868805, 0.40163519978523254, 0.4015544652938843, 0.4040997624397278, 0.40662917494773865, 0.4074610471725464, 0.40791448950767517, 0.4137916564941406, 0.41776901483535767, 0.4120163321495056, 0.41679781675338745, 0.41216447949409485, 0.4149392545223236, 0.4157206118106842, 0.4166378080844879, 0.41905078291893005, 0.4234653115272522, 0.4158157408237457, 0.41454628109931946, 0.41689789295196533, 0.4165193736553192, 0.41273269057273865, 0.41164037585258484, 0.4190112352371216, 0.41490596532821655, 0.4165613651275635, 0.41566002368927, 0.4126288890838623, 0.41123875975608826, 0.412014365196228, 0.41323772072792053, 0.4091649055480957, 0.40902212262153625, 0.40448102355003357, 0.407586008310318, 0.40404748916625977, 0.40345412492752075, 0.4062313437461853, 0.40360522270202637, 0.40141087770462036, 0.3979128301143646, 0.39844265580177307, 0.401795357465744, 0.3968966603279114, 0.39516547322273254], \"yaxis\": \"y2\"}, {\"marker\": {\"color\": \"red\", \"size\": 14, \"symbol\": \"circle-open\"}, \"mode\": \"markers\", \"name\": \"RRIFT fit\", \"showlegend\": false, \"type\": \"scatter\", \"visible\": false, \"x\": [0.0, 0.16376148164272308, 0.32282328605651855, 0.47851085662841797, 0.6311883926391602, 0.7829140424728394, 0.9357424378395081, 1.0846617221832275, 1.230604648590088, 1.3756227493286133, 1.5169554948806763, 1.6569106578826904, 1.7967140674591064, 1.9336464405059814, 2.06876802444458, 2.2058486938476562, 2.342031478881836, 2.4750611782073975, 2.6101937294006348, 2.745326280593872, 2.877760171890259, 3.011687755584717, 3.145169973373413, 3.2731919288635254, 3.400179147720337, 3.527893543243408, 3.6554605960845947, 3.7818655967712402, 3.905207872390747, 4.028405666351318, 4.151026725769043, 4.274227142333984, 4.398728370666504, 4.520210266113281, 4.639101028442383, 4.75827693939209, 4.877595901489258, 4.996060848236084], \"xaxis\": \"x3\", \"y\": [0.0, 0.02510507607940704, 0.0404350049200871, 0.06627442552212277, 0.08270278828613352, 0.10649204227542601, 0.1283782302723717, 0.15044341292753546, 0.1740889848249401, 0.19990957897611894, 0.21358388010596024, 0.23341168366558812, 0.25688805337424536, 0.27768442290304174, 0.2949668020679704, 0.3148195873975267, 0.3432950677471428, 0.3603773886395164, 0.38315813463676596, 0.4034012979890787, 0.42141475454593025, 0.4409568839678241, 0.4626491347602106, 0.4848399238603782, 0.5016621451513449, 0.5223072916979038, 0.5384351172689809, 0.5621725388738366, 0.5792554416329194, 0.5991785192653785, 0.622527665820238, 0.6404773114999036, 0.6587362581629815, 0.6755468738639353, 0.6963099483157366, 0.7199945433106594, 0.7353884599212749, 0.7537814390564394], \"yaxis\": \"y3\"}, {\"line\": {\"color\": \"black\"}, \"mode\": \"lines\", \"name\": \"RRIFT\", \"showlegend\": false, \"type\": \"scatter\", \"visible\": false, \"x\": [0.0, 0.16376148164272308, 0.32282328605651855, 0.47851085662841797, 0.6311883926391602, 0.7829140424728394, 0.9357424378395081, 1.0846617221832275, 1.230604648590088, 1.3756227493286133, 1.5169554948806763, 1.6569106578826904, 1.7967140674591064, 1.9336464405059814, 2.06876802444458, 2.2058486938476562, 2.342031478881836, 2.4750611782073975, 2.6101937294006348, 2.745326280593872, 2.877760171890259, 3.011687755584717, 3.145169973373413, 3.2731919288635254, 3.400179147720337, 3.527893543243408, 3.6554605960845947, 3.7818655967712402, 3.905207872390747, 4.028405666351318, 4.151026725769043, 4.274227142333984, 4.398728370666504, 4.520210266113281, 4.639101028442383, 4.75827693939209, 4.877595901489258, 4.996060848236084], \"xaxis\": \"x3\", \"y\": [-0.012290840087496917, 0.012604265060401937, 0.036784922844966636, 0.06045262785550314, 0.08366274585505801, 0.10672815762559551, 0.12996120934247304, 0.15259999597958382, 0.1747863151435586, 0.1968320418310504, 0.21831751891677995, 0.2395935751906717, 0.2608465618303068, 0.2816630920116258, 0.30220434509604144, 0.32304341936613906, 0.34374599679003026, 0.36396924049350704, 0.3845121608256458, 0.4050550811577846, 0.4251877498164738, 0.445547490366157, 0.4658395261604728, 0.485301490055739, 0.5046061527527747, 0.5240213612227603, 0.5434141705820302, 0.5626303241716745, 0.5813808807123626, 0.6001094730765236, 0.6187503899571548, 0.6374793810109888, 0.6564061221425983, 0.6748738627271129, 0.6929476979147684, 0.7110648815432266, 0.7292038118811174, 0.7472129143636945], \"yaxis\": \"y3\"}, {\"line\": {\"color\": \"#e3988b\"}, \"name\": \"Blood plasma\", \"showlegend\": false, \"type\": \"scatter\", \"visible\": false, \"x\": [0.08845, 0.1769, 0.26535000000000003, 0.3538, 0.44225, 0.5307000000000001, 0.61915, 0.7076, 0.7960499999999999, 0.8845, 0.9729500000000001, 1.0614000000000001, 1.1498499999999998, 1.2383, 1.32675, 1.4152, 1.5036500000000002, 1.5920999999999998, 1.68055, 1.769, 1.85745, 1.9459000000000002, 2.03435, 2.1228000000000002, 2.21125, 2.2996999999999996, 2.38815, 2.4766, 2.5650500000000003, 2.6535, 2.7419499999999997, 2.8304, 2.91885, 3.0073000000000003, 3.09575, 3.1841999999999997, 3.27265, 3.3611, 3.4495500000000003, 3.538, 3.6264499999999997, 3.7149, 3.80335, 3.8918000000000004, 3.98025, 4.0687, 4.15715, 4.2456000000000005, 4.33405, 4.4225, 4.51095, 4.599399999999999, 4.68785, 4.7763, 4.86475, 4.9532, 5.04165, 5.1301000000000005, 5.2185500000000005, 5.307, 5.395449999999999, 5.483899999999999, 5.57235, 5.6608, 5.74925, 5.8377, 5.92615, 6.014600000000001, 6.1030500000000005, 6.1915], \"xaxis\": \"x\", \"y\": [0.0, 0.0, 0.010121961124241352, 0.0, 0.0, 0.010121961124241352, 0.027571236714720726, 0.17097938060760498, 3.637427568435669, 6.206742286682129, 3.8227803707122803, 2.0240094661712646, 2.224855661392212, 2.514986515045166, 2.000575542449951, 1.7663226127624512, 1.9464328289031982, 2.0871877670288086, 1.9927948713302612, 2.0554728507995605, 2.063377857208252, 2.0397098064422607, 1.9618258476257324, 1.8553286790847778, 1.8703651428222656, 1.9310998916625977, 1.788381576538086, 1.7957627773284912, 1.6937017440795898, 1.7298388481140137, 1.71534264087677, 1.6013327836990356, 1.7516871690750122, 1.7736613750457764, 1.6436829566955566, 1.6295130252838135, 1.5803362131118774, 1.5456026792526245, 1.6507878303527832, 1.5317997932434082, 1.5594571828842163, 1.6937017440795898, 1.6436829566955566, 1.6083580255508423, 1.5317997932434082, 1.463547945022583, 1.4433170557022095, 1.3569233417510986, 1.4500483274459839, 1.5043472051620483, 1.6013327836990356, 1.477097511291504, 1.5043472051620483, 1.463547945022583, 1.3503620624542236, 1.4703165292739868, 1.5043472051620483, 1.383288025856018, 1.4433170557022095, 1.5111912488937378, 1.4031879901885986, 1.3503620624542236, 1.3503620624542236, 1.3242355585098267, 1.4231973886489868, 1.4165153503417969, 1.3177335262298584, 1.3569233417510986, 1.3503620624542236, 1.3112430572509766], \"yaxis\": \"y\"}, {\"line\": {\"color\": \"#97d6d0\"}, \"name\": \"Muscle\", \"showlegend\": false, \"type\": \"scatter\", \"visible\": false, \"x\": [0.08845, 0.1769, 0.26535000000000003, 0.3538, 0.44225, 0.5307000000000001, 0.61915, 0.7076, 0.7960499999999999, 0.8845, 0.9729500000000001, 1.0614000000000001, 1.1498499999999998, 1.2383, 1.32675, 1.4152, 1.5036500000000002, 1.5920999999999998, 1.68055, 1.769, 1.85745, 1.9459000000000002, 2.03435, 2.1228000000000002, 2.21125, 2.2996999999999996, 2.38815, 2.4766, 2.5650500000000003, 2.6535, 2.7419499999999997, 2.8304, 2.91885, 3.0073000000000003, 3.09575, 3.1841999999999997, 3.27265, 3.3611, 3.4495500000000003, 3.538, 3.6264499999999997, 3.7149, 3.80335, 3.8918000000000004, 3.98025, 4.0687, 4.15715, 4.2456000000000005, 4.33405, 4.4225, 4.51095, 4.599399999999999, 4.68785, 4.7763, 4.86475, 4.9532, 5.04165, 5.1301000000000005, 5.2185500000000005, 5.307, 5.395449999999999, 5.483899999999999, 5.57235, 5.6608, 5.74925, 5.8377, 5.92615, 6.014600000000001, 6.1030500000000005, 6.1915], \"xaxis\": \"x2\", \"y\": [0.0, 0.0, 0.0007373212138190866, 0.0, 0.0, 0.0014356556348502636, 0.000739917391911149, 0.009830941446125507, 0.09446106106042862, 0.20153485238552094, 0.24234503507614136, 0.24960388243198395, 0.2670082151889801, 0.2830812931060791, 0.28747040033340454, 0.29706910252571106, 0.3047780394554138, 0.32035794854164124, 0.32269567251205444, 0.331238716840744, 0.3311508595943451, 0.339579701423645, 0.34721362590789795, 0.34875085949897766, 0.3502984642982483, 0.3548228442668915, 0.3598002791404724, 0.36113014817237854, 0.3676183223724365, 0.3685605227947235, 0.36825019121170044, 0.37187322974205017, 0.37226244807243347, 0.3734550178050995, 0.37634962797164917, 0.37576422095298767, 0.37749820947647095, 0.37297651171684265, 0.3775838613510132, 0.3807653486728668, 0.37882232666015625, 0.38047611713409424, 0.3776376247406006, 0.37922582030296326, 0.3780061602592468, 0.3788571357727051, 0.37770724296569824, 0.3821498155593872, 0.3802344501018524, 0.377435564994812, 0.37813758850097656, 0.3782227039337158, 0.3751300871372223, 0.37802422046661377, 0.3801291584968567, 0.37768447399139404, 0.3727896213531494, 0.3713586926460266, 0.3739513158798218, 0.3731251358985901, 0.3733782172203064, 0.3700937330722809, 0.3693530261516571, 0.36965495347976685, 0.3606743812561035, 0.36845797300338745, 0.3655894100666046, 0.3629370331764221, 0.36022889614105225, 0.36250728368759155], \"yaxis\": \"y2\"}, {\"marker\": {\"color\": \"red\", \"size\": 14, \"symbol\": \"circle-open\"}, \"mode\": \"markers\", \"name\": \"RRIFT fit\", \"showlegend\": false, \"type\": \"scatter\", \"visible\": false, \"x\": [0.0, 0.15590853989124298, 0.30704057216644287, 0.4517976641654968, 0.5937532186508179, 0.7319978475570679, 0.8733582496643066, 1.0141081809997559, 1.1508190631866455, 1.2946900129318237, 1.4422858953475952, 1.5861073732376099, 1.7249808311462402, 1.8574501276016235, 1.986006259918213, 2.109846830368042, 2.233985185623169, 2.3646433353424072, 2.5019919872283936, 2.6381356716156006, 2.7699899673461914, 2.9012451171875, 3.0256903171539307, 3.150434732437134, 3.281989336013794, 3.4096949100494385, 3.5347015857696533, 3.6653647422790527, 3.79425311088562, 3.9160289764404297, 4.035468578338623, 4.15375280380249, 4.2752580642700195, 4.400844573974609, 4.521766662597656, 4.6400532722473145, 4.759782791137695, 4.877492427825928], \"xaxis\": \"x3\", \"y\": [0.0, 0.020484857627870716, 0.042777494196369385, 0.06164985445200618, 0.0828713249421158, 0.09776498895398254, 0.12178991623992197, 0.14459048445277392, 0.16229858338696163, 0.1835960121640761, 0.20037050891835087, 0.22153934748195292, 0.23990986473852413, 0.260341479398176, 0.27876449251566965, 0.30286515520789054, 0.32067326065310947, 0.3374758851387241, 0.35772517080533034, 0.3773779122919664, 0.39377511516181746, 0.41615393323666844, 0.4378728858568385, 0.4550334264370856, 0.46955391937914404, 0.48737468339388795, 0.5092490532859, 0.5277503192167424, 0.5473160199447344, 0.5632657304661005, 0.5816550834071392, 0.6010757190293153, 0.6109893318405396, 0.6376361418115369, 0.653757952697155, 0.6699531186438225, 0.6859538438019621, 0.7069299755901849], \"yaxis\": \"y3\"}, {\"line\": {\"color\": \"black\"}, \"mode\": \"lines\", \"name\": \"RRIFT\", \"showlegend\": false, \"type\": \"scatter\", \"visible\": false, \"x\": [0.0, 0.15590853989124298, 0.30704057216644287, 0.4517976641654968, 0.5937532186508179, 0.7319978475570679, 0.8733582496643066, 1.0141081809997559, 1.1508190631866455, 1.2946900129318237, 1.4422858953475952, 1.5861073732376099, 1.7249808311462402, 1.8574501276016235, 1.986006259918213, 2.109846830368042, 2.233985185623169, 2.3646433353424072, 2.5019919872283936, 2.6381356716156006, 2.7699899673461914, 2.9012451171875, 3.0256903171539307, 3.150434732437134, 3.281989336013794, 3.4096949100494385, 3.5347015857696533, 3.6653647422790527, 3.79425311088562, 3.9160289764404297, 4.035468578338623, 4.15375280380249, 4.2752580642700195, 4.400844573974609, 4.521766662597656, 4.6400532722473145, 4.759782791137695, 4.877492427825928], \"xaxis\": \"x3\", \"y\": [-0.005210980578576958, 0.017442686065894972, 0.039402321380626396, 0.06043567150280217, 0.08106195542467642, 0.10114903815161061, 0.12168884583821805, 0.14213995151164543, 0.16200417930759456, 0.18290877207476666, 0.2043546012812742, 0.22525200573845416, 0.2454304579478185, 0.26467837909839387, 0.2833577135892059, 0.3013518722285509, 0.31938929929767984, 0.3383740590176275, 0.35833095538817406, 0.37811276877703265, 0.39727132970772994, 0.41634283414199236, 0.43442484605430143, 0.4525503342511412, 0.47166534961239215, 0.4902210971350262, 0.5083846920354388, 0.5273701792470001, 0.5460977880027472, 0.5637919429576013, 0.5811466364685376, 0.598333452629007, 0.6159882883942654, 0.6342361337520316, 0.6518062340655274, 0.6689933966505748, 0.6863902153901879, 0.7034935432273751], \"yaxis\": \"y3\"}, {\"line\": {\"color\": \"#e3988b\"}, \"name\": \"Blood plasma\", \"showlegend\": false, \"type\": \"scatter\", \"visible\": false, \"x\": [0.08835, 0.1767, 0.26505, 0.3534, 0.44175, 0.5301, 0.61845, 0.7068, 0.79515, 0.8835, 0.97185, 1.0602, 1.14855, 1.2369, 1.32525, 1.4136, 1.5019500000000001, 1.5903, 1.6786500000000002, 1.767, 1.8553499999999998, 1.9437, 2.03205, 2.1204, 2.20875, 2.2971, 2.3854499999999996, 2.4738, 2.56215, 2.6505, 2.73885, 2.8272, 2.91555, 3.0039000000000002, 3.09225, 3.1806, 3.26895, 3.3573000000000004, 3.44565, 3.534, 3.62235, 3.7106999999999997, 3.7990500000000003, 3.8874, 3.97575, 4.0641, 4.15245, 4.2408, 4.329149999999999, 4.4175, 4.505850000000001, 4.5942, 4.68255, 4.770899999999999, 4.85925, 4.9476, 5.03595, 5.1243, 5.21265, 5.301, 5.38935, 5.4777, 5.566050000000001, 5.6544, 5.74275, 5.8311, 5.919449999999999, 6.0078000000000005, 6.09615, 6.1845], \"xaxis\": \"x\", \"y\": [0.0034081358462572098, 0.006829468999058008, 0.0, 0.05167090520262718, 0.02399587444961071, 0.0, 0.0, 1.8134543895721436, 6.295933246612549, 5.804708957672119, 2.9535393714904785, 1.603210210800171, 1.6927013397216797, 2.278006076812744, 2.304361343383789, 2.180666446685791, 2.0856196880340576, 2.0793628692626953, 2.048224925994873, 1.8961161375045776, 1.6476902961730957, 1.7843562364578247, 1.8368923664093018, 1.6813983917236328, 1.6701289415359497, 1.6588928699493408, 1.4304184913635254, 1.698365569114685, 1.4889096021652222, 1.4782054424285889, 1.4728649854660034, 1.4409841299057007, 1.3936772346496582, 1.5374658107757568, 1.5374658107757568, 1.3624769449234009, 1.419883131980896, 1.414626955986023, 1.3573029041290283, 1.3780436515808105, 1.2153671979904175, 1.265415906906128, 1.414626955986023, 1.3832473754882812, 1.190604567527771, 1.161116123199463, 1.352136254310608, 1.2153671979904175, 1.2153671979904175, 1.25534987449646, 1.1367294788360596, 1.2253209352493286, 1.107686996459961, 1.1270219087600708, 1.2054413557052612, 1.0693353414535522, 1.0741063356399536, 1.1709182262420654, 1.0266889333724976, 1.107686996459961, 1.0980596542358398, 1.1270219087600708, 1.0408462285995483, 1.1270219087600708, 1.0550615787506104, 0.9660031199455261, 1.102869987487793, 1.0741063356399536, 1.08845853805542, 1.0314016342163086], \"yaxis\": \"y\"}, {\"line\": {\"color\": \"#97d6d0\"}, \"name\": \"Muscle\", \"showlegend\": false, \"type\": \"scatter\", \"visible\": false, \"x\": [0.08835, 0.1767, 0.26505, 0.3534, 0.44175, 0.5301, 0.61845, 0.7068, 0.79515, 0.8835, 0.97185, 1.0602, 1.14855, 1.2369, 1.32525, 1.4136, 1.5019500000000001, 1.5903, 1.6786500000000002, 1.767, 1.8553499999999998, 1.9437, 2.03205, 2.1204, 2.20875, 2.2971, 2.3854499999999996, 2.4738, 2.56215, 2.6505, 2.73885, 2.8272, 2.91555, 3.0039000000000002, 3.09225, 3.1806, 3.26895, 3.3573000000000004, 3.44565, 3.534, 3.62235, 3.7106999999999997, 3.7990500000000003, 3.8874, 3.97575, 4.0641, 4.15245, 4.2408, 4.329149999999999, 4.4175, 4.505850000000001, 4.5942, 4.68255, 4.770899999999999, 4.85925, 4.9476, 5.03595, 5.1243, 5.21265, 5.301, 5.38935, 5.4777, 5.566050000000001, 5.6544, 5.74275, 5.8311, 5.919449999999999, 6.0078000000000005, 6.09615, 6.1845], \"xaxis\": \"x2\", \"y\": [0.002615360077470541, 0.0, 0.0, 0.0, 0.003048901678994298, 0.0, 0.005198834929615259, 0.015631183981895447, 0.07064078003168106, 0.14084449410438538, 0.1694239228963852, 0.1782415509223938, 0.1831403374671936, 0.1872134506702423, 0.20539352297782898, 0.20986811816692352, 0.21890662610530853, 0.22703173756599426, 0.23329982161521912, 0.238301083445549, 0.25031816959381104, 0.24723538756370544, 0.2539880871772766, 0.25698092579841614, 0.2625681459903717, 0.2608606815338135, 0.2699607312679291, 0.27250340580940247, 0.2768869698047638, 0.2837296426296234, 0.28219175338745117, 0.28883183002471924, 0.2856900095939636, 0.2934894859790802, 0.29628288745880127, 0.2996702492237091, 0.28960588574409485, 0.29828906059265137, 0.30272290110588074, 0.30469536781311035, 0.298895001411438, 0.2962644696235657, 0.31350433826446533, 0.2994033992290497, 0.30459150671958923, 0.30739468336105347, 0.3176754117012024, 0.30876627564430237, 0.31066378951072693, 0.32165396213531494, 0.31759896874427795, 0.31631967425346375, 0.3101736903190613, 0.31439316272735596, 0.32155293226242065, 0.3187103867530823, 0.3174935281276703, 0.31780216097831726, 0.3175894320011139, 0.32210415601730347, 0.32140201330184937, 0.3197544813156128, 0.31409400701522827, 0.3289397358894348, 0.31475400924682617, 0.3204331398010254, 0.3128998577594757, 0.3197553753852844, 0.3225076496601105, 0.3233950138092041], \"yaxis\": \"y2\"}, {\"marker\": {\"color\": \"red\", \"size\": 14, \"symbol\": \"circle-open\"}, \"mode\": \"markers\", \"name\": \"RRIFT fit\", \"showlegend\": false, \"type\": \"scatter\", \"visible\": false, \"x\": [0.0, 0.12948323786258698, 0.2653183341026306, 0.39342331886291504, 0.516334056854248, 0.6415485143661499, 0.7639985084533691, 0.8848324418067932, 0.9993963837623596, 1.1089849472045898, 1.227375864982605, 1.3509719371795654, 1.4646718502044678, 1.568559169769287, 1.679582118988037, 1.7930015325546265, 1.9003791809082031, 2.0095231533050537, 2.1151933670043945, 2.2195370197296143, 2.3225977420806885, 2.421315908432007, 2.524352550506592, 2.62484073638916, 2.719527244567871, 2.8187012672424316, 2.915780544281006, 3.010066509246826, 3.1075053215026855, 3.205798387527466, 3.3015639781951904, 3.397329568862915, 3.493723154067993, 3.5830037593841553, 3.674396276473999, 3.770564079284668, 3.8660953044891357, 3.959740161895752], \"xaxis\": \"x3\", \"y\": [0.0, 0.01668998289320699, 0.028536493408070195, 0.041071840004434396, 0.040052968212695134, 0.05776043326218326, 0.07141991245523893, 0.08271635577806719, 0.08618120706249775, 0.09268647719964543, 0.1192864036402353, 0.11459370552269554, 0.12905324040877314, 0.14125051205422257, 0.16112617562712753, 0.16183302898431054, 0.17323890263843597, 0.19393526329136263, 0.19969291414229387, 0.20814438164193147, 0.2116151803760809, 0.22542186316421264, 0.2423435164322423, 0.24932912479939245, 0.2578781074873433, 0.26793864022693625, 0.27747928327990196, 0.29181341570217556, 0.30098920518227984, 0.30918353747416505, 0.3132527482778313, 0.3379691575195451, 0.33366424239407916, 0.3490936067283572, 0.35128209691741624, 0.36784898297156676, 0.38046010696002486, 0.39126218990883244], \"yaxis\": \"y3\"}, {\"line\": {\"color\": \"black\"}, \"mode\": \"lines\", \"name\": \"RRIFT\", \"showlegend\": false, \"type\": \"scatter\", \"visible\": false, \"x\": [0.0, 0.12948323786258698, 0.2653183341026306, 0.39342331886291504, 0.516334056854248, 0.6415485143661499, 0.7639985084533691, 0.8848324418067932, 0.9993963837623596, 1.1089849472045898, 1.227375864982605, 1.3509719371795654, 1.4646718502044678, 1.568559169769287, 1.679582118988037, 1.7930015325546265, 1.9003791809082031, 2.0095231533050537, 2.1151933670043945, 2.2195370197296143, 2.3225977420806885, 2.421315908432007, 2.524352550506592, 2.62484073638916, 2.719527244567871, 2.8187012672424316, 2.915780544281006, 3.010066509246826, 3.1075053215026855, 3.205798387527466, 3.3015639781951904, 3.397329568862915, 3.493723154067993, 3.5830037593841553, 3.674396276473999, 3.770564079284668, 3.8660953044891357, 3.959740161895752], \"xaxis\": \"x3\", \"y\": [-0.006655375943368683, 0.006059303212522155, 0.019397706663898458, 0.03197704748348676, 0.044046336328673344, 0.05634184020410407, 0.06836588604324183, 0.08023124189234052, 0.09148091241992633, 0.1022420228642115, 0.11386748542884403, 0.12600407105068642, 0.13716889777287977, 0.14737017137737496, 0.15827213213738653, 0.1694094150579672, 0.1799534234552447, 0.19067087703250293, 0.20104722292638136, 0.2112933064214729, 0.2214134118490101, 0.23110709755485342, 0.2412248384061366, 0.2510923321724749, 0.26039012694311214, 0.2701285757162597, 0.27966132976695185, 0.2889197929721754, 0.2984878517851556, 0.308139794526039, 0.3175435504068325, 0.3269473062876261, 0.3364127284441933, 0.3451796875516217, 0.3541540270200232, 0.363597278347753, 0.3729780205804503, 0.3821735298693658], \"yaxis\": \"y3\"}, {\"line\": {\"color\": \"#e3988b\"}, \"name\": \"Blood plasma\", \"showlegend\": false, \"type\": \"scatter\", \"visible\": false, \"x\": [0.08848333333333333, 0.17696666666666666, 0.26544999999999996, 0.3539333333333333, 0.4424166666666667, 0.5308999999999999, 0.6193833333333333, 0.7078666666666666, 0.79635, 0.8848333333333334, 0.9733166666666667, 1.0617999999999999, 1.1502833333333333, 1.2387666666666666, 1.32725, 1.4157333333333333, 1.5042166666666668, 1.5927, 1.6811833333333335, 1.7696666666666667, 1.8581500000000002, 1.9466333333333334, 2.0351166666666667, 2.1235999999999997, 2.2120833333333336, 2.3005666666666666, 2.38905, 2.477533333333333, 2.566016666666667, 2.6545, 2.742983333333333, 2.8314666666666666, 2.9199499999999996, 3.0084333333333335, 3.0969166666666665, 3.1854, 3.273883333333333, 3.362366666666667, 3.45085, 3.5393333333333334, 3.6278166666666665, 3.7163000000000004, 3.8047833333333334, 3.893266666666667, 3.98175, 4.070233333333333, 4.158716666666666, 4.247199999999999, 4.335683333333334, 4.424166666666667, 4.51265, 4.601133333333333, 4.689616666666667, 4.7781, 4.866583333333333, 4.955066666666666, 5.04355, 5.132033333333334, 5.220516666666667, 5.309, 5.397483333333334, 5.485966666666666, 5.57445, 5.662933333333333, 5.751416666666667, 5.839899999999999, 5.928383333333334, 6.016866666666667, 6.1053500000000005, 6.193833333333333], \"xaxis\": \"x\", \"y\": [0.0, 0.05936340242624283, 0.0, 0.07587236911058426, 0.04840806499123573, 0.02119535021483898, 0.02119535021483898, 0.19405007362365723, 5.094789028167725, 5.343532562255859, 2.528486490249634, 1.4716782569885254, 1.8422976732254028, 2.0128092765808105, 2.1809000968933105, 2.140709161758423, 2.0811679363250732, 1.9361069202423096, 1.8238049745559692, 1.9077261686325073, 1.7416709661483765, 1.7688539028167725, 1.643629550933838, 1.6789880990982056, 1.759771466255188, 1.6701173782348633, 1.5139260292053223, 1.6967922449111938, 1.4800891876220703, 1.5738941431045532, 1.4800891876220703, 1.522433876991272, 1.3722237348556519, 1.3154397010803223, 1.4133347272872925, 1.4299097061157227, 1.3234972953796387, 1.2358428239822388, 1.220133900642395, 1.2358428239822388, 1.4216127395629883, 1.307400107383728, 1.196700096130371, 1.3559086322784424, 1.307400107383728, 1.2279796600341797, 1.2123054265975952, 1.2358428239822388, 1.2044941186904907, 1.2123054265975952, 1.104488730430603, 1.2279796600341797, 1.2358428239822388, 1.1426169872283936, 0.9925444722175598, 1.104488730430603, 1.0667716264724731, 1.104488730430603, 0.9998959302902222, 1.0667716264724731, 1.104488730430603, 1.196700096130371, 1.2123054265975952, 1.0517984628677368, 1.081809639930725, 1.044335961341858, 1.0667716264724731, 0.9632952213287354, 1.0667716264724731, 0.9560216665267944], \"yaxis\": \"y\"}, {\"line\": {\"color\": \"#97d6d0\"}, \"name\": \"Muscle\", \"showlegend\": false, \"type\": \"scatter\", \"visible\": false, \"x\": [0.08848333333333333, 0.17696666666666666, 0.26544999999999996, 0.3539333333333333, 0.4424166666666667, 0.5308999999999999, 0.6193833333333333, 0.7078666666666666, 0.79635, 0.8848333333333334, 0.9733166666666667, 1.0617999999999999, 1.1502833333333333, 1.2387666666666666, 1.32725, 1.4157333333333333, 1.5042166666666668, 1.5927, 1.6811833333333335, 1.7696666666666667, 1.8581500000000002, 1.9466333333333334, 2.0351166666666667, 2.1235999999999997, 2.2120833333333336, 2.3005666666666666, 2.38905, 2.477533333333333, 2.566016666666667, 2.6545, 2.742983333333333, 2.8314666666666666, 2.9199499999999996, 3.0084333333333335, 3.0969166666666665, 3.1854, 3.273883333333333, 3.362366666666667, 3.45085, 3.5393333333333334, 3.6278166666666665, 3.7163000000000004, 3.8047833333333334, 3.893266666666667, 3.98175, 4.070233333333333, 4.158716666666666, 4.247199999999999, 4.335683333333334, 4.424166666666667, 4.51265, 4.601133333333333, 4.689616666666667, 4.7781, 4.866583333333333, 4.955066666666666, 5.04355, 5.132033333333334, 5.220516666666667, 5.309, 5.397483333333334, 5.485966666666666, 5.57445, 5.662933333333333, 5.751416666666667, 5.839899999999999, 5.928383333333334, 6.016866666666667, 6.1053500000000005, 6.193833333333333], \"xaxis\": \"x2\", \"y\": [0.0022879450116306543, 0.0, 0.0, 0.0, 0.0, 0.002333232434466481, 0.0008573648519814014, 0.0008231400861404836, 0.00559269031509757, 0.051930323243141174, 0.08716078847646713, 0.10862405598163605, 0.11795918643474579, 0.13139672577381134, 0.1403198391199112, 0.1439535915851593, 0.15654966235160828, 0.163747638463974, 0.16726018488407135, 0.17686691880226135, 0.17956461012363434, 0.18395651876926422, 0.18934319913387299, 0.1894552856683731, 0.19634053111076355, 0.20340603590011597, 0.20533426105976105, 0.20517608523368835, 0.20736032724380493, 0.21393819153308868, 0.21219667792320251, 0.21475860476493835, 0.2186042219400406, 0.21081463992595673, 0.2285229116678238, 0.22310219705104828, 0.22259150445461273, 0.22715450823307037, 0.22464360296726227, 0.22796276211738586, 0.2273922562599182, 0.22844070196151733, 0.2343662828207016, 0.2277524620294571, 0.23346160352230072, 0.2354019284248352, 0.2356625348329544, 0.23865853250026703, 0.23735369741916656, 0.23642170429229736, 0.2382230907678604, 0.24117565155029297, 0.2420143187046051, 0.24235151708126068, 0.24189002811908722, 0.23982733488082886, 0.24545125663280487, 0.24433594942092896, 0.24196061491966248, 0.23240172863006592, 0.24293069541454315, 0.24363267421722412, 0.23986782133579254, 0.24307802319526672, 0.24072885513305664, 0.24357904493808746, 0.24624663591384888, 0.2465737909078598, 0.24518649280071259, 0.23758697509765625], \"yaxis\": \"y2\"}, {\"marker\": {\"color\": \"red\", \"size\": 14, \"symbol\": \"circle-open\"}, \"mode\": \"markers\", \"name\": \"RRIFT fit\", \"showlegend\": false, \"type\": \"scatter\", \"visible\": false, \"x\": [0.0, 0.11890671402215958, 0.239632248878479, 0.3654221296310425, 0.48723745346069336, 0.6004669070243835, 0.709123432636261, 0.8177799582481384, 0.935350239276886, 1.0560863018035889, 1.1668719053268433, 1.2798035144805908, 1.3976327180862427, 1.5098021030426025, 1.6177643537521362, 1.726074457168579, 1.8340389728546143, 1.9409621953964233, 2.0434610843658447, 2.146653413772583, 2.2556569576263428, 2.360883951187134, 2.4553470611572266, 2.548123359680176, 2.64418363571167, 2.740243911743164, 2.833345413208008, 2.9247782230377197, 3.020838499069214, 3.1226470470428467, 3.2292253971099854, 3.329393148422241, 3.4237875938415527, 3.5178518295288086, 3.611250638961792, 3.701064109802246, 3.7908775806427, 3.8803694248199463], \"xaxis\": \"x3\", \"y\": [0.0, 0.00017817970078997866, 0.026038252013978157, 0.028997330578827866, 0.036756375357192, 0.04966430615105478, 0.0555364040855058, 0.06725356338857799, 0.07513205827210366, 0.08463837277134265, 0.09915122378140036, 0.101111903017804, 0.11537875843568553, 0.1260187312370463, 0.1350198232849281, 0.14681673208230436, 0.15434418723848592, 0.16220298054983223, 0.17281128484407404, 0.18465897177118257, 0.19446311037516145, 0.2037875980981611, 0.21231109230098572, 0.21918654664577047, 0.23381469370286784, 0.24178726803367034, 0.24843504707378508, 0.24767783778433106, 0.2670264811747294, 0.27675652402556505, 0.28196290431458515, 0.29413404793076486, 0.30076179789629603, 0.31259820206468647, 0.32435438847357534, 0.33382570567805553, 0.3415628990857951, 0.3429211247332808], \"yaxis\": \"y3\"}, {\"line\": {\"color\": \"black\"}, \"mode\": \"lines\", \"name\": \"RRIFT\", \"showlegend\": false, \"type\": \"scatter\", \"visible\": false, \"x\": [0.0, 0.11890671402215958, 0.239632248878479, 0.3654221296310425, 0.48723745346069336, 0.6004669070243835, 0.709123432636261, 0.8177799582481384, 0.935350239276886, 1.0560863018035889, 1.1668719053268433, 1.2798035144805908, 1.3976327180862427, 1.5098021030426025, 1.6177643537521362, 1.726074457168579, 1.8340389728546143, 1.9409621953964233, 2.0434610843658447, 2.146653413772583, 2.2556569576263428, 2.360883951187134, 2.4553470611572266, 2.548123359680176, 2.64418363571167, 2.740243911743164, 2.833345413208008, 2.9247782230377197, 3.020838499069214, 3.1226470470428467, 3.2292253971099854, 3.329393148422241, 3.4237875938415527, 3.5178518295288086, 3.611250638961792, 3.701064109802246, 3.7908775806427, 3.8803694248199463], \"xaxis\": \"x3\", \"y\": [-0.007776312656342189, 0.0029715620158372973, 0.013883838324521985, 0.025253876463032815, 0.036264657851105254, 0.04649936987817475, 0.056320738916875814, 0.06614210795557687, 0.07676918360947485, 0.08768241150514772, 0.09769622604826764, 0.1079040161776445, 0.11855449561853004, 0.12869338896429802, 0.13845200309719083, 0.14824205933433302, 0.15800087819648584, 0.16766557547515049, 0.17693036108242644, 0.18625782616894115, 0.19611056188532214, 0.20562193849868016, 0.21416037701707752, 0.22254634611288096, 0.23122915108526512, 0.23991195605764926, 0.2483273199651019, 0.2565918522840408, 0.2652746572564249, 0.2744770435402916, 0.28411056809531215, 0.2931646441931306, 0.30169687618238206, 0.3101992608005674, 0.31864149811720377, 0.3267596597904526, 0.3348778214637013, 0.34296691158202725], \"yaxis\": \"y3\"}, {\"line\": {\"color\": \"#e3988b\"}, \"name\": \"Blood plasma\", \"showlegend\": false, \"type\": \"scatter\", \"visible\": false, \"x\": [0.08, 0.16, 0.24, 0.32, 0.4, 0.48, 0.56, 0.64, 0.72, 0.8, 0.88, 0.96, 1.04, 1.12, 1.2, 1.28, 1.36, 1.44, 1.52, 1.6, 1.68, 1.76, 1.84, 1.92, 2.0, 2.08, 2.16, 2.24, 2.32, 2.4, 2.48, 2.56, 2.64, 2.72, 2.8, 2.88, 2.96, 3.04, 3.12, 3.2, 3.28, 3.36, 3.44, 3.52, 3.6, 3.68, 3.76, 3.84, 3.92, 4.0, 4.08, 4.16, 4.24, 4.32, 4.4, 4.48, 4.56, 4.64, 4.72, 4.8, 4.88, 4.96, 5.04, 5.12, 5.2, 5.28, 5.36, 5.44, 5.52, 5.6], \"xaxis\": \"x\", \"y\": [0.04471501335501671, 0.015556120313704014, 0.0, 0.0, 0.017630284652113914, 0.0, 0.0, 0.025940151885151863, 0.15750589966773987, 2.7919015884399414, 5.756464958190918, 4.618312835693359, 3.322294235229492, 1.8725029230117798, 1.9137847423553467, 2.3578083515167236, 2.407900810241699, 2.1264536380767822, 2.0902652740478516, 2.2818334102630615, 2.407900810241699, 2.1119418144226074, 2.130089282989502, 2.0938706398010254, 1.9207046031951904, 1.8588322401046753, 1.838409662246704, 1.8282357454299927, 1.7945011854171753, 1.7410907745361328, 1.6492588520050049, 1.711348533630371, 1.6916391849517822, 1.6266196966171265, 1.5881009101867676, 1.6137393712997437, 1.5881009101867676, 1.4933825731277466, 1.4933825731277466, 1.4561134576797485, 1.4100127220153809, 1.4561134576797485, 1.4684977531433105, 1.4008567333221436, 1.388681411743164, 1.2571885585784912, 1.2985492944717407, 1.2162641286849976, 1.2395964860916138, 1.3283636569976807, 1.2630703449249268, 1.198857069015503, 1.167146921157837, 1.1844109296798706, 1.1328506469726562, 1.198857069015503, 1.1700189113616943, 1.1214866638183594, 1.127164363861084, 1.1214866638183594, 1.0623761415481567, 1.0595842599868774, 1.084786057472229, 1.10732901096344, 1.006926417350769, 1.065170168876648, 1.0262410640716553, 1.079171061515808, 0.9904496669769287, 0.9795053005218506], \"yaxis\": \"y\"}, {\"line\": {\"color\": \"#97d6d0\"}, \"name\": \"Muscle\", \"showlegend\": false, \"type\": \"scatter\", \"visible\": false, \"x\": [0.08, 0.16, 0.24, 0.32, 0.4, 0.48, 0.56, 0.64, 0.72, 0.8, 0.88, 0.96, 1.04, 1.12, 1.2, 1.28, 1.36, 1.44, 1.52, 1.6, 1.68, 1.76, 1.84, 1.92, 2.0, 2.08, 2.16, 2.24, 2.32, 2.4, 2.48, 2.56, 2.64, 2.72, 2.8, 2.88, 2.96, 3.04, 3.12, 3.2, 3.28, 3.36, 3.44, 3.52, 3.6, 3.68, 3.76, 3.84, 3.92, 4.0, 4.08, 4.16, 4.24, 4.32, 4.4, 4.48, 4.56, 4.64, 4.72, 4.8, 4.88, 4.96, 5.04, 5.12, 5.2, 5.28, 5.36, 5.44, 5.52, 5.6], \"xaxis\": \"x2\", \"y\": [0.0021327068097889423, 0.0, 0.0007812262629158795, 0.0, 0.0, 0.0, 0.0001639292313484475, 0.0, 0.0, 0.01704367622733116, 0.06250239163637161, 0.14797547459602356, 0.2076408565044403, 0.23190852999687195, 0.2393355816602707, 0.24389085173606873, 0.2599131166934967, 0.26600170135498047, 0.27896347641944885, 0.2883920669555664, 0.30279672145843506, 0.3085256516933441, 0.3147135078907013, 0.32541969418525696, 0.3365412652492523, 0.33254697918891907, 0.34214988350868225, 0.3429206311702728, 0.3438394367694855, 0.34523922204971313, 0.3555746376514435, 0.35348379611968994, 0.35710206627845764, 0.36114007234573364, 0.3656836450099945, 0.36619266867637634, 0.3673951327800751, 0.36153915524482727, 0.36480411887168884, 0.3655165433883667, 0.36446499824523926, 0.36542466282844543, 0.36138272285461426, 0.36623111367225647, 0.3695300221443176, 0.36625391244888306, 0.3604676425457001, 0.36670494079589844, 0.36634939908981323, 0.3655174970626831, 0.36130544543266296, 0.36204633116722107, 0.36716410517692566, 0.35395368933677673, 0.3608678877353668, 0.3829957842826843, 0.3786367177963257, 0.3671362102031708, 0.36349087953567505, 0.36053040623664856, 0.3503779470920563, 0.3464451730251312, 0.3512135148048401, 0.3449539840221405, 0.34526440501213074, 0.34567949175834656, 0.3475415110588074, 0.34169405698776245, 0.3442990481853485, 0.3377317786216736], \"yaxis\": \"y2\"}, {\"marker\": {\"color\": \"red\", \"size\": 14, \"symbol\": \"circle-open\"}, \"mode\": \"markers\", \"name\": \"RRIFT fit\", \"showlegend\": false, \"type\": \"scatter\", \"visible\": false, \"x\": [0.0, 0.13273034989833832, 0.2613191604614258, 0.38939279317855835, 0.5174664258956909, 0.6407257318496704, 0.760196328163147, 0.8781761527061462, 0.992821216583252, 1.107466220855713, 1.224450707435608, 1.339224934577942, 1.4508064985275269, 1.5566413402557373, 1.658870816230774, 1.7594633102416992, 1.8576977252960205, 1.9604160785675049, 2.064073324203491, 2.162550449371338, 2.257190704345703, 2.351253032684326, 2.443943500518799, 2.5372118949890137, 2.6319668292999268, 2.7236270904541016, 2.813573122024536, 2.9035191535949707, 2.9908735752105713, 3.075752019882202, 3.161526918411255, 3.249211549758911, 3.3337817192077637, 3.416665554046631, 3.500322103500366, 3.584538698196411, 3.667323589324951, 3.746121883392334], \"xaxis\": \"x3\", \"y\": [0.0, 0.01783973378188869, 0.03634993761970021, 0.05092268305771569, 0.06622175685053339, 0.07437296717596438, 0.09159532978793584, 0.10634158270707525, 0.11931734943069386, 0.134302560305498, 0.1442269376760962, 0.16305714258273754, 0.18049442349697567, 0.19135712434459007, 0.19953552246490652, 0.2197461556910183, 0.2334769726863285, 0.24670861146367445, 0.25646317611750225, 0.2711039762759572, 0.29023424460735997, 0.2908808150324623, 0.31153101169784564, 0.34795297887383864, 0.35822942852752326, 0.36105967979083825, 0.37145406583059587, 0.3824063722313998, 0.38591471491818025, 0.3953720811005123, 0.4135466193832662, 0.42066463044317953, 0.4342382752915155, 0.44793052723938104, 0.4631134685693682, 0.4705103524866608, 0.48629737456569416, 0.4928359968153203], \"yaxis\": \"y3\"}, {\"line\": {\"color\": \"black\"}, \"mode\": \"lines\", \"name\": \"RRIFT\", \"showlegend\": false, \"type\": \"scatter\", \"visible\": false, \"x\": [0.0, 0.13273034989833832, 0.2613191604614258, 0.38939279317855835, 0.5174664258956909, 0.6407257318496704, 0.760196328163147, 0.8781761527061462, 0.992821216583252, 1.107466220855713, 1.224450707435608, 1.339224934577942, 1.4508064985275269, 1.5566413402557373, 1.658870816230774, 1.7594633102416992, 1.8576977252960205, 1.9604160785675049, 2.064073324203491, 2.162550449371338, 2.257190704345703, 2.351253032684326, 2.443943500518799, 2.5372118949890137, 2.6319668292999268, 2.7236270904541016, 2.813573122024536, 2.9035191535949707, 2.9908735752105713, 3.075752019882202, 3.161526918411255, 3.249211549758911, 3.3337817192077637, 3.416665554046631, 3.500322103500366, 3.584538698196411, 3.667323589324951, 3.746121883392334], \"xaxis\": \"x3\", \"y\": [-0.009232514543834395, 0.0084615197071541, 0.02560345310927214, 0.04267670911802342, 0.059749965126774704, 0.076181432255229, 0.0921078336003304, 0.10783550295393599, 0.12311862161143955, 0.13840173232315964, 0.1539967150378468, 0.16929705220822758, 0.18417178143040627, 0.19828042588076153, 0.2119084457778563, 0.22531824267649275, 0.23841368848770536, 0.25210687970119083, 0.26592523289660597, 0.279053033938292, 0.29166934900354496, 0.30420862175183566, 0.31656501434674317, 0.32899844925861293, 0.3416300520113489, 0.35384910968398164, 0.3658396466227205, 0.3778301835614594, 0.38947523783296234, 0.40079022425724864, 0.41222471526560184, 0.4239137891777784, 0.43518768000972463, 0.4462367687344621, 0.45738886659668915, 0.46861562304082394, 0.47965152176492637, 0.4901559747044058], \"yaxis\": \"y3\"}],                        {\"template\": {\"data\": {\"bar\": [{\"error_x\": {\"color\": \"#2a3f5f\"}, \"error_y\": {\"color\": \"#2a3f5f\"}, \"marker\": {\"line\": {\"color\": \"#E5ECF6\", \"width\": 0.5}}, \"type\": \"bar\"}], \"barpolar\": [{\"marker\": {\"line\": {\"color\": \"#E5ECF6\", \"width\": 0.5}}, \"type\": \"barpolar\"}], \"carpet\": [{\"aaxis\": {\"endlinecolor\": \"#2a3f5f\", \"gridcolor\": \"white\", \"linecolor\": \"white\", \"minorgridcolor\": \"white\", \"startlinecolor\": \"#2a3f5f\"}, \"baxis\": {\"endlinecolor\": \"#2a3f5f\", \"gridcolor\": \"white\", \"linecolor\": \"white\", \"minorgridcolor\": \"white\", \"startlinecolor\": \"#2a3f5f\"}, \"type\": \"carpet\"}], \"choropleth\": [{\"colorbar\": {\"outlinewidth\": 0, \"ticks\": \"\"}, \"type\": \"choropleth\"}], \"contour\": [{\"colorbar\": {\"outlinewidth\": 0, \"ticks\": \"\"}, \"colorscale\": [[0.0, \"#0d0887\"], [0.1111111111111111, \"#46039f\"], [0.2222222222222222, \"#7201a8\"], [0.3333333333333333, \"#9c179e\"], [0.4444444444444444, \"#bd3786\"], [0.5555555555555556, \"#d8576b\"], [0.6666666666666666, \"#ed7953\"], [0.7777777777777778, \"#fb9f3a\"], [0.8888888888888888, \"#fdca26\"], [1.0, \"#f0f921\"]], \"type\": \"contour\"}], \"contourcarpet\": [{\"colorbar\": {\"outlinewidth\": 0, \"ticks\": \"\"}, \"type\": \"contourcarpet\"}], \"heatmap\": [{\"colorbar\": {\"outlinewidth\": 0, \"ticks\": \"\"}, \"colorscale\": [[0.0, \"#0d0887\"], [0.1111111111111111, \"#46039f\"], [0.2222222222222222, \"#7201a8\"], [0.3333333333333333, \"#9c179e\"], [0.4444444444444444, \"#bd3786\"], [0.5555555555555556, \"#d8576b\"], [0.6666666666666666, \"#ed7953\"], [0.7777777777777778, \"#fb9f3a\"], [0.8888888888888888, \"#fdca26\"], [1.0, \"#f0f921\"]], \"type\": \"heatmap\"}], \"heatmapgl\": [{\"colorbar\": {\"outlinewidth\": 0, \"ticks\": \"\"}, \"colorscale\": [[0.0, \"#0d0887\"], [0.1111111111111111, \"#46039f\"], [0.2222222222222222, \"#7201a8\"], [0.3333333333333333, \"#9c179e\"], [0.4444444444444444, \"#bd3786\"], [0.5555555555555556, \"#d8576b\"], [0.6666666666666666, \"#ed7953\"], [0.7777777777777778, \"#fb9f3a\"], [0.8888888888888888, \"#fdca26\"], [1.0, \"#f0f921\"]], \"type\": \"heatmapgl\"}], \"histogram\": [{\"marker\": {\"colorbar\": {\"outlinewidth\": 0, \"ticks\": \"\"}}, \"type\": \"histogram\"}], \"histogram2d\": [{\"colorbar\": {\"outlinewidth\": 0, \"ticks\": \"\"}, \"colorscale\": [[0.0, \"#0d0887\"], [0.1111111111111111, \"#46039f\"], [0.2222222222222222, \"#7201a8\"], [0.3333333333333333, \"#9c179e\"], [0.4444444444444444, \"#bd3786\"], [0.5555555555555556, \"#d8576b\"], [0.6666666666666666, \"#ed7953\"], [0.7777777777777778, \"#fb9f3a\"], [0.8888888888888888, \"#fdca26\"], [1.0, \"#f0f921\"]], \"type\": \"histogram2d\"}], \"histogram2dcontour\": [{\"colorbar\": {\"outlinewidth\": 0, \"ticks\": \"\"}, \"colorscale\": [[0.0, \"#0d0887\"], [0.1111111111111111, \"#46039f\"], [0.2222222222222222, \"#7201a8\"], [0.3333333333333333, \"#9c179e\"], [0.4444444444444444, \"#bd3786\"], [0.5555555555555556, \"#d8576b\"], [0.6666666666666666, \"#ed7953\"], [0.7777777777777778, \"#fb9f3a\"], [0.8888888888888888, \"#fdca26\"], [1.0, \"#f0f921\"]], \"type\": \"histogram2dcontour\"}], \"mesh3d\": [{\"colorbar\": {\"outlinewidth\": 0, \"ticks\": \"\"}, \"type\": \"mesh3d\"}], \"parcoords\": [{\"line\": {\"colorbar\": {\"outlinewidth\": 0, \"ticks\": \"\"}}, \"type\": \"parcoords\"}], \"pie\": [{\"automargin\": true, \"type\": \"pie\"}], \"scatter\": [{\"marker\": {\"colorbar\": {\"outlinewidth\": 0, \"ticks\": \"\"}}, \"type\": \"scatter\"}], \"scatter3d\": [{\"line\": {\"colorbar\": {\"outlinewidth\": 0, \"ticks\": \"\"}}, \"marker\": {\"colorbar\": {\"outlinewidth\": 0, \"ticks\": \"\"}}, \"type\": \"scatter3d\"}], \"scattercarpet\": [{\"marker\": {\"colorbar\": {\"outlinewidth\": 0, \"ticks\": \"\"}}, \"type\": \"scattercarpet\"}], \"scattergeo\": [{\"marker\": {\"colorbar\": {\"outlinewidth\": 0, \"ticks\": \"\"}}, \"type\": \"scattergeo\"}], \"scattergl\": [{\"marker\": {\"colorbar\": {\"outlinewidth\": 0, \"ticks\": \"\"}}, \"type\": \"scattergl\"}], \"scattermapbox\": [{\"marker\": {\"colorbar\": {\"outlinewidth\": 0, \"ticks\": \"\"}}, \"type\": \"scattermapbox\"}], \"scatterpolar\": [{\"marker\": {\"colorbar\": {\"outlinewidth\": 0, \"ticks\": \"\"}}, \"type\": \"scatterpolar\"}], \"scatterpolargl\": [{\"marker\": {\"colorbar\": {\"outlinewidth\": 0, \"ticks\": \"\"}}, \"type\": \"scatterpolargl\"}], \"scatterternary\": [{\"marker\": {\"colorbar\": {\"outlinewidth\": 0, \"ticks\": \"\"}}, \"type\": \"scatterternary\"}], \"surface\": [{\"colorbar\": {\"outlinewidth\": 0, \"ticks\": \"\"}, \"colorscale\": [[0.0, \"#0d0887\"], [0.1111111111111111, \"#46039f\"], [0.2222222222222222, \"#7201a8\"], [0.3333333333333333, \"#9c179e\"], [0.4444444444444444, \"#bd3786\"], [0.5555555555555556, \"#d8576b\"], [0.6666666666666666, \"#ed7953\"], [0.7777777777777778, \"#fb9f3a\"], [0.8888888888888888, \"#fdca26\"], [1.0, \"#f0f921\"]], \"type\": \"surface\"}], \"table\": [{\"cells\": {\"fill\": {\"color\": \"#EBF0F8\"}, \"line\": {\"color\": \"white\"}}, \"header\": {\"fill\": {\"color\": \"#C8D4E3\"}, \"line\": {\"color\": \"white\"}}, \"type\": \"table\"}]}, \"layout\": {\"annotationdefaults\": {\"arrowcolor\": \"#2a3f5f\", \"arrowhead\": 0, \"arrowwidth\": 1}, \"autotypenumbers\": \"strict\", \"coloraxis\": {\"colorbar\": {\"outlinewidth\": 0, \"ticks\": \"\"}}, \"colorscale\": {\"diverging\": [[0, \"#8e0152\"], [0.1, \"#c51b7d\"], [0.2, \"#de77ae\"], [0.3, \"#f1b6da\"], [0.4, \"#fde0ef\"], [0.5, \"#f7f7f7\"], [0.6, \"#e6f5d0\"], [0.7, \"#b8e186\"], [0.8, \"#7fbc41\"], [0.9, \"#4d9221\"], [1, \"#276419\"]], \"sequential\": [[0.0, \"#0d0887\"], [0.1111111111111111, \"#46039f\"], [0.2222222222222222, \"#7201a8\"], [0.3333333333333333, \"#9c179e\"], [0.4444444444444444, \"#bd3786\"], [0.5555555555555556, \"#d8576b\"], [0.6666666666666666, \"#ed7953\"], [0.7777777777777778, \"#fb9f3a\"], [0.8888888888888888, \"#fdca26\"], [1.0, \"#f0f921\"]], \"sequentialminus\": [[0.0, \"#0d0887\"], [0.1111111111111111, \"#46039f\"], [0.2222222222222222, \"#7201a8\"], [0.3333333333333333, \"#9c179e\"], [0.4444444444444444, \"#bd3786\"], [0.5555555555555556, \"#d8576b\"], [0.6666666666666666, \"#ed7953\"], [0.7777777777777778, \"#fb9f3a\"], [0.8888888888888888, \"#fdca26\"], [1.0, \"#f0f921\"]]}, \"colorway\": [\"#636efa\", \"#EF553B\", \"#00cc96\", \"#ab63fa\", \"#FFA15A\", \"#19d3f3\", \"#FF6692\", \"#B6E880\", \"#FF97FF\", \"#FECB52\"], \"font\": {\"color\": \"#2a3f5f\"}, \"geo\": {\"bgcolor\": \"white\", \"lakecolor\": \"white\", \"landcolor\": \"#E5ECF6\", \"showlakes\": true, \"showland\": true, \"subunitcolor\": \"white\"}, \"hoverlabel\": {\"align\": \"left\"}, \"hovermode\": \"closest\", \"mapbox\": {\"style\": \"light\"}, \"paper_bgcolor\": \"white\", \"plot_bgcolor\": \"#E5ECF6\", \"polar\": {\"angularaxis\": {\"gridcolor\": \"white\", \"linecolor\": \"white\", \"ticks\": \"\"}, \"bgcolor\": \"#E5ECF6\", \"radialaxis\": {\"gridcolor\": \"white\", \"linecolor\": \"white\", \"ticks\": \"\"}}, \"scene\": {\"xaxis\": {\"backgroundcolor\": \"#E5ECF6\", \"gridcolor\": \"white\", \"gridwidth\": 2, \"linecolor\": \"white\", \"showbackground\": true, \"ticks\": \"\", \"zerolinecolor\": \"white\"}, \"yaxis\": {\"backgroundcolor\": \"#E5ECF6\", \"gridcolor\": \"white\", \"gridwidth\": 2, \"linecolor\": \"white\", \"showbackground\": true, \"ticks\": \"\", \"zerolinecolor\": \"white\"}, \"zaxis\": {\"backgroundcolor\": \"#E5ECF6\", \"gridcolor\": \"white\", \"gridwidth\": 2, \"linecolor\": \"white\", \"showbackground\": true, \"ticks\": \"\", \"zerolinecolor\": \"white\"}}, \"shapedefaults\": {\"line\": {\"color\": \"#2a3f5f\"}}, \"ternary\": {\"aaxis\": {\"gridcolor\": \"white\", \"linecolor\": \"white\", \"ticks\": \"\"}, \"baxis\": {\"gridcolor\": \"white\", \"linecolor\": \"white\", \"ticks\": \"\"}, \"bgcolor\": \"#E5ECF6\", \"caxis\": {\"gridcolor\": \"white\", \"linecolor\": \"white\", \"ticks\": \"\"}}, \"title\": {\"x\": 0.05}, \"xaxis\": {\"automargin\": true, \"gridcolor\": \"white\", \"linecolor\": \"white\", \"ticks\": \"\", \"title\": {\"standoff\": 15}, \"zerolinecolor\": \"white\", \"zerolinewidth\": 2}, \"yaxis\": {\"automargin\": true, \"gridcolor\": \"white\", \"linecolor\": \"white\", \"ticks\": \"\", \"title\": {\"standoff\": 15}, \"zerolinecolor\": \"white\", \"zerolinewidth\": 2}}}, \"title\": {\"text\": \"Patient 1\"}, \"updatemenus\": [{\"active\": 0, \"buttons\": [{\"args\": [{\"visible\": [true, true, true, true, false, false, false, false, false, false, false, false, false, false, false, false, false, false, false, false, false, false, false, false, false, false, false, false, false, false, false, false]}, {\"showlegend\": true, \"title\": \"Patient 1\", \"visible\": true}], \"label\": \"Patient 1\", \"method\": \"update\"}, {\"args\": [{\"visible\": [false, false, false, false, true, true, true, true, false, false, false, false, false, false, false, false, false, false, false, false, false, false, false, false, false, false, false, false, false, false, false, false]}, {\"showlegend\": true, \"title\": \"Patient 2\"}], \"label\": \"Patient 2\", \"method\": \"update\"}, {\"args\": [{\"visible\": [false, false, false, false, false, false, false, false, true, true, true, true, false, false, false, false, false, false, false, false, false, false, false, false, false, false, false, false, false, false, false, false]}, {\"showlegend\": true, \"title\": \"Patient 3\"}], \"label\": \"Patient 3\", \"method\": \"update\"}, {\"args\": [{\"visible\": [false, false, false, false, false, false, false, false, false, false, false, false, true, true, true, true, false, false, false, false, false, false, false, false, false, false, false, false, false, false, false, false]}, {\"showlegend\": true, \"title\": \"Patient 4\"}], \"label\": \"Patient 4\", \"method\": \"update\"}, {\"args\": [{\"visible\": [false, false, false, false, false, false, false, false, false, false, false, false, false, false, false, false, true, true, true, true, false, false, false, false, false, false, false, false, false, false, false, false]}, {\"showlegend\": true, \"title\": \"Patient 5\"}], \"label\": \"Patient 5\", \"method\": \"update\"}, {\"args\": [{\"visible\": [false, false, false, false, false, false, false, false, false, false, false, false, false, false, false, false, false, false, false, false, true, true, true, true, false, false, false, false, false, false, false, false]}, {\"showlegend\": true, \"title\": \"Patient 6\"}], \"label\": \"Patient 6\", \"method\": \"update\"}, {\"args\": [{\"visible\": [false, false, false, false, false, false, false, false, false, false, false, false, false, false, false, false, false, false, false, false, false, false, false, false, true, true, true, true, false, false, false, false]}, {\"showlegend\": true, \"title\": \"Patient 7\"}], \"label\": \"Patient 7\", \"method\": \"update\"}, {\"args\": [{\"visible\": [false, false, false, false, false, false, false, false, false, false, false, false, false, false, false, false, false, false, false, false, false, false, false, false, false, false, false, false, true, true, true, true]}, {\"showlegend\": true, \"title\": \"Patient 8\"}], \"label\": \"Patient 8\", \"method\": \"update\"}], \"direction\": \"right\", \"type\": \"buttons\", \"x\": 0.1, \"xanchor\": \"left\", \"y\": 1.2, \"yanchor\": \"top\"}], \"xaxis\": {\"anchor\": \"y\", \"domain\": [0.0, 0.2888888888888889], \"range\": [-1, 6], \"tickvals\": [0, 2, 4, 6], \"title\": {\"text\": \"$Time [min]$\"}}, \"xaxis2\": {\"anchor\": \"y2\", \"domain\": [0.35555555555555557, 0.6444444444444445], \"range\": [-1, 6], \"tickvals\": [0, 2, 4, 6], \"title\": {\"text\": \"$Time [min]$\"}}, \"xaxis3\": {\"anchor\": \"y3\", \"domain\": [0.7111111111111111, 1.0], \"range\": [-1, 6], \"tickvals\": [0, 2, 4, 6], \"title\": {\"text\": \"$Time [min]$\"}}, \"yaxis\": {\"anchor\": \"x\", \"domain\": [0.0, 1.0], \"title\": {\"text\": \"$Concentration [mM]$\"}}, \"yaxis2\": {\"anchor\": \"x2\", \"domain\": [0.0, 1.0], \"title\": {\"text\": \"$Concentration [mM]$\"}}, \"yaxis3\": {\"anchor\": \"x3\", \"domain\": [0.0, 1.0], \"title\": {\"text\": \"$Numerator$\"}}},                        {\"responsive\": true}                    ).then(function(){\n",
       "                            \n",
       "var gd = document.getElementById('86ddbf9c-81b0-490e-9773-a2f5727caeb9');\n",
       "var x = new MutationObserver(function (mutations, observer) {{\n",
       "        var display = window.getComputedStyle(gd).display;\n",
       "        if (!display || display === 'none') {{\n",
       "            console.log([gd, 'removed!']);\n",
       "            Plotly.purge(gd);\n",
       "            observer.disconnect();\n",
       "        }}\n",
       "}});\n",
       "\n",
       "// Listen for the removal of the full notebook cells\n",
       "var notebookContainer = gd.closest('#notebook-container');\n",
       "if (notebookContainer) {{\n",
       "    x.observe(notebookContainer, {childList: true});\n",
       "}}\n",
       "\n",
       "// Listen for the clearing of the current output cell\n",
       "var outputEl = gd.closest('.output');\n",
       "if (outputEl) {{\n",
       "    x.observe(outputEl, {childList: true});\n",
       "}}\n",
       "\n",
       "                        })                };                });            </script>        </div>"
      ]
     },
     "metadata": {},
     "output_type": "display_data"
    }
   ],
   "source": [
    "fig = make_subplots(rows=1, cols=3)\n",
    "\n",
    "files = [\"./RRIFT/data/TCGA-GBM-Results/c02_postprocessed/TCGA-06-0185-1.mat\",\n",
    "         \"./RRIFT/data/TCGA-GBM-Results/c02_postprocessed/TCGA-06-0185-2.mat\",\n",
    "         \"./RRIFT/data/TCGA-GBM-Results/c02_postprocessed/TCGA-06-0185-3.mat\",\n",
    "         \"./RRIFT/data/TCGA-GBM-Results/c02_postprocessed/TCGA-06-0881-1.mat\",\n",
    "         \"./RRIFT/data/TCGA-GBM-Results/c02_postprocessed/TCGA-06-0881-2.mat\",\n",
    "         \"./RRIFT/data/TCGA-GBM-Results/c02_postprocessed/TCGA-06-1802-1.mat\",\n",
    "         \"./RRIFT/data/TCGA-GBM-Results/c02_postprocessed/TCGA-06-2570-1.mat\",\n",
    "         \"./RRIFT/data/TCGA-GBM-Results/c02_postprocessed/TCGA-06-5417-1.mat\"]\n",
    "\n",
    "patient = loadmat(files[0])\n",
    "\n",
    "t = np.squeeze(np.asarray((np.reshape(patient['t'], 70))))\n",
    "Cp = np.squeeze(np.asarray((np.reshape(patient['Cp'], 70))))\n",
    "Crr = np.squeeze(np.asarray((np.reshape(patient['Crr'], 70))))\n",
    "num = np.squeeze(np.asarray((np.reshape(patient['num'], 38))))\n",
    "denum = np.squeeze(np.asarray((np.reshape(patient['denum'], 38))))\n",
    "\n",
    "labels = ['Blood plasma', 'Muscle', 'RRIFT fit', 'RRIFT']\n",
    "\n",
    "fig1 = go.Scatter(\n",
    "    name = labels[0],\n",
    "    x=t,\n",
    "    y=Cp,\n",
    "    showlegend=False,\n",
    "    visible=True,\n",
    "    line_color='#e3988b',\n",
    ")\n",
    "\n",
    "fig.append_trace(fig1, 1, 1)\n",
    "#     fig.append_trace(fig1, 1, 2)\n",
    "#     fig.append_trace(fig1, 1, 3)\n",
    "\n",
    "fig2 = go.Scatter(\n",
    "    x=t,\n",
    "    y=Crr,\n",
    "    name = labels[1],\n",
    "    showlegend=False,\n",
    "    visible=True,\n",
    "    line_color='#97d6d0',\n",
    ")\n",
    "\n",
    "#     fig.append_trace(fig2, 1, 1)\n",
    "fig.append_trace(fig2, 1, 2)\n",
    "#     fig.append_trace(fig2, 1, 3)\n",
    "\n",
    "line_fit = sm.OLS(num ,sm.add_constant(denum)).fit().fittedvalues\n",
    "\n",
    "\n",
    "fig3_1 = go.Scatter(x=denum, \n",
    "                         y=num, \n",
    "                         mode='markers',\n",
    "                         marker_symbol=\"circle-open\",\n",
    "                         name=labels[2],\n",
    "                         marker_size=14, \n",
    "                         marker_color='red', showlegend=False, visible=True)\n",
    "\n",
    "#     fig.append_trace(fig3_1, 1, 1)\n",
    "#     fig.append_trace(fig3_1, 1, 2)\n",
    "fig.append_trace(fig3_1, 1, 3)\n",
    "\n",
    "fig3_2 = go.Scatter(x=denum, \n",
    "                         y=line_fit,\n",
    "                         name=labels[3],\n",
    "                         mode='lines',\n",
    "                         line_color=\"black\", showlegend=False, visible=True)\n",
    "\n",
    "fig.append_trace(fig3_2, 1, 3)\n",
    "\n",
    "fig.update_layout(title_text='Patient 1') \n",
    "fig.update_xaxes(title_text=r'$Time [min]$',\n",
    "                 range=[-1, 6], \n",
    "                 tickvals=[0, 2, 4, 6])\n",
    "\n",
    "for i in range (1, 8):\n",
    "    patient = loadmat(files[i])\n",
    "    t = np.squeeze(np.asarray((np.reshape(patient['t'], 70))))\n",
    "    Cp = np.squeeze(np.asarray((np.reshape(patient['Cp'], 70))))\n",
    "    Crr = np.squeeze(np.asarray((np.reshape(patient['Crr'], 70))))\n",
    "    num = np.squeeze(np.asarray((np.reshape(patient['num'], 38))))\n",
    "    denum = np.squeeze(np.asarray((np.reshape(patient['denum'], 38))))\n",
    "    \n",
    "    fig1 = go.Scatter(\n",
    "        x=t,\n",
    "        y=Cp,\n",
    "        showlegend=False,\n",
    "        name=labels[0],\n",
    "        visible=False,\n",
    "        line_color='#e3988b',\n",
    "    )\n",
    "    \n",
    "    fig.append_trace(fig1, 1, 1)\n",
    "#     fig.append_trace(fig1, 1, 2)\n",
    "#     fig.append_trace(fig1, 1, 3)\n",
    "\n",
    "    fig2 = go.Scatter(\n",
    "        x=t,\n",
    "        y=Crr,\n",
    "        name=labels[1],\n",
    "        showlegend=False,\n",
    "        visible=False,\n",
    "        line_color='#97d6d0',\n",
    "    )\n",
    "    \n",
    "#     fig.append_trace(fig2, 1, 1)\n",
    "    fig.append_trace(fig2, 1, 2)\n",
    "#     fig.append_trace(fig2, 1, 3)\n",
    "    \n",
    "    line_fit = sm.OLS(num ,sm.add_constant(denum)).fit().fittedvalues\n",
    "\n",
    "\n",
    "    fig3_1 = go.Scatter(x=denum, \n",
    "                             y=num, \n",
    "                             mode='markers',\n",
    "                             name=labels[2],\n",
    "                             marker_symbol=\"circle-open\", \n",
    "                             marker_size=14, \n",
    "                             marker_color='red', showlegend=False, visible=False)\n",
    "    \n",
    "#     fig.append_trace(fig3_1, 1, 1)\n",
    "#     fig.append_trace(fig3_1, 1, 2)\n",
    "    fig.append_trace(fig3_1, 1, 3)\n",
    "    \n",
    "    fig3_2 = go.Scatter(x=denum, \n",
    "                             y=line_fit,\n",
    "                             name=labels[3],\n",
    "                             mode='lines',\n",
    "                             line_color=\"black\", showlegend=False, visible=False)\n",
    "    \n",
    "    fig.append_trace(fig3_2, 1, 3)\n",
    "\n",
    "fig.update_yaxes(title_text=r'$Concentration [mM]$',\n",
    "                 row=1, col=1)\n",
    "fig.update_yaxes(title_text=r'$Concentration [mM]$',\n",
    "                 row=1, col=2)\n",
    "fig.update_yaxes(title_text=r'$Numerator$',\n",
    "                 row=1, col=3)\n",
    "    \n",
    "fig.update_layout(\n",
    "    updatemenus=[go.layout.Updatemenu(\n",
    "        active=0,\n",
    "        x=0.1,\n",
    "        y=1.2,\n",
    "        xanchor=\"left\",\n",
    "        yanchor=\"top\",\n",
    "        direction=\"right\",\n",
    "        type='buttons',\n",
    "        buttons=list(\n",
    "            [dict(label = 'Patient 1',\n",
    "                  method = 'update',\n",
    "                  args = [{'visible': [True, True, True, True,\n",
    "                                      False, False, False, False,\n",
    "                                      False, False, False, False,\n",
    "                                      False, False, False, False,\n",
    "                                      False, False, False, False,\n",
    "                                      False, False, False, False,\n",
    "                                      False, False, False, False,\n",
    "                                      False, False, False, False]},\n",
    "                          {'title': 'Patient 1',\n",
    "                           'showlegend':True, 'visible': True}]),\n",
    "             dict(label = 'Patient 2',\n",
    "                  method = 'update',\n",
    "                  args = [{'visible': [False, False, False, False,\n",
    "                                      True, True, True, True,\n",
    "                                      False, False, False, False,\n",
    "                                      False, False, False, False,\n",
    "                                      False, False, False, False,\n",
    "                                      False, False, False, False,\n",
    "                                      False, False, False, False,\n",
    "                                      False, False, False, False]}, # the index of True aligns with the indices of plot traces\n",
    "                          {'title': 'Patient 2',\n",
    "                           'showlegend':True}]),\n",
    "             dict(label = 'Patient 3',\n",
    "                  method = 'update',\n",
    "                  args = [{'visible': [False, False, False, False,\n",
    "                                      False, False, False, False,\n",
    "                                      True, True, True, True,\n",
    "                                      False, False, False, False,\n",
    "                                      False, False, False, False,\n",
    "                                      False, False, False, False,\n",
    "                                      False, False, False, False,\n",
    "                                      False, False, False, False]}, # the index of True aligns with the indices of plot traces\n",
    "                          {'title': 'Patient 3',\n",
    "                           'showlegend':True}]),\n",
    "             dict(label = 'Patient 4',\n",
    "                  method = 'update',\n",
    "                  args = [{'visible': [False, False, False, False,\n",
    "                                      False, False, False, False,\n",
    "                                      False, False, False, False,\n",
    "                                      True, True, True, True,\n",
    "                                      False, False, False, False,\n",
    "                                      False, False, False, False,\n",
    "                                      False, False, False, False,\n",
    "                                      False, False, False, False]}, # the index of True aligns with the indices of plot traces\n",
    "                          {'title': 'Patient 4',\n",
    "                           'showlegend':True}]),\n",
    "             dict(label = 'Patient 5',\n",
    "                  method = 'update',\n",
    "                  args = [{'visible': [False, False, False, False,\n",
    "                                      False, False, False, False,\n",
    "                                      False, False, False, False,\n",
    "                                      False, False, False, False,\n",
    "                                      True, True, True, True,\n",
    "                                      False, False, False, False,\n",
    "                                      False, False, False, False,\n",
    "                                      False, False, False, False]}, # the index of True aligns with the indices of plot traces\n",
    "                          {'title': 'Patient 5',\n",
    "                           'showlegend':True}]),\n",
    "             dict(label = 'Patient 6',\n",
    "                  method = 'update',\n",
    "                  args = [{'visible': [False, False, False, False,\n",
    "                                      False, False, False, False,\n",
    "                                      False, False, False, False,\n",
    "                                      False, False, False, False,\n",
    "                                      False, False, False, False,\n",
    "                                      True, True, True, True,\n",
    "                                      False, False, False, False,\n",
    "                                      False, False, False, False]}, # the index of True aligns with the indices of plot traces\n",
    "                          {'title': 'Patient 6',\n",
    "                           'showlegend':True}]),\n",
    "             dict(label = 'Patient 7',\n",
    "                  method = 'update',\n",
    "                  args = [{'visible': [False, False, False, False,\n",
    "                                      False, False, False, False,\n",
    "                                      False, False, False, False,\n",
    "                                      False, False, False, False,\n",
    "                                      False, False, False, False,\n",
    "                                      False, False, False, False,\n",
    "                                      True, True, True, True,\n",
    "                                      False, False, False, False]}, # the index of True aligns with the indices of plot traces\n",
    "                          {'title': 'Patient 7',\n",
    "                           'showlegend':True}]),\n",
    "             dict(label = 'Patient 8',\n",
    "                  method = 'update',\n",
    "                  args = [{'visible': [False, False, False, False,\n",
    "                                      False, False, False, False,\n",
    "                                      False, False, False, False,\n",
    "                                      False, False, False, False,\n",
    "                                      False, False, False, False,\n",
    "                                      False, False, False, False,\n",
    "                                      False, False, False, False,\n",
    "                                      True, True, True, True]}, # the index of True aligns with the indices of plot traces\n",
    "                          {'title': 'Patient 8',\n",
    "                           'showlegend':True}]),\n",
    "            ]\n",
    "            )\n",
    "        )\n",
    "    ])\n",
    "\n",
    "\n",
    "\n",
    "\n",
    "\n",
    "\n",
    "fig.show()"
   ]
  },
  {
   "cell_type": "markdown",
   "metadata": {
    "kernel": "SoS"
   },
   "source": [
    "# Figure 8"
   ]
  },
  {
   "cell_type": "code",
   "execution_count": 62,
   "metadata": {
    "kernel": "SoS"
   },
   "outputs": [
    {
     "data": {
      "application/vnd.plotly.v1+json": {
       "config": {
        "plotlyServerURL": "https://plot.ly"
       },
       "data": [
        {
         "error_x": {
          "array": [
           0.042950570583343506,
           0.036684632301330566,
           0.03107166290283203,
           0.03402167558670044,
           0.0290793776512146,
           0.020564883947372437,
           0.01824033260345459,
           0.03354150056838989
          ],
          "arrayminus": [
           0.042950570583343506,
           0.036684632301330566,
           0.03107166290283203,
           0.03402167558670044,
           0.0290793776512146,
           0.020564883947372437,
           0.01824033260345459,
           0.03354150056838989
          ],
          "symmetric": false,
          "thickness": 2,
          "type": "data",
          "visible": true
         },
         "error_y": {
          "array": [
           0.005617426317764518,
           0.014414173864071789,
           0.005482355550348039,
           0.008680628002132873,
           0.016428837488461023,
           0.0035026166108688694,
           0.004778912905640587,
           0.004009978758235555
          ],
          "arrayminus": [
           0.005617426317764518,
           0.014414173864071789,
           0.005482355550348039,
           0.008680628002132873,
           0.016428837488461023,
           0.0035026166108688694,
           0.004778912905640587,
           0.004009978758235555
          ],
          "symmetric": false,
          "thickness": 1,
          "type": "data",
          "visible": false
         },
         "hoverinfo": "x+y",
         "line": {
          "color": "#010101"
         },
         "marker": {
          "line": {
           "width": 2
          },
          "size": 12,
          "symbol": "circle-open"
         },
         "mode": "markers",
         "showlegend": false,
         "type": "scatter",
         "x": [
          0.5203121543273889,
          0.47987023728959405,
          0.22736744467769,
          0.5898556880951348,
          0.658609071228204,
          0.3378187277603683,
          0.38426571080506183,
          0.5228154981262098
         ],
         "xaxis": "x",
         "y": [
          0.6092270455297666,
          0.42929076645995695,
          0.2567397538207241,
          0.5745010190689257,
          0.5849807534765133,
          0.3474855646423191,
          0.4193954762465286,
          0.4803995398073619
         ],
         "yaxis": "y"
        },
        {
         "error_x": {
          "array": [
           0.007304035127162933,
           0.004695400595664978,
           0.004415888339281082,
           0.007480323314666748,
           0.006382599472999573,
           0.003717288374900818,
           0.0025189220905303955,
           0.0074552446603775024
          ],
          "arrayminus": [
           0.007304035127162933,
           0.004695400595664978,
           0.004415888339281082,
           0.007480323314666748,
           0.006382599472999573,
           0.003717288374900818,
           0.0025189220905303955,
           0.0074552446603775024
          ],
          "symmetric": false,
          "thickness": 2,
          "type": "data",
          "visible": true
         },
         "error_y": {
          "array": [
           0.0015518367290496826,
           0.0005239695310592651,
           0.0014608949422836304,
           0.0008573085069656372,
           0.00043064355850219727,
           0.0009472817182540894,
           0.0008023306727409363,
           0.001250341534614563
          ],
          "arrayminus": [
           0.0015518367290496826,
           0.0005239695310592651,
           0.0014608949422836304,
           0.0008573085069656372,
           0.00043064355850219727,
           0.0009472817182540894,
           0.0008023306727409363,
           0.001250341534614563
          ],
          "symmetric": false,
          "thickness": 1,
          "type": "data",
          "visible": false
         },
         "hoverinfo": "x+y",
         "line": {
          "color": "#010101"
         },
         "marker": {
          "line": {
           "width": 2
          },
          "size": 12,
          "symbol": "circle-open"
         },
         "mode": "markers",
         "showlegend": false,
         "type": "scatter",
         "x": [
          0.09921392555071604,
          0.0729356375187226,
          0.057559787698131935,
          0.13321066734972453,
          0.14550195613229877,
          0.0881082197825817,
          0.07829693480712692,
          0.13498858595902086
         ],
         "xaxis": "x2",
         "y": [
          0.12895816564559937,
          0.07239816337823868,
          0.06515715271234512,
          0.14845487475395203,
          0.1437455266714096,
          0.09576895087957382,
          0.08749090135097504,
          0.12979163229465485
         ],
         "yaxis": "y2"
        },
        {
         "error_x": {
          "array": [
           0.010359526611864567,
           0.007538398262113333,
           0.019707344472408295,
           0.008963244035840034,
           0.00678884657099843,
           0.009663059376180172,
           0.005818088538944721,
           0.010820123367011547
          ],
          "arrayminus": [
           0.010359526611864567,
           0.007538398262113333,
           0.019707344472408295,
           0.008963244035840034,
           0.00678884657099843,
           0.009663059376180172,
           0.005818088538944721,
           0.010820123367011547
          ],
          "symmetric": false,
          "thickness": 2,
          "type": "data",
          "visible": true
         },
         "error_y": {
          "array": [
           0.0016045041847974062,
           0.0028963133227080107,
           0.003928960766643286,
           0.0020899688825011253,
           0.0034701244439929724,
           0.0019461074844002724,
           0.001525642815977335,
           0.0017219176515936852
          ],
          "arrayminus": [
           0.0016045041847974062,
           0.0028963133227080107,
           0.003928960766643286,
           0.0020899688825011253,
           0.0034701244439929724,
           0.0019461074844002724,
           0.001525642815977335,
           0.0017219176515936852
          ],
          "symmetric": false,
          "thickness": 1,
          "type": "data",
          "visible": false
         },
         "hoverinfo": "x+y",
         "line": {
          "color": "#010101"
         },
         "marker": {
          "line": {
           "width": 2
          },
          "size": 12,
          "symbol": "circle-open"
         },
         "mode": "markers",
         "showlegend": false,
         "type": "scatter",
         "x": [
          0.19068154515623523,
          0.1519903337424678,
          0.2531575607920789,
          0.22583603080935225,
          0.22092309761382445,
          0.2608150837779522,
          0.20375727681527897,
          0.2581954560314776
         ],
         "xaxis": "x3",
         "y": [
          0.21167504787445068,
          0.168645977973938,
          0.25378677248954773,
          0.2584066390991211,
          0.24572692811489105,
          0.27560555934906006,
          0.20861193537712097,
          0.2701743543148041
         ],
         "yaxis": "y3"
        },
        {
         "line": {
          "color": "#000400",
          "dash": "dash",
          "width": 0.5
         },
         "mode": "lines",
         "showlegend": false,
         "type": "scatter",
         "x": [
          0,
          1
         ],
         "xaxis": "x",
         "y": [
          0,
          1
         ],
         "yaxis": "y"
        },
        {
         "line": {
          "color": "#000400",
          "dash": "dash",
          "width": 0.5
         },
         "mode": "lines",
         "showlegend": false,
         "type": "scatter",
         "x": [
          0,
          1
         ],
         "xaxis": "x2",
         "y": [
          0,
          1
         ],
         "yaxis": "y2"
        },
        {
         "line": {
          "color": "#000400",
          "dash": "dash",
          "width": 0.5
         },
         "mode": "lines",
         "showlegend": false,
         "type": "scatter",
         "x": [
          0,
          1
         ],
         "xaxis": "x3",
         "y": [
          0,
          1
         ],
         "yaxis": "y3"
        }
       ],
       "layout": {
        "annotations": [
         {
          "font": {
           "size": 16
          },
          "showarrow": false,
          "text": "$k_{ep,RR} [min^{-1}]$",
          "x": 0.14444444444444446,
          "xanchor": "center",
          "xref": "paper",
          "y": 1,
          "yanchor": "bottom",
          "yref": "paper"
         },
         {
          "font": {
           "size": 16
          },
          "showarrow": false,
          "text": "$K^{trans}_{RR}[min^{-1}]$",
          "x": 0.5,
          "xanchor": "center",
          "xref": "paper",
          "y": 1,
          "yanchor": "bottom",
          "yref": "paper"
         },
         {
          "font": {
           "size": 16
          },
          "showarrow": false,
          "text": "$V_{e,RR}$",
          "x": 0.8555555555555556,
          "xanchor": "center",
          "xref": "paper",
          "y": 1,
          "yanchor": "bottom",
          "yref": "paper"
         },
         {
          "font": {
           "color": "black",
           "size": 40
          },
          "showarrow": false,
          "text": "$\\textrm{CCC: 0.917}$",
          "x": 0.5,
          "xref": "x",
          "y": 0.14,
          "yref": "y"
         },
         {
          "font": {
           "color": "black",
           "size": 40
          },
          "showarrow": false,
          "text": "$\\textrm{CCC: 0.926}$",
          "x": 0.12,
          "xref": "x2",
          "y": 0.013,
          "yref": "y2"
         },
         {
          "font": {
           "color": "black",
           "size": 40
          },
          "showarrow": false,
          "text": "$\\textrm{CCC: 0.877}$",
          "x": 0.22,
          "xref": "x3",
          "y": 0.113,
          "yref": "y3"
         }
        ],
        "template": {
         "data": {
          "bar": [
           {
            "error_x": {
             "color": "#2a3f5f"
            },
            "error_y": {
             "color": "#2a3f5f"
            },
            "marker": {
             "line": {
              "color": "#E5ECF6",
              "width": 0.5
             }
            },
            "type": "bar"
           }
          ],
          "barpolar": [
           {
            "marker": {
             "line": {
              "color": "#E5ECF6",
              "width": 0.5
             }
            },
            "type": "barpolar"
           }
          ],
          "carpet": [
           {
            "aaxis": {
             "endlinecolor": "#2a3f5f",
             "gridcolor": "white",
             "linecolor": "white",
             "minorgridcolor": "white",
             "startlinecolor": "#2a3f5f"
            },
            "baxis": {
             "endlinecolor": "#2a3f5f",
             "gridcolor": "white",
             "linecolor": "white",
             "minorgridcolor": "white",
             "startlinecolor": "#2a3f5f"
            },
            "type": "carpet"
           }
          ],
          "choropleth": [
           {
            "colorbar": {
             "outlinewidth": 0,
             "ticks": ""
            },
            "type": "choropleth"
           }
          ],
          "contour": [
           {
            "colorbar": {
             "outlinewidth": 0,
             "ticks": ""
            },
            "colorscale": [
             [
              0,
              "#0d0887"
             ],
             [
              0.1111111111111111,
              "#46039f"
             ],
             [
              0.2222222222222222,
              "#7201a8"
             ],
             [
              0.3333333333333333,
              "#9c179e"
             ],
             [
              0.4444444444444444,
              "#bd3786"
             ],
             [
              0.5555555555555556,
              "#d8576b"
             ],
             [
              0.6666666666666666,
              "#ed7953"
             ],
             [
              0.7777777777777778,
              "#fb9f3a"
             ],
             [
              0.8888888888888888,
              "#fdca26"
             ],
             [
              1,
              "#f0f921"
             ]
            ],
            "type": "contour"
           }
          ],
          "contourcarpet": [
           {
            "colorbar": {
             "outlinewidth": 0,
             "ticks": ""
            },
            "type": "contourcarpet"
           }
          ],
          "heatmap": [
           {
            "colorbar": {
             "outlinewidth": 0,
             "ticks": ""
            },
            "colorscale": [
             [
              0,
              "#0d0887"
             ],
             [
              0.1111111111111111,
              "#46039f"
             ],
             [
              0.2222222222222222,
              "#7201a8"
             ],
             [
              0.3333333333333333,
              "#9c179e"
             ],
             [
              0.4444444444444444,
              "#bd3786"
             ],
             [
              0.5555555555555556,
              "#d8576b"
             ],
             [
              0.6666666666666666,
              "#ed7953"
             ],
             [
              0.7777777777777778,
              "#fb9f3a"
             ],
             [
              0.8888888888888888,
              "#fdca26"
             ],
             [
              1,
              "#f0f921"
             ]
            ],
            "type": "heatmap"
           }
          ],
          "heatmapgl": [
           {
            "colorbar": {
             "outlinewidth": 0,
             "ticks": ""
            },
            "colorscale": [
             [
              0,
              "#0d0887"
             ],
             [
              0.1111111111111111,
              "#46039f"
             ],
             [
              0.2222222222222222,
              "#7201a8"
             ],
             [
              0.3333333333333333,
              "#9c179e"
             ],
             [
              0.4444444444444444,
              "#bd3786"
             ],
             [
              0.5555555555555556,
              "#d8576b"
             ],
             [
              0.6666666666666666,
              "#ed7953"
             ],
             [
              0.7777777777777778,
              "#fb9f3a"
             ],
             [
              0.8888888888888888,
              "#fdca26"
             ],
             [
              1,
              "#f0f921"
             ]
            ],
            "type": "heatmapgl"
           }
          ],
          "histogram": [
           {
            "marker": {
             "colorbar": {
              "outlinewidth": 0,
              "ticks": ""
             }
            },
            "type": "histogram"
           }
          ],
          "histogram2d": [
           {
            "colorbar": {
             "outlinewidth": 0,
             "ticks": ""
            },
            "colorscale": [
             [
              0,
              "#0d0887"
             ],
             [
              0.1111111111111111,
              "#46039f"
             ],
             [
              0.2222222222222222,
              "#7201a8"
             ],
             [
              0.3333333333333333,
              "#9c179e"
             ],
             [
              0.4444444444444444,
              "#bd3786"
             ],
             [
              0.5555555555555556,
              "#d8576b"
             ],
             [
              0.6666666666666666,
              "#ed7953"
             ],
             [
              0.7777777777777778,
              "#fb9f3a"
             ],
             [
              0.8888888888888888,
              "#fdca26"
             ],
             [
              1,
              "#f0f921"
             ]
            ],
            "type": "histogram2d"
           }
          ],
          "histogram2dcontour": [
           {
            "colorbar": {
             "outlinewidth": 0,
             "ticks": ""
            },
            "colorscale": [
             [
              0,
              "#0d0887"
             ],
             [
              0.1111111111111111,
              "#46039f"
             ],
             [
              0.2222222222222222,
              "#7201a8"
             ],
             [
              0.3333333333333333,
              "#9c179e"
             ],
             [
              0.4444444444444444,
              "#bd3786"
             ],
             [
              0.5555555555555556,
              "#d8576b"
             ],
             [
              0.6666666666666666,
              "#ed7953"
             ],
             [
              0.7777777777777778,
              "#fb9f3a"
             ],
             [
              0.8888888888888888,
              "#fdca26"
             ],
             [
              1,
              "#f0f921"
             ]
            ],
            "type": "histogram2dcontour"
           }
          ],
          "mesh3d": [
           {
            "colorbar": {
             "outlinewidth": 0,
             "ticks": ""
            },
            "type": "mesh3d"
           }
          ],
          "parcoords": [
           {
            "line": {
             "colorbar": {
              "outlinewidth": 0,
              "ticks": ""
             }
            },
            "type": "parcoords"
           }
          ],
          "pie": [
           {
            "automargin": true,
            "type": "pie"
           }
          ],
          "scatter": [
           {
            "marker": {
             "colorbar": {
              "outlinewidth": 0,
              "ticks": ""
             }
            },
            "type": "scatter"
           }
          ],
          "scatter3d": [
           {
            "line": {
             "colorbar": {
              "outlinewidth": 0,
              "ticks": ""
             }
            },
            "marker": {
             "colorbar": {
              "outlinewidth": 0,
              "ticks": ""
             }
            },
            "type": "scatter3d"
           }
          ],
          "scattercarpet": [
           {
            "marker": {
             "colorbar": {
              "outlinewidth": 0,
              "ticks": ""
             }
            },
            "type": "scattercarpet"
           }
          ],
          "scattergeo": [
           {
            "marker": {
             "colorbar": {
              "outlinewidth": 0,
              "ticks": ""
             }
            },
            "type": "scattergeo"
           }
          ],
          "scattergl": [
           {
            "marker": {
             "colorbar": {
              "outlinewidth": 0,
              "ticks": ""
             }
            },
            "type": "scattergl"
           }
          ],
          "scattermapbox": [
           {
            "marker": {
             "colorbar": {
              "outlinewidth": 0,
              "ticks": ""
             }
            },
            "type": "scattermapbox"
           }
          ],
          "scatterpolar": [
           {
            "marker": {
             "colorbar": {
              "outlinewidth": 0,
              "ticks": ""
             }
            },
            "type": "scatterpolar"
           }
          ],
          "scatterpolargl": [
           {
            "marker": {
             "colorbar": {
              "outlinewidth": 0,
              "ticks": ""
             }
            },
            "type": "scatterpolargl"
           }
          ],
          "scatterternary": [
           {
            "marker": {
             "colorbar": {
              "outlinewidth": 0,
              "ticks": ""
             }
            },
            "type": "scatterternary"
           }
          ],
          "surface": [
           {
            "colorbar": {
             "outlinewidth": 0,
             "ticks": ""
            },
            "colorscale": [
             [
              0,
              "#0d0887"
             ],
             [
              0.1111111111111111,
              "#46039f"
             ],
             [
              0.2222222222222222,
              "#7201a8"
             ],
             [
              0.3333333333333333,
              "#9c179e"
             ],
             [
              0.4444444444444444,
              "#bd3786"
             ],
             [
              0.5555555555555556,
              "#d8576b"
             ],
             [
              0.6666666666666666,
              "#ed7953"
             ],
             [
              0.7777777777777778,
              "#fb9f3a"
             ],
             [
              0.8888888888888888,
              "#fdca26"
             ],
             [
              1,
              "#f0f921"
             ]
            ],
            "type": "surface"
           }
          ],
          "table": [
           {
            "cells": {
             "fill": {
              "color": "#EBF0F8"
             },
             "line": {
              "color": "white"
             }
            },
            "header": {
             "fill": {
              "color": "#C8D4E3"
             },
             "line": {
              "color": "white"
             }
            },
            "type": "table"
           }
          ]
         },
         "layout": {
          "annotationdefaults": {
           "arrowcolor": "#2a3f5f",
           "arrowhead": 0,
           "arrowwidth": 1
          },
          "autotypenumbers": "strict",
          "coloraxis": {
           "colorbar": {
            "outlinewidth": 0,
            "ticks": ""
           }
          },
          "colorscale": {
           "diverging": [
            [
             0,
             "#8e0152"
            ],
            [
             0.1,
             "#c51b7d"
            ],
            [
             0.2,
             "#de77ae"
            ],
            [
             0.3,
             "#f1b6da"
            ],
            [
             0.4,
             "#fde0ef"
            ],
            [
             0.5,
             "#f7f7f7"
            ],
            [
             0.6,
             "#e6f5d0"
            ],
            [
             0.7,
             "#b8e186"
            ],
            [
             0.8,
             "#7fbc41"
            ],
            [
             0.9,
             "#4d9221"
            ],
            [
             1,
             "#276419"
            ]
           ],
           "sequential": [
            [
             0,
             "#0d0887"
            ],
            [
             0.1111111111111111,
             "#46039f"
            ],
            [
             0.2222222222222222,
             "#7201a8"
            ],
            [
             0.3333333333333333,
             "#9c179e"
            ],
            [
             0.4444444444444444,
             "#bd3786"
            ],
            [
             0.5555555555555556,
             "#d8576b"
            ],
            [
             0.6666666666666666,
             "#ed7953"
            ],
            [
             0.7777777777777778,
             "#fb9f3a"
            ],
            [
             0.8888888888888888,
             "#fdca26"
            ],
            [
             1,
             "#f0f921"
            ]
           ],
           "sequentialminus": [
            [
             0,
             "#0d0887"
            ],
            [
             0.1111111111111111,
             "#46039f"
            ],
            [
             0.2222222222222222,
             "#7201a8"
            ],
            [
             0.3333333333333333,
             "#9c179e"
            ],
            [
             0.4444444444444444,
             "#bd3786"
            ],
            [
             0.5555555555555556,
             "#d8576b"
            ],
            [
             0.6666666666666666,
             "#ed7953"
            ],
            [
             0.7777777777777778,
             "#fb9f3a"
            ],
            [
             0.8888888888888888,
             "#fdca26"
            ],
            [
             1,
             "#f0f921"
            ]
           ]
          },
          "colorway": [
           "#636efa",
           "#EF553B",
           "#00cc96",
           "#ab63fa",
           "#FFA15A",
           "#19d3f3",
           "#FF6692",
           "#B6E880",
           "#FF97FF",
           "#FECB52"
          ],
          "font": {
           "color": "#2a3f5f"
          },
          "geo": {
           "bgcolor": "white",
           "lakecolor": "white",
           "landcolor": "#E5ECF6",
           "showlakes": true,
           "showland": true,
           "subunitcolor": "white"
          },
          "hoverlabel": {
           "align": "left"
          },
          "hovermode": "closest",
          "mapbox": {
           "style": "light"
          },
          "paper_bgcolor": "white",
          "plot_bgcolor": "#E5ECF6",
          "polar": {
           "angularaxis": {
            "gridcolor": "white",
            "linecolor": "white",
            "ticks": ""
           },
           "bgcolor": "#E5ECF6",
           "radialaxis": {
            "gridcolor": "white",
            "linecolor": "white",
            "ticks": ""
           }
          },
          "scene": {
           "xaxis": {
            "backgroundcolor": "#E5ECF6",
            "gridcolor": "white",
            "gridwidth": 2,
            "linecolor": "white",
            "showbackground": true,
            "ticks": "",
            "zerolinecolor": "white"
           },
           "yaxis": {
            "backgroundcolor": "#E5ECF6",
            "gridcolor": "white",
            "gridwidth": 2,
            "linecolor": "white",
            "showbackground": true,
            "ticks": "",
            "zerolinecolor": "white"
           },
           "zaxis": {
            "backgroundcolor": "#E5ECF6",
            "gridcolor": "white",
            "gridwidth": 2,
            "linecolor": "white",
            "showbackground": true,
            "ticks": "",
            "zerolinecolor": "white"
           }
          },
          "shapedefaults": {
           "line": {
            "color": "#2a3f5f"
           }
          },
          "ternary": {
           "aaxis": {
            "gridcolor": "white",
            "linecolor": "white",
            "ticks": ""
           },
           "baxis": {
            "gridcolor": "white",
            "linecolor": "white",
            "ticks": ""
           },
           "bgcolor": "#E5ECF6",
           "caxis": {
            "gridcolor": "white",
            "linecolor": "white",
            "ticks": ""
           }
          },
          "title": {
           "x": 0.05
          },
          "xaxis": {
           "automargin": true,
           "gridcolor": "white",
           "linecolor": "white",
           "ticks": "",
           "title": {
            "standoff": 15
           },
           "zerolinecolor": "white",
           "zerolinewidth": 2
          },
          "yaxis": {
           "automargin": true,
           "gridcolor": "white",
           "linecolor": "white",
           "ticks": "",
           "title": {
            "standoff": 15
           },
           "zerolinecolor": "white",
           "zerolinewidth": 2
          }
         }
        },
        "xaxis": {
         "anchor": "y",
         "domain": [
          0,
          0.2888888888888889
         ],
         "range": [
          0.1,
          0.8
         ],
         "tickvals": [
          0.1,
          0.2,
          0.3,
          0.4,
          0.5,
          0.6,
          0.7,
          0.8
         ],
         "title": {
          "text": "$ETM - k_{ep,RR} [min^{-1}]$"
         }
        },
        "xaxis2": {
         "anchor": "y2",
         "domain": [
          0.35555555555555557,
          0.6444444444444445
         ],
         "range": [
          0,
          0.2
         ],
         "tickvals": [
          0,
          0.1,
          0.2
         ],
         "title": {
          "text": "$ETM - K^{trans}_{RR}[min^{-1}]$"
         }
        },
        "xaxis3": {
         "anchor": "y3",
         "domain": [
          0.7111111111111111,
          1
         ],
         "range": [
          0.1,
          0.3
         ],
         "tickvals": [
          0.1,
          0.2,
          0.3
         ],
         "title": {
          "text": "$ETM - V_{e,RR}$"
         }
        },
        "yaxis": {
         "anchor": "x",
         "domain": [
          0,
          1
         ],
         "range": [
          0.1,
          0.8
         ],
         "tickvals": [
          0.1,
          0.2,
          0.3,
          0.4,
          0.5,
          0.6,
          0.7,
          0.8
         ],
         "title": {
          "text": "$RRIFT$"
         }
        },
        "yaxis2": {
         "anchor": "x2",
         "domain": [
          0,
          1
         ],
         "range": [
          0,
          0.2
         ],
         "tickvals": [
          0,
          0.1,
          0.2
         ],
         "title": {
          "text": "$RRIFT$"
         }
        },
        "yaxis3": {
         "anchor": "x3",
         "domain": [
          0,
          1
         ],
         "range": [
          0.1,
          0.3
         ],
         "tickvals": [
          0.1,
          0.2,
          0.3
         ],
         "title": {
          "text": "$RRIFT$"
         }
        }
       }
      },
      "text/html": [
       "<div>                            <div id=\"c09b4e3c-722c-494b-aae3-172069fbdcdb\" class=\"plotly-graph-div\" style=\"height:525px; width:100%;\"></div>            <script type=\"text/javascript\">                require([\"plotly\"], function(Plotly) {                    window.PLOTLYENV=window.PLOTLYENV || {};                                    if (document.getElementById(\"c09b4e3c-722c-494b-aae3-172069fbdcdb\")) {                    Plotly.newPlot(                        \"c09b4e3c-722c-494b-aae3-172069fbdcdb\",                        [{\"error_x\": {\"array\": [0.042950570583343506, 0.036684632301330566, 0.03107166290283203, 0.03402167558670044, 0.0290793776512146, 0.020564883947372437, 0.01824033260345459, 0.03354150056838989], \"arrayminus\": [0.042950570583343506, 0.036684632301330566, 0.03107166290283203, 0.03402167558670044, 0.0290793776512146, 0.020564883947372437, 0.01824033260345459, 0.03354150056838989], \"symmetric\": false, \"thickness\": 2, \"type\": \"data\", \"visible\": true}, \"error_y\": {\"array\": [0.005617426317764518, 0.014414173864071789, 0.005482355550348039, 0.008680628002132873, 0.016428837488461023, 0.0035026166108688694, 0.004778912905640587, 0.004009978758235555], \"arrayminus\": [0.005617426317764518, 0.014414173864071789, 0.005482355550348039, 0.008680628002132873, 0.016428837488461023, 0.0035026166108688694, 0.004778912905640587, 0.004009978758235555], \"symmetric\": false, \"thickness\": 1, \"type\": \"data\", \"visible\": false}, \"hoverinfo\": \"x+y\", \"line\": {\"color\": \"#010101\"}, \"marker\": {\"line\": {\"width\": 2}, \"size\": 12, \"symbol\": \"circle-open\"}, \"mode\": \"markers\", \"showlegend\": false, \"type\": \"scatter\", \"x\": [0.5203121543273889, 0.47987023728959405, 0.22736744467769, 0.5898556880951348, 0.658609071228204, 0.3378187277603683, 0.38426571080506183, 0.5228154981262098], \"xaxis\": \"x\", \"y\": [0.6092270455297666, 0.42929076645995695, 0.2567397538207241, 0.5745010190689257, 0.5849807534765133, 0.3474855646423191, 0.4193954762465286, 0.4803995398073619], \"yaxis\": \"y\"}, {\"error_x\": {\"array\": [0.007304035127162933, 0.004695400595664978, 0.004415888339281082, 0.007480323314666748, 0.006382599472999573, 0.003717288374900818, 0.0025189220905303955, 0.0074552446603775024], \"arrayminus\": [0.007304035127162933, 0.004695400595664978, 0.004415888339281082, 0.007480323314666748, 0.006382599472999573, 0.003717288374900818, 0.0025189220905303955, 0.0074552446603775024], \"symmetric\": false, \"thickness\": 2, \"type\": \"data\", \"visible\": true}, \"error_y\": {\"array\": [0.0015518367290496826, 0.0005239695310592651, 0.0014608949422836304, 0.0008573085069656372, 0.00043064355850219727, 0.0009472817182540894, 0.0008023306727409363, 0.001250341534614563], \"arrayminus\": [0.0015518367290496826, 0.0005239695310592651, 0.0014608949422836304, 0.0008573085069656372, 0.00043064355850219727, 0.0009472817182540894, 0.0008023306727409363, 0.001250341534614563], \"symmetric\": false, \"thickness\": 1, \"type\": \"data\", \"visible\": false}, \"hoverinfo\": \"x+y\", \"line\": {\"color\": \"#010101\"}, \"marker\": {\"line\": {\"width\": 2}, \"size\": 12, \"symbol\": \"circle-open\"}, \"mode\": \"markers\", \"showlegend\": false, \"type\": \"scatter\", \"x\": [0.09921392555071604, 0.0729356375187226, 0.057559787698131935, 0.13321066734972453, 0.14550195613229877, 0.0881082197825817, 0.07829693480712692, 0.13498858595902086], \"xaxis\": \"x2\", \"y\": [0.12895816564559937, 0.07239816337823868, 0.06515715271234512, 0.14845487475395203, 0.1437455266714096, 0.09576895087957382, 0.08749090135097504, 0.12979163229465485], \"yaxis\": \"y2\"}, {\"error_x\": {\"array\": [0.010359526611864567, 0.007538398262113333, 0.019707344472408295, 0.008963244035840034, 0.00678884657099843, 0.009663059376180172, 0.005818088538944721, 0.010820123367011547], \"arrayminus\": [0.010359526611864567, 0.007538398262113333, 0.019707344472408295, 0.008963244035840034, 0.00678884657099843, 0.009663059376180172, 0.005818088538944721, 0.010820123367011547], \"symmetric\": false, \"thickness\": 2, \"type\": \"data\", \"visible\": true}, \"error_y\": {\"array\": [0.0016045041847974062, 0.0028963133227080107, 0.003928960766643286, 0.0020899688825011253, 0.0034701244439929724, 0.0019461074844002724, 0.001525642815977335, 0.0017219176515936852], \"arrayminus\": [0.0016045041847974062, 0.0028963133227080107, 0.003928960766643286, 0.0020899688825011253, 0.0034701244439929724, 0.0019461074844002724, 0.001525642815977335, 0.0017219176515936852], \"symmetric\": false, \"thickness\": 1, \"type\": \"data\", \"visible\": false}, \"hoverinfo\": \"x+y\", \"line\": {\"color\": \"#010101\"}, \"marker\": {\"line\": {\"width\": 2}, \"size\": 12, \"symbol\": \"circle-open\"}, \"mode\": \"markers\", \"showlegend\": false, \"type\": \"scatter\", \"x\": [0.19068154515623523, 0.1519903337424678, 0.2531575607920789, 0.22583603080935225, 0.22092309761382445, 0.2608150837779522, 0.20375727681527897, 0.2581954560314776], \"xaxis\": \"x3\", \"y\": [0.21167504787445068, 0.168645977973938, 0.25378677248954773, 0.2584066390991211, 0.24572692811489105, 0.27560555934906006, 0.20861193537712097, 0.2701743543148041], \"yaxis\": \"y3\"}, {\"line\": {\"color\": \"#000400\", \"dash\": \"dash\", \"width\": 0.5}, \"mode\": \"lines\", \"showlegend\": false, \"type\": \"scatter\", \"x\": [0, 1], \"xaxis\": \"x\", \"y\": [0, 1], \"yaxis\": \"y\"}, {\"line\": {\"color\": \"#000400\", \"dash\": \"dash\", \"width\": 0.5}, \"mode\": \"lines\", \"showlegend\": false, \"type\": \"scatter\", \"x\": [0, 1], \"xaxis\": \"x2\", \"y\": [0, 1], \"yaxis\": \"y2\"}, {\"line\": {\"color\": \"#000400\", \"dash\": \"dash\", \"width\": 0.5}, \"mode\": \"lines\", \"showlegend\": false, \"type\": \"scatter\", \"x\": [0, 1], \"xaxis\": \"x3\", \"y\": [0, 1], \"yaxis\": \"y3\"}],                        {\"annotations\": [{\"font\": {\"size\": 16}, \"showarrow\": false, \"text\": \"$k_{ep,RR} [min^{-1}]$\", \"x\": 0.14444444444444446, \"xanchor\": \"center\", \"xref\": \"paper\", \"y\": 1.0, \"yanchor\": \"bottom\", \"yref\": \"paper\"}, {\"font\": {\"size\": 16}, \"showarrow\": false, \"text\": \"$K^{trans}_{RR}[min^{-1}]$\", \"x\": 0.5, \"xanchor\": \"center\", \"xref\": \"paper\", \"y\": 1.0, \"yanchor\": \"bottom\", \"yref\": \"paper\"}, {\"font\": {\"size\": 16}, \"showarrow\": false, \"text\": \"$V_{e,RR}$\", \"x\": 0.8555555555555556, \"xanchor\": \"center\", \"xref\": \"paper\", \"y\": 1.0, \"yanchor\": \"bottom\", \"yref\": \"paper\"}, {\"font\": {\"color\": \"black\", \"size\": 40}, \"showarrow\": false, \"text\": \"$\\\\textrm{CCC: 0.917}$\", \"x\": 0.5, \"xref\": \"x\", \"y\": 0.14, \"yref\": \"y\"}, {\"font\": {\"color\": \"black\", \"size\": 40}, \"showarrow\": false, \"text\": \"$\\\\textrm{CCC: 0.926}$\", \"x\": 0.12, \"xref\": \"x2\", \"y\": 0.013, \"yref\": \"y2\"}, {\"font\": {\"color\": \"black\", \"size\": 40}, \"showarrow\": false, \"text\": \"$\\\\textrm{CCC: 0.877}$\", \"x\": 0.22, \"xref\": \"x3\", \"y\": 0.113, \"yref\": \"y3\"}], \"template\": {\"data\": {\"bar\": [{\"error_x\": {\"color\": \"#2a3f5f\"}, \"error_y\": {\"color\": \"#2a3f5f\"}, \"marker\": {\"line\": {\"color\": \"#E5ECF6\", \"width\": 0.5}}, \"type\": \"bar\"}], \"barpolar\": [{\"marker\": {\"line\": {\"color\": \"#E5ECF6\", \"width\": 0.5}}, \"type\": \"barpolar\"}], \"carpet\": [{\"aaxis\": {\"endlinecolor\": \"#2a3f5f\", \"gridcolor\": \"white\", \"linecolor\": \"white\", \"minorgridcolor\": \"white\", \"startlinecolor\": \"#2a3f5f\"}, \"baxis\": {\"endlinecolor\": \"#2a3f5f\", \"gridcolor\": \"white\", \"linecolor\": \"white\", \"minorgridcolor\": \"white\", \"startlinecolor\": \"#2a3f5f\"}, \"type\": \"carpet\"}], \"choropleth\": [{\"colorbar\": {\"outlinewidth\": 0, \"ticks\": \"\"}, \"type\": \"choropleth\"}], \"contour\": [{\"colorbar\": {\"outlinewidth\": 0, \"ticks\": \"\"}, \"colorscale\": [[0.0, \"#0d0887\"], [0.1111111111111111, \"#46039f\"], [0.2222222222222222, \"#7201a8\"], [0.3333333333333333, \"#9c179e\"], [0.4444444444444444, \"#bd3786\"], [0.5555555555555556, \"#d8576b\"], [0.6666666666666666, \"#ed7953\"], [0.7777777777777778, \"#fb9f3a\"], [0.8888888888888888, \"#fdca26\"], [1.0, \"#f0f921\"]], \"type\": \"contour\"}], \"contourcarpet\": [{\"colorbar\": {\"outlinewidth\": 0, \"ticks\": \"\"}, \"type\": \"contourcarpet\"}], \"heatmap\": [{\"colorbar\": {\"outlinewidth\": 0, \"ticks\": \"\"}, \"colorscale\": [[0.0, \"#0d0887\"], [0.1111111111111111, \"#46039f\"], [0.2222222222222222, \"#7201a8\"], [0.3333333333333333, \"#9c179e\"], [0.4444444444444444, \"#bd3786\"], [0.5555555555555556, \"#d8576b\"], [0.6666666666666666, \"#ed7953\"], [0.7777777777777778, \"#fb9f3a\"], [0.8888888888888888, \"#fdca26\"], [1.0, \"#f0f921\"]], \"type\": \"heatmap\"}], \"heatmapgl\": [{\"colorbar\": {\"outlinewidth\": 0, \"ticks\": \"\"}, \"colorscale\": [[0.0, \"#0d0887\"], [0.1111111111111111, \"#46039f\"], [0.2222222222222222, \"#7201a8\"], [0.3333333333333333, \"#9c179e\"], [0.4444444444444444, \"#bd3786\"], [0.5555555555555556, \"#d8576b\"], [0.6666666666666666, \"#ed7953\"], [0.7777777777777778, \"#fb9f3a\"], [0.8888888888888888, \"#fdca26\"], [1.0, \"#f0f921\"]], \"type\": \"heatmapgl\"}], \"histogram\": [{\"marker\": {\"colorbar\": {\"outlinewidth\": 0, \"ticks\": \"\"}}, \"type\": \"histogram\"}], \"histogram2d\": [{\"colorbar\": {\"outlinewidth\": 0, \"ticks\": \"\"}, \"colorscale\": [[0.0, \"#0d0887\"], [0.1111111111111111, \"#46039f\"], [0.2222222222222222, \"#7201a8\"], [0.3333333333333333, \"#9c179e\"], [0.4444444444444444, \"#bd3786\"], [0.5555555555555556, \"#d8576b\"], [0.6666666666666666, \"#ed7953\"], [0.7777777777777778, \"#fb9f3a\"], [0.8888888888888888, \"#fdca26\"], [1.0, \"#f0f921\"]], \"type\": \"histogram2d\"}], \"histogram2dcontour\": [{\"colorbar\": {\"outlinewidth\": 0, \"ticks\": \"\"}, \"colorscale\": [[0.0, \"#0d0887\"], [0.1111111111111111, \"#46039f\"], [0.2222222222222222, \"#7201a8\"], [0.3333333333333333, \"#9c179e\"], [0.4444444444444444, \"#bd3786\"], [0.5555555555555556, \"#d8576b\"], [0.6666666666666666, \"#ed7953\"], [0.7777777777777778, \"#fb9f3a\"], [0.8888888888888888, \"#fdca26\"], [1.0, \"#f0f921\"]], \"type\": \"histogram2dcontour\"}], \"mesh3d\": [{\"colorbar\": {\"outlinewidth\": 0, \"ticks\": \"\"}, \"type\": \"mesh3d\"}], \"parcoords\": [{\"line\": {\"colorbar\": {\"outlinewidth\": 0, \"ticks\": \"\"}}, \"type\": \"parcoords\"}], \"pie\": [{\"automargin\": true, \"type\": \"pie\"}], \"scatter\": [{\"marker\": {\"colorbar\": {\"outlinewidth\": 0, \"ticks\": \"\"}}, \"type\": \"scatter\"}], \"scatter3d\": [{\"line\": {\"colorbar\": {\"outlinewidth\": 0, \"ticks\": \"\"}}, \"marker\": {\"colorbar\": {\"outlinewidth\": 0, \"ticks\": \"\"}}, \"type\": \"scatter3d\"}], \"scattercarpet\": [{\"marker\": {\"colorbar\": {\"outlinewidth\": 0, \"ticks\": \"\"}}, \"type\": \"scattercarpet\"}], \"scattergeo\": [{\"marker\": {\"colorbar\": {\"outlinewidth\": 0, \"ticks\": \"\"}}, \"type\": \"scattergeo\"}], \"scattergl\": [{\"marker\": {\"colorbar\": {\"outlinewidth\": 0, \"ticks\": \"\"}}, \"type\": \"scattergl\"}], \"scattermapbox\": [{\"marker\": {\"colorbar\": {\"outlinewidth\": 0, \"ticks\": \"\"}}, \"type\": \"scattermapbox\"}], \"scatterpolar\": [{\"marker\": {\"colorbar\": {\"outlinewidth\": 0, \"ticks\": \"\"}}, \"type\": \"scatterpolar\"}], \"scatterpolargl\": [{\"marker\": {\"colorbar\": {\"outlinewidth\": 0, \"ticks\": \"\"}}, \"type\": \"scatterpolargl\"}], \"scatterternary\": [{\"marker\": {\"colorbar\": {\"outlinewidth\": 0, \"ticks\": \"\"}}, \"type\": \"scatterternary\"}], \"surface\": [{\"colorbar\": {\"outlinewidth\": 0, \"ticks\": \"\"}, \"colorscale\": [[0.0, \"#0d0887\"], [0.1111111111111111, \"#46039f\"], [0.2222222222222222, \"#7201a8\"], [0.3333333333333333, \"#9c179e\"], [0.4444444444444444, \"#bd3786\"], [0.5555555555555556, \"#d8576b\"], [0.6666666666666666, \"#ed7953\"], [0.7777777777777778, \"#fb9f3a\"], [0.8888888888888888, \"#fdca26\"], [1.0, \"#f0f921\"]], \"type\": \"surface\"}], \"table\": [{\"cells\": {\"fill\": {\"color\": \"#EBF0F8\"}, \"line\": {\"color\": \"white\"}}, \"header\": {\"fill\": {\"color\": \"#C8D4E3\"}, \"line\": {\"color\": \"white\"}}, \"type\": \"table\"}]}, \"layout\": {\"annotationdefaults\": {\"arrowcolor\": \"#2a3f5f\", \"arrowhead\": 0, \"arrowwidth\": 1}, \"autotypenumbers\": \"strict\", \"coloraxis\": {\"colorbar\": {\"outlinewidth\": 0, \"ticks\": \"\"}}, \"colorscale\": {\"diverging\": [[0, \"#8e0152\"], [0.1, \"#c51b7d\"], [0.2, \"#de77ae\"], [0.3, \"#f1b6da\"], [0.4, \"#fde0ef\"], [0.5, \"#f7f7f7\"], [0.6, \"#e6f5d0\"], [0.7, \"#b8e186\"], [0.8, \"#7fbc41\"], [0.9, \"#4d9221\"], [1, \"#276419\"]], \"sequential\": [[0.0, \"#0d0887\"], [0.1111111111111111, \"#46039f\"], [0.2222222222222222, \"#7201a8\"], [0.3333333333333333, \"#9c179e\"], [0.4444444444444444, \"#bd3786\"], [0.5555555555555556, \"#d8576b\"], [0.6666666666666666, \"#ed7953\"], [0.7777777777777778, \"#fb9f3a\"], [0.8888888888888888, \"#fdca26\"], [1.0, \"#f0f921\"]], \"sequentialminus\": [[0.0, \"#0d0887\"], [0.1111111111111111, \"#46039f\"], [0.2222222222222222, \"#7201a8\"], [0.3333333333333333, \"#9c179e\"], [0.4444444444444444, \"#bd3786\"], [0.5555555555555556, \"#d8576b\"], [0.6666666666666666, \"#ed7953\"], [0.7777777777777778, \"#fb9f3a\"], [0.8888888888888888, \"#fdca26\"], [1.0, \"#f0f921\"]]}, \"colorway\": [\"#636efa\", \"#EF553B\", \"#00cc96\", \"#ab63fa\", \"#FFA15A\", \"#19d3f3\", \"#FF6692\", \"#B6E880\", \"#FF97FF\", \"#FECB52\"], \"font\": {\"color\": \"#2a3f5f\"}, \"geo\": {\"bgcolor\": \"white\", \"lakecolor\": \"white\", \"landcolor\": \"#E5ECF6\", \"showlakes\": true, \"showland\": true, \"subunitcolor\": \"white\"}, \"hoverlabel\": {\"align\": \"left\"}, \"hovermode\": \"closest\", \"mapbox\": {\"style\": \"light\"}, \"paper_bgcolor\": \"white\", \"plot_bgcolor\": \"#E5ECF6\", \"polar\": {\"angularaxis\": {\"gridcolor\": \"white\", \"linecolor\": \"white\", \"ticks\": \"\"}, \"bgcolor\": \"#E5ECF6\", \"radialaxis\": {\"gridcolor\": \"white\", \"linecolor\": \"white\", \"ticks\": \"\"}}, \"scene\": {\"xaxis\": {\"backgroundcolor\": \"#E5ECF6\", \"gridcolor\": \"white\", \"gridwidth\": 2, \"linecolor\": \"white\", \"showbackground\": true, \"ticks\": \"\", \"zerolinecolor\": \"white\"}, \"yaxis\": {\"backgroundcolor\": \"#E5ECF6\", \"gridcolor\": \"white\", \"gridwidth\": 2, \"linecolor\": \"white\", \"showbackground\": true, \"ticks\": \"\", \"zerolinecolor\": \"white\"}, \"zaxis\": {\"backgroundcolor\": \"#E5ECF6\", \"gridcolor\": \"white\", \"gridwidth\": 2, \"linecolor\": \"white\", \"showbackground\": true, \"ticks\": \"\", \"zerolinecolor\": \"white\"}}, \"shapedefaults\": {\"line\": {\"color\": \"#2a3f5f\"}}, \"ternary\": {\"aaxis\": {\"gridcolor\": \"white\", \"linecolor\": \"white\", \"ticks\": \"\"}, \"baxis\": {\"gridcolor\": \"white\", \"linecolor\": \"white\", \"ticks\": \"\"}, \"bgcolor\": \"#E5ECF6\", \"caxis\": {\"gridcolor\": \"white\", \"linecolor\": \"white\", \"ticks\": \"\"}}, \"title\": {\"x\": 0.05}, \"xaxis\": {\"automargin\": true, \"gridcolor\": \"white\", \"linecolor\": \"white\", \"ticks\": \"\", \"title\": {\"standoff\": 15}, \"zerolinecolor\": \"white\", \"zerolinewidth\": 2}, \"yaxis\": {\"automargin\": true, \"gridcolor\": \"white\", \"linecolor\": \"white\", \"ticks\": \"\", \"title\": {\"standoff\": 15}, \"zerolinecolor\": \"white\", \"zerolinewidth\": 2}}}, \"xaxis\": {\"anchor\": \"y\", \"domain\": [0.0, 0.2888888888888889], \"range\": [0.1, 0.8], \"tickvals\": [0.1, 0.2, 0.3, 0.4, 0.5, 0.6, 0.7, 0.8], \"title\": {\"text\": \"$ETM - k_{ep,RR} [min^{-1}]$\"}}, \"xaxis2\": {\"anchor\": \"y2\", \"domain\": [0.35555555555555557, 0.6444444444444445], \"range\": [0, 0.2], \"tickvals\": [0, 0.1, 0.2], \"title\": {\"text\": \"$ETM - K^{trans}_{RR}[min^{-1}]$\"}}, \"xaxis3\": {\"anchor\": \"y3\", \"domain\": [0.7111111111111111, 1.0], \"range\": [0.1, 0.3], \"tickvals\": [0.1, 0.2, 0.3], \"title\": {\"text\": \"$ETM - V_{e,RR}$\"}}, \"yaxis\": {\"anchor\": \"x\", \"domain\": [0.0, 1.0], \"range\": [0.1, 0.8], \"tickvals\": [0.1, 0.2, 0.3, 0.4, 0.5, 0.6, 0.7, 0.8], \"title\": {\"text\": \"$RRIFT$\"}}, \"yaxis2\": {\"anchor\": \"x2\", \"domain\": [0.0, 1.0], \"range\": [0, 0.2], \"tickvals\": [0, 0.1, 0.2], \"title\": {\"text\": \"$RRIFT$\"}}, \"yaxis3\": {\"anchor\": \"x3\", \"domain\": [0.0, 1.0], \"range\": [0.1, 0.3], \"tickvals\": [0.1, 0.2, 0.3], \"title\": {\"text\": \"$RRIFT$\"}}},                        {\"responsive\": true}                    ).then(function(){\n",
       "                            \n",
       "var gd = document.getElementById('c09b4e3c-722c-494b-aae3-172069fbdcdb');\n",
       "var x = new MutationObserver(function (mutations, observer) {{\n",
       "        var display = window.getComputedStyle(gd).display;\n",
       "        if (!display || display === 'none') {{\n",
       "            console.log([gd, 'removed!']);\n",
       "            Plotly.purge(gd);\n",
       "            observer.disconnect();\n",
       "        }}\n",
       "}});\n",
       "\n",
       "// Listen for the removal of the full notebook cells\n",
       "var notebookContainer = gd.closest('#notebook-container');\n",
       "if (notebookContainer) {{\n",
       "    x.observe(notebookContainer, {childList: true});\n",
       "}}\n",
       "\n",
       "// Listen for the clearing of the current output cell\n",
       "var outputEl = gd.closest('.output');\n",
       "if (outputEl) {{\n",
       "    x.observe(outputEl, {childList: true});\n",
       "}}\n",
       "\n",
       "                        })                };                });            </script>        </div>"
      ]
     },
     "metadata": {},
     "output_type": "display_data"
    }
   ],
   "source": [
    "fig = make_subplots(rows=1, cols=3, \n",
    "                    subplot_titles=(r'$k_{ep,RR} [min^{-1}]$', r'$K^{trans}_{RR}[min^{-1}]$', r'$V_{e,RR}$'))\n",
    "\n",
    "line_colour = '#010101'\n",
    "\n",
    "file = loadmat('fig8vars.mat')\n",
    "xv1 = np.squeeze(np.asarray(np.reshape(file['xv1'], 8)))\n",
    "yv1 = np.squeeze(np.asarray(np.reshape(file['yv1'], 8)))\n",
    "xr1 = file['xr1']\n",
    "yr1 = file['yr1']\n",
    "\n",
    "xv2 = np.squeeze(np.asarray(np.reshape(file['xv2'], 8)))\n",
    "yv2 = np.squeeze(np.asarray(np.reshape(file['yv2'], 8)))\n",
    "xr2 = file['xr2']\n",
    "yr2 = file['yr2']\n",
    "\n",
    "xv3 = np.squeeze(np.asarray(np.reshape(file['xv3'], 8)))\n",
    "yv3 = np.squeeze(np.asarray(np.reshape(file['yv3'], 8)))\n",
    "xr3 = file['xr3']\n",
    "yr3 = file['yr3']\n",
    "\n",
    "x = cycle([xv1, xv2, xv3])\n",
    "y = cycle([yv1, yv2, yv3])\n",
    "\n",
    "\n",
    "\n",
    "# First subplot vars\n",
    "\n",
    "y_negative1 = np.squeeze(np.asarray(np.reshape(yr1[:,0], 8)))\n",
    "y_positive1 = np.squeeze(np.asarray(np.reshape(yr1[:,1], 8)))\n",
    "\n",
    "x_negative1 = np.squeeze(np.asarray(np.reshape(xr1[:,0], 8)))\n",
    "x_positive1 = np.squeeze(np.asarray(np.reshape(xr1[:,1], 8)))\n",
    "\n",
    "# Second subplot vars\n",
    "\n",
    "y_negative2 = np.squeeze(np.asarray(np.reshape(yr2[:,0], 8)))\n",
    "y_positive2 = np.squeeze(np.asarray(np.reshape(yr2[:,1], 8)))\n",
    "\n",
    "x_negative2 = np.squeeze(np.asarray(np.reshape(xr2[:,0], 8)))\n",
    "x_positive2 = np.squeeze(np.asarray(np.reshape(xr2[:,1], 8)))\n",
    "\n",
    "# Third subplot vars\n",
    "\n",
    "y_negative3 = np.squeeze(np.asarray(np.reshape(yr3[:,0], 8)))\n",
    "y_positive3 = np.squeeze(np.asarray(np.reshape(yr3[:,1], 8)))\n",
    "\n",
    "x_negative3 = np.squeeze(np.asarray(np.reshape(xr3[:,0], 8)))\n",
    "x_positive3 = np.squeeze(np.asarray(np.reshape(xr3[:,1], 8)))\n",
    "\n",
    "x_positive_values = cycle([x_positive1, x_positive2, x_positive3])\n",
    "x_negative_values = cycle([x_negative1, x_negative2, x_negative3])\n",
    "y_positive_values = cycle([y_positive1, y_positive2, y_positive3])\n",
    "y_negative_values = cycle([y_negative1, y_negative2, y_negative3])\n",
    "\n",
    "\n",
    "for i in range (1, 4):\n",
    "    fig.add_trace(go.Scatter(\n",
    "        x=next(x),\n",
    "        y=next(y),\n",
    "        showlegend=False,\n",
    "        hoverinfo='x+y',\n",
    "        error_y=dict(\n",
    "            type='data', # value of error bar given in data coordinates\n",
    "            array=next(y_positive_values),\n",
    "            arrayminus=next(y_negative_values),\n",
    "            symmetric=False,\n",
    "            visible=False,\n",
    "            thickness=1),\n",
    "        error_x=dict(\n",
    "            type='data', # value of error bar given in data coordinates\n",
    "            array=next(x_positive_values),\n",
    "            arrayminus=next(x_negative_values),\n",
    "            symmetric=False,\n",
    "            visible=True,\n",
    "            thickness=2),\n",
    "        line_color=line_colour,\n",
    "        mode='markers',\n",
    "        marker_symbol='circle-open', marker_size=12, marker_line_width=2\n",
    "    ),row=1, col=i)\n",
    "\n",
    "\n",
    "\n",
    "# Adding the x=y dashed line on each of the three subplots\n",
    "\n",
    "fig.append_trace(go.Scatter(x=[0,1], y=[0,1], showlegend=False, mode='lines', line={'dash': 'dash', 'color': '#000400', 'width': 0.5}), row=1, col=1)\n",
    "fig.append_trace(go.Scatter(x=[0,1], y=[0,1], showlegend=False, mode='lines', line={'dash': 'dash', 'color': '#000400', 'width': 0.5}), row=1, col=2)\n",
    "fig.append_trace(go.Scatter(x=[0,1], y=[0,1], showlegend=False, mode='lines', line={'dash': 'dash', 'color': '#000400', 'width': 0.5}), row=1, col=3)\n",
    "\n",
    "# Adding the CCC text on each of the three subplots\n",
    "\n",
    "fig.add_annotation(  \n",
    "    x=0.5,\n",
    "    y=0.14,\n",
    "    text=r'$\\textrm{CCC: 0.917}$', \n",
    "    showarrow=False, font=dict(size=40, color='black'), row=1, col=1)\n",
    "fig.add_annotation(  \n",
    "    x=0.12,\n",
    "    y=0.013,\n",
    "    text=r'$\\textrm{CCC: 0.926}$',\n",
    "    xref=\"paper\", yref=\"paper\", \n",
    "    showarrow=False, font=dict(size=40, color='black'), row=1, col=2)\n",
    "fig.add_annotation(  \n",
    "    x=0.22,\n",
    "    y=0.113,\n",
    "    text=r'$\\textrm{CCC: 0.877}$',\n",
    "    xref=\"paper\", yref=\"paper\", \n",
    "    showarrow=False, font=dict(size=40, color='black'), row=1, col=3)\n",
    "\n",
    "    \n",
    "\n",
    "fig.update_xaxes(title_text=r'$ETM - k_{ep,RR} [min^{-1}]$',\n",
    "                 range=[0.1,0.8], \n",
    "                 tickvals=[0.1, 0.2, 0.3, 0.4, 0.5, 0.6, 0.7, 0.8],\n",
    "                 row=1, col=1)\n",
    "fig.update_xaxes(title_text=r'$ETM - K^{trans}_{RR}[min^{-1}]$',\n",
    "                 range=[0, 0.2], \n",
    "                 tickvals=[0, 0.1, 0.2],\n",
    "                 row=1, col=2)\n",
    "fig.update_xaxes(title_text=r'$ETM - V_{e,RR}$',\n",
    "                 range=[0.1, 0.3], \n",
    "                 tickvals=[0.1, 0.2, 0.3],\n",
    "                 row=1, col=3)\n",
    "\n",
    "\n",
    "fig.update_yaxes(title_text=r'$RRIFT$',\n",
    "                 range=[0.1,0.8], \n",
    "                 tickvals=[0.1, 0.2, 0.3, 0.4, 0.5, 0.6, 0.7, 0.8],\n",
    "                 row=1, col=1)\n",
    "fig.update_yaxes(title_text=r'$RRIFT$',\n",
    "                 range=[0, 0.2], \n",
    "                 tickvals=[0, 0.1, 0.2],\n",
    "                 row=1, col=2)\n",
    "fig.update_yaxes(title_text=r'$RRIFT$',\n",
    "                 range=[0.1, 0.3], \n",
    "                 tickvals=[0.1, 0.2, 0.3],\n",
    "                 row=1, col=3)\n",
    "\n",
    "\n",
    "fig.show()"
   ]
  },
  {
   "cell_type": "markdown",
   "metadata": {
    "kernel": "SoS"
   },
   "source": [
    "## Figure 8 - choose which subplot to view using a slider"
   ]
  },
  {
   "cell_type": "code",
   "execution_count": 63,
   "metadata": {
    "kernel": "SoS"
   },
   "outputs": [
    {
     "data": {
      "application/vnd.plotly.v1+json": {
       "config": {
        "plotlyServerURL": "https://plot.ly"
       },
       "data": [
        {
         "error_x": {
          "array": [
           0.042950570583343506,
           0.036684632301330566,
           0.03107166290283203,
           0.03402167558670044,
           0.0290793776512146,
           0.020564883947372437,
           0.01824033260345459,
           0.03354150056838989
          ],
          "arrayminus": [
           0.042950570583343506,
           0.036684632301330566,
           0.03107166290283203,
           0.03402167558670044,
           0.0290793776512146,
           0.020564883947372437,
           0.01824033260345459,
           0.03354150056838989
          ],
          "symmetric": false,
          "thickness": 2,
          "type": "data",
          "visible": true
         },
         "error_y": {
          "array": [
           0.005617426317764518,
           0.014414173864071789,
           0.005482355550348039,
           0.008680628002132873,
           0.016428837488461023,
           0.0035026166108688694,
           0.004778912905640587,
           0.004009978758235555
          ],
          "arrayminus": [
           0.005617426317764518,
           0.014414173864071789,
           0.005482355550348039,
           0.008680628002132873,
           0.016428837488461023,
           0.0035026166108688694,
           0.004778912905640587,
           0.004009978758235555
          ],
          "symmetric": false,
          "thickness": 1,
          "type": "data",
          "visible": false
         },
         "hoverinfo": "x+y",
         "line": {
          "color": "#010101"
         },
         "marker": {
          "line": {
           "width": 2
          },
          "size": 12,
          "symbol": "circle-open"
         },
         "mode": "markers",
         "name": "$k_{ep,RR} [min^{-1}]$",
         "showlegend": false,
         "type": "scatter",
         "visible": true,
         "x": [
          0.5203121543273889,
          0.47987023728959405,
          0.22736744467769,
          0.5898556880951348,
          0.658609071228204,
          0.3378187277603683,
          0.38426571080506183,
          0.5228154981262098
         ],
         "y": [
          0.6092270455297666,
          0.42929076645995695,
          0.2567397538207241,
          0.5745010190689257,
          0.5849807534765133,
          0.3474855646423191,
          0.4193954762465286,
          0.4803995398073619
         ]
        },
        {
         "error_x": {
          "array": [
           0.007304035127162933,
           0.004695400595664978,
           0.004415888339281082,
           0.007480323314666748,
           0.006382599472999573,
           0.003717288374900818,
           0.0025189220905303955,
           0.0074552446603775024
          ],
          "arrayminus": [
           0.007304035127162933,
           0.004695400595664978,
           0.004415888339281082,
           0.007480323314666748,
           0.006382599472999573,
           0.003717288374900818,
           0.0025189220905303955,
           0.0074552446603775024
          ],
          "symmetric": false,
          "thickness": 2,
          "type": "data",
          "visible": true
         },
         "error_y": {
          "array": [
           0.0015518367290496826,
           0.0005239695310592651,
           0.0014608949422836304,
           0.0008573085069656372,
           0.00043064355850219727,
           0.0009472817182540894,
           0.0008023306727409363,
           0.001250341534614563
          ],
          "arrayminus": [
           0.0015518367290496826,
           0.0005239695310592651,
           0.0014608949422836304,
           0.0008573085069656372,
           0.00043064355850219727,
           0.0009472817182540894,
           0.0008023306727409363,
           0.001250341534614563
          ],
          "symmetric": false,
          "thickness": 1,
          "type": "data",
          "visible": false
         },
         "hoverinfo": "x+y",
         "line": {
          "color": "#010101"
         },
         "marker": {
          "line": {
           "width": 2
          },
          "size": 12,
          "symbol": "circle-open"
         },
         "mode": "markers",
         "name": "$K^{trans}_{RR}[min^{-1}]$",
         "showlegend": false,
         "type": "scatter",
         "visible": false,
         "x": [
          0.09921392555071604,
          0.0729356375187226,
          0.057559787698131935,
          0.13321066734972453,
          0.14550195613229877,
          0.0881082197825817,
          0.07829693480712692,
          0.13498858595902086
         ],
         "y": [
          0.12895816564559937,
          0.07239816337823868,
          0.06515715271234512,
          0.14845487475395203,
          0.1437455266714096,
          0.09576895087957382,
          0.08749090135097504,
          0.12979163229465485
         ]
        },
        {
         "error_x": {
          "array": [
           0.010359526611864567,
           0.007538398262113333,
           0.019707344472408295,
           0.008963244035840034,
           0.00678884657099843,
           0.009663059376180172,
           0.005818088538944721,
           0.010820123367011547
          ],
          "arrayminus": [
           0.010359526611864567,
           0.007538398262113333,
           0.019707344472408295,
           0.008963244035840034,
           0.00678884657099843,
           0.009663059376180172,
           0.005818088538944721,
           0.010820123367011547
          ],
          "symmetric": false,
          "thickness": 2,
          "type": "data",
          "visible": true
         },
         "error_y": {
          "array": [
           0.0016045041847974062,
           0.0028963133227080107,
           0.003928960766643286,
           0.0020899688825011253,
           0.0034701244439929724,
           0.0019461074844002724,
           0.001525642815977335,
           0.0017219176515936852
          ],
          "arrayminus": [
           0.0016045041847974062,
           0.0028963133227080107,
           0.003928960766643286,
           0.0020899688825011253,
           0.0034701244439929724,
           0.0019461074844002724,
           0.001525642815977335,
           0.0017219176515936852
          ],
          "symmetric": false,
          "thickness": 1,
          "type": "data",
          "visible": false
         },
         "hoverinfo": "x+y",
         "line": {
          "color": "#010101"
         },
         "marker": {
          "line": {
           "width": 2
          },
          "size": 12,
          "symbol": "circle-open"
         },
         "mode": "markers",
         "name": "$V_{e,RR}$",
         "showlegend": false,
         "type": "scatter",
         "visible": false,
         "x": [
          0.19068154515623523,
          0.1519903337424678,
          0.2531575607920789,
          0.22583603080935225,
          0.22092309761382445,
          0.2608150837779522,
          0.20375727681527897,
          0.2581954560314776
         ],
         "y": [
          0.21167504787445068,
          0.168645977973938,
          0.25378677248954773,
          0.2584066390991211,
          0.24572692811489105,
          0.27560555934906006,
          0.20861193537712097,
          0.2701743543148041
         ]
        }
       ],
       "layout": {
        "sliders": [
         {
          "active": 0,
          "currentvalue": {
           "prefix": "ETM - "
          },
          "pad": {
           "t": 70
          },
          "steps": [
           {
            "args": [
             {
              "visible": [
               true,
               false,
               false
              ]
             },
             {
              "title.text": "$k_{ep,RR} [min^{-1}]$"
             }
            ],
            "label": "ETM - k<sub>ep,RR</sub> [min<sup>-1</sup>]",
            "method": "update"
           },
           {
            "args": [
             {
              "visible": [
               false,
               true,
               false
              ]
             },
             {
              "title.text": "$K^{trans}_{RR}[min^{-1}]$"
             }
            ],
            "label": "ETM - K<sup>trans</sup><sub>RR</sub>[min<sub>-1</sub>]",
            "method": "update"
           },
           {
            "args": [
             {
              "visible": [
               false,
               false,
               true
              ]
             },
             {
              "title.text": "$V_{e,RR}$"
             }
            ],
            "label": "ETM - V<sub>e,RR</sub>",
            "method": "update"
           }
          ]
         }
        ],
        "template": {
         "data": {
          "bar": [
           {
            "error_x": {
             "color": "#2a3f5f"
            },
            "error_y": {
             "color": "#2a3f5f"
            },
            "marker": {
             "line": {
              "color": "#E5ECF6",
              "width": 0.5
             }
            },
            "type": "bar"
           }
          ],
          "barpolar": [
           {
            "marker": {
             "line": {
              "color": "#E5ECF6",
              "width": 0.5
             }
            },
            "type": "barpolar"
           }
          ],
          "carpet": [
           {
            "aaxis": {
             "endlinecolor": "#2a3f5f",
             "gridcolor": "white",
             "linecolor": "white",
             "minorgridcolor": "white",
             "startlinecolor": "#2a3f5f"
            },
            "baxis": {
             "endlinecolor": "#2a3f5f",
             "gridcolor": "white",
             "linecolor": "white",
             "minorgridcolor": "white",
             "startlinecolor": "#2a3f5f"
            },
            "type": "carpet"
           }
          ],
          "choropleth": [
           {
            "colorbar": {
             "outlinewidth": 0,
             "ticks": ""
            },
            "type": "choropleth"
           }
          ],
          "contour": [
           {
            "colorbar": {
             "outlinewidth": 0,
             "ticks": ""
            },
            "colorscale": [
             [
              0,
              "#0d0887"
             ],
             [
              0.1111111111111111,
              "#46039f"
             ],
             [
              0.2222222222222222,
              "#7201a8"
             ],
             [
              0.3333333333333333,
              "#9c179e"
             ],
             [
              0.4444444444444444,
              "#bd3786"
             ],
             [
              0.5555555555555556,
              "#d8576b"
             ],
             [
              0.6666666666666666,
              "#ed7953"
             ],
             [
              0.7777777777777778,
              "#fb9f3a"
             ],
             [
              0.8888888888888888,
              "#fdca26"
             ],
             [
              1,
              "#f0f921"
             ]
            ],
            "type": "contour"
           }
          ],
          "contourcarpet": [
           {
            "colorbar": {
             "outlinewidth": 0,
             "ticks": ""
            },
            "type": "contourcarpet"
           }
          ],
          "heatmap": [
           {
            "colorbar": {
             "outlinewidth": 0,
             "ticks": ""
            },
            "colorscale": [
             [
              0,
              "#0d0887"
             ],
             [
              0.1111111111111111,
              "#46039f"
             ],
             [
              0.2222222222222222,
              "#7201a8"
             ],
             [
              0.3333333333333333,
              "#9c179e"
             ],
             [
              0.4444444444444444,
              "#bd3786"
             ],
             [
              0.5555555555555556,
              "#d8576b"
             ],
             [
              0.6666666666666666,
              "#ed7953"
             ],
             [
              0.7777777777777778,
              "#fb9f3a"
             ],
             [
              0.8888888888888888,
              "#fdca26"
             ],
             [
              1,
              "#f0f921"
             ]
            ],
            "type": "heatmap"
           }
          ],
          "heatmapgl": [
           {
            "colorbar": {
             "outlinewidth": 0,
             "ticks": ""
            },
            "colorscale": [
             [
              0,
              "#0d0887"
             ],
             [
              0.1111111111111111,
              "#46039f"
             ],
             [
              0.2222222222222222,
              "#7201a8"
             ],
             [
              0.3333333333333333,
              "#9c179e"
             ],
             [
              0.4444444444444444,
              "#bd3786"
             ],
             [
              0.5555555555555556,
              "#d8576b"
             ],
             [
              0.6666666666666666,
              "#ed7953"
             ],
             [
              0.7777777777777778,
              "#fb9f3a"
             ],
             [
              0.8888888888888888,
              "#fdca26"
             ],
             [
              1,
              "#f0f921"
             ]
            ],
            "type": "heatmapgl"
           }
          ],
          "histogram": [
           {
            "marker": {
             "colorbar": {
              "outlinewidth": 0,
              "ticks": ""
             }
            },
            "type": "histogram"
           }
          ],
          "histogram2d": [
           {
            "colorbar": {
             "outlinewidth": 0,
             "ticks": ""
            },
            "colorscale": [
             [
              0,
              "#0d0887"
             ],
             [
              0.1111111111111111,
              "#46039f"
             ],
             [
              0.2222222222222222,
              "#7201a8"
             ],
             [
              0.3333333333333333,
              "#9c179e"
             ],
             [
              0.4444444444444444,
              "#bd3786"
             ],
             [
              0.5555555555555556,
              "#d8576b"
             ],
             [
              0.6666666666666666,
              "#ed7953"
             ],
             [
              0.7777777777777778,
              "#fb9f3a"
             ],
             [
              0.8888888888888888,
              "#fdca26"
             ],
             [
              1,
              "#f0f921"
             ]
            ],
            "type": "histogram2d"
           }
          ],
          "histogram2dcontour": [
           {
            "colorbar": {
             "outlinewidth": 0,
             "ticks": ""
            },
            "colorscale": [
             [
              0,
              "#0d0887"
             ],
             [
              0.1111111111111111,
              "#46039f"
             ],
             [
              0.2222222222222222,
              "#7201a8"
             ],
             [
              0.3333333333333333,
              "#9c179e"
             ],
             [
              0.4444444444444444,
              "#bd3786"
             ],
             [
              0.5555555555555556,
              "#d8576b"
             ],
             [
              0.6666666666666666,
              "#ed7953"
             ],
             [
              0.7777777777777778,
              "#fb9f3a"
             ],
             [
              0.8888888888888888,
              "#fdca26"
             ],
             [
              1,
              "#f0f921"
             ]
            ],
            "type": "histogram2dcontour"
           }
          ],
          "mesh3d": [
           {
            "colorbar": {
             "outlinewidth": 0,
             "ticks": ""
            },
            "type": "mesh3d"
           }
          ],
          "parcoords": [
           {
            "line": {
             "colorbar": {
              "outlinewidth": 0,
              "ticks": ""
             }
            },
            "type": "parcoords"
           }
          ],
          "pie": [
           {
            "automargin": true,
            "type": "pie"
           }
          ],
          "scatter": [
           {
            "marker": {
             "colorbar": {
              "outlinewidth": 0,
              "ticks": ""
             }
            },
            "type": "scatter"
           }
          ],
          "scatter3d": [
           {
            "line": {
             "colorbar": {
              "outlinewidth": 0,
              "ticks": ""
             }
            },
            "marker": {
             "colorbar": {
              "outlinewidth": 0,
              "ticks": ""
             }
            },
            "type": "scatter3d"
           }
          ],
          "scattercarpet": [
           {
            "marker": {
             "colorbar": {
              "outlinewidth": 0,
              "ticks": ""
             }
            },
            "type": "scattercarpet"
           }
          ],
          "scattergeo": [
           {
            "marker": {
             "colorbar": {
              "outlinewidth": 0,
              "ticks": ""
             }
            },
            "type": "scattergeo"
           }
          ],
          "scattergl": [
           {
            "marker": {
             "colorbar": {
              "outlinewidth": 0,
              "ticks": ""
             }
            },
            "type": "scattergl"
           }
          ],
          "scattermapbox": [
           {
            "marker": {
             "colorbar": {
              "outlinewidth": 0,
              "ticks": ""
             }
            },
            "type": "scattermapbox"
           }
          ],
          "scatterpolar": [
           {
            "marker": {
             "colorbar": {
              "outlinewidth": 0,
              "ticks": ""
             }
            },
            "type": "scatterpolar"
           }
          ],
          "scatterpolargl": [
           {
            "marker": {
             "colorbar": {
              "outlinewidth": 0,
              "ticks": ""
             }
            },
            "type": "scatterpolargl"
           }
          ],
          "scatterternary": [
           {
            "marker": {
             "colorbar": {
              "outlinewidth": 0,
              "ticks": ""
             }
            },
            "type": "scatterternary"
           }
          ],
          "surface": [
           {
            "colorbar": {
             "outlinewidth": 0,
             "ticks": ""
            },
            "colorscale": [
             [
              0,
              "#0d0887"
             ],
             [
              0.1111111111111111,
              "#46039f"
             ],
             [
              0.2222222222222222,
              "#7201a8"
             ],
             [
              0.3333333333333333,
              "#9c179e"
             ],
             [
              0.4444444444444444,
              "#bd3786"
             ],
             [
              0.5555555555555556,
              "#d8576b"
             ],
             [
              0.6666666666666666,
              "#ed7953"
             ],
             [
              0.7777777777777778,
              "#fb9f3a"
             ],
             [
              0.8888888888888888,
              "#fdca26"
             ],
             [
              1,
              "#f0f921"
             ]
            ],
            "type": "surface"
           }
          ],
          "table": [
           {
            "cells": {
             "fill": {
              "color": "#EBF0F8"
             },
             "line": {
              "color": "white"
             }
            },
            "header": {
             "fill": {
              "color": "#C8D4E3"
             },
             "line": {
              "color": "white"
             }
            },
            "type": "table"
           }
          ]
         },
         "layout": {
          "annotationdefaults": {
           "arrowcolor": "#2a3f5f",
           "arrowhead": 0,
           "arrowwidth": 1
          },
          "autotypenumbers": "strict",
          "coloraxis": {
           "colorbar": {
            "outlinewidth": 0,
            "ticks": ""
           }
          },
          "colorscale": {
           "diverging": [
            [
             0,
             "#8e0152"
            ],
            [
             0.1,
             "#c51b7d"
            ],
            [
             0.2,
             "#de77ae"
            ],
            [
             0.3,
             "#f1b6da"
            ],
            [
             0.4,
             "#fde0ef"
            ],
            [
             0.5,
             "#f7f7f7"
            ],
            [
             0.6,
             "#e6f5d0"
            ],
            [
             0.7,
             "#b8e186"
            ],
            [
             0.8,
             "#7fbc41"
            ],
            [
             0.9,
             "#4d9221"
            ],
            [
             1,
             "#276419"
            ]
           ],
           "sequential": [
            [
             0,
             "#0d0887"
            ],
            [
             0.1111111111111111,
             "#46039f"
            ],
            [
             0.2222222222222222,
             "#7201a8"
            ],
            [
             0.3333333333333333,
             "#9c179e"
            ],
            [
             0.4444444444444444,
             "#bd3786"
            ],
            [
             0.5555555555555556,
             "#d8576b"
            ],
            [
             0.6666666666666666,
             "#ed7953"
            ],
            [
             0.7777777777777778,
             "#fb9f3a"
            ],
            [
             0.8888888888888888,
             "#fdca26"
            ],
            [
             1,
             "#f0f921"
            ]
           ],
           "sequentialminus": [
            [
             0,
             "#0d0887"
            ],
            [
             0.1111111111111111,
             "#46039f"
            ],
            [
             0.2222222222222222,
             "#7201a8"
            ],
            [
             0.3333333333333333,
             "#9c179e"
            ],
            [
             0.4444444444444444,
             "#bd3786"
            ],
            [
             0.5555555555555556,
             "#d8576b"
            ],
            [
             0.6666666666666666,
             "#ed7953"
            ],
            [
             0.7777777777777778,
             "#fb9f3a"
            ],
            [
             0.8888888888888888,
             "#fdca26"
            ],
            [
             1,
             "#f0f921"
            ]
           ]
          },
          "colorway": [
           "#636efa",
           "#EF553B",
           "#00cc96",
           "#ab63fa",
           "#FFA15A",
           "#19d3f3",
           "#FF6692",
           "#B6E880",
           "#FF97FF",
           "#FECB52"
          ],
          "font": {
           "color": "#2a3f5f"
          },
          "geo": {
           "bgcolor": "white",
           "lakecolor": "white",
           "landcolor": "#E5ECF6",
           "showlakes": true,
           "showland": true,
           "subunitcolor": "white"
          },
          "hoverlabel": {
           "align": "left"
          },
          "hovermode": "closest",
          "mapbox": {
           "style": "light"
          },
          "paper_bgcolor": "white",
          "plot_bgcolor": "#E5ECF6",
          "polar": {
           "angularaxis": {
            "gridcolor": "white",
            "linecolor": "white",
            "ticks": ""
           },
           "bgcolor": "#E5ECF6",
           "radialaxis": {
            "gridcolor": "white",
            "linecolor": "white",
            "ticks": ""
           }
          },
          "scene": {
           "xaxis": {
            "backgroundcolor": "#E5ECF6",
            "gridcolor": "white",
            "gridwidth": 2,
            "linecolor": "white",
            "showbackground": true,
            "ticks": "",
            "zerolinecolor": "white"
           },
           "yaxis": {
            "backgroundcolor": "#E5ECF6",
            "gridcolor": "white",
            "gridwidth": 2,
            "linecolor": "white",
            "showbackground": true,
            "ticks": "",
            "zerolinecolor": "white"
           },
           "zaxis": {
            "backgroundcolor": "#E5ECF6",
            "gridcolor": "white",
            "gridwidth": 2,
            "linecolor": "white",
            "showbackground": true,
            "ticks": "",
            "zerolinecolor": "white"
           }
          },
          "shapedefaults": {
           "line": {
            "color": "#2a3f5f"
           }
          },
          "ternary": {
           "aaxis": {
            "gridcolor": "white",
            "linecolor": "white",
            "ticks": ""
           },
           "baxis": {
            "gridcolor": "white",
            "linecolor": "white",
            "ticks": ""
           },
           "bgcolor": "#E5ECF6",
           "caxis": {
            "gridcolor": "white",
            "linecolor": "white",
            "ticks": ""
           }
          },
          "title": {
           "x": 0.05
          },
          "xaxis": {
           "automargin": true,
           "gridcolor": "white",
           "linecolor": "white",
           "ticks": "",
           "title": {
            "standoff": 15
           },
           "zerolinecolor": "white",
           "zerolinewidth": 2
          },
          "yaxis": {
           "automargin": true,
           "gridcolor": "white",
           "linecolor": "white",
           "ticks": "",
           "title": {
            "standoff": 15
           },
           "zerolinecolor": "white",
           "zerolinewidth": 2
          }
         }
        },
        "title": {
         "text": "$k_{ep,RR} [min^{-1}]$"
        },
        "xaxis": {
         "title": {
          "text": "$ETM$"
         }
        },
        "yaxis": {
         "title": {
          "text": "$RRIFT$"
         }
        }
       }
      },
      "text/html": [
       "<div>                            <div id=\"aa8624ed-f643-4ee0-bc29-6799a76eccdc\" class=\"plotly-graph-div\" style=\"height:525px; width:100%;\"></div>            <script type=\"text/javascript\">                require([\"plotly\"], function(Plotly) {                    window.PLOTLYENV=window.PLOTLYENV || {};                                    if (document.getElementById(\"aa8624ed-f643-4ee0-bc29-6799a76eccdc\")) {                    Plotly.newPlot(                        \"aa8624ed-f643-4ee0-bc29-6799a76eccdc\",                        [{\"error_x\": {\"array\": [0.042950570583343506, 0.036684632301330566, 0.03107166290283203, 0.03402167558670044, 0.0290793776512146, 0.020564883947372437, 0.01824033260345459, 0.03354150056838989], \"arrayminus\": [0.042950570583343506, 0.036684632301330566, 0.03107166290283203, 0.03402167558670044, 0.0290793776512146, 0.020564883947372437, 0.01824033260345459, 0.03354150056838989], \"symmetric\": false, \"thickness\": 2, \"type\": \"data\", \"visible\": true}, \"error_y\": {\"array\": [0.005617426317764518, 0.014414173864071789, 0.005482355550348039, 0.008680628002132873, 0.016428837488461023, 0.0035026166108688694, 0.004778912905640587, 0.004009978758235555], \"arrayminus\": [0.005617426317764518, 0.014414173864071789, 0.005482355550348039, 0.008680628002132873, 0.016428837488461023, 0.0035026166108688694, 0.004778912905640587, 0.004009978758235555], \"symmetric\": false, \"thickness\": 1, \"type\": \"data\", \"visible\": false}, \"hoverinfo\": \"x+y\", \"line\": {\"color\": \"#010101\"}, \"marker\": {\"line\": {\"width\": 2}, \"size\": 12, \"symbol\": \"circle-open\"}, \"mode\": \"markers\", \"name\": \"$k_{ep,RR} [min^{-1}]$\", \"showlegend\": false, \"type\": \"scatter\", \"visible\": true, \"x\": [0.5203121543273889, 0.47987023728959405, 0.22736744467769, 0.5898556880951348, 0.658609071228204, 0.3378187277603683, 0.38426571080506183, 0.5228154981262098], \"y\": [0.6092270455297666, 0.42929076645995695, 0.2567397538207241, 0.5745010190689257, 0.5849807534765133, 0.3474855646423191, 0.4193954762465286, 0.4803995398073619]}, {\"error_x\": {\"array\": [0.007304035127162933, 0.004695400595664978, 0.004415888339281082, 0.007480323314666748, 0.006382599472999573, 0.003717288374900818, 0.0025189220905303955, 0.0074552446603775024], \"arrayminus\": [0.007304035127162933, 0.004695400595664978, 0.004415888339281082, 0.007480323314666748, 0.006382599472999573, 0.003717288374900818, 0.0025189220905303955, 0.0074552446603775024], \"symmetric\": false, \"thickness\": 2, \"type\": \"data\", \"visible\": true}, \"error_y\": {\"array\": [0.0015518367290496826, 0.0005239695310592651, 0.0014608949422836304, 0.0008573085069656372, 0.00043064355850219727, 0.0009472817182540894, 0.0008023306727409363, 0.001250341534614563], \"arrayminus\": [0.0015518367290496826, 0.0005239695310592651, 0.0014608949422836304, 0.0008573085069656372, 0.00043064355850219727, 0.0009472817182540894, 0.0008023306727409363, 0.001250341534614563], \"symmetric\": false, \"thickness\": 1, \"type\": \"data\", \"visible\": false}, \"hoverinfo\": \"x+y\", \"line\": {\"color\": \"#010101\"}, \"marker\": {\"line\": {\"width\": 2}, \"size\": 12, \"symbol\": \"circle-open\"}, \"mode\": \"markers\", \"name\": \"$K^{trans}_{RR}[min^{-1}]$\", \"showlegend\": false, \"type\": \"scatter\", \"visible\": false, \"x\": [0.09921392555071604, 0.0729356375187226, 0.057559787698131935, 0.13321066734972453, 0.14550195613229877, 0.0881082197825817, 0.07829693480712692, 0.13498858595902086], \"y\": [0.12895816564559937, 0.07239816337823868, 0.06515715271234512, 0.14845487475395203, 0.1437455266714096, 0.09576895087957382, 0.08749090135097504, 0.12979163229465485]}, {\"error_x\": {\"array\": [0.010359526611864567, 0.007538398262113333, 0.019707344472408295, 0.008963244035840034, 0.00678884657099843, 0.009663059376180172, 0.005818088538944721, 0.010820123367011547], \"arrayminus\": [0.010359526611864567, 0.007538398262113333, 0.019707344472408295, 0.008963244035840034, 0.00678884657099843, 0.009663059376180172, 0.005818088538944721, 0.010820123367011547], \"symmetric\": false, \"thickness\": 2, \"type\": \"data\", \"visible\": true}, \"error_y\": {\"array\": [0.0016045041847974062, 0.0028963133227080107, 0.003928960766643286, 0.0020899688825011253, 0.0034701244439929724, 0.0019461074844002724, 0.001525642815977335, 0.0017219176515936852], \"arrayminus\": [0.0016045041847974062, 0.0028963133227080107, 0.003928960766643286, 0.0020899688825011253, 0.0034701244439929724, 0.0019461074844002724, 0.001525642815977335, 0.0017219176515936852], \"symmetric\": false, \"thickness\": 1, \"type\": \"data\", \"visible\": false}, \"hoverinfo\": \"x+y\", \"line\": {\"color\": \"#010101\"}, \"marker\": {\"line\": {\"width\": 2}, \"size\": 12, \"symbol\": \"circle-open\"}, \"mode\": \"markers\", \"name\": \"$V_{e,RR}$\", \"showlegend\": false, \"type\": \"scatter\", \"visible\": false, \"x\": [0.19068154515623523, 0.1519903337424678, 0.2531575607920789, 0.22583603080935225, 0.22092309761382445, 0.2608150837779522, 0.20375727681527897, 0.2581954560314776], \"y\": [0.21167504787445068, 0.168645977973938, 0.25378677248954773, 0.2584066390991211, 0.24572692811489105, 0.27560555934906006, 0.20861193537712097, 0.2701743543148041]}],                        {\"sliders\": [{\"active\": 0, \"currentvalue\": {\"prefix\": \"ETM - \"}, \"pad\": {\"t\": 70}, \"steps\": [{\"args\": [{\"visible\": [true, false, false]}, {\"title.text\": \"$k_{ep,RR} [min^{-1}]$\"}], \"label\": \"ETM - k<sub>ep,RR</sub> [min<sup>-1</sup>]\", \"method\": \"update\"}, {\"args\": [{\"visible\": [false, true, false]}, {\"title.text\": \"$K^{trans}_{RR}[min^{-1}]$\"}], \"label\": \"ETM - K<sup>trans</sup><sub>RR</sub>[min<sub>-1</sub>]\", \"method\": \"update\"}, {\"args\": [{\"visible\": [false, false, true]}, {\"title.text\": \"$V_{e,RR}$\"}], \"label\": \"ETM - V<sub>e,RR</sub>\", \"method\": \"update\"}]}], \"template\": {\"data\": {\"bar\": [{\"error_x\": {\"color\": \"#2a3f5f\"}, \"error_y\": {\"color\": \"#2a3f5f\"}, \"marker\": {\"line\": {\"color\": \"#E5ECF6\", \"width\": 0.5}}, \"type\": \"bar\"}], \"barpolar\": [{\"marker\": {\"line\": {\"color\": \"#E5ECF6\", \"width\": 0.5}}, \"type\": \"barpolar\"}], \"carpet\": [{\"aaxis\": {\"endlinecolor\": \"#2a3f5f\", \"gridcolor\": \"white\", \"linecolor\": \"white\", \"minorgridcolor\": \"white\", \"startlinecolor\": \"#2a3f5f\"}, \"baxis\": {\"endlinecolor\": \"#2a3f5f\", \"gridcolor\": \"white\", \"linecolor\": \"white\", \"minorgridcolor\": \"white\", \"startlinecolor\": \"#2a3f5f\"}, \"type\": \"carpet\"}], \"choropleth\": [{\"colorbar\": {\"outlinewidth\": 0, \"ticks\": \"\"}, \"type\": \"choropleth\"}], \"contour\": [{\"colorbar\": {\"outlinewidth\": 0, \"ticks\": \"\"}, \"colorscale\": [[0.0, \"#0d0887\"], [0.1111111111111111, \"#46039f\"], [0.2222222222222222, \"#7201a8\"], [0.3333333333333333, \"#9c179e\"], [0.4444444444444444, \"#bd3786\"], [0.5555555555555556, \"#d8576b\"], [0.6666666666666666, \"#ed7953\"], [0.7777777777777778, \"#fb9f3a\"], [0.8888888888888888, \"#fdca26\"], [1.0, \"#f0f921\"]], \"type\": \"contour\"}], \"contourcarpet\": [{\"colorbar\": {\"outlinewidth\": 0, \"ticks\": \"\"}, \"type\": \"contourcarpet\"}], \"heatmap\": [{\"colorbar\": {\"outlinewidth\": 0, \"ticks\": \"\"}, \"colorscale\": [[0.0, \"#0d0887\"], [0.1111111111111111, \"#46039f\"], [0.2222222222222222, \"#7201a8\"], [0.3333333333333333, \"#9c179e\"], [0.4444444444444444, \"#bd3786\"], [0.5555555555555556, \"#d8576b\"], [0.6666666666666666, \"#ed7953\"], [0.7777777777777778, \"#fb9f3a\"], [0.8888888888888888, \"#fdca26\"], [1.0, \"#f0f921\"]], \"type\": \"heatmap\"}], \"heatmapgl\": [{\"colorbar\": {\"outlinewidth\": 0, \"ticks\": \"\"}, \"colorscale\": [[0.0, \"#0d0887\"], [0.1111111111111111, \"#46039f\"], [0.2222222222222222, \"#7201a8\"], [0.3333333333333333, \"#9c179e\"], [0.4444444444444444, \"#bd3786\"], [0.5555555555555556, \"#d8576b\"], [0.6666666666666666, \"#ed7953\"], [0.7777777777777778, \"#fb9f3a\"], [0.8888888888888888, \"#fdca26\"], [1.0, \"#f0f921\"]], \"type\": \"heatmapgl\"}], \"histogram\": [{\"marker\": {\"colorbar\": {\"outlinewidth\": 0, \"ticks\": \"\"}}, \"type\": \"histogram\"}], \"histogram2d\": [{\"colorbar\": {\"outlinewidth\": 0, \"ticks\": \"\"}, \"colorscale\": [[0.0, \"#0d0887\"], [0.1111111111111111, \"#46039f\"], [0.2222222222222222, \"#7201a8\"], [0.3333333333333333, \"#9c179e\"], [0.4444444444444444, \"#bd3786\"], [0.5555555555555556, \"#d8576b\"], [0.6666666666666666, \"#ed7953\"], [0.7777777777777778, \"#fb9f3a\"], [0.8888888888888888, \"#fdca26\"], [1.0, \"#f0f921\"]], \"type\": \"histogram2d\"}], \"histogram2dcontour\": [{\"colorbar\": {\"outlinewidth\": 0, \"ticks\": \"\"}, \"colorscale\": [[0.0, \"#0d0887\"], [0.1111111111111111, \"#46039f\"], [0.2222222222222222, \"#7201a8\"], [0.3333333333333333, \"#9c179e\"], [0.4444444444444444, \"#bd3786\"], [0.5555555555555556, \"#d8576b\"], [0.6666666666666666, \"#ed7953\"], [0.7777777777777778, \"#fb9f3a\"], [0.8888888888888888, \"#fdca26\"], [1.0, \"#f0f921\"]], \"type\": \"histogram2dcontour\"}], \"mesh3d\": [{\"colorbar\": {\"outlinewidth\": 0, \"ticks\": \"\"}, \"type\": \"mesh3d\"}], \"parcoords\": [{\"line\": {\"colorbar\": {\"outlinewidth\": 0, \"ticks\": \"\"}}, \"type\": \"parcoords\"}], \"pie\": [{\"automargin\": true, \"type\": \"pie\"}], \"scatter\": [{\"marker\": {\"colorbar\": {\"outlinewidth\": 0, \"ticks\": \"\"}}, \"type\": \"scatter\"}], \"scatter3d\": [{\"line\": {\"colorbar\": {\"outlinewidth\": 0, \"ticks\": \"\"}}, \"marker\": {\"colorbar\": {\"outlinewidth\": 0, \"ticks\": \"\"}}, \"type\": \"scatter3d\"}], \"scattercarpet\": [{\"marker\": {\"colorbar\": {\"outlinewidth\": 0, \"ticks\": \"\"}}, \"type\": \"scattercarpet\"}], \"scattergeo\": [{\"marker\": {\"colorbar\": {\"outlinewidth\": 0, \"ticks\": \"\"}}, \"type\": \"scattergeo\"}], \"scattergl\": [{\"marker\": {\"colorbar\": {\"outlinewidth\": 0, \"ticks\": \"\"}}, \"type\": \"scattergl\"}], \"scattermapbox\": [{\"marker\": {\"colorbar\": {\"outlinewidth\": 0, \"ticks\": \"\"}}, \"type\": \"scattermapbox\"}], \"scatterpolar\": [{\"marker\": {\"colorbar\": {\"outlinewidth\": 0, \"ticks\": \"\"}}, \"type\": \"scatterpolar\"}], \"scatterpolargl\": [{\"marker\": {\"colorbar\": {\"outlinewidth\": 0, \"ticks\": \"\"}}, \"type\": \"scatterpolargl\"}], \"scatterternary\": [{\"marker\": {\"colorbar\": {\"outlinewidth\": 0, \"ticks\": \"\"}}, \"type\": \"scatterternary\"}], \"surface\": [{\"colorbar\": {\"outlinewidth\": 0, \"ticks\": \"\"}, \"colorscale\": [[0.0, \"#0d0887\"], [0.1111111111111111, \"#46039f\"], [0.2222222222222222, \"#7201a8\"], [0.3333333333333333, \"#9c179e\"], [0.4444444444444444, \"#bd3786\"], [0.5555555555555556, \"#d8576b\"], [0.6666666666666666, \"#ed7953\"], [0.7777777777777778, \"#fb9f3a\"], [0.8888888888888888, \"#fdca26\"], [1.0, \"#f0f921\"]], \"type\": \"surface\"}], \"table\": [{\"cells\": {\"fill\": {\"color\": \"#EBF0F8\"}, \"line\": {\"color\": \"white\"}}, \"header\": {\"fill\": {\"color\": \"#C8D4E3\"}, \"line\": {\"color\": \"white\"}}, \"type\": \"table\"}]}, \"layout\": {\"annotationdefaults\": {\"arrowcolor\": \"#2a3f5f\", \"arrowhead\": 0, \"arrowwidth\": 1}, \"autotypenumbers\": \"strict\", \"coloraxis\": {\"colorbar\": {\"outlinewidth\": 0, \"ticks\": \"\"}}, \"colorscale\": {\"diverging\": [[0, \"#8e0152\"], [0.1, \"#c51b7d\"], [0.2, \"#de77ae\"], [0.3, \"#f1b6da\"], [0.4, \"#fde0ef\"], [0.5, \"#f7f7f7\"], [0.6, \"#e6f5d0\"], [0.7, \"#b8e186\"], [0.8, \"#7fbc41\"], [0.9, \"#4d9221\"], [1, \"#276419\"]], \"sequential\": [[0.0, \"#0d0887\"], [0.1111111111111111, \"#46039f\"], [0.2222222222222222, \"#7201a8\"], [0.3333333333333333, \"#9c179e\"], [0.4444444444444444, \"#bd3786\"], [0.5555555555555556, \"#d8576b\"], [0.6666666666666666, \"#ed7953\"], [0.7777777777777778, \"#fb9f3a\"], [0.8888888888888888, \"#fdca26\"], [1.0, \"#f0f921\"]], \"sequentialminus\": [[0.0, \"#0d0887\"], [0.1111111111111111, \"#46039f\"], [0.2222222222222222, \"#7201a8\"], [0.3333333333333333, \"#9c179e\"], [0.4444444444444444, \"#bd3786\"], [0.5555555555555556, \"#d8576b\"], [0.6666666666666666, \"#ed7953\"], [0.7777777777777778, \"#fb9f3a\"], [0.8888888888888888, \"#fdca26\"], [1.0, \"#f0f921\"]]}, \"colorway\": [\"#636efa\", \"#EF553B\", \"#00cc96\", \"#ab63fa\", \"#FFA15A\", \"#19d3f3\", \"#FF6692\", \"#B6E880\", \"#FF97FF\", \"#FECB52\"], \"font\": {\"color\": \"#2a3f5f\"}, \"geo\": {\"bgcolor\": \"white\", \"lakecolor\": \"white\", \"landcolor\": \"#E5ECF6\", \"showlakes\": true, \"showland\": true, \"subunitcolor\": \"white\"}, \"hoverlabel\": {\"align\": \"left\"}, \"hovermode\": \"closest\", \"mapbox\": {\"style\": \"light\"}, \"paper_bgcolor\": \"white\", \"plot_bgcolor\": \"#E5ECF6\", \"polar\": {\"angularaxis\": {\"gridcolor\": \"white\", \"linecolor\": \"white\", \"ticks\": \"\"}, \"bgcolor\": \"#E5ECF6\", \"radialaxis\": {\"gridcolor\": \"white\", \"linecolor\": \"white\", \"ticks\": \"\"}}, \"scene\": {\"xaxis\": {\"backgroundcolor\": \"#E5ECF6\", \"gridcolor\": \"white\", \"gridwidth\": 2, \"linecolor\": \"white\", \"showbackground\": true, \"ticks\": \"\", \"zerolinecolor\": \"white\"}, \"yaxis\": {\"backgroundcolor\": \"#E5ECF6\", \"gridcolor\": \"white\", \"gridwidth\": 2, \"linecolor\": \"white\", \"showbackground\": true, \"ticks\": \"\", \"zerolinecolor\": \"white\"}, \"zaxis\": {\"backgroundcolor\": \"#E5ECF6\", \"gridcolor\": \"white\", \"gridwidth\": 2, \"linecolor\": \"white\", \"showbackground\": true, \"ticks\": \"\", \"zerolinecolor\": \"white\"}}, \"shapedefaults\": {\"line\": {\"color\": \"#2a3f5f\"}}, \"ternary\": {\"aaxis\": {\"gridcolor\": \"white\", \"linecolor\": \"white\", \"ticks\": \"\"}, \"baxis\": {\"gridcolor\": \"white\", \"linecolor\": \"white\", \"ticks\": \"\"}, \"bgcolor\": \"#E5ECF6\", \"caxis\": {\"gridcolor\": \"white\", \"linecolor\": \"white\", \"ticks\": \"\"}}, \"title\": {\"x\": 0.05}, \"xaxis\": {\"automargin\": true, \"gridcolor\": \"white\", \"linecolor\": \"white\", \"ticks\": \"\", \"title\": {\"standoff\": 15}, \"zerolinecolor\": \"white\", \"zerolinewidth\": 2}, \"yaxis\": {\"automargin\": true, \"gridcolor\": \"white\", \"linecolor\": \"white\", \"ticks\": \"\", \"title\": {\"standoff\": 15}, \"zerolinecolor\": \"white\", \"zerolinewidth\": 2}}}, \"title\": {\"text\": \"$k_{ep,RR} [min^{-1}]$\"}, \"xaxis\": {\"title\": {\"text\": \"$ETM$\"}}, \"yaxis\": {\"title\": {\"text\": \"$RRIFT$\"}}},                        {\"responsive\": true}                    ).then(function(){\n",
       "                            \n",
       "var gd = document.getElementById('aa8624ed-f643-4ee0-bc29-6799a76eccdc');\n",
       "var x = new MutationObserver(function (mutations, observer) {{\n",
       "        var display = window.getComputedStyle(gd).display;\n",
       "        if (!display || display === 'none') {{\n",
       "            console.log([gd, 'removed!']);\n",
       "            Plotly.purge(gd);\n",
       "            observer.disconnect();\n",
       "        }}\n",
       "}});\n",
       "\n",
       "// Listen for the removal of the full notebook cells\n",
       "var notebookContainer = gd.closest('#notebook-container');\n",
       "if (notebookContainer) {{\n",
       "    x.observe(notebookContainer, {childList: true});\n",
       "}}\n",
       "\n",
       "// Listen for the clearing of the current output cell\n",
       "var outputEl = gd.closest('.output');\n",
       "if (outputEl) {{\n",
       "    x.observe(outputEl, {childList: true});\n",
       "}}\n",
       "\n",
       "                        })                };                });            </script>        </div>"
      ]
     },
     "metadata": {},
     "output_type": "display_data"
    }
   ],
   "source": [
    "\n",
    "fig = go.Figure()\n",
    "\n",
    "line_colour = '#010101'\n",
    "titles = cycle([r'$k_{ep,RR} [min^{-1}]$', r'$K^{trans}_{RR}[min^{-1}]$', r'$V_{e,RR}$'])\n",
    "\n",
    "file = loadmat('fig8vars.mat')\n",
    "xv1 = np.squeeze(np.asarray(np.reshape(file['xv1'], 8)))\n",
    "yv1 = np.squeeze(np.asarray(np.reshape(file['yv1'], 8)))\n",
    "xr1 = file['xr1']\n",
    "yr1 = file['yr1']\n",
    "\n",
    "xv2 = np.squeeze(np.asarray(np.reshape(file['xv2'], 8)))\n",
    "yv2 = np.squeeze(np.asarray(np.reshape(file['yv2'], 8)))\n",
    "xr2 = file['xr2']\n",
    "yr2 = file['yr2']\n",
    "\n",
    "xv3 = np.squeeze(np.asarray(np.reshape(file['xv3'], 8)))\n",
    "yv3 = np.squeeze(np.asarray(np.reshape(file['yv3'], 8)))\n",
    "xr3 = file['xr3']\n",
    "yr3 = file['yr3']\n",
    "\n",
    "# First subplot vars\n",
    "\n",
    "y_negative1 = np.squeeze(np.asarray(np.reshape(yr1[:,0], 8)))\n",
    "y_positive1 = np.squeeze(np.asarray(np.reshape(yr1[:,1], 8)))\n",
    "\n",
    "x_negative1 = np.squeeze(np.asarray(np.reshape(xr1[:,0], 8)))\n",
    "x_positive1 = np.squeeze(np.asarray(np.reshape(xr1[:,1], 8)))\n",
    "\n",
    "# Second subplot vars\n",
    "\n",
    "y_negative2 = np.squeeze(np.asarray(np.reshape(yr2[:,0], 8)))\n",
    "y_positive2 = np.squeeze(np.asarray(np.reshape(yr2[:,1], 8)))\n",
    "\n",
    "x_negative2 = np.squeeze(np.asarray(np.reshape(xr2[:,0], 8)))\n",
    "x_positive2 = np.squeeze(np.asarray(np.reshape(xr2[:,1], 8)))\n",
    "\n",
    "# Third subplot vars\n",
    "\n",
    "y_negative3 = np.squeeze(np.asarray(np.reshape(yr3[:,0], 8)))\n",
    "y_positive3 = np.squeeze(np.asarray(np.reshape(yr3[:,1], 8)))\n",
    "\n",
    "x_negative3 = np.squeeze(np.asarray(np.reshape(xr3[:,0], 8)))\n",
    "x_positive3 = np.squeeze(np.asarray(np.reshape(xr3[:,1], 8)))\n",
    "\n",
    "x_positive_values = cycle([x_positive1, x_positive2, x_positive3])\n",
    "x_negative_values = cycle([x_negative1, x_negative2, x_negative3])\n",
    "y_positive_values = cycle([y_positive1, y_positive2, y_positive3])\n",
    "y_negative_values = cycle([y_negative1, y_negative2, y_negative3])\n",
    "\n",
    "x = cycle([xv1, xv2, xv3])\n",
    "y = cycle([yv1, yv2, yv3])\n",
    "\n",
    "\n",
    "for i in range (1, 4):\n",
    "    fig.add_trace(go.Scatter(\n",
    "        name=next(titles),\n",
    "        x=next(x),\n",
    "        y=next(y),\n",
    "        showlegend=False,\n",
    "        hoverinfo='x+y',\n",
    "        visible=False,\n",
    "        error_y=dict(\n",
    "            type='data', # value of error bar given in data coordinates\n",
    "            array=next(y_positive_values),\n",
    "            arrayminus=next(y_negative_values),\n",
    "            symmetric=False,\n",
    "            visible=False,\n",
    "            thickness=1),\n",
    "        error_x=dict(\n",
    "            type='data', # value of error bar given in data coordinates\n",
    "            array=next(x_positive_values),\n",
    "            arrayminus=next(x_negative_values),\n",
    "            symmetric=False,\n",
    "            visible=True,\n",
    "            thickness=2),\n",
    "        line_color=line_colour,\n",
    "        mode='markers',\n",
    "        marker_symbol='circle-open', marker_size=12, marker_line_width=2\n",
    "    ))\n",
    "    \n",
    "    \n",
    "\n",
    "\n",
    "\n",
    "\n",
    "\n",
    "    \n",
    "# Default value on the slider    \n",
    "fig.data[0].visible = True\n",
    "legend_values = cycle(['ETM - k<sub>ep,RR</sub> [min<sup>-1</sup>]',\n",
    "                       'ETM - K<sup>trans</sup><sub>RR</sub>[min<sub>-1</sub>]', \n",
    "                       'ETM - V<sub>e,RR</sub>'])\n",
    "\n",
    "# Create and add slider\n",
    "steps = []\n",
    "for i in range(len(fig.data)):\n",
    "    step = dict(\n",
    "        method=\"update\",\n",
    "        args=[{\"visible\": [False] * len(fig.data)},\n",
    "             {'title.text': next(titles)}],\n",
    "        label=next(legend_values)       \n",
    "    )\n",
    "    step[\"args\"][0][\"visible\"][i] = True  # Toggle i'th trace to \"visible\"\n",
    "    steps.append(step)\n",
    "\n",
    "sliders = [dict(\n",
    "    active=0,\n",
    "    currentvalue={\"prefix\": \"ETM - \"},\n",
    "    pad={\"t\": 70}, #upper padding \n",
    "    steps=steps\n",
    ")]\n",
    "\n",
    "fig.update_xaxes(title_text=r'$ETM$')\n",
    "fig.update_yaxes(title_text=r'$RRIFT$')\n",
    "fig.update_layout(sliders=sliders, title={'text': next(titles)})\n",
    "\n",
    "\n",
    "\n",
    "fig.show()"
   ]
  },
  {
   "cell_type": "markdown",
   "metadata": {
    "kernel": "SoS"
   },
   "source": [
    "# Figure 10"
   ]
  },
  {
   "cell_type": "code",
   "execution_count": 49,
   "metadata": {
    "kernel": "SoS"
   },
   "outputs": [
    {
     "data": {
      "application/vnd.plotly.v1+json": {
       "config": {
        "plotlyServerURL": "https://plot.ly"
       },
       "data": [
        {
         "error_y": {
          "array": [
           0,
           12.082612705610208,
           16.72889449046314,
           24.17952723848675,
           30.252874992581585,
           35.28804938278102,
           42.56962410311505,
           47.57446286876794,
           58.23312300561891,
           63.0330488511153
          ],
          "arrayminus": [
           0,
           13.130643314929825,
           19.612081616174446,
           27.140658559307475,
           36.41084023760287,
           43.69323811875878,
           51.20521995370257,
           56.40422349172199,
           61.706423277355334,
           56.2614200562377
          ],
          "symmetric": false,
          "thickness": 4,
          "type": "data",
          "width": 9
         },
         "legendgroup": "1",
         "line": {
          "color": "#585e9a"
         },
         "name": "RRIFT",
         "showlegend": false,
         "type": "scatter",
         "x": [
          4.8,
          9.599999999999998,
          14.399999999999999,
          19.2,
          23.999999999999996,
          28.8,
          33.6,
          38.4,
          43.199999999999996,
          47.99999999999999
         ],
         "xaxis": "x",
         "y": [
          0,
          -0.37495953025037504,
          -0.8323652316763509,
          2.1162611739229713,
          4.960314870621613,
          9.971645922856235,
          12.943851998515314,
          18.989097678883937,
          27.76200397110584,
          29.264791325472707
         ],
         "yaxis": "y"
        },
        {
         "error_y": {
          "array": [
           0,
           12.141741480226049,
           21.23214536301679,
           25.919377124554707,
           27.00938584450485,
           29.175526245289763,
           32.48285119601998,
           35.755467001638515,
           36.18526049457545,
           35.61334157988929
          ],
          "arrayminus": [
           0,
           16.699305204322762,
           28.509321583031188,
           35.226348913227866,
           39.428030029205374,
           42.01428514206725,
           41.95097789581704,
           40.31987188575169,
           43.546964203753326,
           45.94024295232122
          ],
          "symmetric": false,
          "thickness": 4,
          "type": "data",
          "width": 9
         },
         "legendgroup": "2",
         "line": {
          "color": "#f36a61"
         },
         "name": "ETM",
         "showlegend": false,
         "type": "scatter",
         "x": [
          4.8,
          9.599999999999998,
          14.399999999999999,
          19.2,
          23.999999999999996,
          28.8,
          33.6,
          38.4,
          43.199999999999996,
          47.99999999999999
         ],
         "xaxis": "x",
         "y": [
          0,
          -1.159679051420091,
          -8.626703527755227,
          -18.67217232995412,
          -26.456233622668965,
          -30.914261557994863,
          -35.42114139753894,
          -37.45534577856231,
          -36.78580003812288,
          -36.1849408070786
         ],
         "yaxis": "y"
        },
        {
         "error_y": {
          "array": [
           0,
           9.240656710081076,
           12.550591922477892,
           16.256971881492582,
           17.506005563119814,
           21.24452424843113,
           23.393764475700838,
           24.162259107116597,
           27.661973740184692,
           26.88994128173573
          ],
          "arrayminus": [
           0,
           12.334142867364696,
           20.196123095628632,
           30.088804341225497,
           37.87495405675675,
           45.04640710507718,
           52.555318976747095,
           55.13494242037391,
           57.56122521021828,
           53.19514978318078
          ],
          "symmetric": false,
          "thickness": 4,
          "type": "data",
          "width": 9
         },
         "legendgroup": "1",
         "line": {
          "color": "#585e9a"
         },
         "name": "RRIFT",
         "showlegend": true,
         "type": "scatter",
         "x": [
          4.8,
          9.599999999999998,
          14.399999999999999,
          19.2,
          23.999999999999996,
          28.8,
          33.6,
          38.4,
          43.199999999999996,
          47.99999999999999
         ],
         "xaxis": "x2",
         "y": [
          0,
          -0.42961894703182835,
          -0.05395816686148715,
          -1.8344921442578368,
          -2.898250571773643,
          -0.8329506123736197,
          -0.5988278497852895,
          -0.9426369923668771,
          -0.20110423962643095,
          -1.164834798529851
         ],
         "yaxis": "y2"
        },
        {
         "error_y": {
          "array": [
           0,
           9.813219643903471,
           16.443181912056982,
           21.588740609916968,
           28.619936872257536,
           30.93544051420991,
           34.592884550861655,
           34.50688784409648,
           36.03607575593547,
           36.99726996442911
          ],
          "arrayminus": [
           0,
           15.73803925422463,
           30.948678271620405,
           55.52882556641883,
           74.4007507653599,
           83.06367894314269,
           84.22029222403758,
           83.09794163835087,
           81.24752943099645,
           79.7079216650715
          ],
          "symmetric": false,
          "thickness": 4,
          "type": "data",
          "width": 9
         },
         "legendgroup": "2",
         "line": {
          "color": "#f36a61"
         },
         "name": "ETM",
         "showlegend": true,
         "type": "scatter",
         "x": [
          4.8,
          9.599999999999998,
          14.399999999999999,
          19.2,
          23.999999999999996,
          28.8,
          33.6,
          38.4,
          43.199999999999996,
          47.99999999999999
         ],
         "xaxis": "x2",
         "y": [
          0,
          -0.6920881517142992,
          -0.8737979395472355,
          -2.0629599388629227,
          -5.547324763036069,
          -8.49633446657643,
          -13.612657796043923,
          -17.660727241170697,
          -21.186601665756363,
          -23.349226377032473
         ],
         "yaxis": "y2"
        },
        {
         "error_y": {
          "array": [
           0,
           19.550250276544233,
           28.18352301862517,
           41.34233208904911,
           55.9670821966514,
           69.29421174445399,
           79.52286448616505,
           81.79549336952908,
           81.87885377311036,
           74.83355795534455
          ],
          "arrayminus": [
           0,
           20.994297625693534,
           30.277610300895674,
           47.97815471700577,
           59.338910376831464,
           62.92985413014087,
           66.72035268931816,
           66.0830256202812,
           64.198623258161,
           57.49441771064462
          ],
          "symmetric": false,
          "thickness": 4,
          "type": "data",
          "width": 9
         },
         "legendgroup": "1",
         "line": {
          "color": "#585e9a"
         },
         "name": "RRIFT",
         "showlegend": false,
         "type": "scatter",
         "x": [
          4.8,
          9.599999999999998,
          14.399999999999999,
          19.2,
          23.999999999999996,
          28.8,
          33.6,
          38.4,
          43.199999999999996,
          47.99999999999999
         ],
         "xaxis": "x3",
         "y": [
          0,
          -3.373414331210095,
          -7.487227837792736,
          -7.746570667569988,
          -11.902439174335568,
          -17.53005942752752,
          -24.818964527368863,
          -31.953746543357788,
          -35.801376741839,
          -42.50558228935538
         ],
         "yaxis": "y3"
        },
        {
         "error_y": {
          "array": [
           0,
           18.90375765002312,
           47.26767371317368,
           79.34397833042482,
           100.59859446196897,
           102.4049191192913,
           104.59173352700128,
           105.24506520413314,
           106.69687554969101,
           107.65752323261565
          ],
          "arrayminus": [
           0,
           16.19309037206184,
           28.001303733520192,
           41.39622324641445,
           54.06078287462502,
           65.41923847349419,
           76.4448077724844,
           81.88647520431554,
           78.3776534095734,
           78.90584315865105
          ],
          "symmetric": false,
          "thickness": 4,
          "type": "data",
          "width": 9
         },
         "legendgroup": "2",
         "line": {
          "color": "#f36a61"
         },
         "name": "ETM",
         "showlegend": false,
         "type": "scatter",
         "x": [
          4.8,
          9.599999999999998,
          14.399999999999999,
          19.2,
          23.999999999999996,
          28.8,
          33.6,
          38.4,
          43.199999999999996,
          47.99999999999999
         ],
         "xaxis": "x3",
         "y": [
          0,
          -0.8489768503126828,
          -2.423603780189649,
          3.5858655644518636,
          12.137853940080022,
          19.382719555155756,
          29.943331752896707,
          38.91995362466707,
          45.75874729937294,
          53.89966241260042
         ],
         "yaxis": "y3"
        }
       ],
       "layout": {
        "annotations": [
         {
          "font": {
           "size": 16
          },
          "showarrow": false,
          "text": "$K^{trans}$",
          "x": 0.14444444444444446,
          "xanchor": "center",
          "xref": "paper",
          "y": 1,
          "yanchor": "bottom",
          "yref": "paper"
         },
         {
          "font": {
           "size": 16
          },
          "showarrow": false,
          "text": "$V_e$",
          "x": 0.5,
          "xanchor": "center",
          "xref": "paper",
          "y": 1,
          "yanchor": "bottom",
          "yref": "paper"
         },
         {
          "font": {
           "size": 16
          },
          "showarrow": false,
          "text": "$V_p$",
          "x": 0.8555555555555556,
          "xanchor": "center",
          "xref": "paper",
          "y": 1,
          "yanchor": "bottom",
          "yref": "paper"
         }
        ],
        "shapes": [
         {
          "line": {
           "color": "black",
           "dash": "dot",
           "width": 1.69
          },
          "type": "line",
          "x0": 0,
          "x1": 1,
          "xref": "x domain",
          "y0": 0,
          "y1": 0,
          "yref": "y"
         },
         {
          "line": {
           "color": "black",
           "dash": "dot",
           "width": 1.69
          },
          "type": "line",
          "x0": 0,
          "x1": 1,
          "xref": "x2 domain",
          "y0": 0,
          "y1": 0,
          "yref": "y2"
         },
         {
          "line": {
           "color": "black",
           "dash": "dot",
           "width": 1.69
          },
          "type": "line",
          "x0": 0,
          "x1": 1,
          "xref": "x3 domain",
          "y0": 0,
          "y1": 0,
          "yref": "y3"
         }
        ],
        "template": {
         "data": {
          "bar": [
           {
            "error_x": {
             "color": "#2a3f5f"
            },
            "error_y": {
             "color": "#2a3f5f"
            },
            "marker": {
             "line": {
              "color": "#E5ECF6",
              "width": 0.5
             }
            },
            "type": "bar"
           }
          ],
          "barpolar": [
           {
            "marker": {
             "line": {
              "color": "#E5ECF6",
              "width": 0.5
             }
            },
            "type": "barpolar"
           }
          ],
          "carpet": [
           {
            "aaxis": {
             "endlinecolor": "#2a3f5f",
             "gridcolor": "white",
             "linecolor": "white",
             "minorgridcolor": "white",
             "startlinecolor": "#2a3f5f"
            },
            "baxis": {
             "endlinecolor": "#2a3f5f",
             "gridcolor": "white",
             "linecolor": "white",
             "minorgridcolor": "white",
             "startlinecolor": "#2a3f5f"
            },
            "type": "carpet"
           }
          ],
          "choropleth": [
           {
            "colorbar": {
             "outlinewidth": 0,
             "ticks": ""
            },
            "type": "choropleth"
           }
          ],
          "contour": [
           {
            "colorbar": {
             "outlinewidth": 0,
             "ticks": ""
            },
            "colorscale": [
             [
              0,
              "#0d0887"
             ],
             [
              0.1111111111111111,
              "#46039f"
             ],
             [
              0.2222222222222222,
              "#7201a8"
             ],
             [
              0.3333333333333333,
              "#9c179e"
             ],
             [
              0.4444444444444444,
              "#bd3786"
             ],
             [
              0.5555555555555556,
              "#d8576b"
             ],
             [
              0.6666666666666666,
              "#ed7953"
             ],
             [
              0.7777777777777778,
              "#fb9f3a"
             ],
             [
              0.8888888888888888,
              "#fdca26"
             ],
             [
              1,
              "#f0f921"
             ]
            ],
            "type": "contour"
           }
          ],
          "contourcarpet": [
           {
            "colorbar": {
             "outlinewidth": 0,
             "ticks": ""
            },
            "type": "contourcarpet"
           }
          ],
          "heatmap": [
           {
            "colorbar": {
             "outlinewidth": 0,
             "ticks": ""
            },
            "colorscale": [
             [
              0,
              "#0d0887"
             ],
             [
              0.1111111111111111,
              "#46039f"
             ],
             [
              0.2222222222222222,
              "#7201a8"
             ],
             [
              0.3333333333333333,
              "#9c179e"
             ],
             [
              0.4444444444444444,
              "#bd3786"
             ],
             [
              0.5555555555555556,
              "#d8576b"
             ],
             [
              0.6666666666666666,
              "#ed7953"
             ],
             [
              0.7777777777777778,
              "#fb9f3a"
             ],
             [
              0.8888888888888888,
              "#fdca26"
             ],
             [
              1,
              "#f0f921"
             ]
            ],
            "type": "heatmap"
           }
          ],
          "heatmapgl": [
           {
            "colorbar": {
             "outlinewidth": 0,
             "ticks": ""
            },
            "colorscale": [
             [
              0,
              "#0d0887"
             ],
             [
              0.1111111111111111,
              "#46039f"
             ],
             [
              0.2222222222222222,
              "#7201a8"
             ],
             [
              0.3333333333333333,
              "#9c179e"
             ],
             [
              0.4444444444444444,
              "#bd3786"
             ],
             [
              0.5555555555555556,
              "#d8576b"
             ],
             [
              0.6666666666666666,
              "#ed7953"
             ],
             [
              0.7777777777777778,
              "#fb9f3a"
             ],
             [
              0.8888888888888888,
              "#fdca26"
             ],
             [
              1,
              "#f0f921"
             ]
            ],
            "type": "heatmapgl"
           }
          ],
          "histogram": [
           {
            "marker": {
             "colorbar": {
              "outlinewidth": 0,
              "ticks": ""
             }
            },
            "type": "histogram"
           }
          ],
          "histogram2d": [
           {
            "colorbar": {
             "outlinewidth": 0,
             "ticks": ""
            },
            "colorscale": [
             [
              0,
              "#0d0887"
             ],
             [
              0.1111111111111111,
              "#46039f"
             ],
             [
              0.2222222222222222,
              "#7201a8"
             ],
             [
              0.3333333333333333,
              "#9c179e"
             ],
             [
              0.4444444444444444,
              "#bd3786"
             ],
             [
              0.5555555555555556,
              "#d8576b"
             ],
             [
              0.6666666666666666,
              "#ed7953"
             ],
             [
              0.7777777777777778,
              "#fb9f3a"
             ],
             [
              0.8888888888888888,
              "#fdca26"
             ],
             [
              1,
              "#f0f921"
             ]
            ],
            "type": "histogram2d"
           }
          ],
          "histogram2dcontour": [
           {
            "colorbar": {
             "outlinewidth": 0,
             "ticks": ""
            },
            "colorscale": [
             [
              0,
              "#0d0887"
             ],
             [
              0.1111111111111111,
              "#46039f"
             ],
             [
              0.2222222222222222,
              "#7201a8"
             ],
             [
              0.3333333333333333,
              "#9c179e"
             ],
             [
              0.4444444444444444,
              "#bd3786"
             ],
             [
              0.5555555555555556,
              "#d8576b"
             ],
             [
              0.6666666666666666,
              "#ed7953"
             ],
             [
              0.7777777777777778,
              "#fb9f3a"
             ],
             [
              0.8888888888888888,
              "#fdca26"
             ],
             [
              1,
              "#f0f921"
             ]
            ],
            "type": "histogram2dcontour"
           }
          ],
          "mesh3d": [
           {
            "colorbar": {
             "outlinewidth": 0,
             "ticks": ""
            },
            "type": "mesh3d"
           }
          ],
          "parcoords": [
           {
            "line": {
             "colorbar": {
              "outlinewidth": 0,
              "ticks": ""
             }
            },
            "type": "parcoords"
           }
          ],
          "pie": [
           {
            "automargin": true,
            "type": "pie"
           }
          ],
          "scatter": [
           {
            "marker": {
             "colorbar": {
              "outlinewidth": 0,
              "ticks": ""
             }
            },
            "type": "scatter"
           }
          ],
          "scatter3d": [
           {
            "line": {
             "colorbar": {
              "outlinewidth": 0,
              "ticks": ""
             }
            },
            "marker": {
             "colorbar": {
              "outlinewidth": 0,
              "ticks": ""
             }
            },
            "type": "scatter3d"
           }
          ],
          "scattercarpet": [
           {
            "marker": {
             "colorbar": {
              "outlinewidth": 0,
              "ticks": ""
             }
            },
            "type": "scattercarpet"
           }
          ],
          "scattergeo": [
           {
            "marker": {
             "colorbar": {
              "outlinewidth": 0,
              "ticks": ""
             }
            },
            "type": "scattergeo"
           }
          ],
          "scattergl": [
           {
            "marker": {
             "colorbar": {
              "outlinewidth": 0,
              "ticks": ""
             }
            },
            "type": "scattergl"
           }
          ],
          "scattermapbox": [
           {
            "marker": {
             "colorbar": {
              "outlinewidth": 0,
              "ticks": ""
             }
            },
            "type": "scattermapbox"
           }
          ],
          "scatterpolar": [
           {
            "marker": {
             "colorbar": {
              "outlinewidth": 0,
              "ticks": ""
             }
            },
            "type": "scatterpolar"
           }
          ],
          "scatterpolargl": [
           {
            "marker": {
             "colorbar": {
              "outlinewidth": 0,
              "ticks": ""
             }
            },
            "type": "scatterpolargl"
           }
          ],
          "scatterternary": [
           {
            "marker": {
             "colorbar": {
              "outlinewidth": 0,
              "ticks": ""
             }
            },
            "type": "scatterternary"
           }
          ],
          "surface": [
           {
            "colorbar": {
             "outlinewidth": 0,
             "ticks": ""
            },
            "colorscale": [
             [
              0,
              "#0d0887"
             ],
             [
              0.1111111111111111,
              "#46039f"
             ],
             [
              0.2222222222222222,
              "#7201a8"
             ],
             [
              0.3333333333333333,
              "#9c179e"
             ],
             [
              0.4444444444444444,
              "#bd3786"
             ],
             [
              0.5555555555555556,
              "#d8576b"
             ],
             [
              0.6666666666666666,
              "#ed7953"
             ],
             [
              0.7777777777777778,
              "#fb9f3a"
             ],
             [
              0.8888888888888888,
              "#fdca26"
             ],
             [
              1,
              "#f0f921"
             ]
            ],
            "type": "surface"
           }
          ],
          "table": [
           {
            "cells": {
             "fill": {
              "color": "#EBF0F8"
             },
             "line": {
              "color": "white"
             }
            },
            "header": {
             "fill": {
              "color": "#C8D4E3"
             },
             "line": {
              "color": "white"
             }
            },
            "type": "table"
           }
          ]
         },
         "layout": {
          "annotationdefaults": {
           "arrowcolor": "#2a3f5f",
           "arrowhead": 0,
           "arrowwidth": 1
          },
          "autotypenumbers": "strict",
          "coloraxis": {
           "colorbar": {
            "outlinewidth": 0,
            "ticks": ""
           }
          },
          "colorscale": {
           "diverging": [
            [
             0,
             "#8e0152"
            ],
            [
             0.1,
             "#c51b7d"
            ],
            [
             0.2,
             "#de77ae"
            ],
            [
             0.3,
             "#f1b6da"
            ],
            [
             0.4,
             "#fde0ef"
            ],
            [
             0.5,
             "#f7f7f7"
            ],
            [
             0.6,
             "#e6f5d0"
            ],
            [
             0.7,
             "#b8e186"
            ],
            [
             0.8,
             "#7fbc41"
            ],
            [
             0.9,
             "#4d9221"
            ],
            [
             1,
             "#276419"
            ]
           ],
           "sequential": [
            [
             0,
             "#0d0887"
            ],
            [
             0.1111111111111111,
             "#46039f"
            ],
            [
             0.2222222222222222,
             "#7201a8"
            ],
            [
             0.3333333333333333,
             "#9c179e"
            ],
            [
             0.4444444444444444,
             "#bd3786"
            ],
            [
             0.5555555555555556,
             "#d8576b"
            ],
            [
             0.6666666666666666,
             "#ed7953"
            ],
            [
             0.7777777777777778,
             "#fb9f3a"
            ],
            [
             0.8888888888888888,
             "#fdca26"
            ],
            [
             1,
             "#f0f921"
            ]
           ],
           "sequentialminus": [
            [
             0,
             "#0d0887"
            ],
            [
             0.1111111111111111,
             "#46039f"
            ],
            [
             0.2222222222222222,
             "#7201a8"
            ],
            [
             0.3333333333333333,
             "#9c179e"
            ],
            [
             0.4444444444444444,
             "#bd3786"
            ],
            [
             0.5555555555555556,
             "#d8576b"
            ],
            [
             0.6666666666666666,
             "#ed7953"
            ],
            [
             0.7777777777777778,
             "#fb9f3a"
            ],
            [
             0.8888888888888888,
             "#fdca26"
            ],
            [
             1,
             "#f0f921"
            ]
           ]
          },
          "colorway": [
           "#636efa",
           "#EF553B",
           "#00cc96",
           "#ab63fa",
           "#FFA15A",
           "#19d3f3",
           "#FF6692",
           "#B6E880",
           "#FF97FF",
           "#FECB52"
          ],
          "font": {
           "color": "#2a3f5f"
          },
          "geo": {
           "bgcolor": "white",
           "lakecolor": "white",
           "landcolor": "#E5ECF6",
           "showlakes": true,
           "showland": true,
           "subunitcolor": "white"
          },
          "hoverlabel": {
           "align": "left"
          },
          "hovermode": "closest",
          "mapbox": {
           "style": "light"
          },
          "paper_bgcolor": "white",
          "plot_bgcolor": "#E5ECF6",
          "polar": {
           "angularaxis": {
            "gridcolor": "white",
            "linecolor": "white",
            "ticks": ""
           },
           "bgcolor": "#E5ECF6",
           "radialaxis": {
            "gridcolor": "white",
            "linecolor": "white",
            "ticks": ""
           }
          },
          "scene": {
           "xaxis": {
            "backgroundcolor": "#E5ECF6",
            "gridcolor": "white",
            "gridwidth": 2,
            "linecolor": "white",
            "showbackground": true,
            "ticks": "",
            "zerolinecolor": "white"
           },
           "yaxis": {
            "backgroundcolor": "#E5ECF6",
            "gridcolor": "white",
            "gridwidth": 2,
            "linecolor": "white",
            "showbackground": true,
            "ticks": "",
            "zerolinecolor": "white"
           },
           "zaxis": {
            "backgroundcolor": "#E5ECF6",
            "gridcolor": "white",
            "gridwidth": 2,
            "linecolor": "white",
            "showbackground": true,
            "ticks": "",
            "zerolinecolor": "white"
           }
          },
          "shapedefaults": {
           "line": {
            "color": "#2a3f5f"
           }
          },
          "ternary": {
           "aaxis": {
            "gridcolor": "white",
            "linecolor": "white",
            "ticks": ""
           },
           "baxis": {
            "gridcolor": "white",
            "linecolor": "white",
            "ticks": ""
           },
           "bgcolor": "#E5ECF6",
           "caxis": {
            "gridcolor": "white",
            "linecolor": "white",
            "ticks": ""
           }
          },
          "title": {
           "x": 0.05
          },
          "xaxis": {
           "automargin": true,
           "gridcolor": "white",
           "linecolor": "white",
           "ticks": "",
           "title": {
            "standoff": 15
           },
           "zerolinecolor": "white",
           "zerolinewidth": 2
          },
          "yaxis": {
           "automargin": true,
           "gridcolor": "white",
           "linecolor": "white",
           "ticks": "",
           "title": {
            "standoff": 15
           },
           "zerolinecolor": "white",
           "zerolinewidth": 2
          }
         }
        },
        "xaxis": {
         "anchor": "y",
         "domain": [
          0,
          0.2888888888888889
         ],
         "range": [
          0,
          50
         ],
         "tickvals": [
          0,
          10,
          20,
          30,
          40,
          50
         ],
         "title": {
          "text": "$Temporal\\: Resolutions\\: [s]$"
         }
        },
        "xaxis2": {
         "anchor": "y2",
         "domain": [
          0.35555555555555557,
          0.6444444444444445
         ],
         "range": [
          0,
          50
         ],
         "tickvals": [
          0,
          10,
          20,
          30,
          40,
          50
         ],
         "title": {
          "text": "$Temporal\\: Resolutions\\: [s]$"
         }
        },
        "xaxis3": {
         "anchor": "y3",
         "domain": [
          0.7111111111111111,
          1
         ],
         "range": [
          0,
          50
         ],
         "tickvals": [
          0,
          10,
          20,
          30,
          40,
          50
         ],
         "title": {
          "text": "$Temporal\\: Resolutions\\: [s]$"
         }
        },
        "yaxis": {
         "anchor": "x",
         "domain": [
          0,
          1
         ],
         "range": [
          -100,
          100
         ],
         "tickvals": [
          -100,
          -80,
          -60,
          -40,
          -20,
          0,
          20,
          40,
          60,
          80,
          100
         ],
         "title": {
          "text": "$Percent\\: Change$"
         }
        },
        "yaxis2": {
         "anchor": "x2",
         "domain": [
          0,
          1
         ],
         "range": [
          -100,
          100
         ],
         "tickvals": [
          -100,
          -80,
          -60,
          -40,
          -20,
          0,
          20,
          40,
          60,
          80,
          100
         ],
         "title": {
          "text": "$Percent\\: Change$"
         }
        },
        "yaxis3": {
         "anchor": "x3",
         "domain": [
          0,
          1
         ],
         "range": [
          -100,
          100
         ],
         "tickvals": [
          -100,
          -80,
          -60,
          -40,
          -20,
          0,
          20,
          40,
          60,
          80,
          100
         ],
         "title": {
          "text": "$Percent\\: Change$"
         }
        }
       }
      },
      "text/html": [
       "<div>                            <div id=\"d5d9028b-20bf-4e80-b1d7-9bab94772459\" class=\"plotly-graph-div\" style=\"height:525px; width:100%;\"></div>            <script type=\"text/javascript\">                require([\"plotly\"], function(Plotly) {                    window.PLOTLYENV=window.PLOTLYENV || {};                                    if (document.getElementById(\"d5d9028b-20bf-4e80-b1d7-9bab94772459\")) {                    Plotly.newPlot(                        \"d5d9028b-20bf-4e80-b1d7-9bab94772459\",                        [{\"error_y\": {\"array\": [0.0, 12.082612705610208, 16.72889449046314, 24.17952723848675, 30.252874992581585, 35.28804938278102, 42.56962410311505, 47.57446286876794, 58.23312300561891, 63.0330488511153], \"arrayminus\": [0.0, 13.130643314929825, 19.612081616174446, 27.140658559307475, 36.41084023760287, 43.69323811875878, 51.20521995370257, 56.40422349172199, 61.706423277355334, 56.2614200562377], \"symmetric\": false, \"thickness\": 4, \"type\": \"data\", \"width\": 9}, \"legendgroup\": \"1\", \"line\": {\"color\": \"#585e9a\"}, \"name\": \"RRIFT\", \"showlegend\": false, \"type\": \"scatter\", \"x\": [4.8, 9.599999999999998, 14.399999999999999, 19.2, 23.999999999999996, 28.8, 33.6, 38.4, 43.199999999999996, 47.99999999999999], \"xaxis\": \"x\", \"y\": [0.0, -0.37495953025037504, -0.8323652316763509, 2.1162611739229713, 4.960314870621613, 9.971645922856235, 12.943851998515314, 18.989097678883937, 27.76200397110584, 29.264791325472707], \"yaxis\": \"y\"}, {\"error_y\": {\"array\": [0.0, 12.141741480226049, 21.23214536301679, 25.919377124554707, 27.00938584450485, 29.175526245289763, 32.48285119601998, 35.755467001638515, 36.18526049457545, 35.61334157988929], \"arrayminus\": [0.0, 16.699305204322762, 28.509321583031188, 35.226348913227866, 39.428030029205374, 42.01428514206725, 41.95097789581704, 40.31987188575169, 43.546964203753326, 45.94024295232122], \"symmetric\": false, \"thickness\": 4, \"type\": \"data\", \"width\": 9}, \"legendgroup\": \"2\", \"line\": {\"color\": \"#f36a61\"}, \"name\": \"ETM\", \"showlegend\": false, \"type\": \"scatter\", \"x\": [4.8, 9.599999999999998, 14.399999999999999, 19.2, 23.999999999999996, 28.8, 33.6, 38.4, 43.199999999999996, 47.99999999999999], \"xaxis\": \"x\", \"y\": [0.0, -1.159679051420091, -8.626703527755227, -18.67217232995412, -26.456233622668965, -30.914261557994863, -35.42114139753894, -37.45534577856231, -36.78580003812288, -36.1849408070786], \"yaxis\": \"y\"}, {\"error_y\": {\"array\": [0.0, 9.240656710081076, 12.550591922477892, 16.256971881492582, 17.506005563119814, 21.24452424843113, 23.393764475700838, 24.162259107116597, 27.661973740184692, 26.88994128173573], \"arrayminus\": [0.0, 12.334142867364696, 20.196123095628632, 30.088804341225497, 37.87495405675675, 45.04640710507718, 52.555318976747095, 55.13494242037391, 57.56122521021828, 53.19514978318078], \"symmetric\": false, \"thickness\": 4, \"type\": \"data\", \"width\": 9}, \"legendgroup\": \"1\", \"line\": {\"color\": \"#585e9a\"}, \"name\": \"RRIFT\", \"showlegend\": true, \"type\": \"scatter\", \"x\": [4.8, 9.599999999999998, 14.399999999999999, 19.2, 23.999999999999996, 28.8, 33.6, 38.4, 43.199999999999996, 47.99999999999999], \"xaxis\": \"x2\", \"y\": [0.0, -0.42961894703182835, -0.05395816686148715, -1.8344921442578368, -2.898250571773643, -0.8329506123736197, -0.5988278497852895, -0.9426369923668771, -0.20110423962643095, -1.164834798529851], \"yaxis\": \"y2\"}, {\"error_y\": {\"array\": [0.0, 9.813219643903471, 16.443181912056982, 21.588740609916968, 28.619936872257536, 30.93544051420991, 34.592884550861655, 34.50688784409648, 36.03607575593547, 36.99726996442911], \"arrayminus\": [0.0, 15.73803925422463, 30.948678271620405, 55.52882556641883, 74.4007507653599, 83.06367894314269, 84.22029222403758, 83.09794163835087, 81.24752943099645, 79.7079216650715], \"symmetric\": false, \"thickness\": 4, \"type\": \"data\", \"width\": 9}, \"legendgroup\": \"2\", \"line\": {\"color\": \"#f36a61\"}, \"name\": \"ETM\", \"showlegend\": true, \"type\": \"scatter\", \"x\": [4.8, 9.599999999999998, 14.399999999999999, 19.2, 23.999999999999996, 28.8, 33.6, 38.4, 43.199999999999996, 47.99999999999999], \"xaxis\": \"x2\", \"y\": [0.0, -0.6920881517142992, -0.8737979395472355, -2.0629599388629227, -5.547324763036069, -8.49633446657643, -13.612657796043923, -17.660727241170697, -21.186601665756363, -23.349226377032473], \"yaxis\": \"y2\"}, {\"error_y\": {\"array\": [0.0, 19.550250276544233, 28.18352301862517, 41.34233208904911, 55.9670821966514, 69.29421174445399, 79.52286448616505, 81.79549336952908, 81.87885377311036, 74.83355795534455], \"arrayminus\": [0.0, 20.994297625693534, 30.277610300895674, 47.97815471700577, 59.338910376831464, 62.92985413014087, 66.72035268931816, 66.0830256202812, 64.198623258161, 57.49441771064462], \"symmetric\": false, \"thickness\": 4, \"type\": \"data\", \"width\": 9}, \"legendgroup\": \"1\", \"line\": {\"color\": \"#585e9a\"}, \"name\": \"RRIFT\", \"showlegend\": false, \"type\": \"scatter\", \"x\": [4.8, 9.599999999999998, 14.399999999999999, 19.2, 23.999999999999996, 28.8, 33.6, 38.4, 43.199999999999996, 47.99999999999999], \"xaxis\": \"x3\", \"y\": [0.0, -3.373414331210095, -7.487227837792736, -7.746570667569988, -11.902439174335568, -17.53005942752752, -24.818964527368863, -31.953746543357788, -35.801376741839, -42.50558228935538], \"yaxis\": \"y3\"}, {\"error_y\": {\"array\": [0.0, 18.90375765002312, 47.26767371317368, 79.34397833042482, 100.59859446196897, 102.4049191192913, 104.59173352700128, 105.24506520413314, 106.69687554969101, 107.65752323261565], \"arrayminus\": [0.0, 16.19309037206184, 28.001303733520192, 41.39622324641445, 54.06078287462502, 65.41923847349419, 76.4448077724844, 81.88647520431554, 78.3776534095734, 78.90584315865105], \"symmetric\": false, \"thickness\": 4, \"type\": \"data\", \"width\": 9}, \"legendgroup\": \"2\", \"line\": {\"color\": \"#f36a61\"}, \"name\": \"ETM\", \"showlegend\": false, \"type\": \"scatter\", \"x\": [4.8, 9.599999999999998, 14.399999999999999, 19.2, 23.999999999999996, 28.8, 33.6, 38.4, 43.199999999999996, 47.99999999999999], \"xaxis\": \"x3\", \"y\": [0.0, -0.8489768503126828, -2.423603780189649, 3.5858655644518636, 12.137853940080022, 19.382719555155756, 29.943331752896707, 38.91995362466707, 45.75874729937294, 53.89966241260042], \"yaxis\": \"y3\"}],                        {\"annotations\": [{\"font\": {\"size\": 16}, \"showarrow\": false, \"text\": \"$K^{trans}$\", \"x\": 0.14444444444444446, \"xanchor\": \"center\", \"xref\": \"paper\", \"y\": 1.0, \"yanchor\": \"bottom\", \"yref\": \"paper\"}, {\"font\": {\"size\": 16}, \"showarrow\": false, \"text\": \"$V_e$\", \"x\": 0.5, \"xanchor\": \"center\", \"xref\": \"paper\", \"y\": 1.0, \"yanchor\": \"bottom\", \"yref\": \"paper\"}, {\"font\": {\"size\": 16}, \"showarrow\": false, \"text\": \"$V_p$\", \"x\": 0.8555555555555556, \"xanchor\": \"center\", \"xref\": \"paper\", \"y\": 1.0, \"yanchor\": \"bottom\", \"yref\": \"paper\"}], \"shapes\": [{\"line\": {\"color\": \"black\", \"dash\": \"dot\", \"width\": 1.69}, \"type\": \"line\", \"x0\": 0, \"x1\": 1, \"xref\": \"x domain\", \"y0\": 0, \"y1\": 0, \"yref\": \"y\"}, {\"line\": {\"color\": \"black\", \"dash\": \"dot\", \"width\": 1.69}, \"type\": \"line\", \"x0\": 0, \"x1\": 1, \"xref\": \"x2 domain\", \"y0\": 0, \"y1\": 0, \"yref\": \"y2\"}, {\"line\": {\"color\": \"black\", \"dash\": \"dot\", \"width\": 1.69}, \"type\": \"line\", \"x0\": 0, \"x1\": 1, \"xref\": \"x3 domain\", \"y0\": 0, \"y1\": 0, \"yref\": \"y3\"}], \"template\": {\"data\": {\"bar\": [{\"error_x\": {\"color\": \"#2a3f5f\"}, \"error_y\": {\"color\": \"#2a3f5f\"}, \"marker\": {\"line\": {\"color\": \"#E5ECF6\", \"width\": 0.5}}, \"type\": \"bar\"}], \"barpolar\": [{\"marker\": {\"line\": {\"color\": \"#E5ECF6\", \"width\": 0.5}}, \"type\": \"barpolar\"}], \"carpet\": [{\"aaxis\": {\"endlinecolor\": \"#2a3f5f\", \"gridcolor\": \"white\", \"linecolor\": \"white\", \"minorgridcolor\": \"white\", \"startlinecolor\": \"#2a3f5f\"}, \"baxis\": {\"endlinecolor\": \"#2a3f5f\", \"gridcolor\": \"white\", \"linecolor\": \"white\", \"minorgridcolor\": \"white\", \"startlinecolor\": \"#2a3f5f\"}, \"type\": \"carpet\"}], \"choropleth\": [{\"colorbar\": {\"outlinewidth\": 0, \"ticks\": \"\"}, \"type\": \"choropleth\"}], \"contour\": [{\"colorbar\": {\"outlinewidth\": 0, \"ticks\": \"\"}, \"colorscale\": [[0.0, \"#0d0887\"], [0.1111111111111111, \"#46039f\"], [0.2222222222222222, \"#7201a8\"], [0.3333333333333333, \"#9c179e\"], [0.4444444444444444, \"#bd3786\"], [0.5555555555555556, \"#d8576b\"], [0.6666666666666666, \"#ed7953\"], [0.7777777777777778, \"#fb9f3a\"], [0.8888888888888888, \"#fdca26\"], [1.0, \"#f0f921\"]], \"type\": \"contour\"}], \"contourcarpet\": [{\"colorbar\": {\"outlinewidth\": 0, \"ticks\": \"\"}, \"type\": \"contourcarpet\"}], \"heatmap\": [{\"colorbar\": {\"outlinewidth\": 0, \"ticks\": \"\"}, \"colorscale\": [[0.0, \"#0d0887\"], [0.1111111111111111, \"#46039f\"], [0.2222222222222222, \"#7201a8\"], [0.3333333333333333, \"#9c179e\"], [0.4444444444444444, \"#bd3786\"], [0.5555555555555556, \"#d8576b\"], [0.6666666666666666, \"#ed7953\"], [0.7777777777777778, \"#fb9f3a\"], [0.8888888888888888, \"#fdca26\"], [1.0, \"#f0f921\"]], \"type\": \"heatmap\"}], \"heatmapgl\": [{\"colorbar\": {\"outlinewidth\": 0, \"ticks\": \"\"}, \"colorscale\": [[0.0, \"#0d0887\"], [0.1111111111111111, \"#46039f\"], [0.2222222222222222, \"#7201a8\"], [0.3333333333333333, \"#9c179e\"], [0.4444444444444444, \"#bd3786\"], [0.5555555555555556, \"#d8576b\"], [0.6666666666666666, \"#ed7953\"], [0.7777777777777778, \"#fb9f3a\"], [0.8888888888888888, \"#fdca26\"], [1.0, \"#f0f921\"]], \"type\": \"heatmapgl\"}], \"histogram\": [{\"marker\": {\"colorbar\": {\"outlinewidth\": 0, \"ticks\": \"\"}}, \"type\": \"histogram\"}], \"histogram2d\": [{\"colorbar\": {\"outlinewidth\": 0, \"ticks\": \"\"}, \"colorscale\": [[0.0, \"#0d0887\"], [0.1111111111111111, \"#46039f\"], [0.2222222222222222, \"#7201a8\"], [0.3333333333333333, \"#9c179e\"], [0.4444444444444444, \"#bd3786\"], [0.5555555555555556, \"#d8576b\"], [0.6666666666666666, \"#ed7953\"], [0.7777777777777778, \"#fb9f3a\"], [0.8888888888888888, \"#fdca26\"], [1.0, \"#f0f921\"]], \"type\": \"histogram2d\"}], \"histogram2dcontour\": [{\"colorbar\": {\"outlinewidth\": 0, \"ticks\": \"\"}, \"colorscale\": [[0.0, \"#0d0887\"], [0.1111111111111111, \"#46039f\"], [0.2222222222222222, \"#7201a8\"], [0.3333333333333333, \"#9c179e\"], [0.4444444444444444, \"#bd3786\"], [0.5555555555555556, \"#d8576b\"], [0.6666666666666666, \"#ed7953\"], [0.7777777777777778, \"#fb9f3a\"], [0.8888888888888888, \"#fdca26\"], [1.0, \"#f0f921\"]], \"type\": \"histogram2dcontour\"}], \"mesh3d\": [{\"colorbar\": {\"outlinewidth\": 0, \"ticks\": \"\"}, \"type\": \"mesh3d\"}], \"parcoords\": [{\"line\": {\"colorbar\": {\"outlinewidth\": 0, \"ticks\": \"\"}}, \"type\": \"parcoords\"}], \"pie\": [{\"automargin\": true, \"type\": \"pie\"}], \"scatter\": [{\"marker\": {\"colorbar\": {\"outlinewidth\": 0, \"ticks\": \"\"}}, \"type\": \"scatter\"}], \"scatter3d\": [{\"line\": {\"colorbar\": {\"outlinewidth\": 0, \"ticks\": \"\"}}, \"marker\": {\"colorbar\": {\"outlinewidth\": 0, \"ticks\": \"\"}}, \"type\": \"scatter3d\"}], \"scattercarpet\": [{\"marker\": {\"colorbar\": {\"outlinewidth\": 0, \"ticks\": \"\"}}, \"type\": \"scattercarpet\"}], \"scattergeo\": [{\"marker\": {\"colorbar\": {\"outlinewidth\": 0, \"ticks\": \"\"}}, \"type\": \"scattergeo\"}], \"scattergl\": [{\"marker\": {\"colorbar\": {\"outlinewidth\": 0, \"ticks\": \"\"}}, \"type\": \"scattergl\"}], \"scattermapbox\": [{\"marker\": {\"colorbar\": {\"outlinewidth\": 0, \"ticks\": \"\"}}, \"type\": \"scattermapbox\"}], \"scatterpolar\": [{\"marker\": {\"colorbar\": {\"outlinewidth\": 0, \"ticks\": \"\"}}, \"type\": \"scatterpolar\"}], \"scatterpolargl\": [{\"marker\": {\"colorbar\": {\"outlinewidth\": 0, \"ticks\": \"\"}}, \"type\": \"scatterpolargl\"}], \"scatterternary\": [{\"marker\": {\"colorbar\": {\"outlinewidth\": 0, \"ticks\": \"\"}}, \"type\": \"scatterternary\"}], \"surface\": [{\"colorbar\": {\"outlinewidth\": 0, \"ticks\": \"\"}, \"colorscale\": [[0.0, \"#0d0887\"], [0.1111111111111111, \"#46039f\"], [0.2222222222222222, \"#7201a8\"], [0.3333333333333333, \"#9c179e\"], [0.4444444444444444, \"#bd3786\"], [0.5555555555555556, \"#d8576b\"], [0.6666666666666666, \"#ed7953\"], [0.7777777777777778, \"#fb9f3a\"], [0.8888888888888888, \"#fdca26\"], [1.0, \"#f0f921\"]], \"type\": \"surface\"}], \"table\": [{\"cells\": {\"fill\": {\"color\": \"#EBF0F8\"}, \"line\": {\"color\": \"white\"}}, \"header\": {\"fill\": {\"color\": \"#C8D4E3\"}, \"line\": {\"color\": \"white\"}}, \"type\": \"table\"}]}, \"layout\": {\"annotationdefaults\": {\"arrowcolor\": \"#2a3f5f\", \"arrowhead\": 0, \"arrowwidth\": 1}, \"autotypenumbers\": \"strict\", \"coloraxis\": {\"colorbar\": {\"outlinewidth\": 0, \"ticks\": \"\"}}, \"colorscale\": {\"diverging\": [[0, \"#8e0152\"], [0.1, \"#c51b7d\"], [0.2, \"#de77ae\"], [0.3, \"#f1b6da\"], [0.4, \"#fde0ef\"], [0.5, \"#f7f7f7\"], [0.6, \"#e6f5d0\"], [0.7, \"#b8e186\"], [0.8, \"#7fbc41\"], [0.9, \"#4d9221\"], [1, \"#276419\"]], \"sequential\": [[0.0, \"#0d0887\"], [0.1111111111111111, \"#46039f\"], [0.2222222222222222, \"#7201a8\"], [0.3333333333333333, \"#9c179e\"], [0.4444444444444444, \"#bd3786\"], [0.5555555555555556, \"#d8576b\"], [0.6666666666666666, \"#ed7953\"], [0.7777777777777778, \"#fb9f3a\"], [0.8888888888888888, \"#fdca26\"], [1.0, \"#f0f921\"]], \"sequentialminus\": [[0.0, \"#0d0887\"], [0.1111111111111111, \"#46039f\"], [0.2222222222222222, \"#7201a8\"], [0.3333333333333333, \"#9c179e\"], [0.4444444444444444, \"#bd3786\"], [0.5555555555555556, \"#d8576b\"], [0.6666666666666666, \"#ed7953\"], [0.7777777777777778, \"#fb9f3a\"], [0.8888888888888888, \"#fdca26\"], [1.0, \"#f0f921\"]]}, \"colorway\": [\"#636efa\", \"#EF553B\", \"#00cc96\", \"#ab63fa\", \"#FFA15A\", \"#19d3f3\", \"#FF6692\", \"#B6E880\", \"#FF97FF\", \"#FECB52\"], \"font\": {\"color\": \"#2a3f5f\"}, \"geo\": {\"bgcolor\": \"white\", \"lakecolor\": \"white\", \"landcolor\": \"#E5ECF6\", \"showlakes\": true, \"showland\": true, \"subunitcolor\": \"white\"}, \"hoverlabel\": {\"align\": \"left\"}, \"hovermode\": \"closest\", \"mapbox\": {\"style\": \"light\"}, \"paper_bgcolor\": \"white\", \"plot_bgcolor\": \"#E5ECF6\", \"polar\": {\"angularaxis\": {\"gridcolor\": \"white\", \"linecolor\": \"white\", \"ticks\": \"\"}, \"bgcolor\": \"#E5ECF6\", \"radialaxis\": {\"gridcolor\": \"white\", \"linecolor\": \"white\", \"ticks\": \"\"}}, \"scene\": {\"xaxis\": {\"backgroundcolor\": \"#E5ECF6\", \"gridcolor\": \"white\", \"gridwidth\": 2, \"linecolor\": \"white\", \"showbackground\": true, \"ticks\": \"\", \"zerolinecolor\": \"white\"}, \"yaxis\": {\"backgroundcolor\": \"#E5ECF6\", \"gridcolor\": \"white\", \"gridwidth\": 2, \"linecolor\": \"white\", \"showbackground\": true, \"ticks\": \"\", \"zerolinecolor\": \"white\"}, \"zaxis\": {\"backgroundcolor\": \"#E5ECF6\", \"gridcolor\": \"white\", \"gridwidth\": 2, \"linecolor\": \"white\", \"showbackground\": true, \"ticks\": \"\", \"zerolinecolor\": \"white\"}}, \"shapedefaults\": {\"line\": {\"color\": \"#2a3f5f\"}}, \"ternary\": {\"aaxis\": {\"gridcolor\": \"white\", \"linecolor\": \"white\", \"ticks\": \"\"}, \"baxis\": {\"gridcolor\": \"white\", \"linecolor\": \"white\", \"ticks\": \"\"}, \"bgcolor\": \"#E5ECF6\", \"caxis\": {\"gridcolor\": \"white\", \"linecolor\": \"white\", \"ticks\": \"\"}}, \"title\": {\"x\": 0.05}, \"xaxis\": {\"automargin\": true, \"gridcolor\": \"white\", \"linecolor\": \"white\", \"ticks\": \"\", \"title\": {\"standoff\": 15}, \"zerolinecolor\": \"white\", \"zerolinewidth\": 2}, \"yaxis\": {\"automargin\": true, \"gridcolor\": \"white\", \"linecolor\": \"white\", \"ticks\": \"\", \"title\": {\"standoff\": 15}, \"zerolinecolor\": \"white\", \"zerolinewidth\": 2}}}, \"xaxis\": {\"anchor\": \"y\", \"domain\": [0.0, 0.2888888888888889], \"range\": [0, 50], \"tickvals\": [0, 10, 20, 30, 40, 50], \"title\": {\"text\": \"$Temporal\\\\: Resolutions\\\\: [s]$\"}}, \"xaxis2\": {\"anchor\": \"y2\", \"domain\": [0.35555555555555557, 0.6444444444444445], \"range\": [0, 50], \"tickvals\": [0, 10, 20, 30, 40, 50], \"title\": {\"text\": \"$Temporal\\\\: Resolutions\\\\: [s]$\"}}, \"xaxis3\": {\"anchor\": \"y3\", \"domain\": [0.7111111111111111, 1.0], \"range\": [0, 50], \"tickvals\": [0, 10, 20, 30, 40, 50], \"title\": {\"text\": \"$Temporal\\\\: Resolutions\\\\: [s]$\"}}, \"yaxis\": {\"anchor\": \"x\", \"domain\": [0.0, 1.0], \"range\": [-100, 100], \"tickvals\": [-100, -80, -60, -40, -20, 0, 20, 40, 60, 80, 100], \"title\": {\"text\": \"$Percent\\\\: Change$\"}}, \"yaxis2\": {\"anchor\": \"x2\", \"domain\": [0.0, 1.0], \"range\": [-100, 100], \"tickvals\": [-100, -80, -60, -40, -20, 0, 20, 40, 60, 80, 100], \"title\": {\"text\": \"$Percent\\\\: Change$\"}}, \"yaxis3\": {\"anchor\": \"x3\", \"domain\": [0.0, 1.0], \"range\": [-100, 100], \"tickvals\": [-100, -80, -60, -40, -20, 0, 20, 40, 60, 80, 100], \"title\": {\"text\": \"$Percent\\\\: Change$\"}}},                        {\"responsive\": true}                    ).then(function(){\n",
       "                            \n",
       "var gd = document.getElementById('d5d9028b-20bf-4e80-b1d7-9bab94772459');\n",
       "var x = new MutationObserver(function (mutations, observer) {{\n",
       "        var display = window.getComputedStyle(gd).display;\n",
       "        if (!display || display === 'none') {{\n",
       "            console.log([gd, 'removed!']);\n",
       "            Plotly.purge(gd);\n",
       "            observer.disconnect();\n",
       "        }}\n",
       "}});\n",
       "\n",
       "// Listen for the removal of the full notebook cells\n",
       "var notebookContainer = gd.closest('#notebook-container');\n",
       "if (notebookContainer) {{\n",
       "    x.observe(notebookContainer, {childList: true});\n",
       "}}\n",
       "\n",
       "// Listen for the clearing of the current output cell\n",
       "var outputEl = gd.closest('.output');\n",
       "if (outputEl) {{\n",
       "    x.observe(outputEl, {childList: true});\n",
       "}}\n",
       "\n",
       "                        })                };                });            </script>        </div>"
      ]
     },
     "metadata": {},
     "output_type": "display_data"
    }
   ],
   "source": [
    "fig = make_subplots(rows=1, cols=3, \n",
    "                    subplot_titles=(r'$K^{trans}$', r'$V_e$', r'$V_p$'))\n",
    "\n",
    "\n",
    "line_colours = ['#585e9a', '#f36a61']\n",
    "line_names = ['RRIFT', 'ETM']\n",
    "\n",
    "file = loadmat('fig10vars.mat')\n",
    "TRes = np.squeeze(np.asarray(np.reshape(file['TRes'], 10)))\n",
    "\n",
    "errQt1 = file['errQt1']\n",
    "errMd1 = np.squeeze(np.asarray(np.reshape(file['errMd1'], 10)))\n",
    "\n",
    "errQt2 = file['errQt2']\n",
    "errMd2 = np.squeeze(np.asarray(np.reshape(file['errMd2'], 10)))\n",
    "\n",
    "errQt3 = file['errQt3']\n",
    "errMd3 = np.squeeze(np.asarray(np.reshape(file['errMd3'], 10)))\n",
    "\n",
    "errQt4 = file['errQt4']\n",
    "errMd4 = np.squeeze(np.asarray(np.reshape(file['errMd4'], 10)))\n",
    "\n",
    "errQt5 = file['errQt5']\n",
    "errMd5 = np.squeeze(np.asarray(np.reshape(file['errMd5'], 10)))\n",
    "\n",
    "errQt6 = file['errQt6']\n",
    "errMd6 = np.squeeze(np.asarray(np.reshape(file['errMd6'], 10)))\n",
    "\n",
    "\n",
    "# First subplot\n",
    "\n",
    "err_negative = np.squeeze(np.asarray(np.reshape(abs(errQt1[0,:]-errMd1), 10)))\n",
    "err_positive = np.squeeze(np.asarray(np.reshape(abs(errQt1[1,:]-errMd1), 10)))\n",
    "\n",
    "fig.append_trace(go.Scatter(\n",
    "        name=line_names[0],\n",
    "        x=TRes,\n",
    "        y=errMd1,\n",
    "        showlegend=False,\n",
    "        legendgroup=1,\n",
    "        error_y=dict(\n",
    "            type='data', # value of error bar given in data coordinates\n",
    "            array=err_positive,\n",
    "            arrayminus=err_negative,\n",
    "            symmetric=False,\n",
    "            thickness=4, width=9),\n",
    "        line_color=line_colours[0],\n",
    "    ),row=1, col=1)\n",
    "\n",
    "err_negative = np.squeeze(np.asarray(np.reshape(abs(errQt2[0,:]-errMd2), 10)))\n",
    "err_positive = np.squeeze(np.asarray(np.reshape(abs(errQt2[1,:]-errMd2), 10)))\n",
    "\n",
    "fig.append_trace(go.Scatter(\n",
    "        name=line_names[1],\n",
    "        x=TRes,\n",
    "        y=errMd2,\n",
    "        showlegend=False,\n",
    "        legendgroup=2,\n",
    "        error_y=dict(\n",
    "            type='data', # value of error bar given in data coordinates\n",
    "            array=err_positive,\n",
    "            arrayminus=err_negative,\n",
    "            symmetric=False,\n",
    "            thickness=4, width=9),\n",
    "        line_color=line_colours[1],\n",
    "    ),row=1, col=1)\n",
    "\n",
    "\n",
    "\n",
    "# Second subplot \n",
    "\n",
    "err_negative = np.squeeze(np.asarray(np.reshape(abs(errQt3[0,:]-errMd3), 10)))\n",
    "err_positive = np.squeeze(np.asarray(np.reshape(abs(errQt3[1,:]-errMd3), 10)))\n",
    "\n",
    "fig.append_trace(go.Scatter(\n",
    "        name=line_names[0],\n",
    "        x=TRes,\n",
    "        y=errMd3,\n",
    "        showlegend=True,\n",
    "        legendgroup=1,\n",
    "        error_y=dict(\n",
    "            type='data', # value of error bar given in data coordinates\n",
    "            array=err_positive,\n",
    "            arrayminus=err_negative,\n",
    "            symmetric=False,\n",
    "            thickness=4, width=9),\n",
    "        line_color=line_colours[0],\n",
    "    ),row=1, col=2)\n",
    "\n",
    "err_negative = np.squeeze(np.asarray(np.reshape(abs(errQt4[0,:]-errMd4), 10)))\n",
    "err_positive = np.squeeze(np.asarray(np.reshape(abs(errQt4[1,:]-errMd4), 10)))\n",
    "\n",
    "fig.append_trace(go.Scatter(\n",
    "        name=line_names[1],\n",
    "        x=TRes,\n",
    "        y=errMd4,\n",
    "        showlegend=True,\n",
    "        legendgroup=2,\n",
    "        error_y=dict(\n",
    "            type='data', # value of error bar given in data coordinates\n",
    "            array=err_positive,\n",
    "            arrayminus=err_negative,\n",
    "            symmetric=False,\n",
    "            thickness=4, width=9),\n",
    "        line_color=line_colours[1],\n",
    "    ),row=1, col=2)\n",
    "\n",
    "# Third subplot\n",
    "\n",
    "err_negative = np.squeeze(np.asarray(np.reshape(abs(errQt5[0,:]-errMd5), 10)))\n",
    "err_positive = np.squeeze(np.asarray(np.reshape(abs(errQt5[1,:]-errMd5), 10)))\n",
    "\n",
    "fig.append_trace(go.Scatter(\n",
    "        name=line_names[0],\n",
    "        x=TRes,\n",
    "        y=errMd5,\n",
    "        showlegend=False,\n",
    "        legendgroup=1,\n",
    "        error_y=dict(\n",
    "            type='data', # value of error bar given in data coordinates\n",
    "            array=err_positive,\n",
    "            arrayminus=err_negative,\n",
    "            symmetric=False,\n",
    "            thickness=4, width=9),\n",
    "        line_color=line_colours[0],\n",
    "    ),row=1, col=3)\n",
    "\n",
    "err_negative = np.squeeze(np.asarray(np.reshape(abs(errQt6[0,:]-errMd6), 10)))\n",
    "err_positive = np.squeeze(np.asarray(np.reshape(abs(errQt6[1,:]-errMd6), 10)))\n",
    "\n",
    "fig.append_trace(go.Scatter(\n",
    "        name=line_names[1],\n",
    "        x=TRes,\n",
    "        y=errMd6,\n",
    "        showlegend=False,\n",
    "        legendgroup=2,\n",
    "        error_y=dict(\n",
    "            type='data', # value of error bar given in data coordinates\n",
    "            array=err_positive,\n",
    "            arrayminus=err_negative,\n",
    "            symmetric=False,\n",
    "            thickness=4, width=9),\n",
    "        line_color=line_colours[1]\n",
    "    ),row=1, col=3)\n",
    "\n",
    "\n",
    "fig.add_hline(y=0, line_dash=\"dot\", line_color=\"black\", line_width=1.69, col=\"all\")\n",
    "\n",
    "fig.update_xaxes(title_text=r'$Temporal\\: Resolutions\\: [s]$',\n",
    "                 range=[0,50], \n",
    "                 tickvals=[0, 10, 20, 30, 40, 50],\n",
    "                 row=1, col=1)\n",
    "fig.update_xaxes(title_text=r'$Temporal\\: Resolutions\\: [s]$',\n",
    "                 range=[0, 50], \n",
    "                 tickvals=[0, 10, 20, 30, 40, 50],\n",
    "                 row=1, col=2)\n",
    "fig.update_xaxes(title_text=r'$Temporal\\: Resolutions\\: [s]$',\n",
    "                 range=[0, 50], \n",
    "                 tickvals=[0, 10, 20, 30, 40, 50],\n",
    "                 row=1, col=3)\n",
    "\n",
    "\n",
    "fig.update_yaxes(title_text=r'$Percent\\: Change$',\n",
    "                 range=[-100, 100], \n",
    "                 tickvals=[-100, -80, -60, -40, -20, 0, 20, 40, 60, 80, 100],\n",
    "                 row=1, col=1)\n",
    "fig.update_yaxes(title_text=r'$Percent\\: Change$',\n",
    "                 range=[-100, 100], \n",
    "                 tickvals=[-100, -80, -60, -40, -20, 0, 20, 40, 60, 80, 100],\n",
    "                 row=1, col=2)\n",
    "fig.update_yaxes(title_text=r'$Percent\\: Change$',\n",
    "                 range=[-100, 100], \n",
    "                 tickvals=[-100, -80, -60, -40, -20, 0, 20, 40, 60, 80, 100],\n",
    "                 row=1, col=3)\n",
    "\n",
    "\n",
    "\n",
    "    \n",
    "\n",
    "\n",
    "    \n",
    "fig.show()"
   ]
  },
  {
   "cell_type": "code",
   "execution_count": null,
   "metadata": {
    "kernel": "SoS"
   },
   "outputs": [],
   "source": []
  }
 ],
 "metadata": {
  "kernelspec": {
   "display_name": "SoS",
   "language": "sos",
   "name": "sos"
  },
  "language_info": {
   "codemirror_mode": "sos",
   "file_extension": ".sos",
   "mimetype": "text/x-sos",
   "name": "sos",
   "nbconvert_exporter": "sos_notebook.converter.SoS_Exporter",
   "pygments_lexer": "sos"
  },
  "sos": {
   "kernels": [
    [
     "MATLAB",
     "matlab",
     "MATLAB",
     "#8ee7f1",
     "octave"
    ],
    [
     "SoS",
     "sos",
     "",
     "",
     "sos"
    ]
   ],
   "panel": {
    "displayed": true,
    "height": 0
   },
   "version": "0.22.3"
  }
 },
 "nbformat": 4,
 "nbformat_minor": 4
}
