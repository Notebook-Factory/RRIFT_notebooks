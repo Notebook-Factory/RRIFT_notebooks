{
 "cells": [
  {
   "cell_type": "markdown",
   "metadata": {
    "kernel": "SoS"
   },
   "source": [
    "# Imports"
   ]
  },
  {
   "cell_type": "code",
   "execution_count": 1,
   "metadata": {
    "kernel": "SoS"
   },
   "outputs": [],
   "source": [
    "import plotly.express as px\n",
    "import plotly.graph_objects as go\n",
    "import numpy as np\n",
    "import sys\n",
    "from scipy import stats\n",
    "from scipy.io import loadmat\n",
    "import statsmodels.api as sm\n",
    "import pandas as pd\n",
    "from itertools import cycle\n",
    "import itertools\n",
    "from pandas.core.common import flatten\n",
    "from plotly.subplots import make_subplots"
   ]
  },
  {
   "cell_type": "markdown",
   "metadata": {
    "kernel": "SoS"
   },
   "source": [
    "# Figure 8"
   ]
  },
  {
   "cell_type": "code",
   "execution_count": 62,
   "metadata": {
    "kernel": "SoS"
   },
   "outputs": [
    {
     "data": {
      "application/vnd.plotly.v1+json": {
       "config": {
        "plotlyServerURL": "https://plot.ly"
       },
       "data": [
        {
         "error_x": {
          "array": [
           0.042950570583343506,
           0.036684632301330566,
           0.03107166290283203,
           0.03402167558670044,
           0.0290793776512146,
           0.020564883947372437,
           0.01824033260345459,
           0.03354150056838989
          ],
          "arrayminus": [
           0.042950570583343506,
           0.036684632301330566,
           0.03107166290283203,
           0.03402167558670044,
           0.0290793776512146,
           0.020564883947372437,
           0.01824033260345459,
           0.03354150056838989
          ],
          "symmetric": false,
          "thickness": 2,
          "type": "data",
          "visible": true
         },
         "error_y": {
          "array": [
           0.005617426317764518,
           0.014414173864071789,
           0.005482355550348039,
           0.008680628002132873,
           0.016428837488461023,
           0.0035026166108688694,
           0.004778912905640587,
           0.004009978758235555
          ],
          "arrayminus": [
           0.005617426317764518,
           0.014414173864071789,
           0.005482355550348039,
           0.008680628002132873,
           0.016428837488461023,
           0.0035026166108688694,
           0.004778912905640587,
           0.004009978758235555
          ],
          "symmetric": false,
          "thickness": 1,
          "type": "data",
          "visible": false
         },
         "hoverinfo": "x+y",
         "line": {
          "color": "#010101"
         },
         "marker": {
          "line": {
           "width": 2
          },
          "size": 12,
          "symbol": "circle-open"
         },
         "mode": "markers",
         "showlegend": false,
         "type": "scatter",
         "x": [
          0.5203121543273889,
          0.47987023728959405,
          0.22736744467769,
          0.5898556880951348,
          0.658609071228204,
          0.3378187277603683,
          0.38426571080506183,
          0.5228154981262098
         ],
         "xaxis": "x",
         "y": [
          0.6092270455297666,
          0.42929076645995695,
          0.2567397538207241,
          0.5745010190689257,
          0.5849807534765133,
          0.3474855646423191,
          0.4193954762465286,
          0.4803995398073619
         ],
         "yaxis": "y"
        },
        {
         "error_x": {
          "array": [
           0.007304035127162933,
           0.004695400595664978,
           0.004415888339281082,
           0.007480323314666748,
           0.006382599472999573,
           0.003717288374900818,
           0.0025189220905303955,
           0.0074552446603775024
          ],
          "arrayminus": [
           0.007304035127162933,
           0.004695400595664978,
           0.004415888339281082,
           0.007480323314666748,
           0.006382599472999573,
           0.003717288374900818,
           0.0025189220905303955,
           0.0074552446603775024
          ],
          "symmetric": false,
          "thickness": 2,
          "type": "data",
          "visible": true
         },
         "error_y": {
          "array": [
           0.0015518367290496826,
           0.0005239695310592651,
           0.0014608949422836304,
           0.0008573085069656372,
           0.00043064355850219727,
           0.0009472817182540894,
           0.0008023306727409363,
           0.001250341534614563
          ],
          "arrayminus": [
           0.0015518367290496826,
           0.0005239695310592651,
           0.0014608949422836304,
           0.0008573085069656372,
           0.00043064355850219727,
           0.0009472817182540894,
           0.0008023306727409363,
           0.001250341534614563
          ],
          "symmetric": false,
          "thickness": 1,
          "type": "data",
          "visible": false
         },
         "hoverinfo": "x+y",
         "line": {
          "color": "#010101"
         },
         "marker": {
          "line": {
           "width": 2
          },
          "size": 12,
          "symbol": "circle-open"
         },
         "mode": "markers",
         "showlegend": false,
         "type": "scatter",
         "x": [
          0.09921392555071604,
          0.0729356375187226,
          0.057559787698131935,
          0.13321066734972453,
          0.14550195613229877,
          0.0881082197825817,
          0.07829693480712692,
          0.13498858595902086
         ],
         "xaxis": "x2",
         "y": [
          0.12895816564559937,
          0.07239816337823868,
          0.06515715271234512,
          0.14845487475395203,
          0.1437455266714096,
          0.09576895087957382,
          0.08749090135097504,
          0.12979163229465485
         ],
         "yaxis": "y2"
        },
        {
         "error_x": {
          "array": [
           0.010359526611864567,
           0.007538398262113333,
           0.019707344472408295,
           0.008963244035840034,
           0.00678884657099843,
           0.009663059376180172,
           0.005818088538944721,
           0.010820123367011547
          ],
          "arrayminus": [
           0.010359526611864567,
           0.007538398262113333,
           0.019707344472408295,
           0.008963244035840034,
           0.00678884657099843,
           0.009663059376180172,
           0.005818088538944721,
           0.010820123367011547
          ],
          "symmetric": false,
          "thickness": 2,
          "type": "data",
          "visible": true
         },
         "error_y": {
          "array": [
           0.0016045041847974062,
           0.0028963133227080107,
           0.003928960766643286,
           0.0020899688825011253,
           0.0034701244439929724,
           0.0019461074844002724,
           0.001525642815977335,
           0.0017219176515936852
          ],
          "arrayminus": [
           0.0016045041847974062,
           0.0028963133227080107,
           0.003928960766643286,
           0.0020899688825011253,
           0.0034701244439929724,
           0.0019461074844002724,
           0.001525642815977335,
           0.0017219176515936852
          ],
          "symmetric": false,
          "thickness": 1,
          "type": "data",
          "visible": false
         },
         "hoverinfo": "x+y",
         "line": {
          "color": "#010101"
         },
         "marker": {
          "line": {
           "width": 2
          },
          "size": 12,
          "symbol": "circle-open"
         },
         "mode": "markers",
         "showlegend": false,
         "type": "scatter",
         "x": [
          0.19068154515623523,
          0.1519903337424678,
          0.2531575607920789,
          0.22583603080935225,
          0.22092309761382445,
          0.2608150837779522,
          0.20375727681527897,
          0.2581954560314776
         ],
         "xaxis": "x3",
         "y": [
          0.21167504787445068,
          0.168645977973938,
          0.25378677248954773,
          0.2584066390991211,
          0.24572692811489105,
          0.27560555934906006,
          0.20861193537712097,
          0.2701743543148041
         ],
         "yaxis": "y3"
        },
        {
         "line": {
          "color": "#000400",
          "dash": "dash",
          "width": 0.5
         },
         "mode": "lines",
         "showlegend": false,
         "type": "scatter",
         "x": [
          0,
          1
         ],
         "xaxis": "x",
         "y": [
          0,
          1
         ],
         "yaxis": "y"
        },
        {
         "line": {
          "color": "#000400",
          "dash": "dash",
          "width": 0.5
         },
         "mode": "lines",
         "showlegend": false,
         "type": "scatter",
         "x": [
          0,
          1
         ],
         "xaxis": "x2",
         "y": [
          0,
          1
         ],
         "yaxis": "y2"
        },
        {
         "line": {
          "color": "#000400",
          "dash": "dash",
          "width": 0.5
         },
         "mode": "lines",
         "showlegend": false,
         "type": "scatter",
         "x": [
          0,
          1
         ],
         "xaxis": "x3",
         "y": [
          0,
          1
         ],
         "yaxis": "y3"
        }
       ],
       "layout": {
        "annotations": [
         {
          "font": {
           "size": 16
          },
          "showarrow": false,
          "text": "$k_{ep,RR} [min^{-1}]$",
          "x": 0.14444444444444446,
          "xanchor": "center",
          "xref": "paper",
          "y": 1,
          "yanchor": "bottom",
          "yref": "paper"
         },
         {
          "font": {
           "size": 16
          },
          "showarrow": false,
          "text": "$K^{trans}_{RR}[min^{-1}]$",
          "x": 0.5,
          "xanchor": "center",
          "xref": "paper",
          "y": 1,
          "yanchor": "bottom",
          "yref": "paper"
         },
         {
          "font": {
           "size": 16
          },
          "showarrow": false,
          "text": "$V_{e,RR}$",
          "x": 0.8555555555555556,
          "xanchor": "center",
          "xref": "paper",
          "y": 1,
          "yanchor": "bottom",
          "yref": "paper"
         },
         {
          "font": {
           "color": "black",
           "size": 40
          },
          "showarrow": false,
          "text": "$\\textrm{CCC: 0.917}$",
          "x": 0.5,
          "xref": "x",
          "y": 0.14,
          "yref": "y"
         },
         {
          "font": {
           "color": "black",
           "size": 40
          },
          "showarrow": false,
          "text": "$\\textrm{CCC: 0.926}$",
          "x": 0.12,
          "xref": "x2",
          "y": 0.013,
          "yref": "y2"
         },
         {
          "font": {
           "color": "black",
           "size": 40
          },
          "showarrow": false,
          "text": "$\\textrm{CCC: 0.877}$",
          "x": 0.22,
          "xref": "x3",
          "y": 0.113,
          "yref": "y3"
         }
        ],
        "template": {
         "data": {
          "bar": [
           {
            "error_x": {
             "color": "#2a3f5f"
            },
            "error_y": {
             "color": "#2a3f5f"
            },
            "marker": {
             "line": {
              "color": "#E5ECF6",
              "width": 0.5
             }
            },
            "type": "bar"
           }
          ],
          "barpolar": [
           {
            "marker": {
             "line": {
              "color": "#E5ECF6",
              "width": 0.5
             }
            },
            "type": "barpolar"
           }
          ],
          "carpet": [
           {
            "aaxis": {
             "endlinecolor": "#2a3f5f",
             "gridcolor": "white",
             "linecolor": "white",
             "minorgridcolor": "white",
             "startlinecolor": "#2a3f5f"
            },
            "baxis": {
             "endlinecolor": "#2a3f5f",
             "gridcolor": "white",
             "linecolor": "white",
             "minorgridcolor": "white",
             "startlinecolor": "#2a3f5f"
            },
            "type": "carpet"
           }
          ],
          "choropleth": [
           {
            "colorbar": {
             "outlinewidth": 0,
             "ticks": ""
            },
            "type": "choropleth"
           }
          ],
          "contour": [
           {
            "colorbar": {
             "outlinewidth": 0,
             "ticks": ""
            },
            "colorscale": [
             [
              0,
              "#0d0887"
             ],
             [
              0.1111111111111111,
              "#46039f"
             ],
             [
              0.2222222222222222,
              "#7201a8"
             ],
             [
              0.3333333333333333,
              "#9c179e"
             ],
             [
              0.4444444444444444,
              "#bd3786"
             ],
             [
              0.5555555555555556,
              "#d8576b"
             ],
             [
              0.6666666666666666,
              "#ed7953"
             ],
             [
              0.7777777777777778,
              "#fb9f3a"
             ],
             [
              0.8888888888888888,
              "#fdca26"
             ],
             [
              1,
              "#f0f921"
             ]
            ],
            "type": "contour"
           }
          ],
          "contourcarpet": [
           {
            "colorbar": {
             "outlinewidth": 0,
             "ticks": ""
            },
            "type": "contourcarpet"
           }
          ],
          "heatmap": [
           {
            "colorbar": {
             "outlinewidth": 0,
             "ticks": ""
            },
            "colorscale": [
             [
              0,
              "#0d0887"
             ],
             [
              0.1111111111111111,
              "#46039f"
             ],
             [
              0.2222222222222222,
              "#7201a8"
             ],
             [
              0.3333333333333333,
              "#9c179e"
             ],
             [
              0.4444444444444444,
              "#bd3786"
             ],
             [
              0.5555555555555556,
              "#d8576b"
             ],
             [
              0.6666666666666666,
              "#ed7953"
             ],
             [
              0.7777777777777778,
              "#fb9f3a"
             ],
             [
              0.8888888888888888,
              "#fdca26"
             ],
             [
              1,
              "#f0f921"
             ]
            ],
            "type": "heatmap"
           }
          ],
          "heatmapgl": [
           {
            "colorbar": {
             "outlinewidth": 0,
             "ticks": ""
            },
            "colorscale": [
             [
              0,
              "#0d0887"
             ],
             [
              0.1111111111111111,
              "#46039f"
             ],
             [
              0.2222222222222222,
              "#7201a8"
             ],
             [
              0.3333333333333333,
              "#9c179e"
             ],
             [
              0.4444444444444444,
              "#bd3786"
             ],
             [
              0.5555555555555556,
              "#d8576b"
             ],
             [
              0.6666666666666666,
              "#ed7953"
             ],
             [
              0.7777777777777778,
              "#fb9f3a"
             ],
             [
              0.8888888888888888,
              "#fdca26"
             ],
             [
              1,
              "#f0f921"
             ]
            ],
            "type": "heatmapgl"
           }
          ],
          "histogram": [
           {
            "marker": {
             "colorbar": {
              "outlinewidth": 0,
              "ticks": ""
             }
            },
            "type": "histogram"
           }
          ],
          "histogram2d": [
           {
            "colorbar": {
             "outlinewidth": 0,
             "ticks": ""
            },
            "colorscale": [
             [
              0,
              "#0d0887"
             ],
             [
              0.1111111111111111,
              "#46039f"
             ],
             [
              0.2222222222222222,
              "#7201a8"
             ],
             [
              0.3333333333333333,
              "#9c179e"
             ],
             [
              0.4444444444444444,
              "#bd3786"
             ],
             [
              0.5555555555555556,
              "#d8576b"
             ],
             [
              0.6666666666666666,
              "#ed7953"
             ],
             [
              0.7777777777777778,
              "#fb9f3a"
             ],
             [
              0.8888888888888888,
              "#fdca26"
             ],
             [
              1,
              "#f0f921"
             ]
            ],
            "type": "histogram2d"
           }
          ],
          "histogram2dcontour": [
           {
            "colorbar": {
             "outlinewidth": 0,
             "ticks": ""
            },
            "colorscale": [
             [
              0,
              "#0d0887"
             ],
             [
              0.1111111111111111,
              "#46039f"
             ],
             [
              0.2222222222222222,
              "#7201a8"
             ],
             [
              0.3333333333333333,
              "#9c179e"
             ],
             [
              0.4444444444444444,
              "#bd3786"
             ],
             [
              0.5555555555555556,
              "#d8576b"
             ],
             [
              0.6666666666666666,
              "#ed7953"
             ],
             [
              0.7777777777777778,
              "#fb9f3a"
             ],
             [
              0.8888888888888888,
              "#fdca26"
             ],
             [
              1,
              "#f0f921"
             ]
            ],
            "type": "histogram2dcontour"
           }
          ],
          "mesh3d": [
           {
            "colorbar": {
             "outlinewidth": 0,
             "ticks": ""
            },
            "type": "mesh3d"
           }
          ],
          "parcoords": [
           {
            "line": {
             "colorbar": {
              "outlinewidth": 0,
              "ticks": ""
             }
            },
            "type": "parcoords"
           }
          ],
          "pie": [
           {
            "automargin": true,
            "type": "pie"
           }
          ],
          "scatter": [
           {
            "marker": {
             "colorbar": {
              "outlinewidth": 0,
              "ticks": ""
             }
            },
            "type": "scatter"
           }
          ],
          "scatter3d": [
           {
            "line": {
             "colorbar": {
              "outlinewidth": 0,
              "ticks": ""
             }
            },
            "marker": {
             "colorbar": {
              "outlinewidth": 0,
              "ticks": ""
             }
            },
            "type": "scatter3d"
           }
          ],
          "scattercarpet": [
           {
            "marker": {
             "colorbar": {
              "outlinewidth": 0,
              "ticks": ""
             }
            },
            "type": "scattercarpet"
           }
          ],
          "scattergeo": [
           {
            "marker": {
             "colorbar": {
              "outlinewidth": 0,
              "ticks": ""
             }
            },
            "type": "scattergeo"
           }
          ],
          "scattergl": [
           {
            "marker": {
             "colorbar": {
              "outlinewidth": 0,
              "ticks": ""
             }
            },
            "type": "scattergl"
           }
          ],
          "scattermapbox": [
           {
            "marker": {
             "colorbar": {
              "outlinewidth": 0,
              "ticks": ""
             }
            },
            "type": "scattermapbox"
           }
          ],
          "scatterpolar": [
           {
            "marker": {
             "colorbar": {
              "outlinewidth": 0,
              "ticks": ""
             }
            },
            "type": "scatterpolar"
           }
          ],
          "scatterpolargl": [
           {
            "marker": {
             "colorbar": {
              "outlinewidth": 0,
              "ticks": ""
             }
            },
            "type": "scatterpolargl"
           }
          ],
          "scatterternary": [
           {
            "marker": {
             "colorbar": {
              "outlinewidth": 0,
              "ticks": ""
             }
            },
            "type": "scatterternary"
           }
          ],
          "surface": [
           {
            "colorbar": {
             "outlinewidth": 0,
             "ticks": ""
            },
            "colorscale": [
             [
              0,
              "#0d0887"
             ],
             [
              0.1111111111111111,
              "#46039f"
             ],
             [
              0.2222222222222222,
              "#7201a8"
             ],
             [
              0.3333333333333333,
              "#9c179e"
             ],
             [
              0.4444444444444444,
              "#bd3786"
             ],
             [
              0.5555555555555556,
              "#d8576b"
             ],
             [
              0.6666666666666666,
              "#ed7953"
             ],
             [
              0.7777777777777778,
              "#fb9f3a"
             ],
             [
              0.8888888888888888,
              "#fdca26"
             ],
             [
              1,
              "#f0f921"
             ]
            ],
            "type": "surface"
           }
          ],
          "table": [
           {
            "cells": {
             "fill": {
              "color": "#EBF0F8"
             },
             "line": {
              "color": "white"
             }
            },
            "header": {
             "fill": {
              "color": "#C8D4E3"
             },
             "line": {
              "color": "white"
             }
            },
            "type": "table"
           }
          ]
         },
         "layout": {
          "annotationdefaults": {
           "arrowcolor": "#2a3f5f",
           "arrowhead": 0,
           "arrowwidth": 1
          },
          "autotypenumbers": "strict",
          "coloraxis": {
           "colorbar": {
            "outlinewidth": 0,
            "ticks": ""
           }
          },
          "colorscale": {
           "diverging": [
            [
             0,
             "#8e0152"
            ],
            [
             0.1,
             "#c51b7d"
            ],
            [
             0.2,
             "#de77ae"
            ],
            [
             0.3,
             "#f1b6da"
            ],
            [
             0.4,
             "#fde0ef"
            ],
            [
             0.5,
             "#f7f7f7"
            ],
            [
             0.6,
             "#e6f5d0"
            ],
            [
             0.7,
             "#b8e186"
            ],
            [
             0.8,
             "#7fbc41"
            ],
            [
             0.9,
             "#4d9221"
            ],
            [
             1,
             "#276419"
            ]
           ],
           "sequential": [
            [
             0,
             "#0d0887"
            ],
            [
             0.1111111111111111,
             "#46039f"
            ],
            [
             0.2222222222222222,
             "#7201a8"
            ],
            [
             0.3333333333333333,
             "#9c179e"
            ],
            [
             0.4444444444444444,
             "#bd3786"
            ],
            [
             0.5555555555555556,
             "#d8576b"
            ],
            [
             0.6666666666666666,
             "#ed7953"
            ],
            [
             0.7777777777777778,
             "#fb9f3a"
            ],
            [
             0.8888888888888888,
             "#fdca26"
            ],
            [
             1,
             "#f0f921"
            ]
           ],
           "sequentialminus": [
            [
             0,
             "#0d0887"
            ],
            [
             0.1111111111111111,
             "#46039f"
            ],
            [
             0.2222222222222222,
             "#7201a8"
            ],
            [
             0.3333333333333333,
             "#9c179e"
            ],
            [
             0.4444444444444444,
             "#bd3786"
            ],
            [
             0.5555555555555556,
             "#d8576b"
            ],
            [
             0.6666666666666666,
             "#ed7953"
            ],
            [
             0.7777777777777778,
             "#fb9f3a"
            ],
            [
             0.8888888888888888,
             "#fdca26"
            ],
            [
             1,
             "#f0f921"
            ]
           ]
          },
          "colorway": [
           "#636efa",
           "#EF553B",
           "#00cc96",
           "#ab63fa",
           "#FFA15A",
           "#19d3f3",
           "#FF6692",
           "#B6E880",
           "#FF97FF",
           "#FECB52"
          ],
          "font": {
           "color": "#2a3f5f"
          },
          "geo": {
           "bgcolor": "white",
           "lakecolor": "white",
           "landcolor": "#E5ECF6",
           "showlakes": true,
           "showland": true,
           "subunitcolor": "white"
          },
          "hoverlabel": {
           "align": "left"
          },
          "hovermode": "closest",
          "mapbox": {
           "style": "light"
          },
          "paper_bgcolor": "white",
          "plot_bgcolor": "#E5ECF6",
          "polar": {
           "angularaxis": {
            "gridcolor": "white",
            "linecolor": "white",
            "ticks": ""
           },
           "bgcolor": "#E5ECF6",
           "radialaxis": {
            "gridcolor": "white",
            "linecolor": "white",
            "ticks": ""
           }
          },
          "scene": {
           "xaxis": {
            "backgroundcolor": "#E5ECF6",
            "gridcolor": "white",
            "gridwidth": 2,
            "linecolor": "white",
            "showbackground": true,
            "ticks": "",
            "zerolinecolor": "white"
           },
           "yaxis": {
            "backgroundcolor": "#E5ECF6",
            "gridcolor": "white",
            "gridwidth": 2,
            "linecolor": "white",
            "showbackground": true,
            "ticks": "",
            "zerolinecolor": "white"
           },
           "zaxis": {
            "backgroundcolor": "#E5ECF6",
            "gridcolor": "white",
            "gridwidth": 2,
            "linecolor": "white",
            "showbackground": true,
            "ticks": "",
            "zerolinecolor": "white"
           }
          },
          "shapedefaults": {
           "line": {
            "color": "#2a3f5f"
           }
          },
          "ternary": {
           "aaxis": {
            "gridcolor": "white",
            "linecolor": "white",
            "ticks": ""
           },
           "baxis": {
            "gridcolor": "white",
            "linecolor": "white",
            "ticks": ""
           },
           "bgcolor": "#E5ECF6",
           "caxis": {
            "gridcolor": "white",
            "linecolor": "white",
            "ticks": ""
           }
          },
          "title": {
           "x": 0.05
          },
          "xaxis": {
           "automargin": true,
           "gridcolor": "white",
           "linecolor": "white",
           "ticks": "",
           "title": {
            "standoff": 15
           },
           "zerolinecolor": "white",
           "zerolinewidth": 2
          },
          "yaxis": {
           "automargin": true,
           "gridcolor": "white",
           "linecolor": "white",
           "ticks": "",
           "title": {
            "standoff": 15
           },
           "zerolinecolor": "white",
           "zerolinewidth": 2
          }
         }
        },
        "xaxis": {
         "anchor": "y",
         "domain": [
          0,
          0.2888888888888889
         ],
         "range": [
          0.1,
          0.8
         ],
         "tickvals": [
          0.1,
          0.2,
          0.3,
          0.4,
          0.5,
          0.6,
          0.7,
          0.8
         ],
         "title": {
          "text": "$ETM - k_{ep,RR} [min^{-1}]$"
         }
        },
        "xaxis2": {
         "anchor": "y2",
         "domain": [
          0.35555555555555557,
          0.6444444444444445
         ],
         "range": [
          0,
          0.2
         ],
         "tickvals": [
          0,
          0.1,
          0.2
         ],
         "title": {
          "text": "$ETM - K^{trans}_{RR}[min^{-1}]$"
         }
        },
        "xaxis3": {
         "anchor": "y3",
         "domain": [
          0.7111111111111111,
          1
         ],
         "range": [
          0.1,
          0.3
         ],
         "tickvals": [
          0.1,
          0.2,
          0.3
         ],
         "title": {
          "text": "$ETM - V_{e,RR}$"
         }
        },
        "yaxis": {
         "anchor": "x",
         "domain": [
          0,
          1
         ],
         "range": [
          0.1,
          0.8
         ],
         "tickvals": [
          0.1,
          0.2,
          0.3,
          0.4,
          0.5,
          0.6,
          0.7,
          0.8
         ],
         "title": {
          "text": "$RRIFT$"
         }
        },
        "yaxis2": {
         "anchor": "x2",
         "domain": [
          0,
          1
         ],
         "range": [
          0,
          0.2
         ],
         "tickvals": [
          0,
          0.1,
          0.2
         ],
         "title": {
          "text": "$RRIFT$"
         }
        },
        "yaxis3": {
         "anchor": "x3",
         "domain": [
          0,
          1
         ],
         "range": [
          0.1,
          0.3
         ],
         "tickvals": [
          0.1,
          0.2,
          0.3
         ],
         "title": {
          "text": "$RRIFT$"
         }
        }
       }
      },
      "text/html": [
       "<div>                            <div id=\"c09b4e3c-722c-494b-aae3-172069fbdcdb\" class=\"plotly-graph-div\" style=\"height:525px; width:100%;\"></div>            <script type=\"text/javascript\">                require([\"plotly\"], function(Plotly) {                    window.PLOTLYENV=window.PLOTLYENV || {};                                    if (document.getElementById(\"c09b4e3c-722c-494b-aae3-172069fbdcdb\")) {                    Plotly.newPlot(                        \"c09b4e3c-722c-494b-aae3-172069fbdcdb\",                        [{\"error_x\": {\"array\": [0.042950570583343506, 0.036684632301330566, 0.03107166290283203, 0.03402167558670044, 0.0290793776512146, 0.020564883947372437, 0.01824033260345459, 0.03354150056838989], \"arrayminus\": [0.042950570583343506, 0.036684632301330566, 0.03107166290283203, 0.03402167558670044, 0.0290793776512146, 0.020564883947372437, 0.01824033260345459, 0.03354150056838989], \"symmetric\": false, \"thickness\": 2, \"type\": \"data\", \"visible\": true}, \"error_y\": {\"array\": [0.005617426317764518, 0.014414173864071789, 0.005482355550348039, 0.008680628002132873, 0.016428837488461023, 0.0035026166108688694, 0.004778912905640587, 0.004009978758235555], \"arrayminus\": [0.005617426317764518, 0.014414173864071789, 0.005482355550348039, 0.008680628002132873, 0.016428837488461023, 0.0035026166108688694, 0.004778912905640587, 0.004009978758235555], \"symmetric\": false, \"thickness\": 1, \"type\": \"data\", \"visible\": false}, \"hoverinfo\": \"x+y\", \"line\": {\"color\": \"#010101\"}, \"marker\": {\"line\": {\"width\": 2}, \"size\": 12, \"symbol\": \"circle-open\"}, \"mode\": \"markers\", \"showlegend\": false, \"type\": \"scatter\", \"x\": [0.5203121543273889, 0.47987023728959405, 0.22736744467769, 0.5898556880951348, 0.658609071228204, 0.3378187277603683, 0.38426571080506183, 0.5228154981262098], \"xaxis\": \"x\", \"y\": [0.6092270455297666, 0.42929076645995695, 0.2567397538207241, 0.5745010190689257, 0.5849807534765133, 0.3474855646423191, 0.4193954762465286, 0.4803995398073619], \"yaxis\": \"y\"}, {\"error_x\": {\"array\": [0.007304035127162933, 0.004695400595664978, 0.004415888339281082, 0.007480323314666748, 0.006382599472999573, 0.003717288374900818, 0.0025189220905303955, 0.0074552446603775024], \"arrayminus\": [0.007304035127162933, 0.004695400595664978, 0.004415888339281082, 0.007480323314666748, 0.006382599472999573, 0.003717288374900818, 0.0025189220905303955, 0.0074552446603775024], \"symmetric\": false, \"thickness\": 2, \"type\": \"data\", \"visible\": true}, \"error_y\": {\"array\": [0.0015518367290496826, 0.0005239695310592651, 0.0014608949422836304, 0.0008573085069656372, 0.00043064355850219727, 0.0009472817182540894, 0.0008023306727409363, 0.001250341534614563], \"arrayminus\": [0.0015518367290496826, 0.0005239695310592651, 0.0014608949422836304, 0.0008573085069656372, 0.00043064355850219727, 0.0009472817182540894, 0.0008023306727409363, 0.001250341534614563], \"symmetric\": false, \"thickness\": 1, \"type\": \"data\", \"visible\": false}, \"hoverinfo\": \"x+y\", \"line\": {\"color\": \"#010101\"}, \"marker\": {\"line\": {\"width\": 2}, \"size\": 12, \"symbol\": \"circle-open\"}, \"mode\": \"markers\", \"showlegend\": false, \"type\": \"scatter\", \"x\": [0.09921392555071604, 0.0729356375187226, 0.057559787698131935, 0.13321066734972453, 0.14550195613229877, 0.0881082197825817, 0.07829693480712692, 0.13498858595902086], \"xaxis\": \"x2\", \"y\": [0.12895816564559937, 0.07239816337823868, 0.06515715271234512, 0.14845487475395203, 0.1437455266714096, 0.09576895087957382, 0.08749090135097504, 0.12979163229465485], \"yaxis\": \"y2\"}, {\"error_x\": {\"array\": [0.010359526611864567, 0.007538398262113333, 0.019707344472408295, 0.008963244035840034, 0.00678884657099843, 0.009663059376180172, 0.005818088538944721, 0.010820123367011547], \"arrayminus\": [0.010359526611864567, 0.007538398262113333, 0.019707344472408295, 0.008963244035840034, 0.00678884657099843, 0.009663059376180172, 0.005818088538944721, 0.010820123367011547], \"symmetric\": false, \"thickness\": 2, \"type\": \"data\", \"visible\": true}, \"error_y\": {\"array\": [0.0016045041847974062, 0.0028963133227080107, 0.003928960766643286, 0.0020899688825011253, 0.0034701244439929724, 0.0019461074844002724, 0.001525642815977335, 0.0017219176515936852], \"arrayminus\": [0.0016045041847974062, 0.0028963133227080107, 0.003928960766643286, 0.0020899688825011253, 0.0034701244439929724, 0.0019461074844002724, 0.001525642815977335, 0.0017219176515936852], \"symmetric\": false, \"thickness\": 1, \"type\": \"data\", \"visible\": false}, \"hoverinfo\": \"x+y\", \"line\": {\"color\": \"#010101\"}, \"marker\": {\"line\": {\"width\": 2}, \"size\": 12, \"symbol\": \"circle-open\"}, \"mode\": \"markers\", \"showlegend\": false, \"type\": \"scatter\", \"x\": [0.19068154515623523, 0.1519903337424678, 0.2531575607920789, 0.22583603080935225, 0.22092309761382445, 0.2608150837779522, 0.20375727681527897, 0.2581954560314776], \"xaxis\": \"x3\", \"y\": [0.21167504787445068, 0.168645977973938, 0.25378677248954773, 0.2584066390991211, 0.24572692811489105, 0.27560555934906006, 0.20861193537712097, 0.2701743543148041], \"yaxis\": \"y3\"}, {\"line\": {\"color\": \"#000400\", \"dash\": \"dash\", \"width\": 0.5}, \"mode\": \"lines\", \"showlegend\": false, \"type\": \"scatter\", \"x\": [0, 1], \"xaxis\": \"x\", \"y\": [0, 1], \"yaxis\": \"y\"}, {\"line\": {\"color\": \"#000400\", \"dash\": \"dash\", \"width\": 0.5}, \"mode\": \"lines\", \"showlegend\": false, \"type\": \"scatter\", \"x\": [0, 1], \"xaxis\": \"x2\", \"y\": [0, 1], \"yaxis\": \"y2\"}, {\"line\": {\"color\": \"#000400\", \"dash\": \"dash\", \"width\": 0.5}, \"mode\": \"lines\", \"showlegend\": false, \"type\": \"scatter\", \"x\": [0, 1], \"xaxis\": \"x3\", \"y\": [0, 1], \"yaxis\": \"y3\"}],                        {\"annotations\": [{\"font\": {\"size\": 16}, \"showarrow\": false, \"text\": \"$k_{ep,RR} [min^{-1}]$\", \"x\": 0.14444444444444446, \"xanchor\": \"center\", \"xref\": \"paper\", \"y\": 1.0, \"yanchor\": \"bottom\", \"yref\": \"paper\"}, {\"font\": {\"size\": 16}, \"showarrow\": false, \"text\": \"$K^{trans}_{RR}[min^{-1}]$\", \"x\": 0.5, \"xanchor\": \"center\", \"xref\": \"paper\", \"y\": 1.0, \"yanchor\": \"bottom\", \"yref\": \"paper\"}, {\"font\": {\"size\": 16}, \"showarrow\": false, \"text\": \"$V_{e,RR}$\", \"x\": 0.8555555555555556, \"xanchor\": \"center\", \"xref\": \"paper\", \"y\": 1.0, \"yanchor\": \"bottom\", \"yref\": \"paper\"}, {\"font\": {\"color\": \"black\", \"size\": 40}, \"showarrow\": false, \"text\": \"$\\\\textrm{CCC: 0.917}$\", \"x\": 0.5, \"xref\": \"x\", \"y\": 0.14, \"yref\": \"y\"}, {\"font\": {\"color\": \"black\", \"size\": 40}, \"showarrow\": false, \"text\": \"$\\\\textrm{CCC: 0.926}$\", \"x\": 0.12, \"xref\": \"x2\", \"y\": 0.013, \"yref\": \"y2\"}, {\"font\": {\"color\": \"black\", \"size\": 40}, \"showarrow\": false, \"text\": \"$\\\\textrm{CCC: 0.877}$\", \"x\": 0.22, \"xref\": \"x3\", \"y\": 0.113, \"yref\": \"y3\"}], \"template\": {\"data\": {\"bar\": [{\"error_x\": {\"color\": \"#2a3f5f\"}, \"error_y\": {\"color\": \"#2a3f5f\"}, \"marker\": {\"line\": {\"color\": \"#E5ECF6\", \"width\": 0.5}}, \"type\": \"bar\"}], \"barpolar\": [{\"marker\": {\"line\": {\"color\": \"#E5ECF6\", \"width\": 0.5}}, \"type\": \"barpolar\"}], \"carpet\": [{\"aaxis\": {\"endlinecolor\": \"#2a3f5f\", \"gridcolor\": \"white\", \"linecolor\": \"white\", \"minorgridcolor\": \"white\", \"startlinecolor\": \"#2a3f5f\"}, \"baxis\": {\"endlinecolor\": \"#2a3f5f\", \"gridcolor\": \"white\", \"linecolor\": \"white\", \"minorgridcolor\": \"white\", \"startlinecolor\": \"#2a3f5f\"}, \"type\": \"carpet\"}], \"choropleth\": [{\"colorbar\": {\"outlinewidth\": 0, \"ticks\": \"\"}, \"type\": \"choropleth\"}], \"contour\": [{\"colorbar\": {\"outlinewidth\": 0, \"ticks\": \"\"}, \"colorscale\": [[0.0, \"#0d0887\"], [0.1111111111111111, \"#46039f\"], [0.2222222222222222, \"#7201a8\"], [0.3333333333333333, \"#9c179e\"], [0.4444444444444444, \"#bd3786\"], [0.5555555555555556, \"#d8576b\"], [0.6666666666666666, \"#ed7953\"], [0.7777777777777778, \"#fb9f3a\"], [0.8888888888888888, \"#fdca26\"], [1.0, \"#f0f921\"]], \"type\": \"contour\"}], \"contourcarpet\": [{\"colorbar\": {\"outlinewidth\": 0, \"ticks\": \"\"}, \"type\": \"contourcarpet\"}], \"heatmap\": [{\"colorbar\": {\"outlinewidth\": 0, \"ticks\": \"\"}, \"colorscale\": [[0.0, \"#0d0887\"], [0.1111111111111111, \"#46039f\"], [0.2222222222222222, \"#7201a8\"], [0.3333333333333333, \"#9c179e\"], [0.4444444444444444, \"#bd3786\"], [0.5555555555555556, \"#d8576b\"], [0.6666666666666666, \"#ed7953\"], [0.7777777777777778, \"#fb9f3a\"], [0.8888888888888888, \"#fdca26\"], [1.0, \"#f0f921\"]], \"type\": \"heatmap\"}], \"heatmapgl\": [{\"colorbar\": {\"outlinewidth\": 0, \"ticks\": \"\"}, \"colorscale\": [[0.0, \"#0d0887\"], [0.1111111111111111, \"#46039f\"], [0.2222222222222222, \"#7201a8\"], [0.3333333333333333, \"#9c179e\"], [0.4444444444444444, \"#bd3786\"], [0.5555555555555556, \"#d8576b\"], [0.6666666666666666, \"#ed7953\"], [0.7777777777777778, \"#fb9f3a\"], [0.8888888888888888, \"#fdca26\"], [1.0, \"#f0f921\"]], \"type\": \"heatmapgl\"}], \"histogram\": [{\"marker\": {\"colorbar\": {\"outlinewidth\": 0, \"ticks\": \"\"}}, \"type\": \"histogram\"}], \"histogram2d\": [{\"colorbar\": {\"outlinewidth\": 0, \"ticks\": \"\"}, \"colorscale\": [[0.0, \"#0d0887\"], [0.1111111111111111, \"#46039f\"], [0.2222222222222222, \"#7201a8\"], [0.3333333333333333, \"#9c179e\"], [0.4444444444444444, \"#bd3786\"], [0.5555555555555556, \"#d8576b\"], [0.6666666666666666, \"#ed7953\"], [0.7777777777777778, \"#fb9f3a\"], [0.8888888888888888, \"#fdca26\"], [1.0, \"#f0f921\"]], \"type\": \"histogram2d\"}], \"histogram2dcontour\": [{\"colorbar\": {\"outlinewidth\": 0, \"ticks\": \"\"}, \"colorscale\": [[0.0, \"#0d0887\"], [0.1111111111111111, \"#46039f\"], [0.2222222222222222, \"#7201a8\"], [0.3333333333333333, \"#9c179e\"], [0.4444444444444444, \"#bd3786\"], [0.5555555555555556, \"#d8576b\"], [0.6666666666666666, \"#ed7953\"], [0.7777777777777778, \"#fb9f3a\"], [0.8888888888888888, \"#fdca26\"], [1.0, \"#f0f921\"]], \"type\": \"histogram2dcontour\"}], \"mesh3d\": [{\"colorbar\": {\"outlinewidth\": 0, \"ticks\": \"\"}, \"type\": \"mesh3d\"}], \"parcoords\": [{\"line\": {\"colorbar\": {\"outlinewidth\": 0, \"ticks\": \"\"}}, \"type\": \"parcoords\"}], \"pie\": [{\"automargin\": true, \"type\": \"pie\"}], \"scatter\": [{\"marker\": {\"colorbar\": {\"outlinewidth\": 0, \"ticks\": \"\"}}, \"type\": \"scatter\"}], \"scatter3d\": [{\"line\": {\"colorbar\": {\"outlinewidth\": 0, \"ticks\": \"\"}}, \"marker\": {\"colorbar\": {\"outlinewidth\": 0, \"ticks\": \"\"}}, \"type\": \"scatter3d\"}], \"scattercarpet\": [{\"marker\": {\"colorbar\": {\"outlinewidth\": 0, \"ticks\": \"\"}}, \"type\": \"scattercarpet\"}], \"scattergeo\": [{\"marker\": {\"colorbar\": {\"outlinewidth\": 0, \"ticks\": \"\"}}, \"type\": \"scattergeo\"}], \"scattergl\": [{\"marker\": {\"colorbar\": {\"outlinewidth\": 0, \"ticks\": \"\"}}, \"type\": \"scattergl\"}], \"scattermapbox\": [{\"marker\": {\"colorbar\": {\"outlinewidth\": 0, \"ticks\": \"\"}}, \"type\": \"scattermapbox\"}], \"scatterpolar\": [{\"marker\": {\"colorbar\": {\"outlinewidth\": 0, \"ticks\": \"\"}}, \"type\": \"scatterpolar\"}], \"scatterpolargl\": [{\"marker\": {\"colorbar\": {\"outlinewidth\": 0, \"ticks\": \"\"}}, \"type\": \"scatterpolargl\"}], \"scatterternary\": [{\"marker\": {\"colorbar\": {\"outlinewidth\": 0, \"ticks\": \"\"}}, \"type\": \"scatterternary\"}], \"surface\": [{\"colorbar\": {\"outlinewidth\": 0, \"ticks\": \"\"}, \"colorscale\": [[0.0, \"#0d0887\"], [0.1111111111111111, \"#46039f\"], [0.2222222222222222, \"#7201a8\"], [0.3333333333333333, \"#9c179e\"], [0.4444444444444444, \"#bd3786\"], [0.5555555555555556, \"#d8576b\"], [0.6666666666666666, \"#ed7953\"], [0.7777777777777778, \"#fb9f3a\"], [0.8888888888888888, \"#fdca26\"], [1.0, \"#f0f921\"]], \"type\": \"surface\"}], \"table\": [{\"cells\": {\"fill\": {\"color\": \"#EBF0F8\"}, \"line\": {\"color\": \"white\"}}, \"header\": {\"fill\": {\"color\": \"#C8D4E3\"}, \"line\": {\"color\": \"white\"}}, \"type\": \"table\"}]}, \"layout\": {\"annotationdefaults\": {\"arrowcolor\": \"#2a3f5f\", \"arrowhead\": 0, \"arrowwidth\": 1}, \"autotypenumbers\": \"strict\", \"coloraxis\": {\"colorbar\": {\"outlinewidth\": 0, \"ticks\": \"\"}}, \"colorscale\": {\"diverging\": [[0, \"#8e0152\"], [0.1, \"#c51b7d\"], [0.2, \"#de77ae\"], [0.3, \"#f1b6da\"], [0.4, \"#fde0ef\"], [0.5, \"#f7f7f7\"], [0.6, \"#e6f5d0\"], [0.7, \"#b8e186\"], [0.8, \"#7fbc41\"], [0.9, \"#4d9221\"], [1, \"#276419\"]], \"sequential\": [[0.0, \"#0d0887\"], [0.1111111111111111, \"#46039f\"], [0.2222222222222222, \"#7201a8\"], [0.3333333333333333, \"#9c179e\"], [0.4444444444444444, \"#bd3786\"], [0.5555555555555556, \"#d8576b\"], [0.6666666666666666, \"#ed7953\"], [0.7777777777777778, \"#fb9f3a\"], [0.8888888888888888, \"#fdca26\"], [1.0, \"#f0f921\"]], \"sequentialminus\": [[0.0, \"#0d0887\"], [0.1111111111111111, \"#46039f\"], [0.2222222222222222, \"#7201a8\"], [0.3333333333333333, \"#9c179e\"], [0.4444444444444444, \"#bd3786\"], [0.5555555555555556, \"#d8576b\"], [0.6666666666666666, \"#ed7953\"], [0.7777777777777778, \"#fb9f3a\"], [0.8888888888888888, \"#fdca26\"], [1.0, \"#f0f921\"]]}, \"colorway\": [\"#636efa\", \"#EF553B\", \"#00cc96\", \"#ab63fa\", \"#FFA15A\", \"#19d3f3\", \"#FF6692\", \"#B6E880\", \"#FF97FF\", \"#FECB52\"], \"font\": {\"color\": \"#2a3f5f\"}, \"geo\": {\"bgcolor\": \"white\", \"lakecolor\": \"white\", \"landcolor\": \"#E5ECF6\", \"showlakes\": true, \"showland\": true, \"subunitcolor\": \"white\"}, \"hoverlabel\": {\"align\": \"left\"}, \"hovermode\": \"closest\", \"mapbox\": {\"style\": \"light\"}, \"paper_bgcolor\": \"white\", \"plot_bgcolor\": \"#E5ECF6\", \"polar\": {\"angularaxis\": {\"gridcolor\": \"white\", \"linecolor\": \"white\", \"ticks\": \"\"}, \"bgcolor\": \"#E5ECF6\", \"radialaxis\": {\"gridcolor\": \"white\", \"linecolor\": \"white\", \"ticks\": \"\"}}, \"scene\": {\"xaxis\": {\"backgroundcolor\": \"#E5ECF6\", \"gridcolor\": \"white\", \"gridwidth\": 2, \"linecolor\": \"white\", \"showbackground\": true, \"ticks\": \"\", \"zerolinecolor\": \"white\"}, \"yaxis\": {\"backgroundcolor\": \"#E5ECF6\", \"gridcolor\": \"white\", \"gridwidth\": 2, \"linecolor\": \"white\", \"showbackground\": true, \"ticks\": \"\", \"zerolinecolor\": \"white\"}, \"zaxis\": {\"backgroundcolor\": \"#E5ECF6\", \"gridcolor\": \"white\", \"gridwidth\": 2, \"linecolor\": \"white\", \"showbackground\": true, \"ticks\": \"\", \"zerolinecolor\": \"white\"}}, \"shapedefaults\": {\"line\": {\"color\": \"#2a3f5f\"}}, \"ternary\": {\"aaxis\": {\"gridcolor\": \"white\", \"linecolor\": \"white\", \"ticks\": \"\"}, \"baxis\": {\"gridcolor\": \"white\", \"linecolor\": \"white\", \"ticks\": \"\"}, \"bgcolor\": \"#E5ECF6\", \"caxis\": {\"gridcolor\": \"white\", \"linecolor\": \"white\", \"ticks\": \"\"}}, \"title\": {\"x\": 0.05}, \"xaxis\": {\"automargin\": true, \"gridcolor\": \"white\", \"linecolor\": \"white\", \"ticks\": \"\", \"title\": {\"standoff\": 15}, \"zerolinecolor\": \"white\", \"zerolinewidth\": 2}, \"yaxis\": {\"automargin\": true, \"gridcolor\": \"white\", \"linecolor\": \"white\", \"ticks\": \"\", \"title\": {\"standoff\": 15}, \"zerolinecolor\": \"white\", \"zerolinewidth\": 2}}}, \"xaxis\": {\"anchor\": \"y\", \"domain\": [0.0, 0.2888888888888889], \"range\": [0.1, 0.8], \"tickvals\": [0.1, 0.2, 0.3, 0.4, 0.5, 0.6, 0.7, 0.8], \"title\": {\"text\": \"$ETM - k_{ep,RR} [min^{-1}]$\"}}, \"xaxis2\": {\"anchor\": \"y2\", \"domain\": [0.35555555555555557, 0.6444444444444445], \"range\": [0, 0.2], \"tickvals\": [0, 0.1, 0.2], \"title\": {\"text\": \"$ETM - K^{trans}_{RR}[min^{-1}]$\"}}, \"xaxis3\": {\"anchor\": \"y3\", \"domain\": [0.7111111111111111, 1.0], \"range\": [0.1, 0.3], \"tickvals\": [0.1, 0.2, 0.3], \"title\": {\"text\": \"$ETM - V_{e,RR}$\"}}, \"yaxis\": {\"anchor\": \"x\", \"domain\": [0.0, 1.0], \"range\": [0.1, 0.8], \"tickvals\": [0.1, 0.2, 0.3, 0.4, 0.5, 0.6, 0.7, 0.8], \"title\": {\"text\": \"$RRIFT$\"}}, \"yaxis2\": {\"anchor\": \"x2\", \"domain\": [0.0, 1.0], \"range\": [0, 0.2], \"tickvals\": [0, 0.1, 0.2], \"title\": {\"text\": \"$RRIFT$\"}}, \"yaxis3\": {\"anchor\": \"x3\", \"domain\": [0.0, 1.0], \"range\": [0.1, 0.3], \"tickvals\": [0.1, 0.2, 0.3], \"title\": {\"text\": \"$RRIFT$\"}}},                        {\"responsive\": true}                    ).then(function(){\n",
       "                            \n",
       "var gd = document.getElementById('c09b4e3c-722c-494b-aae3-172069fbdcdb');\n",
       "var x = new MutationObserver(function (mutations, observer) {{\n",
       "        var display = window.getComputedStyle(gd).display;\n",
       "        if (!display || display === 'none') {{\n",
       "            console.log([gd, 'removed!']);\n",
       "            Plotly.purge(gd);\n",
       "            observer.disconnect();\n",
       "        }}\n",
       "}});\n",
       "\n",
       "// Listen for the removal of the full notebook cells\n",
       "var notebookContainer = gd.closest('#notebook-container');\n",
       "if (notebookContainer) {{\n",
       "    x.observe(notebookContainer, {childList: true});\n",
       "}}\n",
       "\n",
       "// Listen for the clearing of the current output cell\n",
       "var outputEl = gd.closest('.output');\n",
       "if (outputEl) {{\n",
       "    x.observe(outputEl, {childList: true});\n",
       "}}\n",
       "\n",
       "                        })                };                });            </script>        </div>"
      ]
     },
     "metadata": {},
     "output_type": "display_data"
    }
   ],
   "source": [
    "fig = make_subplots(rows=1, cols=3, \n",
    "                    subplot_titles=(r'$k_{ep,RR} [min^{-1}]$', r'$K^{trans}_{RR}[min^{-1}]$', r'$V_{e,RR}$'))\n",
    "\n",
    "line_colour = '#010101'\n",
    "\n",
    "file = loadmat('fig8vars.mat')\n",
    "xv1 = np.squeeze(np.asarray(np.reshape(file['xv1'], 8)))\n",
    "yv1 = np.squeeze(np.asarray(np.reshape(file['yv1'], 8)))\n",
    "xr1 = file['xr1']\n",
    "yr1 = file['yr1']\n",
    "\n",
    "xv2 = np.squeeze(np.asarray(np.reshape(file['xv2'], 8)))\n",
    "yv2 = np.squeeze(np.asarray(np.reshape(file['yv2'], 8)))\n",
    "xr2 = file['xr2']\n",
    "yr2 = file['yr2']\n",
    "\n",
    "xv3 = np.squeeze(np.asarray(np.reshape(file['xv3'], 8)))\n",
    "yv3 = np.squeeze(np.asarray(np.reshape(file['yv3'], 8)))\n",
    "xr3 = file['xr3']\n",
    "yr3 = file['yr3']\n",
    "\n",
    "x = cycle([xv1, xv2, xv3])\n",
    "y = cycle([yv1, yv2, yv3])\n",
    "\n",
    "\n",
    "\n",
    "# First subplot vars\n",
    "\n",
    "y_negative1 = np.squeeze(np.asarray(np.reshape(yr1[:,0], 8)))\n",
    "y_positive1 = np.squeeze(np.asarray(np.reshape(yr1[:,1], 8)))\n",
    "\n",
    "x_negative1 = np.squeeze(np.asarray(np.reshape(xr1[:,0], 8)))\n",
    "x_positive1 = np.squeeze(np.asarray(np.reshape(xr1[:,1], 8)))\n",
    "\n",
    "# Second subplot vars\n",
    "\n",
    "y_negative2 = np.squeeze(np.asarray(np.reshape(yr2[:,0], 8)))\n",
    "y_positive2 = np.squeeze(np.asarray(np.reshape(yr2[:,1], 8)))\n",
    "\n",
    "x_negative2 = np.squeeze(np.asarray(np.reshape(xr2[:,0], 8)))\n",
    "x_positive2 = np.squeeze(np.asarray(np.reshape(xr2[:,1], 8)))\n",
    "\n",
    "# Third subplot vars\n",
    "\n",
    "y_negative3 = np.squeeze(np.asarray(np.reshape(yr3[:,0], 8)))\n",
    "y_positive3 = np.squeeze(np.asarray(np.reshape(yr3[:,1], 8)))\n",
    "\n",
    "x_negative3 = np.squeeze(np.asarray(np.reshape(xr3[:,0], 8)))\n",
    "x_positive3 = np.squeeze(np.asarray(np.reshape(xr3[:,1], 8)))\n",
    "\n",
    "x_positive_values = cycle([x_positive1, x_positive2, x_positive3])\n",
    "x_negative_values = cycle([x_negative1, x_negative2, x_negative3])\n",
    "y_positive_values = cycle([y_positive1, y_positive2, y_positive3])\n",
    "y_negative_values = cycle([y_negative1, y_negative2, y_negative3])\n",
    "\n",
    "\n",
    "for i in range (1, 4):\n",
    "    fig.add_trace(go.Scatter(\n",
    "        x=next(x),\n",
    "        y=next(y),\n",
    "        showlegend=False,\n",
    "        hoverinfo='x+y',\n",
    "        error_y=dict(\n",
    "            type='data', # value of error bar given in data coordinates\n",
    "            array=next(y_positive_values),\n",
    "            arrayminus=next(y_negative_values),\n",
    "            symmetric=False,\n",
    "            visible=False,\n",
    "            thickness=1),\n",
    "        error_x=dict(\n",
    "            type='data', # value of error bar given in data coordinates\n",
    "            array=next(x_positive_values),\n",
    "            arrayminus=next(x_negative_values),\n",
    "            symmetric=False,\n",
    "            visible=True,\n",
    "            thickness=2),\n",
    "        line_color=line_colour,\n",
    "        mode='markers',\n",
    "        marker_symbol='circle-open', marker_size=12, marker_line_width=2\n",
    "    ),row=1, col=i)\n",
    "\n",
    "\n",
    "\n",
    "# Adding the x=y dashed line on each of the three subplots\n",
    "\n",
    "fig.append_trace(go.Scatter(x=[0,1], y=[0,1], showlegend=False, mode='lines', line={'dash': 'dash', 'color': '#000400', 'width': 0.5}), row=1, col=1)\n",
    "fig.append_trace(go.Scatter(x=[0,1], y=[0,1], showlegend=False, mode='lines', line={'dash': 'dash', 'color': '#000400', 'width': 0.5}), row=1, col=2)\n",
    "fig.append_trace(go.Scatter(x=[0,1], y=[0,1], showlegend=False, mode='lines', line={'dash': 'dash', 'color': '#000400', 'width': 0.5}), row=1, col=3)\n",
    "\n",
    "# Adding the CCC text on each of the three subplots\n",
    "\n",
    "fig.add_annotation(  \n",
    "    x=0.5,\n",
    "    y=0.14,\n",
    "    text=r'$\\textrm{CCC: 0.917}$', \n",
    "    showarrow=False, font=dict(size=40, color='black'), row=1, col=1)\n",
    "fig.add_annotation(  \n",
    "    x=0.12,\n",
    "    y=0.013,\n",
    "    text=r'$\\textrm{CCC: 0.926}$',\n",
    "    xref=\"paper\", yref=\"paper\", \n",
    "    showarrow=False, font=dict(size=40, color='black'), row=1, col=2)\n",
    "fig.add_annotation(  \n",
    "    x=0.22,\n",
    "    y=0.113,\n",
    "    text=r'$\\textrm{CCC: 0.877}$',\n",
    "    xref=\"paper\", yref=\"paper\", \n",
    "    showarrow=False, font=dict(size=40, color='black'), row=1, col=3)\n",
    "\n",
    "    \n",
    "\n",
    "fig.update_xaxes(title_text=r'$ETM - k_{ep,RR} [min^{-1}]$',\n",
    "                 range=[0.1,0.8], \n",
    "                 tickvals=[0.1, 0.2, 0.3, 0.4, 0.5, 0.6, 0.7, 0.8],\n",
    "                 row=1, col=1)\n",
    "fig.update_xaxes(title_text=r'$ETM - K^{trans}_{RR}[min^{-1}]$',\n",
    "                 range=[0, 0.2], \n",
    "                 tickvals=[0, 0.1, 0.2],\n",
    "                 row=1, col=2)\n",
    "fig.update_xaxes(title_text=r'$ETM - V_{e,RR}$',\n",
    "                 range=[0.1, 0.3], \n",
    "                 tickvals=[0.1, 0.2, 0.3],\n",
    "                 row=1, col=3)\n",
    "\n",
    "\n",
    "fig.update_yaxes(title_text=r'$RRIFT$',\n",
    "                 range=[0.1,0.8], \n",
    "                 tickvals=[0.1, 0.2, 0.3, 0.4, 0.5, 0.6, 0.7, 0.8],\n",
    "                 row=1, col=1)\n",
    "fig.update_yaxes(title_text=r'$RRIFT$',\n",
    "                 range=[0, 0.2], \n",
    "                 tickvals=[0, 0.1, 0.2],\n",
    "                 row=1, col=2)\n",
    "fig.update_yaxes(title_text=r'$RRIFT$',\n",
    "                 range=[0.1, 0.3], \n",
    "                 tickvals=[0.1, 0.2, 0.3],\n",
    "                 row=1, col=3)\n",
    "\n",
    "\n",
    "fig.show()"
   ]
  },
  {
   "cell_type": "markdown",
   "metadata": {
    "kernel": "SoS"
   },
   "source": [
    "## Figure 8 - choose which subplot to view using a slider"
   ]
  },
  {
   "cell_type": "code",
   "execution_count": 63,
   "metadata": {
    "kernel": "SoS"
   },
   "outputs": [
    {
     "data": {
      "application/vnd.plotly.v1+json": {
       "config": {
        "plotlyServerURL": "https://plot.ly"
       },
       "data": [
        {
         "error_x": {
          "array": [
           0.042950570583343506,
           0.036684632301330566,
           0.03107166290283203,
           0.03402167558670044,
           0.0290793776512146,
           0.020564883947372437,
           0.01824033260345459,
           0.03354150056838989
          ],
          "arrayminus": [
           0.042950570583343506,
           0.036684632301330566,
           0.03107166290283203,
           0.03402167558670044,
           0.0290793776512146,
           0.020564883947372437,
           0.01824033260345459,
           0.03354150056838989
          ],
          "symmetric": false,
          "thickness": 2,
          "type": "data",
          "visible": true
         },
         "error_y": {
          "array": [
           0.005617426317764518,
           0.014414173864071789,
           0.005482355550348039,
           0.008680628002132873,
           0.016428837488461023,
           0.0035026166108688694,
           0.004778912905640587,
           0.004009978758235555
          ],
          "arrayminus": [
           0.005617426317764518,
           0.014414173864071789,
           0.005482355550348039,
           0.008680628002132873,
           0.016428837488461023,
           0.0035026166108688694,
           0.004778912905640587,
           0.004009978758235555
          ],
          "symmetric": false,
          "thickness": 1,
          "type": "data",
          "visible": false
         },
         "hoverinfo": "x+y",
         "line": {
          "color": "#010101"
         },
         "marker": {
          "line": {
           "width": 2
          },
          "size": 12,
          "symbol": "circle-open"
         },
         "mode": "markers",
         "name": "$k_{ep,RR} [min^{-1}]$",
         "showlegend": false,
         "type": "scatter",
         "visible": true,
         "x": [
          0.5203121543273889,
          0.47987023728959405,
          0.22736744467769,
          0.5898556880951348,
          0.658609071228204,
          0.3378187277603683,
          0.38426571080506183,
          0.5228154981262098
         ],
         "y": [
          0.6092270455297666,
          0.42929076645995695,
          0.2567397538207241,
          0.5745010190689257,
          0.5849807534765133,
          0.3474855646423191,
          0.4193954762465286,
          0.4803995398073619
         ]
        },
        {
         "error_x": {
          "array": [
           0.007304035127162933,
           0.004695400595664978,
           0.004415888339281082,
           0.007480323314666748,
           0.006382599472999573,
           0.003717288374900818,
           0.0025189220905303955,
           0.0074552446603775024
          ],
          "arrayminus": [
           0.007304035127162933,
           0.004695400595664978,
           0.004415888339281082,
           0.007480323314666748,
           0.006382599472999573,
           0.003717288374900818,
           0.0025189220905303955,
           0.0074552446603775024
          ],
          "symmetric": false,
          "thickness": 2,
          "type": "data",
          "visible": true
         },
         "error_y": {
          "array": [
           0.0015518367290496826,
           0.0005239695310592651,
           0.0014608949422836304,
           0.0008573085069656372,
           0.00043064355850219727,
           0.0009472817182540894,
           0.0008023306727409363,
           0.001250341534614563
          ],
          "arrayminus": [
           0.0015518367290496826,
           0.0005239695310592651,
           0.0014608949422836304,
           0.0008573085069656372,
           0.00043064355850219727,
           0.0009472817182540894,
           0.0008023306727409363,
           0.001250341534614563
          ],
          "symmetric": false,
          "thickness": 1,
          "type": "data",
          "visible": false
         },
         "hoverinfo": "x+y",
         "line": {
          "color": "#010101"
         },
         "marker": {
          "line": {
           "width": 2
          },
          "size": 12,
          "symbol": "circle-open"
         },
         "mode": "markers",
         "name": "$K^{trans}_{RR}[min^{-1}]$",
         "showlegend": false,
         "type": "scatter",
         "visible": false,
         "x": [
          0.09921392555071604,
          0.0729356375187226,
          0.057559787698131935,
          0.13321066734972453,
          0.14550195613229877,
          0.0881082197825817,
          0.07829693480712692,
          0.13498858595902086
         ],
         "y": [
          0.12895816564559937,
          0.07239816337823868,
          0.06515715271234512,
          0.14845487475395203,
          0.1437455266714096,
          0.09576895087957382,
          0.08749090135097504,
          0.12979163229465485
         ]
        },
        {
         "error_x": {
          "array": [
           0.010359526611864567,
           0.007538398262113333,
           0.019707344472408295,
           0.008963244035840034,
           0.00678884657099843,
           0.009663059376180172,
           0.005818088538944721,
           0.010820123367011547
          ],
          "arrayminus": [
           0.010359526611864567,
           0.007538398262113333,
           0.019707344472408295,
           0.008963244035840034,
           0.00678884657099843,
           0.009663059376180172,
           0.005818088538944721,
           0.010820123367011547
          ],
          "symmetric": false,
          "thickness": 2,
          "type": "data",
          "visible": true
         },
         "error_y": {
          "array": [
           0.0016045041847974062,
           0.0028963133227080107,
           0.003928960766643286,
           0.0020899688825011253,
           0.0034701244439929724,
           0.0019461074844002724,
           0.001525642815977335,
           0.0017219176515936852
          ],
          "arrayminus": [
           0.0016045041847974062,
           0.0028963133227080107,
           0.003928960766643286,
           0.0020899688825011253,
           0.0034701244439929724,
           0.0019461074844002724,
           0.001525642815977335,
           0.0017219176515936852
          ],
          "symmetric": false,
          "thickness": 1,
          "type": "data",
          "visible": false
         },
         "hoverinfo": "x+y",
         "line": {
          "color": "#010101"
         },
         "marker": {
          "line": {
           "width": 2
          },
          "size": 12,
          "symbol": "circle-open"
         },
         "mode": "markers",
         "name": "$V_{e,RR}$",
         "showlegend": false,
         "type": "scatter",
         "visible": false,
         "x": [
          0.19068154515623523,
          0.1519903337424678,
          0.2531575607920789,
          0.22583603080935225,
          0.22092309761382445,
          0.2608150837779522,
          0.20375727681527897,
          0.2581954560314776
         ],
         "y": [
          0.21167504787445068,
          0.168645977973938,
          0.25378677248954773,
          0.2584066390991211,
          0.24572692811489105,
          0.27560555934906006,
          0.20861193537712097,
          0.2701743543148041
         ]
        }
       ],
       "layout": {
        "sliders": [
         {
          "active": 0,
          "currentvalue": {
           "prefix": "ETM - "
          },
          "pad": {
           "t": 70
          },
          "steps": [
           {
            "args": [
             {
              "visible": [
               true,
               false,
               false
              ]
             },
             {
              "title.text": "$k_{ep,RR} [min^{-1}]$"
             }
            ],
            "label": "ETM - k<sub>ep,RR</sub> [min<sup>-1</sup>]",
            "method": "update"
           },
           {
            "args": [
             {
              "visible": [
               false,
               true,
               false
              ]
             },
             {
              "title.text": "$K^{trans}_{RR}[min^{-1}]$"
             }
            ],
            "label": "ETM - K<sup>trans</sup><sub>RR</sub>[min<sub>-1</sub>]",
            "method": "update"
           },
           {
            "args": [
             {
              "visible": [
               false,
               false,
               true
              ]
             },
             {
              "title.text": "$V_{e,RR}$"
             }
            ],
            "label": "ETM - V<sub>e,RR</sub>",
            "method": "update"
           }
          ]
         }
        ],
        "template": {
         "data": {
          "bar": [
           {
            "error_x": {
             "color": "#2a3f5f"
            },
            "error_y": {
             "color": "#2a3f5f"
            },
            "marker": {
             "line": {
              "color": "#E5ECF6",
              "width": 0.5
             }
            },
            "type": "bar"
           }
          ],
          "barpolar": [
           {
            "marker": {
             "line": {
              "color": "#E5ECF6",
              "width": 0.5
             }
            },
            "type": "barpolar"
           }
          ],
          "carpet": [
           {
            "aaxis": {
             "endlinecolor": "#2a3f5f",
             "gridcolor": "white",
             "linecolor": "white",
             "minorgridcolor": "white",
             "startlinecolor": "#2a3f5f"
            },
            "baxis": {
             "endlinecolor": "#2a3f5f",
             "gridcolor": "white",
             "linecolor": "white",
             "minorgridcolor": "white",
             "startlinecolor": "#2a3f5f"
            },
            "type": "carpet"
           }
          ],
          "choropleth": [
           {
            "colorbar": {
             "outlinewidth": 0,
             "ticks": ""
            },
            "type": "choropleth"
           }
          ],
          "contour": [
           {
            "colorbar": {
             "outlinewidth": 0,
             "ticks": ""
            },
            "colorscale": [
             [
              0,
              "#0d0887"
             ],
             [
              0.1111111111111111,
              "#46039f"
             ],
             [
              0.2222222222222222,
              "#7201a8"
             ],
             [
              0.3333333333333333,
              "#9c179e"
             ],
             [
              0.4444444444444444,
              "#bd3786"
             ],
             [
              0.5555555555555556,
              "#d8576b"
             ],
             [
              0.6666666666666666,
              "#ed7953"
             ],
             [
              0.7777777777777778,
              "#fb9f3a"
             ],
             [
              0.8888888888888888,
              "#fdca26"
             ],
             [
              1,
              "#f0f921"
             ]
            ],
            "type": "contour"
           }
          ],
          "contourcarpet": [
           {
            "colorbar": {
             "outlinewidth": 0,
             "ticks": ""
            },
            "type": "contourcarpet"
           }
          ],
          "heatmap": [
           {
            "colorbar": {
             "outlinewidth": 0,
             "ticks": ""
            },
            "colorscale": [
             [
              0,
              "#0d0887"
             ],
             [
              0.1111111111111111,
              "#46039f"
             ],
             [
              0.2222222222222222,
              "#7201a8"
             ],
             [
              0.3333333333333333,
              "#9c179e"
             ],
             [
              0.4444444444444444,
              "#bd3786"
             ],
             [
              0.5555555555555556,
              "#d8576b"
             ],
             [
              0.6666666666666666,
              "#ed7953"
             ],
             [
              0.7777777777777778,
              "#fb9f3a"
             ],
             [
              0.8888888888888888,
              "#fdca26"
             ],
             [
              1,
              "#f0f921"
             ]
            ],
            "type": "heatmap"
           }
          ],
          "heatmapgl": [
           {
            "colorbar": {
             "outlinewidth": 0,
             "ticks": ""
            },
            "colorscale": [
             [
              0,
              "#0d0887"
             ],
             [
              0.1111111111111111,
              "#46039f"
             ],
             [
              0.2222222222222222,
              "#7201a8"
             ],
             [
              0.3333333333333333,
              "#9c179e"
             ],
             [
              0.4444444444444444,
              "#bd3786"
             ],
             [
              0.5555555555555556,
              "#d8576b"
             ],
             [
              0.6666666666666666,
              "#ed7953"
             ],
             [
              0.7777777777777778,
              "#fb9f3a"
             ],
             [
              0.8888888888888888,
              "#fdca26"
             ],
             [
              1,
              "#f0f921"
             ]
            ],
            "type": "heatmapgl"
           }
          ],
          "histogram": [
           {
            "marker": {
             "colorbar": {
              "outlinewidth": 0,
              "ticks": ""
             }
            },
            "type": "histogram"
           }
          ],
          "histogram2d": [
           {
            "colorbar": {
             "outlinewidth": 0,
             "ticks": ""
            },
            "colorscale": [
             [
              0,
              "#0d0887"
             ],
             [
              0.1111111111111111,
              "#46039f"
             ],
             [
              0.2222222222222222,
              "#7201a8"
             ],
             [
              0.3333333333333333,
              "#9c179e"
             ],
             [
              0.4444444444444444,
              "#bd3786"
             ],
             [
              0.5555555555555556,
              "#d8576b"
             ],
             [
              0.6666666666666666,
              "#ed7953"
             ],
             [
              0.7777777777777778,
              "#fb9f3a"
             ],
             [
              0.8888888888888888,
              "#fdca26"
             ],
             [
              1,
              "#f0f921"
             ]
            ],
            "type": "histogram2d"
           }
          ],
          "histogram2dcontour": [
           {
            "colorbar": {
             "outlinewidth": 0,
             "ticks": ""
            },
            "colorscale": [
             [
              0,
              "#0d0887"
             ],
             [
              0.1111111111111111,
              "#46039f"
             ],
             [
              0.2222222222222222,
              "#7201a8"
             ],
             [
              0.3333333333333333,
              "#9c179e"
             ],
             [
              0.4444444444444444,
              "#bd3786"
             ],
             [
              0.5555555555555556,
              "#d8576b"
             ],
             [
              0.6666666666666666,
              "#ed7953"
             ],
             [
              0.7777777777777778,
              "#fb9f3a"
             ],
             [
              0.8888888888888888,
              "#fdca26"
             ],
             [
              1,
              "#f0f921"
             ]
            ],
            "type": "histogram2dcontour"
           }
          ],
          "mesh3d": [
           {
            "colorbar": {
             "outlinewidth": 0,
             "ticks": ""
            },
            "type": "mesh3d"
           }
          ],
          "parcoords": [
           {
            "line": {
             "colorbar": {
              "outlinewidth": 0,
              "ticks": ""
             }
            },
            "type": "parcoords"
           }
          ],
          "pie": [
           {
            "automargin": true,
            "type": "pie"
           }
          ],
          "scatter": [
           {
            "marker": {
             "colorbar": {
              "outlinewidth": 0,
              "ticks": ""
             }
            },
            "type": "scatter"
           }
          ],
          "scatter3d": [
           {
            "line": {
             "colorbar": {
              "outlinewidth": 0,
              "ticks": ""
             }
            },
            "marker": {
             "colorbar": {
              "outlinewidth": 0,
              "ticks": ""
             }
            },
            "type": "scatter3d"
           }
          ],
          "scattercarpet": [
           {
            "marker": {
             "colorbar": {
              "outlinewidth": 0,
              "ticks": ""
             }
            },
            "type": "scattercarpet"
           }
          ],
          "scattergeo": [
           {
            "marker": {
             "colorbar": {
              "outlinewidth": 0,
              "ticks": ""
             }
            },
            "type": "scattergeo"
           }
          ],
          "scattergl": [
           {
            "marker": {
             "colorbar": {
              "outlinewidth": 0,
              "ticks": ""
             }
            },
            "type": "scattergl"
           }
          ],
          "scattermapbox": [
           {
            "marker": {
             "colorbar": {
              "outlinewidth": 0,
              "ticks": ""
             }
            },
            "type": "scattermapbox"
           }
          ],
          "scatterpolar": [
           {
            "marker": {
             "colorbar": {
              "outlinewidth": 0,
              "ticks": ""
             }
            },
            "type": "scatterpolar"
           }
          ],
          "scatterpolargl": [
           {
            "marker": {
             "colorbar": {
              "outlinewidth": 0,
              "ticks": ""
             }
            },
            "type": "scatterpolargl"
           }
          ],
          "scatterternary": [
           {
            "marker": {
             "colorbar": {
              "outlinewidth": 0,
              "ticks": ""
             }
            },
            "type": "scatterternary"
           }
          ],
          "surface": [
           {
            "colorbar": {
             "outlinewidth": 0,
             "ticks": ""
            },
            "colorscale": [
             [
              0,
              "#0d0887"
             ],
             [
              0.1111111111111111,
              "#46039f"
             ],
             [
              0.2222222222222222,
              "#7201a8"
             ],
             [
              0.3333333333333333,
              "#9c179e"
             ],
             [
              0.4444444444444444,
              "#bd3786"
             ],
             [
              0.5555555555555556,
              "#d8576b"
             ],
             [
              0.6666666666666666,
              "#ed7953"
             ],
             [
              0.7777777777777778,
              "#fb9f3a"
             ],
             [
              0.8888888888888888,
              "#fdca26"
             ],
             [
              1,
              "#f0f921"
             ]
            ],
            "type": "surface"
           }
          ],
          "table": [
           {
            "cells": {
             "fill": {
              "color": "#EBF0F8"
             },
             "line": {
              "color": "white"
             }
            },
            "header": {
             "fill": {
              "color": "#C8D4E3"
             },
             "line": {
              "color": "white"
             }
            },
            "type": "table"
           }
          ]
         },
         "layout": {
          "annotationdefaults": {
           "arrowcolor": "#2a3f5f",
           "arrowhead": 0,
           "arrowwidth": 1
          },
          "autotypenumbers": "strict",
          "coloraxis": {
           "colorbar": {
            "outlinewidth": 0,
            "ticks": ""
           }
          },
          "colorscale": {
           "diverging": [
            [
             0,
             "#8e0152"
            ],
            [
             0.1,
             "#c51b7d"
            ],
            [
             0.2,
             "#de77ae"
            ],
            [
             0.3,
             "#f1b6da"
            ],
            [
             0.4,
             "#fde0ef"
            ],
            [
             0.5,
             "#f7f7f7"
            ],
            [
             0.6,
             "#e6f5d0"
            ],
            [
             0.7,
             "#b8e186"
            ],
            [
             0.8,
             "#7fbc41"
            ],
            [
             0.9,
             "#4d9221"
            ],
            [
             1,
             "#276419"
            ]
           ],
           "sequential": [
            [
             0,
             "#0d0887"
            ],
            [
             0.1111111111111111,
             "#46039f"
            ],
            [
             0.2222222222222222,
             "#7201a8"
            ],
            [
             0.3333333333333333,
             "#9c179e"
            ],
            [
             0.4444444444444444,
             "#bd3786"
            ],
            [
             0.5555555555555556,
             "#d8576b"
            ],
            [
             0.6666666666666666,
             "#ed7953"
            ],
            [
             0.7777777777777778,
             "#fb9f3a"
            ],
            [
             0.8888888888888888,
             "#fdca26"
            ],
            [
             1,
             "#f0f921"
            ]
           ],
           "sequentialminus": [
            [
             0,
             "#0d0887"
            ],
            [
             0.1111111111111111,
             "#46039f"
            ],
            [
             0.2222222222222222,
             "#7201a8"
            ],
            [
             0.3333333333333333,
             "#9c179e"
            ],
            [
             0.4444444444444444,
             "#bd3786"
            ],
            [
             0.5555555555555556,
             "#d8576b"
            ],
            [
             0.6666666666666666,
             "#ed7953"
            ],
            [
             0.7777777777777778,
             "#fb9f3a"
            ],
            [
             0.8888888888888888,
             "#fdca26"
            ],
            [
             1,
             "#f0f921"
            ]
           ]
          },
          "colorway": [
           "#636efa",
           "#EF553B",
           "#00cc96",
           "#ab63fa",
           "#FFA15A",
           "#19d3f3",
           "#FF6692",
           "#B6E880",
           "#FF97FF",
           "#FECB52"
          ],
          "font": {
           "color": "#2a3f5f"
          },
          "geo": {
           "bgcolor": "white",
           "lakecolor": "white",
           "landcolor": "#E5ECF6",
           "showlakes": true,
           "showland": true,
           "subunitcolor": "white"
          },
          "hoverlabel": {
           "align": "left"
          },
          "hovermode": "closest",
          "mapbox": {
           "style": "light"
          },
          "paper_bgcolor": "white",
          "plot_bgcolor": "#E5ECF6",
          "polar": {
           "angularaxis": {
            "gridcolor": "white",
            "linecolor": "white",
            "ticks": ""
           },
           "bgcolor": "#E5ECF6",
           "radialaxis": {
            "gridcolor": "white",
            "linecolor": "white",
            "ticks": ""
           }
          },
          "scene": {
           "xaxis": {
            "backgroundcolor": "#E5ECF6",
            "gridcolor": "white",
            "gridwidth": 2,
            "linecolor": "white",
            "showbackground": true,
            "ticks": "",
            "zerolinecolor": "white"
           },
           "yaxis": {
            "backgroundcolor": "#E5ECF6",
            "gridcolor": "white",
            "gridwidth": 2,
            "linecolor": "white",
            "showbackground": true,
            "ticks": "",
            "zerolinecolor": "white"
           },
           "zaxis": {
            "backgroundcolor": "#E5ECF6",
            "gridcolor": "white",
            "gridwidth": 2,
            "linecolor": "white",
            "showbackground": true,
            "ticks": "",
            "zerolinecolor": "white"
           }
          },
          "shapedefaults": {
           "line": {
            "color": "#2a3f5f"
           }
          },
          "ternary": {
           "aaxis": {
            "gridcolor": "white",
            "linecolor": "white",
            "ticks": ""
           },
           "baxis": {
            "gridcolor": "white",
            "linecolor": "white",
            "ticks": ""
           },
           "bgcolor": "#E5ECF6",
           "caxis": {
            "gridcolor": "white",
            "linecolor": "white",
            "ticks": ""
           }
          },
          "title": {
           "x": 0.05
          },
          "xaxis": {
           "automargin": true,
           "gridcolor": "white",
           "linecolor": "white",
           "ticks": "",
           "title": {
            "standoff": 15
           },
           "zerolinecolor": "white",
           "zerolinewidth": 2
          },
          "yaxis": {
           "automargin": true,
           "gridcolor": "white",
           "linecolor": "white",
           "ticks": "",
           "title": {
            "standoff": 15
           },
           "zerolinecolor": "white",
           "zerolinewidth": 2
          }
         }
        },
        "title": {
         "text": "$k_{ep,RR} [min^{-1}]$"
        },
        "xaxis": {
         "title": {
          "text": "$ETM$"
         }
        },
        "yaxis": {
         "title": {
          "text": "$RRIFT$"
         }
        }
       }
      },
      "text/html": [
       "<div>                            <div id=\"aa8624ed-f643-4ee0-bc29-6799a76eccdc\" class=\"plotly-graph-div\" style=\"height:525px; width:100%;\"></div>            <script type=\"text/javascript\">                require([\"plotly\"], function(Plotly) {                    window.PLOTLYENV=window.PLOTLYENV || {};                                    if (document.getElementById(\"aa8624ed-f643-4ee0-bc29-6799a76eccdc\")) {                    Plotly.newPlot(                        \"aa8624ed-f643-4ee0-bc29-6799a76eccdc\",                        [{\"error_x\": {\"array\": [0.042950570583343506, 0.036684632301330566, 0.03107166290283203, 0.03402167558670044, 0.0290793776512146, 0.020564883947372437, 0.01824033260345459, 0.03354150056838989], \"arrayminus\": [0.042950570583343506, 0.036684632301330566, 0.03107166290283203, 0.03402167558670044, 0.0290793776512146, 0.020564883947372437, 0.01824033260345459, 0.03354150056838989], \"symmetric\": false, \"thickness\": 2, \"type\": \"data\", \"visible\": true}, \"error_y\": {\"array\": [0.005617426317764518, 0.014414173864071789, 0.005482355550348039, 0.008680628002132873, 0.016428837488461023, 0.0035026166108688694, 0.004778912905640587, 0.004009978758235555], \"arrayminus\": [0.005617426317764518, 0.014414173864071789, 0.005482355550348039, 0.008680628002132873, 0.016428837488461023, 0.0035026166108688694, 0.004778912905640587, 0.004009978758235555], \"symmetric\": false, \"thickness\": 1, \"type\": \"data\", \"visible\": false}, \"hoverinfo\": \"x+y\", \"line\": {\"color\": \"#010101\"}, \"marker\": {\"line\": {\"width\": 2}, \"size\": 12, \"symbol\": \"circle-open\"}, \"mode\": \"markers\", \"name\": \"$k_{ep,RR} [min^{-1}]$\", \"showlegend\": false, \"type\": \"scatter\", \"visible\": true, \"x\": [0.5203121543273889, 0.47987023728959405, 0.22736744467769, 0.5898556880951348, 0.658609071228204, 0.3378187277603683, 0.38426571080506183, 0.5228154981262098], \"y\": [0.6092270455297666, 0.42929076645995695, 0.2567397538207241, 0.5745010190689257, 0.5849807534765133, 0.3474855646423191, 0.4193954762465286, 0.4803995398073619]}, {\"error_x\": {\"array\": [0.007304035127162933, 0.004695400595664978, 0.004415888339281082, 0.007480323314666748, 0.006382599472999573, 0.003717288374900818, 0.0025189220905303955, 0.0074552446603775024], \"arrayminus\": [0.007304035127162933, 0.004695400595664978, 0.004415888339281082, 0.007480323314666748, 0.006382599472999573, 0.003717288374900818, 0.0025189220905303955, 0.0074552446603775024], \"symmetric\": false, \"thickness\": 2, \"type\": \"data\", \"visible\": true}, \"error_y\": {\"array\": [0.0015518367290496826, 0.0005239695310592651, 0.0014608949422836304, 0.0008573085069656372, 0.00043064355850219727, 0.0009472817182540894, 0.0008023306727409363, 0.001250341534614563], \"arrayminus\": [0.0015518367290496826, 0.0005239695310592651, 0.0014608949422836304, 0.0008573085069656372, 0.00043064355850219727, 0.0009472817182540894, 0.0008023306727409363, 0.001250341534614563], \"symmetric\": false, \"thickness\": 1, \"type\": \"data\", \"visible\": false}, \"hoverinfo\": \"x+y\", \"line\": {\"color\": \"#010101\"}, \"marker\": {\"line\": {\"width\": 2}, \"size\": 12, \"symbol\": \"circle-open\"}, \"mode\": \"markers\", \"name\": \"$K^{trans}_{RR}[min^{-1}]$\", \"showlegend\": false, \"type\": \"scatter\", \"visible\": false, \"x\": [0.09921392555071604, 0.0729356375187226, 0.057559787698131935, 0.13321066734972453, 0.14550195613229877, 0.0881082197825817, 0.07829693480712692, 0.13498858595902086], \"y\": [0.12895816564559937, 0.07239816337823868, 0.06515715271234512, 0.14845487475395203, 0.1437455266714096, 0.09576895087957382, 0.08749090135097504, 0.12979163229465485]}, {\"error_x\": {\"array\": [0.010359526611864567, 0.007538398262113333, 0.019707344472408295, 0.008963244035840034, 0.00678884657099843, 0.009663059376180172, 0.005818088538944721, 0.010820123367011547], \"arrayminus\": [0.010359526611864567, 0.007538398262113333, 0.019707344472408295, 0.008963244035840034, 0.00678884657099843, 0.009663059376180172, 0.005818088538944721, 0.010820123367011547], \"symmetric\": false, \"thickness\": 2, \"type\": \"data\", \"visible\": true}, \"error_y\": {\"array\": [0.0016045041847974062, 0.0028963133227080107, 0.003928960766643286, 0.0020899688825011253, 0.0034701244439929724, 0.0019461074844002724, 0.001525642815977335, 0.0017219176515936852], \"arrayminus\": [0.0016045041847974062, 0.0028963133227080107, 0.003928960766643286, 0.0020899688825011253, 0.0034701244439929724, 0.0019461074844002724, 0.001525642815977335, 0.0017219176515936852], \"symmetric\": false, \"thickness\": 1, \"type\": \"data\", \"visible\": false}, \"hoverinfo\": \"x+y\", \"line\": {\"color\": \"#010101\"}, \"marker\": {\"line\": {\"width\": 2}, \"size\": 12, \"symbol\": \"circle-open\"}, \"mode\": \"markers\", \"name\": \"$V_{e,RR}$\", \"showlegend\": false, \"type\": \"scatter\", \"visible\": false, \"x\": [0.19068154515623523, 0.1519903337424678, 0.2531575607920789, 0.22583603080935225, 0.22092309761382445, 0.2608150837779522, 0.20375727681527897, 0.2581954560314776], \"y\": [0.21167504787445068, 0.168645977973938, 0.25378677248954773, 0.2584066390991211, 0.24572692811489105, 0.27560555934906006, 0.20861193537712097, 0.2701743543148041]}],                        {\"sliders\": [{\"active\": 0, \"currentvalue\": {\"prefix\": \"ETM - \"}, \"pad\": {\"t\": 70}, \"steps\": [{\"args\": [{\"visible\": [true, false, false]}, {\"title.text\": \"$k_{ep,RR} [min^{-1}]$\"}], \"label\": \"ETM - k<sub>ep,RR</sub> [min<sup>-1</sup>]\", \"method\": \"update\"}, {\"args\": [{\"visible\": [false, true, false]}, {\"title.text\": \"$K^{trans}_{RR}[min^{-1}]$\"}], \"label\": \"ETM - K<sup>trans</sup><sub>RR</sub>[min<sub>-1</sub>]\", \"method\": \"update\"}, {\"args\": [{\"visible\": [false, false, true]}, {\"title.text\": \"$V_{e,RR}$\"}], \"label\": \"ETM - V<sub>e,RR</sub>\", \"method\": \"update\"}]}], \"template\": {\"data\": {\"bar\": [{\"error_x\": {\"color\": \"#2a3f5f\"}, \"error_y\": {\"color\": \"#2a3f5f\"}, \"marker\": {\"line\": {\"color\": \"#E5ECF6\", \"width\": 0.5}}, \"type\": \"bar\"}], \"barpolar\": [{\"marker\": {\"line\": {\"color\": \"#E5ECF6\", \"width\": 0.5}}, \"type\": \"barpolar\"}], \"carpet\": [{\"aaxis\": {\"endlinecolor\": \"#2a3f5f\", \"gridcolor\": \"white\", \"linecolor\": \"white\", \"minorgridcolor\": \"white\", \"startlinecolor\": \"#2a3f5f\"}, \"baxis\": {\"endlinecolor\": \"#2a3f5f\", \"gridcolor\": \"white\", \"linecolor\": \"white\", \"minorgridcolor\": \"white\", \"startlinecolor\": \"#2a3f5f\"}, \"type\": \"carpet\"}], \"choropleth\": [{\"colorbar\": {\"outlinewidth\": 0, \"ticks\": \"\"}, \"type\": \"choropleth\"}], \"contour\": [{\"colorbar\": {\"outlinewidth\": 0, \"ticks\": \"\"}, \"colorscale\": [[0.0, \"#0d0887\"], [0.1111111111111111, \"#46039f\"], [0.2222222222222222, \"#7201a8\"], [0.3333333333333333, \"#9c179e\"], [0.4444444444444444, \"#bd3786\"], [0.5555555555555556, \"#d8576b\"], [0.6666666666666666, \"#ed7953\"], [0.7777777777777778, \"#fb9f3a\"], [0.8888888888888888, \"#fdca26\"], [1.0, \"#f0f921\"]], \"type\": \"contour\"}], \"contourcarpet\": [{\"colorbar\": {\"outlinewidth\": 0, \"ticks\": \"\"}, \"type\": \"contourcarpet\"}], \"heatmap\": [{\"colorbar\": {\"outlinewidth\": 0, \"ticks\": \"\"}, \"colorscale\": [[0.0, \"#0d0887\"], [0.1111111111111111, \"#46039f\"], [0.2222222222222222, \"#7201a8\"], [0.3333333333333333, \"#9c179e\"], [0.4444444444444444, \"#bd3786\"], [0.5555555555555556, \"#d8576b\"], [0.6666666666666666, \"#ed7953\"], [0.7777777777777778, \"#fb9f3a\"], [0.8888888888888888, \"#fdca26\"], [1.0, \"#f0f921\"]], \"type\": \"heatmap\"}], \"heatmapgl\": [{\"colorbar\": {\"outlinewidth\": 0, \"ticks\": \"\"}, \"colorscale\": [[0.0, \"#0d0887\"], [0.1111111111111111, \"#46039f\"], [0.2222222222222222, \"#7201a8\"], [0.3333333333333333, \"#9c179e\"], [0.4444444444444444, \"#bd3786\"], [0.5555555555555556, \"#d8576b\"], [0.6666666666666666, \"#ed7953\"], [0.7777777777777778, \"#fb9f3a\"], [0.8888888888888888, \"#fdca26\"], [1.0, \"#f0f921\"]], \"type\": \"heatmapgl\"}], \"histogram\": [{\"marker\": {\"colorbar\": {\"outlinewidth\": 0, \"ticks\": \"\"}}, \"type\": \"histogram\"}], \"histogram2d\": [{\"colorbar\": {\"outlinewidth\": 0, \"ticks\": \"\"}, \"colorscale\": [[0.0, \"#0d0887\"], [0.1111111111111111, \"#46039f\"], [0.2222222222222222, \"#7201a8\"], [0.3333333333333333, \"#9c179e\"], [0.4444444444444444, \"#bd3786\"], [0.5555555555555556, \"#d8576b\"], [0.6666666666666666, \"#ed7953\"], [0.7777777777777778, \"#fb9f3a\"], [0.8888888888888888, \"#fdca26\"], [1.0, \"#f0f921\"]], \"type\": \"histogram2d\"}], \"histogram2dcontour\": [{\"colorbar\": {\"outlinewidth\": 0, \"ticks\": \"\"}, \"colorscale\": [[0.0, \"#0d0887\"], [0.1111111111111111, \"#46039f\"], [0.2222222222222222, \"#7201a8\"], [0.3333333333333333, \"#9c179e\"], [0.4444444444444444, \"#bd3786\"], [0.5555555555555556, \"#d8576b\"], [0.6666666666666666, \"#ed7953\"], [0.7777777777777778, \"#fb9f3a\"], [0.8888888888888888, \"#fdca26\"], [1.0, \"#f0f921\"]], \"type\": \"histogram2dcontour\"}], \"mesh3d\": [{\"colorbar\": {\"outlinewidth\": 0, \"ticks\": \"\"}, \"type\": \"mesh3d\"}], \"parcoords\": [{\"line\": {\"colorbar\": {\"outlinewidth\": 0, \"ticks\": \"\"}}, \"type\": \"parcoords\"}], \"pie\": [{\"automargin\": true, \"type\": \"pie\"}], \"scatter\": [{\"marker\": {\"colorbar\": {\"outlinewidth\": 0, \"ticks\": \"\"}}, \"type\": \"scatter\"}], \"scatter3d\": [{\"line\": {\"colorbar\": {\"outlinewidth\": 0, \"ticks\": \"\"}}, \"marker\": {\"colorbar\": {\"outlinewidth\": 0, \"ticks\": \"\"}}, \"type\": \"scatter3d\"}], \"scattercarpet\": [{\"marker\": {\"colorbar\": {\"outlinewidth\": 0, \"ticks\": \"\"}}, \"type\": \"scattercarpet\"}], \"scattergeo\": [{\"marker\": {\"colorbar\": {\"outlinewidth\": 0, \"ticks\": \"\"}}, \"type\": \"scattergeo\"}], \"scattergl\": [{\"marker\": {\"colorbar\": {\"outlinewidth\": 0, \"ticks\": \"\"}}, \"type\": \"scattergl\"}], \"scattermapbox\": [{\"marker\": {\"colorbar\": {\"outlinewidth\": 0, \"ticks\": \"\"}}, \"type\": \"scattermapbox\"}], \"scatterpolar\": [{\"marker\": {\"colorbar\": {\"outlinewidth\": 0, \"ticks\": \"\"}}, \"type\": \"scatterpolar\"}], \"scatterpolargl\": [{\"marker\": {\"colorbar\": {\"outlinewidth\": 0, \"ticks\": \"\"}}, \"type\": \"scatterpolargl\"}], \"scatterternary\": [{\"marker\": {\"colorbar\": {\"outlinewidth\": 0, \"ticks\": \"\"}}, \"type\": \"scatterternary\"}], \"surface\": [{\"colorbar\": {\"outlinewidth\": 0, \"ticks\": \"\"}, \"colorscale\": [[0.0, \"#0d0887\"], [0.1111111111111111, \"#46039f\"], [0.2222222222222222, \"#7201a8\"], [0.3333333333333333, \"#9c179e\"], [0.4444444444444444, \"#bd3786\"], [0.5555555555555556, \"#d8576b\"], [0.6666666666666666, \"#ed7953\"], [0.7777777777777778, \"#fb9f3a\"], [0.8888888888888888, \"#fdca26\"], [1.0, \"#f0f921\"]], \"type\": \"surface\"}], \"table\": [{\"cells\": {\"fill\": {\"color\": \"#EBF0F8\"}, \"line\": {\"color\": \"white\"}}, \"header\": {\"fill\": {\"color\": \"#C8D4E3\"}, \"line\": {\"color\": \"white\"}}, \"type\": \"table\"}]}, \"layout\": {\"annotationdefaults\": {\"arrowcolor\": \"#2a3f5f\", \"arrowhead\": 0, \"arrowwidth\": 1}, \"autotypenumbers\": \"strict\", \"coloraxis\": {\"colorbar\": {\"outlinewidth\": 0, \"ticks\": \"\"}}, \"colorscale\": {\"diverging\": [[0, \"#8e0152\"], [0.1, \"#c51b7d\"], [0.2, \"#de77ae\"], [0.3, \"#f1b6da\"], [0.4, \"#fde0ef\"], [0.5, \"#f7f7f7\"], [0.6, \"#e6f5d0\"], [0.7, \"#b8e186\"], [0.8, \"#7fbc41\"], [0.9, \"#4d9221\"], [1, \"#276419\"]], \"sequential\": [[0.0, \"#0d0887\"], [0.1111111111111111, \"#46039f\"], [0.2222222222222222, \"#7201a8\"], [0.3333333333333333, \"#9c179e\"], [0.4444444444444444, \"#bd3786\"], [0.5555555555555556, \"#d8576b\"], [0.6666666666666666, \"#ed7953\"], [0.7777777777777778, \"#fb9f3a\"], [0.8888888888888888, \"#fdca26\"], [1.0, \"#f0f921\"]], \"sequentialminus\": [[0.0, \"#0d0887\"], [0.1111111111111111, \"#46039f\"], [0.2222222222222222, \"#7201a8\"], [0.3333333333333333, \"#9c179e\"], [0.4444444444444444, \"#bd3786\"], [0.5555555555555556, \"#d8576b\"], [0.6666666666666666, \"#ed7953\"], [0.7777777777777778, \"#fb9f3a\"], [0.8888888888888888, \"#fdca26\"], [1.0, \"#f0f921\"]]}, \"colorway\": [\"#636efa\", \"#EF553B\", \"#00cc96\", \"#ab63fa\", \"#FFA15A\", \"#19d3f3\", \"#FF6692\", \"#B6E880\", \"#FF97FF\", \"#FECB52\"], \"font\": {\"color\": \"#2a3f5f\"}, \"geo\": {\"bgcolor\": \"white\", \"lakecolor\": \"white\", \"landcolor\": \"#E5ECF6\", \"showlakes\": true, \"showland\": true, \"subunitcolor\": \"white\"}, \"hoverlabel\": {\"align\": \"left\"}, \"hovermode\": \"closest\", \"mapbox\": {\"style\": \"light\"}, \"paper_bgcolor\": \"white\", \"plot_bgcolor\": \"#E5ECF6\", \"polar\": {\"angularaxis\": {\"gridcolor\": \"white\", \"linecolor\": \"white\", \"ticks\": \"\"}, \"bgcolor\": \"#E5ECF6\", \"radialaxis\": {\"gridcolor\": \"white\", \"linecolor\": \"white\", \"ticks\": \"\"}}, \"scene\": {\"xaxis\": {\"backgroundcolor\": \"#E5ECF6\", \"gridcolor\": \"white\", \"gridwidth\": 2, \"linecolor\": \"white\", \"showbackground\": true, \"ticks\": \"\", \"zerolinecolor\": \"white\"}, \"yaxis\": {\"backgroundcolor\": \"#E5ECF6\", \"gridcolor\": \"white\", \"gridwidth\": 2, \"linecolor\": \"white\", \"showbackground\": true, \"ticks\": \"\", \"zerolinecolor\": \"white\"}, \"zaxis\": {\"backgroundcolor\": \"#E5ECF6\", \"gridcolor\": \"white\", \"gridwidth\": 2, \"linecolor\": \"white\", \"showbackground\": true, \"ticks\": \"\", \"zerolinecolor\": \"white\"}}, \"shapedefaults\": {\"line\": {\"color\": \"#2a3f5f\"}}, \"ternary\": {\"aaxis\": {\"gridcolor\": \"white\", \"linecolor\": \"white\", \"ticks\": \"\"}, \"baxis\": {\"gridcolor\": \"white\", \"linecolor\": \"white\", \"ticks\": \"\"}, \"bgcolor\": \"#E5ECF6\", \"caxis\": {\"gridcolor\": \"white\", \"linecolor\": \"white\", \"ticks\": \"\"}}, \"title\": {\"x\": 0.05}, \"xaxis\": {\"automargin\": true, \"gridcolor\": \"white\", \"linecolor\": \"white\", \"ticks\": \"\", \"title\": {\"standoff\": 15}, \"zerolinecolor\": \"white\", \"zerolinewidth\": 2}, \"yaxis\": {\"automargin\": true, \"gridcolor\": \"white\", \"linecolor\": \"white\", \"ticks\": \"\", \"title\": {\"standoff\": 15}, \"zerolinecolor\": \"white\", \"zerolinewidth\": 2}}}, \"title\": {\"text\": \"$k_{ep,RR} [min^{-1}]$\"}, \"xaxis\": {\"title\": {\"text\": \"$ETM$\"}}, \"yaxis\": {\"title\": {\"text\": \"$RRIFT$\"}}},                        {\"responsive\": true}                    ).then(function(){\n",
       "                            \n",
       "var gd = document.getElementById('aa8624ed-f643-4ee0-bc29-6799a76eccdc');\n",
       "var x = new MutationObserver(function (mutations, observer) {{\n",
       "        var display = window.getComputedStyle(gd).display;\n",
       "        if (!display || display === 'none') {{\n",
       "            console.log([gd, 'removed!']);\n",
       "            Plotly.purge(gd);\n",
       "            observer.disconnect();\n",
       "        }}\n",
       "}});\n",
       "\n",
       "// Listen for the removal of the full notebook cells\n",
       "var notebookContainer = gd.closest('#notebook-container');\n",
       "if (notebookContainer) {{\n",
       "    x.observe(notebookContainer, {childList: true});\n",
       "}}\n",
       "\n",
       "// Listen for the clearing of the current output cell\n",
       "var outputEl = gd.closest('.output');\n",
       "if (outputEl) {{\n",
       "    x.observe(outputEl, {childList: true});\n",
       "}}\n",
       "\n",
       "                        })                };                });            </script>        </div>"
      ]
     },
     "metadata": {},
     "output_type": "display_data"
    }
   ],
   "source": [
    "\n",
    "fig = go.Figure()\n",
    "\n",
    "line_colour = '#010101'\n",
    "titles = cycle([r'$k_{ep,RR} [min^{-1}]$', r'$K^{trans}_{RR}[min^{-1}]$', r'$V_{e,RR}$'])\n",
    "\n",
    "file = loadmat('fig8vars.mat')\n",
    "xv1 = np.squeeze(np.asarray(np.reshape(file['xv1'], 8)))\n",
    "yv1 = np.squeeze(np.asarray(np.reshape(file['yv1'], 8)))\n",
    "xr1 = file['xr1']\n",
    "yr1 = file['yr1']\n",
    "\n",
    "xv2 = np.squeeze(np.asarray(np.reshape(file['xv2'], 8)))\n",
    "yv2 = np.squeeze(np.asarray(np.reshape(file['yv2'], 8)))\n",
    "xr2 = file['xr2']\n",
    "yr2 = file['yr2']\n",
    "\n",
    "xv3 = np.squeeze(np.asarray(np.reshape(file['xv3'], 8)))\n",
    "yv3 = np.squeeze(np.asarray(np.reshape(file['yv3'], 8)))\n",
    "xr3 = file['xr3']\n",
    "yr3 = file['yr3']\n",
    "\n",
    "# First subplot vars\n",
    "\n",
    "y_negative1 = np.squeeze(np.asarray(np.reshape(yr1[:,0], 8)))\n",
    "y_positive1 = np.squeeze(np.asarray(np.reshape(yr1[:,1], 8)))\n",
    "\n",
    "x_negative1 = np.squeeze(np.asarray(np.reshape(xr1[:,0], 8)))\n",
    "x_positive1 = np.squeeze(np.asarray(np.reshape(xr1[:,1], 8)))\n",
    "\n",
    "# Second subplot vars\n",
    "\n",
    "y_negative2 = np.squeeze(np.asarray(np.reshape(yr2[:,0], 8)))\n",
    "y_positive2 = np.squeeze(np.asarray(np.reshape(yr2[:,1], 8)))\n",
    "\n",
    "x_negative2 = np.squeeze(np.asarray(np.reshape(xr2[:,0], 8)))\n",
    "x_positive2 = np.squeeze(np.asarray(np.reshape(xr2[:,1], 8)))\n",
    "\n",
    "# Third subplot vars\n",
    "\n",
    "y_negative3 = np.squeeze(np.asarray(np.reshape(yr3[:,0], 8)))\n",
    "y_positive3 = np.squeeze(np.asarray(np.reshape(yr3[:,1], 8)))\n",
    "\n",
    "x_negative3 = np.squeeze(np.asarray(np.reshape(xr3[:,0], 8)))\n",
    "x_positive3 = np.squeeze(np.asarray(np.reshape(xr3[:,1], 8)))\n",
    "\n",
    "x_positive_values = cycle([x_positive1, x_positive2, x_positive3])\n",
    "x_negative_values = cycle([x_negative1, x_negative2, x_negative3])\n",
    "y_positive_values = cycle([y_positive1, y_positive2, y_positive3])\n",
    "y_negative_values = cycle([y_negative1, y_negative2, y_negative3])\n",
    "\n",
    "x = cycle([xv1, xv2, xv3])\n",
    "y = cycle([yv1, yv2, yv3])\n",
    "\n",
    "\n",
    "for i in range (1, 4):\n",
    "    fig.add_trace(go.Scatter(\n",
    "        name=next(titles),\n",
    "        x=next(x),\n",
    "        y=next(y),\n",
    "        showlegend=False,\n",
    "        hoverinfo='x+y',\n",
    "        visible=False,\n",
    "        error_y=dict(\n",
    "            type='data', # value of error bar given in data coordinates\n",
    "            array=next(y_positive_values),\n",
    "            arrayminus=next(y_negative_values),\n",
    "            symmetric=False,\n",
    "            visible=False,\n",
    "            thickness=1),\n",
    "        error_x=dict(\n",
    "            type='data', # value of error bar given in data coordinates\n",
    "            array=next(x_positive_values),\n",
    "            arrayminus=next(x_negative_values),\n",
    "            symmetric=False,\n",
    "            visible=True,\n",
    "            thickness=2),\n",
    "        line_color=line_colour,\n",
    "        mode='markers',\n",
    "        marker_symbol='circle-open', marker_size=12, marker_line_width=2\n",
    "    ))\n",
    "    \n",
    "    \n",
    "\n",
    "\n",
    "\n",
    "\n",
    "\n",
    "    \n",
    "# Default value on the slider    \n",
    "fig.data[0].visible = True\n",
    "legend_values = cycle(['ETM - k<sub>ep,RR</sub> [min<sup>-1</sup>]',\n",
    "                       'ETM - K<sup>trans</sup><sub>RR</sub>[min<sub>-1</sub>]', \n",
    "                       'ETM - V<sub>e,RR</sub>'])\n",
    "\n",
    "# Create and add slider\n",
    "steps = []\n",
    "for i in range(len(fig.data)):\n",
    "    step = dict(\n",
    "        method=\"update\",\n",
    "        args=[{\"visible\": [False] * len(fig.data)},\n",
    "             {'title.text': next(titles)}],\n",
    "        label=next(legend_values)       \n",
    "    )\n",
    "    step[\"args\"][0][\"visible\"][i] = True  # Toggle i'th trace to \"visible\"\n",
    "    steps.append(step)\n",
    "\n",
    "sliders = [dict(\n",
    "    active=0,\n",
    "    currentvalue={\"prefix\": \"ETM - \"},\n",
    "    pad={\"t\": 70}, #upper padding \n",
    "    steps=steps\n",
    ")]\n",
    "\n",
    "fig.update_xaxes(title_text=r'$ETM$')\n",
    "fig.update_yaxes(title_text=r'$RRIFT$')\n",
    "fig.update_layout(sliders=sliders, title={'text': next(titles)})\n",
    "\n",
    "\n",
    "\n",
    "fig.show()"
   ]
  },
  {
   "cell_type": "markdown",
   "metadata": {
    "kernel": "SoS"
   },
   "source": [
    "# Figure 10"
   ]
  },
  {
   "cell_type": "code",
   "execution_count": 49,
   "metadata": {
    "kernel": "SoS"
   },
   "outputs": [
    {
     "data": {
      "application/vnd.plotly.v1+json": {
       "config": {
        "plotlyServerURL": "https://plot.ly"
       },
       "data": [
        {
         "error_y": {
          "array": [
           0,
           12.082612705610208,
           16.72889449046314,
           24.17952723848675,
           30.252874992581585,
           35.28804938278102,
           42.56962410311505,
           47.57446286876794,
           58.23312300561891,
           63.0330488511153
          ],
          "arrayminus": [
           0,
           13.130643314929825,
           19.612081616174446,
           27.140658559307475,
           36.41084023760287,
           43.69323811875878,
           51.20521995370257,
           56.40422349172199,
           61.706423277355334,
           56.2614200562377
          ],
          "symmetric": false,
          "thickness": 4,
          "type": "data",
          "width": 9
         },
         "legendgroup": "1",
         "line": {
          "color": "#585e9a"
         },
         "name": "RRIFT",
         "showlegend": false,
         "type": "scatter",
         "x": [
          4.8,
          9.599999999999998,
          14.399999999999999,
          19.2,
          23.999999999999996,
          28.8,
          33.6,
          38.4,
          43.199999999999996,
          47.99999999999999
         ],
         "xaxis": "x",
         "y": [
          0,
          -0.37495953025037504,
          -0.8323652316763509,
          2.1162611739229713,
          4.960314870621613,
          9.971645922856235,
          12.943851998515314,
          18.989097678883937,
          27.76200397110584,
          29.264791325472707
         ],
         "yaxis": "y"
        },
        {
         "error_y": {
          "array": [
           0,
           12.141741480226049,
           21.23214536301679,
           25.919377124554707,
           27.00938584450485,
           29.175526245289763,
           32.48285119601998,
           35.755467001638515,
           36.18526049457545,
           35.61334157988929
          ],
          "arrayminus": [
           0,
           16.699305204322762,
           28.509321583031188,
           35.226348913227866,
           39.428030029205374,
           42.01428514206725,
           41.95097789581704,
           40.31987188575169,
           43.546964203753326,
           45.94024295232122
          ],
          "symmetric": false,
          "thickness": 4,
          "type": "data",
          "width": 9
         },
         "legendgroup": "2",
         "line": {
          "color": "#f36a61"
         },
         "name": "ETM",
         "showlegend": false,
         "type": "scatter",
         "x": [
          4.8,
          9.599999999999998,
          14.399999999999999,
          19.2,
          23.999999999999996,
          28.8,
          33.6,
          38.4,
          43.199999999999996,
          47.99999999999999
         ],
         "xaxis": "x",
         "y": [
          0,
          -1.159679051420091,
          -8.626703527755227,
          -18.67217232995412,
          -26.456233622668965,
          -30.914261557994863,
          -35.42114139753894,
          -37.45534577856231,
          -36.78580003812288,
          -36.1849408070786
         ],
         "yaxis": "y"
        },
        {
         "error_y": {
          "array": [
           0,
           9.240656710081076,
           12.550591922477892,
           16.256971881492582,
           17.506005563119814,
           21.24452424843113,
           23.393764475700838,
           24.162259107116597,
           27.661973740184692,
           26.88994128173573
          ],
          "arrayminus": [
           0,
           12.334142867364696,
           20.196123095628632,
           30.088804341225497,
           37.87495405675675,
           45.04640710507718,
           52.555318976747095,
           55.13494242037391,
           57.56122521021828,
           53.19514978318078
          ],
          "symmetric": false,
          "thickness": 4,
          "type": "data",
          "width": 9
         },
         "legendgroup": "1",
         "line": {
          "color": "#585e9a"
         },
         "name": "RRIFT",
         "showlegend": true,
         "type": "scatter",
         "x": [
          4.8,
          9.599999999999998,
          14.399999999999999,
          19.2,
          23.999999999999996,
          28.8,
          33.6,
          38.4,
          43.199999999999996,
          47.99999999999999
         ],
         "xaxis": "x2",
         "y": [
          0,
          -0.42961894703182835,
          -0.05395816686148715,
          -1.8344921442578368,
          -2.898250571773643,
          -0.8329506123736197,
          -0.5988278497852895,
          -0.9426369923668771,
          -0.20110423962643095,
          -1.164834798529851
         ],
         "yaxis": "y2"
        },
        {
         "error_y": {
          "array": [
           0,
           9.813219643903471,
           16.443181912056982,
           21.588740609916968,
           28.619936872257536,
           30.93544051420991,
           34.592884550861655,
           34.50688784409648,
           36.03607575593547,
           36.99726996442911
          ],
          "arrayminus": [
           0,
           15.73803925422463,
           30.948678271620405,
           55.52882556641883,
           74.4007507653599,
           83.06367894314269,
           84.22029222403758,
           83.09794163835087,
           81.24752943099645,
           79.7079216650715
          ],
          "symmetric": false,
          "thickness": 4,
          "type": "data",
          "width": 9
         },
         "legendgroup": "2",
         "line": {
          "color": "#f36a61"
         },
         "name": "ETM",
         "showlegend": true,
         "type": "scatter",
         "x": [
          4.8,
          9.599999999999998,
          14.399999999999999,
          19.2,
          23.999999999999996,
          28.8,
          33.6,
          38.4,
          43.199999999999996,
          47.99999999999999
         ],
         "xaxis": "x2",
         "y": [
          0,
          -0.6920881517142992,
          -0.8737979395472355,
          -2.0629599388629227,
          -5.547324763036069,
          -8.49633446657643,
          -13.612657796043923,
          -17.660727241170697,
          -21.186601665756363,
          -23.349226377032473
         ],
         "yaxis": "y2"
        },
        {
         "error_y": {
          "array": [
           0,
           19.550250276544233,
           28.18352301862517,
           41.34233208904911,
           55.9670821966514,
           69.29421174445399,
           79.52286448616505,
           81.79549336952908,
           81.87885377311036,
           74.83355795534455
          ],
          "arrayminus": [
           0,
           20.994297625693534,
           30.277610300895674,
           47.97815471700577,
           59.338910376831464,
           62.92985413014087,
           66.72035268931816,
           66.0830256202812,
           64.198623258161,
           57.49441771064462
          ],
          "symmetric": false,
          "thickness": 4,
          "type": "data",
          "width": 9
         },
         "legendgroup": "1",
         "line": {
          "color": "#585e9a"
         },
         "name": "RRIFT",
         "showlegend": false,
         "type": "scatter",
         "x": [
          4.8,
          9.599999999999998,
          14.399999999999999,
          19.2,
          23.999999999999996,
          28.8,
          33.6,
          38.4,
          43.199999999999996,
          47.99999999999999
         ],
         "xaxis": "x3",
         "y": [
          0,
          -3.373414331210095,
          -7.487227837792736,
          -7.746570667569988,
          -11.902439174335568,
          -17.53005942752752,
          -24.818964527368863,
          -31.953746543357788,
          -35.801376741839,
          -42.50558228935538
         ],
         "yaxis": "y3"
        },
        {
         "error_y": {
          "array": [
           0,
           18.90375765002312,
           47.26767371317368,
           79.34397833042482,
           100.59859446196897,
           102.4049191192913,
           104.59173352700128,
           105.24506520413314,
           106.69687554969101,
           107.65752323261565
          ],
          "arrayminus": [
           0,
           16.19309037206184,
           28.001303733520192,
           41.39622324641445,
           54.06078287462502,
           65.41923847349419,
           76.4448077724844,
           81.88647520431554,
           78.3776534095734,
           78.90584315865105
          ],
          "symmetric": false,
          "thickness": 4,
          "type": "data",
          "width": 9
         },
         "legendgroup": "2",
         "line": {
          "color": "#f36a61"
         },
         "name": "ETM",
         "showlegend": false,
         "type": "scatter",
         "x": [
          4.8,
          9.599999999999998,
          14.399999999999999,
          19.2,
          23.999999999999996,
          28.8,
          33.6,
          38.4,
          43.199999999999996,
          47.99999999999999
         ],
         "xaxis": "x3",
         "y": [
          0,
          -0.8489768503126828,
          -2.423603780189649,
          3.5858655644518636,
          12.137853940080022,
          19.382719555155756,
          29.943331752896707,
          38.91995362466707,
          45.75874729937294,
          53.89966241260042
         ],
         "yaxis": "y3"
        }
       ],
       "layout": {
        "annotations": [
         {
          "font": {
           "size": 16
          },
          "showarrow": false,
          "text": "$K^{trans}$",
          "x": 0.14444444444444446,
          "xanchor": "center",
          "xref": "paper",
          "y": 1,
          "yanchor": "bottom",
          "yref": "paper"
         },
         {
          "font": {
           "size": 16
          },
          "showarrow": false,
          "text": "$V_e$",
          "x": 0.5,
          "xanchor": "center",
          "xref": "paper",
          "y": 1,
          "yanchor": "bottom",
          "yref": "paper"
         },
         {
          "font": {
           "size": 16
          },
          "showarrow": false,
          "text": "$V_p$",
          "x": 0.8555555555555556,
          "xanchor": "center",
          "xref": "paper",
          "y": 1,
          "yanchor": "bottom",
          "yref": "paper"
         }
        ],
        "shapes": [
         {
          "line": {
           "color": "black",
           "dash": "dot",
           "width": 1.69
          },
          "type": "line",
          "x0": 0,
          "x1": 1,
          "xref": "x domain",
          "y0": 0,
          "y1": 0,
          "yref": "y"
         },
         {
          "line": {
           "color": "black",
           "dash": "dot",
           "width": 1.69
          },
          "type": "line",
          "x0": 0,
          "x1": 1,
          "xref": "x2 domain",
          "y0": 0,
          "y1": 0,
          "yref": "y2"
         },
         {
          "line": {
           "color": "black",
           "dash": "dot",
           "width": 1.69
          },
          "type": "line",
          "x0": 0,
          "x1": 1,
          "xref": "x3 domain",
          "y0": 0,
          "y1": 0,
          "yref": "y3"
         }
        ],
        "template": {
         "data": {
          "bar": [
           {
            "error_x": {
             "color": "#2a3f5f"
            },
            "error_y": {
             "color": "#2a3f5f"
            },
            "marker": {
             "line": {
              "color": "#E5ECF6",
              "width": 0.5
             }
            },
            "type": "bar"
           }
          ],
          "barpolar": [
           {
            "marker": {
             "line": {
              "color": "#E5ECF6",
              "width": 0.5
             }
            },
            "type": "barpolar"
           }
          ],
          "carpet": [
           {
            "aaxis": {
             "endlinecolor": "#2a3f5f",
             "gridcolor": "white",
             "linecolor": "white",
             "minorgridcolor": "white",
             "startlinecolor": "#2a3f5f"
            },
            "baxis": {
             "endlinecolor": "#2a3f5f",
             "gridcolor": "white",
             "linecolor": "white",
             "minorgridcolor": "white",
             "startlinecolor": "#2a3f5f"
            },
            "type": "carpet"
           }
          ],
          "choropleth": [
           {
            "colorbar": {
             "outlinewidth": 0,
             "ticks": ""
            },
            "type": "choropleth"
           }
          ],
          "contour": [
           {
            "colorbar": {
             "outlinewidth": 0,
             "ticks": ""
            },
            "colorscale": [
             [
              0,
              "#0d0887"
             ],
             [
              0.1111111111111111,
              "#46039f"
             ],
             [
              0.2222222222222222,
              "#7201a8"
             ],
             [
              0.3333333333333333,
              "#9c179e"
             ],
             [
              0.4444444444444444,
              "#bd3786"
             ],
             [
              0.5555555555555556,
              "#d8576b"
             ],
             [
              0.6666666666666666,
              "#ed7953"
             ],
             [
              0.7777777777777778,
              "#fb9f3a"
             ],
             [
              0.8888888888888888,
              "#fdca26"
             ],
             [
              1,
              "#f0f921"
             ]
            ],
            "type": "contour"
           }
          ],
          "contourcarpet": [
           {
            "colorbar": {
             "outlinewidth": 0,
             "ticks": ""
            },
            "type": "contourcarpet"
           }
          ],
          "heatmap": [
           {
            "colorbar": {
             "outlinewidth": 0,
             "ticks": ""
            },
            "colorscale": [
             [
              0,
              "#0d0887"
             ],
             [
              0.1111111111111111,
              "#46039f"
             ],
             [
              0.2222222222222222,
              "#7201a8"
             ],
             [
              0.3333333333333333,
              "#9c179e"
             ],
             [
              0.4444444444444444,
              "#bd3786"
             ],
             [
              0.5555555555555556,
              "#d8576b"
             ],
             [
              0.6666666666666666,
              "#ed7953"
             ],
             [
              0.7777777777777778,
              "#fb9f3a"
             ],
             [
              0.8888888888888888,
              "#fdca26"
             ],
             [
              1,
              "#f0f921"
             ]
            ],
            "type": "heatmap"
           }
          ],
          "heatmapgl": [
           {
            "colorbar": {
             "outlinewidth": 0,
             "ticks": ""
            },
            "colorscale": [
             [
              0,
              "#0d0887"
             ],
             [
              0.1111111111111111,
              "#46039f"
             ],
             [
              0.2222222222222222,
              "#7201a8"
             ],
             [
              0.3333333333333333,
              "#9c179e"
             ],
             [
              0.4444444444444444,
              "#bd3786"
             ],
             [
              0.5555555555555556,
              "#d8576b"
             ],
             [
              0.6666666666666666,
              "#ed7953"
             ],
             [
              0.7777777777777778,
              "#fb9f3a"
             ],
             [
              0.8888888888888888,
              "#fdca26"
             ],
             [
              1,
              "#f0f921"
             ]
            ],
            "type": "heatmapgl"
           }
          ],
          "histogram": [
           {
            "marker": {
             "colorbar": {
              "outlinewidth": 0,
              "ticks": ""
             }
            },
            "type": "histogram"
           }
          ],
          "histogram2d": [
           {
            "colorbar": {
             "outlinewidth": 0,
             "ticks": ""
            },
            "colorscale": [
             [
              0,
              "#0d0887"
             ],
             [
              0.1111111111111111,
              "#46039f"
             ],
             [
              0.2222222222222222,
              "#7201a8"
             ],
             [
              0.3333333333333333,
              "#9c179e"
             ],
             [
              0.4444444444444444,
              "#bd3786"
             ],
             [
              0.5555555555555556,
              "#d8576b"
             ],
             [
              0.6666666666666666,
              "#ed7953"
             ],
             [
              0.7777777777777778,
              "#fb9f3a"
             ],
             [
              0.8888888888888888,
              "#fdca26"
             ],
             [
              1,
              "#f0f921"
             ]
            ],
            "type": "histogram2d"
           }
          ],
          "histogram2dcontour": [
           {
            "colorbar": {
             "outlinewidth": 0,
             "ticks": ""
            },
            "colorscale": [
             [
              0,
              "#0d0887"
             ],
             [
              0.1111111111111111,
              "#46039f"
             ],
             [
              0.2222222222222222,
              "#7201a8"
             ],
             [
              0.3333333333333333,
              "#9c179e"
             ],
             [
              0.4444444444444444,
              "#bd3786"
             ],
             [
              0.5555555555555556,
              "#d8576b"
             ],
             [
              0.6666666666666666,
              "#ed7953"
             ],
             [
              0.7777777777777778,
              "#fb9f3a"
             ],
             [
              0.8888888888888888,
              "#fdca26"
             ],
             [
              1,
              "#f0f921"
             ]
            ],
            "type": "histogram2dcontour"
           }
          ],
          "mesh3d": [
           {
            "colorbar": {
             "outlinewidth": 0,
             "ticks": ""
            },
            "type": "mesh3d"
           }
          ],
          "parcoords": [
           {
            "line": {
             "colorbar": {
              "outlinewidth": 0,
              "ticks": ""
             }
            },
            "type": "parcoords"
           }
          ],
          "pie": [
           {
            "automargin": true,
            "type": "pie"
           }
          ],
          "scatter": [
           {
            "marker": {
             "colorbar": {
              "outlinewidth": 0,
              "ticks": ""
             }
            },
            "type": "scatter"
           }
          ],
          "scatter3d": [
           {
            "line": {
             "colorbar": {
              "outlinewidth": 0,
              "ticks": ""
             }
            },
            "marker": {
             "colorbar": {
              "outlinewidth": 0,
              "ticks": ""
             }
            },
            "type": "scatter3d"
           }
          ],
          "scattercarpet": [
           {
            "marker": {
             "colorbar": {
              "outlinewidth": 0,
              "ticks": ""
             }
            },
            "type": "scattercarpet"
           }
          ],
          "scattergeo": [
           {
            "marker": {
             "colorbar": {
              "outlinewidth": 0,
              "ticks": ""
             }
            },
            "type": "scattergeo"
           }
          ],
          "scattergl": [
           {
            "marker": {
             "colorbar": {
              "outlinewidth": 0,
              "ticks": ""
             }
            },
            "type": "scattergl"
           }
          ],
          "scattermapbox": [
           {
            "marker": {
             "colorbar": {
              "outlinewidth": 0,
              "ticks": ""
             }
            },
            "type": "scattermapbox"
           }
          ],
          "scatterpolar": [
           {
            "marker": {
             "colorbar": {
              "outlinewidth": 0,
              "ticks": ""
             }
            },
            "type": "scatterpolar"
           }
          ],
          "scatterpolargl": [
           {
            "marker": {
             "colorbar": {
              "outlinewidth": 0,
              "ticks": ""
             }
            },
            "type": "scatterpolargl"
           }
          ],
          "scatterternary": [
           {
            "marker": {
             "colorbar": {
              "outlinewidth": 0,
              "ticks": ""
             }
            },
            "type": "scatterternary"
           }
          ],
          "surface": [
           {
            "colorbar": {
             "outlinewidth": 0,
             "ticks": ""
            },
            "colorscale": [
             [
              0,
              "#0d0887"
             ],
             [
              0.1111111111111111,
              "#46039f"
             ],
             [
              0.2222222222222222,
              "#7201a8"
             ],
             [
              0.3333333333333333,
              "#9c179e"
             ],
             [
              0.4444444444444444,
              "#bd3786"
             ],
             [
              0.5555555555555556,
              "#d8576b"
             ],
             [
              0.6666666666666666,
              "#ed7953"
             ],
             [
              0.7777777777777778,
              "#fb9f3a"
             ],
             [
              0.8888888888888888,
              "#fdca26"
             ],
             [
              1,
              "#f0f921"
             ]
            ],
            "type": "surface"
           }
          ],
          "table": [
           {
            "cells": {
             "fill": {
              "color": "#EBF0F8"
             },
             "line": {
              "color": "white"
             }
            },
            "header": {
             "fill": {
              "color": "#C8D4E3"
             },
             "line": {
              "color": "white"
             }
            },
            "type": "table"
           }
          ]
         },
         "layout": {
          "annotationdefaults": {
           "arrowcolor": "#2a3f5f",
           "arrowhead": 0,
           "arrowwidth": 1
          },
          "autotypenumbers": "strict",
          "coloraxis": {
           "colorbar": {
            "outlinewidth": 0,
            "ticks": ""
           }
          },
          "colorscale": {
           "diverging": [
            [
             0,
             "#8e0152"
            ],
            [
             0.1,
             "#c51b7d"
            ],
            [
             0.2,
             "#de77ae"
            ],
            [
             0.3,
             "#f1b6da"
            ],
            [
             0.4,
             "#fde0ef"
            ],
            [
             0.5,
             "#f7f7f7"
            ],
            [
             0.6,
             "#e6f5d0"
            ],
            [
             0.7,
             "#b8e186"
            ],
            [
             0.8,
             "#7fbc41"
            ],
            [
             0.9,
             "#4d9221"
            ],
            [
             1,
             "#276419"
            ]
           ],
           "sequential": [
            [
             0,
             "#0d0887"
            ],
            [
             0.1111111111111111,
             "#46039f"
            ],
            [
             0.2222222222222222,
             "#7201a8"
            ],
            [
             0.3333333333333333,
             "#9c179e"
            ],
            [
             0.4444444444444444,
             "#bd3786"
            ],
            [
             0.5555555555555556,
             "#d8576b"
            ],
            [
             0.6666666666666666,
             "#ed7953"
            ],
            [
             0.7777777777777778,
             "#fb9f3a"
            ],
            [
             0.8888888888888888,
             "#fdca26"
            ],
            [
             1,
             "#f0f921"
            ]
           ],
           "sequentialminus": [
            [
             0,
             "#0d0887"
            ],
            [
             0.1111111111111111,
             "#46039f"
            ],
            [
             0.2222222222222222,
             "#7201a8"
            ],
            [
             0.3333333333333333,
             "#9c179e"
            ],
            [
             0.4444444444444444,
             "#bd3786"
            ],
            [
             0.5555555555555556,
             "#d8576b"
            ],
            [
             0.6666666666666666,
             "#ed7953"
            ],
            [
             0.7777777777777778,
             "#fb9f3a"
            ],
            [
             0.8888888888888888,
             "#fdca26"
            ],
            [
             1,
             "#f0f921"
            ]
           ]
          },
          "colorway": [
           "#636efa",
           "#EF553B",
           "#00cc96",
           "#ab63fa",
           "#FFA15A",
           "#19d3f3",
           "#FF6692",
           "#B6E880",
           "#FF97FF",
           "#FECB52"
          ],
          "font": {
           "color": "#2a3f5f"
          },
          "geo": {
           "bgcolor": "white",
           "lakecolor": "white",
           "landcolor": "#E5ECF6",
           "showlakes": true,
           "showland": true,
           "subunitcolor": "white"
          },
          "hoverlabel": {
           "align": "left"
          },
          "hovermode": "closest",
          "mapbox": {
           "style": "light"
          },
          "paper_bgcolor": "white",
          "plot_bgcolor": "#E5ECF6",
          "polar": {
           "angularaxis": {
            "gridcolor": "white",
            "linecolor": "white",
            "ticks": ""
           },
           "bgcolor": "#E5ECF6",
           "radialaxis": {
            "gridcolor": "white",
            "linecolor": "white",
            "ticks": ""
           }
          },
          "scene": {
           "xaxis": {
            "backgroundcolor": "#E5ECF6",
            "gridcolor": "white",
            "gridwidth": 2,
            "linecolor": "white",
            "showbackground": true,
            "ticks": "",
            "zerolinecolor": "white"
           },
           "yaxis": {
            "backgroundcolor": "#E5ECF6",
            "gridcolor": "white",
            "gridwidth": 2,
            "linecolor": "white",
            "showbackground": true,
            "ticks": "",
            "zerolinecolor": "white"
           },
           "zaxis": {
            "backgroundcolor": "#E5ECF6",
            "gridcolor": "white",
            "gridwidth": 2,
            "linecolor": "white",
            "showbackground": true,
            "ticks": "",
            "zerolinecolor": "white"
           }
          },
          "shapedefaults": {
           "line": {
            "color": "#2a3f5f"
           }
          },
          "ternary": {
           "aaxis": {
            "gridcolor": "white",
            "linecolor": "white",
            "ticks": ""
           },
           "baxis": {
            "gridcolor": "white",
            "linecolor": "white",
            "ticks": ""
           },
           "bgcolor": "#E5ECF6",
           "caxis": {
            "gridcolor": "white",
            "linecolor": "white",
            "ticks": ""
           }
          },
          "title": {
           "x": 0.05
          },
          "xaxis": {
           "automargin": true,
           "gridcolor": "white",
           "linecolor": "white",
           "ticks": "",
           "title": {
            "standoff": 15
           },
           "zerolinecolor": "white",
           "zerolinewidth": 2
          },
          "yaxis": {
           "automargin": true,
           "gridcolor": "white",
           "linecolor": "white",
           "ticks": "",
           "title": {
            "standoff": 15
           },
           "zerolinecolor": "white",
           "zerolinewidth": 2
          }
         }
        },
        "xaxis": {
         "anchor": "y",
         "domain": [
          0,
          0.2888888888888889
         ],
         "range": [
          0,
          50
         ],
         "tickvals": [
          0,
          10,
          20,
          30,
          40,
          50
         ],
         "title": {
          "text": "$Temporal\\: Resolutions\\: [s]$"
         }
        },
        "xaxis2": {
         "anchor": "y2",
         "domain": [
          0.35555555555555557,
          0.6444444444444445
         ],
         "range": [
          0,
          50
         ],
         "tickvals": [
          0,
          10,
          20,
          30,
          40,
          50
         ],
         "title": {
          "text": "$Temporal\\: Resolutions\\: [s]$"
         }
        },
        "xaxis3": {
         "anchor": "y3",
         "domain": [
          0.7111111111111111,
          1
         ],
         "range": [
          0,
          50
         ],
         "tickvals": [
          0,
          10,
          20,
          30,
          40,
          50
         ],
         "title": {
          "text": "$Temporal\\: Resolutions\\: [s]$"
         }
        },
        "yaxis": {
         "anchor": "x",
         "domain": [
          0,
          1
         ],
         "range": [
          -100,
          100
         ],
         "tickvals": [
          -100,
          -80,
          -60,
          -40,
          -20,
          0,
          20,
          40,
          60,
          80,
          100
         ],
         "title": {
          "text": "$Percent\\: Change$"
         }
        },
        "yaxis2": {
         "anchor": "x2",
         "domain": [
          0,
          1
         ],
         "range": [
          -100,
          100
         ],
         "tickvals": [
          -100,
          -80,
          -60,
          -40,
          -20,
          0,
          20,
          40,
          60,
          80,
          100
         ],
         "title": {
          "text": "$Percent\\: Change$"
         }
        },
        "yaxis3": {
         "anchor": "x3",
         "domain": [
          0,
          1
         ],
         "range": [
          -100,
          100
         ],
         "tickvals": [
          -100,
          -80,
          -60,
          -40,
          -20,
          0,
          20,
          40,
          60,
          80,
          100
         ],
         "title": {
          "text": "$Percent\\: Change$"
         }
        }
       }
      },
      "text/html": [
       "<div>                            <div id=\"d5d9028b-20bf-4e80-b1d7-9bab94772459\" class=\"plotly-graph-div\" style=\"height:525px; width:100%;\"></div>            <script type=\"text/javascript\">                require([\"plotly\"], function(Plotly) {                    window.PLOTLYENV=window.PLOTLYENV || {};                                    if (document.getElementById(\"d5d9028b-20bf-4e80-b1d7-9bab94772459\")) {                    Plotly.newPlot(                        \"d5d9028b-20bf-4e80-b1d7-9bab94772459\",                        [{\"error_y\": {\"array\": [0.0, 12.082612705610208, 16.72889449046314, 24.17952723848675, 30.252874992581585, 35.28804938278102, 42.56962410311505, 47.57446286876794, 58.23312300561891, 63.0330488511153], \"arrayminus\": [0.0, 13.130643314929825, 19.612081616174446, 27.140658559307475, 36.41084023760287, 43.69323811875878, 51.20521995370257, 56.40422349172199, 61.706423277355334, 56.2614200562377], \"symmetric\": false, \"thickness\": 4, \"type\": \"data\", \"width\": 9}, \"legendgroup\": \"1\", \"line\": {\"color\": \"#585e9a\"}, \"name\": \"RRIFT\", \"showlegend\": false, \"type\": \"scatter\", \"x\": [4.8, 9.599999999999998, 14.399999999999999, 19.2, 23.999999999999996, 28.8, 33.6, 38.4, 43.199999999999996, 47.99999999999999], \"xaxis\": \"x\", \"y\": [0.0, -0.37495953025037504, -0.8323652316763509, 2.1162611739229713, 4.960314870621613, 9.971645922856235, 12.943851998515314, 18.989097678883937, 27.76200397110584, 29.264791325472707], \"yaxis\": \"y\"}, {\"error_y\": {\"array\": [0.0, 12.141741480226049, 21.23214536301679, 25.919377124554707, 27.00938584450485, 29.175526245289763, 32.48285119601998, 35.755467001638515, 36.18526049457545, 35.61334157988929], \"arrayminus\": [0.0, 16.699305204322762, 28.509321583031188, 35.226348913227866, 39.428030029205374, 42.01428514206725, 41.95097789581704, 40.31987188575169, 43.546964203753326, 45.94024295232122], \"symmetric\": false, \"thickness\": 4, \"type\": \"data\", \"width\": 9}, \"legendgroup\": \"2\", \"line\": {\"color\": \"#f36a61\"}, \"name\": \"ETM\", \"showlegend\": false, \"type\": \"scatter\", \"x\": [4.8, 9.599999999999998, 14.399999999999999, 19.2, 23.999999999999996, 28.8, 33.6, 38.4, 43.199999999999996, 47.99999999999999], \"xaxis\": \"x\", \"y\": [0.0, -1.159679051420091, -8.626703527755227, -18.67217232995412, -26.456233622668965, -30.914261557994863, -35.42114139753894, -37.45534577856231, -36.78580003812288, -36.1849408070786], \"yaxis\": \"y\"}, {\"error_y\": {\"array\": [0.0, 9.240656710081076, 12.550591922477892, 16.256971881492582, 17.506005563119814, 21.24452424843113, 23.393764475700838, 24.162259107116597, 27.661973740184692, 26.88994128173573], \"arrayminus\": [0.0, 12.334142867364696, 20.196123095628632, 30.088804341225497, 37.87495405675675, 45.04640710507718, 52.555318976747095, 55.13494242037391, 57.56122521021828, 53.19514978318078], \"symmetric\": false, \"thickness\": 4, \"type\": \"data\", \"width\": 9}, \"legendgroup\": \"1\", \"line\": {\"color\": \"#585e9a\"}, \"name\": \"RRIFT\", \"showlegend\": true, \"type\": \"scatter\", \"x\": [4.8, 9.599999999999998, 14.399999999999999, 19.2, 23.999999999999996, 28.8, 33.6, 38.4, 43.199999999999996, 47.99999999999999], \"xaxis\": \"x2\", \"y\": [0.0, -0.42961894703182835, -0.05395816686148715, -1.8344921442578368, -2.898250571773643, -0.8329506123736197, -0.5988278497852895, -0.9426369923668771, -0.20110423962643095, -1.164834798529851], \"yaxis\": \"y2\"}, {\"error_y\": {\"array\": [0.0, 9.813219643903471, 16.443181912056982, 21.588740609916968, 28.619936872257536, 30.93544051420991, 34.592884550861655, 34.50688784409648, 36.03607575593547, 36.99726996442911], \"arrayminus\": [0.0, 15.73803925422463, 30.948678271620405, 55.52882556641883, 74.4007507653599, 83.06367894314269, 84.22029222403758, 83.09794163835087, 81.24752943099645, 79.7079216650715], \"symmetric\": false, \"thickness\": 4, \"type\": \"data\", \"width\": 9}, \"legendgroup\": \"2\", \"line\": {\"color\": \"#f36a61\"}, \"name\": \"ETM\", \"showlegend\": true, \"type\": \"scatter\", \"x\": [4.8, 9.599999999999998, 14.399999999999999, 19.2, 23.999999999999996, 28.8, 33.6, 38.4, 43.199999999999996, 47.99999999999999], \"xaxis\": \"x2\", \"y\": [0.0, -0.6920881517142992, -0.8737979395472355, -2.0629599388629227, -5.547324763036069, -8.49633446657643, -13.612657796043923, -17.660727241170697, -21.186601665756363, -23.349226377032473], \"yaxis\": \"y2\"}, {\"error_y\": {\"array\": [0.0, 19.550250276544233, 28.18352301862517, 41.34233208904911, 55.9670821966514, 69.29421174445399, 79.52286448616505, 81.79549336952908, 81.87885377311036, 74.83355795534455], \"arrayminus\": [0.0, 20.994297625693534, 30.277610300895674, 47.97815471700577, 59.338910376831464, 62.92985413014087, 66.72035268931816, 66.0830256202812, 64.198623258161, 57.49441771064462], \"symmetric\": false, \"thickness\": 4, \"type\": \"data\", \"width\": 9}, \"legendgroup\": \"1\", \"line\": {\"color\": \"#585e9a\"}, \"name\": \"RRIFT\", \"showlegend\": false, \"type\": \"scatter\", \"x\": [4.8, 9.599999999999998, 14.399999999999999, 19.2, 23.999999999999996, 28.8, 33.6, 38.4, 43.199999999999996, 47.99999999999999], \"xaxis\": \"x3\", \"y\": [0.0, -3.373414331210095, -7.487227837792736, -7.746570667569988, -11.902439174335568, -17.53005942752752, -24.818964527368863, -31.953746543357788, -35.801376741839, -42.50558228935538], \"yaxis\": \"y3\"}, {\"error_y\": {\"array\": [0.0, 18.90375765002312, 47.26767371317368, 79.34397833042482, 100.59859446196897, 102.4049191192913, 104.59173352700128, 105.24506520413314, 106.69687554969101, 107.65752323261565], \"arrayminus\": [0.0, 16.19309037206184, 28.001303733520192, 41.39622324641445, 54.06078287462502, 65.41923847349419, 76.4448077724844, 81.88647520431554, 78.3776534095734, 78.90584315865105], \"symmetric\": false, \"thickness\": 4, \"type\": \"data\", \"width\": 9}, \"legendgroup\": \"2\", \"line\": {\"color\": \"#f36a61\"}, \"name\": \"ETM\", \"showlegend\": false, \"type\": \"scatter\", \"x\": [4.8, 9.599999999999998, 14.399999999999999, 19.2, 23.999999999999996, 28.8, 33.6, 38.4, 43.199999999999996, 47.99999999999999], \"xaxis\": \"x3\", \"y\": [0.0, -0.8489768503126828, -2.423603780189649, 3.5858655644518636, 12.137853940080022, 19.382719555155756, 29.943331752896707, 38.91995362466707, 45.75874729937294, 53.89966241260042], \"yaxis\": \"y3\"}],                        {\"annotations\": [{\"font\": {\"size\": 16}, \"showarrow\": false, \"text\": \"$K^{trans}$\", \"x\": 0.14444444444444446, \"xanchor\": \"center\", \"xref\": \"paper\", \"y\": 1.0, \"yanchor\": \"bottom\", \"yref\": \"paper\"}, {\"font\": {\"size\": 16}, \"showarrow\": false, \"text\": \"$V_e$\", \"x\": 0.5, \"xanchor\": \"center\", \"xref\": \"paper\", \"y\": 1.0, \"yanchor\": \"bottom\", \"yref\": \"paper\"}, {\"font\": {\"size\": 16}, \"showarrow\": false, \"text\": \"$V_p$\", \"x\": 0.8555555555555556, \"xanchor\": \"center\", \"xref\": \"paper\", \"y\": 1.0, \"yanchor\": \"bottom\", \"yref\": \"paper\"}], \"shapes\": [{\"line\": {\"color\": \"black\", \"dash\": \"dot\", \"width\": 1.69}, \"type\": \"line\", \"x0\": 0, \"x1\": 1, \"xref\": \"x domain\", \"y0\": 0, \"y1\": 0, \"yref\": \"y\"}, {\"line\": {\"color\": \"black\", \"dash\": \"dot\", \"width\": 1.69}, \"type\": \"line\", \"x0\": 0, \"x1\": 1, \"xref\": \"x2 domain\", \"y0\": 0, \"y1\": 0, \"yref\": \"y2\"}, {\"line\": {\"color\": \"black\", \"dash\": \"dot\", \"width\": 1.69}, \"type\": \"line\", \"x0\": 0, \"x1\": 1, \"xref\": \"x3 domain\", \"y0\": 0, \"y1\": 0, \"yref\": \"y3\"}], \"template\": {\"data\": {\"bar\": [{\"error_x\": {\"color\": \"#2a3f5f\"}, \"error_y\": {\"color\": \"#2a3f5f\"}, \"marker\": {\"line\": {\"color\": \"#E5ECF6\", \"width\": 0.5}}, \"type\": \"bar\"}], \"barpolar\": [{\"marker\": {\"line\": {\"color\": \"#E5ECF6\", \"width\": 0.5}}, \"type\": \"barpolar\"}], \"carpet\": [{\"aaxis\": {\"endlinecolor\": \"#2a3f5f\", \"gridcolor\": \"white\", \"linecolor\": \"white\", \"minorgridcolor\": \"white\", \"startlinecolor\": \"#2a3f5f\"}, \"baxis\": {\"endlinecolor\": \"#2a3f5f\", \"gridcolor\": \"white\", \"linecolor\": \"white\", \"minorgridcolor\": \"white\", \"startlinecolor\": \"#2a3f5f\"}, \"type\": \"carpet\"}], \"choropleth\": [{\"colorbar\": {\"outlinewidth\": 0, \"ticks\": \"\"}, \"type\": \"choropleth\"}], \"contour\": [{\"colorbar\": {\"outlinewidth\": 0, \"ticks\": \"\"}, \"colorscale\": [[0.0, \"#0d0887\"], [0.1111111111111111, \"#46039f\"], [0.2222222222222222, \"#7201a8\"], [0.3333333333333333, \"#9c179e\"], [0.4444444444444444, \"#bd3786\"], [0.5555555555555556, \"#d8576b\"], [0.6666666666666666, \"#ed7953\"], [0.7777777777777778, \"#fb9f3a\"], [0.8888888888888888, \"#fdca26\"], [1.0, \"#f0f921\"]], \"type\": \"contour\"}], \"contourcarpet\": [{\"colorbar\": {\"outlinewidth\": 0, \"ticks\": \"\"}, \"type\": \"contourcarpet\"}], \"heatmap\": [{\"colorbar\": {\"outlinewidth\": 0, \"ticks\": \"\"}, \"colorscale\": [[0.0, \"#0d0887\"], [0.1111111111111111, \"#46039f\"], [0.2222222222222222, \"#7201a8\"], [0.3333333333333333, \"#9c179e\"], [0.4444444444444444, \"#bd3786\"], [0.5555555555555556, \"#d8576b\"], [0.6666666666666666, \"#ed7953\"], [0.7777777777777778, \"#fb9f3a\"], [0.8888888888888888, \"#fdca26\"], [1.0, \"#f0f921\"]], \"type\": \"heatmap\"}], \"heatmapgl\": [{\"colorbar\": {\"outlinewidth\": 0, \"ticks\": \"\"}, \"colorscale\": [[0.0, \"#0d0887\"], [0.1111111111111111, \"#46039f\"], [0.2222222222222222, \"#7201a8\"], [0.3333333333333333, \"#9c179e\"], [0.4444444444444444, \"#bd3786\"], [0.5555555555555556, \"#d8576b\"], [0.6666666666666666, \"#ed7953\"], [0.7777777777777778, \"#fb9f3a\"], [0.8888888888888888, \"#fdca26\"], [1.0, \"#f0f921\"]], \"type\": \"heatmapgl\"}], \"histogram\": [{\"marker\": {\"colorbar\": {\"outlinewidth\": 0, \"ticks\": \"\"}}, \"type\": \"histogram\"}], \"histogram2d\": [{\"colorbar\": {\"outlinewidth\": 0, \"ticks\": \"\"}, \"colorscale\": [[0.0, \"#0d0887\"], [0.1111111111111111, \"#46039f\"], [0.2222222222222222, \"#7201a8\"], [0.3333333333333333, \"#9c179e\"], [0.4444444444444444, \"#bd3786\"], [0.5555555555555556, \"#d8576b\"], [0.6666666666666666, \"#ed7953\"], [0.7777777777777778, \"#fb9f3a\"], [0.8888888888888888, \"#fdca26\"], [1.0, \"#f0f921\"]], \"type\": \"histogram2d\"}], \"histogram2dcontour\": [{\"colorbar\": {\"outlinewidth\": 0, \"ticks\": \"\"}, \"colorscale\": [[0.0, \"#0d0887\"], [0.1111111111111111, \"#46039f\"], [0.2222222222222222, \"#7201a8\"], [0.3333333333333333, \"#9c179e\"], [0.4444444444444444, \"#bd3786\"], [0.5555555555555556, \"#d8576b\"], [0.6666666666666666, \"#ed7953\"], [0.7777777777777778, \"#fb9f3a\"], [0.8888888888888888, \"#fdca26\"], [1.0, \"#f0f921\"]], \"type\": \"histogram2dcontour\"}], \"mesh3d\": [{\"colorbar\": {\"outlinewidth\": 0, \"ticks\": \"\"}, \"type\": \"mesh3d\"}], \"parcoords\": [{\"line\": {\"colorbar\": {\"outlinewidth\": 0, \"ticks\": \"\"}}, \"type\": \"parcoords\"}], \"pie\": [{\"automargin\": true, \"type\": \"pie\"}], \"scatter\": [{\"marker\": {\"colorbar\": {\"outlinewidth\": 0, \"ticks\": \"\"}}, \"type\": \"scatter\"}], \"scatter3d\": [{\"line\": {\"colorbar\": {\"outlinewidth\": 0, \"ticks\": \"\"}}, \"marker\": {\"colorbar\": {\"outlinewidth\": 0, \"ticks\": \"\"}}, \"type\": \"scatter3d\"}], \"scattercarpet\": [{\"marker\": {\"colorbar\": {\"outlinewidth\": 0, \"ticks\": \"\"}}, \"type\": \"scattercarpet\"}], \"scattergeo\": [{\"marker\": {\"colorbar\": {\"outlinewidth\": 0, \"ticks\": \"\"}}, \"type\": \"scattergeo\"}], \"scattergl\": [{\"marker\": {\"colorbar\": {\"outlinewidth\": 0, \"ticks\": \"\"}}, \"type\": \"scattergl\"}], \"scattermapbox\": [{\"marker\": {\"colorbar\": {\"outlinewidth\": 0, \"ticks\": \"\"}}, \"type\": \"scattermapbox\"}], \"scatterpolar\": [{\"marker\": {\"colorbar\": {\"outlinewidth\": 0, \"ticks\": \"\"}}, \"type\": \"scatterpolar\"}], \"scatterpolargl\": [{\"marker\": {\"colorbar\": {\"outlinewidth\": 0, \"ticks\": \"\"}}, \"type\": \"scatterpolargl\"}], \"scatterternary\": [{\"marker\": {\"colorbar\": {\"outlinewidth\": 0, \"ticks\": \"\"}}, \"type\": \"scatterternary\"}], \"surface\": [{\"colorbar\": {\"outlinewidth\": 0, \"ticks\": \"\"}, \"colorscale\": [[0.0, \"#0d0887\"], [0.1111111111111111, \"#46039f\"], [0.2222222222222222, \"#7201a8\"], [0.3333333333333333, \"#9c179e\"], [0.4444444444444444, \"#bd3786\"], [0.5555555555555556, \"#d8576b\"], [0.6666666666666666, \"#ed7953\"], [0.7777777777777778, \"#fb9f3a\"], [0.8888888888888888, \"#fdca26\"], [1.0, \"#f0f921\"]], \"type\": \"surface\"}], \"table\": [{\"cells\": {\"fill\": {\"color\": \"#EBF0F8\"}, \"line\": {\"color\": \"white\"}}, \"header\": {\"fill\": {\"color\": \"#C8D4E3\"}, \"line\": {\"color\": \"white\"}}, \"type\": \"table\"}]}, \"layout\": {\"annotationdefaults\": {\"arrowcolor\": \"#2a3f5f\", \"arrowhead\": 0, \"arrowwidth\": 1}, \"autotypenumbers\": \"strict\", \"coloraxis\": {\"colorbar\": {\"outlinewidth\": 0, \"ticks\": \"\"}}, \"colorscale\": {\"diverging\": [[0, \"#8e0152\"], [0.1, \"#c51b7d\"], [0.2, \"#de77ae\"], [0.3, \"#f1b6da\"], [0.4, \"#fde0ef\"], [0.5, \"#f7f7f7\"], [0.6, \"#e6f5d0\"], [0.7, \"#b8e186\"], [0.8, \"#7fbc41\"], [0.9, \"#4d9221\"], [1, \"#276419\"]], \"sequential\": [[0.0, \"#0d0887\"], [0.1111111111111111, \"#46039f\"], [0.2222222222222222, \"#7201a8\"], [0.3333333333333333, \"#9c179e\"], [0.4444444444444444, \"#bd3786\"], [0.5555555555555556, \"#d8576b\"], [0.6666666666666666, \"#ed7953\"], [0.7777777777777778, \"#fb9f3a\"], [0.8888888888888888, \"#fdca26\"], [1.0, \"#f0f921\"]], \"sequentialminus\": [[0.0, \"#0d0887\"], [0.1111111111111111, \"#46039f\"], [0.2222222222222222, \"#7201a8\"], [0.3333333333333333, \"#9c179e\"], [0.4444444444444444, \"#bd3786\"], [0.5555555555555556, \"#d8576b\"], [0.6666666666666666, \"#ed7953\"], [0.7777777777777778, \"#fb9f3a\"], [0.8888888888888888, \"#fdca26\"], [1.0, \"#f0f921\"]]}, \"colorway\": [\"#636efa\", \"#EF553B\", \"#00cc96\", \"#ab63fa\", \"#FFA15A\", \"#19d3f3\", \"#FF6692\", \"#B6E880\", \"#FF97FF\", \"#FECB52\"], \"font\": {\"color\": \"#2a3f5f\"}, \"geo\": {\"bgcolor\": \"white\", \"lakecolor\": \"white\", \"landcolor\": \"#E5ECF6\", \"showlakes\": true, \"showland\": true, \"subunitcolor\": \"white\"}, \"hoverlabel\": {\"align\": \"left\"}, \"hovermode\": \"closest\", \"mapbox\": {\"style\": \"light\"}, \"paper_bgcolor\": \"white\", \"plot_bgcolor\": \"#E5ECF6\", \"polar\": {\"angularaxis\": {\"gridcolor\": \"white\", \"linecolor\": \"white\", \"ticks\": \"\"}, \"bgcolor\": \"#E5ECF6\", \"radialaxis\": {\"gridcolor\": \"white\", \"linecolor\": \"white\", \"ticks\": \"\"}}, \"scene\": {\"xaxis\": {\"backgroundcolor\": \"#E5ECF6\", \"gridcolor\": \"white\", \"gridwidth\": 2, \"linecolor\": \"white\", \"showbackground\": true, \"ticks\": \"\", \"zerolinecolor\": \"white\"}, \"yaxis\": {\"backgroundcolor\": \"#E5ECF6\", \"gridcolor\": \"white\", \"gridwidth\": 2, \"linecolor\": \"white\", \"showbackground\": true, \"ticks\": \"\", \"zerolinecolor\": \"white\"}, \"zaxis\": {\"backgroundcolor\": \"#E5ECF6\", \"gridcolor\": \"white\", \"gridwidth\": 2, \"linecolor\": \"white\", \"showbackground\": true, \"ticks\": \"\", \"zerolinecolor\": \"white\"}}, \"shapedefaults\": {\"line\": {\"color\": \"#2a3f5f\"}}, \"ternary\": {\"aaxis\": {\"gridcolor\": \"white\", \"linecolor\": \"white\", \"ticks\": \"\"}, \"baxis\": {\"gridcolor\": \"white\", \"linecolor\": \"white\", \"ticks\": \"\"}, \"bgcolor\": \"#E5ECF6\", \"caxis\": {\"gridcolor\": \"white\", \"linecolor\": \"white\", \"ticks\": \"\"}}, \"title\": {\"x\": 0.05}, \"xaxis\": {\"automargin\": true, \"gridcolor\": \"white\", \"linecolor\": \"white\", \"ticks\": \"\", \"title\": {\"standoff\": 15}, \"zerolinecolor\": \"white\", \"zerolinewidth\": 2}, \"yaxis\": {\"automargin\": true, \"gridcolor\": \"white\", \"linecolor\": \"white\", \"ticks\": \"\", \"title\": {\"standoff\": 15}, \"zerolinecolor\": \"white\", \"zerolinewidth\": 2}}}, \"xaxis\": {\"anchor\": \"y\", \"domain\": [0.0, 0.2888888888888889], \"range\": [0, 50], \"tickvals\": [0, 10, 20, 30, 40, 50], \"title\": {\"text\": \"$Temporal\\\\: Resolutions\\\\: [s]$\"}}, \"xaxis2\": {\"anchor\": \"y2\", \"domain\": [0.35555555555555557, 0.6444444444444445], \"range\": [0, 50], \"tickvals\": [0, 10, 20, 30, 40, 50], \"title\": {\"text\": \"$Temporal\\\\: Resolutions\\\\: [s]$\"}}, \"xaxis3\": {\"anchor\": \"y3\", \"domain\": [0.7111111111111111, 1.0], \"range\": [0, 50], \"tickvals\": [0, 10, 20, 30, 40, 50], \"title\": {\"text\": \"$Temporal\\\\: Resolutions\\\\: [s]$\"}}, \"yaxis\": {\"anchor\": \"x\", \"domain\": [0.0, 1.0], \"range\": [-100, 100], \"tickvals\": [-100, -80, -60, -40, -20, 0, 20, 40, 60, 80, 100], \"title\": {\"text\": \"$Percent\\\\: Change$\"}}, \"yaxis2\": {\"anchor\": \"x2\", \"domain\": [0.0, 1.0], \"range\": [-100, 100], \"tickvals\": [-100, -80, -60, -40, -20, 0, 20, 40, 60, 80, 100], \"title\": {\"text\": \"$Percent\\\\: Change$\"}}, \"yaxis3\": {\"anchor\": \"x3\", \"domain\": [0.0, 1.0], \"range\": [-100, 100], \"tickvals\": [-100, -80, -60, -40, -20, 0, 20, 40, 60, 80, 100], \"title\": {\"text\": \"$Percent\\\\: Change$\"}}},                        {\"responsive\": true}                    ).then(function(){\n",
       "                            \n",
       "var gd = document.getElementById('d5d9028b-20bf-4e80-b1d7-9bab94772459');\n",
       "var x = new MutationObserver(function (mutations, observer) {{\n",
       "        var display = window.getComputedStyle(gd).display;\n",
       "        if (!display || display === 'none') {{\n",
       "            console.log([gd, 'removed!']);\n",
       "            Plotly.purge(gd);\n",
       "            observer.disconnect();\n",
       "        }}\n",
       "}});\n",
       "\n",
       "// Listen for the removal of the full notebook cells\n",
       "var notebookContainer = gd.closest('#notebook-container');\n",
       "if (notebookContainer) {{\n",
       "    x.observe(notebookContainer, {childList: true});\n",
       "}}\n",
       "\n",
       "// Listen for the clearing of the current output cell\n",
       "var outputEl = gd.closest('.output');\n",
       "if (outputEl) {{\n",
       "    x.observe(outputEl, {childList: true});\n",
       "}}\n",
       "\n",
       "                        })                };                });            </script>        </div>"
      ]
     },
     "metadata": {},
     "output_type": "display_data"
    }
   ],
   "source": [
    "fig = make_subplots(rows=1, cols=3, \n",
    "                    subplot_titles=(r'$K^{trans}$', r'$V_e$', r'$V_p$'))\n",
    "\n",
    "\n",
    "line_colours = ['#585e9a', '#f36a61']\n",
    "line_names = ['RRIFT', 'ETM']\n",
    "\n",
    "file = loadmat('fig10vars.mat')\n",
    "TRes = np.squeeze(np.asarray(np.reshape(file['TRes'], 10)))\n",
    "\n",
    "errQt1 = file['errQt1']\n",
    "errMd1 = np.squeeze(np.asarray(np.reshape(file['errMd1'], 10)))\n",
    "\n",
    "errQt2 = file['errQt2']\n",
    "errMd2 = np.squeeze(np.asarray(np.reshape(file['errMd2'], 10)))\n",
    "\n",
    "errQt3 = file['errQt3']\n",
    "errMd3 = np.squeeze(np.asarray(np.reshape(file['errMd3'], 10)))\n",
    "\n",
    "errQt4 = file['errQt4']\n",
    "errMd4 = np.squeeze(np.asarray(np.reshape(file['errMd4'], 10)))\n",
    "\n",
    "errQt5 = file['errQt5']\n",
    "errMd5 = np.squeeze(np.asarray(np.reshape(file['errMd5'], 10)))\n",
    "\n",
    "errQt6 = file['errQt6']\n",
    "errMd6 = np.squeeze(np.asarray(np.reshape(file['errMd6'], 10)))\n",
    "\n",
    "\n",
    "# First subplot\n",
    "\n",
    "err_negative = np.squeeze(np.asarray(np.reshape(abs(errQt1[0,:]-errMd1), 10)))\n",
    "err_positive = np.squeeze(np.asarray(np.reshape(abs(errQt1[1,:]-errMd1), 10)))\n",
    "\n",
    "fig.append_trace(go.Scatter(\n",
    "        name=line_names[0],\n",
    "        x=TRes,\n",
    "        y=errMd1,\n",
    "        showlegend=False,\n",
    "        legendgroup=1,\n",
    "        error_y=dict(\n",
    "            type='data', # value of error bar given in data coordinates\n",
    "            array=err_positive,\n",
    "            arrayminus=err_negative,\n",
    "            symmetric=False,\n",
    "            thickness=4, width=9),\n",
    "        line_color=line_colours[0],\n",
    "    ),row=1, col=1)\n",
    "\n",
    "err_negative = np.squeeze(np.asarray(np.reshape(abs(errQt2[0,:]-errMd2), 10)))\n",
    "err_positive = np.squeeze(np.asarray(np.reshape(abs(errQt2[1,:]-errMd2), 10)))\n",
    "\n",
    "fig.append_trace(go.Scatter(\n",
    "        name=line_names[1],\n",
    "        x=TRes,\n",
    "        y=errMd2,\n",
    "        showlegend=False,\n",
    "        legendgroup=2,\n",
    "        error_y=dict(\n",
    "            type='data', # value of error bar given in data coordinates\n",
    "            array=err_positive,\n",
    "            arrayminus=err_negative,\n",
    "            symmetric=False,\n",
    "            thickness=4, width=9),\n",
    "        line_color=line_colours[1],\n",
    "    ),row=1, col=1)\n",
    "\n",
    "\n",
    "\n",
    "# Second subplot \n",
    "\n",
    "err_negative = np.squeeze(np.asarray(np.reshape(abs(errQt3[0,:]-errMd3), 10)))\n",
    "err_positive = np.squeeze(np.asarray(np.reshape(abs(errQt3[1,:]-errMd3), 10)))\n",
    "\n",
    "fig.append_trace(go.Scatter(\n",
    "        name=line_names[0],\n",
    "        x=TRes,\n",
    "        y=errMd3,\n",
    "        showlegend=True,\n",
    "        legendgroup=1,\n",
    "        error_y=dict(\n",
    "            type='data', # value of error bar given in data coordinates\n",
    "            array=err_positive,\n",
    "            arrayminus=err_negative,\n",
    "            symmetric=False,\n",
    "            thickness=4, width=9),\n",
    "        line_color=line_colours[0],\n",
    "    ),row=1, col=2)\n",
    "\n",
    "err_negative = np.squeeze(np.asarray(np.reshape(abs(errQt4[0,:]-errMd4), 10)))\n",
    "err_positive = np.squeeze(np.asarray(np.reshape(abs(errQt4[1,:]-errMd4), 10)))\n",
    "\n",
    "fig.append_trace(go.Scatter(\n",
    "        name=line_names[1],\n",
    "        x=TRes,\n",
    "        y=errMd4,\n",
    "        showlegend=True,\n",
    "        legendgroup=2,\n",
    "        error_y=dict(\n",
    "            type='data', # value of error bar given in data coordinates\n",
    "            array=err_positive,\n",
    "            arrayminus=err_negative,\n",
    "            symmetric=False,\n",
    "            thickness=4, width=9),\n",
    "        line_color=line_colours[1],\n",
    "    ),row=1, col=2)\n",
    "\n",
    "# Third subplot\n",
    "\n",
    "err_negative = np.squeeze(np.asarray(np.reshape(abs(errQt5[0,:]-errMd5), 10)))\n",
    "err_positive = np.squeeze(np.asarray(np.reshape(abs(errQt5[1,:]-errMd5), 10)))\n",
    "\n",
    "fig.append_trace(go.Scatter(\n",
    "        name=line_names[0],\n",
    "        x=TRes,\n",
    "        y=errMd5,\n",
    "        showlegend=False,\n",
    "        legendgroup=1,\n",
    "        error_y=dict(\n",
    "            type='data', # value of error bar given in data coordinates\n",
    "            array=err_positive,\n",
    "            arrayminus=err_negative,\n",
    "            symmetric=False,\n",
    "            thickness=4, width=9),\n",
    "        line_color=line_colours[0],\n",
    "    ),row=1, col=3)\n",
    "\n",
    "err_negative = np.squeeze(np.asarray(np.reshape(abs(errQt6[0,:]-errMd6), 10)))\n",
    "err_positive = np.squeeze(np.asarray(np.reshape(abs(errQt6[1,:]-errMd6), 10)))\n",
    "\n",
    "fig.append_trace(go.Scatter(\n",
    "        name=line_names[1],\n",
    "        x=TRes,\n",
    "        y=errMd6,\n",
    "        showlegend=False,\n",
    "        legendgroup=2,\n",
    "        error_y=dict(\n",
    "            type='data', # value of error bar given in data coordinates\n",
    "            array=err_positive,\n",
    "            arrayminus=err_negative,\n",
    "            symmetric=False,\n",
    "            thickness=4, width=9),\n",
    "        line_color=line_colours[1]\n",
    "    ),row=1, col=3)\n",
    "\n",
    "\n",
    "fig.add_hline(y=0, line_dash=\"dot\", line_color=\"black\", line_width=1.69, col=\"all\")\n",
    "\n",
    "fig.update_xaxes(title_text=r'$Temporal\\: Resolutions\\: [s]$',\n",
    "                 range=[0,50], \n",
    "                 tickvals=[0, 10, 20, 30, 40, 50],\n",
    "                 row=1, col=1)\n",
    "fig.update_xaxes(title_text=r'$Temporal\\: Resolutions\\: [s]$',\n",
    "                 range=[0, 50], \n",
    "                 tickvals=[0, 10, 20, 30, 40, 50],\n",
    "                 row=1, col=2)\n",
    "fig.update_xaxes(title_text=r'$Temporal\\: Resolutions\\: [s]$',\n",
    "                 range=[0, 50], \n",
    "                 tickvals=[0, 10, 20, 30, 40, 50],\n",
    "                 row=1, col=3)\n",
    "\n",
    "\n",
    "fig.update_yaxes(title_text=r'$Percent\\: Change$',\n",
    "                 range=[-100, 100], \n",
    "                 tickvals=[-100, -80, -60, -40, -20, 0, 20, 40, 60, 80, 100],\n",
    "                 row=1, col=1)\n",
    "fig.update_yaxes(title_text=r'$Percent\\: Change$',\n",
    "                 range=[-100, 100], \n",
    "                 tickvals=[-100, -80, -60, -40, -20, 0, 20, 40, 60, 80, 100],\n",
    "                 row=1, col=2)\n",
    "fig.update_yaxes(title_text=r'$Percent\\: Change$',\n",
    "                 range=[-100, 100], \n",
    "                 tickvals=[-100, -80, -60, -40, -20, 0, 20, 40, 60, 80, 100],\n",
    "                 row=1, col=3)\n",
    "\n",
    "\n",
    "\n",
    "    \n",
    "\n",
    "\n",
    "    \n",
    "fig.show()"
   ]
  },
  {
   "cell_type": "code",
   "execution_count": null,
   "metadata": {
    "kernel": "SoS"
   },
   "outputs": [],
   "source": []
  }
 ],
 "metadata": {
  "kernelspec": {
   "display_name": "SoS",
   "language": "sos",
   "name": "sos"
  },
  "language_info": {
   "codemirror_mode": "sos",
   "file_extension": ".sos",
   "mimetype": "text/x-sos",
   "name": "sos",
   "nbconvert_exporter": "sos_notebook.converter.SoS_Exporter",
   "pygments_lexer": "sos"
  },
  "sos": {
   "kernels": [
    [
     "MATLAB",
     "matlab",
     "MATLAB",
     "#8ee7f1",
     "octave"
    ],
    [
     "SoS",
     "sos",
     "",
     "",
     "sos"
    ]
   ],
   "panel": {
    "displayed": true,
    "height": 0
   },
   "version": "0.22.3"
  }
 },
 "nbformat": 4,
 "nbformat_minor": 4
}
